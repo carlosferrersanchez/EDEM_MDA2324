{
  "cells": [
    {
      "cell_type": "markdown",
      "metadata": {
        "id": "mYJdsFxinuN5"
      },
      "source": [
        "# Problema\n",
        "\n",
        "Predecir el coste del seguro"
      ]
    },
    {
      "cell_type": "markdown",
      "metadata": {
        "id": "XpPr25I0aINE"
      },
      "source": [
        "## Instrucciones\n",
        "\n",
        " Utilizar el dataset (insurance.csv) para entrenar un modelo de regresión capaz de predecir el valor del seguro en función de las características del cliente. Realizar limpieza, preprocesado modelado y testeo del modelo aportando conclusiones de todos estos pasos."
      ]
    },
    {
      "cell_type": "markdown",
      "metadata": {
        "id": "kNF4GgV_n34K"
      },
      "source": [
        "# El set de datos\n",
        "\n",
        "* age: age of primary beneficiary\n",
        "\n",
        "* sex: insurance contractor gender, female, male\n",
        "\n",
        "* bmi: Body mass index, providing an understanding of body, weights that are relatively high or low relative to height,\n",
        "objective index of body weight (kg / m ^ 2) using the ratio of height to weight, ideally 18.5 to 24.9\n",
        "\n",
        "* children: Number of children covered by health insurance / Number of dependents\n",
        "\n",
        "* smoker: Smoking\n",
        "\n",
        "* region: the beneficiary's residential area in the US, northeast, southeast, southwest, northwest.\n",
        "\n",
        "* charges: Individual medical costs billed by health insurance\n",
        "\n"
      ]
    },
    {
      "cell_type": "code",
      "execution_count": 5,
      "metadata": {
        "id": "LDnXEh9vn2GX"
      },
      "outputs": [],
      "source": [
        "# imports\n",
        "import pandas as pd\n",
        "# from google.colab import drive\n",
        "# drive.mount('/gdrive')\n",
        "\n",
        "import pandas as pd\n",
        "import numpy as np\n",
        "from sklearn.model_selection import train_test_split\n",
        "from sklearn.preprocessing import StandardScaler, OneHotEncoder\n",
        "from sklearn.compose import ColumnTransformer\n",
        "from sklearn.pipeline import Pipeline\n",
        "from sklearn.linear_model import LinearRegression\n",
        "from sklearn.metrics import mean_squared_error, r2_score\n",
        "from sklearn.ensemble import RandomForestRegressor, GradientBoostingRegressor\n",
        "import matplotlib.pyplot as plt"
      ]
    },
    {
      "cell_type": "code",
      "execution_count": 6,
      "metadata": {
        "id": "uZkDH4HMoERG"
      },
      "outputs": [],
      "source": [
        "ruta = \"insurance.csv\"\n",
        "data = pd.read_csv(ruta)"
      ]
    },
    {
      "cell_type": "code",
      "execution_count": 7,
      "metadata": {
        "id": "2C6TxrrjoLca"
      },
      "outputs": [
        {
          "name": "stdout",
          "output_type": "stream",
          "text": [
            "(1338, 7)\n"
          ]
        },
        {
          "data": {
            "text/html": [
              "<div>\n",
              "<style scoped>\n",
              "    .dataframe tbody tr th:only-of-type {\n",
              "        vertical-align: middle;\n",
              "    }\n",
              "\n",
              "    .dataframe tbody tr th {\n",
              "        vertical-align: top;\n",
              "    }\n",
              "\n",
              "    .dataframe thead th {\n",
              "        text-align: right;\n",
              "    }\n",
              "</style>\n",
              "<table border=\"1\" class=\"dataframe\">\n",
              "  <thead>\n",
              "    <tr style=\"text-align: right;\">\n",
              "      <th></th>\n",
              "      <th>age</th>\n",
              "      <th>sex</th>\n",
              "      <th>bmi</th>\n",
              "      <th>children</th>\n",
              "      <th>smoker</th>\n",
              "      <th>region</th>\n",
              "      <th>charges</th>\n",
              "    </tr>\n",
              "  </thead>\n",
              "  <tbody>\n",
              "    <tr>\n",
              "      <th>0</th>\n",
              "      <td>19</td>\n",
              "      <td>female</td>\n",
              "      <td>27.900</td>\n",
              "      <td>0</td>\n",
              "      <td>yes</td>\n",
              "      <td>southwest</td>\n",
              "      <td>16884.92400</td>\n",
              "    </tr>\n",
              "    <tr>\n",
              "      <th>1</th>\n",
              "      <td>18</td>\n",
              "      <td>male</td>\n",
              "      <td>33.770</td>\n",
              "      <td>1</td>\n",
              "      <td>no</td>\n",
              "      <td>southeast</td>\n",
              "      <td>1725.55230</td>\n",
              "    </tr>\n",
              "    <tr>\n",
              "      <th>2</th>\n",
              "      <td>28</td>\n",
              "      <td>male</td>\n",
              "      <td>33.000</td>\n",
              "      <td>3</td>\n",
              "      <td>no</td>\n",
              "      <td>southeast</td>\n",
              "      <td>4449.46200</td>\n",
              "    </tr>\n",
              "    <tr>\n",
              "      <th>3</th>\n",
              "      <td>33</td>\n",
              "      <td>male</td>\n",
              "      <td>22.705</td>\n",
              "      <td>0</td>\n",
              "      <td>no</td>\n",
              "      <td>northwest</td>\n",
              "      <td>21984.47061</td>\n",
              "    </tr>\n",
              "    <tr>\n",
              "      <th>4</th>\n",
              "      <td>32</td>\n",
              "      <td>male</td>\n",
              "      <td>28.880</td>\n",
              "      <td>0</td>\n",
              "      <td>no</td>\n",
              "      <td>northwest</td>\n",
              "      <td>3866.85520</td>\n",
              "    </tr>\n",
              "  </tbody>\n",
              "</table>\n",
              "</div>"
            ],
            "text/plain": [
              "   age     sex     bmi  children smoker     region      charges\n",
              "0   19  female  27.900         0    yes  southwest  16884.92400\n",
              "1   18    male  33.770         1     no  southeast   1725.55230\n",
              "2   28    male  33.000         3     no  southeast   4449.46200\n",
              "3   33    male  22.705         0     no  northwest  21984.47061\n",
              "4   32    male  28.880         0     no  northwest   3866.85520"
            ]
          },
          "execution_count": 7,
          "metadata": {},
          "output_type": "execute_result"
        }
      ],
      "source": [
        "print(data.shape)\n",
        "data.head()"
      ]
    },
    {
      "cell_type": "markdown",
      "metadata": {
        "id": "suOncPeIo2Ln"
      },
      "source": [
        "# Objetivo\n",
        "\n",
        "Generar un model de regresión capaz de predecir el valor del seguro en base a las características del cliente.\n",
        "\n",
        "* Aplicar las técnicas oportunas de procesamiento de datos\n",
        "\n",
        "* Valorar diferentes modelos de regresión\n",
        "\n",
        "* Comparación entre modelos\n",
        "\n",
        "* Ensemble\n",
        "\n",
        "* Métricas\n",
        "\n",
        "* Conclusiones finales"
      ]
    },
    {
      "cell_type": "markdown",
      "metadata": {
        "id": "Ee-3csHRJxqW"
      },
      "source": [
        "## Implementación"
      ]
    },
    {
      "cell_type": "code",
      "execution_count": 14,
      "metadata": {
        "id": "oGEq8EGTpp7g"
      },
      "outputs": [],
      "source": [
        "# Preparación de datos\n",
        "X = data.drop('charges', axis=1)\n",
        "y = data['charges']\n",
        "\n",
        "# Preprocesdo de características categóricas y numéricas\n",
        "categoricas = ['sex', 'smoker', 'region']\n",
        "numericas = ['age', 'bmi', 'children']\n",
        "\n",
        "transformer_categorico = Pipeline(steps=[\n",
        "    ('onehot', OneHotEncoder(handle_unknown='ignore'))\n",
        "])\n",
        "\n",
        "transformer_numerico = Pipeline(steps=[\n",
        "    ('scaler', StandardScaler())\n",
        "])\n",
        "\n",
        "preprocessor = ColumnTransformer(\n",
        "    transformers=[\n",
        "        ('num', transformer_numerico, numericas),\n",
        "        ('cat', transformer_categorico, categoricas)\n",
        "    ])\n",
        "\n",
        "# Dividisión de datos en conjuntos de entrenamiento y prueba\n",
        "X_train, X_test, y_train, y_test = train_test_split(X, y, test_size=0.2, random_state=42)\n"
      ]
    },
    {
      "cell_type": "markdown",
      "metadata": {},
      "source": [
        "## Regresión lineal"
      ]
    },
    {
      "cell_type": "code",
      "execution_count": 15,
      "metadata": {},
      "outputs": [
        {
          "name": "stdout",
          "output_type": "stream",
          "text": [
            "Linear Regression - MSE: 33966400.41760418\n",
            "Linear Regression - R2 Score: 0.7812130244722545\n"
          ]
        }
      ],
      "source": [
        "# Modelo de Regresión Lineal\n",
        "linear_regression_pipeline = Pipeline(steps=[\n",
        "    ('preprocessor', preprocessor),\n",
        "    ('regressor', LinearRegression())\n",
        "])\n",
        "\n",
        "# Entrenar el modelo\n",
        "linear_regression_pipeline.fit(X_train, y_train)\n",
        "\n",
        "# Hacer predicciones\n",
        "y_pred_lr = linear_regression_pipeline.predict(X_test)\n",
        "\n",
        "# Evaluar el modelo\n",
        "mse_lr = mean_squared_error(y_test, y_pred_lr)\n",
        "r2_lr = r2_score(y_test, y_pred_lr)\n",
        "\n",
        "print(\"Linear Regression - MSE:\", mse_lr)\n",
        "print(\"Linear Regression - R2 Score:\", r2_lr)"
      ]
    },
    {
      "cell_type": "markdown",
      "metadata": {},
      "source": [
        "## Random Forest"
      ]
    },
    {
      "cell_type": "code",
      "execution_count": 16,
      "metadata": {},
      "outputs": [
        {
          "name": "stdout",
          "output_type": "stream",
          "text": [
            "Random Forest - MSE: 21083936.28775936\n",
            "Random Forest - R2 Score: 0.864192537451576\n"
          ]
        }
      ],
      "source": [
        "# Modelo de Random Forest\n",
        "random_forest_pipeline = Pipeline(steps=[\n",
        "    ('preprocessor', preprocessor),\n",
        "    ('regressor', RandomForestRegressor(random_state=42))\n",
        "])\n",
        "\n",
        "# Entrenar el modelo\n",
        "random_forest_pipeline.fit(X_train, y_train)\n",
        "\n",
        "# Hacer predicciones\n",
        "y_pred_rf = random_forest_pipeline.predict(X_test)\n",
        "\n",
        "# Evaluar el modelo\n",
        "mse_rf = mean_squared_error(y_test, y_pred_rf)\n",
        "r2_rf = r2_score(y_test, y_pred_rf)\n",
        "\n",
        "print(\"Random Forest - MSE:\", mse_rf)\n",
        "print(\"Random Forest - R2 Score:\", r2_rf)"
      ]
    },
    {
      "cell_type": "markdown",
      "metadata": {},
      "source": [
        "## Gradient Boost"
      ]
    },
    {
      "cell_type": "code",
      "execution_count": 17,
      "metadata": {},
      "outputs": [
        {
          "name": "stdout",
          "output_type": "stream",
          "text": [
            "Gradient Boosting - MSE: 18732863.283815846\n",
            "Gradient Boosting - R2 Score: 0.8793364486536337\n"
          ]
        }
      ],
      "source": [
        "# Modelo de Gradient Boosting\n",
        "gb_pipeline = Pipeline(steps=[\n",
        "    ('preprocessor', preprocessor),\n",
        "    ('regressor', GradientBoostingRegressor(random_state=42))\n",
        "])\n",
        "\n",
        "# Entrenar el modelo\n",
        "gb_pipeline.fit(X_train, y_train)\n",
        "\n",
        "# Hacer predicciones\n",
        "y_pred_gb = gb_pipeline.predict(X_test)\n",
        "\n",
        "# Evaluar el modelo\n",
        "mse_gb = mean_squared_error(y_test, y_pred_gb)\n",
        "r2_gb = r2_score(y_test, y_pred_gb)\n",
        "\n",
        "print(\"Gradient Boosting - MSE:\", mse_gb)\n",
        "print(\"Gradient Boosting - R2 Score:\", r2_gb)"
      ]
    },
    {
      "cell_type": "markdown",
      "metadata": {},
      "source": [
        "## Comparando LR, RF y GB"
      ]
    },
    {
      "cell_type": "code",
      "execution_count": 18,
      "metadata": {},
      "outputs": [
        {
          "name": "stdout",
          "output_type": "stream",
          "text": [
            "               Model           MSE  R2 Score\n",
            "0  Linear Regression  3.396640e+07  0.781213\n",
            "1      Random Forest  2.108394e+07  0.864193\n",
            "2  Gradient Boosting  1.873286e+07  0.879336\n"
          ]
        },
        {
          "data": {
            "image/png": "[encoded data removed]",
            "text/plain": [
              "<Figure size 1000x1000 with 2 Axes>"
            ]
          },
          "metadata": {},
          "output_type": "display_data"
        }
      ],
      "source": [
        "# Mostrar los resultados en un DataFrame\n",
        "results = pd.DataFrame({\n",
        "    'Model': ['Linear Regression', 'Random Forest', 'Gradient Boosting'],\n",
        "    'MSE': [mse_lr, mse_rf, mse_gb],\n",
        "    'R2 Score': [r2_lr, r2_rf, r2_gb]\n",
        "})\n",
        "\n",
        "print(results)\n",
        "\n",
        "# Visualizar los resultados\n",
        "results.plot(kind='bar', x='Model', y=['MSE', 'R2 Score'], subplots=True, layout=(2, 1), figsize=(10, 10), legend=False)\n",
        "plt.tight_layout()\n",
        "plt.show()\n"
      ]
    },
    {
      "cell_type": "markdown",
      "metadata": {
        "id": "j2PGzN9SpfcP"
      },
      "source": [
        "# Conclusiones"
      ]
    },
    {
      "cell_type": "markdown",
      "metadata": {
        "id": "qzrZnPtVpfMO"
      },
      "source": [
        "## Conclusiones\n",
        "\n",
        "En el análisis de diferentes modelos de regresión para predecir el coste del seguro, se obtuvieron los siguientes resultados:\n",
        "\n",
        "| Modelo               | MSE          | R2 Score |\n",
        "|----------------------|--------------|----------|\n",
        "| Regresión lineal (LR)| 33,596,920   | 0.784    |\n",
        "| Random Forest (RF)   | 21,003,640   | 0.865    |\n",
        "| Gradient Boost (GB)  | 18,732,860   | 0.879    |\n",
        "\n",
        "### Análisis\n",
        "\n",
        "- **LR**: Aunque es un modelo sencillo y fácil de interpretar, su rendimiento fue el más bajo en términos de MSE y R2 Score.\n",
        "- **RF**: Este modelo mejoró significativamente el rendimiento con una disminución considerable en el MSE y un aumento en el R2 Score.\n",
        "- **GB**: Este modelo proporcionó los mejores resultados, con el MSE más bajo y el R2 Score más alto, lo que indica una mayor precisión en las predicciones.\n",
        "\n",
        "### Conclusión Final\n",
        "\n",
        "El modelo de **GB** es el más adecuado para este problema de predicción de costes de seguro, dado su mejor rendimiento en comparación con la LR y RF. Esto sugiere que los modelos más complejos y avanzados pueden capturar mejor las relaciones no lineales en los datos, ofreciendo predicciones más precisas.\n"
      ]
    },
    {
      "cell_type": "markdown",
      "metadata": {},
      "source": []
    }
  ],
  "metadata": {
    "colab": {
      "provenance": []
    },
    "kernelspec": {
      "display_name": "Python 3",
      "name": "python3"
    },
    "language_info": {
      "codemirror_mode": {
        "name": "ipython",
        "version": 3
      },
      "file_extension": ".py",
      "mimetype": "text/x-python",
      "name": "python",
      "nbconvert_exporter": "python",
      "pygments_lexer": "ipython3",
      "version": "3.11.9"
    }
  },
  "nbformat": 4,
  "nbformat_minor": 0
}

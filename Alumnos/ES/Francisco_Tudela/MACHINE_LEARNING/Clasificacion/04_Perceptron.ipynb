{
  "nbformat": 4,
  "nbformat_minor": 0,
  "metadata": {
    "colab": {
      "provenance": []
    },
    "kernelspec": {
      "name": "python3",
      "display_name": "Python 3"
    },
    "language_info": {
      "name": "python"
    }
  },
  "cells": [
    {
      "cell_type": "markdown",
      "source": [
        "# ENTREGABLE 5"
      ],
      "metadata": {
        "id": "xr0fIzfVX-m2"
      }
    },
    {
      "cell_type": "markdown",
      "source": [
        "# INSTRUCCIONES"
      ],
      "metadata": {
        "id": "XkFBXXIeYBul"
      }
    },
    {
      "cell_type": "markdown",
      "source": [
        "Entrenar un perceptrón para que sea capaz de simular el comportamiento de una puerta AND.\n",
        "\n",
        "- Generar 5000 muestras aleatorias de entrenamiento, 500 de validación y 500 de test.\n",
        "\n",
        "\n",
        "*Pistas*\n",
        "\n",
        " * w es un vector que corresponde al valor de los pesos de cada neurona de entrada\n",
        " * b es un valor que corresponde al bias del modelo\n",
        " * El valor de la suma ponderada será el valor resultante de: *(pesos x entradas) + bias*. Para ello utilizar el producto escalar (*np.dot*)\n"
      ],
      "metadata": {
        "id": "Qy5ok3zYYDsU"
      }
    },
    {
      "cell_type": "code",
      "source": [
        "import numpy as np\n",
        "from tqdm import tqdm\n",
        "import matplotlib.pyplot as plt\n",
        "from sklearn.metrics import confusion_matrix"
      ],
      "metadata": {
        "id": "E94bkgYT0jcE"
      },
      "execution_count": 1,
      "outputs": []
    },
    {
      "cell_type": "code",
      "execution_count": 2,
      "metadata": {
        "id": "7-EvIbuU0hW3"
      },
      "outputs": [],
      "source": [
        "class Perceptron:\n",
        "    def __init__(self, input_size):\n",
        "        # Inicializamos los pesos y el sesgo de manera aleatoria\n",
        "        self.weights = np.random.rand(input_size)\n",
        "        self.bias = np.random.rand()\n",
        "\n",
        "    def sigmoid(self, x):\n",
        "        # Función de activación: sigmoide\n",
        "        return 1 / (1 + np.exp(-x))\n",
        "\n",
        "    def sigmoid_derivative(self, x):\n",
        "        # Derivada de la función sigmoide\n",
        "        return self.sigmoid(x) * (1 - self.sigmoid(x))\n",
        "\n",
        "    def predict(self, inputs):\n",
        "        # Calculamos la suma ponderada de las entradas\n",
        "        weighted_sum = np.dot(inputs, self.weights) + self.bias\n",
        "        # Aplicamos la función de activación y devolvemos la predicción\n",
        "        return self.sigmoid(weighted_sum)\n",
        "\n",
        "    def train(self, X_train, Y_train, X_validation, Y_validation, learning_rate=0.1, epochs=100):\n",
        "\n",
        "        train_error_by_epoch = []\n",
        "        val_error_by_epoch = []\n",
        "\n",
        "        for epoch in range(epochs):\n",
        "            train_error_acum = 0\n",
        "            for i in range(X_train.shape[0]):\n",
        "\n",
        "                inputs = X_train[i]\n",
        "\n",
        "                # Calcular la predicción del perceptrón\n",
        "                prediction = self.predict(inputs)\n",
        "\n",
        "                # Calcular el error\n",
        "                diferencia = Y_train[i] - prediction\n",
        "                error = diferencia ** 2\n",
        "                train_error_acum += error # Aquí se acumula el error\n",
        "\n",
        "                # Actualizar pesos y sesgo mediante el descenso del gradiente\n",
        "                weights_derivative = -2 * diferencia * self.sigmoid_derivative(prediction) * inputs\n",
        "                bias_derivative = -2 * diferencia * self.sigmoid_derivative(prediction)\n",
        "                self.weights = self.weights - learning_rate * weights_derivative\n",
        "                self.bias = self.bias - learning_rate * bias_derivative\n",
        "\n",
        "            # Calcular el error promedio por epoch\n",
        "            train_error_acum /= X_train.shape[0]\n",
        "            train_error_by_epoch.append(train_error_acum)\n",
        "\n",
        "            val_error_acum = 0\n",
        "            for i in range(X_validation.shape[0]):\n",
        "                inputs = X_validation[i]\n",
        "                prediction = self.predict(inputs)\n",
        "\n",
        "                diferencia = Y_validation[i] - prediction\n",
        "                error = diferencia ** 2\n",
        "                val_error_acum += error # Aquí se acumula el error\n",
        "\n",
        "            # Calcular el error promedio de validación por epoch\n",
        "            val_error_acum /= X_validation.shape[0]\n",
        "            val_error_by_epoch.append(val_error_acum)\n",
        "\n",
        "            # Visualización del progreso\n",
        "            if epoch % 10 == 0:\n",
        "                print('epoch:', epoch, '| train error:', train_error_acum, '| val error:', val_error_acum)\n",
        "\n",
        "        # Visualización del error de entrenamiento por epoch\n",
        "        plt.figure()\n",
        "        plt.plot(range(epochs), train_error_by_epoch, '-b')\n",
        "        plt.xlabel('Epoch')\n",
        "        plt.ylabel('Error cuadrático promedio')\n",
        "        plt.title('Error de Entrenamiento por Epoch')\n",
        "        plt.show()\n",
        "\n",
        "        # Visualización del error de validación por epoch\n",
        "        plt.figure()\n",
        "        plt.plot(range(epochs), val_error_by_epoch, '-b')\n",
        "        plt.xlabel('Epoch')\n",
        "        plt.ylabel('Error cuadrático promedio')\n",
        "        plt.title('Error de Validación por Epoch')\n",
        "        plt.show()\n"
      ]
    },
    {
      "cell_type": "code",
      "source": [
        "# Datos de entrenamiento y validación para la puerta AND\n",
        "# Generar conjuntos de datos\n",
        "np.random.seed(42)\n",
        "\n",
        "# Generar datos de entrenamiento\n",
        "X_train = np.random.randint(2, size=(5000, 2))\n",
        "Y_train = np.logical_and(X_train[:, 0], X_train[:, 1]).astype(int)\n",
        "\n",
        "# Generar datos de validación\n",
        "X_validation = np.random.randint(2, size=(500, 2))\n",
        "Y_validation = np.logical_and(X_validation[:, 0], X_validation[:, 1]).astype(int)\n",
        "\n",
        "# Generar datos de prueba\n",
        "X_test = np.random.randint(2, size=(500, 2))\n",
        "Y_test = np.logical_and(X_test[:, 0], X_test[:, 1]).astype(int)\n",
        "\n",
        "print(f'X_train shape: {X_train.shape}, Y_train shape: {Y_train.shape}')\n",
        "print(f'X_validation shape: {X_validation.shape}, Y_validation shape: {Y_validation.shape}')\n",
        "print(f'X_test shape: {X_test.shape}, Y_test shape: {Y_test.shape}')\n"
      ],
      "metadata": {
        "id": "Qv73YJdB2cxR",
        "colab": {
          "base_uri": "https://localhost:8080/"
        },
        "outputId": "e3c3c264-47c1-48a4-8f10-4ccfe50ad0f1"
      },
      "execution_count": 3,
      "outputs": [
        {
          "output_type": "stream",
          "name": "stdout",
          "text": [
            "X_train shape: (5000, 2), Y_train shape: (5000,)\n",
            "X_validation shape: (500, 2), Y_validation shape: (500,)\n",
            "X_test shape: (500, 2), Y_test shape: (500,)\n"
          ]
        }
      ]
    },
    {
      "cell_type": "code",
      "source": [
        "# Crear y entrenar el perceptrón para la puerta AND\n",
        "N_inputs = X_train.shape[1]\n",
        "perceptron_and = Perceptron(input_size=N_inputs)\n",
        "\n",
        "# Entrenar el perceptrón\n",
        "epochs = 100\n",
        "learning_rate = 0.01\n",
        "perceptron_and.train(X_train, Y_train, X_validation, Y_validation, learning_rate, epochs)\n"
      ],
      "metadata": {
        "id": "YZ9O9kZr2e1m",
        "colab": {
          "base_uri": "https://localhost:8080/",
          "height": 1000
        },
        "outputId": "75cdf5b7-ded4-4280-85b0-7dc7819c5475"
      },
      "execution_count": 5,
      "outputs": [
        {
          "output_type": "stream",
          "name": "stdout",
          "text": [
            "epoch: 0 | train error: 0.15899865304805966 | val error: 0.09433543714589979\n",
            "epoch: 10 | train error: 0.006045498508011107 | val error: 0.005691672966991641\n",
            "epoch: 20 | train error: 0.001835662574750139 | val error: 0.0017924020510866954\n",
            "epoch: 30 | train error: 0.0008652093416100895 | val error: 0.0008574774831373145\n",
            "epoch: 40 | train error: 0.0004996200358177004 | val error: 0.0004991618194071084\n",
            "epoch: 50 | train error: 0.00032430903412512704 | val error: 0.0003256508262255967\n",
            "epoch: 60 | train error: 0.00022713937840235004 | val error: 0.00022886817256373854\n",
            "epoch: 70 | train error: 0.0001678006751282071 | val error: 0.00016950281712798965\n",
            "epoch: 80 | train error: 0.00012895693392920996 | val error: 0.00013051362659190913\n",
            "epoch: 90 | train error: 0.00010216443616416442 | val error: 0.00010355256277034268\n"
          ]
        },
        {
          "output_type": "display_data",
          "data": {
            "text/plain": [
              "<Figure size 640x480 with 1 Axes>"
            ],
            "image/png": "[encoded data removed]"
          },
          "metadata": {}
        },
        {
          "output_type": "display_data",
          "data": {
            "text/plain": [
              "<Figure size 640x480 with 1 Axes>"
            ],
            "image/png": "[encoded data removed]"
          },
          "metadata": {}
        }
      ]
    },
    {
      "cell_type": "code",
      "source": [
        "# Comprobar predicción del modelo sin entrenar\n",
        "index = 4\n",
        "\n",
        "th = 0.5\n",
        "print('Input:', X_validation[index])\n",
        "inputs = X_validation[index]\n",
        "prob = perceptron_and.predict(inputs)\n",
        "print('Probabilidad:', prob)\n",
        "print('Prediction:', (prob>th).astype('int'))"
      ],
      "metadata": {
        "id": "OATvOY6rZAA-",
        "colab": {
          "base_uri": "https://localhost:8080/"
        },
        "outputId": "f6550301-e3e8-4ce4-c4d2-40b03edf2172"
      },
      "execution_count": 6,
      "outputs": [
        {
          "output_type": "stream",
          "name": "stdout",
          "text": [
            "Input: [0 0]\n",
            "Probabilidad: 9.601850340973906e-07\n",
            "Prediction: 0\n"
          ]
        }
      ]
    },
    {
      "cell_type": "code",
      "source": [
        "# Obtenemos un overview de cómo funciona el modelo sin entrenar de forma aleatoria\n",
        "predictions = []\n",
        "\n",
        "# Itera por cada muestra de validación y genera las predicciones\n",
        "for inputs in X_validation:\n",
        "    prediction = perceptron_and.predict(inputs)\n",
        "    predictions.append(int(prediction > 0.5))  # Consideramos 0.5 como el umbral para clasificación\n",
        "\n",
        "# Calcula la matriz de confusión\n",
        "conf_matrix = confusion_matrix(Y_validation, predictions)\n",
        "\n",
        "# Visualiza la matriz de confusión\n",
        "print(\"Matriz de Confusión:\")\n",
        "print(conf_matrix)\n"
      ],
      "metadata": {
        "id": "sNClS_hgZDa_",
        "colab": {
          "base_uri": "https://localhost:8080/"
        },
        "outputId": "c0e8d3ae-556a-4e56-b262-381ce44f90f1"
      },
      "execution_count": 7,
      "outputs": [
        {
          "output_type": "stream",
          "name": "stdout",
          "text": [
            "Matriz de Confusión:\n",
            "[[372   0]\n",
            " [  0 128]]\n"
          ]
        }
      ]
    },
    {
      "cell_type": "code",
      "source": [
        "# Comprobar ahora la predicción del modelo entrenado en el set de validacion\n",
        "index = 4\n",
        "\n",
        "th = 0.5\n",
        "print('Input:', X_validation[index])\n",
        "inputs = X_validation[index]\n",
        "prob = perceptron_and.predict(inputs)\n",
        "print('Probabilidad:', prob)\n",
        "print('Prediction:', (prob>th).astype('int'))"
      ],
      "metadata": {
        "id": "i7x_ASxyZaue",
        "colab": {
          "base_uri": "https://localhost:8080/"
        },
        "outputId": "6decdc55-e190-4285-e7d6-0e40fd2c2c92"
      },
      "execution_count": 9,
      "outputs": [
        {
          "output_type": "stream",
          "name": "stdout",
          "text": [
            "Input: [0 0]\n",
            "Probabilidad: 6.932885727476799e-10\n",
            "Prediction: 0\n"
          ]
        }
      ]
    },
    {
      "cell_type": "code",
      "source": [
        "# Evaluamos cómo funciona el modelo en el set de validación\n",
        "predictions = []\n",
        "\n",
        "# Itera por cada muestra de validación guardando las predicciones en una lista\n",
        "for inputs in X_validation:\n",
        "    prediction = perceptron_and.predict(inputs)\n",
        "    predictions.append(int(prediction > 0.5))  # Consideramos 0.5 como el umbral para clasificación\n",
        "\n",
        "# Calcula la matriz de confusión\n",
        "conf_matrix = confusion_matrix(Y_validation, predictions)\n",
        "\n",
        "# Visualiza la matriz de confusión\n",
        "print(\"Matriz de Confusión:\")\n",
        "print(conf_matrix)\n"
      ],
      "metadata": {
        "id": "3f1Qjl0GeXqF",
        "colab": {
          "base_uri": "https://localhost:8080/"
        },
        "outputId": "460d6323-dcf4-4818-a562-a803f3713375"
      },
      "execution_count": 10,
      "outputs": [
        {
          "output_type": "stream",
          "name": "stdout",
          "text": [
            "Matriz de Confusión:\n",
            "[[372   0]\n",
            " [  0 128]]\n"
          ]
        }
      ]
    },
    {
      "cell_type": "code",
      "source": [
        "# Evaluamos cómo funciona el modelo en el set de test\n",
        "\n",
        "# Generar el set de test (de forma similar al de validación)\n",
        "X_test = np.random.randint(2, size=(500, 2))\n",
        "Y_test = np.logical_and(X_test[:, 0], X_test[:, 1]).astype(int)\n",
        "\n",
        "# Itera por cada muestra de test guardando las predicciones en una lista\n",
        "predictions_test = []\n",
        "for inputs in X_test:\n",
        "    prediction = perceptron_and.predict(inputs)\n",
        "    predictions_test.append(int(prediction > 0.5))  # Consideramos 0.5 como el umbral para clasificación\n",
        "\n",
        "# Calcula la matriz de confusión\n",
        "conf_matrix_test = confusion_matrix(Y_test, predictions_test)\n",
        "\n",
        "# Visualiza la matriz de confusión\n",
        "print(\"Matriz de Confusión (Test):\")\n",
        "print(conf_matrix_test)\n"
      ],
      "metadata": {
        "id": "1vcJGytH2uqj",
        "colab": {
          "base_uri": "https://localhost:8080/"
        },
        "outputId": "4014aac7-5bbb-4d16-abb7-0a62a3013338"
      },
      "execution_count": 11,
      "outputs": [
        {
          "output_type": "stream",
          "name": "stdout",
          "text": [
            "Matriz de Confusión (Test):\n",
            "[[360   0]\n",
            " [  0 140]]\n"
          ]
        }
      ]
    }
  ]
}
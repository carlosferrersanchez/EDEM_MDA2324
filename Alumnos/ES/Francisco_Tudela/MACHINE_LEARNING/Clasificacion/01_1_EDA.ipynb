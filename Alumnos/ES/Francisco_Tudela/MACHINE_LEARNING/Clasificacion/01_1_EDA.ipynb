{
  "nbformat": 4,
  "nbformat_minor": 0,
  "metadata": {
    "colab": {
      "provenance": []
    },
    "kernelspec": {
      "name": "python3",
      "display_name": "Python 3"
    },
    "language_info": {
      "name": "python"
    }
  },
  "cells": [
    {
      "cell_type": "markdown",
      "metadata": {
        "id": "Sz8ogFjl7a8b"
      },
      "source": [
        "# TUTORIAL: LIMPIEZA DE DATOS CON PYTHON Y PANDAS"
      ]
    },
    {
      "cell_type": "markdown",
      "metadata": {
        "id": "jYJxCZNZDfYe"
      },
      "source": [
        "# 1. El problema del negocio\n",
        "\n",
        "Una entidad bancaria contrata a una empresa de marketing encargada de contactar telefónicamente a posibles clientes para determinar si están interesados o no en adquirir un certificado de depósito a término con el banco.\n",
        "\n",
        "¿Qué perfil tienen los clientes con mayor potencial de conversión?"
      ]
    },
    {
      "cell_type": "markdown",
      "metadata": {
        "id": "4WOEkmPt7aHf"
      },
      "source": [
        "#2. El set de datos\n",
        "\n",
        "La información recolectada por la empresa de mercadeo se encuentra en un archivo CSV (`dataset_banco.csv`) con 45215 filas y 17 columnas.\n",
        "\n",
        "Cada registro contiene 16 características (las primeras 16 columnas) y una categoría (\"yes\" o \"no\" dependiendo de si la persona está o no interesada en adquirir el producto). Las columnas son:\n",
        "\n",
        "1. \"age\":  edad (numérica)\n",
        "2. \"job\": tipo de trabajo (categórica: \"admin.\", \"unknown\", \"unemployed\", \"management\", \"housemaid\", \"entrepreneur\", \"student\", \"blue-collar\",\"self-employed\", \"retired\", \"technician\", \"services\")\n",
        "3. \"marital\": estado civil (categórica: \"married\", \"divorced\", \"single\")\n",
        "4. \"education\": nivel educativo (categórica: \"unknown\", \"secondary\", \"primary\", \"tertiary\")\n",
        "5. \"default\": si dejó de pagar sus obligaciones (categórica: \"yes\", \"no\")\n",
        "6. \"balance\": saldo promedio anual en euros (numérica)\n",
        "7. \"housing\": ¿tiene o no crédito hipotecario? (categórica: \"yes\", \"no\")\n",
        "8. \"loan\": ¿tiene créditos de consumo? (categórica: \"yes\", \"no\")\n",
        "9. \"contact\": medio a través del cual fue contactado (categórica: \"unknown\", \"telephone\", \"cellular\")\n",
        "10. \"day\": último día del mes en el que fue contactada (numérica)\n",
        "11. \"month\": último mes en el que fue contactada (categórica: \"jan\", \"feb\", \"mar\", ..., \"nov\", \"dec\")\n",
        "12. \"duration\": duración (en segundos) del último contacto (numérica)\n",
        "13. \"campaign\": número total de veces que fue contactada durante la campaña (numérica)\n",
        "14. \"pdays\": número de días transcurridos después de haber sido contactado antes de la campaña actual (numérica. -1 indica que no fue contactado previamente)\n",
        "15. \"previous\": número de veces que ha sido contactada antes de esta campaña (numérica)\n",
        "16. \"poutcome\": resultado de la campaña de marketing anterior (categórica: \"unknown\", \"other\", \"failure\", \"success\")\n",
        "17. \"y\": categoría ¿el cliente se suscribió a un depósito a término? (categórica: \"yes\", \"no\")"
      ]
    },
    {
      "cell_type": "markdown",
      "metadata": {
        "id": "7wXHT_PLEFkr"
      },
      "source": [
        "#3. Una primera mirada al dataset"
      ]
    },
    {
      "cell_type": "code",
      "metadata": {
        "id": "SQ_-SdsX7enM"
      },
      "source": [
        "# Importar librerías\n",
        "import pandas as pd\n",
        "import matplotlib.pyplot as plt\n",
        "import seaborn as sns"
      ],
      "execution_count": 82,
      "outputs": []
    },
    {
      "cell_type": "code",
      "metadata": {
        "id": "yECOD3UAEV-a"
      },
      "source": [
        "# Lectura\n",
        "from google.colab import drive\n",
        "\n",
        "ruta = \"/content/dataset_banco.csv\"\n",
        "data = pd.read_csv(ruta)"
      ],
      "execution_count": 83,
      "outputs": []
    },
    {
      "cell_type": "code",
      "source": [
        "print(data.shape)\n",
        "data.head()"
      ],
      "metadata": {
        "id": "DAurjZa07b5Z",
        "colab": {
          "base_uri": "https://localhost:8080/",
          "height": 244
        },
        "outputId": "0e39d938-2629-4b40-dd52-ad694b079ace"
      },
      "execution_count": 84,
      "outputs": [
        {
          "output_type": "stream",
          "name": "stdout",
          "text": [
            "(45215, 17)\n"
          ]
        },
        {
          "output_type": "execute_result",
          "data": {
            "text/plain": [
              "   age           job  marital  education default  balance housing loan  \\\n",
              "0   58    management  married   tertiary      no   2143.0     yes   no   \n",
              "1   44    technician   single  secondary      no     29.0     yes   no   \n",
              "2   33  entrepreneur  married  secondary      no      2.0     yes  yes   \n",
              "3   47   blue-collar  married    unknown      no   1506.0     yes   no   \n",
              "4   33       unknown   single    unknown      no      1.0      no   no   \n",
              "\n",
              "   contact  day month  duration  campaign  pdays  previous poutcome   y  \n",
              "0  unknown    5   may     261.0         1   -1.0         0  unknown  no  \n",
              "1  unknown    5   may     151.0         1   -1.0         0  unknown  no  \n",
              "2  unknown    5   may      76.0         1   -1.0         0  unknown  no  \n",
              "3  unknown    5   may      92.0         1   -1.0         0  unknown  no  \n",
              "4  unknown    5   may     198.0         1   -1.0         0  unknown  no  "
            ],
            "text/html": [
              "\n",
              "  <div id=\"df-9f53e805-fd89-4d77-8a4e-de6de45ac4ec\" class=\"colab-df-container\">\n",
              "    <div>\n",
              "<style scoped>\n",
              "    .dataframe tbody tr th:only-of-type {\n",
              "        vertical-align: middle;\n",
              "    }\n",
              "\n",
              "    .dataframe tbody tr th {\n",
              "        vertical-align: top;\n",
              "    }\n",
              "\n",
              "    .dataframe thead th {\n",
              "        text-align: right;\n",
              "    }\n",
              "</style>\n",
              "<table border=\"1\" class=\"dataframe\">\n",
              "  <thead>\n",
              "    <tr style=\"text-align: right;\">\n",
              "      <th></th>\n",
              "      <th>age</th>\n",
              "      <th>job</th>\n",
              "      <th>marital</th>\n",
              "      <th>education</th>\n",
              "      <th>default</th>\n",
              "      <th>balance</th>\n",
              "      <th>housing</th>\n",
              "      <th>loan</th>\n",
              "      <th>contact</th>\n",
              "      <th>day</th>\n",
              "      <th>month</th>\n",
              "      <th>duration</th>\n",
              "      <th>campaign</th>\n",
              "      <th>pdays</th>\n",
              "      <th>previous</th>\n",
              "      <th>poutcome</th>\n",
              "      <th>y</th>\n",
              "    </tr>\n",
              "  </thead>\n",
              "  <tbody>\n",
              "    <tr>\n",
              "      <th>0</th>\n",
              "      <td>58</td>\n",
              "      <td>management</td>\n",
              "      <td>married</td>\n",
              "      <td>tertiary</td>\n",
              "      <td>no</td>\n",
              "      <td>2143.0</td>\n",
              "      <td>yes</td>\n",
              "      <td>no</td>\n",
              "      <td>unknown</td>\n",
              "      <td>5</td>\n",
              "      <td>may</td>\n",
              "      <td>261.0</td>\n",
              "      <td>1</td>\n",
              "      <td>-1.0</td>\n",
              "      <td>0</td>\n",
              "      <td>unknown</td>\n",
              "      <td>no</td>\n",
              "    </tr>\n",
              "    <tr>\n",
              "      <th>1</th>\n",
              "      <td>44</td>\n",
              "      <td>technician</td>\n",
              "      <td>single</td>\n",
              "      <td>secondary</td>\n",
              "      <td>no</td>\n",
              "      <td>29.0</td>\n",
              "      <td>yes</td>\n",
              "      <td>no</td>\n",
              "      <td>unknown</td>\n",
              "      <td>5</td>\n",
              "      <td>may</td>\n",
              "      <td>151.0</td>\n",
              "      <td>1</td>\n",
              "      <td>-1.0</td>\n",
              "      <td>0</td>\n",
              "      <td>unknown</td>\n",
              "      <td>no</td>\n",
              "    </tr>\n",
              "    <tr>\n",
              "      <th>2</th>\n",
              "      <td>33</td>\n",
              "      <td>entrepreneur</td>\n",
              "      <td>married</td>\n",
              "      <td>secondary</td>\n",
              "      <td>no</td>\n",
              "      <td>2.0</td>\n",
              "      <td>yes</td>\n",
              "      <td>yes</td>\n",
              "      <td>unknown</td>\n",
              "      <td>5</td>\n",
              "      <td>may</td>\n",
              "      <td>76.0</td>\n",
              "      <td>1</td>\n",
              "      <td>-1.0</td>\n",
              "      <td>0</td>\n",
              "      <td>unknown</td>\n",
              "      <td>no</td>\n",
              "    </tr>\n",
              "    <tr>\n",
              "      <th>3</th>\n",
              "      <td>47</td>\n",
              "      <td>blue-collar</td>\n",
              "      <td>married</td>\n",
              "      <td>unknown</td>\n",
              "      <td>no</td>\n",
              "      <td>1506.0</td>\n",
              "      <td>yes</td>\n",
              "      <td>no</td>\n",
              "      <td>unknown</td>\n",
              "      <td>5</td>\n",
              "      <td>may</td>\n",
              "      <td>92.0</td>\n",
              "      <td>1</td>\n",
              "      <td>-1.0</td>\n",
              "      <td>0</td>\n",
              "      <td>unknown</td>\n",
              "      <td>no</td>\n",
              "    </tr>\n",
              "    <tr>\n",
              "      <th>4</th>\n",
              "      <td>33</td>\n",
              "      <td>unknown</td>\n",
              "      <td>single</td>\n",
              "      <td>unknown</td>\n",
              "      <td>no</td>\n",
              "      <td>1.0</td>\n",
              "      <td>no</td>\n",
              "      <td>no</td>\n",
              "      <td>unknown</td>\n",
              "      <td>5</td>\n",
              "      <td>may</td>\n",
              "      <td>198.0</td>\n",
              "      <td>1</td>\n",
              "      <td>-1.0</td>\n",
              "      <td>0</td>\n",
              "      <td>unknown</td>\n",
              "      <td>no</td>\n",
              "    </tr>\n",
              "  </tbody>\n",
              "</table>\n",
              "</div>\n",
              "    <div class=\"colab-df-buttons\">\n",
              "\n",
              "  <div class=\"colab-df-container\">\n",
              "    <button class=\"colab-df-convert\" onclick=\"convertToInteractive('df-9f53e805-fd89-4d77-8a4e-de6de45ac4ec')\"\n",
              "            title=\"Convert this dataframe to an interactive table.\"\n",
              "            style=\"display:none;\">\n",
              "\n",
              "  <svg xmlns=\"http://www.w3.org/2000/svg\" height=\"24px\" viewBox=\"0 -960 960 960\">\n",
              "    <path d=\"M120-120v-720h720v720H120Zm60-500h600v-160H180v160Zm220 220h160v-160H400v160Zm0 220h160v-160H400v160ZM180-400h160v-160H180v160Zm440 0h160v-160H620v160ZM180-180h160v-160H180v160Zm440 0h160v-160H620v160Z\"/>\n",
              "  </svg>\n",
              "    </button>\n",
              "\n",
              "  <style>\n",
              "    .colab-df-container {\n",
              "      display:flex;\n",
              "      gap: 12px;\n",
              "    }\n",
              "\n",
              "    .colab-df-convert {\n",
              "      background-color: #E8F0FE;\n",
              "      border: none;\n",
              "      border-radius: 50%;\n",
              "      cursor: pointer;\n",
              "      display: none;\n",
              "      fill: #1967D2;\n",
              "      height: 32px;\n",
              "      padding: 0 0 0 0;\n",
              "      width: 32px;\n",
              "    }\n",
              "\n",
              "    .colab-df-convert:hover {\n",
              "      background-color: #E2EBFA;\n",
              "      box-shadow: 0px 1px 2px rgba(60, 64, 67, 0.3), 0px 1px 3px 1px rgba(60, 64, 67, 0.15);\n",
              "      fill: #174EA6;\n",
              "    }\n",
              "\n",
              "    .colab-df-buttons div {\n",
              "      margin-bottom: 4px;\n",
              "    }\n",
              "\n",
              "    [theme=dark] .colab-df-convert {\n",
              "      background-color: #3B4455;\n",
              "      fill: #D2E3FC;\n",
              "    }\n",
              "\n",
              "    [theme=dark] .colab-df-convert:hover {\n",
              "      background-color: #434B5C;\n",
              "      box-shadow: 0px 1px 3px 1px rgba(0, 0, 0, 0.15);\n",
              "      filter: drop-shadow(0px 1px 2px rgba(0, 0, 0, 0.3));\n",
              "      fill: #FFFFFF;\n",
              "    }\n",
              "  </style>\n",
              "\n",
              "    <script>\n",
              "      const buttonEl =\n",
              "        document.querySelector('#df-9f53e805-fd89-4d77-8a4e-de6de45ac4ec button.colab-df-convert');\n",
              "      buttonEl.style.display =\n",
              "        google.colab.kernel.accessAllowed ? 'block' : 'none';\n",
              "\n",
              "      async function convertToInteractive(key) {\n",
              "        const element = document.querySelector('#df-9f53e805-fd89-4d77-8a4e-de6de45ac4ec');\n",
              "        const dataTable =\n",
              "          await google.colab.kernel.invokeFunction('convertToInteractive',\n",
              "                                                    [key], {});\n",
              "        if (!dataTable) return;\n",
              "\n",
              "        const docLinkHtml = 'Like what you see? Visit the ' +\n",
              "          '<a target=\"_blank\" href=https://colab.research.google.com/notebooks/data_table.ipynb>data table notebook</a>'\n",
              "          + ' to learn more about interactive tables.';\n",
              "        element.innerHTML = '';\n",
              "        dataTable['output_type'] = 'display_data';\n",
              "        await google.colab.output.renderOutput(dataTable, element);\n",
              "        const docLink = document.createElement('div');\n",
              "        docLink.innerHTML = docLinkHtml;\n",
              "        element.appendChild(docLink);\n",
              "      }\n",
              "    </script>\n",
              "  </div>\n",
              "\n",
              "\n",
              "<div id=\"df-a78c3ca0-6b9f-4218-8cec-f03d7487ed65\">\n",
              "  <button class=\"colab-df-quickchart\" onclick=\"quickchart('df-a78c3ca0-6b9f-4218-8cec-f03d7487ed65')\"\n",
              "            title=\"Suggest charts\"\n",
              "            style=\"display:none;\">\n",
              "\n",
              "<svg xmlns=\"http://www.w3.org/2000/svg\" height=\"24px\"viewBox=\"0 0 24 24\"\n",
              "     width=\"24px\">\n",
              "    <g>\n",
              "        <path d=\"M19 3H5c-1.1 0-2 .9-2 2v14c0 1.1.9 2 2 2h14c1.1 0 2-.9 2-2V5c0-1.1-.9-2-2-2zM9 17H7v-7h2v7zm4 0h-2V7h2v10zm4 0h-2v-4h2v4z\"/>\n",
              "    </g>\n",
              "</svg>\n",
              "  </button>\n",
              "\n",
              "<style>\n",
              "  .colab-df-quickchart {\n",
              "      --bg-color: #E8F0FE;\n",
              "      --fill-color: #1967D2;\n",
              "      --hover-bg-color: #E2EBFA;\n",
              "      --hover-fill-color: #174EA6;\n",
              "      --disabled-fill-color: #AAA;\n",
              "      --disabled-bg-color: #DDD;\n",
              "  }\n",
              "\n",
              "  [theme=dark] .colab-df-quickchart {\n",
              "      --bg-color: #3B4455;\n",
              "      --fill-color: #D2E3FC;\n",
              "      --hover-bg-color: #434B5C;\n",
              "      --hover-fill-color: #FFFFFF;\n",
              "      --disabled-bg-color: #3B4455;\n",
              "      --disabled-fill-color: #666;\n",
              "  }\n",
              "\n",
              "  .colab-df-quickchart {\n",
              "    background-color: var(--bg-color);\n",
              "    border: none;\n",
              "    border-radius: 50%;\n",
              "    cursor: pointer;\n",
              "    display: none;\n",
              "    fill: var(--fill-color);\n",
              "    height: 32px;\n",
              "    padding: 0;\n",
              "    width: 32px;\n",
              "  }\n",
              "\n",
              "  .colab-df-quickchart:hover {\n",
              "    background-color: var(--hover-bg-color);\n",
              "    box-shadow: 0 1px 2px rgba(60, 64, 67, 0.3), 0 1px 3px 1px rgba(60, 64, 67, 0.15);\n",
              "    fill: var(--button-hover-fill-color);\n",
              "  }\n",
              "\n",
              "  .colab-df-quickchart-complete:disabled,\n",
              "  .colab-df-quickchart-complete:disabled:hover {\n",
              "    background-color: var(--disabled-bg-color);\n",
              "    fill: var(--disabled-fill-color);\n",
              "    box-shadow: none;\n",
              "  }\n",
              "\n",
              "  .colab-df-spinner {\n",
              "    border: 2px solid var(--fill-color);\n",
              "    border-color: transparent;\n",
              "    border-bottom-color: var(--fill-color);\n",
              "    animation:\n",
              "      spin 1s steps(1) infinite;\n",
              "  }\n",
              "\n",
              "  @keyframes spin {\n",
              "    0% {\n",
              "      border-color: transparent;\n",
              "      border-bottom-color: var(--fill-color);\n",
              "      border-left-color: var(--fill-color);\n",
              "    }\n",
              "    20% {\n",
              "      border-color: transparent;\n",
              "      border-left-color: var(--fill-color);\n",
              "      border-top-color: var(--fill-color);\n",
              "    }\n",
              "    30% {\n",
              "      border-color: transparent;\n",
              "      border-left-color: var(--fill-color);\n",
              "      border-top-color: var(--fill-color);\n",
              "      border-right-color: var(--fill-color);\n",
              "    }\n",
              "    40% {\n",
              "      border-color: transparent;\n",
              "      border-right-color: var(--fill-color);\n",
              "      border-top-color: var(--fill-color);\n",
              "    }\n",
              "    60% {\n",
              "      border-color: transparent;\n",
              "      border-right-color: var(--fill-color);\n",
              "    }\n",
              "    80% {\n",
              "      border-color: transparent;\n",
              "      border-right-color: var(--fill-color);\n",
              "      border-bottom-color: var(--fill-color);\n",
              "    }\n",
              "    90% {\n",
              "      border-color: transparent;\n",
              "      border-bottom-color: var(--fill-color);\n",
              "    }\n",
              "  }\n",
              "</style>\n",
              "\n",
              "  <script>\n",
              "    async function quickchart(key) {\n",
              "      const quickchartButtonEl =\n",
              "        document.querySelector('#' + key + ' button');\n",
              "      quickchartButtonEl.disabled = true;  // To prevent multiple clicks.\n",
              "      quickchartButtonEl.classList.add('colab-df-spinner');\n",
              "      try {\n",
              "        const charts = await google.colab.kernel.invokeFunction(\n",
              "            'suggestCharts', [key], {});\n",
              "      } catch (error) {\n",
              "        console.error('Error during call to suggestCharts:', error);\n",
              "      }\n",
              "      quickchartButtonEl.classList.remove('colab-df-spinner');\n",
              "      quickchartButtonEl.classList.add('colab-df-quickchart-complete');\n",
              "    }\n",
              "    (() => {\n",
              "      let quickchartButtonEl =\n",
              "        document.querySelector('#df-a78c3ca0-6b9f-4218-8cec-f03d7487ed65 button');\n",
              "      quickchartButtonEl.style.display =\n",
              "        google.colab.kernel.accessAllowed ? 'block' : 'none';\n",
              "    })();\n",
              "  </script>\n",
              "</div>\n",
              "    </div>\n",
              "  </div>\n"
            ],
            "application/vnd.google.colaboratory.intrinsic+json": {
              "type": "dataframe",
              "variable_name": "data",
              "summary": "{\n  \"name\": \"data\",\n  \"rows\": 45215,\n  \"fields\": [\n    {\n      \"column\": \"age\",\n      \"properties\": {\n        \"dtype\": \"number\",\n        \"std\": 12,\n        \"min\": 18,\n        \"max\": 776,\n        \"num_unique_values\": 85,\n        \"samples\": [\n          89,\n          58,\n          74\n        ],\n        \"semantic_type\": \"\",\n        \"description\": \"\"\n      }\n    },\n    {\n      \"column\": \"job\",\n      \"properties\": {\n        \"dtype\": \"category\",\n        \"num_unique_values\": 18,\n        \"samples\": [\n          \"management\",\n          \"technician\",\n          \"services\"\n        ],\n        \"semantic_type\": \"\",\n        \"description\": \"\"\n      }\n    },\n    {\n      \"column\": \"marital\",\n      \"properties\": {\n        \"dtype\": \"category\",\n        \"num_unique_values\": 6,\n        \"samples\": [\n          \"married\",\n          \"single\",\n          \"Single\"\n        ],\n        \"semantic_type\": \"\",\n        \"description\": \"\"\n      }\n    },\n    {\n      \"column\": \"education\",\n      \"properties\": {\n        \"dtype\": \"category\",\n        \"num_unique_values\": 10,\n        \"samples\": [\n          \"Tertiary\",\n          \"secondary\",\n          \"Secondary\"\n        ],\n        \"semantic_type\": \"\",\n        \"description\": \"\"\n      }\n    },\n    {\n      \"column\": \"default\",\n      \"properties\": {\n        \"dtype\": \"category\",\n        \"num_unique_values\": 2,\n        \"samples\": [\n          \"yes\",\n          \"no\"\n        ],\n        \"semantic_type\": \"\",\n        \"description\": \"\"\n      }\n    },\n    {\n      \"column\": \"balance\",\n      \"properties\": {\n        \"dtype\": \"number\",\n        \"std\": 3924.255524653657,\n        \"min\": -8019.0,\n        \"max\": 527532.0,\n        \"num_unique_values\": 7168,\n        \"samples\": [\n          3276.0,\n          43.0\n        ],\n        \"semantic_type\": \"\",\n        \"description\": \"\"\n      }\n    },\n    {\n      \"column\": \"housing\",\n      \"properties\": {\n        \"dtype\": \"category\",\n        \"num_unique_values\": 2,\n        \"samples\": [\n          \"no\",\n          \"yes\"\n        ],\n        \"semantic_type\": \"\",\n        \"description\": \"\"\n      }\n    },\n    {\n      \"column\": \"loan\",\n      \"properties\": {\n        \"dtype\": \"category\",\n        \"num_unique_values\": 6,\n        \"samples\": [\n          \"no\",\n          \"yes\"\n        ],\n        \"semantic_type\": \"\",\n        \"description\": \"\"\n      }\n    },\n    {\n      \"column\": \"contact\",\n      \"properties\": {\n        \"dtype\": \"category\",\n        \"num_unique_values\": 5,\n        \"samples\": [\n          \"cellular\",\n          \"mobile\"\n        ],\n        \"semantic_type\": \"\",\n        \"description\": \"\"\n      }\n    },\n    {\n      \"column\": \"day\",\n      \"properties\": {\n        \"dtype\": \"number\",\n        \"std\": 8,\n        \"min\": 1,\n        \"max\": 31,\n        \"num_unique_values\": 31,\n        \"samples\": [\n          1,\n          27\n        ],\n        \"semantic_type\": \"\",\n        \"description\": \"\"\n      }\n    },\n    {\n      \"column\": \"month\",\n      \"properties\": {\n        \"dtype\": \"category\",\n        \"num_unique_values\": 12,\n        \"samples\": [\n          \"apr\",\n          \"mar\"\n        ],\n        \"semantic_type\": \"\",\n        \"description\": \"\"\n      }\n    },\n    {\n      \"column\": \"duration\",\n      \"properties\": {\n        \"dtype\": \"number\",\n        \"std\": 257.6051746062185,\n        \"min\": -1389.0,\n        \"max\": 4918.0,\n        \"num_unique_values\": 1575,\n        \"samples\": [\n          1342.0,\n          4.0\n        ],\n        \"semantic_type\": \"\",\n        \"description\": \"\"\n      }\n    },\n    {\n      \"column\": \"campaign\",\n      \"properties\": {\n        \"dtype\": \"number\",\n        \"std\": 3,\n        \"min\": 1,\n        \"max\": 63,\n        \"num_unique_values\": 48,\n        \"samples\": [\n          41,\n          27\n        ],\n        \"semantic_type\": \"\",\n        \"description\": \"\"\n      }\n    },\n    {\n      \"column\": \"pdays\",\n      \"properties\": {\n        \"dtype\": \"number\",\n        \"std\": 100.12062172110123,\n        \"min\": -1.0,\n        \"max\": 871.0,\n        \"num_unique_values\": 559,\n        \"samples\": [\n          249.0,\n          551.0\n        ],\n        \"semantic_type\": \"\",\n        \"description\": \"\"\n      }\n    },\n    {\n      \"column\": \"previous\",\n      \"properties\": {\n        \"dtype\": \"number\",\n        \"std\": 2,\n        \"min\": 0,\n        \"max\": 275,\n        \"num_unique_values\": 41,\n        \"samples\": [\n          17,\n          9\n        ],\n        \"semantic_type\": \"\",\n        \"description\": \"\"\n      }\n    },\n    {\n      \"column\": \"poutcome\",\n      \"properties\": {\n        \"dtype\": \"category\",\n        \"num_unique_values\": 6,\n        \"samples\": [\n          \"unknown\",\n          \"UNK\"\n        ],\n        \"semantic_type\": \"\",\n        \"description\": \"\"\n      }\n    },\n    {\n      \"column\": \"y\",\n      \"properties\": {\n        \"dtype\": \"category\",\n        \"num_unique_values\": 2,\n        \"samples\": [\n          \"yes\",\n          \"no\"\n        ],\n        \"semantic_type\": \"\",\n        \"description\": \"\"\n      }\n    }\n  ]\n}"
            }
          },
          "metadata": {},
          "execution_count": 84
        }
      ]
    },
    {
      "cell_type": "code",
      "source": [
        "# Checking for missing values and data types\n",
        "data_info = data.info()\n",
        "missing_values = data.isnull().sum()\n",
        "\n",
        "data_info, missing_values\n"
      ],
      "metadata": {
        "colab": {
          "base_uri": "https://localhost:8080/"
        },
        "id": "lYbXFzwQEcyp",
        "outputId": "37fe35e8-c902-4c71-a60e-84ba56642c96"
      },
      "execution_count": 85,
      "outputs": [
        {
          "output_type": "stream",
          "name": "stdout",
          "text": [
            "<class 'pandas.core.frame.DataFrame'>\n",
            "RangeIndex: 45215 entries, 0 to 45214\n",
            "Data columns (total 17 columns):\n",
            " #   Column     Non-Null Count  Dtype  \n",
            "---  ------     --------------  -----  \n",
            " 0   age        45215 non-null  int64  \n",
            " 1   job        45213 non-null  object \n",
            " 2   marital    45214 non-null  object \n",
            " 3   education  45214 non-null  object \n",
            " 4   default    45215 non-null  object \n",
            " 5   balance    45213 non-null  float64\n",
            " 6   housing    45215 non-null  object \n",
            " 7   loan       45215 non-null  object \n",
            " 8   contact    45215 non-null  object \n",
            " 9   day        45215 non-null  int64  \n",
            " 10  month      45215 non-null  object \n",
            " 11  duration   45214 non-null  float64\n",
            " 12  campaign   45215 non-null  int64  \n",
            " 13  pdays      45214 non-null  float64\n",
            " 14  previous   45215 non-null  int64  \n",
            " 15  poutcome   45215 non-null  object \n",
            " 16  y          45215 non-null  object \n",
            "dtypes: float64(3), int64(4), object(10)\n",
            "memory usage: 5.9+ MB\n"
          ]
        },
        {
          "output_type": "execute_result",
          "data": {
            "text/plain": [
              "(None,\n",
              " age          0\n",
              " job          2\n",
              " marital      1\n",
              " education    1\n",
              " default      0\n",
              " balance      2\n",
              " housing      0\n",
              " loan         0\n",
              " contact      0\n",
              " day          0\n",
              " month        0\n",
              " duration     1\n",
              " campaign     0\n",
              " pdays        1\n",
              " previous     0\n",
              " poutcome     0\n",
              " y            0\n",
              " dtype: int64)"
            ]
          },
          "metadata": {},
          "execution_count": 85
        }
      ]
    },
    {
      "cell_type": "markdown",
      "source": [
        "#4. Limpieza\n",
        "\n",
        "Realizaremos el proceso de limpieza teniendo en cuenta las situaciones más comunes:\n",
        "\n",
        "1. Datos faltantes en algunas celdas\n",
        "2. Columnas irrelevantes (que no responden al problema que queremos resolver)\n",
        "3. Registros (filas) repetidos\n",
        "4. Valores extremos (*outliers*) en el caso de las variables numéricas. Se deben analizar en detalle pues no necesariamente la solución es eliminarlos\n",
        "5. Errores tipográficos en el caso de las variables categóricas\n",
        "\n",
        "Al final de este proceso de limpieza deberíamos tener un set de datos **íntegro**, listo para la fase de Análisis Exploratorio."
      ],
      "metadata": {
        "id": "CGUfF1eZaeoj"
      }
    },
    {
      "cell_type": "markdown",
      "source": [
        "## 4.1 Datos faltantes\n",
        "\n",
        "Comenzamos a ver que los datos no están completos, pues no todas las columnas tienen la misma cantidad de registros.\n",
        "\n",
        "El número total de registros debería ser 45.215. Sin embargo columnas como \"job\", \"marital\", \"education\", \"balance\", \"duration\" y \"pdays\".\n",
        "\n",
        "Por ser tan pocos los datos  faltantes optaremos por eliminar las filas correspondientes:"
      ],
      "metadata": {
        "id": "zxyeciKcaClS"
      }
    },
    {
      "cell_type": "markdown",
      "source": [
        "##4.2 Columnas irrelevantes\n",
        "\n",
        "Una columna irrelevante puede ser:\n",
        "\n",
        "- **Una columna que no contiene información relevante para el problema que queremos resolver**. Por ejemplo en este caso podría ser una columna que no guarde relación con el posible perfil del cliente (deporte favorito, hobbies, comida favorita, etc.)\n",
        "- **Una columna categórica pero con un sólo nivel**. Por ejemplo si en la columna \"job\" solo tuviésemos el nivel \"unknown\".\n",
        "- **Una columna numérica pero con un sólo valor**. Por ejemplo si en la columna \"edad\" todos los vlaores fuesen iguales a 50.\n",
        "- **Columnas con información redundante**. Por ejemplo si además de las columnas \"month\" y \"day\" tuviésemos la columna \"month-day\", resultado de combinar las dos anteriores.\n",
        "\n",
        "Si tenemos la duda de si alguna columna puede ser relevante o no lo mejor es dejarla (y más adelante en posteriores etapas podremos darnos cuenta de si se debe preservar o no).\n",
        "\n",
        "En este caso todas las columnas pueden resultar relevantes, pero debemos verificar que no haya columnas categóricas con un sólo nivel, o columnas numéricas con un sólo valor:"
      ],
      "metadata": {
        "id": "4a2bJcMewV33"
      }
    },
    {
      "cell_type": "markdown",
      "source": [
        "Todas las columnas categóricas tienen más de 1 subnivel. No eliminaremos ninguna.\n",
        "\n",
        "Verifiquemos lo que ocurre con las columnas numéricas:"
      ],
      "metadata": {
        "id": "pCw6dYMryt0O"
      }
    },
    {
      "cell_type": "markdown",
      "source": [
        "Todas las columnas numéricas tienen desviaciones estándar (\"std\") diferentes de cero, lo que indica que no tienen un único valor.\n",
        "\n",
        "Preservaremos todas las columnas numéricas."
      ],
      "metadata": {
        "id": "o_ulm42Hy8nm"
      }
    },
    {
      "cell_type": "markdown",
      "source": [
        "##4.3 Filas repetidas"
      ],
      "metadata": {
        "id": "WyPaJNZFzISZ"
      }
    },
    {
      "cell_type": "markdown",
      "source": [
        "##4.4 *Outliers* en las variables numéricas\n",
        "\n",
        "No siempre se deben eliminar los *outliers* porque dependiendo de la variable numérica analizada estos pueden contener información importante.\n"
      ],
      "metadata": {
        "id": "vAdN5qxyzpRV"
      }
    },
    {
      "cell_type": "markdown",
      "source": [
        "##4.5 Errores tipográficos en variables categóricas\n",
        "\n",
        "En una variable categórica pueden aparecer sub-niveles como \"unknown\" y \"UNK\" que para nosotros son equivalentes pero que para nuestro programa parecerían diferentes.\n",
        "\n",
        "Se deben unificar estos sub-niveles"
      ],
      "metadata": {
        "id": "Ys8L2CGb4vWq"
      }
    },
    {
      "cell_type": "code",
      "source": [
        "# Dropping rows with missing values since there are very few\n",
        "data_cleaned = data.dropna()\n",
        "\n",
        "# Checking for duplicates and removing them\n",
        "data_cleaned = data_cleaned.drop_duplicates()"
      ],
      "metadata": {
        "id": "hFDKC01zIzKp"
      },
      "execution_count": 86,
      "outputs": []
    },
    {
      "cell_type": "code",
      "source": [
        "# Identifying and removing outliers for numerical columns using IQR method\n",
        "numerical_cols = ['age', 'balance', 'duration', 'campaign', 'pdays', 'previous']\n",
        "Q1 = data_cleaned[numerical_cols].quantile(0.25)\n",
        "Q3 = data_cleaned[numerical_cols].quantile(0.75)\n",
        "IQR = Q3 - Q1\n",
        "\n",
        "# Filtering out outliers\n",
        "data_no_outliers = data_cleaned[~((data_cleaned[numerical_cols] < (Q1 - 1.5 * IQR)) |(data_cleaned[numerical_cols] > (Q3 + 1.5 * IQR))).any(axis=1)]"
      ],
      "metadata": {
        "id": "qGcvpUv3JNkg"
      },
      "execution_count": 87,
      "outputs": []
    },
    {
      "cell_type": "code",
      "source": [
        "# Normalize the numerical columns\n",
        "data_no_outliers.loc[:, numerical_cols] = data_no_outliers[numerical_cols].apply(lambda x: (x - x.mean()) / x.std())\n",
        "\n",
        "data_no_outliers.head()\n"
      ],
      "metadata": {
        "colab": {
          "base_uri": "https://localhost:8080/",
          "height": 226
        },
        "id": "F3iZn9uhJJwg",
        "outputId": "bc823983-28f1-4d4f-d8ab-4fc3268205c3"
      },
      "execution_count": 88,
      "outputs": [
        {
          "output_type": "execute_result",
          "data": {
            "text/plain": [
              "        age           job  marital  education default   balance housing loan  \\\n",
              "0  1.783610    management  married   tertiary      no  1.847992     yes   no   \n",
              "1  0.367080    technician   single  secondary      no -0.694262     yes   no   \n",
              "2 -0.745908  entrepreneur  married  secondary      no -0.726731     yes  yes   \n",
              "3  0.670622   blue-collar  married    unknown      no  1.081948     yes   no   \n",
              "4 -0.745908       unknown   single    unknown      no -0.727934      no   no   \n",
              "\n",
              "   contact  day month  duration  campaign  pdays  previous poutcome   y  \n",
              "0  unknown    5   may  0.399437 -0.886659    NaN       NaN  unknown  no  \n",
              "1  unknown    5   may -0.390155 -0.886659    NaN       NaN  unknown  no  \n",
              "2  unknown    5   may -0.928513 -0.886659    NaN       NaN  unknown  no  \n",
              "3  unknown    5   may -0.813663 -0.886659    NaN       NaN  unknown  no  \n",
              "4  unknown    5   may -0.052784 -0.886659    NaN       NaN  unknown  no  "
            ],
            "text/html": [
              "\n",
              "  <div id=\"df-64fb986d-1a97-4018-bdf7-79999774c10a\" class=\"colab-df-container\">\n",
              "    <div>\n",
              "<style scoped>\n",
              "    .dataframe tbody tr th:only-of-type {\n",
              "        vertical-align: middle;\n",
              "    }\n",
              "\n",
              "    .dataframe tbody tr th {\n",
              "        vertical-align: top;\n",
              "    }\n",
              "\n",
              "    .dataframe thead th {\n",
              "        text-align: right;\n",
              "    }\n",
              "</style>\n",
              "<table border=\"1\" class=\"dataframe\">\n",
              "  <thead>\n",
              "    <tr style=\"text-align: right;\">\n",
              "      <th></th>\n",
              "      <th>age</th>\n",
              "      <th>job</th>\n",
              "      <th>marital</th>\n",
              "      <th>education</th>\n",
              "      <th>default</th>\n",
              "      <th>balance</th>\n",
              "      <th>housing</th>\n",
              "      <th>loan</th>\n",
              "      <th>contact</th>\n",
              "      <th>day</th>\n",
              "      <th>month</th>\n",
              "      <th>duration</th>\n",
              "      <th>campaign</th>\n",
              "      <th>pdays</th>\n",
              "      <th>previous</th>\n",
              "      <th>poutcome</th>\n",
              "      <th>y</th>\n",
              "    </tr>\n",
              "  </thead>\n",
              "  <tbody>\n",
              "    <tr>\n",
              "      <th>0</th>\n",
              "      <td>1.783610</td>\n",
              "      <td>management</td>\n",
              "      <td>married</td>\n",
              "      <td>tertiary</td>\n",
              "      <td>no</td>\n",
              "      <td>1.847992</td>\n",
              "      <td>yes</td>\n",
              "      <td>no</td>\n",
              "      <td>unknown</td>\n",
              "      <td>5</td>\n",
              "      <td>may</td>\n",
              "      <td>0.399437</td>\n",
              "      <td>-0.886659</td>\n",
              "      <td>NaN</td>\n",
              "      <td>NaN</td>\n",
              "      <td>unknown</td>\n",
              "      <td>no</td>\n",
              "    </tr>\n",
              "    <tr>\n",
              "      <th>1</th>\n",
              "      <td>0.367080</td>\n",
              "      <td>technician</td>\n",
              "      <td>single</td>\n",
              "      <td>secondary</td>\n",
              "      <td>no</td>\n",
              "      <td>-0.694262</td>\n",
              "      <td>yes</td>\n",
              "      <td>no</td>\n",
              "      <td>unknown</td>\n",
              "      <td>5</td>\n",
              "      <td>may</td>\n",
              "      <td>-0.390155</td>\n",
              "      <td>-0.886659</td>\n",
              "      <td>NaN</td>\n",
              "      <td>NaN</td>\n",
              "      <td>unknown</td>\n",
              "      <td>no</td>\n",
              "    </tr>\n",
              "    <tr>\n",
              "      <th>2</th>\n",
              "      <td>-0.745908</td>\n",
              "      <td>entrepreneur</td>\n",
              "      <td>married</td>\n",
              "      <td>secondary</td>\n",
              "      <td>no</td>\n",
              "      <td>-0.726731</td>\n",
              "      <td>yes</td>\n",
              "      <td>yes</td>\n",
              "      <td>unknown</td>\n",
              "      <td>5</td>\n",
              "      <td>may</td>\n",
              "      <td>-0.928513</td>\n",
              "      <td>-0.886659</td>\n",
              "      <td>NaN</td>\n",
              "      <td>NaN</td>\n",
              "      <td>unknown</td>\n",
              "      <td>no</td>\n",
              "    </tr>\n",
              "    <tr>\n",
              "      <th>3</th>\n",
              "      <td>0.670622</td>\n",
              "      <td>blue-collar</td>\n",
              "      <td>married</td>\n",
              "      <td>unknown</td>\n",
              "      <td>no</td>\n",
              "      <td>1.081948</td>\n",
              "      <td>yes</td>\n",
              "      <td>no</td>\n",
              "      <td>unknown</td>\n",
              "      <td>5</td>\n",
              "      <td>may</td>\n",
              "      <td>-0.813663</td>\n",
              "      <td>-0.886659</td>\n",
              "      <td>NaN</td>\n",
              "      <td>NaN</td>\n",
              "      <td>unknown</td>\n",
              "      <td>no</td>\n",
              "    </tr>\n",
              "    <tr>\n",
              "      <th>4</th>\n",
              "      <td>-0.745908</td>\n",
              "      <td>unknown</td>\n",
              "      <td>single</td>\n",
              "      <td>unknown</td>\n",
              "      <td>no</td>\n",
              "      <td>-0.727934</td>\n",
              "      <td>no</td>\n",
              "      <td>no</td>\n",
              "      <td>unknown</td>\n",
              "      <td>5</td>\n",
              "      <td>may</td>\n",
              "      <td>-0.052784</td>\n",
              "      <td>-0.886659</td>\n",
              "      <td>NaN</td>\n",
              "      <td>NaN</td>\n",
              "      <td>unknown</td>\n",
              "      <td>no</td>\n",
              "    </tr>\n",
              "  </tbody>\n",
              "</table>\n",
              "</div>\n",
              "    <div class=\"colab-df-buttons\">\n",
              "\n",
              "  <div class=\"colab-df-container\">\n",
              "    <button class=\"colab-df-convert\" onclick=\"convertToInteractive('df-64fb986d-1a97-4018-bdf7-79999774c10a')\"\n",
              "            title=\"Convert this dataframe to an interactive table.\"\n",
              "            style=\"display:none;\">\n",
              "\n",
              "  <svg xmlns=\"http://www.w3.org/2000/svg\" height=\"24px\" viewBox=\"0 -960 960 960\">\n",
              "    <path d=\"M120-120v-720h720v720H120Zm60-500h600v-160H180v160Zm220 220h160v-160H400v160Zm0 220h160v-160H400v160ZM180-400h160v-160H180v160Zm440 0h160v-160H620v160ZM180-180h160v-160H180v160Zm440 0h160v-160H620v160Z\"/>\n",
              "  </svg>\n",
              "    </button>\n",
              "\n",
              "  <style>\n",
              "    .colab-df-container {\n",
              "      display:flex;\n",
              "      gap: 12px;\n",
              "    }\n",
              "\n",
              "    .colab-df-convert {\n",
              "      background-color: #E8F0FE;\n",
              "      border: none;\n",
              "      border-radius: 50%;\n",
              "      cursor: pointer;\n",
              "      display: none;\n",
              "      fill: #1967D2;\n",
              "      height: 32px;\n",
              "      padding: 0 0 0 0;\n",
              "      width: 32px;\n",
              "    }\n",
              "\n",
              "    .colab-df-convert:hover {\n",
              "      background-color: #E2EBFA;\n",
              "      box-shadow: 0px 1px 2px rgba(60, 64, 67, 0.3), 0px 1px 3px 1px rgba(60, 64, 67, 0.15);\n",
              "      fill: #174EA6;\n",
              "    }\n",
              "\n",
              "    .colab-df-buttons div {\n",
              "      margin-bottom: 4px;\n",
              "    }\n",
              "\n",
              "    [theme=dark] .colab-df-convert {\n",
              "      background-color: #3B4455;\n",
              "      fill: #D2E3FC;\n",
              "    }\n",
              "\n",
              "    [theme=dark] .colab-df-convert:hover {\n",
              "      background-color: #434B5C;\n",
              "      box-shadow: 0px 1px 3px 1px rgba(0, 0, 0, 0.15);\n",
              "      filter: drop-shadow(0px 1px 2px rgba(0, 0, 0, 0.3));\n",
              "      fill: #FFFFFF;\n",
              "    }\n",
              "  </style>\n",
              "\n",
              "    <script>\n",
              "      const buttonEl =\n",
              "        document.querySelector('#df-64fb986d-1a97-4018-bdf7-79999774c10a button.colab-df-convert');\n",
              "      buttonEl.style.display =\n",
              "        google.colab.kernel.accessAllowed ? 'block' : 'none';\n",
              "\n",
              "      async function convertToInteractive(key) {\n",
              "        const element = document.querySelector('#df-64fb986d-1a97-4018-bdf7-79999774c10a');\n",
              "        const dataTable =\n",
              "          await google.colab.kernel.invokeFunction('convertToInteractive',\n",
              "                                                    [key], {});\n",
              "        if (!dataTable) return;\n",
              "\n",
              "        const docLinkHtml = 'Like what you see? Visit the ' +\n",
              "          '<a target=\"_blank\" href=https://colab.research.google.com/notebooks/data_table.ipynb>data table notebook</a>'\n",
              "          + ' to learn more about interactive tables.';\n",
              "        element.innerHTML = '';\n",
              "        dataTable['output_type'] = 'display_data';\n",
              "        await google.colab.output.renderOutput(dataTable, element);\n",
              "        const docLink = document.createElement('div');\n",
              "        docLink.innerHTML = docLinkHtml;\n",
              "        element.appendChild(docLink);\n",
              "      }\n",
              "    </script>\n",
              "  </div>\n",
              "\n",
              "\n",
              "<div id=\"df-b73136f5-e4c8-4915-be30-95a105266440\">\n",
              "  <button class=\"colab-df-quickchart\" onclick=\"quickchart('df-b73136f5-e4c8-4915-be30-95a105266440')\"\n",
              "            title=\"Suggest charts\"\n",
              "            style=\"display:none;\">\n",
              "\n",
              "<svg xmlns=\"http://www.w3.org/2000/svg\" height=\"24px\"viewBox=\"0 0 24 24\"\n",
              "     width=\"24px\">\n",
              "    <g>\n",
              "        <path d=\"M19 3H5c-1.1 0-2 .9-2 2v14c0 1.1.9 2 2 2h14c1.1 0 2-.9 2-2V5c0-1.1-.9-2-2-2zM9 17H7v-7h2v7zm4 0h-2V7h2v10zm4 0h-2v-4h2v4z\"/>\n",
              "    </g>\n",
              "</svg>\n",
              "  </button>\n",
              "\n",
              "<style>\n",
              "  .colab-df-quickchart {\n",
              "      --bg-color: #E8F0FE;\n",
              "      --fill-color: #1967D2;\n",
              "      --hover-bg-color: #E2EBFA;\n",
              "      --hover-fill-color: #174EA6;\n",
              "      --disabled-fill-color: #AAA;\n",
              "      --disabled-bg-color: #DDD;\n",
              "  }\n",
              "\n",
              "  [theme=dark] .colab-df-quickchart {\n",
              "      --bg-color: #3B4455;\n",
              "      --fill-color: #D2E3FC;\n",
              "      --hover-bg-color: #434B5C;\n",
              "      --hover-fill-color: #FFFFFF;\n",
              "      --disabled-bg-color: #3B4455;\n",
              "      --disabled-fill-color: #666;\n",
              "  }\n",
              "\n",
              "  .colab-df-quickchart {\n",
              "    background-color: var(--bg-color);\n",
              "    border: none;\n",
              "    border-radius: 50%;\n",
              "    cursor: pointer;\n",
              "    display: none;\n",
              "    fill: var(--fill-color);\n",
              "    height: 32px;\n",
              "    padding: 0;\n",
              "    width: 32px;\n",
              "  }\n",
              "\n",
              "  .colab-df-quickchart:hover {\n",
              "    background-color: var(--hover-bg-color);\n",
              "    box-shadow: 0 1px 2px rgba(60, 64, 67, 0.3), 0 1px 3px 1px rgba(60, 64, 67, 0.15);\n",
              "    fill: var(--button-hover-fill-color);\n",
              "  }\n",
              "\n",
              "  .colab-df-quickchart-complete:disabled,\n",
              "  .colab-df-quickchart-complete:disabled:hover {\n",
              "    background-color: var(--disabled-bg-color);\n",
              "    fill: var(--disabled-fill-color);\n",
              "    box-shadow: none;\n",
              "  }\n",
              "\n",
              "  .colab-df-spinner {\n",
              "    border: 2px solid var(--fill-color);\n",
              "    border-color: transparent;\n",
              "    border-bottom-color: var(--fill-color);\n",
              "    animation:\n",
              "      spin 1s steps(1) infinite;\n",
              "  }\n",
              "\n",
              "  @keyframes spin {\n",
              "    0% {\n",
              "      border-color: transparent;\n",
              "      border-bottom-color: var(--fill-color);\n",
              "      border-left-color: var(--fill-color);\n",
              "    }\n",
              "    20% {\n",
              "      border-color: transparent;\n",
              "      border-left-color: var(--fill-color);\n",
              "      border-top-color: var(--fill-color);\n",
              "    }\n",
              "    30% {\n",
              "      border-color: transparent;\n",
              "      border-left-color: var(--fill-color);\n",
              "      border-top-color: var(--fill-color);\n",
              "      border-right-color: var(--fill-color);\n",
              "    }\n",
              "    40% {\n",
              "      border-color: transparent;\n",
              "      border-right-color: var(--fill-color);\n",
              "      border-top-color: var(--fill-color);\n",
              "    }\n",
              "    60% {\n",
              "      border-color: transparent;\n",
              "      border-right-color: var(--fill-color);\n",
              "    }\n",
              "    80% {\n",
              "      border-color: transparent;\n",
              "      border-right-color: var(--fill-color);\n",
              "      border-bottom-color: var(--fill-color);\n",
              "    }\n",
              "    90% {\n",
              "      border-color: transparent;\n",
              "      border-bottom-color: var(--fill-color);\n",
              "    }\n",
              "  }\n",
              "</style>\n",
              "\n",
              "  <script>\n",
              "    async function quickchart(key) {\n",
              "      const quickchartButtonEl =\n",
              "        document.querySelector('#' + key + ' button');\n",
              "      quickchartButtonEl.disabled = true;  // To prevent multiple clicks.\n",
              "      quickchartButtonEl.classList.add('colab-df-spinner');\n",
              "      try {\n",
              "        const charts = await google.colab.kernel.invokeFunction(\n",
              "            'suggestCharts', [key], {});\n",
              "      } catch (error) {\n",
              "        console.error('Error during call to suggestCharts:', error);\n",
              "      }\n",
              "      quickchartButtonEl.classList.remove('colab-df-spinner');\n",
              "      quickchartButtonEl.classList.add('colab-df-quickchart-complete');\n",
              "    }\n",
              "    (() => {\n",
              "      let quickchartButtonEl =\n",
              "        document.querySelector('#df-b73136f5-e4c8-4915-be30-95a105266440 button');\n",
              "      quickchartButtonEl.style.display =\n",
              "        google.colab.kernel.accessAllowed ? 'block' : 'none';\n",
              "    })();\n",
              "  </script>\n",
              "</div>\n",
              "    </div>\n",
              "  </div>\n"
            ],
            "application/vnd.google.colaboratory.intrinsic+json": {
              "type": "dataframe",
              "variable_name": "data_no_outliers",
              "summary": "{\n  \"name\": \"data_no_outliers\",\n  \"rows\": 28180,\n  \"fields\": [\n    {\n      \"column\": \"age\",\n      \"properties\": {\n        \"dtype\": \"number\",\n        \"std\": 1.0,\n        \"min\": -2.263618663701171,\n        \"max\": 2.997778454902778,\n        \"num_unique_values\": 53,\n        \"samples\": [\n          1.1765256061552574,\n          -2.0612572360625574,\n          2.390694171986938\n        ],\n        \"semantic_type\": \"\",\n        \"description\": \"\"\n      }\n    },\n    {\n      \"column\": \"job\",\n      \"properties\": {\n        \"dtype\": \"category\",\n        \"num_unique_values\": 18,\n        \"samples\": [\n          \"management\",\n          \"technician\",\n          \"services\"\n        ],\n        \"semantic_type\": \"\",\n        \"description\": \"\"\n      }\n    },\n    {\n      \"column\": \"marital\",\n      \"properties\": {\n        \"dtype\": \"category\",\n        \"num_unique_values\": 6,\n        \"samples\": [\n          \"married\",\n          \"single\",\n          \"Single\"\n        ],\n        \"semantic_type\": \"\",\n        \"description\": \"\"\n      }\n    },\n    {\n      \"column\": \"education\",\n      \"properties\": {\n        \"dtype\": \"category\",\n        \"num_unique_values\": 9,\n        \"samples\": [\n          \"UNK\",\n          \"secondary\",\n          \"Secondary\"\n        ],\n        \"semantic_type\": \"\",\n        \"description\": \"\"\n      }\n    },\n    {\n      \"column\": \"default\",\n      \"properties\": {\n        \"dtype\": \"category\",\n        \"num_unique_values\": 2,\n        \"samples\": [\n          \"yes\",\n          \"no\"\n        ],\n        \"semantic_type\": \"\",\n        \"description\": \"\"\n      }\n    },\n    {\n      \"column\": \"balance\",\n      \"properties\": {\n        \"dtype\": \"number\",\n        \"std\": 0.9999999999999999,\n        \"min\": -3.0669516433292343,\n        \"max\": 3.431789241913647,\n        \"num_unique_values\": 4004,\n        \"samples\": [\n          0.13070787070866755,\n          1.6507686551178093\n        ],\n        \"semantic_type\": \"\",\n        \"description\": \"\"\n      }\n    },\n    {\n      \"column\": \"housing\",\n      \"properties\": {\n        \"dtype\": \"category\",\n        \"num_unique_values\": 2,\n        \"samples\": [\n          \"no\",\n          \"yes\"\n        ],\n        \"semantic_type\": \"\",\n        \"description\": \"\"\n      }\n    },\n    {\n      \"column\": \"loan\",\n      \"properties\": {\n        \"dtype\": \"category\",\n        \"num_unique_values\": 6,\n        \"samples\": [\n          \"no\",\n          \"yes\"\n        ],\n        \"semantic_type\": \"\",\n        \"description\": \"\"\n      }\n    },\n    {\n      \"column\": \"contact\",\n      \"properties\": {\n        \"dtype\": \"category\",\n        \"num_unique_values\": 5,\n        \"samples\": [\n          \"cellular\",\n          \"mobile\"\n        ],\n        \"semantic_type\": \"\",\n        \"description\": \"\"\n      }\n    },\n    {\n      \"column\": \"day\",\n      \"properties\": {\n        \"dtype\": \"number\",\n        \"std\": 8,\n        \"min\": 1,\n        \"max\": 31,\n        \"num_unique_values\": 31,\n        \"samples\": [\n          1,\n          27\n        ],\n        \"semantic_type\": \"\",\n        \"description\": \"\"\n      }\n    },\n    {\n      \"column\": \"month\",\n      \"properties\": {\n        \"dtype\": \"category\",\n        \"num_unique_values\": 12,\n        \"samples\": [\n          \"apr\",\n          \"mar\"\n        ],\n        \"semantic_type\": \"\",\n        \"description\": \"\"\n      }\n    },\n    {\n      \"column\": \"duration\",\n      \"properties\": {\n        \"dtype\": \"number\",\n        \"std\": 1.0,\n        \"min\": -1.474049247592253,\n        \"max\": 3.1414735917445222,\n        \"num_unique_values\": 643,\n        \"samples\": [\n          2.7323214893460834,\n          -0.9428693251802447\n        ],\n        \"semantic_type\": \"\",\n        \"description\": \"\"\n      }\n    },\n    {\n      \"column\": \"campaign\",\n      \"properties\": {\n        \"dtype\": \"number\",\n        \"std\": 1.0,\n        \"min\": -0.8866587721701973,\n        \"max\": 2.8395983041796344,\n        \"num_unique_values\": 6,\n        \"samples\": [\n          -0.8866587721701973,\n          -0.14140735690023093\n        ],\n        \"semantic_type\": \"\",\n        \"description\": \"\"\n      }\n    },\n    {\n      \"column\": \"pdays\",\n      \"properties\": {\n        \"dtype\": \"number\",\n        \"std\": null,\n        \"min\": null,\n        \"max\": null,\n        \"num_unique_values\": 0,\n        \"samples\": [],\n        \"semantic_type\": \"\",\n        \"description\": \"\"\n      }\n    },\n    {\n      \"column\": \"previous\",\n      \"properties\": {\n        \"dtype\": \"number\",\n        \"std\": null,\n        \"min\": null,\n        \"max\": null,\n        \"num_unique_values\": 0,\n        \"samples\": [],\n        \"semantic_type\": \"\",\n        \"description\": \"\"\n      }\n    },\n    {\n      \"column\": \"poutcome\",\n      \"properties\": {\n        \"dtype\": \"category\",\n        \"num_unique_values\": 2,\n        \"samples\": [],\n        \"semantic_type\": \"\",\n        \"description\": \"\"\n      }\n    },\n    {\n      \"column\": \"y\",\n      \"properties\": {\n        \"dtype\": \"category\",\n        \"num_unique_values\": 2,\n        \"samples\": [],\n        \"semantic_type\": \"\",\n        \"description\": \"\"\n      }\n    }\n  ]\n}"
            }
          },
          "metadata": {},
          "execution_count": 88
        }
      ]
    },
    {
      "cell_type": "markdown",
      "source": [
        "##AGE"
      ],
      "metadata": {
        "id": "_MBVjBo2TzfM"
      }
    },
    {
      "cell_type": "code",
      "source": [
        "data_no_outliers['age'].describe()\n"
      ],
      "metadata": {
        "id": "Jlmf8EyjT1dK",
        "colab": {
          "base_uri": "https://localhost:8080/"
        },
        "outputId": "6c6e4c28-498d-46ea-f76e-a3de93f27413"
      },
      "execution_count": 89,
      "outputs": [
        {
          "output_type": "execute_result",
          "data": {
            "text/plain": [
              "count    2.818000e+04\n",
              "mean     1.169950e-16\n",
              "std      1.000000e+00\n",
              "min     -2.263619e+00\n",
              "25%     -8.470887e-01\n",
              "50%     -1.388237e-01\n",
              "75%      7.718028e-01\n",
              "max      2.997778e+00\n",
              "Name: age, dtype: float64"
            ]
          },
          "metadata": {},
          "execution_count": 89
        }
      ]
    },
    {
      "cell_type": "code",
      "source": [
        "data_no_outliers.loc['age'] = pd.to_numeric(data_no_outliers['age'], errors='coerce')\n",
        "data_no_outliers = data_no_outliers.dropna(subset=['age'])\n"
      ],
      "metadata": {
        "id": "8VHFLIVnT4jO",
        "colab": {
          "base_uri": "https://localhost:8080/"
        },
        "outputId": "03d04f49-c23d-479d-e028-63eda0c0a752"
      },
      "execution_count": 90,
      "outputs": [
        {
          "output_type": "stream",
          "name": "stderr",
          "text": [
            "<ipython-input-90-bcb2b37b22af>:1: SettingWithCopyWarning: \n",
            "A value is trying to be set on a copy of a slice from a DataFrame\n",
            "\n",
            "See the caveats in the documentation: https://pandas.pydata.org/pandas-docs/stable/user_guide/indexing.html#returning-a-view-versus-a-copy\n",
            "  data_no_outliers.loc['age'] = pd.to_numeric(data_no_outliers['age'], errors='coerce')\n"
          ]
        }
      ]
    },
    {
      "cell_type": "code",
      "source": [
        "plt.figure(figsize=(10, 6))\n",
        "sns.histplot(data_no_outliers['age'], kde=True, bins=30)\n",
        "plt.title('Distribution of Age after Removing Outliers')\n",
        "plt.xlabel('Age')\n",
        "plt.ylabel('Frequency')\n",
        "plt.grid(True)\n",
        "plt.show()\n",
        "\n"
      ],
      "metadata": {
        "id": "cnHD8ETQT5-k",
        "colab": {
          "base_uri": "https://localhost:8080/",
          "height": 564
        },
        "outputId": "8d80df9d-31aa-406b-db36-b8c7bf2d9703"
      },
      "execution_count": 91,
      "outputs": [
        {
          "output_type": "display_data",
          "data": {
            "text/plain": [
              "<Figure size 1000x600 with 1 Axes>"
            ],
            "image/png": "[encoded data removed]"
          },
          "metadata": {}
        }
      ]
    },
    {
      "cell_type": "markdown",
      "source": [
        "##JOB\n"
      ],
      "metadata": {
        "id": "fnyY4UvVUpdW"
      }
    },
    {
      "cell_type": "code",
      "source": [
        "# Descripción inicial\n",
        "job_description = data_no_outliers['job'].describe()\n",
        "\n",
        "job_description\n"
      ],
      "metadata": {
        "colab": {
          "base_uri": "https://localhost:8080/"
        },
        "id": "dUaVhpaoNm6T",
        "outputId": "de70bb8e-3323-4dc4-eb90-281eb5d091b8"
      },
      "execution_count": 92,
      "outputs": [
        {
          "output_type": "execute_result",
          "data": {
            "text/plain": [
              "count           28180\n",
              "unique             18\n",
              "top       blue-collar\n",
              "freq             6361\n",
              "Name: job, dtype: object"
            ]
          },
          "metadata": {},
          "execution_count": 92
        }
      ]
    },
    {
      "cell_type": "code",
      "source": [
        "# Valores únicos\n",
        "job_unique = data_no_outliers['job'].unique()"
      ],
      "metadata": {
        "id": "idNlyKSsNpXW"
      },
      "execution_count": 93,
      "outputs": []
    },
    {
      "cell_type": "code",
      "source": [
        "job_unique"
      ],
      "metadata": {
        "colab": {
          "base_uri": "https://localhost:8080/"
        },
        "id": "hFBZPSErNpgg",
        "outputId": "784f3e1c-370d-4a64-f62a-5aed0490e06a"
      },
      "execution_count": 94,
      "outputs": [
        {
          "output_type": "execute_result",
          "data": {
            "text/plain": [
              "array(['management', 'technician', 'entrepreneur', 'blue-collar',\n",
              "       'unknown', 'Management', 'retired', 'admin.', 'services',\n",
              "       'self-employed', 'MANAGEMENT', 'Self-employed', 'unemployed',\n",
              "       'housemaid', 'student', 'Services', 'Retired', 'administrative'],\n",
              "      dtype=object)"
            ]
          },
          "metadata": {},
          "execution_count": 94
        }
      ]
    },
    {
      "cell_type": "code",
      "source": [
        "job_value_counts = data_no_outliers['job'].value_counts()"
      ],
      "metadata": {
        "id": "xvFvS3vUN2KN"
      },
      "execution_count": 95,
      "outputs": []
    },
    {
      "cell_type": "code",
      "source": [
        "job_value_counts"
      ],
      "metadata": {
        "colab": {
          "base_uri": "https://localhost:8080/"
        },
        "id": "vzYYC2vsN2O0",
        "outputId": "566d8017-234f-43da-c810-024cae6347c0"
      },
      "execution_count": 96,
      "outputs": [
        {
          "output_type": "execute_result",
          "data": {
            "text/plain": [
              "job\n",
              "blue-collar       6361\n",
              "management        5599\n",
              "technician        4800\n",
              "admin.            3262\n",
              "services          2740\n",
              "retired           1141\n",
              "entrepreneur       966\n",
              "self-employed      956\n",
              "housemaid          821\n",
              "unemployed         819\n",
              "student            531\n",
              "unknown            174\n",
              "administrative       3\n",
              "Management           2\n",
              "MANAGEMENT           2\n",
              "Self-employed        1\n",
              "Services             1\n",
              "Retired              1\n",
              "Name: count, dtype: int64"
            ]
          },
          "metadata": {},
          "execution_count": 96
        }
      ]
    },
    {
      "cell_type": "code",
      "source": [
        "# Comprobar valores faltantes\n",
        "missing_jobs = data_no_outliers['job'].isnull().sum()\n",
        "\n",
        "# Frecuencia de valores únicos\n",
        "missing_jobs\n"
      ],
      "metadata": {
        "colab": {
          "base_uri": "https://localhost:8080/"
        },
        "id": "khpHJKm4N2SK",
        "outputId": "021bb324-83b3-4ead-dd8c-7efb1f9c9891"
      },
      "execution_count": 97,
      "outputs": [
        {
          "output_type": "execute_result",
          "data": {
            "text/plain": [
              "0"
            ]
          },
          "metadata": {},
          "execution_count": 97
        }
      ]
    },
    {
      "cell_type": "code",
      "source": [
        "# Normalizar las categorías a minúsculas para evitar duplicados\n",
        "data_no_outliers['job'] = data_no_outliers['job'].str.lower()\n",
        "\n",
        "# Verificar los valores únicos después de la normalización\n",
        "job_unique_normalized = data_no_outliers['job'].unique()\n",
        "job_unique_normalized\n"
      ],
      "metadata": {
        "colab": {
          "base_uri": "https://localhost:8080/"
        },
        "id": "Cz4lmlHPODCy",
        "outputId": "d95b70ed-1565-43f4-85a3-5dd48cfeeac3"
      },
      "execution_count": 98,
      "outputs": [
        {
          "output_type": "execute_result",
          "data": {
            "text/plain": [
              "array(['management', 'technician', 'entrepreneur', 'blue-collar',\n",
              "       'unknown', 'retired', 'admin.', 'services', 'self-employed',\n",
              "       'unemployed', 'housemaid', 'student', 'administrative'],\n",
              "      dtype=object)"
            ]
          },
          "metadata": {},
          "execution_count": 98
        }
      ]
    },
    {
      "cell_type": "code",
      "source": [
        "# Reemplazar 'administrative' por 'admin.' en la columna 'job'\n",
        "data_no_outliers.loc[data_no_outliers['job'] == 'administrative', 'job'] = 'admin.'\n",
        "\n",
        "# Verificar los cambios\n",
        "job_value_counts_updated = data_no_outliers['job'].value_counts()\n",
        "print(job_value_counts_updated)\n"
      ],
      "metadata": {
        "colab": {
          "base_uri": "https://localhost:8080/"
        },
        "id": "N88w_t2BODHU",
        "outputId": "b89b8315-5c78-4a60-d033-10d310902cf9"
      },
      "execution_count": 99,
      "outputs": [
        {
          "output_type": "stream",
          "name": "stdout",
          "text": [
            "job\n",
            "blue-collar      6361\n",
            "management       5603\n",
            "technician       4800\n",
            "admin.           3265\n",
            "services         2741\n",
            "retired          1142\n",
            "entrepreneur      966\n",
            "self-employed     957\n",
            "housemaid         821\n",
            "unemployed        819\n",
            "student           531\n",
            "unknown           174\n",
            "Name: count, dtype: int64\n"
          ]
        }
      ]
    },
    {
      "cell_type": "code",
      "source": [
        "# Gráfico de barras de la variable 'job'\n",
        "plt.figure(figsize=(12, 8))\n",
        "job_value_counts_updated.plot(kind='bar')\n",
        "plt.title('Frecuencia de cada Ocupación')\n",
        "plt.xlabel('Ocupación')\n",
        "plt.ylabel('Frecuencia')\n",
        "plt.xticks(rotation=45)\n",
        "plt.grid(axis='y')\n",
        "plt.show()\n"
      ],
      "metadata": {
        "colab": {
          "base_uri": "https://localhost:8080/",
          "height": 705
        },
        "id": "kVtv9owiODJ1",
        "outputId": "6531ca23-e9ac-4676-e89a-4af0eef80ae7"
      },
      "execution_count": 100,
      "outputs": [
        {
          "output_type": "display_data",
          "data": {
            "text/plain": [
              "<Figure size 1200x800 with 1 Axes>"
            ],
            "image/png": "[encoded data removed]"
          },
          "metadata": {}
        }
      ]
    },
    {
      "cell_type": "markdown",
      "source": [
        "#MARITAL"
      ],
      "metadata": {
        "id": "hzIL8ySUPZ04"
      }
    },
    {
      "cell_type": "code",
      "source": [
        "# Descripción inicial\n",
        "marital_description = data_no_outliers['marital'].describe()\n",
        "\n",
        "# Valores únicos\n",
        "marital_unique = data_no_outliers['marital'].unique()\n",
        "\n",
        "# Frecuencia de cada valor\n",
        "marital_value_counts = data_no_outliers['marital'].value_counts()\n"
      ],
      "metadata": {
        "id": "1aoqi0kbQ7AM"
      },
      "execution_count": 101,
      "outputs": []
    },
    {
      "cell_type": "code",
      "source": [
        "marital_description"
      ],
      "metadata": {
        "colab": {
          "base_uri": "https://localhost:8080/"
        },
        "id": "W_Qwvo6wQ7Cr",
        "outputId": "786f0256-b4db-43a1-a16c-c8358e5d4974"
      },
      "execution_count": 102,
      "outputs": [
        {
          "output_type": "execute_result",
          "data": {
            "text/plain": [
              "count       28180\n",
              "unique          6\n",
              "top       married\n",
              "freq        16964\n",
              "Name: marital, dtype: object"
            ]
          },
          "metadata": {},
          "execution_count": 102
        }
      ]
    },
    {
      "cell_type": "code",
      "source": [
        "marital_unique"
      ],
      "metadata": {
        "colab": {
          "base_uri": "https://localhost:8080/"
        },
        "id": "xIddyyIHQ7Ei",
        "outputId": "028a52fa-2907-46a6-d42c-ac0eea3903d5"
      },
      "execution_count": 103,
      "outputs": [
        {
          "output_type": "execute_result",
          "data": {
            "text/plain": [
              "array(['married', 'single', 'div.', 'divorced', 'DIVORCED', 'Single'],\n",
              "      dtype=object)"
            ]
          },
          "metadata": {},
          "execution_count": 103
        }
      ]
    },
    {
      "cell_type": "code",
      "source": [
        "marital_value_counts"
      ],
      "metadata": {
        "colab": {
          "base_uri": "https://localhost:8080/"
        },
        "id": "bqpRGXV9Q7Gz",
        "outputId": "17256a49-622e-468c-c914-78527bee0b16"
      },
      "execution_count": 104,
      "outputs": [
        {
          "output_type": "execute_result",
          "data": {
            "text/plain": [
              "marital\n",
              "married     16964\n",
              "single       7881\n",
              "divorced     3322\n",
              "div.            7\n",
              "DIVORCED        3\n",
              "Single          3\n",
              "Name: count, dtype: int64"
            ]
          },
          "metadata": {},
          "execution_count": 104
        }
      ]
    },
    {
      "cell_type": "code",
      "source": [
        "# Comprobar errores tipográficos comparando valores únicos\n",
        "marital_unique\n"
      ],
      "metadata": {
        "colab": {
          "base_uri": "https://localhost:8080/"
        },
        "id": "ME1bBazNQ7KP",
        "outputId": "34e2a70b-9270-4a79-da90-0c666bf74b01"
      },
      "execution_count": 105,
      "outputs": [
        {
          "output_type": "execute_result",
          "data": {
            "text/plain": [
              "array(['married', 'single', 'div.', 'divorced', 'DIVORCED', 'Single'],\n",
              "      dtype=object)"
            ]
          },
          "metadata": {},
          "execution_count": 105
        }
      ]
    },
    {
      "cell_type": "code",
      "source": [
        "# Reemplazar los valores según corresponda\n",
        "data_no_outliers['marital'] = data_no_outliers['marital'].replace({\n",
        "    'div.': 'divorced',\n",
        "    'DIVORCED': 'divorced',\n",
        "    'Single': 'single'\n",
        "}).str.lower()\n",
        "\n",
        "# Verificar los valores únicos después del reemplazo\n",
        "marital_value_counts_updated = data_no_outliers['marital'].value_counts()\n",
        "print(marital_value_counts_updated)\n"
      ],
      "metadata": {
        "colab": {
          "base_uri": "https://localhost:8080/"
        },
        "id": "O4Nn63BpQ7ZQ",
        "outputId": "a09fcaf3-bdde-4ba2-d196-33030d538a67"
      },
      "execution_count": 106,
      "outputs": [
        {
          "output_type": "stream",
          "name": "stdout",
          "text": [
            "marital\n",
            "married     16964\n",
            "single       7884\n",
            "divorced     3332\n",
            "Name: count, dtype: int64\n"
          ]
        }
      ]
    },
    {
      "cell_type": "code",
      "source": [
        "# Plotear un gráfico de barras de la variable 'marital'\n",
        "plt.figure(figsize=(10, 6))\n",
        "marital_value_counts_updated.plot(kind='bar')\n",
        "plt.title('Frecuencia de cada Estado Civil')\n",
        "plt.xlabel('Estado Civil')\n",
        "plt.ylabel('Frecuencia')\n",
        "plt.xticks(rotation=0)\n",
        "plt.grid(axis='y')\n",
        "plt.show()\n"
      ],
      "metadata": {
        "colab": {
          "base_uri": "https://localhost:8080/",
          "height": 564
        },
        "id": "fLViEYQZQ7cC",
        "outputId": "93438e81-f2e6-4fd4-f0c3-a531d0577128"
      },
      "execution_count": 107,
      "outputs": [
        {
          "output_type": "display_data",
          "data": {
            "text/plain": [
              "<Figure size 1000x600 with 1 Axes>"
            ],
            "image/png": "[encoded data removed]"
          },
          "metadata": {}
        }
      ]
    },
    {
      "cell_type": "markdown",
      "source": [
        "#EDUCATION"
      ],
      "metadata": {
        "id": "X5-hLzChPZ9K"
      }
    },
    {
      "cell_type": "code",
      "source": [
        "# Descripción inicial\n",
        "education_description = data_no_outliers['education'].describe()\n",
        "\n",
        "# Valores únicos\n",
        "education_unique = data_no_outliers['education'].unique()\n",
        "\n",
        "# Frecuencia de cada valor\n",
        "education_value_counts = data_no_outliers['education'].value_counts()\n",
        "\n",
        "education_description"
      ],
      "metadata": {
        "colab": {
          "base_uri": "https://localhost:8080/"
        },
        "id": "mMdCdDGnSCuJ",
        "outputId": "521605e5-1576-4964-d469-ebb95b72f612"
      },
      "execution_count": 108,
      "outputs": [
        {
          "output_type": "execute_result",
          "data": {
            "text/plain": [
              "count         28180\n",
              "unique            9\n",
              "top       secondary\n",
              "freq          14882\n",
              "Name: education, dtype: object"
            ]
          },
          "metadata": {},
          "execution_count": 108
        }
      ]
    },
    {
      "cell_type": "code",
      "source": [
        "education_unique\n"
      ],
      "metadata": {
        "colab": {
          "base_uri": "https://localhost:8080/"
        },
        "id": "L_hmAmgJSCwY",
        "outputId": "e7ca7f11-33b3-4cfa-c080-87ade28468f7"
      },
      "execution_count": 109,
      "outputs": [
        {
          "output_type": "execute_result",
          "data": {
            "text/plain": [
              "array(['tertiary', 'secondary', 'unknown', 'primary', 'SECONDARY',\n",
              "       'Secondary', 'sec.', 'UNK', 'Primary'], dtype=object)"
            ]
          },
          "metadata": {},
          "execution_count": 109
        }
      ]
    },
    {
      "cell_type": "code",
      "source": [
        "education_value_counts"
      ],
      "metadata": {
        "colab": {
          "base_uri": "https://localhost:8080/"
        },
        "id": "jS3FRjTASC0D",
        "outputId": "2633538c-6c7d-479e-ef1a-073d9a5cf686"
      },
      "execution_count": 110,
      "outputs": [
        {
          "output_type": "execute_result",
          "data": {
            "text/plain": [
              "education\n",
              "secondary    14882\n",
              "tertiary      7789\n",
              "primary       4395\n",
              "unknown       1107\n",
              "SECONDARY        2\n",
              "UNK              2\n",
              "Secondary        1\n",
              "sec.             1\n",
              "Primary          1\n",
              "Name: count, dtype: int64"
            ]
          },
          "metadata": {},
          "execution_count": 110
        }
      ]
    },
    {
      "cell_type": "code",
      "source": [
        "data_no_outliers['education'] = data_no_outliers['education'].replace({\n",
        "    'SECONDARY': 'secondary',\n",
        "    'Secondary': 'secondary',\n",
        "    'sec.': 'secondary',\n",
        "    'Tertiary': 'tertiary',\n",
        "    'Primary': 'primary',\n",
        "    'UNK': 'unknown'\n",
        "}).str.lower()\n",
        "\n",
        "# Verificar los valores únicos después de la normalización\n",
        "education_value_counts_normalized = data_no_outliers['education'].value_counts()\n",
        "print(education_value_counts_normalized)"
      ],
      "metadata": {
        "colab": {
          "base_uri": "https://localhost:8080/"
        },
        "id": "ofEdnh0tSC1z",
        "outputId": "dd72a852-a49e-4aa3-db87-25ff33fb2ed1"
      },
      "execution_count": 111,
      "outputs": [
        {
          "output_type": "stream",
          "name": "stdout",
          "text": [
            "education\n",
            "secondary    14886\n",
            "tertiary      7789\n",
            "primary       4396\n",
            "unknown       1109\n",
            "Name: count, dtype: int64\n"
          ]
        }
      ]
    },
    {
      "cell_type": "code",
      "source": [
        "plt.figure(figsize=(8, 8))\n",
        "education_value_counts_normalized.plot(kind='pie', autopct='%1.1f%%', startangle=140)\n",
        "plt.title('Distribución del Nivel Educativo')\n",
        "plt.ylabel('')\n",
        "plt.show()"
      ],
      "metadata": {
        "colab": {
          "base_uri": "https://localhost:8080/",
          "height": 675
        },
        "id": "tmr7gl39S4Go",
        "outputId": "6140de5d-314d-48ed-d414-393e202feab4"
      },
      "execution_count": 112,
      "outputs": [
        {
          "output_type": "display_data",
          "data": {
            "text/plain": [
              "<Figure size 800x800 with 1 Axes>"
            ],
            "image/png": "[encoded data removed]"
          },
          "metadata": {}
        }
      ]
    },
    {
      "cell_type": "markdown",
      "source": [
        "#DEFAULT"
      ],
      "metadata": {
        "id": "imprXJhRPaAL"
      }
    },
    {
      "cell_type": "code",
      "source": [
        "# Descripción inicial\n",
        "default_description = data_no_outliers['default'].describe()\n",
        "\n",
        "# Valores únicos\n",
        "default_unique = data_no_outliers['default'].unique()\n",
        "\n",
        "# Frecuencia de cada valor\n",
        "default_value_counts = data_no_outliers['default'].value_counts()\n",
        "\n",
        "default_description\n"
      ],
      "metadata": {
        "colab": {
          "base_uri": "https://localhost:8080/"
        },
        "id": "MOyCP7yGTGjs",
        "outputId": "c09e68fb-2e91-436b-9e6b-53cf92fc2a59"
      },
      "execution_count": 113,
      "outputs": [
        {
          "output_type": "execute_result",
          "data": {
            "text/plain": [
              "count     28180\n",
              "unique        2\n",
              "top          no\n",
              "freq      27552\n",
              "Name: default, dtype: object"
            ]
          },
          "metadata": {},
          "execution_count": 113
        }
      ]
    },
    {
      "cell_type": "code",
      "source": [
        "default_unique"
      ],
      "metadata": {
        "colab": {
          "base_uri": "https://localhost:8080/"
        },
        "id": "an-Q3eDaTGng",
        "outputId": "65edd383-c029-4704-ef53-41daafc4ec59"
      },
      "execution_count": 114,
      "outputs": [
        {
          "output_type": "execute_result",
          "data": {
            "text/plain": [
              "array(['no', 'yes'], dtype=object)"
            ]
          },
          "metadata": {},
          "execution_count": 114
        }
      ]
    },
    {
      "cell_type": "code",
      "source": [
        "default_value_counts"
      ],
      "metadata": {
        "colab": {
          "base_uri": "https://localhost:8080/"
        },
        "id": "64H0MLc8TGqJ",
        "outputId": "e18de645-9fa7-4440-d0c5-8de5979c8c21"
      },
      "execution_count": 115,
      "outputs": [
        {
          "output_type": "execute_result",
          "data": {
            "text/plain": [
              "default\n",
              "no     27552\n",
              "yes      628\n",
              "Name: count, dtype: int64"
            ]
          },
          "metadata": {},
          "execution_count": 115
        }
      ]
    },
    {
      "cell_type": "code",
      "source": [
        "# Comprobar valores faltantes\n",
        "missing_default = data_no_outliers['default'].isnull().sum()\n",
        "\n",
        "# Frecuencia de valores únicos\n",
        "missing_default\n"
      ],
      "metadata": {
        "colab": {
          "base_uri": "https://localhost:8080/"
        },
        "id": "ZzPIAP_FTGtz",
        "outputId": "c30f96c1-d69e-4c8a-a6dd-5b5a37e439c1"
      },
      "execution_count": 116,
      "outputs": [
        {
          "output_type": "execute_result",
          "data": {
            "text/plain": [
              "0"
            ]
          },
          "metadata": {},
          "execution_count": 116
        }
      ]
    },
    {
      "cell_type": "code",
      "source": [
        "# Codificación binaria de la variable 'default'\n",
        "data_no_outliers['default'] = data_no_outliers['default'].apply(lambda x: 1 if x == 'yes' else 0)\n",
        "\n",
        "# Verificar la nueva codificación\n",
        "default_value_counts_binary = data_no_outliers['default'].value_counts()\n",
        "\n",
        "# Plotear un gráfico de barras de la variable 'default'\n",
        "plt.figure(figsize=(10, 6))\n",
        "default_value_counts_binary.plot(kind='bar')\n",
        "plt.title('Frecuencia de Incumplimiento de Crédito')\n",
        "plt.xlabel('Default')\n",
        "plt.ylabel('Frecuencia')\n",
        "plt.xticks(ticks=[0, 1], labels=['No', 'Yes'], rotation=0)\n",
        "plt.grid(axis='y')\n",
        "plt.show()\n"
      ],
      "metadata": {
        "colab": {
          "base_uri": "https://localhost:8080/",
          "height": 565
        },
        "id": "uw3oxSZITp9d",
        "outputId": "060072a9-47d8-4da6-996c-3706a614694c"
      },
      "execution_count": 117,
      "outputs": [
        {
          "output_type": "display_data",
          "data": {
            "text/plain": [
              "<Figure size 1000x600 with 1 Axes>"
            ],
            "image/png": "[encoded data removed]"
          },
          "metadata": {}
        }
      ]
    },
    {
      "cell_type": "markdown",
      "source": [
        "# BALANCE\n"
      ],
      "metadata": {
        "id": "TAhZidFRPaCS"
      }
    },
    {
      "cell_type": "code",
      "source": [
        "# Descripción inicial\n",
        "balance_description = data_no_outliers['balance'].describe()\n",
        "print(\"Descripción inicial:\", balance_description)\n"
      ],
      "metadata": {
        "colab": {
          "base_uri": "https://localhost:8080/"
        },
        "id": "t34GascXT42E",
        "outputId": "b62cb6bf-8746-4038-858c-a3544f2029d0"
      },
      "execution_count": 118,
      "outputs": [
        {
          "output_type": "stream",
          "name": "stdout",
          "text": [
            "Descripción inicial: count    2.818000e+04\n",
            "mean     5.042887e-17\n",
            "std      1.000000e+00\n",
            "min     -3.066952e+00\n",
            "25%     -6.918567e-01\n",
            "50%     -3.491214e-01\n",
            "75%      3.760341e-01\n",
            "max      3.431789e+00\n",
            "Name: balance, dtype: float64\n"
          ]
        }
      ]
    },
    {
      "cell_type": "code",
      "source": [
        "# Comprobar valores faltantes\n",
        "missing_balance = data_no_outliers['balance'].isnull().sum()\n",
        "print(\"Valores faltantes en 'balance':\", missing_balance)"
      ],
      "metadata": {
        "colab": {
          "base_uri": "https://localhost:8080/"
        },
        "id": "FRSsz7cSUAEK",
        "outputId": "3e240e21-9b21-4d22-d3a9-50ca9a368172"
      },
      "execution_count": 119,
      "outputs": [
        {
          "output_type": "stream",
          "name": "stdout",
          "text": [
            "Valores faltantes en 'balance': 0\n"
          ]
        }
      ]
    },
    {
      "cell_type": "code",
      "source": [
        "\n",
        "# Visualización de la distribución de 'balance'\n",
        "plt.figure(figsize=(10, 6))\n",
        "sns.histplot(data_no_outliers['balance'], kde=True, bins=30)\n",
        "plt.title('Distribución de Balance Normalizado')\n",
        "plt.xlabel('Balance')\n",
        "plt.ylabel('Frecuencia')\n",
        "plt.grid(True)\n",
        "plt.show()\n"
      ],
      "metadata": {
        "colab": {
          "base_uri": "https://localhost:8080/",
          "height": 564
        },
        "id": "3xH3pnBjT-hP",
        "outputId": "75583986-948d-495e-e3c0-fdc29eab847e"
      },
      "execution_count": 120,
      "outputs": [
        {
          "output_type": "display_data",
          "data": {
            "text/plain": [
              "<Figure size 1000x600 with 1 Axes>"
            ],
            "image/png": "[encoded data removed]"
          },
          "metadata": {}
        }
      ]
    },
    {
      "cell_type": "markdown",
      "source": [
        "#HOUSING"
      ],
      "metadata": {
        "id": "DG1fkZlrPaE3"
      }
    },
    {
      "cell_type": "code",
      "source": [
        "# Descripción inicial\n",
        "housing_description = data_no_outliers['housing'].describe()\n",
        "\n",
        "# Valores únicos\n",
        "housing_unique = data_no_outliers['housing'].unique()\n",
        "\n",
        "# Frecuencia de cada valor\n",
        "housing_value_counts = data_no_outliers['housing'].value_counts()\n",
        "\n",
        "# Comprobar valores faltantes\n",
        "missing_housing = data_no_outliers['housing'].isnull().sum()\n"
      ],
      "metadata": {
        "id": "4Rlrj9UIUci1"
      },
      "execution_count": 121,
      "outputs": []
    },
    {
      "cell_type": "code",
      "source": [
        "# Mostrar resultados iniciales\n",
        "print(\"Descripción inicial:\", housing_description)"
      ],
      "metadata": {
        "colab": {
          "base_uri": "https://localhost:8080/"
        },
        "id": "A-dvud3gUdVt",
        "outputId": "60481208-091d-497c-e9f6-26de1d757c1a"
      },
      "execution_count": 122,
      "outputs": [
        {
          "output_type": "stream",
          "name": "stdout",
          "text": [
            "Descripción inicial: count     28180\n",
            "unique        2\n",
            "top         yes\n",
            "freq      15622\n",
            "Name: housing, dtype: object\n"
          ]
        }
      ]
    },
    {
      "cell_type": "code",
      "source": [
        "print(\"\\nValores únicos:\", housing_unique)"
      ],
      "metadata": {
        "colab": {
          "base_uri": "https://localhost:8080/"
        },
        "id": "NVBEPtCfUuM_",
        "outputId": "48db5189-a05f-4598-d569-c911ce2608d2"
      },
      "execution_count": 123,
      "outputs": [
        {
          "output_type": "stream",
          "name": "stdout",
          "text": [
            "\n",
            "Valores únicos: ['yes' 'no']\n"
          ]
        }
      ]
    },
    {
      "cell_type": "code",
      "source": [
        "print(\"\\nFrecuencia de valores únicos:\\n\", housing_value_counts)"
      ],
      "metadata": {
        "colab": {
          "base_uri": "https://localhost:8080/"
        },
        "id": "Xs9t0WFcUuSL",
        "outputId": "f09e7397-07f8-43b4-b3c2-f1a534364b5c"
      },
      "execution_count": 124,
      "outputs": [
        {
          "output_type": "stream",
          "name": "stdout",
          "text": [
            "\n",
            "Frecuencia de valores únicos:\n",
            " housing\n",
            "yes    15622\n",
            "no     12558\n",
            "Name: count, dtype: int64\n"
          ]
        }
      ]
    },
    {
      "cell_type": "code",
      "source": [
        "print(\"\\nValores faltantes en 'housing':\", missing_housing)"
      ],
      "metadata": {
        "colab": {
          "base_uri": "https://localhost:8080/"
        },
        "id": "qtlMf_h3Uv1D",
        "outputId": "c2f115e2-8cf8-4b2d-9956-20fdc1f7090e"
      },
      "execution_count": 125,
      "outputs": [
        {
          "output_type": "stream",
          "name": "stdout",
          "text": [
            "\n",
            "Valores faltantes en 'housing': 0\n"
          ]
        }
      ]
    },
    {
      "cell_type": "code",
      "source": [
        "# Comprobar errores tipográficos comparando valores únicos\n",
        "housing_unique"
      ],
      "metadata": {
        "colab": {
          "base_uri": "https://localhost:8080/"
        },
        "id": "53thhXHGUdYg",
        "outputId": "76b5d2d9-1c14-4c51-cf53-deee8f7a5c87"
      },
      "execution_count": 126,
      "outputs": [
        {
          "output_type": "execute_result",
          "data": {
            "text/plain": [
              "array(['yes', 'no'], dtype=object)"
            ]
          },
          "metadata": {},
          "execution_count": 126
        }
      ]
    },
    {
      "cell_type": "code",
      "source": [
        "# Codificación binaria de la variable 'housing'\n",
        "data_no_outliers['housing'] = data_no_outliers['housing'].apply(lambda x: 1 if x == 'yes' else 0)\n",
        "\n",
        "# Verificar la nueva codificación\n",
        "data_no_outliers[['housing']].head()"
      ],
      "metadata": {
        "colab": {
          "base_uri": "https://localhost:8080/",
          "height": 206
        },
        "id": "r1B6JAJMUrM-",
        "outputId": "00d702a6-199b-4597-d483-b610485960b2"
      },
      "execution_count": 127,
      "outputs": [
        {
          "output_type": "execute_result",
          "data": {
            "text/plain": [
              "   housing\n",
              "0        1\n",
              "1        1\n",
              "2        1\n",
              "3        1\n",
              "4        0"
            ],
            "text/html": [
              "\n",
              "  <div id=\"df-717530ff-9ae6-4e29-b418-75afdef158a3\" class=\"colab-df-container\">\n",
              "    <div>\n",
              "<style scoped>\n",
              "    .dataframe tbody tr th:only-of-type {\n",
              "        vertical-align: middle;\n",
              "    }\n",
              "\n",
              "    .dataframe tbody tr th {\n",
              "        vertical-align: top;\n",
              "    }\n",
              "\n",
              "    .dataframe thead th {\n",
              "        text-align: right;\n",
              "    }\n",
              "</style>\n",
              "<table border=\"1\" class=\"dataframe\">\n",
              "  <thead>\n",
              "    <tr style=\"text-align: right;\">\n",
              "      <th></th>\n",
              "      <th>housing</th>\n",
              "    </tr>\n",
              "  </thead>\n",
              "  <tbody>\n",
              "    <tr>\n",
              "      <th>0</th>\n",
              "      <td>1</td>\n",
              "    </tr>\n",
              "    <tr>\n",
              "      <th>1</th>\n",
              "      <td>1</td>\n",
              "    </tr>\n",
              "    <tr>\n",
              "      <th>2</th>\n",
              "      <td>1</td>\n",
              "    </tr>\n",
              "    <tr>\n",
              "      <th>3</th>\n",
              "      <td>1</td>\n",
              "    </tr>\n",
              "    <tr>\n",
              "      <th>4</th>\n",
              "      <td>0</td>\n",
              "    </tr>\n",
              "  </tbody>\n",
              "</table>\n",
              "</div>\n",
              "    <div class=\"colab-df-buttons\">\n",
              "\n",
              "  <div class=\"colab-df-container\">\n",
              "    <button class=\"colab-df-convert\" onclick=\"convertToInteractive('df-717530ff-9ae6-4e29-b418-75afdef158a3')\"\n",
              "            title=\"Convert this dataframe to an interactive table.\"\n",
              "            style=\"display:none;\">\n",
              "\n",
              "  <svg xmlns=\"http://www.w3.org/2000/svg\" height=\"24px\" viewBox=\"0 -960 960 960\">\n",
              "    <path d=\"M120-120v-720h720v720H120Zm60-500h600v-160H180v160Zm220 220h160v-160H400v160Zm0 220h160v-160H400v160ZM180-400h160v-160H180v160Zm440 0h160v-160H620v160ZM180-180h160v-160H180v160Zm440 0h160v-160H620v160Z\"/>\n",
              "  </svg>\n",
              "    </button>\n",
              "\n",
              "  <style>\n",
              "    .colab-df-container {\n",
              "      display:flex;\n",
              "      gap: 12px;\n",
              "    }\n",
              "\n",
              "    .colab-df-convert {\n",
              "      background-color: #E8F0FE;\n",
              "      border: none;\n",
              "      border-radius: 50%;\n",
              "      cursor: pointer;\n",
              "      display: none;\n",
              "      fill: #1967D2;\n",
              "      height: 32px;\n",
              "      padding: 0 0 0 0;\n",
              "      width: 32px;\n",
              "    }\n",
              "\n",
              "    .colab-df-convert:hover {\n",
              "      background-color: #E2EBFA;\n",
              "      box-shadow: 0px 1px 2px rgba(60, 64, 67, 0.3), 0px 1px 3px 1px rgba(60, 64, 67, 0.15);\n",
              "      fill: #174EA6;\n",
              "    }\n",
              "\n",
              "    .colab-df-buttons div {\n",
              "      margin-bottom: 4px;\n",
              "    }\n",
              "\n",
              "    [theme=dark] .colab-df-convert {\n",
              "      background-color: #3B4455;\n",
              "      fill: #D2E3FC;\n",
              "    }\n",
              "\n",
              "    [theme=dark] .colab-df-convert:hover {\n",
              "      background-color: #434B5C;\n",
              "      box-shadow: 0px 1px 3px 1px rgba(0, 0, 0, 0.15);\n",
              "      filter: drop-shadow(0px 1px 2px rgba(0, 0, 0, 0.3));\n",
              "      fill: #FFFFFF;\n",
              "    }\n",
              "  </style>\n",
              "\n",
              "    <script>\n",
              "      const buttonEl =\n",
              "        document.querySelector('#df-717530ff-9ae6-4e29-b418-75afdef158a3 button.colab-df-convert');\n",
              "      buttonEl.style.display =\n",
              "        google.colab.kernel.accessAllowed ? 'block' : 'none';\n",
              "\n",
              "      async function convertToInteractive(key) {\n",
              "        const element = document.querySelector('#df-717530ff-9ae6-4e29-b418-75afdef158a3');\n",
              "        const dataTable =\n",
              "          await google.colab.kernel.invokeFunction('convertToInteractive',\n",
              "                                                    [key], {});\n",
              "        if (!dataTable) return;\n",
              "\n",
              "        const docLinkHtml = 'Like what you see? Visit the ' +\n",
              "          '<a target=\"_blank\" href=https://colab.research.google.com/notebooks/data_table.ipynb>data table notebook</a>'\n",
              "          + ' to learn more about interactive tables.';\n",
              "        element.innerHTML = '';\n",
              "        dataTable['output_type'] = 'display_data';\n",
              "        await google.colab.output.renderOutput(dataTable, element);\n",
              "        const docLink = document.createElement('div');\n",
              "        docLink.innerHTML = docLinkHtml;\n",
              "        element.appendChild(docLink);\n",
              "      }\n",
              "    </script>\n",
              "  </div>\n",
              "\n",
              "\n",
              "<div id=\"df-1db74397-c6f0-4406-a4fe-3122fe1995c6\">\n",
              "  <button class=\"colab-df-quickchart\" onclick=\"quickchart('df-1db74397-c6f0-4406-a4fe-3122fe1995c6')\"\n",
              "            title=\"Suggest charts\"\n",
              "            style=\"display:none;\">\n",
              "\n",
              "<svg xmlns=\"http://www.w3.org/2000/svg\" height=\"24px\"viewBox=\"0 0 24 24\"\n",
              "     width=\"24px\">\n",
              "    <g>\n",
              "        <path d=\"M19 3H5c-1.1 0-2 .9-2 2v14c0 1.1.9 2 2 2h14c1.1 0 2-.9 2-2V5c0-1.1-.9-2-2-2zM9 17H7v-7h2v7zm4 0h-2V7h2v10zm4 0h-2v-4h2v4z\"/>\n",
              "    </g>\n",
              "</svg>\n",
              "  </button>\n",
              "\n",
              "<style>\n",
              "  .colab-df-quickchart {\n",
              "      --bg-color: #E8F0FE;\n",
              "      --fill-color: #1967D2;\n",
              "      --hover-bg-color: #E2EBFA;\n",
              "      --hover-fill-color: #174EA6;\n",
              "      --disabled-fill-color: #AAA;\n",
              "      --disabled-bg-color: #DDD;\n",
              "  }\n",
              "\n",
              "  [theme=dark] .colab-df-quickchart {\n",
              "      --bg-color: #3B4455;\n",
              "      --fill-color: #D2E3FC;\n",
              "      --hover-bg-color: #434B5C;\n",
              "      --hover-fill-color: #FFFFFF;\n",
              "      --disabled-bg-color: #3B4455;\n",
              "      --disabled-fill-color: #666;\n",
              "  }\n",
              "\n",
              "  .colab-df-quickchart {\n",
              "    background-color: var(--bg-color);\n",
              "    border: none;\n",
              "    border-radius: 50%;\n",
              "    cursor: pointer;\n",
              "    display: none;\n",
              "    fill: var(--fill-color);\n",
              "    height: 32px;\n",
              "    padding: 0;\n",
              "    width: 32px;\n",
              "  }\n",
              "\n",
              "  .colab-df-quickchart:hover {\n",
              "    background-color: var(--hover-bg-color);\n",
              "    box-shadow: 0 1px 2px rgba(60, 64, 67, 0.3), 0 1px 3px 1px rgba(60, 64, 67, 0.15);\n",
              "    fill: var(--button-hover-fill-color);\n",
              "  }\n",
              "\n",
              "  .colab-df-quickchart-complete:disabled,\n",
              "  .colab-df-quickchart-complete:disabled:hover {\n",
              "    background-color: var(--disabled-bg-color);\n",
              "    fill: var(--disabled-fill-color);\n",
              "    box-shadow: none;\n",
              "  }\n",
              "\n",
              "  .colab-df-spinner {\n",
              "    border: 2px solid var(--fill-color);\n",
              "    border-color: transparent;\n",
              "    border-bottom-color: var(--fill-color);\n",
              "    animation:\n",
              "      spin 1s steps(1) infinite;\n",
              "  }\n",
              "\n",
              "  @keyframes spin {\n",
              "    0% {\n",
              "      border-color: transparent;\n",
              "      border-bottom-color: var(--fill-color);\n",
              "      border-left-color: var(--fill-color);\n",
              "    }\n",
              "    20% {\n",
              "      border-color: transparent;\n",
              "      border-left-color: var(--fill-color);\n",
              "      border-top-color: var(--fill-color);\n",
              "    }\n",
              "    30% {\n",
              "      border-color: transparent;\n",
              "      border-left-color: var(--fill-color);\n",
              "      border-top-color: var(--fill-color);\n",
              "      border-right-color: var(--fill-color);\n",
              "    }\n",
              "    40% {\n",
              "      border-color: transparent;\n",
              "      border-right-color: var(--fill-color);\n",
              "      border-top-color: var(--fill-color);\n",
              "    }\n",
              "    60% {\n",
              "      border-color: transparent;\n",
              "      border-right-color: var(--fill-color);\n",
              "    }\n",
              "    80% {\n",
              "      border-color: transparent;\n",
              "      border-right-color: var(--fill-color);\n",
              "      border-bottom-color: var(--fill-color);\n",
              "    }\n",
              "    90% {\n",
              "      border-color: transparent;\n",
              "      border-bottom-color: var(--fill-color);\n",
              "    }\n",
              "  }\n",
              "</style>\n",
              "\n",
              "  <script>\n",
              "    async function quickchart(key) {\n",
              "      const quickchartButtonEl =\n",
              "        document.querySelector('#' + key + ' button');\n",
              "      quickchartButtonEl.disabled = true;  // To prevent multiple clicks.\n",
              "      quickchartButtonEl.classList.add('colab-df-spinner');\n",
              "      try {\n",
              "        const charts = await google.colab.kernel.invokeFunction(\n",
              "            'suggestCharts', [key], {});\n",
              "      } catch (error) {\n",
              "        console.error('Error during call to suggestCharts:', error);\n",
              "      }\n",
              "      quickchartButtonEl.classList.remove('colab-df-spinner');\n",
              "      quickchartButtonEl.classList.add('colab-df-quickchart-complete');\n",
              "    }\n",
              "    (() => {\n",
              "      let quickchartButtonEl =\n",
              "        document.querySelector('#df-1db74397-c6f0-4406-a4fe-3122fe1995c6 button');\n",
              "      quickchartButtonEl.style.display =\n",
              "        google.colab.kernel.accessAllowed ? 'block' : 'none';\n",
              "    })();\n",
              "  </script>\n",
              "</div>\n",
              "    </div>\n",
              "  </div>\n"
            ],
            "application/vnd.google.colaboratory.intrinsic+json": {
              "type": "dataframe",
              "summary": "{\n  \"name\": \"data_no_outliers[['housing']]\",\n  \"rows\": 5,\n  \"fields\": [\n    {\n      \"column\": \"housing\",\n      \"properties\": {\n        \"dtype\": \"number\",\n        \"std\": 0,\n        \"min\": 0,\n        \"max\": 1,\n        \"num_unique_values\": 2,\n        \"samples\": [\n          0,\n          1\n        ],\n        \"semantic_type\": \"\",\n        \"description\": \"\"\n      }\n    }\n  ]\n}"
            }
          },
          "metadata": {},
          "execution_count": 127
        }
      ]
    },
    {
      "cell_type": "markdown",
      "source": [
        "# LOAN"
      ],
      "metadata": {
        "id": "Rm5IYDxPPaIT"
      }
    },
    {
      "cell_type": "code",
      "source": [
        "# Descripción inicial\n",
        "loan_description = data_no_outliers['loan'].describe()\n",
        "\n",
        "# Valores únicos\n",
        "loan_unique = data_no_outliers['loan'].unique()\n",
        "\n",
        "# Frecuencia de cada valor\n",
        "loan_value_counts = data_no_outliers['loan'].value_counts()\n",
        "\n",
        "loan_description, loan_unique, loan_value_counts\n"
      ],
      "metadata": {
        "colab": {
          "base_uri": "https://localhost:8080/"
        },
        "id": "w0ycDpXvVV_4",
        "outputId": "dddd846d-f2d7-42bc-ecf8-1e75c46c4c63"
      },
      "execution_count": 128,
      "outputs": [
        {
          "output_type": "execute_result",
          "data": {
            "text/plain": [
              "(count     28180\n",
              " unique        6\n",
              " top          no\n",
              " freq      23214\n",
              " Name: loan, dtype: object,\n",
              " array(['no', 'yes', 'No', 'YES', 'Yes', 'NO'], dtype=object),\n",
              " loan\n",
              " no     23214\n",
              " yes     4957\n",
              " No         5\n",
              " YES        2\n",
              " Yes        1\n",
              " NO         1\n",
              " Name: count, dtype: int64)"
            ]
          },
          "metadata": {},
          "execution_count": 128
        }
      ]
    },
    {
      "cell_type": "code",
      "source": [
        "# Normalizar los valores para corregir errores tipográficos\n",
        "data_no_outliers['loan'] = data_no_outliers['loan'].str.lower()\n",
        "\n",
        "# Verificar los valores únicos después de la normalización\n",
        "loan_value_counts_normalized = data_no_outliers['loan'].value_counts()\n",
        "loan_value_counts_normalized\n"
      ],
      "metadata": {
        "colab": {
          "base_uri": "https://localhost:8080/"
        },
        "id": "PbAhpVp0Vgq8",
        "outputId": "5fc3cabf-47bf-4756-9243-8e9b6ee55338"
      },
      "execution_count": 129,
      "outputs": [
        {
          "output_type": "execute_result",
          "data": {
            "text/plain": [
              "loan\n",
              "no     23220\n",
              "yes     4960\n",
              "Name: count, dtype: int64"
            ]
          },
          "metadata": {},
          "execution_count": 129
        }
      ]
    },
    {
      "cell_type": "code",
      "source": [
        "# Codificación binaria de la variable 'loan'\n",
        "data_no_outliers['loan'] = data_no_outliers['loan'].apply(lambda x: 1 if x == 'yes' else 0)\n",
        "\n",
        "# Verificar la nueva codificación\n",
        "loan_value_counts_binary = data_no_outliers['loan'].value_counts()\n",
        "\n",
        "# Plotear un gráfico de tarta de la variable 'loan'\n",
        "plt.figure(figsize=(8, 8))\n",
        "loan_value_counts_binary.plot(kind='pie', autopct='%1.1f%%', startangle=140, labels=['No', 'Yes'])\n",
        "plt.title('Distribución de Préstamos Personales')\n",
        "plt.ylabel('')\n",
        "plt.show()\n"
      ],
      "metadata": {
        "colab": {
          "base_uri": "https://localhost:8080/",
          "height": 675
        },
        "id": "E_9uhUVPVWSy",
        "outputId": "7389aeff-0572-40b4-c606-a316cbccb4c6"
      },
      "execution_count": 130,
      "outputs": [
        {
          "output_type": "display_data",
          "data": {
            "text/plain": [
              "<Figure size 800x800 with 1 Axes>"
            ],
            "image/png": "[encoded data removed]"
          },
          "metadata": {}
        }
      ]
    },
    {
      "cell_type": "markdown",
      "source": [
        "# CONTACT"
      ],
      "metadata": {
        "id": "Q_CabC2ePaJ7"
      }
    },
    {
      "cell_type": "code",
      "source": [
        "# Descripción inicial\n",
        "contact_description = data_no_outliers['contact'].describe()\n",
        "\n",
        "# Valores únicos\n",
        "contact_unique = data_no_outliers['contact'].unique()\n",
        "\n",
        "# Frecuencia de cada valor\n",
        "contact_value_counts = data_no_outliers['contact'].value_counts()\n",
        "\n",
        "contact_description, contact_unique, contact_value_counts\n"
      ],
      "metadata": {
        "colab": {
          "base_uri": "https://localhost:8080/"
        },
        "id": "YbpOAfqiVvPQ",
        "outputId": "cab936da-f75b-4922-b7ad-d87f5eadbd1a"
      },
      "execution_count": 131,
      "outputs": [
        {
          "output_type": "execute_result",
          "data": {
            "text/plain": [
              "(count        28180\n",
              " unique           5\n",
              " top       cellular\n",
              " freq         16476\n",
              " Name: contact, dtype: object,\n",
              " array(['unknown', 'cellular', 'telephone', 'phone', 'mobile'],\n",
              "       dtype=object),\n",
              " contact\n",
              " cellular     16476\n",
              " unknown      10213\n",
              " telephone     1488\n",
              " phone            2\n",
              " mobile           1\n",
              " Name: count, dtype: int64)"
            ]
          },
          "metadata": {},
          "execution_count": 131
        }
      ]
    },
    {
      "cell_type": "code",
      "source": [
        "# Reemplazar valores para normalizar las categorías\n",
        "data_no_outliers['contact'] = data_no_outliers['contact'].replace({\n",
        "    'phone': 'telephone',\n",
        "    'mobile': 'cellular'\n",
        "}).str.lower()\n",
        "\n",
        "# Verificar los valores únicos después de la normalización\n",
        "contact_value_counts_normalized = data_no_outliers['contact'].value_counts()\n",
        "contact_value_counts_normalized\n"
      ],
      "metadata": {
        "colab": {
          "base_uri": "https://localhost:8080/"
        },
        "id": "60vhuN0jVvVT",
        "outputId": "1cd120bf-0fec-48cf-eb43-fc335dadb4d1"
      },
      "execution_count": 132,
      "outputs": [
        {
          "output_type": "execute_result",
          "data": {
            "text/plain": [
              "contact\n",
              "cellular     16477\n",
              "unknown      10213\n",
              "telephone     1490\n",
              "Name: count, dtype: int64"
            ]
          },
          "metadata": {},
          "execution_count": 132
        }
      ]
    },
    {
      "cell_type": "code",
      "source": [
        "# Plotear un gráfico de tarta de la variable 'contact'\n",
        "plt.figure(figsize=(8, 8))\n",
        "contact_value_counts_normalized.plot(kind='pie', autopct='%1.1f%%', startangle=140)\n",
        "plt.title('Distribución del Tipo de Contacto')\n",
        "plt.ylabel('')\n",
        "plt.show()\n"
      ],
      "metadata": {
        "colab": {
          "base_uri": "https://localhost:8080/",
          "height": 675
        },
        "id": "wd_NkrKtVvml",
        "outputId": "81306ea3-cfb0-4e05-c2c5-d15240dfecce"
      },
      "execution_count": 133,
      "outputs": [
        {
          "output_type": "display_data",
          "data": {
            "text/plain": [
              "<Figure size 800x800 with 1 Axes>"
            ],
            "image/png": "[encoded data removed]"
          },
          "metadata": {}
        }
      ]
    },
    {
      "cell_type": "markdown",
      "source": [
        "# DAY"
      ],
      "metadata": {
        "id": "n5RCqQxePaMa"
      }
    },
    {
      "cell_type": "code",
      "source": [
        "# Descripción inicial\n",
        "day_description = data_no_outliers['day'].describe()\n",
        "\n",
        "# Valores únicos\n",
        "day_unique = data_no_outliers['day'].unique()\n",
        "\n",
        "# Frecuencia de cada valor\n",
        "day_value_counts = data_no_outliers['day'].value_counts()\n",
        "\n",
        "day_description, day_unique, day_value_counts\n"
      ],
      "metadata": {
        "colab": {
          "base_uri": "https://localhost:8080/"
        },
        "id": "rhVMXkQuV-3v",
        "outputId": "ad661af7-c9b8-4807-bb3e-0d1c89fcc53d"
      },
      "execution_count": 134,
      "outputs": [
        {
          "output_type": "execute_result",
          "data": {
            "text/plain": [
              "(count    28180.000000\n",
              " mean        15.777431\n",
              " std          8.357043\n",
              " min          1.000000\n",
              " 25%          8.000000\n",
              " 50%         16.000000\n",
              " 75%         22.000000\n",
              " max         31.000000\n",
              " Name: day, dtype: float64,\n",
              " array([ 5.,  6.,  8.,  7.,  9., 12., 13., 14., 15., 16., 19., 20., 21.,\n",
              "        23., 26., 27., 28., 29., 30.,  2.,  3.,  4., 11., 17., 18., 24.,\n",
              "        25.,  1., 10., 22., 31.]),\n",
              " day\n",
              " 20.0    1591\n",
              " 18.0    1336\n",
              " 8.0     1289\n",
              " 6.0     1287\n",
              " 5.0     1256\n",
              " 7.0     1234\n",
              " 21.0    1233\n",
              " 14.0    1173\n",
              " 28.0    1168\n",
              " 17.0    1160\n",
              " 29.0    1120\n",
              " 9.0     1112\n",
              " 19.0    1099\n",
              " 30.0     968\n",
              " 12.0     941\n",
              " 15.0     918\n",
              " 13.0     906\n",
              " 16.0     886\n",
              " 4.0      866\n",
              " 11.0     862\n",
              " 2.0      767\n",
              " 27.0     756\n",
              " 26.0     688\n",
              " 23.0     674\n",
              " 3.0      628\n",
              " 22.0     611\n",
              " 25.0     505\n",
              " 10.0     339\n",
              " 31.0     337\n",
              " 24.0     308\n",
              " 1.0      162\n",
              " Name: count, dtype: int64)"
            ]
          },
          "metadata": {},
          "execution_count": 134
        }
      ]
    },
    {
      "cell_type": "code",
      "source": [
        "# Plotear un gráfico de barras de la variable 'day'\n",
        "plt.figure(figsize=(12, 6))\n",
        "day_value_counts.sort_index().plot(kind='bar')\n",
        "plt.title('Distribución de los Días de Contacto')\n",
        "plt.xlabel('Día del Mes')\n",
        "plt.ylabel('Frecuencia')\n",
        "plt.xticks(rotation=0)\n",
        "plt.grid(axis='y')\n",
        "plt.show()\n"
      ],
      "metadata": {
        "colab": {
          "base_uri": "https://localhost:8080/",
          "height": 508
        },
        "id": "-MuyFsj5V-8H",
        "outputId": "e63c989b-e21c-4cca-dd89-7136cdaa1440"
      },
      "execution_count": 135,
      "outputs": [
        {
          "output_type": "display_data",
          "data": {
            "text/plain": [
              "<Figure size 1200x600 with 1 Axes>"
            ],
            "image/png": "[encoded data removed]"
          },
          "metadata": {}
        }
      ]
    },
    {
      "cell_type": "markdown",
      "source": [
        "#MONTH"
      ],
      "metadata": {
        "id": "xkfseTAaPaO0"
      }
    },
    {
      "cell_type": "code",
      "source": [
        "# Descripción inicial\n",
        "month_description = data_no_outliers['month'].describe()\n",
        "\n",
        "# Valores únicos\n",
        "month_unique = data_no_outliers['month'].unique()\n",
        "\n",
        "# Frecuencia de cada valor\n",
        "month_value_counts = data_no_outliers['month'].value_counts()\n",
        "\n",
        "month_description, month_unique, month_value_counts\n"
      ],
      "metadata": {
        "colab": {
          "base_uri": "https://localhost:8080/"
        },
        "id": "CM4D0E2sWOCM",
        "outputId": "fcb0a99c-fe8a-4015-cc94-6ee889843b15"
      },
      "execution_count": 136,
      "outputs": [
        {
          "output_type": "execute_result",
          "data": {
            "text/plain": [
              "(count     28180\n",
              " unique       12\n",
              " top         may\n",
              " freq       9214\n",
              " Name: month, dtype: object,\n",
              " array(['may', 'jun', 'jul', 'aug', 'oct', 'nov', 'dec', 'jan', 'feb',\n",
              "        'mar', 'apr', 'sep'], dtype=object),\n",
              " month\n",
              " may    9214\n",
              " jul    5049\n",
              " aug    4048\n",
              " jun    3690\n",
              " nov    1930\n",
              " apr    1397\n",
              " feb    1342\n",
              " jan     780\n",
              " oct     265\n",
              " mar     213\n",
              " sep     183\n",
              " dec      69\n",
              " Name: count, dtype: int64)"
            ]
          },
          "metadata": {},
          "execution_count": 136
        }
      ]
    },
    {
      "cell_type": "code",
      "source": [
        "# Plotear un gráfico de barras de la variable 'month'\n",
        "plt.figure(figsize=(12, 6))\n",
        "month_value_counts.plot(kind='bar')\n",
        "plt.title('Distribución de los Meses de Contacto')\n",
        "plt.xlabel('Mes')\n",
        "plt.ylabel('Frecuencia')\n",
        "plt.xticks(rotation=45)\n",
        "plt.grid(axis='y')\n",
        "plt.show()\n"
      ],
      "metadata": {
        "colab": {
          "base_uri": "https://localhost:8080/",
          "height": 523
        },
        "id": "VVAMkOf3WOKw",
        "outputId": "90fe72ec-5236-447b-a292-cec6e3bc6adb"
      },
      "execution_count": 137,
      "outputs": [
        {
          "output_type": "display_data",
          "data": {
            "text/plain": [
              "<Figure size 1200x600 with 1 Axes>"
            ],
            "image/png": "[encoded data removed]"
          },
          "metadata": {}
        }
      ]
    },
    {
      "cell_type": "markdown",
      "source": [
        "#DURATION"
      ],
      "metadata": {
        "id": "PdT9EAw1Pw7e"
      }
    },
    {
      "cell_type": "code",
      "source": [
        "# Descripción inicial\n",
        "duration_description = data_no_outliers['duration'].describe()\n",
        "\n",
        "# Valores únicos\n",
        "duration_unique = data_no_outliers['duration'].unique()\n",
        "\n",
        "# Frecuencia de cada valor\n",
        "duration_value_counts = data_no_outliers['duration'].value_counts()\n",
        "\n",
        "duration_description, duration_unique, duration_value_counts\n"
      ],
      "metadata": {
        "colab": {
          "base_uri": "https://localhost:8080/"
        },
        "id": "YdFg7x3wWfAp",
        "outputId": "efb45483-7b1e-456b-cdea-f2cba5eea7c9"
      },
      "execution_count": 138,
      "outputs": [
        {
          "output_type": "execute_result",
          "data": {
            "text/plain": [
              "(count    2.818000e+04\n",
              " mean     1.109435e-17\n",
              " std      1.000000e+00\n",
              " min     -1.474049e+00\n",
              " 25%     -7.490604e-01\n",
              " 50%     -2.609492e-01\n",
              " 75%      5.142864e-01\n",
              " max      3.141474e+00\n",
              " Name: duration, dtype: float64,\n",
              " array([ 3.99436695e-01, -3.90155082e-01, -9.28513111e-01, -8.13663398e-01,\n",
              "        -5.27840498e-02, -4.76292366e-01,  8.35999843e-02,  1.25363144e+00,\n",
              "        -1.11514389e+00, -1.07925336e+00,  1.19490520e-01, -4.90648580e-01,\n",
              "        -9.64403646e-01, -2.25058619e-01,  1.05982254e+00, -7.70594756e-01,\n",
              "        -1.20128118e+00,  9.79561985e-02, -1.08643147e+00,  4.06614802e-01,\n",
              "        -2.96839690e-01, -3.25552118e-01,  9.80863367e-01, -1.74811870e-01,\n",
              "        -2.39414833e-01,  6.50670442e-01, -5.62429651e-01,  3.56368053e-01,\n",
              "         1.02393201e+00,  1.41024841e-01,  1.76915376e-01,  1.89970208e-02,\n",
              "         1.48202948e-01,  2.63052661e-01,  1.14595983e+00,  2.66771853e+00,\n",
              "        -1.81989977e-01, -1.31613089e+00,  2.94766470e+00,  1.07417876e+00,\n",
              "         1.13160362e+00,  4.35327230e-01,  3.42011838e-01, -1.89168084e-01,\n",
              "        -4.33223724e-01, -7.27526113e-01, -1.38073386e+00, -1.46099442e-01,\n",
              "        -4.83470473e-01,  1.33259061e+00,  1.08853497e+00,  2.31599128e+00,\n",
              "         4.85573980e-01, -3.39908332e-01, -3.68620760e-01,  6.14779907e-01,\n",
              "        -2.10702405e-01,  4.05313420e-02,  1.03111012e+00,  4.78395873e-01,\n",
              "        -8.86745851e-02,  4.77094490e-02, -1.33048711e+00,  2.91765089e-01,\n",
              "         2.32316939e+00, -1.24565120e-01, -1.12950011e+00,  5.48875561e-02,\n",
              "         2.71078717e+00,  1.12312413e-01, -2.32236726e-01,  1.58382436e+00,\n",
              "         5.86067479e-01, -7.49060435e-01, -1.68935145e-02, -5.99621568e-02,\n",
              "         3.70724267e-01, -5.83963972e-01,  1.69737269e-01,  1.39719358e+00,\n",
              "        -1.10208906e-01, -1.32330900e+00,  2.21549778e+00, -8.14964780e-02,\n",
              "        -4.40401831e-01,  5.78889371e-01, -7.05991792e-01,  2.98943196e-01,\n",
              "         2.24421021e+00,  1.13878172e+00, -1.96346191e-01,  1.67713975e+00,\n",
              "        -9.06978790e-01, -6.12676400e-01, -2.17880512e-01, -1.03618472e+00,\n",
              "        -9.14156897e-01, -4.47579938e-01,  2.68207474e+00,  1.00239769e+00,\n",
              "        -7.56238542e-01, -5.76785865e-01, -4.97826687e-01, -9.50047432e-01,\n",
              "         2.40930667e+00, -3.04017797e-01,  6.86560977e-01, -1.14385632e+00,\n",
              "        -9.71540743e-03, -3.47086439e-01,  2.70230768e-01, -1.38921335e-01,\n",
              "         2.90459606e+00, -8.63910148e-01, -6.55745043e-01, -1.06489715e+00,\n",
              "         2.34340233e-01, -8.06485291e-01, -5.55251544e-01,  7.00917191e-01,\n",
              "         2.53133449e+00,  4.64039659e-01,  1.62559162e-01, -7.63416649e-01,\n",
              "         2.48696447e-01,  1.98449697e-01,  3.20477517e-01,  3.34833731e-01,\n",
              "        -5.40895330e-01,  1.48333086e+00, -1.33766521e+00,  1.81352379e+00,\n",
              "         7.72698262e-01,  1.51204329e+00, -4.26045617e-01, -2.75305369e-01,\n",
              "         1.00957580e+00,  2.56004692e+00, -4.54758045e-01, -9.93116075e-01,\n",
              "         7.43985834e-01,  3.06121303e-01,  3.63546160e-01, -8.85444469e-01,\n",
              "         1.94990782e+00,  2.91177417e+00,  1.90683918e+00, -1.17256875e+00,\n",
              "         3.27655624e-01,  1.45461843e+00,  6.92437702e-02,  7.64218773e-02,\n",
              "         1.15313794e+00,  3.33532349e-02,  5.93245586e-01, -2.68127262e-01,\n",
              "         9.52150939e-01,  1.46897465e+00, -2.03524298e-01,  6.79382870e-01,\n",
              "        -1.28024036e+00, -1.34484332e+00, -6.05498293e-01, -1.18692497e+00,\n",
              "         4.64080669e-03,  1.31823440e+00, -6.34210722e-01,  1.91271590e-01,\n",
              "        -1.19410307e+00,  5.50176943e-01,  1.55381055e-01, -6.19854507e-01,\n",
              "         1.11724740e+00,  1.03828822e+00,  9.09082296e-01, -6.62923150e-01,\n",
              "        -5.26539116e-01, -1.05771904e+00, -8.35197719e-01, -3.82976975e-01,\n",
              "        -6.84457471e-01,  1.84941432e+00, -1.40226818e+00, -6.27032615e-01,\n",
              "        -1.17387013e-01,  2.05627804e-01, -9.35691218e-01,  2.98355524e+00,\n",
              "         7.51163941e-01, -3.54264546e-01, -1.43815871e+00, -1.45969303e+00,\n",
              "         1.12442551e+00, -3.84278357e-02, -5.69607758e-01, -1.00747229e+00,\n",
              "         4.42505337e-01,  2.61751279e-02, -2.53730037e-03, -8.78266362e-01,\n",
              "        -7.13169899e-01, -7.20348006e-01, -6.98813685e-01,  7.58342048e-01,\n",
              "         6.20656632e-02,  1.09571308e+00,  1.77763325e+00,  1.29670008e+00,\n",
              "         2.55874554e-01,  1.33846734e-01, -4.11689403e-01, -6.71402639e-02,\n",
              "        -6.77279364e-01,  1.84093483e-01,  7.94232583e-01,  1.57664625e+00,\n",
              "        -5.05004795e-01,  1.41154979e+00, -1.60455656e-01,  8.58835547e-01,\n",
              "         2.13653860e+00, -7.92129077e-01,  1.54793382e+00, -7.43183710e-02,\n",
              "         1.01675390e+00,  1.42590600e+00,  1.36848115e+00, -8.42375826e-01,\n",
              "         1.24645333e+00, -7.41882328e-01,  7.22451513e-01,  9.07780914e-02,\n",
              "         9.95219581e-01, -1.53277549e-01,  2.12805911e-01,  6.07601800e-01,\n",
              "        -5.19361009e-01,  8.08588797e-01,  1.66278354e+00,  2.12218239e+00,\n",
              "        -4.56059427e-02,  1.56946815e+00, -1.16539064e+00,  8.66013654e-01,\n",
              "         1.34694683e+00,  1.99297646e+00,  3.85080481e-01,  2.66054042e+00,\n",
              "        -8.28019612e-01,  2.15089482e+00,  2.84586982e-01,  2.99791145e+00,\n",
              "         2.08629185e+00,  5.07108301e-01, -3.97333189e-01, -4.04511296e-01,\n",
              "        -6.70101257e-01,  5.21464515e-01, -4.69114259e-01,  1.06700065e+00,\n",
              "        -1.31743227e-01,  1.76327704e+00, -3.32730225e-01,  1.46179654e+00,\n",
              "        -2.53771047e-01,  2.89023984e+00, -1.09360957e+00, -5.12182902e-01,\n",
              "        -1.67633763e-01, -3.11195904e-01, -7.77772863e-01,  5.57355050e-01,\n",
              "         8.44479333e-01, -1.13667822e+00, -1.25870604e+00,  1.91401728e+00,\n",
              "         1.74174272e+00,  4.20971016e-01, -2.60949155e-01,  9.44972832e-01,\n",
              "         1.21056279e+00,  2.33752560e+00, -3.75798867e-01, -8.99800683e-01,\n",
              "         4.56861551e-01, -9.71581753e-01,  1.18902847e+00,  1.59100247e+00,\n",
              "         2.86152742e+00,  4.13792909e-01, -5.48073437e-01, -1.03030799e-01,\n",
              "        -1.28741846e+00,  6.00423693e-01, -5.91142079e-01, -3.18374011e-01,\n",
              "         4.49683444e-01,  1.68431786e+00, -1.30895279e+00, -8.49553933e-01,\n",
              "        -9.78759860e-01,  2.28727885e+00, -7.84950970e-01, -3.61442653e-01,\n",
              "         1.05264444e+00,  1.32541251e+00,  1.17467226e+00,  9.73685260e-01,\n",
              "         7.87054476e-01,  2.30163507e+00, -1.21563739e+00, -4.18867510e-01,\n",
              "         1.44744033e+00,  9.59329046e-01,  5.71711264e-01,  1.26080954e+00,\n",
              "         1.33976872e+00, -3.12497286e-02,  8.80369868e-01, -6.41388829e-01,\n",
              "         6.29136121e-01, -1.20845929e+00,  2.33034749e+00, -1.26588414e+00,\n",
              "         7.65520155e-01,  5.64533157e-01,  2.16525103e+00,  9.16260403e-01,\n",
              "         8.37301226e-01, -2.40716215e-02,  3.92258588e-01,  7.36807727e-01,\n",
              "         1.87812675e+00,  8.22945011e-01, -1.01465040e+00,  1.23927522e+00,\n",
              "        -1.04336282e+00, -6.91635578e-01, -1.25152793e+00,  2.78256824e+00,\n",
              "         3.05533631e+00, -1.24434982e+00,  3.49189946e-01,  7.79876369e-01,\n",
              "         2.81128067e+00,  1.18189137e-02,  9.37794724e-01,  7.15273406e-01,\n",
              "        -5.98320186e-01, -1.00029418e+00,  9.88041474e-01, -1.05054093e+00,\n",
              "         1.05134306e-01, -1.10796579e+00,  4.99930194e-01,  1.96426403e+00,\n",
              "        -1.22281550e+00, -4.61936152e-01,  1.36130304e+00,  3.04098009e+00,\n",
              "         2.12936050e+00,  1.72738650e+00, -5.33717223e-01, -8.20841505e-01,\n",
              "         6.21958014e-01, -9.85937968e-01,  6.36314228e-01, -9.42869325e-01,\n",
              "         2.25856642e+00, -2.46592940e-01,  2.00733268e+00,  1.10289119e+00,\n",
              "         2.94048659e+00,  8.73191761e-01,  2.19984018e-01,  2.05757943e+00,\n",
              "         6.65026656e-01,  6.43492335e-01,  2.76821202e+00, -9.58526921e-02,\n",
              "         1.40437168e+00,  1.64842732e+00,  1.31105629e+00,  1.26668627e-01,\n",
              "         1.56229004e+00,  3.07687063e+00,  1.71303029e+00,  2.58875935e+00,\n",
              "         4.92752087e-01, -1.12232200e+00,  1.22491901e+00, -1.07207525e+00,\n",
              "         5.28642622e-01,  1.62689300e+00,  2.22985400e+00,  2.93330849e+00,\n",
              "         1.44026222e+00, -2.82483476e-01, -9.57225539e-01,  1.92837350e+00,\n",
              "         2.53851260e+00,  8.87547975e-01, -7.34704220e-01,  2.88306174e+00,\n",
              "         1.38283736e+00,  1.97862025e+00,  1.52639950e+00, -7.99307184e-01,\n",
              "         1.69149597e+00, -2.89661583e-01,  6.57848549e-01, -1.02900661e+00,\n",
              "         2.57440313e+00,  6.72204763e-01,  2.45955342e+00, -8.71088255e-01,\n",
              "         2.03604510e+00, -1.17974686e+00, -8.92622576e-01,  5.42998836e-01,\n",
              "         8.15766904e-01, -1.35202143e+00,  5.35820729e-01, -9.21335004e-01,\n",
              "         2.41518340e-01,  2.99073334e+00, -1.39509007e+00,  1.43308411e+00,\n",
              "         1.84223621e+00,  3.13299410e-01, -1.38791196e+00,  2.07193564e+00,\n",
              "        -1.23717171e+00,  1.93555161e+00, -1.02182850e+00,  1.82070189e+00,\n",
              "         2.27162126e-01,  2.11500428e+00,  2.20831967e+00,  1.88530486e+00,\n",
              "         1.28234386e+00,  1.69867407e+00, -1.37355575e+00,  2.05040132e+00,\n",
              "        -1.15821254e+00,  1.55511193e+00,  2.35905992e+00,  1.83505811e+00,\n",
              "        -1.27306225e+00,  3.02662388e+00,  1.41872790e+00,  3.01944577e+00,\n",
              "         2.42366289e+00, -1.22999361e+00, -1.15103443e+00,  2.95484281e+00,\n",
              "        -1.36637764e+00, -1.42380250e+00,  1.27516576e+00, -1.43098061e+00,\n",
              "        -1.41662439e+00,  8.94726082e-01,  5.14286408e-01,  1.39001547e+00,\n",
              "         2.22267589e+00,  1.87094864e+00,  2.81845877e+00,  4.71217766e-01,\n",
              "         2.71796528e+00,  2.77408875e-01, -1.30177468e+00,  7.29629620e-01,\n",
              "         1.21774090e+00,  2.38777235e+00,  1.97144214e+00, -8.56732040e-01,\n",
              "         2.00015457e+00, -1.29459657e+00,  9.01904189e-01,  3.77902374e-01,\n",
              "         2.04322321e+00,  2.43801910e+00, -6.48566936e-01,  1.23209711e+00,\n",
              "         2.43084099e+00,  8.51657440e-01,  2.52415638e+00,  2.48108774e+00,\n",
              "         1.79198946e+00,  1.82788000e+00,  8.01410690e-01,  2.77539013e+00,\n",
              "         2.28010074e+00,  2.01451078e+00,  2.39495046e+00,  2.06475753e+00,\n",
              "        -1.45251493e+00,  1.80634568e+00,  1.89966107e+00,  2.96919902e+00,\n",
              "         1.49050897e+00,  2.64618420e+00,  2.80410256e+00,  9.30616617e-01,\n",
              "         2.07911375e+00,  1.18185036e+00,  2.14371671e+00,  1.74892082e+00,\n",
              "         1.26798765e+00,  1.59818057e+00,  1.11006929e+00,  2.60311556e+00,\n",
              "         2.96202092e+00,  1.50486518e+00,  1.04546633e+00,  1.20338469e+00,\n",
              "         9.66507153e-01,  1.79916757e+00,  9.23438510e-01,  2.89741795e+00,\n",
              "         6.93739084e-01,  2.26574453e+00,  1.92119539e+00,  1.54075572e+00,\n",
              "         2.02886700e+00, -1.10078768e+00,  1.77045514e+00,  1.70585218e+00,\n",
              "         1.61971490e+00,  2.58158124e+00,  4.28149123e-01,  1.64124922e+00,\n",
              "         2.36623803e+00,  1.16031604e+00,  1.47615275e+00,  7.08095299e-01,\n",
              "         1.66996164e+00,  1.94272971e+00,  1.60535868e+00,  2.44519721e+00,\n",
              "         1.30387818e+00,  2.50262206e+00,  1.65560543e+00,  8.30123119e-01,\n",
              "         2.78974635e+00,  3.09122684e+00,  1.98579836e+00,  2.59593746e+00,\n",
              "         1.49768708e+00,  1.37565926e+00,  2.82563688e+00,  1.51922140e+00,\n",
              "         2.61747178e+00,  2.29445696e+00,  1.86377054e+00,  2.55286881e+00,\n",
              "         2.75385581e+00,  1.53357761e+00,  2.02168889e+00,  1.61253679e+00,\n",
              "         2.20114157e+00,  2.83999310e+00,  1.08135687e+00,  2.38059424e+00,\n",
              "         1.63407111e+00,  2.17960725e+00, -1.44533682e+00,  2.27292264e+00,\n",
              "         1.89248296e+00,  2.10064807e+00,  3.14147359e+00,  2.62464988e+00,\n",
              "         2.48826585e+00,  1.72020839e+00,  1.35412493e+00,  2.34470371e+00,\n",
              "         2.63182799e+00,  1.73456461e+00,  1.85659243e+00,  3.01226766e+00,\n",
              "         2.47390964e+00,  3.12711738e+00, -1.35919953e+00,  2.67489663e+00,\n",
              "         2.41648478e+00,  2.15807292e+00,  1.75609893e+00,  2.74667770e+00,\n",
              "         2.63900610e+00,  2.65336231e+00,  1.28952197e+00,  2.35188182e+00,\n",
              "         2.56722503e+00,  2.51697828e+00,  2.49544396e+00,  2.61029367e+00,\n",
              "         1.19620658e+00,  1.16749415e+00,  2.19396346e+00,  2.69643095e+00,\n",
              "         2.37341614e+00,  3.13429548e+00,  2.85434931e+00,  1.78481136e+00,\n",
              "         3.06969252e+00,  2.54569071e+00,  2.83281499e+00, -1.47404925e+00,\n",
              "         2.68925285e+00,  2.70360906e+00,  2.09346996e+00,  2.91895227e+00,\n",
              "         1.95708593e+00,  2.72514338e+00,  2.97637713e+00,  3.09840495e+00,\n",
              "         2.73949960e+00,  2.50980017e+00,  3.10558306e+00,  2.18678535e+00,\n",
              "         2.92613038e+00,  2.23703210e+00,  2.30881317e+00,  2.86870552e+00,\n",
              "         2.87588363e+00,  3.00508956e+00,  2.17242914e+00,  2.76103392e+00,\n",
              "         3.11276116e+00,  2.40212856e+00,  2.73232149e+00,  2.79692445e+00,\n",
              "         2.84717120e+00,  3.04815820e+00,  3.08404874e+00,  2.46673153e+00,\n",
              "         2.25138832e+00, -1.40944628e+00,  3.06251441e+00,  3.03380199e+00,\n",
              "         2.45237531e+00,  3.11993927e+00,  2.10782618e+00]),\n",
              " duration\n",
              " -0.583964    133\n",
              " -0.670101    128\n",
              " -0.605498    126\n",
              " -0.950047    126\n",
              " -0.835198    125\n",
              "             ... \n",
              "  2.818459      3\n",
              "  3.033802      3\n",
              " -1.459693      3\n",
              "  3.112761      2\n",
              " -1.474049      2\n",
              " Name: count, Length: 643, dtype: int64)"
            ]
          },
          "metadata": {},
          "execution_count": 138
        }
      ]
    },
    {
      "cell_type": "code",
      "source": [
        "# Visualización de la distribución de 'duration'\n",
        "plt.figure(figsize=(10, 6))\n",
        "sns.histplot(data_no_outliers['duration'], kde=True, bins=30)\n",
        "plt.title('Distribución de la Duración de los Contactos')\n",
        "plt.xlabel('Duración (segundos)')\n",
        "plt.ylabel('Frecuencia')\n",
        "plt.grid(True)\n",
        "plt.show()\n"
      ],
      "metadata": {
        "colab": {
          "base_uri": "https://localhost:8080/",
          "height": 565
        },
        "id": "zTwlNuAvWfMs",
        "outputId": "542fcd4d-6a2f-4606-8c65-2c5be1dee4d9"
      },
      "execution_count": 139,
      "outputs": [
        {
          "output_type": "display_data",
          "data": {
            "text/plain": [
              "<Figure size 1000x600 with 1 Axes>"
            ],
            "image/png": "[encoded data removed]"
          },
          "metadata": {}
        }
      ]
    },
    {
      "cell_type": "markdown",
      "source": [
        "# CAMPAING"
      ],
      "metadata": {
        "id": "689He3crPxBX"
      }
    },
    {
      "cell_type": "code",
      "source": [
        "# Descripción inicial\n",
        "campaign_description = data_no_outliers['campaign'].describe()\n",
        "\n",
        "# Valores únicos\n",
        "campaign_unique = data_no_outliers['campaign'].unique()\n",
        "\n",
        "# Frecuencia de cada valor\n",
        "campaign_value_counts = data_no_outliers['campaign'].value_counts()\n",
        "\n",
        "campaign_description, campaign_unique, campaign_value_counts\n"
      ],
      "metadata": {
        "colab": {
          "base_uri": "https://localhost:8080/"
        },
        "id": "ef6-mmroW31t",
        "outputId": "db7e27e6-a896-4ffa-a6a2-8264dc4755b5"
      },
      "execution_count": 140,
      "outputs": [
        {
          "output_type": "execute_result",
          "data": {
            "text/plain": [
              "(count    2.818000e+04\n",
              " mean     9.682342e-17\n",
              " std      1.000000e+00\n",
              " min     -8.866588e-01\n",
              " 25%     -8.866588e-01\n",
              " 50%     -1.414074e-01\n",
              " 75%      6.038441e-01\n",
              " max      2.839598e+00\n",
              " Name: campaign, dtype: float64,\n",
              " array([-0.88665877, -0.14140736,  0.60384406,  2.09434689,  1.34909547,\n",
              "         2.8395983 ]),\n",
              " campaign\n",
              " -0.886659    11171\n",
              " -0.141407     8434\n",
              "  0.603844     3784\n",
              "  1.349095     2575\n",
              "  2.094347     1280\n",
              "  2.839598      936\n",
              " Name: count, dtype: int64)"
            ]
          },
          "metadata": {},
          "execution_count": 140
        }
      ]
    },
    {
      "cell_type": "code",
      "source": [
        "# Visualización de la distribución de 'campaign'\n",
        "plt.figure(figsize=(10, 6))\n",
        "sns.histplot(data_no_outliers['campaign'], kde=True, bins=30)\n",
        "plt.title('Distribución del Número de Contactos de la Campaña')\n",
        "plt.xlabel('Número de Contactos')\n",
        "plt.ylabel('Frecuencia')\n",
        "plt.grid(True)\n",
        "plt.show()\n"
      ],
      "metadata": {
        "colab": {
          "base_uri": "https://localhost:8080/",
          "height": 565
        },
        "id": "H0U5Nu1xW36u",
        "outputId": "0ce3f30b-ad5b-4524-b267-802800463ec0"
      },
      "execution_count": 141,
      "outputs": [
        {
          "output_type": "display_data",
          "data": {
            "text/plain": [
              "<Figure size 1000x600 with 1 Axes>"
            ],
            "image/png": "[encoded data removed]"
          },
          "metadata": {}
        }
      ]
    },
    {
      "cell_type": "markdown",
      "source": [
        "#PDAYS"
      ],
      "metadata": {
        "id": "0s26R-QEPxD3"
      }
    },
    {
      "cell_type": "code",
      "source": [
        "# Descripción inicial\n",
        "pdays_description = data_no_outliers['pdays'].describe()\n",
        "\n",
        "# Valores únicos\n",
        "pdays_unique = data_no_outliers['pdays'].unique()\n",
        "\n",
        "# Frecuencia de cada valor\n",
        "pdays_value_counts = data_no_outliers['pdays'].value_counts()\n",
        "\n",
        "pdays_description, pdays_unique, pdays_value_counts\n"
      ],
      "metadata": {
        "colab": {
          "base_uri": "https://localhost:8080/"
        },
        "id": "goShlHknXKN2",
        "outputId": "6390d0fc-3683-4b42-af01-5faa2501734c"
      },
      "execution_count": 142,
      "outputs": [
        {
          "output_type": "execute_result",
          "data": {
            "text/plain": [
              "(count    0.0\n",
              " mean     NaN\n",
              " std      NaN\n",
              " min      NaN\n",
              " 25%      NaN\n",
              " 50%      NaN\n",
              " 75%      NaN\n",
              " max      NaN\n",
              " Name: pdays, dtype: float64,\n",
              " array([nan]),\n",
              " Series([], Name: count, dtype: int64))"
            ]
          },
          "metadata": {},
          "execution_count": 142
        }
      ]
    },
    {
      "cell_type": "code",
      "source": [
        "# Sustituir valores NaN en 'pdays' por -1\n",
        "data_no_outliers['pdays'] = data_no_outliers['pdays'].fillna(-1)\n",
        "\n",
        "# Verificar que se han sustituido correctamente\n",
        "missing_pdays_after = data_no_outliers['pdays'].isnull().sum()\n",
        "print(\"Valores faltantes en 'pdays' después de la sustitución:\", missing_pdays_after)\n",
        "\n",
        "# Mostrar los primeros registros para confirmar los cambios\n",
        "data_no_outliers[['pdays']].head()\n"
      ],
      "metadata": {
        "colab": {
          "base_uri": "https://localhost:8080/",
          "height": 224
        },
        "id": "cVwT4qveXQld",
        "outputId": "9820daff-2268-4b5c-a669-233cab09bd42"
      },
      "execution_count": 143,
      "outputs": [
        {
          "output_type": "stream",
          "name": "stdout",
          "text": [
            "Valores faltantes en 'pdays' después de la sustitución: 0\n"
          ]
        },
        {
          "output_type": "execute_result",
          "data": {
            "text/plain": [
              "   pdays\n",
              "0   -1.0\n",
              "1   -1.0\n",
              "2   -1.0\n",
              "3   -1.0\n",
              "4   -1.0"
            ],
            "text/html": [
              "\n",
              "  <div id=\"df-ac6a2414-58f4-4ea2-9500-89bac8d4bbfc\" class=\"colab-df-container\">\n",
              "    <div>\n",
              "<style scoped>\n",
              "    .dataframe tbody tr th:only-of-type {\n",
              "        vertical-align: middle;\n",
              "    }\n",
              "\n",
              "    .dataframe tbody tr th {\n",
              "        vertical-align: top;\n",
              "    }\n",
              "\n",
              "    .dataframe thead th {\n",
              "        text-align: right;\n",
              "    }\n",
              "</style>\n",
              "<table border=\"1\" class=\"dataframe\">\n",
              "  <thead>\n",
              "    <tr style=\"text-align: right;\">\n",
              "      <th></th>\n",
              "      <th>pdays</th>\n",
              "    </tr>\n",
              "  </thead>\n",
              "  <tbody>\n",
              "    <tr>\n",
              "      <th>0</th>\n",
              "      <td>-1.0</td>\n",
              "    </tr>\n",
              "    <tr>\n",
              "      <th>1</th>\n",
              "      <td>-1.0</td>\n",
              "    </tr>\n",
              "    <tr>\n",
              "      <th>2</th>\n",
              "      <td>-1.0</td>\n",
              "    </tr>\n",
              "    <tr>\n",
              "      <th>3</th>\n",
              "      <td>-1.0</td>\n",
              "    </tr>\n",
              "    <tr>\n",
              "      <th>4</th>\n",
              "      <td>-1.0</td>\n",
              "    </tr>\n",
              "  </tbody>\n",
              "</table>\n",
              "</div>\n",
              "    <div class=\"colab-df-buttons\">\n",
              "\n",
              "  <div class=\"colab-df-container\">\n",
              "    <button class=\"colab-df-convert\" onclick=\"convertToInteractive('df-ac6a2414-58f4-4ea2-9500-89bac8d4bbfc')\"\n",
              "            title=\"Convert this dataframe to an interactive table.\"\n",
              "            style=\"display:none;\">\n",
              "\n",
              "  <svg xmlns=\"http://www.w3.org/2000/svg\" height=\"24px\" viewBox=\"0 -960 960 960\">\n",
              "    <path d=\"M120-120v-720h720v720H120Zm60-500h600v-160H180v160Zm220 220h160v-160H400v160Zm0 220h160v-160H400v160ZM180-400h160v-160H180v160Zm440 0h160v-160H620v160ZM180-180h160v-160H180v160Zm440 0h160v-160H620v160Z\"/>\n",
              "  </svg>\n",
              "    </button>\n",
              "\n",
              "  <style>\n",
              "    .colab-df-container {\n",
              "      display:flex;\n",
              "      gap: 12px;\n",
              "    }\n",
              "\n",
              "    .colab-df-convert {\n",
              "      background-color: #E8F0FE;\n",
              "      border: none;\n",
              "      border-radius: 50%;\n",
              "      cursor: pointer;\n",
              "      display: none;\n",
              "      fill: #1967D2;\n",
              "      height: 32px;\n",
              "      padding: 0 0 0 0;\n",
              "      width: 32px;\n",
              "    }\n",
              "\n",
              "    .colab-df-convert:hover {\n",
              "      background-color: #E2EBFA;\n",
              "      box-shadow: 0px 1px 2px rgba(60, 64, 67, 0.3), 0px 1px 3px 1px rgba(60, 64, 67, 0.15);\n",
              "      fill: #174EA6;\n",
              "    }\n",
              "\n",
              "    .colab-df-buttons div {\n",
              "      margin-bottom: 4px;\n",
              "    }\n",
              "\n",
              "    [theme=dark] .colab-df-convert {\n",
              "      background-color: #3B4455;\n",
              "      fill: #D2E3FC;\n",
              "    }\n",
              "\n",
              "    [theme=dark] .colab-df-convert:hover {\n",
              "      background-color: #434B5C;\n",
              "      box-shadow: 0px 1px 3px 1px rgba(0, 0, 0, 0.15);\n",
              "      filter: drop-shadow(0px 1px 2px rgba(0, 0, 0, 0.3));\n",
              "      fill: #FFFFFF;\n",
              "    }\n",
              "  </style>\n",
              "\n",
              "    <script>\n",
              "      const buttonEl =\n",
              "        document.querySelector('#df-ac6a2414-58f4-4ea2-9500-89bac8d4bbfc button.colab-df-convert');\n",
              "      buttonEl.style.display =\n",
              "        google.colab.kernel.accessAllowed ? 'block' : 'none';\n",
              "\n",
              "      async function convertToInteractive(key) {\n",
              "        const element = document.querySelector('#df-ac6a2414-58f4-4ea2-9500-89bac8d4bbfc');\n",
              "        const dataTable =\n",
              "          await google.colab.kernel.invokeFunction('convertToInteractive',\n",
              "                                                    [key], {});\n",
              "        if (!dataTable) return;\n",
              "\n",
              "        const docLinkHtml = 'Like what you see? Visit the ' +\n",
              "          '<a target=\"_blank\" href=https://colab.research.google.com/notebooks/data_table.ipynb>data table notebook</a>'\n",
              "          + ' to learn more about interactive tables.';\n",
              "        element.innerHTML = '';\n",
              "        dataTable['output_type'] = 'display_data';\n",
              "        await google.colab.output.renderOutput(dataTable, element);\n",
              "        const docLink = document.createElement('div');\n",
              "        docLink.innerHTML = docLinkHtml;\n",
              "        element.appendChild(docLink);\n",
              "      }\n",
              "    </script>\n",
              "  </div>\n",
              "\n",
              "\n",
              "<div id=\"df-664876e4-fdef-4ba1-9df9-18dbab42702a\">\n",
              "  <button class=\"colab-df-quickchart\" onclick=\"quickchart('df-664876e4-fdef-4ba1-9df9-18dbab42702a')\"\n",
              "            title=\"Suggest charts\"\n",
              "            style=\"display:none;\">\n",
              "\n",
              "<svg xmlns=\"http://www.w3.org/2000/svg\" height=\"24px\"viewBox=\"0 0 24 24\"\n",
              "     width=\"24px\">\n",
              "    <g>\n",
              "        <path d=\"M19 3H5c-1.1 0-2 .9-2 2v14c0 1.1.9 2 2 2h14c1.1 0 2-.9 2-2V5c0-1.1-.9-2-2-2zM9 17H7v-7h2v7zm4 0h-2V7h2v10zm4 0h-2v-4h2v4z\"/>\n",
              "    </g>\n",
              "</svg>\n",
              "  </button>\n",
              "\n",
              "<style>\n",
              "  .colab-df-quickchart {\n",
              "      --bg-color: #E8F0FE;\n",
              "      --fill-color: #1967D2;\n",
              "      --hover-bg-color: #E2EBFA;\n",
              "      --hover-fill-color: #174EA6;\n",
              "      --disabled-fill-color: #AAA;\n",
              "      --disabled-bg-color: #DDD;\n",
              "  }\n",
              "\n",
              "  [theme=dark] .colab-df-quickchart {\n",
              "      --bg-color: #3B4455;\n",
              "      --fill-color: #D2E3FC;\n",
              "      --hover-bg-color: #434B5C;\n",
              "      --hover-fill-color: #FFFFFF;\n",
              "      --disabled-bg-color: #3B4455;\n",
              "      --disabled-fill-color: #666;\n",
              "  }\n",
              "\n",
              "  .colab-df-quickchart {\n",
              "    background-color: var(--bg-color);\n",
              "    border: none;\n",
              "    border-radius: 50%;\n",
              "    cursor: pointer;\n",
              "    display: none;\n",
              "    fill: var(--fill-color);\n",
              "    height: 32px;\n",
              "    padding: 0;\n",
              "    width: 32px;\n",
              "  }\n",
              "\n",
              "  .colab-df-quickchart:hover {\n",
              "    background-color: var(--hover-bg-color);\n",
              "    box-shadow: 0 1px 2px rgba(60, 64, 67, 0.3), 0 1px 3px 1px rgba(60, 64, 67, 0.15);\n",
              "    fill: var(--button-hover-fill-color);\n",
              "  }\n",
              "\n",
              "  .colab-df-quickchart-complete:disabled,\n",
              "  .colab-df-quickchart-complete:disabled:hover {\n",
              "    background-color: var(--disabled-bg-color);\n",
              "    fill: var(--disabled-fill-color);\n",
              "    box-shadow: none;\n",
              "  }\n",
              "\n",
              "  .colab-df-spinner {\n",
              "    border: 2px solid var(--fill-color);\n",
              "    border-color: transparent;\n",
              "    border-bottom-color: var(--fill-color);\n",
              "    animation:\n",
              "      spin 1s steps(1) infinite;\n",
              "  }\n",
              "\n",
              "  @keyframes spin {\n",
              "    0% {\n",
              "      border-color: transparent;\n",
              "      border-bottom-color: var(--fill-color);\n",
              "      border-left-color: var(--fill-color);\n",
              "    }\n",
              "    20% {\n",
              "      border-color: transparent;\n",
              "      border-left-color: var(--fill-color);\n",
              "      border-top-color: var(--fill-color);\n",
              "    }\n",
              "    30% {\n",
              "      border-color: transparent;\n",
              "      border-left-color: var(--fill-color);\n",
              "      border-top-color: var(--fill-color);\n",
              "      border-right-color: var(--fill-color);\n",
              "    }\n",
              "    40% {\n",
              "      border-color: transparent;\n",
              "      border-right-color: var(--fill-color);\n",
              "      border-top-color: var(--fill-color);\n",
              "    }\n",
              "    60% {\n",
              "      border-color: transparent;\n",
              "      border-right-color: var(--fill-color);\n",
              "    }\n",
              "    80% {\n",
              "      border-color: transparent;\n",
              "      border-right-color: var(--fill-color);\n",
              "      border-bottom-color: var(--fill-color);\n",
              "    }\n",
              "    90% {\n",
              "      border-color: transparent;\n",
              "      border-bottom-color: var(--fill-color);\n",
              "    }\n",
              "  }\n",
              "</style>\n",
              "\n",
              "  <script>\n",
              "    async function quickchart(key) {\n",
              "      const quickchartButtonEl =\n",
              "        document.querySelector('#' + key + ' button');\n",
              "      quickchartButtonEl.disabled = true;  // To prevent multiple clicks.\n",
              "      quickchartButtonEl.classList.add('colab-df-spinner');\n",
              "      try {\n",
              "        const charts = await google.colab.kernel.invokeFunction(\n",
              "            'suggestCharts', [key], {});\n",
              "      } catch (error) {\n",
              "        console.error('Error during call to suggestCharts:', error);\n",
              "      }\n",
              "      quickchartButtonEl.classList.remove('colab-df-spinner');\n",
              "      quickchartButtonEl.classList.add('colab-df-quickchart-complete');\n",
              "    }\n",
              "    (() => {\n",
              "      let quickchartButtonEl =\n",
              "        document.querySelector('#df-664876e4-fdef-4ba1-9df9-18dbab42702a button');\n",
              "      quickchartButtonEl.style.display =\n",
              "        google.colab.kernel.accessAllowed ? 'block' : 'none';\n",
              "    })();\n",
              "  </script>\n",
              "</div>\n",
              "    </div>\n",
              "  </div>\n"
            ],
            "application/vnd.google.colaboratory.intrinsic+json": {
              "type": "dataframe",
              "summary": "{\n  \"name\": \"data_no_outliers[['pdays']]\",\n  \"rows\": 5,\n  \"fields\": [\n    {\n      \"column\": \"pdays\",\n      \"properties\": {\n        \"dtype\": \"number\",\n        \"std\": 0.0,\n        \"min\": -1.0,\n        \"max\": -1.0,\n        \"num_unique_values\": 1,\n        \"samples\": [\n          -1.0\n        ],\n        \"semantic_type\": \"\",\n        \"description\": \"\"\n      }\n    }\n  ]\n}"
            }
          },
          "metadata": {},
          "execution_count": 143
        }
      ]
    },
    {
      "cell_type": "code",
      "source": [
        "# Visualización de la distribución de 'previous'\n",
        "plt.figure(figsize=(10, 6))\n",
        "sns.histplot(data_no_outliers['pdays'], kde=True, bins=40)\n",
        "plt.title('Distribución del Número de Contactos Previos')\n",
        "plt.xlabel('Número de Contactos Previos')\n",
        "plt.ylabel('Frecuencia')\n",
        "plt.grid(True)\n",
        "plt.show()\n"
      ],
      "metadata": {
        "colab": {
          "base_uri": "https://localhost:8080/",
          "height": 564
        },
        "id": "s59qISx9Zxyz",
        "outputId": "9a851efb-9363-4192-e8ee-bd70a934f938"
      },
      "execution_count": 148,
      "outputs": [
        {
          "output_type": "display_data",
          "data": {
            "text/plain": [
              "<Figure size 1000x600 with 1 Axes>"
            ],
            "image/png": "[encoded data removed]"
          },
          "metadata": {}
        }
      ]
    },
    {
      "cell_type": "markdown",
      "source": [
        "#PREVIOUS"
      ],
      "metadata": {
        "id": "CVNhjiC5P3Ix"
      }
    },
    {
      "cell_type": "code",
      "source": [
        "# Descripción inicial\n",
        "previous_description = data_no_outliers['previous'].describe()\n",
        "\n",
        "# Valores únicos\n",
        "previous_unique = data_no_outliers['previous'].unique()\n",
        "\n",
        "# Frecuencia de cada valor\n",
        "previous_value_counts = data_no_outliers['previous'].value_counts()\n",
        "\n",
        "previous_description, previous_unique, previous_value_counts\n"
      ],
      "metadata": {
        "colab": {
          "base_uri": "https://localhost:8080/"
        },
        "id": "qyN9CcVTXq0g",
        "outputId": "2f4cb0cf-ef39-40b6-d8c2-9feba0d75bef"
      },
      "execution_count": 144,
      "outputs": [
        {
          "output_type": "execute_result",
          "data": {
            "text/plain": [
              "(count    0.0\n",
              " mean     NaN\n",
              " std      NaN\n",
              " min      NaN\n",
              " 25%      NaN\n",
              " 50%      NaN\n",
              " 75%      NaN\n",
              " max      NaN\n",
              " Name: previous, dtype: float64,\n",
              " array([nan]),\n",
              " Series([], Name: count, dtype: int64))"
            ]
          },
          "metadata": {},
          "execution_count": 144
        }
      ]
    },
    {
      "cell_type": "code",
      "source": [
        "# Sustituir valores NaN en 'previous' por -1\n",
        "data_no_outliers['previous'] = data_no_outliers['previous'].fillna(-1)\n",
        "\n",
        "# Verificar que se han sustituido correctamente\n",
        "missing_previous_after = data_no_outliers['previous'].isnull().sum()\n",
        "print(\"Valores faltantes en 'previous' después de la sustitución:\", missing_previous_after)\n",
        "\n",
        "# Mostrar los primeros registros para confirmar los cambios\n",
        "data_no_outliers[['previous']].head()\n"
      ],
      "metadata": {
        "colab": {
          "base_uri": "https://localhost:8080/",
          "height": 224
        },
        "id": "RZaJ4OagXq6m",
        "outputId": "5420eb36-d70e-47f9-ee04-a6bf5280af1b"
      },
      "execution_count": 145,
      "outputs": [
        {
          "output_type": "stream",
          "name": "stdout",
          "text": [
            "Valores faltantes en 'previous' después de la sustitución: 0\n"
          ]
        },
        {
          "output_type": "execute_result",
          "data": {
            "text/plain": [
              "   previous\n",
              "0      -1.0\n",
              "1      -1.0\n",
              "2      -1.0\n",
              "3      -1.0\n",
              "4      -1.0"
            ],
            "text/html": [
              "\n",
              "  <div id=\"df-b3c0b3e1-c602-4220-a44f-bdf23bc3c8b1\" class=\"colab-df-container\">\n",
              "    <div>\n",
              "<style scoped>\n",
              "    .dataframe tbody tr th:only-of-type {\n",
              "        vertical-align: middle;\n",
              "    }\n",
              "\n",
              "    .dataframe tbody tr th {\n",
              "        vertical-align: top;\n",
              "    }\n",
              "\n",
              "    .dataframe thead th {\n",
              "        text-align: right;\n",
              "    }\n",
              "</style>\n",
              "<table border=\"1\" class=\"dataframe\">\n",
              "  <thead>\n",
              "    <tr style=\"text-align: right;\">\n",
              "      <th></th>\n",
              "      <th>previous</th>\n",
              "    </tr>\n",
              "  </thead>\n",
              "  <tbody>\n",
              "    <tr>\n",
              "      <th>0</th>\n",
              "      <td>-1.0</td>\n",
              "    </tr>\n",
              "    <tr>\n",
              "      <th>1</th>\n",
              "      <td>-1.0</td>\n",
              "    </tr>\n",
              "    <tr>\n",
              "      <th>2</th>\n",
              "      <td>-1.0</td>\n",
              "    </tr>\n",
              "    <tr>\n",
              "      <th>3</th>\n",
              "      <td>-1.0</td>\n",
              "    </tr>\n",
              "    <tr>\n",
              "      <th>4</th>\n",
              "      <td>-1.0</td>\n",
              "    </tr>\n",
              "  </tbody>\n",
              "</table>\n",
              "</div>\n",
              "    <div class=\"colab-df-buttons\">\n",
              "\n",
              "  <div class=\"colab-df-container\">\n",
              "    <button class=\"colab-df-convert\" onclick=\"convertToInteractive('df-b3c0b3e1-c602-4220-a44f-bdf23bc3c8b1')\"\n",
              "            title=\"Convert this dataframe to an interactive table.\"\n",
              "            style=\"display:none;\">\n",
              "\n",
              "  <svg xmlns=\"http://www.w3.org/2000/svg\" height=\"24px\" viewBox=\"0 -960 960 960\">\n",
              "    <path d=\"M120-120v-720h720v720H120Zm60-500h600v-160H180v160Zm220 220h160v-160H400v160Zm0 220h160v-160H400v160ZM180-400h160v-160H180v160Zm440 0h160v-160H620v160ZM180-180h160v-160H180v160Zm440 0h160v-160H620v160Z\"/>\n",
              "  </svg>\n",
              "    </button>\n",
              "\n",
              "  <style>\n",
              "    .colab-df-container {\n",
              "      display:flex;\n",
              "      gap: 12px;\n",
              "    }\n",
              "\n",
              "    .colab-df-convert {\n",
              "      background-color: #E8F0FE;\n",
              "      border: none;\n",
              "      border-radius: 50%;\n",
              "      cursor: pointer;\n",
              "      display: none;\n",
              "      fill: #1967D2;\n",
              "      height: 32px;\n",
              "      padding: 0 0 0 0;\n",
              "      width: 32px;\n",
              "    }\n",
              "\n",
              "    .colab-df-convert:hover {\n",
              "      background-color: #E2EBFA;\n",
              "      box-shadow: 0px 1px 2px rgba(60, 64, 67, 0.3), 0px 1px 3px 1px rgba(60, 64, 67, 0.15);\n",
              "      fill: #174EA6;\n",
              "    }\n",
              "\n",
              "    .colab-df-buttons div {\n",
              "      margin-bottom: 4px;\n",
              "    }\n",
              "\n",
              "    [theme=dark] .colab-df-convert {\n",
              "      background-color: #3B4455;\n",
              "      fill: #D2E3FC;\n",
              "    }\n",
              "\n",
              "    [theme=dark] .colab-df-convert:hover {\n",
              "      background-color: #434B5C;\n",
              "      box-shadow: 0px 1px 3px 1px rgba(0, 0, 0, 0.15);\n",
              "      filter: drop-shadow(0px 1px 2px rgba(0, 0, 0, 0.3));\n",
              "      fill: #FFFFFF;\n",
              "    }\n",
              "  </style>\n",
              "\n",
              "    <script>\n",
              "      const buttonEl =\n",
              "        document.querySelector('#df-b3c0b3e1-c602-4220-a44f-bdf23bc3c8b1 button.colab-df-convert');\n",
              "      buttonEl.style.display =\n",
              "        google.colab.kernel.accessAllowed ? 'block' : 'none';\n",
              "\n",
              "      async function convertToInteractive(key) {\n",
              "        const element = document.querySelector('#df-b3c0b3e1-c602-4220-a44f-bdf23bc3c8b1');\n",
              "        const dataTable =\n",
              "          await google.colab.kernel.invokeFunction('convertToInteractive',\n",
              "                                                    [key], {});\n",
              "        if (!dataTable) return;\n",
              "\n",
              "        const docLinkHtml = 'Like what you see? Visit the ' +\n",
              "          '<a target=\"_blank\" href=https://colab.research.google.com/notebooks/data_table.ipynb>data table notebook</a>'\n",
              "          + ' to learn more about interactive tables.';\n",
              "        element.innerHTML = '';\n",
              "        dataTable['output_type'] = 'display_data';\n",
              "        await google.colab.output.renderOutput(dataTable, element);\n",
              "        const docLink = document.createElement('div');\n",
              "        docLink.innerHTML = docLinkHtml;\n",
              "        element.appendChild(docLink);\n",
              "      }\n",
              "    </script>\n",
              "  </div>\n",
              "\n",
              "\n",
              "<div id=\"df-ac4b7a47-bfd8-406c-88d8-2ffb08b2367e\">\n",
              "  <button class=\"colab-df-quickchart\" onclick=\"quickchart('df-ac4b7a47-bfd8-406c-88d8-2ffb08b2367e')\"\n",
              "            title=\"Suggest charts\"\n",
              "            style=\"display:none;\">\n",
              "\n",
              "<svg xmlns=\"http://www.w3.org/2000/svg\" height=\"24px\"viewBox=\"0 0 24 24\"\n",
              "     width=\"24px\">\n",
              "    <g>\n",
              "        <path d=\"M19 3H5c-1.1 0-2 .9-2 2v14c0 1.1.9 2 2 2h14c1.1 0 2-.9 2-2V5c0-1.1-.9-2-2-2zM9 17H7v-7h2v7zm4 0h-2V7h2v10zm4 0h-2v-4h2v4z\"/>\n",
              "    </g>\n",
              "</svg>\n",
              "  </button>\n",
              "\n",
              "<style>\n",
              "  .colab-df-quickchart {\n",
              "      --bg-color: #E8F0FE;\n",
              "      --fill-color: #1967D2;\n",
              "      --hover-bg-color: #E2EBFA;\n",
              "      --hover-fill-color: #174EA6;\n",
              "      --disabled-fill-color: #AAA;\n",
              "      --disabled-bg-color: #DDD;\n",
              "  }\n",
              "\n",
              "  [theme=dark] .colab-df-quickchart {\n",
              "      --bg-color: #3B4455;\n",
              "      --fill-color: #D2E3FC;\n",
              "      --hover-bg-color: #434B5C;\n",
              "      --hover-fill-color: #FFFFFF;\n",
              "      --disabled-bg-color: #3B4455;\n",
              "      --disabled-fill-color: #666;\n",
              "  }\n",
              "\n",
              "  .colab-df-quickchart {\n",
              "    background-color: var(--bg-color);\n",
              "    border: none;\n",
              "    border-radius: 50%;\n",
              "    cursor: pointer;\n",
              "    display: none;\n",
              "    fill: var(--fill-color);\n",
              "    height: 32px;\n",
              "    padding: 0;\n",
              "    width: 32px;\n",
              "  }\n",
              "\n",
              "  .colab-df-quickchart:hover {\n",
              "    background-color: var(--hover-bg-color);\n",
              "    box-shadow: 0 1px 2px rgba(60, 64, 67, 0.3), 0 1px 3px 1px rgba(60, 64, 67, 0.15);\n",
              "    fill: var(--button-hover-fill-color);\n",
              "  }\n",
              "\n",
              "  .colab-df-quickchart-complete:disabled,\n",
              "  .colab-df-quickchart-complete:disabled:hover {\n",
              "    background-color: var(--disabled-bg-color);\n",
              "    fill: var(--disabled-fill-color);\n",
              "    box-shadow: none;\n",
              "  }\n",
              "\n",
              "  .colab-df-spinner {\n",
              "    border: 2px solid var(--fill-color);\n",
              "    border-color: transparent;\n",
              "    border-bottom-color: var(--fill-color);\n",
              "    animation:\n",
              "      spin 1s steps(1) infinite;\n",
              "  }\n",
              "\n",
              "  @keyframes spin {\n",
              "    0% {\n",
              "      border-color: transparent;\n",
              "      border-bottom-color: var(--fill-color);\n",
              "      border-left-color: var(--fill-color);\n",
              "    }\n",
              "    20% {\n",
              "      border-color: transparent;\n",
              "      border-left-color: var(--fill-color);\n",
              "      border-top-color: var(--fill-color);\n",
              "    }\n",
              "    30% {\n",
              "      border-color: transparent;\n",
              "      border-left-color: var(--fill-color);\n",
              "      border-top-color: var(--fill-color);\n",
              "      border-right-color: var(--fill-color);\n",
              "    }\n",
              "    40% {\n",
              "      border-color: transparent;\n",
              "      border-right-color: var(--fill-color);\n",
              "      border-top-color: var(--fill-color);\n",
              "    }\n",
              "    60% {\n",
              "      border-color: transparent;\n",
              "      border-right-color: var(--fill-color);\n",
              "    }\n",
              "    80% {\n",
              "      border-color: transparent;\n",
              "      border-right-color: var(--fill-color);\n",
              "      border-bottom-color: var(--fill-color);\n",
              "    }\n",
              "    90% {\n",
              "      border-color: transparent;\n",
              "      border-bottom-color: var(--fill-color);\n",
              "    }\n",
              "  }\n",
              "</style>\n",
              "\n",
              "  <script>\n",
              "    async function quickchart(key) {\n",
              "      const quickchartButtonEl =\n",
              "        document.querySelector('#' + key + ' button');\n",
              "      quickchartButtonEl.disabled = true;  // To prevent multiple clicks.\n",
              "      quickchartButtonEl.classList.add('colab-df-spinner');\n",
              "      try {\n",
              "        const charts = await google.colab.kernel.invokeFunction(\n",
              "            'suggestCharts', [key], {});\n",
              "      } catch (error) {\n",
              "        console.error('Error during call to suggestCharts:', error);\n",
              "      }\n",
              "      quickchartButtonEl.classList.remove('colab-df-spinner');\n",
              "      quickchartButtonEl.classList.add('colab-df-quickchart-complete');\n",
              "    }\n",
              "    (() => {\n",
              "      let quickchartButtonEl =\n",
              "        document.querySelector('#df-ac4b7a47-bfd8-406c-88d8-2ffb08b2367e button');\n",
              "      quickchartButtonEl.style.display =\n",
              "        google.colab.kernel.accessAllowed ? 'block' : 'none';\n",
              "    })();\n",
              "  </script>\n",
              "</div>\n",
              "    </div>\n",
              "  </div>\n"
            ],
            "application/vnd.google.colaboratory.intrinsic+json": {
              "type": "dataframe",
              "summary": "{\n  \"name\": \"data_no_outliers[['previous']]\",\n  \"rows\": 5,\n  \"fields\": [\n    {\n      \"column\": \"previous\",\n      \"properties\": {\n        \"dtype\": \"number\",\n        \"std\": 0.0,\n        \"min\": -1.0,\n        \"max\": -1.0,\n        \"num_unique_values\": 1,\n        \"samples\": [\n          -1.0\n        ],\n        \"semantic_type\": \"\",\n        \"description\": \"\"\n      }\n    }\n  ]\n}"
            }
          },
          "metadata": {},
          "execution_count": 145
        }
      ]
    },
    {
      "cell_type": "code",
      "source": [
        "# Visualización de la distribución de 'previous'\n",
        "plt.figure(figsize=(10, 6))\n",
        "sns.histplot(data_no_outliers['previous'], kde=True, bins=30)\n",
        "plt.title('Distribución del Número de Contactos Previos')\n",
        "plt.xlabel('Número de Contactos Previos')\n",
        "plt.ylabel('Frecuencia')\n",
        "plt.grid(True)\n",
        "plt.show()\n"
      ],
      "metadata": {
        "colab": {
          "base_uri": "https://localhost:8080/",
          "height": 564
        },
        "id": "_2GuoZ2cYyF4",
        "outputId": "2a6d8fc9-bde6-46ae-8fc5-c10feadb7951"
      },
      "execution_count": 146,
      "outputs": [
        {
          "output_type": "display_data",
          "data": {
            "text/plain": [
              "<Figure size 1000x600 with 1 Axes>"
            ],
            "image/png": "[encoded data removed]"
          },
          "metadata": {}
        }
      ]
    },
    {
      "cell_type": "markdown",
      "source": [
        "#POUTCOME"
      ],
      "metadata": {
        "id": "Hy-XFtnvP3Ol"
      }
    },
    {
      "cell_type": "code",
      "source": [
        "# Descripción inicial\n",
        "poutcome_description = data_no_outliers['poutcome'].describe()\n",
        "\n",
        "# Valores únicos\n",
        "poutcome_unique = data_no_outliers['poutcome'].unique()\n",
        "\n",
        "# Frecuencia de cada valor\n",
        "poutcome_value_counts = data_no_outliers['poutcome'].value_counts()\n",
        "\n",
        "poutcome_description, poutcome_unique, poutcome_value_counts\n"
      ],
      "metadata": {
        "colab": {
          "base_uri": "https://localhost:8080/"
        },
        "id": "Krk7X6p3ODL8",
        "outputId": "c3ecd8b7-6f38-42ff-de71-1cd90fafe099"
      },
      "execution_count": 149,
      "outputs": [
        {
          "output_type": "execute_result",
          "data": {
            "text/plain": [
              "(count       28180\n",
              " unique          2\n",
              " top       unknown\n",
              " freq        28176\n",
              " Name: poutcome, dtype: object,\n",
              " array(['unknown', 'UNK'], dtype=object),\n",
              " poutcome\n",
              " unknown    28176\n",
              " UNK            4\n",
              " Name: count, dtype: int64)"
            ]
          },
          "metadata": {},
          "execution_count": 149
        }
      ]
    },
    {
      "cell_type": "code",
      "source": [
        "# Reemplazar valores para normalizar las categorías\n",
        "data_no_outliers['poutcome'] = data_no_outliers['poutcome'].replace({\n",
        "    'UNK': 'unknown',\n",
        "    'Success': 'success'\n",
        "}).str.lower()\n",
        "\n",
        "# Verificar los valores únicos después de la normalización\n",
        "poutcome_value_counts_normalized = data_no_outliers['poutcome'].value_counts()\n",
        "poutcome_value_counts_normalized\n"
      ],
      "metadata": {
        "colab": {
          "base_uri": "https://localhost:8080/"
        },
        "id": "-WTCzwEbODOr",
        "outputId": "291900c8-876c-4772-f3e7-8da113bf2add"
      },
      "execution_count": 150,
      "outputs": [
        {
          "output_type": "execute_result",
          "data": {
            "text/plain": [
              "poutcome\n",
              "unknown    28180\n",
              "Name: count, dtype: int64"
            ]
          },
          "metadata": {},
          "execution_count": 150
        }
      ]
    },
    {
      "cell_type": "code",
      "source": [
        "# Plotear un gráfico de barras de la variable 'poutcome'\n",
        "plt.figure(figsize=(10, 6))\n",
        "poutcome_value_counts.plot(kind='bar')\n",
        "plt.title('Distribución del Resultado de la Campaña Anterior (poutcome)')\n",
        "plt.xlabel('Resultado de la Campaña Anterior')\n",
        "plt.ylabel('Frecuencia')\n",
        "plt.xticks(rotation=45)\n",
        "plt.grid(axis='y')\n",
        "plt.show()\n"
      ],
      "metadata": {
        "colab": {
          "base_uri": "https://localhost:8080/",
          "height": 605
        },
        "id": "67FKaK2zODQ_",
        "outputId": "4e715e8b-fdfb-49cf-c0ba-10137450a7d5"
      },
      "execution_count": 154,
      "outputs": [
        {
          "output_type": "display_data",
          "data": {
            "text/plain": [
              "<Figure size 1000x600 with 1 Axes>"
            ],
            "image/png": "[encoded data removed]"
          },
          "metadata": {}
        }
      ]
    }
  ]
}
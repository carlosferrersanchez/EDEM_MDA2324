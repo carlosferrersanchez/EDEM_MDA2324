{
  "cells": [
    {
      "cell_type": "markdown",
      "metadata": {
        "id": "8EZHOi6r9nam"
      },
      "source": [
        "# Homework: Sonar signal classification\n",
        "In this workshop you will train a binary classification neural network to differentiate if sonar signals bounced against a metal cylinder or a rock.\n",
        "\n",
        "[Info of the data](https://archive.ics.uci.edu/ml/datasets/Connectionist+Bench+(Sonar,+Mines+vs.+Rocks))\n",
        "\n",
        "Goal: Get an accuracy higher than 0.80 in the validation set"
      ]
    },
    {
      "cell_type": "markdown",
      "metadata": {
        "id": "SMD13P7t-zaB"
      },
      "source": [
        "## Get the data from Google Drive"
      ]
    },
    {
      "cell_type": "code",
      "execution_count": 1,
      "metadata": {
        "colab": {
          "base_uri": "https://localhost:8080/"
        },
        "id": "79_B_MAD-wnl",
        "outputId": "eae28fae-4266-411b-fd38-9c5ff3d9a195"
      },
      "outputs": [
        {
          "name": "stderr",
          "output_type": "stream",
          "text": [
            "WARNING:root:pydrive is deprecated and no longer maintained. We recommend that you migrate your projects to pydrive2, the maintained fork of pydrive\n"
          ]
        }
      ],
      "source": [
        "# Import libraries to interact with Google Drive\n",
        "from pydrive.auth import GoogleAuth\n",
        "from pydrive.drive import GoogleDrive\n",
        "from google.colab import auth\n",
        "from oauth2client.client import GoogleCredentials"
      ]
    },
    {
      "cell_type": "code",
      "execution_count": 2,
      "metadata": {
        "id": "6Zc93VS8-6at"
      },
      "outputs": [],
      "source": [
        "# Authenticate with your Google account to get access to the data\n",
        "auth.authenticate_user()\n",
        "gauth = GoogleAuth()\n",
        "gauth.credentials = GoogleCredentials.get_application_default()\n",
        "drive = GoogleDrive(gauth)"
      ]
    },
    {
      "cell_type": "code",
      "execution_count": 3,
      "metadata": {
        "id": "FuyIoFl7-9RK"
      },
      "outputs": [],
      "source": [
        "# Download data\n",
        "download = drive.CreateFile({'id': '1rw5l3jCo2vlNc8NLrMk3KPZr6HsjNRCY'})\n",
        "download.GetContentFile('sonar.csv')"
      ]
    },
    {
      "cell_type": "code",
      "execution_count": 4,
      "metadata": {
        "colab": {
          "base_uri": "https://localhost:8080/"
        },
        "id": "7ONNxAzG_Ktn",
        "outputId": "e1e660e0-2300-459b-8fdf-dee1b7222c8f"
      },
      "outputs": [
        {
          "name": "stdout",
          "output_type": "stream",
          "text": [
            "\u001b[0m\u001b[01;34msample_data\u001b[0m/  sonar.csv\n"
          ]
        }
      ],
      "source": [
        "ls"
      ]
    },
    {
      "cell_type": "markdown",
      "metadata": {
        "id": "3vDd2efB_WHM"
      },
      "source": [
        "## Do some magic below! ;)"
      ]
    },
    {
      "cell_type": "code",
      "execution_count": 5,
      "metadata": {
        "id": "o4SmeiYlHB95"
      },
      "outputs": [],
      "source": [
        "import pandas as pd\n",
        "import numpy as np\n",
        "\n",
        "sonar_data = pd.read_csv(\"sonar.csv\")"
      ]
    },
    {
      "cell_type": "code",
      "execution_count": 6,
      "metadata": {
        "colab": {
          "base_uri": "https://localhost:8080/",
          "height": 256
        },
        "id": "UJz3kIEhOpTQ",
        "outputId": "9b11aeb2-33f6-4d32-bb66-bb27d739c0be"
      },
      "outputs": [
        {
          "data": {
            "application/vnd.google.colaboratory.intrinsic+json": {
              "type": "dataframe",
              "variable_name": "sonar_data"
            },
            "text/html": [
              "\n",
              "  <div id=\"df-9d62f420-0ff6-450f-b5f2-9e779af2015a\" class=\"colab-df-container\">\n",
              "    <div>\n",
              "<style scoped>\n",
              "    .dataframe tbody tr th:only-of-type {\n",
              "        vertical-align: middle;\n",
              "    }\n",
              "\n",
              "    .dataframe tbody tr th {\n",
              "        vertical-align: top;\n",
              "    }\n",
              "\n",
              "    .dataframe thead th {\n",
              "        text-align: right;\n",
              "    }\n",
              "</style>\n",
              "<table border=\"1\" class=\"dataframe\">\n",
              "  <thead>\n",
              "    <tr style=\"text-align: right;\">\n",
              "      <th></th>\n",
              "      <th>0.0200</th>\n",
              "      <th>0.0371</th>\n",
              "      <th>0.0428</th>\n",
              "      <th>0.0207</th>\n",
              "      <th>0.0954</th>\n",
              "      <th>0.0986</th>\n",
              "      <th>0.1539</th>\n",
              "      <th>0.1601</th>\n",
              "      <th>0.3109</th>\n",
              "      <th>0.2111</th>\n",
              "      <th>...</th>\n",
              "      <th>0.0027</th>\n",
              "      <th>0.0065</th>\n",
              "      <th>0.0159</th>\n",
              "      <th>0.0072</th>\n",
              "      <th>0.0167</th>\n",
              "      <th>0.0180</th>\n",
              "      <th>0.0084</th>\n",
              "      <th>0.0090</th>\n",
              "      <th>0.0032</th>\n",
              "      <th>R</th>\n",
              "    </tr>\n",
              "  </thead>\n",
              "  <tbody>\n",
              "    <tr>\n",
              "      <th>0</th>\n",
              "      <td>0.0453</td>\n",
              "      <td>0.0523</td>\n",
              "      <td>0.0843</td>\n",
              "      <td>0.0689</td>\n",
              "      <td>0.1183</td>\n",
              "      <td>0.2583</td>\n",
              "      <td>0.2156</td>\n",
              "      <td>0.3481</td>\n",
              "      <td>0.3337</td>\n",
              "      <td>0.2872</td>\n",
              "      <td>...</td>\n",
              "      <td>0.0084</td>\n",
              "      <td>0.0089</td>\n",
              "      <td>0.0048</td>\n",
              "      <td>0.0094</td>\n",
              "      <td>0.0191</td>\n",
              "      <td>0.0140</td>\n",
              "      <td>0.0049</td>\n",
              "      <td>0.0052</td>\n",
              "      <td>0.0044</td>\n",
              "      <td>R</td>\n",
              "    </tr>\n",
              "    <tr>\n",
              "      <th>1</th>\n",
              "      <td>0.0262</td>\n",
              "      <td>0.0582</td>\n",
              "      <td>0.1099</td>\n",
              "      <td>0.1083</td>\n",
              "      <td>0.0974</td>\n",
              "      <td>0.2280</td>\n",
              "      <td>0.2431</td>\n",
              "      <td>0.3771</td>\n",
              "      <td>0.5598</td>\n",
              "      <td>0.6194</td>\n",
              "      <td>...</td>\n",
              "      <td>0.0232</td>\n",
              "      <td>0.0166</td>\n",
              "      <td>0.0095</td>\n",
              "      <td>0.0180</td>\n",
              "      <td>0.0244</td>\n",
              "      <td>0.0316</td>\n",
              "      <td>0.0164</td>\n",
              "      <td>0.0095</td>\n",
              "      <td>0.0078</td>\n",
              "      <td>R</td>\n",
              "    </tr>\n",
              "    <tr>\n",
              "      <th>2</th>\n",
              "      <td>0.0100</td>\n",
              "      <td>0.0171</td>\n",
              "      <td>0.0623</td>\n",
              "      <td>0.0205</td>\n",
              "      <td>0.0205</td>\n",
              "      <td>0.0368</td>\n",
              "      <td>0.1098</td>\n",
              "      <td>0.1276</td>\n",
              "      <td>0.0598</td>\n",
              "      <td>0.1264</td>\n",
              "      <td>...</td>\n",
              "      <td>0.0121</td>\n",
              "      <td>0.0036</td>\n",
              "      <td>0.0150</td>\n",
              "      <td>0.0085</td>\n",
              "      <td>0.0073</td>\n",
              "      <td>0.0050</td>\n",
              "      <td>0.0044</td>\n",
              "      <td>0.0040</td>\n",
              "      <td>0.0117</td>\n",
              "      <td>R</td>\n",
              "    </tr>\n",
              "    <tr>\n",
              "      <th>3</th>\n",
              "      <td>0.0762</td>\n",
              "      <td>0.0666</td>\n",
              "      <td>0.0481</td>\n",
              "      <td>0.0394</td>\n",
              "      <td>0.0590</td>\n",
              "      <td>0.0649</td>\n",
              "      <td>0.1209</td>\n",
              "      <td>0.2467</td>\n",
              "      <td>0.3564</td>\n",
              "      <td>0.4459</td>\n",
              "      <td>...</td>\n",
              "      <td>0.0031</td>\n",
              "      <td>0.0054</td>\n",
              "      <td>0.0105</td>\n",
              "      <td>0.0110</td>\n",
              "      <td>0.0015</td>\n",
              "      <td>0.0072</td>\n",
              "      <td>0.0048</td>\n",
              "      <td>0.0107</td>\n",
              "      <td>0.0094</td>\n",
              "      <td>R</td>\n",
              "    </tr>\n",
              "    <tr>\n",
              "      <th>4</th>\n",
              "      <td>0.0286</td>\n",
              "      <td>0.0453</td>\n",
              "      <td>0.0277</td>\n",
              "      <td>0.0174</td>\n",
              "      <td>0.0384</td>\n",
              "      <td>0.0990</td>\n",
              "      <td>0.1201</td>\n",
              "      <td>0.1833</td>\n",
              "      <td>0.2105</td>\n",
              "      <td>0.3039</td>\n",
              "      <td>...</td>\n",
              "      <td>0.0045</td>\n",
              "      <td>0.0014</td>\n",
              "      <td>0.0038</td>\n",
              "      <td>0.0013</td>\n",
              "      <td>0.0089</td>\n",
              "      <td>0.0057</td>\n",
              "      <td>0.0027</td>\n",
              "      <td>0.0051</td>\n",
              "      <td>0.0062</td>\n",
              "      <td>R</td>\n",
              "    </tr>\n",
              "  </tbody>\n",
              "</table>\n",
              "<p>5 rows × 61 columns</p>\n",
              "</div>\n",
              "    <div class=\"colab-df-buttons\">\n",
              "\n",
              "  <div class=\"colab-df-container\">\n",
              "    <button class=\"colab-df-convert\" onclick=\"convertToInteractive('df-9d62f420-0ff6-450f-b5f2-9e779af2015a')\"\n",
              "            title=\"Convert this dataframe to an interactive table.\"\n",
              "            style=\"display:none;\">\n",
              "\n",
              "  <svg xmlns=\"http://www.w3.org/2000/svg\" height=\"24px\" viewBox=\"0 -960 960 960\">\n",
              "    <path d=\"M120-120v-720h720v720H120Zm60-500h600v-160H180v160Zm220 220h160v-160H400v160Zm0 220h160v-160H400v160ZM180-400h160v-160H180v160Zm440 0h160v-160H620v160ZM180-180h160v-160H180v160Zm440 0h160v-160H620v160Z\"/>\n",
              "  </svg>\n",
              "    </button>\n",
              "\n",
              "  <style>\n",
              "    .colab-df-container {\n",
              "      display:flex;\n",
              "      gap: 12px;\n",
              "    }\n",
              "\n",
              "    .colab-df-convert {\n",
              "      background-color: #E8F0FE;\n",
              "      border: none;\n",
              "      border-radius: 50%;\n",
              "      cursor: pointer;\n",
              "      display: none;\n",
              "      fill: #1967D2;\n",
              "      height: 32px;\n",
              "      padding: 0 0 0 0;\n",
              "      width: 32px;\n",
              "    }\n",
              "\n",
              "    .colab-df-convert:hover {\n",
              "      background-color: #E2EBFA;\n",
              "      box-shadow: 0px 1px 2px rgba(60, 64, 67, 0.3), 0px 1px 3px 1px rgba(60, 64, 67, 0.15);\n",
              "      fill: #174EA6;\n",
              "    }\n",
              "\n",
              "    .colab-df-buttons div {\n",
              "      margin-bottom: 4px;\n",
              "    }\n",
              "\n",
              "    [theme=dark] .colab-df-convert {\n",
              "      background-color: #3B4455;\n",
              "      fill: #D2E3FC;\n",
              "    }\n",
              "\n",
              "    [theme=dark] .colab-df-convert:hover {\n",
              "      background-color: #434B5C;\n",
              "      box-shadow: 0px 1px 3px 1px rgba(0, 0, 0, 0.15);\n",
              "      filter: drop-shadow(0px 1px 2px rgba(0, 0, 0, 0.3));\n",
              "      fill: #FFFFFF;\n",
              "    }\n",
              "  </style>\n",
              "\n",
              "    <script>\n",
              "      const buttonEl =\n",
              "        document.querySelector('#df-9d62f420-0ff6-450f-b5f2-9e779af2015a button.colab-df-convert');\n",
              "      buttonEl.style.display =\n",
              "        google.colab.kernel.accessAllowed ? 'block' : 'none';\n",
              "\n",
              "      async function convertToInteractive(key) {\n",
              "        const element = document.querySelector('#df-9d62f420-0ff6-450f-b5f2-9e779af2015a');\n",
              "        const dataTable =\n",
              "          await google.colab.kernel.invokeFunction('convertToInteractive',\n",
              "                                                    [key], {});\n",
              "        if (!dataTable) return;\n",
              "\n",
              "        const docLinkHtml = 'Like what you see? Visit the ' +\n",
              "          '<a target=\"_blank\" href=https://colab.research.google.com/notebooks/data_table.ipynb>data table notebook</a>'\n",
              "          + ' to learn more about interactive tables.';\n",
              "        element.innerHTML = '';\n",
              "        dataTable['output_type'] = 'display_data';\n",
              "        await google.colab.output.renderOutput(dataTable, element);\n",
              "        const docLink = document.createElement('div');\n",
              "        docLink.innerHTML = docLinkHtml;\n",
              "        element.appendChild(docLink);\n",
              "      }\n",
              "    </script>\n",
              "  </div>\n",
              "\n",
              "\n",
              "<div id=\"df-2496faf6-dd92-4532-bc58-dd05c035adf2\">\n",
              "  <button class=\"colab-df-quickchart\" onclick=\"quickchart('df-2496faf6-dd92-4532-bc58-dd05c035adf2')\"\n",
              "            title=\"Suggest charts\"\n",
              "            style=\"display:none;\">\n",
              "\n",
              "<svg xmlns=\"http://www.w3.org/2000/svg\" height=\"24px\"viewBox=\"0 0 24 24\"\n",
              "     width=\"24px\">\n",
              "    <g>\n",
              "        <path d=\"M19 3H5c-1.1 0-2 .9-2 2v14c0 1.1.9 2 2 2h14c1.1 0 2-.9 2-2V5c0-1.1-.9-2-2-2zM9 17H7v-7h2v7zm4 0h-2V7h2v10zm4 0h-2v-4h2v4z\"/>\n",
              "    </g>\n",
              "</svg>\n",
              "  </button>\n",
              "\n",
              "<style>\n",
              "  .colab-df-quickchart {\n",
              "      --bg-color: #E8F0FE;\n",
              "      --fill-color: #1967D2;\n",
              "      --hover-bg-color: #E2EBFA;\n",
              "      --hover-fill-color: #174EA6;\n",
              "      --disabled-fill-color: #AAA;\n",
              "      --disabled-bg-color: #DDD;\n",
              "  }\n",
              "\n",
              "  [theme=dark] .colab-df-quickchart {\n",
              "      --bg-color: #3B4455;\n",
              "      --fill-color: #D2E3FC;\n",
              "      --hover-bg-color: #434B5C;\n",
              "      --hover-fill-color: #FFFFFF;\n",
              "      --disabled-bg-color: #3B4455;\n",
              "      --disabled-fill-color: #666;\n",
              "  }\n",
              "\n",
              "  .colab-df-quickchart {\n",
              "    background-color: var(--bg-color);\n",
              "    border: none;\n",
              "    border-radius: 50%;\n",
              "    cursor: pointer;\n",
              "    display: none;\n",
              "    fill: var(--fill-color);\n",
              "    height: 32px;\n",
              "    padding: 0;\n",
              "    width: 32px;\n",
              "  }\n",
              "\n",
              "  .colab-df-quickchart:hover {\n",
              "    background-color: var(--hover-bg-color);\n",
              "    box-shadow: 0 1px 2px rgba(60, 64, 67, 0.3), 0 1px 3px 1px rgba(60, 64, 67, 0.15);\n",
              "    fill: var(--button-hover-fill-color);\n",
              "  }\n",
              "\n",
              "  .colab-df-quickchart-complete:disabled,\n",
              "  .colab-df-quickchart-complete:disabled:hover {\n",
              "    background-color: var(--disabled-bg-color);\n",
              "    fill: var(--disabled-fill-color);\n",
              "    box-shadow: none;\n",
              "  }\n",
              "\n",
              "  .colab-df-spinner {\n",
              "    border: 2px solid var(--fill-color);\n",
              "    border-color: transparent;\n",
              "    border-bottom-color: var(--fill-color);\n",
              "    animation:\n",
              "      spin 1s steps(1) infinite;\n",
              "  }\n",
              "\n",
              "  @keyframes spin {\n",
              "    0% {\n",
              "      border-color: transparent;\n",
              "      border-bottom-color: var(--fill-color);\n",
              "      border-left-color: var(--fill-color);\n",
              "    }\n",
              "    20% {\n",
              "      border-color: transparent;\n",
              "      border-left-color: var(--fill-color);\n",
              "      border-top-color: var(--fill-color);\n",
              "    }\n",
              "    30% {\n",
              "      border-color: transparent;\n",
              "      border-left-color: var(--fill-color);\n",
              "      border-top-color: var(--fill-color);\n",
              "      border-right-color: var(--fill-color);\n",
              "    }\n",
              "    40% {\n",
              "      border-color: transparent;\n",
              "      border-right-color: var(--fill-color);\n",
              "      border-top-color: var(--fill-color);\n",
              "    }\n",
              "    60% {\n",
              "      border-color: transparent;\n",
              "      border-right-color: var(--fill-color);\n",
              "    }\n",
              "    80% {\n",
              "      border-color: transparent;\n",
              "      border-right-color: var(--fill-color);\n",
              "      border-bottom-color: var(--fill-color);\n",
              "    }\n",
              "    90% {\n",
              "      border-color: transparent;\n",
              "      border-bottom-color: var(--fill-color);\n",
              "    }\n",
              "  }\n",
              "</style>\n",
              "\n",
              "  <script>\n",
              "    async function quickchart(key) {\n",
              "      const quickchartButtonEl =\n",
              "        document.querySelector('#' + key + ' button');\n",
              "      quickchartButtonEl.disabled = true;  // To prevent multiple clicks.\n",
              "      quickchartButtonEl.classList.add('colab-df-spinner');\n",
              "      try {\n",
              "        const charts = await google.colab.kernel.invokeFunction(\n",
              "            'suggestCharts', [key], {});\n",
              "      } catch (error) {\n",
              "        console.error('Error during call to suggestCharts:', error);\n",
              "      }\n",
              "      quickchartButtonEl.classList.remove('colab-df-spinner');\n",
              "      quickchartButtonEl.classList.add('colab-df-quickchart-complete');\n",
              "    }\n",
              "    (() => {\n",
              "      let quickchartButtonEl =\n",
              "        document.querySelector('#df-2496faf6-dd92-4532-bc58-dd05c035adf2 button');\n",
              "      quickchartButtonEl.style.display =\n",
              "        google.colab.kernel.accessAllowed ? 'block' : 'none';\n",
              "    })();\n",
              "  </script>\n",
              "</div>\n",
              "    </div>\n",
              "  </div>\n"
            ],
            "text/plain": [
              "   0.0200  0.0371  0.0428  0.0207  0.0954  0.0986  0.1539  0.1601  0.3109  \\\n",
              "0  0.0453  0.0523  0.0843  0.0689  0.1183  0.2583  0.2156  0.3481  0.3337   \n",
              "1  0.0262  0.0582  0.1099  0.1083  0.0974  0.2280  0.2431  0.3771  0.5598   \n",
              "2  0.0100  0.0171  0.0623  0.0205  0.0205  0.0368  0.1098  0.1276  0.0598   \n",
              "3  0.0762  0.0666  0.0481  0.0394  0.0590  0.0649  0.1209  0.2467  0.3564   \n",
              "4  0.0286  0.0453  0.0277  0.0174  0.0384  0.0990  0.1201  0.1833  0.2105   \n",
              "\n",
              "   0.2111  ...  0.0027  0.0065  0.0159  0.0072  0.0167  0.0180  0.0084  \\\n",
              "0  0.2872  ...  0.0084  0.0089  0.0048  0.0094  0.0191  0.0140  0.0049   \n",
              "1  0.6194  ...  0.0232  0.0166  0.0095  0.0180  0.0244  0.0316  0.0164   \n",
              "2  0.1264  ...  0.0121  0.0036  0.0150  0.0085  0.0073  0.0050  0.0044   \n",
              "3  0.4459  ...  0.0031  0.0054  0.0105  0.0110  0.0015  0.0072  0.0048   \n",
              "4  0.3039  ...  0.0045  0.0014  0.0038  0.0013  0.0089  0.0057  0.0027   \n",
              "\n",
              "   0.0090  0.0032  R  \n",
              "0  0.0052  0.0044  R  \n",
              "1  0.0095  0.0078  R  \n",
              "2  0.0040  0.0117  R  \n",
              "3  0.0107  0.0094  R  \n",
              "4  0.0051  0.0062  R  \n",
              "\n",
              "[5 rows x 61 columns]"
            ]
          },
          "execution_count": 6,
          "metadata": {},
          "output_type": "execute_result"
        }
      ],
      "source": [
        "sonar_data.head()"
      ]
    },
    {
      "cell_type": "code",
      "execution_count": 7,
      "metadata": {
        "colab": {
          "base_uri": "https://localhost:8080/"
        },
        "id": "NPlHi2BlOrRq",
        "outputId": "c5a2fbc0-38c7-4f1a-ad93-f874208fe275"
      },
      "outputs": [
        {
          "data": {
            "text/plain": [
              "Index(['0.0200', '0.0371', '0.0428', '0.0207', '0.0954', '0.0986', '0.1539',\n",
              "       '0.1601', '0.3109', '0.2111', '0.1609', '0.1582', '0.2238', '0.0645',\n",
              "       '0.0660', '0.2273', '0.3100', '0.2999', '0.5078', '0.4797', '0.5783',\n",
              "       '0.5071', '0.4328', '0.5550', '0.6711', '0.6415', '0.7104', '0.8080',\n",
              "       '0.6791', '0.3857', '0.1307', '0.2604', '0.5121', '0.7547', '0.8537',\n",
              "       '0.8507', '0.6692', '0.6097', '0.4943', '0.2744', '0.0510', '0.2834',\n",
              "       '0.2825', '0.4256', '0.2641', '0.1386', '0.1051', '0.1343', '0.0383',\n",
              "       '0.0324', '0.0232', '0.0027', '0.0065', '0.0159', '0.0072', '0.0167',\n",
              "       '0.0180', '0.0084', '0.0090', '0.0032', 'R'],\n",
              "      dtype='object')"
            ]
          },
          "execution_count": 7,
          "metadata": {},
          "output_type": "execute_result"
        }
      ],
      "source": [
        "sonar_data.columns"
      ]
    },
    {
      "cell_type": "code",
      "execution_count": 8,
      "metadata": {
        "id": "mpeiPcc5O4fU"
      },
      "outputs": [],
      "source": [
        "# Import dependencies for pre-processing\n",
        "from sklearn.preprocessing import StandardScaler\n",
        "from sklearn.preprocessing import OneHotEncoder\n",
        "from sklearn.model_selection import train_test_split"
      ]
    },
    {
      "cell_type": "code",
      "execution_count": 9,
      "metadata": {
        "id": "r9Sld72lPGN1"
      },
      "outputs": [],
      "source": [
        "sonar_data_numpy = sonar_data.values"
      ]
    },
    {
      "cell_type": "code",
      "execution_count": 10,
      "metadata": {
        "colab": {
          "base_uri": "https://localhost:8080/"
        },
        "id": "8c1UmsI9POhY",
        "outputId": "1b0eacec-b4f1-4d37-9770-fbd87d0576b3"
      },
      "outputs": [
        {
          "name": "stdout",
          "output_type": "stream",
          "text": [
            "<class 'pandas.core.frame.DataFrame'>\n",
            "<class 'numpy.ndarray'>\n"
          ]
        }
      ],
      "source": [
        "print(type(sonar_data))\n",
        "print(type(sonar_data_numpy))"
      ]
    },
    {
      "cell_type": "code",
      "execution_count": 11,
      "metadata": {
        "id": "E_Gp63YfPZJQ"
      },
      "outputs": [],
      "source": [
        "x = sonar_data_numpy[:, :60]\n",
        "y = sonar_data_numpy[:, 60:61]"
      ]
    },
    {
      "cell_type": "code",
      "execution_count": 12,
      "metadata": {
        "colab": {
          "base_uri": "https://localhost:8080/"
        },
        "id": "bWkhZvR2PzoK",
        "outputId": "abeb686e-7823-4d3b-8f9c-d7d2ca5becba"
      },
      "outputs": [
        {
          "name": "stdout",
          "output_type": "stream",
          "text": [
            "Shape of training data:  (207, 60)\n",
            "Shape of training labels:  (207, 1)\n"
          ]
        }
      ],
      "source": [
        "print(\"Shape of training data: \", x.shape)\n",
        "print(\"Shape of training labels: \", y.shape)"
      ]
    },
    {
      "cell_type": "code",
      "execution_count": 13,
      "metadata": {
        "colab": {
          "base_uri": "https://localhost:8080/"
        },
        "id": "_04la6XGP1J4",
        "outputId": "aadfbeae-b548-4988-fa3d-1e040959fafb"
      },
      "outputs": [
        {
          "data": {
            "text/plain": [
              "array(['M', 'R'], dtype=object)"
            ]
          },
          "execution_count": 13,
          "metadata": {},
          "output_type": "execute_result"
        }
      ],
      "source": [
        "np.unique(y)"
      ]
    },
    {
      "cell_type": "code",
      "execution_count": 14,
      "metadata": {
        "id": "UlwQ4n7yP1QO"
      },
      "outputs": [],
      "source": [
        "sc = StandardScaler()\n",
        "sc.fit(x)\n",
        "x_norm = sc.transform(x)"
      ]
    },
    {
      "cell_type": "code",
      "execution_count": 15,
      "metadata": {
        "colab": {
          "base_uri": "https://localhost:8080/"
        },
        "id": "M1oja_0YP1Tv",
        "outputId": "ec1a36f9-e719-4b9f-bc65-3ed5324b37cc"
      },
      "outputs": [
        {
          "name": "stdout",
          "output_type": "stream",
          "text": [
            "Before normalization: \n",
            " [0.0262 0.0582 0.1099 0.1083 0.0974 0.228 0.2431 0.3771 0.5598 0.6194\n",
            " 0.6333 0.706 0.5544 0.532 0.6479 0.6931 0.6759 0.7551 0.8929 0.8619\n",
            " 0.7974 0.6737 0.4293 0.3648 0.5331 0.2413 0.507 0.8533 0.6036 0.8514\n",
            " 0.8512 0.5045 0.1862 0.2709 0.4232 0.3043 0.6116 0.6756 0.5375 0.4719\n",
            " 0.4647 0.2587 0.2129 0.2222 0.2111 0.0176 0.1348 0.0744 0.013 0.0106\n",
            " 0.0033 0.0232 0.0166 0.0095 0.018 0.0244 0.0316 0.0164 0.0095 0.0078]\n",
            "After normalization: \n",
            " [-0.13089402  0.59942737  1.71912994  1.16735119  0.40146635  2.0878624\n",
            "  1.96783928  2.84755057  3.24033559  3.0588314   2.99336374  3.25412687\n",
            "  1.99301568  1.43153632  1.59516994  1.35054941  0.98418341  1.15587309\n",
            "  1.50434322  1.13657152  0.7299634   0.19103966 -0.87578456 -1.29060301\n",
            " -0.58117267 -1.9344945  -0.79426005  0.67421422 -0.15940651  1.22329719\n",
            "  1.62389684  0.30345092 -1.11702254 -0.56812432  0.12778034 -0.29870811\n",
            "  1.04310888  1.58973492  1.06937304  0.8985258   1.02344674 -0.11597725\n",
            " -0.2408284   0.06904661  0.09363364 -1.06875696  0.14104757 -0.26973868\n",
            " -1.08495091 -0.71602137 -1.06134961  1.01280889  0.83219843 -0.19429332\n",
            "  1.22768181  2.84269594  4.1500488   1.30656071  0.25299833  0.25405324]\n"
          ]
        }
      ],
      "source": [
        "print(\"Before normalization: \\n\", x[1, :])\n",
        "print(\"After normalization: \\n\", x_norm[1, :])"
      ]
    },
    {
      "cell_type": "code",
      "execution_count": 16,
      "metadata": {
        "colab": {
          "base_uri": "https://localhost:8080/"
        },
        "collapsed": true,
        "id": "ikvgAfg5QuFm",
        "outputId": "274a66b1-0061-46b3-8b42-4e6b73c76194"
      },
      "outputs": [
        {
          "data": {
            "text/plain": [
              "array([['R'],\n",
              "       ['R'],\n",
              "       ['R'],\n",
              "       ['R'],\n",
              "       ['R'],\n",
              "       ['R'],\n",
              "       ['R'],\n",
              "       ['R'],\n",
              "       ['R'],\n",
              "       ['R'],\n",
              "       ['R'],\n",
              "       ['R'],\n",
              "       ['R'],\n",
              "       ['R'],\n",
              "       ['R'],\n",
              "       ['R'],\n",
              "       ['R'],\n",
              "       ['R'],\n",
              "       ['R'],\n",
              "       ['R'],\n",
              "       ['R'],\n",
              "       ['R'],\n",
              "       ['R'],\n",
              "       ['R'],\n",
              "       ['R'],\n",
              "       ['R'],\n",
              "       ['R'],\n",
              "       ['R'],\n",
              "       ['R'],\n",
              "       ['R'],\n",
              "       ['R'],\n",
              "       ['R'],\n",
              "       ['R'],\n",
              "       ['R'],\n",
              "       ['R'],\n",
              "       ['R'],\n",
              "       ['R'],\n",
              "       ['R'],\n",
              "       ['R'],\n",
              "       ['R'],\n",
              "       ['R'],\n",
              "       ['R'],\n",
              "       ['R'],\n",
              "       ['R'],\n",
              "       ['R'],\n",
              "       ['R'],\n",
              "       ['R'],\n",
              "       ['R'],\n",
              "       ['R'],\n",
              "       ['R'],\n",
              "       ['R'],\n",
              "       ['R'],\n",
              "       ['R'],\n",
              "       ['R'],\n",
              "       ['R'],\n",
              "       ['R'],\n",
              "       ['R'],\n",
              "       ['R'],\n",
              "       ['R'],\n",
              "       ['R'],\n",
              "       ['R'],\n",
              "       ['R'],\n",
              "       ['R'],\n",
              "       ['R'],\n",
              "       ['R'],\n",
              "       ['R'],\n",
              "       ['R'],\n",
              "       ['R'],\n",
              "       ['R'],\n",
              "       ['R'],\n",
              "       ['R'],\n",
              "       ['R'],\n",
              "       ['R'],\n",
              "       ['R'],\n",
              "       ['R'],\n",
              "       ['R'],\n",
              "       ['R'],\n",
              "       ['R'],\n",
              "       ['R'],\n",
              "       ['R'],\n",
              "       ['R'],\n",
              "       ['R'],\n",
              "       ['R'],\n",
              "       ['R'],\n",
              "       ['R'],\n",
              "       ['R'],\n",
              "       ['R'],\n",
              "       ['R'],\n",
              "       ['R'],\n",
              "       ['R'],\n",
              "       ['R'],\n",
              "       ['R'],\n",
              "       ['R'],\n",
              "       ['R'],\n",
              "       ['R'],\n",
              "       ['R'],\n",
              "       ['M'],\n",
              "       ['M'],\n",
              "       ['M'],\n",
              "       ['M'],\n",
              "       ['M'],\n",
              "       ['M'],\n",
              "       ['M'],\n",
              "       ['M'],\n",
              "       ['M'],\n",
              "       ['M'],\n",
              "       ['M'],\n",
              "       ['M'],\n",
              "       ['M'],\n",
              "       ['M'],\n",
              "       ['M'],\n",
              "       ['M'],\n",
              "       ['M'],\n",
              "       ['M'],\n",
              "       ['M'],\n",
              "       ['M'],\n",
              "       ['M'],\n",
              "       ['M'],\n",
              "       ['M'],\n",
              "       ['M'],\n",
              "       ['M'],\n",
              "       ['M'],\n",
              "       ['M'],\n",
              "       ['M'],\n",
              "       ['M'],\n",
              "       ['M'],\n",
              "       ['M'],\n",
              "       ['M'],\n",
              "       ['M'],\n",
              "       ['M'],\n",
              "       ['M'],\n",
              "       ['M'],\n",
              "       ['M'],\n",
              "       ['M'],\n",
              "       ['M'],\n",
              "       ['M'],\n",
              "       ['M'],\n",
              "       ['M'],\n",
              "       ['M'],\n",
              "       ['M'],\n",
              "       ['M'],\n",
              "       ['M'],\n",
              "       ['M'],\n",
              "       ['M'],\n",
              "       ['M'],\n",
              "       ['M'],\n",
              "       ['M'],\n",
              "       ['M'],\n",
              "       ['M'],\n",
              "       ['M'],\n",
              "       ['M'],\n",
              "       ['M'],\n",
              "       ['M'],\n",
              "       ['M'],\n",
              "       ['M'],\n",
              "       ['M'],\n",
              "       ['M'],\n",
              "       ['M'],\n",
              "       ['M'],\n",
              "       ['M'],\n",
              "       ['M'],\n",
              "       ['M'],\n",
              "       ['M'],\n",
              "       ['M'],\n",
              "       ['M'],\n",
              "       ['M'],\n",
              "       ['M'],\n",
              "       ['M'],\n",
              "       ['M'],\n",
              "       ['M'],\n",
              "       ['M'],\n",
              "       ['M'],\n",
              "       ['M'],\n",
              "       ['M'],\n",
              "       ['M'],\n",
              "       ['M'],\n",
              "       ['M'],\n",
              "       ['M'],\n",
              "       ['M'],\n",
              "       ['M'],\n",
              "       ['M'],\n",
              "       ['M'],\n",
              "       ['M'],\n",
              "       ['M'],\n",
              "       ['M'],\n",
              "       ['M'],\n",
              "       ['M'],\n",
              "       ['M'],\n",
              "       ['M'],\n",
              "       ['M'],\n",
              "       ['M'],\n",
              "       ['M'],\n",
              "       ['M'],\n",
              "       ['M'],\n",
              "       ['M'],\n",
              "       ['M'],\n",
              "       ['M'],\n",
              "       ['M'],\n",
              "       ['M'],\n",
              "       ['M'],\n",
              "       ['M'],\n",
              "       ['M'],\n",
              "       ['M'],\n",
              "       ['M'],\n",
              "       ['M'],\n",
              "       ['M'],\n",
              "       ['M']], dtype=object)"
            ]
          },
          "execution_count": 16,
          "metadata": {},
          "output_type": "execute_result"
        }
      ],
      "source": [
        "y"
      ]
    },
    {
      "cell_type": "code",
      "execution_count": 17,
      "metadata": {
        "id": "aODvpcSHRENM"
      },
      "outputs": [],
      "source": [
        "onehot_enc = OneHotEncoder()\n",
        "y_onehot = onehot_enc.fit_transform(y).toarray()"
      ]
    },
    {
      "cell_type": "code",
      "execution_count": 18,
      "metadata": {
        "colab": {
          "base_uri": "https://localhost:8080/"
        },
        "id": "Z1vJhuV-RSiL",
        "outputId": "5b4f61d2-6eff-4bce-dfc5-9d48f0bb7903"
      },
      "outputs": [
        {
          "name": "stdout",
          "output_type": "stream",
          "text": [
            "Before onet-hot encodeing: \n",
            " ['R']\n",
            "After onet-hot encodeing: \n",
            " [0. 1.]\n"
          ]
        }
      ],
      "source": [
        "# Show labels before and after one-hot encoding\n",
        "print(\"Before onet-hot encodeing: \\n\", y[0])\n",
        "print(\"After onet-hot encodeing: \\n\", y_onehot[0])"
      ]
    },
    {
      "cell_type": "code",
      "execution_count": 19,
      "metadata": {
        "id": "Q09BFv72RWzZ"
      },
      "outputs": [],
      "source": [
        "X_train, X_val, y_train, y_val = train_test_split(x_norm, y_onehot,\n",
        "                                                  test_size=0.1)"
      ]
    },
    {
      "cell_type": "code",
      "execution_count": 20,
      "metadata": {
        "colab": {
          "base_uri": "https://localhost:8080/"
        },
        "id": "xo2W7B4ARb2c",
        "outputId": "a99a0b5f-11af-4d23-cbdc-47d414dee296"
      },
      "outputs": [
        {
          "name": "stdout",
          "output_type": "stream",
          "text": [
            "Size of training data:  (186, 60)\n",
            "Size of training labels:  (186, 2)\n",
            "Size of validation data:  (21, 60)\n",
            "Size of validation labels:  (21, 2)\n"
          ]
        }
      ],
      "source": [
        "print(\"Size of training data: \", X_train.shape)\n",
        "print(\"Size of training labels: \", y_train.shape)\n",
        "print(\"Size of validation data: \", X_val.shape)\n",
        "print(\"Size of validation labels: \", y_val.shape)"
      ]
    },
    {
      "cell_type": "code",
      "execution_count": 21,
      "metadata": {
        "id": "ZILy4T3gRcfT"
      },
      "outputs": [],
      "source": [
        "from tensorflow import keras\n",
        "from keras.models import Sequential\n",
        "from keras.layers import Dense"
      ]
    },
    {
      "cell_type": "code",
      "execution_count": 29,
      "metadata": {
        "id": "A5wt7xZTRcka"
      },
      "outputs": [],
      "source": [
        "model = Sequential()\n",
        "model.add(Dense(16, input_dim=60, activation='relu'))\n",
        "model.add(Dense(12, activation='relu'))\n",
        "model.add(Dense(2, activation='softmax'))"
      ]
    },
    {
      "cell_type": "code",
      "execution_count": 30,
      "metadata": {
        "colab": {
          "base_uri": "https://localhost:8080/"
        },
        "id": "tM6OWTQhRcqN",
        "outputId": "e37b7c9f-a8ab-4610-d92f-5e1a6e241947"
      },
      "outputs": [
        {
          "name": "stdout",
          "output_type": "stream",
          "text": [
            "Model: \"sequential_2\"\n",
            "_________________________________________________________________\n",
            " Layer (type)                Output Shape              Param #   \n",
            "=================================================================\n",
            " dense_6 (Dense)             (None, 16)                976       \n",
            "                                                                 \n",
            " dense_7 (Dense)             (None, 12)                204       \n",
            "                                                                 \n",
            " dense_8 (Dense)             (None, 2)                 26        \n",
            "                                                                 \n",
            "=================================================================\n",
            "Total params: 1206 (4.71 KB)\n",
            "Trainable params: 1206 (4.71 KB)\n",
            "Non-trainable params: 0 (0.00 Byte)\n",
            "_________________________________________________________________\n"
          ]
        }
      ],
      "source": [
        "model.summary()"
      ]
    },
    {
      "cell_type": "code",
      "execution_count": 31,
      "metadata": {
        "id": "dQhDLFTERenI"
      },
      "outputs": [],
      "source": [
        "model.compile(loss='categorical_crossentropy', optimizer='adam',\n",
        "              metrics=['accuracy'])"
      ]
    },
    {
      "cell_type": "code",
      "execution_count": 32,
      "metadata": {
        "id": "XGD3jSukSkPW"
      },
      "outputs": [],
      "source": [
        "callback = keras.callbacks.EarlyStopping(monitor = 'loss', patience = 5)"
      ]
    },
    {
      "cell_type": "code",
      "execution_count": 38,
      "metadata": {
        "colab": {
          "base_uri": "https://localhost:8080/"
        },
        "id": "nuSY16lARerq",
        "outputId": "367610d4-d4df-4db0-a8a6-65e30b189d0c"
      },
      "outputs": [
        {
          "name": "stdout",
          "output_type": "stream",
          "text": [
            "Epoch 1/100\n",
            "24/24 [==============================] - 0s 6ms/step - loss: 0.0043 - accuracy: 1.0000 - val_loss: 0.4861 - val_accuracy: 0.8571\n",
            "Epoch 2/100\n",
            "24/24 [==============================] - 0s 4ms/step - loss: 0.0039 - accuracy: 1.0000 - val_loss: 0.4951 - val_accuracy: 0.8571\n",
            "Epoch 3/100\n",
            "24/24 [==============================] - 0s 4ms/step - loss: 0.0035 - accuracy: 1.0000 - val_loss: 0.4995 - val_accuracy: 0.8571\n",
            "Epoch 4/100\n",
            "24/24 [==============================] - 0s 4ms/step - loss: 0.0032 - accuracy: 1.0000 - val_loss: 0.5013 - val_accuracy: 0.8571\n",
            "Epoch 5/100\n",
            "24/24 [==============================] - 0s 4ms/step - loss: 0.0029 - accuracy: 1.0000 - val_loss: 0.5225 - val_accuracy: 0.8571\n",
            "Epoch 6/100\n",
            "24/24 [==============================] - 0s 4ms/step - loss: 0.0027 - accuracy: 1.0000 - val_loss: 0.5063 - val_accuracy: 0.8571\n",
            "Epoch 7/100\n",
            "24/24 [==============================] - 0s 4ms/step - loss: 0.0024 - accuracy: 1.0000 - val_loss: 0.5078 - val_accuracy: 0.8571\n",
            "Epoch 8/100\n",
            "24/24 [==============================] - 0s 4ms/step - loss: 0.0022 - accuracy: 1.0000 - val_loss: 0.5051 - val_accuracy: 0.8571\n",
            "Epoch 9/100\n",
            "24/24 [==============================] - 0s 4ms/step - loss: 0.0020 - accuracy: 1.0000 - val_loss: 0.5187 - val_accuracy: 0.8571\n",
            "Epoch 10/100\n",
            "24/24 [==============================] - 0s 4ms/step - loss: 0.0019 - accuracy: 1.0000 - val_loss: 0.5179 - val_accuracy: 0.8571\n",
            "Epoch 11/100\n",
            "24/24 [==============================] - 0s 4ms/step - loss: 0.0017 - accuracy: 1.0000 - val_loss: 0.5267 - val_accuracy: 0.8571\n",
            "Epoch 12/100\n",
            "24/24 [==============================] - 0s 4ms/step - loss: 0.0016 - accuracy: 1.0000 - val_loss: 0.5223 - val_accuracy: 0.8571\n",
            "Epoch 13/100\n",
            "24/24 [==============================] - 0s 4ms/step - loss: 0.0015 - accuracy: 1.0000 - val_loss: 0.5221 - val_accuracy: 0.8571\n",
            "Epoch 14/100\n",
            "24/24 [==============================] - 0s 4ms/step - loss: 0.0014 - accuracy: 1.0000 - val_loss: 0.5342 - val_accuracy: 0.8571\n",
            "Epoch 15/100\n",
            "24/24 [==============================] - 0s 4ms/step - loss: 0.0013 - accuracy: 1.0000 - val_loss: 0.5358 - val_accuracy: 0.8571\n",
            "Epoch 16/100\n",
            "24/24 [==============================] - 0s 4ms/step - loss: 0.0012 - accuracy: 1.0000 - val_loss: 0.5347 - val_accuracy: 0.8571\n",
            "Epoch 17/100\n",
            "24/24 [==============================] - 0s 4ms/step - loss: 0.0011 - accuracy: 1.0000 - val_loss: 0.5459 - val_accuracy: 0.8571\n",
            "Epoch 18/100\n",
            "24/24 [==============================] - 0s 4ms/step - loss: 0.0011 - accuracy: 1.0000 - val_loss: 0.5439 - val_accuracy: 0.8571\n",
            "Epoch 19/100\n",
            "24/24 [==============================] - 0s 4ms/step - loss: 0.0010 - accuracy: 1.0000 - val_loss: 0.5474 - val_accuracy: 0.8571\n",
            "Epoch 20/100\n",
            "24/24 [==============================] - 0s 4ms/step - loss: 9.5369e-04 - accuracy: 1.0000 - val_loss: 0.5501 - val_accuracy: 0.8571\n",
            "Epoch 21/100\n",
            "24/24 [==============================] - 0s 4ms/step - loss: 9.0278e-04 - accuracy: 1.0000 - val_loss: 0.5501 - val_accuracy: 0.8571\n",
            "Epoch 22/100\n",
            "24/24 [==============================] - 0s 4ms/step - loss: 8.6323e-04 - accuracy: 1.0000 - val_loss: 0.5519 - val_accuracy: 0.8571\n",
            "Epoch 23/100\n",
            "24/24 [==============================] - 0s 4ms/step - loss: 8.1385e-04 - accuracy: 1.0000 - val_loss: 0.5575 - val_accuracy: 0.8571\n",
            "Epoch 24/100\n",
            "24/24 [==============================] - 0s 4ms/step - loss: 7.6735e-04 - accuracy: 1.0000 - val_loss: 0.5589 - val_accuracy: 0.8571\n",
            "Epoch 25/100\n",
            "24/24 [==============================] - 0s 3ms/step - loss: 7.3163e-04 - accuracy: 1.0000 - val_loss: 0.5597 - val_accuracy: 0.8571\n",
            "Epoch 26/100\n",
            "24/24 [==============================] - 0s 4ms/step - loss: 6.9552e-04 - accuracy: 1.0000 - val_loss: 0.5618 - val_accuracy: 0.8571\n",
            "Epoch 27/100\n",
            "24/24 [==============================] - 0s 4ms/step - loss: 6.6455e-04 - accuracy: 1.0000 - val_loss: 0.5640 - val_accuracy: 0.8571\n",
            "Epoch 28/100\n",
            "24/24 [==============================] - 0s 4ms/step - loss: 6.4444e-04 - accuracy: 1.0000 - val_loss: 0.5659 - val_accuracy: 0.8571\n",
            "Epoch 29/100\n",
            "24/24 [==============================] - 0s 4ms/step - loss: 6.1151e-04 - accuracy: 1.0000 - val_loss: 0.5710 - val_accuracy: 0.8571\n",
            "Epoch 30/100\n",
            "24/24 [==============================] - 0s 4ms/step - loss: 5.7966e-04 - accuracy: 1.0000 - val_loss: 0.5707 - val_accuracy: 0.8571\n",
            "Epoch 31/100\n",
            "24/24 [==============================] - 0s 4ms/step - loss: 5.5438e-04 - accuracy: 1.0000 - val_loss: 0.5738 - val_accuracy: 0.8571\n",
            "Epoch 32/100\n",
            "24/24 [==============================] - 0s 4ms/step - loss: 5.2734e-04 - accuracy: 1.0000 - val_loss: 0.5704 - val_accuracy: 0.8571\n",
            "Epoch 33/100\n",
            "24/24 [==============================] - 0s 4ms/step - loss: 5.0697e-04 - accuracy: 1.0000 - val_loss: 0.5740 - val_accuracy: 0.8571\n",
            "Epoch 34/100\n",
            "24/24 [==============================] - 0s 4ms/step - loss: 4.8748e-04 - accuracy: 1.0000 - val_loss: 0.5802 - val_accuracy: 0.8571\n",
            "Epoch 35/100\n",
            "24/24 [==============================] - 0s 4ms/step - loss: 4.6692e-04 - accuracy: 1.0000 - val_loss: 0.5794 - val_accuracy: 0.8571\n",
            "Epoch 36/100\n",
            "24/24 [==============================] - 0s 4ms/step - loss: 4.4985e-04 - accuracy: 1.0000 - val_loss: 0.5783 - val_accuracy: 0.8571\n",
            "Epoch 37/100\n",
            "24/24 [==============================] - 0s 4ms/step - loss: 4.3209e-04 - accuracy: 1.0000 - val_loss: 0.5835 - val_accuracy: 0.8571\n",
            "Epoch 38/100\n",
            "24/24 [==============================] - 0s 4ms/step - loss: 4.1770e-04 - accuracy: 1.0000 - val_loss: 0.5839 - val_accuracy: 0.8571\n",
            "Epoch 39/100\n",
            "24/24 [==============================] - 0s 4ms/step - loss: 4.0005e-04 - accuracy: 1.0000 - val_loss: 0.5867 - val_accuracy: 0.8571\n",
            "Epoch 40/100\n",
            "24/24 [==============================] - 0s 3ms/step - loss: 3.8468e-04 - accuracy: 1.0000 - val_loss: 0.5876 - val_accuracy: 0.8571\n",
            "Epoch 41/100\n",
            "24/24 [==============================] - 0s 3ms/step - loss: 3.7028e-04 - accuracy: 1.0000 - val_loss: 0.5866 - val_accuracy: 0.8571\n",
            "Epoch 42/100\n",
            "24/24 [==============================] - 0s 4ms/step - loss: 3.5848e-04 - accuracy: 1.0000 - val_loss: 0.5900 - val_accuracy: 0.8571\n",
            "Epoch 43/100\n",
            "24/24 [==============================] - 0s 4ms/step - loss: 3.4384e-04 - accuracy: 1.0000 - val_loss: 0.5923 - val_accuracy: 0.8571\n",
            "Epoch 44/100\n",
            "24/24 [==============================] - 0s 3ms/step - loss: 3.3277e-04 - accuracy: 1.0000 - val_loss: 0.5961 - val_accuracy: 0.8571\n",
            "Epoch 45/100\n",
            "24/24 [==============================] - 0s 4ms/step - loss: 3.2252e-04 - accuracy: 1.0000 - val_loss: 0.5965 - val_accuracy: 0.8571\n",
            "Epoch 46/100\n",
            "24/24 [==============================] - 0s 4ms/step - loss: 3.1049e-04 - accuracy: 1.0000 - val_loss: 0.5970 - val_accuracy: 0.8571\n",
            "Epoch 47/100\n",
            "24/24 [==============================] - 0s 3ms/step - loss: 3.0175e-04 - accuracy: 1.0000 - val_loss: 0.5987 - val_accuracy: 0.8571\n",
            "Epoch 48/100\n",
            "24/24 [==============================] - 0s 3ms/step - loss: 2.9052e-04 - accuracy: 1.0000 - val_loss: 0.6010 - val_accuracy: 0.8571\n",
            "Epoch 49/100\n",
            "24/24 [==============================] - 0s 4ms/step - loss: 2.8145e-04 - accuracy: 1.0000 - val_loss: 0.6036 - val_accuracy: 0.8571\n",
            "Epoch 50/100\n",
            "24/24 [==============================] - 0s 4ms/step - loss: 2.7160e-04 - accuracy: 1.0000 - val_loss: 0.6055 - val_accuracy: 0.8571\n",
            "Epoch 51/100\n",
            "24/24 [==============================] - 0s 3ms/step - loss: 2.6250e-04 - accuracy: 1.0000 - val_loss: 0.6058 - val_accuracy: 0.8571\n",
            "Epoch 52/100\n",
            "24/24 [==============================] - 0s 4ms/step - loss: 2.5464e-04 - accuracy: 1.0000 - val_loss: 0.6082 - val_accuracy: 0.8571\n",
            "Epoch 53/100\n",
            "24/24 [==============================] - 0s 3ms/step - loss: 2.4610e-04 - accuracy: 1.0000 - val_loss: 0.6096 - val_accuracy: 0.8571\n",
            "Epoch 54/100\n",
            "24/24 [==============================] - 0s 4ms/step - loss: 2.3963e-04 - accuracy: 1.0000 - val_loss: 0.6114 - val_accuracy: 0.8571\n",
            "Epoch 55/100\n",
            "24/24 [==============================] - 0s 4ms/step - loss: 2.3242e-04 - accuracy: 1.0000 - val_loss: 0.6111 - val_accuracy: 0.8571\n",
            "Epoch 56/100\n",
            "24/24 [==============================] - 0s 4ms/step - loss: 2.2488e-04 - accuracy: 1.0000 - val_loss: 0.6118 - val_accuracy: 0.8571\n",
            "Epoch 57/100\n",
            "24/24 [==============================] - 0s 4ms/step - loss: 2.1797e-04 - accuracy: 1.0000 - val_loss: 0.6119 - val_accuracy: 0.8571\n",
            "Epoch 58/100\n",
            "24/24 [==============================] - 0s 3ms/step - loss: 2.1183e-04 - accuracy: 1.0000 - val_loss: 0.6151 - val_accuracy: 0.8571\n",
            "Epoch 59/100\n",
            "24/24 [==============================] - 0s 4ms/step - loss: 2.0575e-04 - accuracy: 1.0000 - val_loss: 0.6185 - val_accuracy: 0.8571\n",
            "Epoch 60/100\n",
            "24/24 [==============================] - 0s 4ms/step - loss: 1.9812e-04 - accuracy: 1.0000 - val_loss: 0.6187 - val_accuracy: 0.8571\n",
            "Epoch 61/100\n",
            "24/24 [==============================] - 0s 4ms/step - loss: 1.9399e-04 - accuracy: 1.0000 - val_loss: 0.6198 - val_accuracy: 0.8571\n",
            "Epoch 62/100\n",
            "24/24 [==============================] - 0s 4ms/step - loss: 1.8851e-04 - accuracy: 1.0000 - val_loss: 0.6206 - val_accuracy: 0.8571\n",
            "Epoch 63/100\n",
            "24/24 [==============================] - 0s 3ms/step - loss: 1.8291e-04 - accuracy: 1.0000 - val_loss: 0.6252 - val_accuracy: 0.8571\n",
            "Epoch 64/100\n",
            "24/24 [==============================] - 0s 3ms/step - loss: 1.7790e-04 - accuracy: 1.0000 - val_loss: 0.6267 - val_accuracy: 0.8571\n",
            "Epoch 65/100\n",
            "24/24 [==============================] - 0s 4ms/step - loss: 1.7255e-04 - accuracy: 1.0000 - val_loss: 0.6272 - val_accuracy: 0.8571\n",
            "Epoch 66/100\n",
            "24/24 [==============================] - 0s 3ms/step - loss: 1.6846e-04 - accuracy: 1.0000 - val_loss: 0.6281 - val_accuracy: 0.8571\n",
            "Epoch 67/100\n",
            "24/24 [==============================] - 0s 3ms/step - loss: 1.6347e-04 - accuracy: 1.0000 - val_loss: 0.6278 - val_accuracy: 0.8571\n",
            "Epoch 68/100\n",
            "24/24 [==============================] - 0s 3ms/step - loss: 1.5941e-04 - accuracy: 1.0000 - val_loss: 0.6291 - val_accuracy: 0.8571\n",
            "Epoch 69/100\n",
            "24/24 [==============================] - 0s 4ms/step - loss: 1.5540e-04 - accuracy: 1.0000 - val_loss: 0.6324 - val_accuracy: 0.8571\n",
            "Epoch 70/100\n",
            "24/24 [==============================] - 0s 4ms/step - loss: 1.5038e-04 - accuracy: 1.0000 - val_loss: 0.6325 - val_accuracy: 0.8571\n",
            "Epoch 71/100\n",
            "24/24 [==============================] - 0s 4ms/step - loss: 1.4656e-04 - accuracy: 1.0000 - val_loss: 0.6330 - val_accuracy: 0.8571\n",
            "Epoch 72/100\n",
            "24/24 [==============================] - 0s 4ms/step - loss: 1.4255e-04 - accuracy: 1.0000 - val_loss: 0.6354 - val_accuracy: 0.9048\n",
            "Epoch 73/100\n",
            "24/24 [==============================] - 0s 4ms/step - loss: 1.3903e-04 - accuracy: 1.0000 - val_loss: 0.6359 - val_accuracy: 0.9048\n",
            "Epoch 74/100\n",
            "24/24 [==============================] - 0s 4ms/step - loss: 1.3525e-04 - accuracy: 1.0000 - val_loss: 0.6382 - val_accuracy: 0.9048\n",
            "Epoch 75/100\n",
            "24/24 [==============================] - 0s 4ms/step - loss: 1.3124e-04 - accuracy: 1.0000 - val_loss: 0.6384 - val_accuracy: 0.9048\n",
            "Epoch 76/100\n",
            "24/24 [==============================] - 0s 4ms/step - loss: 1.2812e-04 - accuracy: 1.0000 - val_loss: 0.6383 - val_accuracy: 0.9048\n",
            "Epoch 77/100\n",
            "24/24 [==============================] - 0s 4ms/step - loss: 1.2516e-04 - accuracy: 1.0000 - val_loss: 0.6425 - val_accuracy: 0.9048\n",
            "Epoch 78/100\n",
            "24/24 [==============================] - 0s 4ms/step - loss: 1.2183e-04 - accuracy: 1.0000 - val_loss: 0.6431 - val_accuracy: 0.9048\n",
            "Epoch 79/100\n",
            "24/24 [==============================] - 0s 4ms/step - loss: 1.1855e-04 - accuracy: 1.0000 - val_loss: 0.6444 - val_accuracy: 0.9048\n",
            "Epoch 80/100\n",
            "24/24 [==============================] - 0s 4ms/step - loss: 1.1574e-04 - accuracy: 1.0000 - val_loss: 0.6454 - val_accuracy: 0.9048\n",
            "Epoch 81/100\n",
            "24/24 [==============================] - 0s 4ms/step - loss: 1.1283e-04 - accuracy: 1.0000 - val_loss: 0.6461 - val_accuracy: 0.9048\n",
            "Epoch 82/100\n",
            "24/24 [==============================] - 0s 4ms/step - loss: 1.1026e-04 - accuracy: 1.0000 - val_loss: 0.6476 - val_accuracy: 0.9048\n",
            "Epoch 83/100\n",
            "24/24 [==============================] - 0s 4ms/step - loss: 1.0750e-04 - accuracy: 1.0000 - val_loss: 0.6495 - val_accuracy: 0.9048\n",
            "Epoch 84/100\n",
            "24/24 [==============================] - 0s 4ms/step - loss: 1.0561e-04 - accuracy: 1.0000 - val_loss: 0.6521 - val_accuracy: 0.9048\n",
            "Epoch 85/100\n",
            "24/24 [==============================] - 0s 4ms/step - loss: 1.0284e-04 - accuracy: 1.0000 - val_loss: 0.6497 - val_accuracy: 0.9048\n",
            "Epoch 86/100\n",
            "24/24 [==============================] - 0s 4ms/step - loss: 1.0028e-04 - accuracy: 1.0000 - val_loss: 0.6526 - val_accuracy: 0.9048\n",
            "Epoch 87/100\n",
            "24/24 [==============================] - 0s 4ms/step - loss: 9.8246e-05 - accuracy: 1.0000 - val_loss: 0.6549 - val_accuracy: 0.9048\n",
            "Epoch 88/100\n",
            "24/24 [==============================] - 0s 4ms/step - loss: 9.5950e-05 - accuracy: 1.0000 - val_loss: 0.6537 - val_accuracy: 0.9048\n",
            "Epoch 89/100\n",
            "24/24 [==============================] - 0s 4ms/step - loss: 9.3600e-05 - accuracy: 1.0000 - val_loss: 0.6550 - val_accuracy: 0.9048\n",
            "Epoch 90/100\n",
            "24/24 [==============================] - 0s 4ms/step - loss: 9.1443e-05 - accuracy: 1.0000 - val_loss: 0.6576 - val_accuracy: 0.9048\n",
            "Epoch 91/100\n",
            "24/24 [==============================] - 0s 4ms/step - loss: 8.9721e-05 - accuracy: 1.0000 - val_loss: 0.6597 - val_accuracy: 0.9048\n",
            "Epoch 92/100\n",
            "24/24 [==============================] - 0s 4ms/step - loss: 8.7409e-05 - accuracy: 1.0000 - val_loss: 0.6600 - val_accuracy: 0.9048\n",
            "Epoch 93/100\n",
            "24/24 [==============================] - 0s 3ms/step - loss: 8.5578e-05 - accuracy: 1.0000 - val_loss: 0.6610 - val_accuracy: 0.9048\n",
            "Epoch 94/100\n",
            "24/24 [==============================] - 0s 4ms/step - loss: 8.3754e-05 - accuracy: 1.0000 - val_loss: 0.6626 - val_accuracy: 0.9048\n",
            "Epoch 95/100\n",
            "24/24 [==============================] - 0s 3ms/step - loss: 8.2113e-05 - accuracy: 1.0000 - val_loss: 0.6653 - val_accuracy: 0.9048\n",
            "Epoch 96/100\n",
            "24/24 [==============================] - 0s 4ms/step - loss: 8.0051e-05 - accuracy: 1.0000 - val_loss: 0.6650 - val_accuracy: 0.9048\n",
            "Epoch 97/100\n",
            "24/24 [==============================] - 0s 3ms/step - loss: 7.8497e-05 - accuracy: 1.0000 - val_loss: 0.6664 - val_accuracy: 0.9048\n",
            "Epoch 98/100\n",
            "24/24 [==============================] - 0s 3ms/step - loss: 7.6798e-05 - accuracy: 1.0000 - val_loss: 0.6665 - val_accuracy: 0.9048\n",
            "Epoch 99/100\n",
            "24/24 [==============================] - 0s 3ms/step - loss: 7.5220e-05 - accuracy: 1.0000 - val_loss: 0.6691 - val_accuracy: 0.9048\n",
            "Epoch 100/100\n",
            "24/24 [==============================] - 0s 3ms/step - loss: 7.3676e-05 - accuracy: 1.0000 - val_loss: 0.6705 - val_accuracy: 0.9048\n"
          ]
        }
      ],
      "source": [
        "history = model.fit(X_train, y_train, epochs=100, batch_size=8,\n",
        "                    validation_data=(X_val, y_val), callbacks=[callback])"
      ]
    },
    {
      "cell_type": "code",
      "execution_count": 39,
      "metadata": {
        "id": "_4Zme--pTPdg"
      },
      "outputs": [],
      "source": [
        "import matplotlib.pyplot as plt"
      ]
    },
    {
      "cell_type": "code",
      "execution_count": 40,
      "metadata": {
        "colab": {
          "base_uri": "https://localhost:8080/",
          "height": 472
        },
        "id": "3k3-whWKSFLN",
        "outputId": "2b032a1a-0a9a-4606-9f14-574b2e7e3acf"
      },
      "outputs": [
        {
          "data": {
            "image/png": "[encoded data removed]",
            "text/plain": [
              "<Figure size 640x480 with 1 Axes>"
            ]
          },
          "metadata": {},
          "output_type": "display_data"
        }
      ],
      "source": [
        "# Plot training and validation accuracy\n",
        "plt.plot(history.history['accuracy'])\n",
        "plt.plot(history.history['val_accuracy'])\n",
        "plt.title('Model accuracy')\n",
        "plt.ylabel('Accuracy')\n",
        "plt.xlabel('Epoch')\n",
        "plt.legend(['Train', 'Val'], loc='upper left')\n",
        "plt.show()"
      ]
    },
    {
      "cell_type": "code",
      "execution_count": 41,
      "metadata": {
        "colab": {
          "base_uri": "https://localhost:8080/",
          "height": 472
        },
        "id": "sRL-4iUfSGbk",
        "outputId": "0758897d-370b-4501-a50d-dc876525f546"
      },
      "outputs": [
        {
          "data": {
            "image/png": "[encoded data removed]",
            "text/plain": [
              "<Figure size 640x480 with 1 Axes>"
            ]
          },
          "metadata": {},
          "output_type": "display_data"
        }
      ],
      "source": [
        "# Plot training and test loss\n",
        "plt.plot(history.history['loss'])\n",
        "plt.plot(history.history['val_loss'])\n",
        "plt.title('Model loss')\n",
        "plt.ylabel('Loss')\n",
        "plt.xlabel('Epoch')\n",
        "plt.legend(['Train', 'Val'], loc='upper left')\n",
        "plt.show()"
      ]
    }
  ],
  "metadata": {
    "colab": {
      "machine_shape": "hm",
      "provenance": []
    },
    "kernelspec": {
      "display_name": "Python 3",
      "name": "python3"
    },
    "language_info": {
      "name": "python",
      "version": "3.11.5"
    }
  },
  "nbformat": 4,
  "nbformat_minor": 0
}

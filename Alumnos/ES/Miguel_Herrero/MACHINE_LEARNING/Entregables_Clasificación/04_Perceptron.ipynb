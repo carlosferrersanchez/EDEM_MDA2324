{
  "nbformat": 4,
  "nbformat_minor": 0,
  "metadata": {
    "colab": {
      "provenance": []
    },
    "kernelspec": {
      "name": "python3",
      "display_name": "Python 3"
    },
    "language_info": {
      "name": "python"
    }
  },
  "cells": [
    {
      "cell_type": "markdown",
      "source": [
        "# ENTREGABLE 5"
      ],
      "metadata": {
        "id": "xr0fIzfVX-m2"
      }
    },
    {
      "cell_type": "markdown",
      "source": [
        "# INSTRUCCIONES"
      ],
      "metadata": {
        "id": "XkFBXXIeYBul"
      }
    },
    {
      "cell_type": "markdown",
      "source": [
        "Entrenar un perceptrón para que sea capaz de simular el comportamiento de una puerta AND.\n",
        "\n",
        "- Generar 5000 muestras aleatorias de entrenamiento, 500 de validación y 500 de test.\n",
        "\n",
        "\n",
        "*Pistas*\n",
        "\n",
        " * w es un vector que corresponde al valor de los pesos de cada neurona de entrada\n",
        " * b es un valor que corresponde al bias del modelo\n",
        " * El valor de la suma ponderada será el valor resultante de: *(pesos x entradas) + bias*. Para ello utilizar el producto escalar (*np.dot*)\n"
      ],
      "metadata": {
        "id": "Qy5ok3zYYDsU"
      }
    },
    {
      "cell_type": "code",
      "source": [
        "import numpy as np\n",
        "from tqdm import tqdm\n",
        "import matplotlib.pyplot as plt\n",
        "from sklearn.metrics import confusion_matrix"
      ],
      "metadata": {
        "id": "E94bkgYT0jcE"
      },
      "execution_count": 1,
      "outputs": []
    },
    {
      "cell_type": "code",
      "execution_count": 2,
      "metadata": {
        "id": "7-EvIbuU0hW3"
      },
      "outputs": [],
      "source": [
        "class Perceptron:\n",
        "    def __init__(self, input_size):\n",
        "        # Inicializamos los pesos y el sesgo de manera aleatoria\n",
        "        self.weights = np.random.randn(input_size)\n",
        "        self.bias = np.random.randn()\n",
        "\n",
        "    def sigmoid(self, x):\n",
        "        # Función de activación: sigmoide\n",
        "        return 1 / (1 + np.exp(-x))\n",
        "\n",
        "    def sigmoid_derivative(self, x):\n",
        "        # Derivada de la función sigmoide\n",
        "        return self.sigmoid(x) * (1 - self.sigmoid(x))\n",
        "\n",
        "    def predict(self, inputs):\n",
        "        # Calculamos la suma ponderada de las entradas\n",
        "        weighted_sum = np.dot(inputs, self.weights) + self.bias\n",
        "        # Aplicamos la función de activación y devolvemos la predicción\n",
        "        return self.sigmoid(weighted_sum)\n",
        "\n",
        "    def train(self, X_train, Y_train, X_validation, Y_validation, learning_rate=0.1, epochs=100):\n",
        "\n",
        "        train_error_by_epoch = []\n",
        "        val_error_by_epoch = []\n",
        "\n",
        "        for epoch in range(epochs):\n",
        "            train_error_acum = 0\n",
        "            for i in range(X_train.shape[0]):\n",
        "\n",
        "                inputs = X_train[i]\n",
        "\n",
        "                # Calcular la predicción del perceptrón\n",
        "                prediction = self.predict(inputs)\n",
        "\n",
        "                # Calcular el error\n",
        "                diferencia = Y_train[i] - prediction\n",
        "                error = diferencia ** 2\n",
        "                train_error_acum += error # Aquí se acumula el error\n",
        "\n",
        "                # Actualizar pesos y sesgo mediante el descenso del gradiente\n",
        "                weights_derivative = -2 * diferencia * self.sigmoid_derivative(prediction) * inputs\n",
        "                bias_derivative = -2 * diferencia * self.sigmoid_derivative(prediction)\n",
        "                self.weights = self.weights - learning_rate * weights_derivative\n",
        "                self.bias = self.bias - learning_rate * bias_derivative\n",
        "\n",
        "            # Calcular el error promedio por epoch\n",
        "            train_error_acum /= X_train.shape[0]\n",
        "            train_error_by_epoch.append(train_error_acum)\n",
        "\n",
        "\n",
        "            val_error_acum = 0\n",
        "            for i in range(X_validation.shape[0]):\n",
        "                inputs = X_validation[i]\n",
        "                prediction = self.predict(inputs)\n",
        "                diferencia = Y_validation[i] - prediction\n",
        "                error = diferencia ** 2\n",
        "                train_error_acum += error # Aquí se acumula el error\n",
        "\n",
        "            # Calcular el error promedio de validación por epoch\n",
        "            val_error_acum /= X_validation.shape[0]\n",
        "            val_error_by_epoch.append(val_error_acum)\n",
        "\n",
        "\n",
        "            # Visualización del progreso\n",
        "            if epoch % 10 == 0:\n",
        "                print('epoch:', epoch, '| train error:', train_error_acum, '| val error:', val_error_acum)\n",
        "\n",
        "        # Visualización del error de entrenamiento por epoch\n",
        "        plt.figure()\n",
        "        plt.plot(range(epochs), train_error_by_epoch, '-b')\n",
        "        plt.xlabel('Epoch')\n",
        "        plt.ylabel('Error cuadrático promedio')\n",
        "        plt.title('Error de Entrenamiento por Epoch')\n",
        "        plt.show()\n",
        "\n",
        "        # Visualización del error de validación por epoch\n",
        "        plt.figure()\n",
        "        plt.plot(range(epochs), val_error_by_epoch, '-b')\n",
        "        plt.xlabel('Epoch')\n",
        "        plt.ylabel('Error cuadrático promedio')\n",
        "        plt.title('Error de Validación por Epoch')\n",
        "        plt.show()"
      ]
    },
    {
      "cell_type": "code",
      "source": [
        "# Datos de entrenamiento y validación para la puerta AND\n",
        "N_samples = 5000\n",
        "N_inputs = 2\n",
        "train_size = 0.9\n",
        "N_train = int(train_size * N_samples)\n",
        "N_validation = int((1 - train_size) * N_samples)\n",
        "\n",
        "X_train = np.random.randint(2, size=(N_train, N_inputs))\n",
        "Y_train = np.array([1 if x[0] == 1 and x[1] == 1 else 0 for x in X_train])\n",
        "\n",
        "X_validation = np.random.randint(2, size=(N_validation, N_inputs))\n",
        "Y_validation = np.array([1 if x[0] == 1 and x[1] == 1 else 0 for x in X_validation])\n",
        "\n",
        "# Visualizar algunas muestras\n",
        "print(\"X_data (first 5 samples):\")\n",
        "print(X_train[:5])\n",
        "\n",
        "print(\"Y_data (first 5 samples):\")\n",
        "print(Y_train[:5])"
      ],
      "metadata": {
        "id": "Qv73YJdB2cxR",
        "colab": {
          "base_uri": "https://localhost:8080/"
        },
        "outputId": "dba50491-b60d-4f47-84d1-bd7c06c80d0d"
      },
      "execution_count": 3,
      "outputs": [
        {
          "output_type": "stream",
          "name": "stdout",
          "text": [
            "X_data (first 5 samples):\n",
            "[[1 0]\n",
            " [0 1]\n",
            " [0 0]\n",
            " [1 0]\n",
            " [1 1]]\n",
            "Y_data (first 5 samples):\n",
            "[0 0 0 0 1]\n"
          ]
        }
      ]
    },
    {
      "cell_type": "code",
      "source": [
        "# Crear y entrenar el perceptrón para la puerta AND\n",
        "perceptron_and = Perceptron(input_size=N_inputs)"
      ],
      "metadata": {
        "id": "YZ9O9kZr2e1m"
      },
      "execution_count": 4,
      "outputs": []
    },
    {
      "cell_type": "code",
      "source": [
        "# Comprobar predicción del modelo sin entrenar\n",
        "index = 4\n",
        "\n",
        "th = 0.5\n",
        "print('Input:', X_validation[index])\n",
        "inputs = X_validation[index]\n",
        "prob = perceptron_and.predict(inputs)\n",
        "print('Probabilidad:', prob)\n",
        "print('Prediction:', (prob>th).astype('int'))"
      ],
      "metadata": {
        "id": "OATvOY6rZAA-",
        "colab": {
          "base_uri": "https://localhost:8080/"
        },
        "outputId": "a0aa52f8-c1cb-4516-fb3b-53ae5b90b8ad"
      },
      "execution_count": 5,
      "outputs": [
        {
          "output_type": "stream",
          "name": "stdout",
          "text": [
            "Input: [0 0]\n",
            "Probabilidad: 0.6634587191756882\n",
            "Prediction: 1\n"
          ]
        }
      ]
    },
    {
      "cell_type": "code",
      "source": [
        "# Obtenemos un overview de cómo funciona el modelo sin entrenar de forma aleatoria\n",
        "predictions = [perceptron_and.predict(X_validation[i]) > th for i in range(N_validation)]\n",
        "predictions = np.array(predictions).astype(int)\n",
        "\n",
        "# Calcula la matriz de confusión\n",
        "conf_matrix = confusion_matrix(Y_validation, predictions)\n",
        "\n",
        "# Visualiza la matriz de confusión\n",
        "print(\"Matriz de Confusión antes de entrenar:\")\n",
        "print(conf_matrix)"
      ],
      "metadata": {
        "id": "sNClS_hgZDa_",
        "colab": {
          "base_uri": "https://localhost:8080/"
        },
        "outputId": "bbfbe85e-1bcc-4572-ccb1-bccaa07a3057"
      },
      "execution_count": 7,
      "outputs": [
        {
          "output_type": "stream",
          "name": "stdout",
          "text": [
            "Matriz de Confusión antes de entrenar:\n",
            "[[  0 371]\n",
            " [  0 128]]\n"
          ]
        }
      ]
    },
    {
      "cell_type": "code",
      "source": [
        "# Entrenar el perceptrón\n",
        "perceptron_and.train(X_train, Y_train, X_validation, Y_validation)"
      ],
      "metadata": {
        "id": "cyDSfwTx2hLW",
        "colab": {
          "base_uri": "https://localhost:8080/",
          "height": 1000
        },
        "outputId": "80c9a05e-c280-4ef7-d9c0-60b20665e3ba"
      },
      "execution_count": 8,
      "outputs": [
        {
          "output_type": "stream",
          "name": "stdout",
          "text": [
            "epoch: 0 | train error: 4.217092485495514 | val error: 0.0\n",
            "epoch: 10 | train error: 0.046151074985546686 | val error: 0.0\n",
            "epoch: 20 | train error: 0.012436989424704817 | val error: 0.0\n",
            "epoch: 30 | train error: 0.005654079329313328 | val error: 0.0\n",
            "epoch: 40 | train error: 0.003214738802039079 | val error: 0.0\n",
            "epoch: 50 | train error: 0.0020702509937354538 | val error: 0.0\n",
            "epoch: 60 | train error: 0.001443474032518501 | val error: 0.0\n",
            "epoch: 70 | train error: 0.0010634954216648125 | val error: 0.0\n",
            "epoch: 80 | train error: 0.000815922271637839 | val error: 0.0\n",
            "epoch: 90 | train error: 0.000645697713636479 | val error: 0.0\n"
          ]
        },
        {
          "output_type": "display_data",
          "data": {
            "text/plain": [
              "<Figure size 640x480 with 1 Axes>"
            ],
            "image/png": "[encoded data removed]"
          },
          "metadata": {}
        },
        {
          "output_type": "display_data",
          "data": {
            "text/plain": [
              "<Figure size 640x480 with 1 Axes>"
            ],
            "image/png": "[encoded data removed]"
          },
          "metadata": {}
        }
      ]
    },
    {
      "cell_type": "code",
      "source": [
        "# Comprobar ahora la predicción del modelo entrenado en el set de validacion\n",
        "index = 4\n",
        "th = 0.5\n",
        "print('Input:', X_validation[index])\n",
        "inputs = X_validation[index]\n",
        "prob = perceptron_and.predict(inputs)\n",
        "print('Probabilidad:', prob)\n",
        "print('Prediction:', (prob > th).astype('int'))"
      ],
      "metadata": {
        "id": "i7x_ASxyZaue",
        "colab": {
          "base_uri": "https://localhost:8080/"
        },
        "outputId": "f96d2524-d230-4bcb-c5cc-23b648bb223d"
      },
      "execution_count": 9,
      "outputs": [
        {
          "output_type": "stream",
          "name": "stdout",
          "text": [
            "Input: [0 0]\n",
            "Probabilidad: 1.2827838777091892e-09\n",
            "Prediction: 0\n"
          ]
        }
      ]
    },
    {
      "cell_type": "code",
      "source": [
        "# Evaluamos cómo funciona el modelo en el set de validación\n",
        "predictions = [perceptron_and.predict(X_validation[i]) > th for i in range(N_validation)]\n",
        "predictions = np.array(predictions).astype(int)\n",
        "\n",
        "# Calcula la matriz de confusión\n",
        "conf_matrix = confusion_matrix(Y_validation, predictions)\n",
        "\n",
        "# Visualiza la matriz de confusión\n",
        "print(\"Matriz de Confusión después de entrenar:\")\n",
        "print(conf_matrix)"
      ],
      "metadata": {
        "id": "3f1Qjl0GeXqF",
        "colab": {
          "base_uri": "https://localhost:8080/"
        },
        "outputId": "faaabb76-d934-4341-ac46-75f84c0ec20b"
      },
      "execution_count": 10,
      "outputs": [
        {
          "output_type": "stream",
          "name": "stdout",
          "text": [
            "Matriz de Confusión después de entrenar:\n",
            "[[371   0]\n",
            " [  0 128]]\n"
          ]
        }
      ]
    },
    {
      "cell_type": "code",
      "source": [
        "# Evaluamos cómo funciona el modelo en el set de test\n",
        "\n",
        "## Generar el set de test (de forma similar al de validación)\n",
        "X_test = np.random.randint(2, size=(N_validation, N_inputs))\n",
        "Y_test = np.array([1 if x[0] == 1 and x[1] == 1 else 0 for x in X_test])\n",
        "\n",
        "predictions = [perceptron_and.predict(X_test[i]) > th for i in range(N_validation)]\n",
        "predictions = np.array(predictions).astype(int)\n",
        "\n",
        "# Calcula la matriz de confusión\n",
        "conf_matrix = confusion_matrix(Y_test, predictions)\n",
        "\n",
        "# Visualiza la matriz de confusión\n",
        "print(\"Matriz de Confusión en el set de test:\")\n",
        "print(conf_matrix)"
      ],
      "metadata": {
        "id": "1vcJGytH2uqj",
        "colab": {
          "base_uri": "https://localhost:8080/"
        },
        "outputId": "66460ee5-4325-4648-f693-ab5fe1759759"
      },
      "execution_count": 11,
      "outputs": [
        {
          "output_type": "stream",
          "name": "stdout",
          "text": [
            "Matriz de Confusión en el set de test:\n",
            "[[379   0]\n",
            " [  0 120]]\n"
          ]
        }
      ]
    },
    {
      "cell_type": "markdown",
      "source": [
        "## Conclusiones\n"
      ],
      "metadata": {
        "id": "1vLmxZ6C-mEp"
      }
    },
    {
      "cell_type": "markdown",
      "source": [
        "En este ejercicio, hemos creado y entrenado un perceptrón para simular una puerta lógica AND. Definimos la clase Perceptron con métodos para inicialización, predicción y entrenamiento mediante descenso de gradiente. Generamos 5000 muestras aleatorias, dividiéndolas en conjuntos de entrenamiento (4500) y validación (500). Las primeras muestras muestran correctamente las etiquetas esperadas para una puerta AND.\n",
        "\n",
        "Antes del entrenamiento, el perceptrón no logró clasificar correctamente ninguna muestra, como se refleja en la matriz de confusión inicial [[0, 371], [0, 128]]. Durante el entrenamiento, observamos una disminución significativa del error de entrenamiento de 4.217 a 0.0006, y el error de validación se mantuvo en 0.0, indicando una mejora constante.\n",
        "\n",
        "Después del entrenamiento, la matriz de confusión mostró una clasificación perfecta en el conjunto de validación [[371, 0], [0, 128]], y una precisión similar en el conjunto de prueba [[379, 0], [0, 120]]. Esto demuestra que el perceptrón aprendió eficazmente a clasificar correctamente las entradas de la puerta AND."
      ],
      "metadata": {
        "id": "Jiy8NY2R91ly"
      }
    }
  ]
}
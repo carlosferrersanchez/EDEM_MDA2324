{
  "cells": [
    {
      "cell_type": "markdown",
      "metadata": {
        "id": "xr0fIzfVX-m2"
      },
      "source": [
        "# ENTREGABLE 5"
      ]
    },
    {
      "cell_type": "markdown",
      "metadata": {
        "id": "XkFBXXIeYBul"
      },
      "source": [
        "# INSTRUCCIONES"
      ]
    },
    {
      "cell_type": "markdown",
      "metadata": {
        "id": "Qy5ok3zYYDsU"
      },
      "source": [
        "Entrenar un perceptrón para que sea capaz de simular el comportamiento de una puerta AND.\n",
        "\n",
        "- Generar 5000 muestras aleatorias de entrenamiento, 500 de validación y 500 de test.\n",
        "\n",
        "\n",
        "*Pistas*\n",
        "\n",
        " * w es un vector que corresponde al valor de los pesos de cada neurona de entrada\n",
        " * b es un valor que corresponde al bias del modelo\n",
        " * El valor de la suma ponderada será el valor resultante de: *(pesos x entradas) + bias*. Para ello utilizar el producto escalar (*np.dot*)\n"
      ]
    },
    {
      "cell_type": "code",
      "execution_count": 11,
      "metadata": {
        "id": "E94bkgYT0jcE"
      },
      "outputs": [],
      "source": [
        "import numpy as np\n",
        "from tqdm import tqdm\n",
        "import matplotlib.pyplot as plt\n",
        "from sklearn.metrics import confusion_matrix"
      ]
    },
    {
      "cell_type": "code",
      "execution_count": 23,
      "metadata": {
        "id": "7-EvIbuU0hW3"
      },
      "outputs": [],
      "source": [
        "class Perceptron:\n",
        "    def __init__(self, input_size):\n",
        "        # Inicializamos los pesos y el sesgo de manera aleatoria\n",
        "        self.weights = np.random.rand(input_size) \n",
        "        self.bias =np.random.rand() \n",
        "\n",
        "    def sigmoid(self, x):\n",
        "        # Función de activación: sigmoide\n",
        "        return 1 / (1 + np.exp(-x))\n",
        "\n",
        "    def sigmoid_derivative(self, x):\n",
        "        # Derivada de la función sigmoide\n",
        "        return self.sigmoid(x) * (1 - self.sigmoid(x))\n",
        "\n",
        "    def predict(self, inputs):\n",
        "        # Calculamos la suma ponderada de las entradas\n",
        "        weighted_sum = np.dot(inputs, self.weights) + self.bias\n",
        "        # Aplicamos la función de activación y devolvemos la predicción\n",
        "        return self.sigmoid(weighted_sum)\n",
        "\n",
        "    def train(self, X_train, Y_train, X_validation, Y_validation, learning_rate=0.1, epochs=100):\n",
        "\n",
        "        train_error_by_epoch = []\n",
        "        val_error_by_epoch = []\n",
        "\n",
        "        for epoch in range(epochs):\n",
        "            train_error_acum = 0\n",
        "            for i in range(X_train.shape[0]):\n",
        "\n",
        "                inputs = X_train[i]\n",
        "\n",
        "                # Calcular la predicción del perceptrón\n",
        "                prediction = self.predict(inputs) \n",
        "\n",
        "                # Calcular el error\n",
        "                diferencia = Y_train[i] - prediction\n",
        "                error = diferencia ** 2## a completar con el error cuadratico medio\n",
        "                train_error_acum += error # Aquí se acumula el error\n",
        "\n",
        "                # Actualizar pesos y sesgo mediante el descenso del gradiente\n",
        "                weights_derivative = -2 * diferencia * self.sigmoid_derivative(prediction) * inputs\n",
        "                bias_derivative = -2 * diferencia * self.sigmoid_derivative(prediction)\n",
        "                self.weights = self.weights - learning_rate * weights_derivative\n",
        "                self.bias = self.bias - learning_rate * bias_derivative\n",
        "\n",
        "            # Calcular el error promedio por epoch\n",
        "            train_error_acum = train_error_acum / X_train.shape[0]\n",
        "            train_error_by_epoch.append(train_error_acum)\n",
        "\n",
        "            val_error_acum = 0\n",
        "            for i in range(X_validation.shape[0]):\n",
        "                inputs = X_validation[i]\n",
        "                prediction =  self.predict(inputs)\n",
        "\n",
        "                diferencia = Y_validation[i] - prediction\n",
        "                error =diferencia ** 2\n",
        "                val_error_acum += error # Aquí se acumula el error\n",
        "\n",
        "            # Calcular el error promedio de validación por epoch\n",
        "            val_error_acum = val_error_acum / X_validation.shape[0]\n",
        "            val_error_by_epoch.append(val_error_acum)\n",
        "\n",
        "            # Visualización del progreso\n",
        "            if epoch % 10 == 0:\n",
        "                print('epoch:', epoch, '| train error:', train_error_acum, '| val error:', val_error_acum)\n",
        "\n",
        "        # Visualización del error de entrenamiento por epoch\n",
        "        plt.figure()\n",
        "        plt.plot(range(epochs), train_error_by_epoch, '-b')\n",
        "        plt.xlabel('Epoch')\n",
        "        plt.ylabel('Error cuadrático promedio')\n",
        "        plt.title('Error de Entrenamiento por Epoch')\n",
        "        plt.show()\n",
        "\n",
        "        # Visualización del error de validación por epoch\n",
        "        plt.figure()\n",
        "        plt.plot(range(epochs), val_error_by_epoch, '-b')\n",
        "        plt.xlabel('Epoch')\n",
        "        plt.ylabel('Error cuadrático promedio')\n",
        "        plt.title('Error de Validación por Epoch')\n",
        "        plt.show()"
      ]
    },
    {
      "cell_type": "code",
      "execution_count": 24,
      "metadata": {
        "id": "Qv73YJdB2cxR"
      },
      "outputs": [
        {
          "name": "stdout",
          "output_type": "stream",
          "text": [
            "X_train (first 5 samples):\n",
            "[[0 0]\n",
            " [1 0]\n",
            " [1 1]\n",
            " [0 1]\n",
            " [1 1]]\n",
            "Y_train (first 5 samples):\n",
            "[0 0 1 0 1]\n"
          ]
        }
      ],
      "source": [
        "# Datos de entrenamiento y validación para la puerta AND\n",
        "N_samples = 6000\n",
        "N_inputs = 2\n",
        "train_size = 0.8\n",
        "N_validation = int((1 - train_size) * N_samples)\n",
        "\n",
        "# Generar datos aleatorios\n",
        "X_data = np.random.randint(0, 2, size=(N_samples, N_inputs))\n",
        "Y_data = np.prod(X_data, axis=1)\n",
        "\n",
        "# Dividir datos en entrenamiento, validación y prueba\n",
        "X_train = X_data[:5000]\n",
        "Y_train = Y_data[:5000]\n",
        "\n",
        "X_validation = X_data[5000:5500]\n",
        "Y_validation = Y_data[5000:5500]\n",
        "\n",
        "X_test = X_data[5500:]\n",
        "Y_test = Y_data[5500:]\n",
        "\n",
        "# Visualizar algunas muestras\n",
        "print(\"X_train (first 5 samples):\")\n",
        "print(X_train[:5])\n",
        "\n",
        "print(\"Y_train (first 5 samples):\")\n",
        "print(Y_train[:5])\n"
      ]
    },
    {
      "cell_type": "code",
      "execution_count": 25,
      "metadata": {
        "id": "YZ9O9kZr2e1m"
      },
      "outputs": [],
      "source": [
        "# Crear y entrenar el perceptrón para la puerta AND\n",
        "perceptron_and = Perceptron(input_size=N_inputs)"
      ]
    },
    {
      "cell_type": "code",
      "execution_count": 26,
      "metadata": {
        "id": "OATvOY6rZAA-"
      },
      "outputs": [
        {
          "name": "stdout",
          "output_type": "stream",
          "text": [
            "Input: [1 1]\n",
            "Probabilidad: 0.9231235078626289\n",
            "Prediction: 1\n"
          ]
        }
      ],
      "source": [
        "# Comprobar predicción del modelo sin entrenar\n",
        "index = 4\n",
        "\n",
        "th = 0.5\n",
        "print('Input:', X_validation[index])\n",
        "inputs = X_validation[index]\n",
        "prob = perceptron_and.predict(inputs)\n",
        "print('Probabilidad:', prob)\n",
        "print('Prediction:', (prob>th).astype('int'))"
      ]
    },
    {
      "cell_type": "code",
      "execution_count": 27,
      "metadata": {},
      "outputs": [
        {
          "name": "stdout",
          "output_type": "stream",
          "text": [
            "Matriz de Confusión:\n",
            "[[  0 378]\n",
            " [  0 122]]\n"
          ]
        }
      ],
      "source": [
        "from sklearn.metrics import confusion_matrix\n",
        "#####\n",
        "# Obtenemos un overview de cómo funciona el modelo sin entrenar de forma aleatoria\n",
        "predictions = []\n",
        "\n",
        "# Itera por cada muestra de validación y genera las predicciones\n",
        "for i in range(X_validation.shape[0]):\n",
        "    inputs = X_validation[i]\n",
        "    prediction = perceptron_and.predict(inputs)\n",
        "    predictions.append(prediction)\n",
        "\n",
        "# Convierte las probabilidades en predicciones binarias usando un umbral\n",
        "umbral = 0.5\n",
        "predictions_binarias = (np.array(predictions) > umbral).astype(int)\n",
        "\n",
        "# Calcula la matriz de confusión\n",
        "conf_matrix = confusion_matrix(Y_validation, predictions_binarias)\n",
        "\n",
        "# Visualiza la matriz de confusión\n",
        "print(\"Matriz de Confusión:\")\n",
        "print(conf_matrix)\n"
      ]
    },
    {
      "cell_type": "code",
      "execution_count": 28,
      "metadata": {
        "id": "cyDSfwTx2hLW"
      },
      "outputs": [
        {
          "name": "stdout",
          "output_type": "stream",
          "text": [
            "epoch: 0 | train error: 0.035873516607675855 | val error: 0.006709958693620801\n",
            "epoch: 10 | train error: 7.719899530371732e-05 | val error: 7.250997957504111e-05\n",
            "epoch: 20 | train error: 2.0277761001181426e-05 | val error: 1.996293689213864e-05\n",
            "epoch: 30 | train error: 9.154869110353734e-06 | val error: 9.162297332686161e-06\n",
            "epoch: 40 | train error: 5.188523304506465e-06 | val error: 5.236471260885776e-06\n",
            "epoch: 50 | train error: 3.335172351566883e-06 | val error: 3.3831505177911343e-06\n",
            "epoch: 60 | train error: 2.3226386567962614e-06 | val error: 2.364101676887086e-06\n",
            "epoch: 70 | train error: 1.709782962442915e-06 | val error: 1.7445695096008818e-06\n",
            "epoch: 80 | train error: 1.3109372962310293e-06 | val error: 1.3400741065466327e-06\n",
            "epoch: 90 | train error: 1.036937559401e-06 | val error: 1.061507083352314e-06\n"
          ]
        },
        {
          "data": {
            "image/png": "[encoded data removed]",
            "text/plain": [
              "<Figure size 640x480 with 1 Axes>"
            ]
          },
          "metadata": {},
          "output_type": "display_data"
        },
        {
          "data": {
            "image/png": "[encoded data removed]",
            "text/plain": [
              "<Figure size 640x480 with 1 Axes>"
            ]
          },
          "metadata": {},
          "output_type": "display_data"
        }
      ],
      "source": [
        "# Entrenar el perceptrón\n",
        "perceptron_and.train(X_train, Y_train, X_validation, Y_validation)"
      ]
    },
    {
      "cell_type": "code",
      "execution_count": 29,
      "metadata": {
        "id": "i7x_ASxyZaue"
      },
      "outputs": [
        {
          "name": "stdout",
          "output_type": "stream",
          "text": [
            "Input: [1 1]\n",
            "Probabilidad: 0.9985212919516455\n",
            "Prediction: 1\n"
          ]
        }
      ],
      "source": [
        "# Comprobar ahora la predicción del modelo entrenado en el set de validacion\n",
        "index = 4\n",
        "\n",
        "th = 0.5\n",
        "print('Input:', X_validation[index])\n",
        "inputs = X_validation[index]\n",
        "prob = perceptron_and.predict(inputs)\n",
        "print('Probabilidad:', prob)\n",
        "print('Prediction:', (prob>th).astype('int'))"
      ]
    },
    {
      "cell_type": "code",
      "execution_count": 30,
      "metadata": {
        "id": "3f1Qjl0GeXqF"
      },
      "outputs": [
        {
          "name": "stdout",
          "output_type": "stream",
          "text": [
            "Matriz de Confusión:\n",
            "[[378   0]\n",
            " [  0 122]]\n"
          ]
        }
      ],
      "source": [
        "# Evaluamos cómo funciona el modelo en el set de validación\n",
        "predictions = []\n",
        "\n",
        "## Itera por cada muestra de validación y genera las predicciones binarias\n",
        "for i in range(len(X_validation)):\n",
        "    # Realiza la predicción y redondea al entero más cercano\n",
        "    prediction = perceptron_and.predict(X_validation[i])\n",
        "    predictions.append(int(round(prediction)))\n",
        "\n",
        "# Calcula la matriz de confusión\n",
        "conf_matrix = confusion_matrix(Y_validation, predictions)\n",
        "\n",
        "# Visualiza la matriz de confusión\n",
        "print(\"Matriz de Confusión:\")\n",
        "print(conf_matrix)"
      ]
    },
    {
      "cell_type": "code",
      "execution_count": 31,
      "metadata": {
        "id": "1vcJGytH2uqj"
      },
      "outputs": [
        {
          "name": "stdout",
          "output_type": "stream",
          "text": [
            "Matriz de Confusión en el conjunto de test:\n",
            "[[382   0]\n",
            " [  0 118]]\n"
          ]
        }
      ],
      "source": [
        "# Evaluamos cómo funciona el modelo en el set de test\n",
        "\n",
        "# Generar el set de test (de forma similar al de validación)\n",
        "X_test = X_data[5500:]\n",
        "Y_test = Y_data[5500:]\n",
        "\n",
        "# Inicializar la lista de predicciones\n",
        "predictions = []\n",
        "\n",
        "# Iterar por cada muestra de test guardando las predicciones en una lista\n",
        "for i in range(len(X_test)):\n",
        "    # Realizar la predicción y redondear al entero más cercano\n",
        "    prediction = perceptron_and.predict(X_test[i])\n",
        "    predictions.append(int(round(prediction)))\n",
        "\n",
        "# Calcular la matriz de confusión\n",
        "conf_matrix_test = confusion_matrix(Y_test, predictions)\n",
        "\n",
        "# Visualizar la matriz de confusión\n",
        "print(\"Matriz de Confusión en el conjunto de test:\")\n",
        "print(conf_matrix_test)\n"
      ]
    }
  ],
  "metadata": {
    "colab": {
      "provenance": []
    },
    "kernelspec": {
      "display_name": "Python 3",
      "name": "python3"
    },
    "language_info": {
      "codemirror_mode": {
        "name": "ipython",
        "version": 3
      },
      "file_extension": ".py",
      "mimetype": "text/x-python",
      "name": "python",
      "nbconvert_exporter": "python",
      "pygments_lexer": "ipython3",
      "version": "3.11.5"
    }
  },
  "nbformat": 4,
  "nbformat_minor": 0
}

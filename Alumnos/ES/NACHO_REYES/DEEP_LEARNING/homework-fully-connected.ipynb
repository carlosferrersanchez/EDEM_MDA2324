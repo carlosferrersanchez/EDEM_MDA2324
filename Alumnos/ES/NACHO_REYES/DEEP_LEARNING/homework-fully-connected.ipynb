{
  "cells": [
    {
      "cell_type": "markdown",
      "metadata": {
        "id": "8EZHOi6r9nam"
      },
      "source": [
        "# Homework: Sonar signal classification\n",
        "In this workshop you will train a binary classification neural network to differentiate if sonar signals bounced against a metal cylinder or a rock.\n",
        "\n",
        "[Info of the data](https://archive.ics.uci.edu/ml/datasets/Connectionist+Bench+(Sonar,+Mines+vs.+Rocks))\n",
        "\n",
        "Goal: Get an accuracy higher than 0.80 in the validation set"
      ]
    },
    {
      "cell_type": "markdown",
      "metadata": {
        "id": "SMD13P7t-zaB"
      },
      "source": [
        "## Get the data from Google Drive"
      ]
    },
    {
      "cell_type": "code",
      "execution_count": 871,
      "metadata": {
        "id": "79_B_MAD-wnl"
      },
      "outputs": [],
      "source": [
        "# Import libraries to interact with Google Drive\n",
        "from pydrive.auth import GoogleAuth\n",
        "from pydrive.drive import GoogleDrive\n",
        "from google.colab import auth\n",
        "from oauth2client.client import GoogleCredentials"
      ]
    },
    {
      "cell_type": "code",
      "execution_count": 872,
      "metadata": {
        "id": "6Zc93VS8-6at"
      },
      "outputs": [],
      "source": [
        "# Authenticate with your Google account to get access to the data\n",
        "auth.authenticate_user()\n",
        "gauth = GoogleAuth()\n",
        "gauth.credentials = GoogleCredentials.get_application_default()\n",
        "drive = GoogleDrive(gauth)"
      ]
    },
    {
      "cell_type": "code",
      "execution_count": 873,
      "metadata": {
        "id": "FuyIoFl7-9RK"
      },
      "outputs": [],
      "source": [
        "# Download data\n",
        "download = drive.CreateFile({'id': '1rw5l3jCo2vlNc8NLrMk3KPZr6HsjNRCY'})\n",
        "download.GetContentFile('sonar.csv')"
      ]
    },
    {
      "cell_type": "code",
      "execution_count": 874,
      "metadata": {
        "colab": {
          "base_uri": "https://localhost:8080/"
        },
        "id": "7ONNxAzG_Ktn",
        "outputId": "11ad69d7-7b64-4b7f-9874-b032d9aa2dc7"
      },
      "outputs": [
        {
          "name": "stdout",
          "output_type": "stream",
          "text": [
            "\u001b[0m\u001b[01;34msample_data\u001b[0m/  sonar.csv\n"
          ]
        }
      ],
      "source": [
        "ls"
      ]
    },
    {
      "cell_type": "markdown",
      "metadata": {
        "id": "3vDd2efB_WHM"
      },
      "source": [
        "## Do some magic below! ;)"
      ]
    },
    {
      "cell_type": "code",
      "execution_count": 875,
      "metadata": {
        "id": "TsDcws23YSh7"
      },
      "outputs": [],
      "source": [
        "import pandas as pd\n",
        "from sklearn.preprocessing import StandardScaler\n",
        "\n",
        "import tensorflow as tf\n",
        "from tensorflow.keras.layers import Dense\n",
        "from tensorflow.keras import Sequential\n",
        "from matplotlib import pyplot as plt\n",
        "\n",
        "from sklearn.preprocessing import LabelEncoder"
      ]
    },
    {
      "cell_type": "code",
      "execution_count": 876,
      "metadata": {
        "id": "o4SmeiYlHB95"
      },
      "outputs": [],
      "source": [
        "data = pd.read_csv('sonar.csv')"
      ]
    },
    {
      "cell_type": "code",
      "execution_count": 877,
      "metadata": {
        "colab": {
          "base_uri": "https://localhost:8080/",
          "height": 255
        },
        "id": "qfNwGbSZYRT3",
        "outputId": "f71a453b-0992-4b8f-d578-7440065b2a23"
      },
      "outputs": [
        {
          "data": {
            "application/vnd.google.colaboratory.intrinsic+json": {
              "type": "dataframe",
              "variable_name": "data"
            },
            "text/html": [
              "\n",
              "  <div id=\"df-3e98419d-7f72-4f55-b2ce-7c14d92d7346\" class=\"colab-df-container\">\n",
              "    <div>\n",
              "<style scoped>\n",
              "    .dataframe tbody tr th:only-of-type {\n",
              "        vertical-align: middle;\n",
              "    }\n",
              "\n",
              "    .dataframe tbody tr th {\n",
              "        vertical-align: top;\n",
              "    }\n",
              "\n",
              "    .dataframe thead th {\n",
              "        text-align: right;\n",
              "    }\n",
              "</style>\n",
              "<table border=\"1\" class=\"dataframe\">\n",
              "  <thead>\n",
              "    <tr style=\"text-align: right;\">\n",
              "      <th></th>\n",
              "      <th>0.0200</th>\n",
              "      <th>0.0371</th>\n",
              "      <th>0.0428</th>\n",
              "      <th>0.0207</th>\n",
              "      <th>0.0954</th>\n",
              "      <th>0.0986</th>\n",
              "      <th>0.1539</th>\n",
              "      <th>0.1601</th>\n",
              "      <th>0.3109</th>\n",
              "      <th>0.2111</th>\n",
              "      <th>...</th>\n",
              "      <th>0.0027</th>\n",
              "      <th>0.0065</th>\n",
              "      <th>0.0159</th>\n",
              "      <th>0.0072</th>\n",
              "      <th>0.0167</th>\n",
              "      <th>0.0180</th>\n",
              "      <th>0.0084</th>\n",
              "      <th>0.0090</th>\n",
              "      <th>0.0032</th>\n",
              "      <th>R</th>\n",
              "    </tr>\n",
              "  </thead>\n",
              "  <tbody>\n",
              "    <tr>\n",
              "      <th>0</th>\n",
              "      <td>0.0453</td>\n",
              "      <td>0.0523</td>\n",
              "      <td>0.0843</td>\n",
              "      <td>0.0689</td>\n",
              "      <td>0.1183</td>\n",
              "      <td>0.2583</td>\n",
              "      <td>0.2156</td>\n",
              "      <td>0.3481</td>\n",
              "      <td>0.3337</td>\n",
              "      <td>0.2872</td>\n",
              "      <td>...</td>\n",
              "      <td>0.0084</td>\n",
              "      <td>0.0089</td>\n",
              "      <td>0.0048</td>\n",
              "      <td>0.0094</td>\n",
              "      <td>0.0191</td>\n",
              "      <td>0.0140</td>\n",
              "      <td>0.0049</td>\n",
              "      <td>0.0052</td>\n",
              "      <td>0.0044</td>\n",
              "      <td>R</td>\n",
              "    </tr>\n",
              "    <tr>\n",
              "      <th>1</th>\n",
              "      <td>0.0262</td>\n",
              "      <td>0.0582</td>\n",
              "      <td>0.1099</td>\n",
              "      <td>0.1083</td>\n",
              "      <td>0.0974</td>\n",
              "      <td>0.2280</td>\n",
              "      <td>0.2431</td>\n",
              "      <td>0.3771</td>\n",
              "      <td>0.5598</td>\n",
              "      <td>0.6194</td>\n",
              "      <td>...</td>\n",
              "      <td>0.0232</td>\n",
              "      <td>0.0166</td>\n",
              "      <td>0.0095</td>\n",
              "      <td>0.0180</td>\n",
              "      <td>0.0244</td>\n",
              "      <td>0.0316</td>\n",
              "      <td>0.0164</td>\n",
              "      <td>0.0095</td>\n",
              "      <td>0.0078</td>\n",
              "      <td>R</td>\n",
              "    </tr>\n",
              "    <tr>\n",
              "      <th>2</th>\n",
              "      <td>0.0100</td>\n",
              "      <td>0.0171</td>\n",
              "      <td>0.0623</td>\n",
              "      <td>0.0205</td>\n",
              "      <td>0.0205</td>\n",
              "      <td>0.0368</td>\n",
              "      <td>0.1098</td>\n",
              "      <td>0.1276</td>\n",
              "      <td>0.0598</td>\n",
              "      <td>0.1264</td>\n",
              "      <td>...</td>\n",
              "      <td>0.0121</td>\n",
              "      <td>0.0036</td>\n",
              "      <td>0.0150</td>\n",
              "      <td>0.0085</td>\n",
              "      <td>0.0073</td>\n",
              "      <td>0.0050</td>\n",
              "      <td>0.0044</td>\n",
              "      <td>0.0040</td>\n",
              "      <td>0.0117</td>\n",
              "      <td>R</td>\n",
              "    </tr>\n",
              "    <tr>\n",
              "      <th>3</th>\n",
              "      <td>0.0762</td>\n",
              "      <td>0.0666</td>\n",
              "      <td>0.0481</td>\n",
              "      <td>0.0394</td>\n",
              "      <td>0.0590</td>\n",
              "      <td>0.0649</td>\n",
              "      <td>0.1209</td>\n",
              "      <td>0.2467</td>\n",
              "      <td>0.3564</td>\n",
              "      <td>0.4459</td>\n",
              "      <td>...</td>\n",
              "      <td>0.0031</td>\n",
              "      <td>0.0054</td>\n",
              "      <td>0.0105</td>\n",
              "      <td>0.0110</td>\n",
              "      <td>0.0015</td>\n",
              "      <td>0.0072</td>\n",
              "      <td>0.0048</td>\n",
              "      <td>0.0107</td>\n",
              "      <td>0.0094</td>\n",
              "      <td>R</td>\n",
              "    </tr>\n",
              "    <tr>\n",
              "      <th>4</th>\n",
              "      <td>0.0286</td>\n",
              "      <td>0.0453</td>\n",
              "      <td>0.0277</td>\n",
              "      <td>0.0174</td>\n",
              "      <td>0.0384</td>\n",
              "      <td>0.0990</td>\n",
              "      <td>0.1201</td>\n",
              "      <td>0.1833</td>\n",
              "      <td>0.2105</td>\n",
              "      <td>0.3039</td>\n",
              "      <td>...</td>\n",
              "      <td>0.0045</td>\n",
              "      <td>0.0014</td>\n",
              "      <td>0.0038</td>\n",
              "      <td>0.0013</td>\n",
              "      <td>0.0089</td>\n",
              "      <td>0.0057</td>\n",
              "      <td>0.0027</td>\n",
              "      <td>0.0051</td>\n",
              "      <td>0.0062</td>\n",
              "      <td>R</td>\n",
              "    </tr>\n",
              "  </tbody>\n",
              "</table>\n",
              "<p>5 rows × 61 columns</p>\n",
              "</div>\n",
              "    <div class=\"colab-df-buttons\">\n",
              "\n",
              "  <div class=\"colab-df-container\">\n",
              "    <button class=\"colab-df-convert\" onclick=\"convertToInteractive('df-3e98419d-7f72-4f55-b2ce-7c14d92d7346')\"\n",
              "            title=\"Convert this dataframe to an interactive table.\"\n",
              "            style=\"display:none;\">\n",
              "\n",
              "  <svg xmlns=\"http://www.w3.org/2000/svg\" height=\"24px\" viewBox=\"0 -960 960 960\">\n",
              "    <path d=\"M120-120v-720h720v720H120Zm60-500h600v-160H180v160Zm220 220h160v-160H400v160Zm0 220h160v-160H400v160ZM180-400h160v-160H180v160Zm440 0h160v-160H620v160ZM180-180h160v-160H180v160Zm440 0h160v-160H620v160Z\"/>\n",
              "  </svg>\n",
              "    </button>\n",
              "\n",
              "  <style>\n",
              "    .colab-df-container {\n",
              "      display:flex;\n",
              "      gap: 12px;\n",
              "    }\n",
              "\n",
              "    .colab-df-convert {\n",
              "      background-color: #E8F0FE;\n",
              "      border: none;\n",
              "      border-radius: 50%;\n",
              "      cursor: pointer;\n",
              "      display: none;\n",
              "      fill: #1967D2;\n",
              "      height: 32px;\n",
              "      padding: 0 0 0 0;\n",
              "      width: 32px;\n",
              "    }\n",
              "\n",
              "    .colab-df-convert:hover {\n",
              "      background-color: #E2EBFA;\n",
              "      box-shadow: 0px 1px 2px rgba(60, 64, 67, 0.3), 0px 1px 3px 1px rgba(60, 64, 67, 0.15);\n",
              "      fill: #174EA6;\n",
              "    }\n",
              "\n",
              "    .colab-df-buttons div {\n",
              "      margin-bottom: 4px;\n",
              "    }\n",
              "\n",
              "    [theme=dark] .colab-df-convert {\n",
              "      background-color: #3B4455;\n",
              "      fill: #D2E3FC;\n",
              "    }\n",
              "\n",
              "    [theme=dark] .colab-df-convert:hover {\n",
              "      background-color: #434B5C;\n",
              "      box-shadow: 0px 1px 3px 1px rgba(0, 0, 0, 0.15);\n",
              "      filter: drop-shadow(0px 1px 2px rgba(0, 0, 0, 0.3));\n",
              "      fill: #FFFFFF;\n",
              "    }\n",
              "  </style>\n",
              "\n",
              "    <script>\n",
              "      const buttonEl =\n",
              "        document.querySelector('#df-3e98419d-7f72-4f55-b2ce-7c14d92d7346 button.colab-df-convert');\n",
              "      buttonEl.style.display =\n",
              "        google.colab.kernel.accessAllowed ? 'block' : 'none';\n",
              "\n",
              "      async function convertToInteractive(key) {\n",
              "        const element = document.querySelector('#df-3e98419d-7f72-4f55-b2ce-7c14d92d7346');\n",
              "        const dataTable =\n",
              "          await google.colab.kernel.invokeFunction('convertToInteractive',\n",
              "                                                    [key], {});\n",
              "        if (!dataTable) return;\n",
              "\n",
              "        const docLinkHtml = 'Like what you see? Visit the ' +\n",
              "          '<a target=\"_blank\" href=https://colab.research.google.com/notebooks/data_table.ipynb>data table notebook</a>'\n",
              "          + ' to learn more about interactive tables.';\n",
              "        element.innerHTML = '';\n",
              "        dataTable['output_type'] = 'display_data';\n",
              "        await google.colab.output.renderOutput(dataTable, element);\n",
              "        const docLink = document.createElement('div');\n",
              "        docLink.innerHTML = docLinkHtml;\n",
              "        element.appendChild(docLink);\n",
              "      }\n",
              "    </script>\n",
              "  </div>\n",
              "\n",
              "\n",
              "<div id=\"df-4ed77795-3916-414c-b5eb-e337e3120e20\">\n",
              "  <button class=\"colab-df-quickchart\" onclick=\"quickchart('df-4ed77795-3916-414c-b5eb-e337e3120e20')\"\n",
              "            title=\"Suggest charts\"\n",
              "            style=\"display:none;\">\n",
              "\n",
              "<svg xmlns=\"http://www.w3.org/2000/svg\" height=\"24px\"viewBox=\"0 0 24 24\"\n",
              "     width=\"24px\">\n",
              "    <g>\n",
              "        <path d=\"M19 3H5c-1.1 0-2 .9-2 2v14c0 1.1.9 2 2 2h14c1.1 0 2-.9 2-2V5c0-1.1-.9-2-2-2zM9 17H7v-7h2v7zm4 0h-2V7h2v10zm4 0h-2v-4h2v4z\"/>\n",
              "    </g>\n",
              "</svg>\n",
              "  </button>\n",
              "\n",
              "<style>\n",
              "  .colab-df-quickchart {\n",
              "      --bg-color: #E8F0FE;\n",
              "      --fill-color: #1967D2;\n",
              "      --hover-bg-color: #E2EBFA;\n",
              "      --hover-fill-color: #174EA6;\n",
              "      --disabled-fill-color: #AAA;\n",
              "      --disabled-bg-color: #DDD;\n",
              "  }\n",
              "\n",
              "  [theme=dark] .colab-df-quickchart {\n",
              "      --bg-color: #3B4455;\n",
              "      --fill-color: #D2E3FC;\n",
              "      --hover-bg-color: #434B5C;\n",
              "      --hover-fill-color: #FFFFFF;\n",
              "      --disabled-bg-color: #3B4455;\n",
              "      --disabled-fill-color: #666;\n",
              "  }\n",
              "\n",
              "  .colab-df-quickchart {\n",
              "    background-color: var(--bg-color);\n",
              "    border: none;\n",
              "    border-radius: 50%;\n",
              "    cursor: pointer;\n",
              "    display: none;\n",
              "    fill: var(--fill-color);\n",
              "    height: 32px;\n",
              "    padding: 0;\n",
              "    width: 32px;\n",
              "  }\n",
              "\n",
              "  .colab-df-quickchart:hover {\n",
              "    background-color: var(--hover-bg-color);\n",
              "    box-shadow: 0 1px 2px rgba(60, 64, 67, 0.3), 0 1px 3px 1px rgba(60, 64, 67, 0.15);\n",
              "    fill: var(--button-hover-fill-color);\n",
              "  }\n",
              "\n",
              "  .colab-df-quickchart-complete:disabled,\n",
              "  .colab-df-quickchart-complete:disabled:hover {\n",
              "    background-color: var(--disabled-bg-color);\n",
              "    fill: var(--disabled-fill-color);\n",
              "    box-shadow: none;\n",
              "  }\n",
              "\n",
              "  .colab-df-spinner {\n",
              "    border: 2px solid var(--fill-color);\n",
              "    border-color: transparent;\n",
              "    border-bottom-color: var(--fill-color);\n",
              "    animation:\n",
              "      spin 1s steps(1) infinite;\n",
              "  }\n",
              "\n",
              "  @keyframes spin {\n",
              "    0% {\n",
              "      border-color: transparent;\n",
              "      border-bottom-color: var(--fill-color);\n",
              "      border-left-color: var(--fill-color);\n",
              "    }\n",
              "    20% {\n",
              "      border-color: transparent;\n",
              "      border-left-color: var(--fill-color);\n",
              "      border-top-color: var(--fill-color);\n",
              "    }\n",
              "    30% {\n",
              "      border-color: transparent;\n",
              "      border-left-color: var(--fill-color);\n",
              "      border-top-color: var(--fill-color);\n",
              "      border-right-color: var(--fill-color);\n",
              "    }\n",
              "    40% {\n",
              "      border-color: transparent;\n",
              "      border-right-color: var(--fill-color);\n",
              "      border-top-color: var(--fill-color);\n",
              "    }\n",
              "    60% {\n",
              "      border-color: transparent;\n",
              "      border-right-color: var(--fill-color);\n",
              "    }\n",
              "    80% {\n",
              "      border-color: transparent;\n",
              "      border-right-color: var(--fill-color);\n",
              "      border-bottom-color: var(--fill-color);\n",
              "    }\n",
              "    90% {\n",
              "      border-color: transparent;\n",
              "      border-bottom-color: var(--fill-color);\n",
              "    }\n",
              "  }\n",
              "</style>\n",
              "\n",
              "  <script>\n",
              "    async function quickchart(key) {\n",
              "      const quickchartButtonEl =\n",
              "        document.querySelector('#' + key + ' button');\n",
              "      quickchartButtonEl.disabled = true;  // To prevent multiple clicks.\n",
              "      quickchartButtonEl.classList.add('colab-df-spinner');\n",
              "      try {\n",
              "        const charts = await google.colab.kernel.invokeFunction(\n",
              "            'suggestCharts', [key], {});\n",
              "      } catch (error) {\n",
              "        console.error('Error during call to suggestCharts:', error);\n",
              "      }\n",
              "      quickchartButtonEl.classList.remove('colab-df-spinner');\n",
              "      quickchartButtonEl.classList.add('colab-df-quickchart-complete');\n",
              "    }\n",
              "    (() => {\n",
              "      let quickchartButtonEl =\n",
              "        document.querySelector('#df-4ed77795-3916-414c-b5eb-e337e3120e20 button');\n",
              "      quickchartButtonEl.style.display =\n",
              "        google.colab.kernel.accessAllowed ? 'block' : 'none';\n",
              "    })();\n",
              "  </script>\n",
              "</div>\n",
              "    </div>\n",
              "  </div>\n"
            ],
            "text/plain": [
              "   0.0200  0.0371  0.0428  0.0207  0.0954  0.0986  0.1539  0.1601  0.3109  \\\n",
              "0  0.0453  0.0523  0.0843  0.0689  0.1183  0.2583  0.2156  0.3481  0.3337   \n",
              "1  0.0262  0.0582  0.1099  0.1083  0.0974  0.2280  0.2431  0.3771  0.5598   \n",
              "2  0.0100  0.0171  0.0623  0.0205  0.0205  0.0368  0.1098  0.1276  0.0598   \n",
              "3  0.0762  0.0666  0.0481  0.0394  0.0590  0.0649  0.1209  0.2467  0.3564   \n",
              "4  0.0286  0.0453  0.0277  0.0174  0.0384  0.0990  0.1201  0.1833  0.2105   \n",
              "\n",
              "   0.2111  ...  0.0027  0.0065  0.0159  0.0072  0.0167  0.0180  0.0084  \\\n",
              "0  0.2872  ...  0.0084  0.0089  0.0048  0.0094  0.0191  0.0140  0.0049   \n",
              "1  0.6194  ...  0.0232  0.0166  0.0095  0.0180  0.0244  0.0316  0.0164   \n",
              "2  0.1264  ...  0.0121  0.0036  0.0150  0.0085  0.0073  0.0050  0.0044   \n",
              "3  0.4459  ...  0.0031  0.0054  0.0105  0.0110  0.0015  0.0072  0.0048   \n",
              "4  0.3039  ...  0.0045  0.0014  0.0038  0.0013  0.0089  0.0057  0.0027   \n",
              "\n",
              "   0.0090  0.0032  R  \n",
              "0  0.0052  0.0044  R  \n",
              "1  0.0095  0.0078  R  \n",
              "2  0.0040  0.0117  R  \n",
              "3  0.0107  0.0094  R  \n",
              "4  0.0051  0.0062  R  \n",
              "\n",
              "[5 rows x 61 columns]"
            ]
          },
          "execution_count": 877,
          "metadata": {},
          "output_type": "execute_result"
        }
      ],
      "source": [
        "data.head()"
      ]
    },
    {
      "cell_type": "code",
      "execution_count": 878,
      "metadata": {
        "id": "OwOhQZc3gfEA"
      },
      "outputs": [],
      "source": [
        "import numpy as np\n",
        "np.random.seed(42)"
      ]
    },
    {
      "cell_type": "code",
      "execution_count": 879,
      "metadata": {
        "id": "sq4dT3SeYV3Q"
      },
      "outputs": [],
      "source": [
        "x_train, y_train = data.drop('R', axis=1), data['R']"
      ]
    },
    {
      "cell_type": "code",
      "execution_count": 880,
      "metadata": {
        "colab": {
          "base_uri": "https://localhost:8080/"
        },
        "id": "pZT51rfSZIHr",
        "outputId": "8f419ca7-e478-4aeb-bfe4-9f7051fd1047"
      },
      "outputs": [
        {
          "data": {
            "text/plain": [
              "((207, 60), (207,))"
            ]
          },
          "execution_count": 880,
          "metadata": {},
          "output_type": "execute_result"
        }
      ],
      "source": [
        "x_train.shape, y_train.shape,"
      ]
    },
    {
      "cell_type": "code",
      "execution_count": 881,
      "metadata": {
        "id": "HGjCn5iIZO6B"
      },
      "outputs": [],
      "source": [
        "standard_scaler = StandardScaler()\n",
        "x_train_scaled = pd.DataFrame(\n",
        "    standard_scaler.fit_transform(x_train),\n",
        "    columns=x_train.columns\n",
        ")"
      ]
    },
    {
      "cell_type": "code",
      "execution_count": 882,
      "metadata": {
        "colab": {
          "base_uri": "https://localhost:8080/",
          "height": 255
        },
        "id": "ttjZS53qaI6Y",
        "outputId": "d93ac5b0-b8e7-4738-a6ca-52450d88acce"
      },
      "outputs": [
        {
          "data": {
            "application/vnd.google.colaboratory.intrinsic+json": {
              "type": "dataframe",
              "variable_name": "x_train_scaled"
            },
            "text/html": [
              "\n",
              "  <div id=\"df-bb5377d5-0778-4c28-a321-ff3d89754eb8\" class=\"colab-df-container\">\n",
              "    <div>\n",
              "<style scoped>\n",
              "    .dataframe tbody tr th:only-of-type {\n",
              "        vertical-align: middle;\n",
              "    }\n",
              "\n",
              "    .dataframe tbody tr th {\n",
              "        vertical-align: top;\n",
              "    }\n",
              "\n",
              "    .dataframe thead th {\n",
              "        text-align: right;\n",
              "    }\n",
              "</style>\n",
              "<table border=\"1\" class=\"dataframe\">\n",
              "  <thead>\n",
              "    <tr style=\"text-align: right;\">\n",
              "      <th></th>\n",
              "      <th>0.0200</th>\n",
              "      <th>0.0371</th>\n",
              "      <th>0.0428</th>\n",
              "      <th>0.0207</th>\n",
              "      <th>0.0954</th>\n",
              "      <th>0.0986</th>\n",
              "      <th>0.1539</th>\n",
              "      <th>0.1601</th>\n",
              "      <th>0.3109</th>\n",
              "      <th>0.2111</th>\n",
              "      <th>...</th>\n",
              "      <th>0.0232</th>\n",
              "      <th>0.0027</th>\n",
              "      <th>0.0065</th>\n",
              "      <th>0.0159</th>\n",
              "      <th>0.0072</th>\n",
              "      <th>0.0167</th>\n",
              "      <th>0.0180</th>\n",
              "      <th>0.0084</th>\n",
              "      <th>0.0090</th>\n",
              "      <th>0.0032</th>\n",
              "    </tr>\n",
              "  </thead>\n",
              "  <tbody>\n",
              "    <tr>\n",
              "      <th>0</th>\n",
              "      <td>0.700189</td>\n",
              "      <td>0.420421</td>\n",
              "      <td>1.052950</td>\n",
              "      <td>0.319501</td>\n",
              "      <td>0.777810</td>\n",
              "      <td>2.600518</td>\n",
              "      <td>1.522475</td>\n",
              "      <td>2.506911</td>\n",
              "      <td>1.324632</td>\n",
              "      <td>0.587392</td>\n",
              "      <td>...</td>\n",
              "      <td>-0.294569</td>\n",
              "      <td>-0.528057</td>\n",
              "      <td>-0.259343</td>\n",
              "      <td>-0.838780</td>\n",
              "      <td>0.014044</td>\n",
              "      <td>1.913786</td>\n",
              "      <td>1.084838</td>\n",
              "      <td>-0.470938</td>\n",
              "      <td>-0.442688</td>\n",
              "      <td>-0.422461</td>\n",
              "    </tr>\n",
              "    <tr>\n",
              "      <th>1</th>\n",
              "      <td>-0.130894</td>\n",
              "      <td>0.599427</td>\n",
              "      <td>1.719130</td>\n",
              "      <td>1.167351</td>\n",
              "      <td>0.401466</td>\n",
              "      <td>2.087862</td>\n",
              "      <td>1.967839</td>\n",
              "      <td>2.847551</td>\n",
              "      <td>3.240336</td>\n",
              "      <td>3.058831</td>\n",
              "      <td>...</td>\n",
              "      <td>-1.061350</td>\n",
              "      <td>1.012809</td>\n",
              "      <td>0.832198</td>\n",
              "      <td>-0.194293</td>\n",
              "      <td>1.227682</td>\n",
              "      <td>2.842696</td>\n",
              "      <td>4.150049</td>\n",
              "      <td>1.306561</td>\n",
              "      <td>0.252998</td>\n",
              "      <td>0.254053</td>\n",
              "    </tr>\n",
              "    <tr>\n",
              "      <th>2</th>\n",
              "      <td>-0.835792</td>\n",
              "      <td>-0.647546</td>\n",
              "      <td>0.480451</td>\n",
              "      <td>-0.722021</td>\n",
              "      <td>-0.983262</td>\n",
              "      <td>-1.147115</td>\n",
              "      <td>-0.190961</td>\n",
              "      <td>-0.083126</td>\n",
              "      <td>-0.996071</td>\n",
              "      <td>-0.608898</td>\n",
              "      <td>...</td>\n",
              "      <td>0.672242</td>\n",
              "      <td>-0.142840</td>\n",
              "      <td>-1.010664</td>\n",
              "      <td>0.559893</td>\n",
              "      <td>-0.112965</td>\n",
              "      <td>-0.154353</td>\n",
              "      <td>-0.482599</td>\n",
              "      <td>-0.548221</td>\n",
              "      <td>-0.636834</td>\n",
              "      <td>1.030055</td>\n",
              "    </tr>\n",
              "    <tr>\n",
              "      <th>3</th>\n",
              "      <td>2.044717</td>\n",
              "      <td>0.854283</td>\n",
              "      <td>0.110929</td>\n",
              "      <td>-0.315311</td>\n",
              "      <td>-0.289998</td>\n",
              "      <td>-0.671681</td>\n",
              "      <td>-0.011196</td>\n",
              "      <td>1.315846</td>\n",
              "      <td>1.516965</td>\n",
              "      <td>1.768058</td>\n",
              "      <td>...</td>\n",
              "      <td>-0.036197</td>\n",
              "      <td>-1.079853</td>\n",
              "      <td>-0.755498</td>\n",
              "      <td>-0.057168</td>\n",
              "      <td>0.239837</td>\n",
              "      <td>-1.170895</td>\n",
              "      <td>-0.099448</td>\n",
              "      <td>-0.486395</td>\n",
              "      <td>0.447143</td>\n",
              "      <td>0.572413</td>\n",
              "    </tr>\n",
              "    <tr>\n",
              "      <th>4</th>\n",
              "      <td>-0.026465</td>\n",
              "      <td>0.208041</td>\n",
              "      <td>-0.419933</td>\n",
              "      <td>-0.788730</td>\n",
              "      <td>-0.660939</td>\n",
              "      <td>-0.094732</td>\n",
              "      <td>-0.024152</td>\n",
              "      <td>0.571138</td>\n",
              "      <td>0.280782</td>\n",
              "      <td>0.711633</td>\n",
              "      <td>...</td>\n",
              "      <td>-0.469595</td>\n",
              "      <td>-0.934096</td>\n",
              "      <td>-1.322533</td>\n",
              "      <td>-0.975905</td>\n",
              "      <td>-1.129034</td>\n",
              "      <td>0.126073</td>\n",
              "      <td>-0.360687</td>\n",
              "      <td>-0.810982</td>\n",
              "      <td>-0.458867</td>\n",
              "      <td>-0.064306</td>\n",
              "    </tr>\n",
              "  </tbody>\n",
              "</table>\n",
              "<p>5 rows × 60 columns</p>\n",
              "</div>\n",
              "    <div class=\"colab-df-buttons\">\n",
              "\n",
              "  <div class=\"colab-df-container\">\n",
              "    <button class=\"colab-df-convert\" onclick=\"convertToInteractive('df-bb5377d5-0778-4c28-a321-ff3d89754eb8')\"\n",
              "            title=\"Convert this dataframe to an interactive table.\"\n",
              "            style=\"display:none;\">\n",
              "\n",
              "  <svg xmlns=\"http://www.w3.org/2000/svg\" height=\"24px\" viewBox=\"0 -960 960 960\">\n",
              "    <path d=\"M120-120v-720h720v720H120Zm60-500h600v-160H180v160Zm220 220h160v-160H400v160Zm0 220h160v-160H400v160ZM180-400h160v-160H180v160Zm440 0h160v-160H620v160ZM180-180h160v-160H180v160Zm440 0h160v-160H620v160Z\"/>\n",
              "  </svg>\n",
              "    </button>\n",
              "\n",
              "  <style>\n",
              "    .colab-df-container {\n",
              "      display:flex;\n",
              "      gap: 12px;\n",
              "    }\n",
              "\n",
              "    .colab-df-convert {\n",
              "      background-color: #E8F0FE;\n",
              "      border: none;\n",
              "      border-radius: 50%;\n",
              "      cursor: pointer;\n",
              "      display: none;\n",
              "      fill: #1967D2;\n",
              "      height: 32px;\n",
              "      padding: 0 0 0 0;\n",
              "      width: 32px;\n",
              "    }\n",
              "\n",
              "    .colab-df-convert:hover {\n",
              "      background-color: #E2EBFA;\n",
              "      box-shadow: 0px 1px 2px rgba(60, 64, 67, 0.3), 0px 1px 3px 1px rgba(60, 64, 67, 0.15);\n",
              "      fill: #174EA6;\n",
              "    }\n",
              "\n",
              "    .colab-df-buttons div {\n",
              "      margin-bottom: 4px;\n",
              "    }\n",
              "\n",
              "    [theme=dark] .colab-df-convert {\n",
              "      background-color: #3B4455;\n",
              "      fill: #D2E3FC;\n",
              "    }\n",
              "\n",
              "    [theme=dark] .colab-df-convert:hover {\n",
              "      background-color: #434B5C;\n",
              "      box-shadow: 0px 1px 3px 1px rgba(0, 0, 0, 0.15);\n",
              "      filter: drop-shadow(0px 1px 2px rgba(0, 0, 0, 0.3));\n",
              "      fill: #FFFFFF;\n",
              "    }\n",
              "  </style>\n",
              "\n",
              "    <script>\n",
              "      const buttonEl =\n",
              "        document.querySelector('#df-bb5377d5-0778-4c28-a321-ff3d89754eb8 button.colab-df-convert');\n",
              "      buttonEl.style.display =\n",
              "        google.colab.kernel.accessAllowed ? 'block' : 'none';\n",
              "\n",
              "      async function convertToInteractive(key) {\n",
              "        const element = document.querySelector('#df-bb5377d5-0778-4c28-a321-ff3d89754eb8');\n",
              "        const dataTable =\n",
              "          await google.colab.kernel.invokeFunction('convertToInteractive',\n",
              "                                                    [key], {});\n",
              "        if (!dataTable) return;\n",
              "\n",
              "        const docLinkHtml = 'Like what you see? Visit the ' +\n",
              "          '<a target=\"_blank\" href=https://colab.research.google.com/notebooks/data_table.ipynb>data table notebook</a>'\n",
              "          + ' to learn more about interactive tables.';\n",
              "        element.innerHTML = '';\n",
              "        dataTable['output_type'] = 'display_data';\n",
              "        await google.colab.output.renderOutput(dataTable, element);\n",
              "        const docLink = document.createElement('div');\n",
              "        docLink.innerHTML = docLinkHtml;\n",
              "        element.appendChild(docLink);\n",
              "      }\n",
              "    </script>\n",
              "  </div>\n",
              "\n",
              "\n",
              "<div id=\"df-01f203b8-6132-4596-a777-056cfe03760b\">\n",
              "  <button class=\"colab-df-quickchart\" onclick=\"quickchart('df-01f203b8-6132-4596-a777-056cfe03760b')\"\n",
              "            title=\"Suggest charts\"\n",
              "            style=\"display:none;\">\n",
              "\n",
              "<svg xmlns=\"http://www.w3.org/2000/svg\" height=\"24px\"viewBox=\"0 0 24 24\"\n",
              "     width=\"24px\">\n",
              "    <g>\n",
              "        <path d=\"M19 3H5c-1.1 0-2 .9-2 2v14c0 1.1.9 2 2 2h14c1.1 0 2-.9 2-2V5c0-1.1-.9-2-2-2zM9 17H7v-7h2v7zm4 0h-2V7h2v10zm4 0h-2v-4h2v4z\"/>\n",
              "    </g>\n",
              "</svg>\n",
              "  </button>\n",
              "\n",
              "<style>\n",
              "  .colab-df-quickchart {\n",
              "      --bg-color: #E8F0FE;\n",
              "      --fill-color: #1967D2;\n",
              "      --hover-bg-color: #E2EBFA;\n",
              "      --hover-fill-color: #174EA6;\n",
              "      --disabled-fill-color: #AAA;\n",
              "      --disabled-bg-color: #DDD;\n",
              "  }\n",
              "\n",
              "  [theme=dark] .colab-df-quickchart {\n",
              "      --bg-color: #3B4455;\n",
              "      --fill-color: #D2E3FC;\n",
              "      --hover-bg-color: #434B5C;\n",
              "      --hover-fill-color: #FFFFFF;\n",
              "      --disabled-bg-color: #3B4455;\n",
              "      --disabled-fill-color: #666;\n",
              "  }\n",
              "\n",
              "  .colab-df-quickchart {\n",
              "    background-color: var(--bg-color);\n",
              "    border: none;\n",
              "    border-radius: 50%;\n",
              "    cursor: pointer;\n",
              "    display: none;\n",
              "    fill: var(--fill-color);\n",
              "    height: 32px;\n",
              "    padding: 0;\n",
              "    width: 32px;\n",
              "  }\n",
              "\n",
              "  .colab-df-quickchart:hover {\n",
              "    background-color: var(--hover-bg-color);\n",
              "    box-shadow: 0 1px 2px rgba(60, 64, 67, 0.3), 0 1px 3px 1px rgba(60, 64, 67, 0.15);\n",
              "    fill: var(--button-hover-fill-color);\n",
              "  }\n",
              "\n",
              "  .colab-df-quickchart-complete:disabled,\n",
              "  .colab-df-quickchart-complete:disabled:hover {\n",
              "    background-color: var(--disabled-bg-color);\n",
              "    fill: var(--disabled-fill-color);\n",
              "    box-shadow: none;\n",
              "  }\n",
              "\n",
              "  .colab-df-spinner {\n",
              "    border: 2px solid var(--fill-color);\n",
              "    border-color: transparent;\n",
              "    border-bottom-color: var(--fill-color);\n",
              "    animation:\n",
              "      spin 1s steps(1) infinite;\n",
              "  }\n",
              "\n",
              "  @keyframes spin {\n",
              "    0% {\n",
              "      border-color: transparent;\n",
              "      border-bottom-color: var(--fill-color);\n",
              "      border-left-color: var(--fill-color);\n",
              "    }\n",
              "    20% {\n",
              "      border-color: transparent;\n",
              "      border-left-color: var(--fill-color);\n",
              "      border-top-color: var(--fill-color);\n",
              "    }\n",
              "    30% {\n",
              "      border-color: transparent;\n",
              "      border-left-color: var(--fill-color);\n",
              "      border-top-color: var(--fill-color);\n",
              "      border-right-color: var(--fill-color);\n",
              "    }\n",
              "    40% {\n",
              "      border-color: transparent;\n",
              "      border-right-color: var(--fill-color);\n",
              "      border-top-color: var(--fill-color);\n",
              "    }\n",
              "    60% {\n",
              "      border-color: transparent;\n",
              "      border-right-color: var(--fill-color);\n",
              "    }\n",
              "    80% {\n",
              "      border-color: transparent;\n",
              "      border-right-color: var(--fill-color);\n",
              "      border-bottom-color: var(--fill-color);\n",
              "    }\n",
              "    90% {\n",
              "      border-color: transparent;\n",
              "      border-bottom-color: var(--fill-color);\n",
              "    }\n",
              "  }\n",
              "</style>\n",
              "\n",
              "  <script>\n",
              "    async function quickchart(key) {\n",
              "      const quickchartButtonEl =\n",
              "        document.querySelector('#' + key + ' button');\n",
              "      quickchartButtonEl.disabled = true;  // To prevent multiple clicks.\n",
              "      quickchartButtonEl.classList.add('colab-df-spinner');\n",
              "      try {\n",
              "        const charts = await google.colab.kernel.invokeFunction(\n",
              "            'suggestCharts', [key], {});\n",
              "      } catch (error) {\n",
              "        console.error('Error during call to suggestCharts:', error);\n",
              "      }\n",
              "      quickchartButtonEl.classList.remove('colab-df-spinner');\n",
              "      quickchartButtonEl.classList.add('colab-df-quickchart-complete');\n",
              "    }\n",
              "    (() => {\n",
              "      let quickchartButtonEl =\n",
              "        document.querySelector('#df-01f203b8-6132-4596-a777-056cfe03760b button');\n",
              "      quickchartButtonEl.style.display =\n",
              "        google.colab.kernel.accessAllowed ? 'block' : 'none';\n",
              "    })();\n",
              "  </script>\n",
              "</div>\n",
              "    </div>\n",
              "  </div>\n"
            ],
            "text/plain": [
              "     0.0200    0.0371    0.0428    0.0207    0.0954    0.0986    0.1539  \\\n",
              "0  0.700189  0.420421  1.052950  0.319501  0.777810  2.600518  1.522475   \n",
              "1 -0.130894  0.599427  1.719130  1.167351  0.401466  2.087862  1.967839   \n",
              "2 -0.835792 -0.647546  0.480451 -0.722021 -0.983262 -1.147115 -0.190961   \n",
              "3  2.044717  0.854283  0.110929 -0.315311 -0.289998 -0.671681 -0.011196   \n",
              "4 -0.026465  0.208041 -0.419933 -0.788730 -0.660939 -0.094732 -0.024152   \n",
              "\n",
              "     0.1601    0.3109    0.2111  ...    0.0232    0.0027    0.0065    0.0159  \\\n",
              "0  2.506911  1.324632  0.587392  ... -0.294569 -0.528057 -0.259343 -0.838780   \n",
              "1  2.847551  3.240336  3.058831  ... -1.061350  1.012809  0.832198 -0.194293   \n",
              "2 -0.083126 -0.996071 -0.608898  ...  0.672242 -0.142840 -1.010664  0.559893   \n",
              "3  1.315846  1.516965  1.768058  ... -0.036197 -1.079853 -0.755498 -0.057168   \n",
              "4  0.571138  0.280782  0.711633  ... -0.469595 -0.934096 -1.322533 -0.975905   \n",
              "\n",
              "     0.0072    0.0167    0.0180    0.0084    0.0090    0.0032  \n",
              "0  0.014044  1.913786  1.084838 -0.470938 -0.442688 -0.422461  \n",
              "1  1.227682  2.842696  4.150049  1.306561  0.252998  0.254053  \n",
              "2 -0.112965 -0.154353 -0.482599 -0.548221 -0.636834  1.030055  \n",
              "3  0.239837 -1.170895 -0.099448 -0.486395  0.447143  0.572413  \n",
              "4 -1.129034  0.126073 -0.360687 -0.810982 -0.458867 -0.064306  \n",
              "\n",
              "[5 rows x 60 columns]"
            ]
          },
          "execution_count": 882,
          "metadata": {},
          "output_type": "execute_result"
        }
      ],
      "source": [
        "x_train_scaled.head()"
      ]
    },
    {
      "cell_type": "code",
      "execution_count": 883,
      "metadata": {
        "id": "PUYJ7w7hbVNF"
      },
      "outputs": [],
      "source": [
        "label_encoder = LabelEncoder()\n",
        "y_train_encoded = label_encoder.fit_transform(y_train.values)"
      ]
    },
    {
      "cell_type": "code",
      "execution_count": 884,
      "metadata": {
        "colab": {
          "base_uri": "https://localhost:8080/"
        },
        "id": "ouorXb9fcPt0",
        "outputId": "8091085e-840e-46ac-8103-658db7c20f3d"
      },
      "outputs": [
        {
          "data": {
            "text/plain": [
              "array([1, 1, 1, 1, 1, 1, 1, 1, 1, 1, 1, 1, 1, 1, 1, 1, 1, 1, 1, 1, 1, 1,\n",
              "       1, 1, 1, 1, 1, 1, 1, 1, 1, 1, 1, 1, 1, 1, 1, 1, 1, 1, 1, 1, 1, 1,\n",
              "       1, 1, 1, 1, 1, 1, 1, 1, 1, 1, 1, 1, 1, 1, 1, 1, 1, 1, 1, 1, 1, 1,\n",
              "       1, 1, 1, 1, 1, 1, 1, 1, 1, 1, 1, 1, 1, 1, 1, 1, 1, 1, 1, 1, 1, 1,\n",
              "       1, 1, 1, 1, 1, 1, 1, 1, 0, 0, 0, 0, 0, 0, 0, 0, 0, 0, 0, 0, 0, 0,\n",
              "       0, 0, 0, 0, 0, 0, 0, 0, 0, 0, 0, 0, 0, 0, 0, 0, 0, 0, 0, 0, 0, 0,\n",
              "       0, 0, 0, 0, 0, 0, 0, 0, 0, 0, 0, 0, 0, 0, 0, 0, 0, 0, 0, 0, 0, 0,\n",
              "       0, 0, 0, 0, 0, 0, 0, 0, 0, 0, 0, 0, 0, 0, 0, 0, 0, 0, 0, 0, 0, 0,\n",
              "       0, 0, 0, 0, 0, 0, 0, 0, 0, 0, 0, 0, 0, 0, 0, 0, 0, 0, 0, 0, 0, 0,\n",
              "       0, 0, 0, 0, 0, 0, 0, 0, 0])"
            ]
          },
          "execution_count": 884,
          "metadata": {},
          "output_type": "execute_result"
        }
      ],
      "source": [
        "y_train_encoded"
      ]
    },
    {
      "cell_type": "markdown",
      "metadata": {
        "id": "zc6CjI_nczSg"
      },
      "source": [
        "## PRIMER MODELO"
      ]
    },
    {
      "cell_type": "markdown",
      "metadata": {},
      "source": [
        "En este apartado, muestro el modelo que primero realice, obteniendo un score muy por debajo de lo necesario. A partir de este, comencé a tratar de mejorarlo"
      ]
    },
    {
      "cell_type": "code",
      "execution_count": 885,
      "metadata": {
        "id": "jREyZd_LaKpz"
      },
      "outputs": [],
      "source": [
        "def create_model():\n",
        "  model = Sequential([\n",
        "      Dense(128, input_dim=60, activation='relu'),\n",
        "      Dense(64, activation='relu'),\n",
        "      Dense(32, activation='relu'),\n",
        "      Dense(1, activation='sigmoid')\n",
        "    ])\n",
        "  return model"
      ]
    },
    {
      "cell_type": "code",
      "execution_count": 886,
      "metadata": {
        "colab": {
          "base_uri": "https://localhost:8080/"
        },
        "id": "ik_Zu4ugaTdo",
        "outputId": "bf4025d5-340a-4eb2-f288-9c5e23b08401"
      },
      "outputs": [
        {
          "name": "stdout",
          "output_type": "stream",
          "text": [
            "Model: \"sequential_74\"\n",
            "_________________________________________________________________\n",
            " Layer (type)                Output Shape              Param #   \n",
            "=================================================================\n",
            " dense_490 (Dense)           (None, 128)               7808      \n",
            "                                                                 \n",
            " dense_491 (Dense)           (None, 64)                8256      \n",
            "                                                                 \n",
            " dense_492 (Dense)           (None, 32)                2080      \n",
            "                                                                 \n",
            " dense_493 (Dense)           (None, 1)                 33        \n",
            "                                                                 \n",
            "=================================================================\n",
            "Total params: 18177 (71.00 KB)\n",
            "Trainable params: 18177 (71.00 KB)\n",
            "Non-trainable params: 0 (0.00 Byte)\n",
            "_________________________________________________________________\n"
          ]
        }
      ],
      "source": [
        "model = create_model()\n",
        "model.summary()"
      ]
    },
    {
      "cell_type": "code",
      "execution_count": 887,
      "metadata": {
        "id": "jz9PrNn3aev_"
      },
      "outputs": [],
      "source": [
        "model.compile(loss='binary_crossentropy', optimizer='adam',\n",
        "              metrics=['accuracy'])"
      ]
    },
    {
      "cell_type": "code",
      "execution_count": 888,
      "metadata": {
        "colab": {
          "base_uri": "https://localhost:8080/"
        },
        "id": "3rEjE_2nafx2",
        "outputId": "963f1fe2-8149-44f4-80b9-f5fa4aa8f126"
      },
      "outputs": [
        {
          "name": "stdout",
          "output_type": "stream",
          "text": [
            "Epoch 1/10\n",
            "2/2 [==============================] - 2s 174ms/step - loss: 0.7017 - accuracy: 0.4667 - val_loss: 0.6457 - val_accuracy: 0.6667\n",
            "Epoch 2/10\n",
            "2/2 [==============================] - 0s 46ms/step - loss: 0.6334 - accuracy: 0.6606 - val_loss: 0.6940 - val_accuracy: 0.4524\n",
            "Epoch 3/10\n",
            "2/2 [==============================] - 0s 28ms/step - loss: 0.5841 - accuracy: 0.8061 - val_loss: 0.7437 - val_accuracy: 0.3571\n",
            "Epoch 4/10\n",
            "2/2 [==============================] - 0s 27ms/step - loss: 0.5404 - accuracy: 0.8667 - val_loss: 0.7941 - val_accuracy: 0.2619\n",
            "Epoch 5/10\n",
            "2/2 [==============================] - 0s 28ms/step - loss: 0.4988 - accuracy: 0.8909 - val_loss: 0.8480 - val_accuracy: 0.2381\n",
            "Epoch 6/10\n",
            "2/2 [==============================] - 0s 28ms/step - loss: 0.4604 - accuracy: 0.8970 - val_loss: 0.9083 - val_accuracy: 0.2381\n",
            "Epoch 7/10\n",
            "2/2 [==============================] - 0s 28ms/step - loss: 0.4255 - accuracy: 0.9030 - val_loss: 0.9743 - val_accuracy: 0.2381\n",
            "Epoch 8/10\n",
            "2/2 [==============================] - 0s 28ms/step - loss: 0.3923 - accuracy: 0.8970 - val_loss: 1.0473 - val_accuracy: 0.2381\n",
            "Epoch 9/10\n",
            "2/2 [==============================] - 0s 27ms/step - loss: 0.3610 - accuracy: 0.8909 - val_loss: 1.1182 - val_accuracy: 0.2381\n",
            "Epoch 10/10\n",
            "2/2 [==============================] - 0s 28ms/step - loss: 0.3334 - accuracy: 0.8970 - val_loss: 1.2026 - val_accuracy: 0.2381\n"
          ]
        }
      ],
      "source": [
        "history = model.fit(\n",
        "    x_train_scaled.values,\n",
        "    y_train_encoded,\n",
        "    epochs=10,\n",
        "    batch_size=128,\n",
        "    validation_split=0.2\n",
        ")"
      ]
    },
    {
      "cell_type": "code",
      "execution_count": 889,
      "metadata": {
        "colab": {
          "base_uri": "https://localhost:8080/",
          "height": 472
        },
        "id": "uBcjjHYWb9Ga",
        "outputId": "7cf9540d-c6ad-4c7a-b3b3-8add3d2143d6"
      },
      "outputs": [
        {
          "data": {
            "image/png": "[encoded data removed]",
            "text/plain": [
              "<Figure size 640x480 with 1 Axes>"
            ]
          },
          "metadata": {},
          "output_type": "display_data"
        }
      ],
      "source": [
        "# Plot training and validation accuracy\n",
        "plt.plot(history.history['accuracy'])\n",
        "plt.plot(history.history['val_accuracy'])\n",
        "plt.title('Model accuracy')\n",
        "plt.ylabel('Accuracy')\n",
        "plt.xlabel('Epoch')\n",
        "plt.legend(['Train', 'Val'], loc='upper left')\n",
        "plt.ylim(0, 1)\n",
        "plt.show()"
      ]
    },
    {
      "cell_type": "markdown",
      "metadata": {
        "id": "1jweno75c5RY"
      },
      "source": [
        "## ULTIMO MODELO > 0.8 VAL_ACCURACY"
      ]
    },
    {
      "cell_type": "markdown",
      "metadata": {},
      "source": [
        "Las pruebas han sido múltiples, pero por tal de no alargar en exceso e innecesareamente el notebook, muestro únicamente el modelo final"
      ]
    },
    {
      "cell_type": "code",
      "execution_count": 890,
      "metadata": {
        "id": "ZtpZ0AP5dBN7"
      },
      "outputs": [],
      "source": [
        "def create_model():\n",
        "  model = Sequential([\n",
        "      Dense(512, input_dim=60, activation='relu'),\n",
        "      Dense(512, activation='relu'),\n",
        "      Dense(256, activation='relu'),\n",
        "      Dense(128, activation='relu'),\n",
        "      Dense(128, activation='relu'),\n",
        "      Dense(128, activation='relu'),\n",
        "      Dense(64, activation='relu'),\n",
        "      Dense(64, activation='relu'),\n",
        "      Dense(64, activation='relu'),\n",
        "      Dense(32, activation='relu'),\n",
        "      Dense(32, activation='relu'),\n",
        "      Dense(1, activation='sigmoid')\n",
        "    ])\n",
        "  return model"
      ]
    },
    {
      "cell_type": "code",
      "execution_count": 891,
      "metadata": {
        "colab": {
          "base_uri": "https://localhost:8080/"
        },
        "id": "w0r1fCNcdBN7",
        "outputId": "14455e07-d4e6-49a0-d6bb-7a8947cb5e87"
      },
      "outputs": [
        {
          "name": "stdout",
          "output_type": "stream",
          "text": [
            "Model: \"sequential_75\"\n",
            "_________________________________________________________________\n",
            " Layer (type)                Output Shape              Param #   \n",
            "=================================================================\n",
            " dense_494 (Dense)           (None, 512)               31232     \n",
            "                                                                 \n",
            " dense_495 (Dense)           (None, 512)               262656    \n",
            "                                                                 \n",
            " dense_496 (Dense)           (None, 256)               131328    \n",
            "                                                                 \n",
            " dense_497 (Dense)           (None, 128)               32896     \n",
            "                                                                 \n",
            " dense_498 (Dense)           (None, 128)               16512     \n",
            "                                                                 \n",
            " dense_499 (Dense)           (None, 128)               16512     \n",
            "                                                                 \n",
            " dense_500 (Dense)           (None, 64)                8256      \n",
            "                                                                 \n",
            " dense_501 (Dense)           (None, 64)                4160      \n",
            "                                                                 \n",
            " dense_502 (Dense)           (None, 64)                4160      \n",
            "                                                                 \n",
            " dense_503 (Dense)           (None, 32)                2080      \n",
            "                                                                 \n",
            " dense_504 (Dense)           (None, 32)                1056      \n",
            "                                                                 \n",
            " dense_505 (Dense)           (None, 1)                 33        \n",
            "                                                                 \n",
            "=================================================================\n",
            "Total params: 510881 (1.95 MB)\n",
            "Trainable params: 510881 (1.95 MB)\n",
            "Non-trainable params: 0 (0.00 Byte)\n",
            "_________________________________________________________________\n"
          ]
        }
      ],
      "source": [
        "model = create_model()\n",
        "model.summary()"
      ]
    },
    {
      "cell_type": "code",
      "execution_count": 892,
      "metadata": {
        "id": "6II4yKsWdBN7"
      },
      "outputs": [],
      "source": [
        "model.compile(loss='binary_crossentropy', optimizer='adam',\n",
        "              metrics=['accuracy'])"
      ]
    },
    {
      "cell_type": "code",
      "execution_count": 893,
      "metadata": {
        "colab": {
          "base_uri": "https://localhost:8080/"
        },
        "id": "OdmYjYmCdBN7",
        "outputId": "6ac7fdd6-42a1-4110-c78d-775b34c1e02c"
      },
      "outputs": [
        {
          "name": "stdout",
          "output_type": "stream",
          "text": [
            "Epoch 1/12\n",
            "6/6 [==============================] - 3s 51ms/step - loss: 0.6819 - accuracy: 0.6121 - val_loss: 0.7616 - val_accuracy: 0.1905\n",
            "Epoch 2/12\n",
            "6/6 [==============================] - 0s 11ms/step - loss: 0.5647 - accuracy: 0.8000 - val_loss: 0.8516 - val_accuracy: 0.4524\n",
            "Epoch 3/12\n",
            "6/6 [==============================] - 0s 10ms/step - loss: 0.3033 - accuracy: 0.8909 - val_loss: 3.3136 - val_accuracy: 0.1905\n",
            "Epoch 4/12\n",
            "6/6 [==============================] - 0s 11ms/step - loss: 0.3691 - accuracy: 0.8606 - val_loss: 1.3134 - val_accuracy: 0.5238\n",
            "Epoch 5/12\n",
            "6/6 [==============================] - 0s 14ms/step - loss: 0.1380 - accuracy: 0.9394 - val_loss: 0.9123 - val_accuracy: 0.6429\n",
            "Epoch 6/12\n",
            "6/6 [==============================] - 0s 14ms/step - loss: 0.0929 - accuracy: 0.9758 - val_loss: 2.5295 - val_accuracy: 0.4524\n",
            "Epoch 7/12\n",
            "6/6 [==============================] - 0s 13ms/step - loss: 0.0514 - accuracy: 0.9879 - val_loss: 0.4523 - val_accuracy: 0.8333\n",
            "Epoch 8/12\n",
            "6/6 [==============================] - 0s 14ms/step - loss: 0.0630 - accuracy: 0.9758 - val_loss: 2.7379 - val_accuracy: 0.5238\n",
            "Epoch 9/12\n",
            "6/6 [==============================] - 0s 11ms/step - loss: 0.0243 - accuracy: 0.9818 - val_loss: 3.0845 - val_accuracy: 0.5238\n",
            "Epoch 10/12\n",
            "6/6 [==============================] - 0s 14ms/step - loss: 0.0268 - accuracy: 0.9939 - val_loss: 3.9722 - val_accuracy: 0.5238\n",
            "Epoch 11/12\n",
            "6/6 [==============================] - 0s 12ms/step - loss: 0.1517 - accuracy: 0.9515 - val_loss: 2.5831 - val_accuracy: 0.6190\n",
            "Epoch 12/12\n",
            "6/6 [==============================] - 0s 13ms/step - loss: 0.0288 - accuracy: 0.9879 - val_loss: 0.9752 - val_accuracy: 0.8095\n"
          ]
        }
      ],
      "source": [
        "history = model.fit(\n",
        "    x_train_scaled.values,\n",
        "    y_train_encoded,\n",
        "    epochs=12,\n",
        "    batch_size=32,\n",
        "    validation_split=0.2\n",
        ")"
      ]
    },
    {
      "cell_type": "code",
      "execution_count": 894,
      "metadata": {
        "colab": {
          "base_uri": "https://localhost:8080/",
          "height": 472
        },
        "id": "IWmvUx4NdBN7",
        "outputId": "f0790162-dab2-4629-fae9-6d6e5ac27098"
      },
      "outputs": [
        {
          "data": {
            "image/png": "[encoded data removed]",
            "text/plain": [
              "<Figure size 640x480 with 1 Axes>"
            ]
          },
          "metadata": {},
          "output_type": "display_data"
        }
      ],
      "source": [
        "# Plot training and validation accuracy\n",
        "plt.plot(history.history['accuracy'])\n",
        "plt.plot(history.history['val_accuracy'])\n",
        "plt.title('Model accuracy')\n",
        "plt.ylabel('Accuracy')\n",
        "plt.xlabel('Epoch')\n",
        "plt.legend(['Train', 'Val'], loc='upper left')\n",
        "plt.ylim(0, 1)\n",
        "plt.show()"
      ]
    },
    {
      "cell_type": "markdown",
      "metadata": {},
      "source": [
        "Se ha obtenido un accuracy del set de validacion = 0.8095. "
      ]
    },
    {
      "cell_type": "markdown",
      "metadata": {},
      "source": []
    }
  ],
  "metadata": {
    "accelerator": "GPU",
    "colab": {
      "gpuType": "T4",
      "provenance": []
    },
    "kernelspec": {
      "display_name": "Python 3",
      "name": "python3"
    }
  },
  "nbformat": 4,
  "nbformat_minor": 0
}

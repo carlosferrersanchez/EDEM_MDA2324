{
  "cells": [
    {
      "cell_type": "markdown",
      "metadata": {
        "id": "xr0fIzfVX-m2"
      },
      "source": [
        "# ENTREGABLE 5"
      ]
    },
    {
      "cell_type": "markdown",
      "metadata": {
        "id": "XkFBXXIeYBul"
      },
      "source": [
        "## INSTRUCCIONES"
      ]
    },
    {
      "cell_type": "markdown",
      "metadata": {
        "id": "Qy5ok3zYYDsU"
      },
      "source": [
        "Entrenar un perceptrón para que sea capaz de simular el comportamiento de una puerta AND.\n",
        "\n",
        "- Generar 5000 muestras aleatorias de entrenamiento, 500 de validación y 500 de test.\n",
        "\n",
        "\n",
        "*Pistas*\n",
        "\n",
        " * w es un vector que corresponde al valor de los pesos de cada neurona de entrada\n",
        " * b es un valor que corresponde al bias del modelo\n",
        " * El valor de la suma ponderada será el valor resultante de: *(pesos x entradas) + bias*. Para ello utilizar el producto escalar (*np.dot*)\n"
      ]
    },
    {
      "cell_type": "code",
      "execution_count": 2,
      "metadata": {},
      "outputs": [
        {
          "name": "stdout",
          "output_type": "stream",
          "text": [
            "Collecting tqdm\n",
            "  Downloading tqdm-4.66.4-py3-none-any.whl.metadata (57 kB)\n",
            "     ---------------------------------------- 0.0/57.6 kB ? eta -:--:--\n",
            "     ---------------------------------------- 0.0/57.6 kB ? eta -:--:--\n",
            "     ---------------------------------------- 0.0/57.6 kB ? eta -:--:--\n",
            "     ---------------------------------------- 0.0/57.6 kB ? eta -:--:--\n",
            "     -------------- ------------------------- 20.5/57.6 kB ? eta -:--:--\n",
            "     -------------- ------------------------- 20.5/57.6 kB ? eta -:--:--\n",
            "     -------------- ------------------------- 20.5/57.6 kB ? eta -:--:--\n",
            "     --------------------------- ---------- 41.0/57.6 kB 245.8 kB/s eta 0:00:01\n",
            "     --------------------------- ---------- 41.0/57.6 kB 245.8 kB/s eta 0:00:01\n",
            "     --------------------------- ---------- 41.0/57.6 kB 245.8 kB/s eta 0:00:01\n",
            "     --------------------------- ---------- 41.0/57.6 kB 245.8 kB/s eta 0:00:01\n",
            "     --------------------------- ---------- 41.0/57.6 kB 245.8 kB/s eta 0:00:01\n",
            "     -------------------------------------- 57.6/57.6 kB 131.8 kB/s eta 0:00:00\n",
            "Requirement already satisfied: colorama in c:\\users\\usuario\\appdata\\local\\packages\\pythonsoftwarefoundation.python.3.11_qbz5n2kfra8p0\\localcache\\local-packages\\python311\\site-packages (from tqdm) (0.4.6)\n",
            "Downloading tqdm-4.66.4-py3-none-any.whl (78 kB)\n",
            "   ---------------------------------------- 0.0/78.3 kB ? eta -:--:--\n",
            "   ---------------------------------------- 0.0/78.3 kB ? eta -:--:--\n",
            "   --------------- ------------------------ 30.7/78.3 kB 660.6 kB/s eta 0:00:01\n",
            "   ------------------------------------ --- 71.7/78.3 kB 975.2 kB/s eta 0:00:01\n",
            "   ------------------------------------ --- 71.7/78.3 kB 975.2 kB/s eta 0:00:01\n",
            "   ---------------------------------------- 78.3/78.3 kB 482.5 kB/s eta 0:00:00\n",
            "Installing collected packages: tqdm\n",
            "Successfully installed tqdm-4.66.4\n"
          ]
        }
      ],
      "source": [
        "!pip install tqdm"
      ]
    },
    {
      "cell_type": "code",
      "execution_count": 3,
      "metadata": {
        "id": "E94bkgYT0jcE"
      },
      "outputs": [],
      "source": [
        "import numpy as np\n",
        "from tqdm import tqdm\n",
        "import matplotlib.pyplot as plt\n",
        "from sklearn.metrics import confusion_matrix"
      ]
    },
    {
      "cell_type": "code",
      "execution_count": 4,
      "metadata": {
        "id": "7-EvIbuU0hW3"
      },
      "outputs": [],
      "source": [
        "class Perceptron:\n",
        "    def __init__(self, input_size):\n",
        "        # Inicializamos los pesos y el sesgo de manera aleatoria\n",
        "        self.weights = np.random.randn(input_size)\n",
        "        self.bias = np.random.randn()\n",
        "\n",
        "    def sigmoid(self, x):\n",
        "        # Función de activación: sigmoide\n",
        "        return 1 / (1 + np.exp(-x))\n",
        "\n",
        "    def sigmoid_derivative(self, x):\n",
        "        # Derivada de la función sigmoide\n",
        "        return self.sigmoid(x) * (1 - self.sigmoid(x))\n",
        "\n",
        "    def predict(self, inputs):\n",
        "        # Calculamos la suma ponderada de las entradas\n",
        "        weighted_sum = np.dot(inputs, self.weights) + self.bias\n",
        "        # Aplicamos la función de activación y devolvemos la predicción\n",
        "        return self.sigmoid(weighted_sum)\n",
        "\n",
        "    def train(self, X_train, Y_train, X_validation, Y_validation, learning_rate=0.1, epochs=100):\n",
        "\n",
        "        train_error_by_epoch = []\n",
        "        val_error_by_epoch = []\n",
        "\n",
        "        for epoch in range(epochs):\n",
        "            train_error_acum = 0\n",
        "            for i in range(X_train.shape[0]):\n",
        "\n",
        "                inputs = X_train[i]\n",
        "\n",
        "                # Calcular la predicción del perceptrón\n",
        "                prediction = self.predict(inputs)\n",
        "\n",
        "                # Calcular el error\n",
        "                diferencia = Y_train[i] - prediction\n",
        "                error = diferencia ** 2\n",
        "                train_error_acum += error\n",
        "\n",
        "                # Actualizar pesos y sesgo mediante el descenso del gradiente\n",
        "                weighted_sum = np.dot(inputs, self.weights) + self.bias\n",
        "                weights_derivative = -2 * diferencia * self.sigmoid_derivative(prediction) * inputs\n",
        "                bias_derivative = -2 * diferencia * self.sigmoid_derivative(prediction)\n",
        "                self.weights = self.weights - learning_rate * weights_derivative\n",
        "                self.bias = self.bias - learning_rate * bias_derivative\n",
        "\n",
        "            # Calcular el error promedio por epoch\n",
        "            train_error_by_epoch.append(train_error_acum / X_train.shape[0])\n",
        "\n",
        "\n",
        "            val_error_acum = 0\n",
        "            for i in range(X_validation.shape[0]):\n",
        "                inputs = X_validation[i]\n",
        "                prediction = self.predict(inputs)\n",
        "\n",
        "\n",
        "                diferencia = Y_validation[i] - prediction\n",
        "                error = diferencia ** 2\n",
        "                train_error_acum += error # Aquí se acumula el error\n",
        "\n",
        "            # Calcular el error promedio de validación por epoch\n",
        "            val_error_by_epoch.append(val_error_acum / X_validation.shape[0])\n",
        "\n",
        "            # Visualización del progreso\n",
        "            if epoch % 10 == 0:\n",
        "                print('epoch:', epoch, '| train error:', train_error_by_epoch[-1], '| val error:', val_error_by_epoch[-1])\n",
        "        # Visualización del error de entrenamiento por epoch\n",
        "        plt.figure()\n",
        "        plt.plot(range(epochs), train_error_by_epoch, '-b')\n",
        "        plt.xlabel('Epoch')\n",
        "        plt.ylabel('Error cuadrático promedio')\n",
        "        plt.title('Error de Entrenamiento por Epoch')\n",
        "        plt.show()\n",
        "\n",
        "        # Visualización del error de validación por epoch\n",
        "        plt.figure()\n",
        "        plt.plot(range(epochs), val_error_by_epoch, '-b')\n",
        "        plt.xlabel('Epoch')\n",
        "        plt.ylabel('Error cuadrático promedio')\n",
        "        plt.title('Error de Validación por Epoch')\n",
        "        plt.show()\n",
        "\n"
      ]
    },
    {
      "cell_type": "code",
      "execution_count": 5,
      "metadata": {
        "id": "Qv73YJdB2cxR"
      },
      "outputs": [
        {
          "name": "stdout",
          "output_type": "stream",
          "text": [
            "X_data (first 5 samples):\n",
            "[[0 0]\n",
            " [1 0]\n",
            " [0 1]\n",
            " [1 1]\n",
            " [1 0]]\n",
            "Y_data (first 5 samples):\n",
            "[0 0 0 1 0]\n"
          ]
        }
      ],
      "source": [
        "# Datos de entrenamiento y validación para la puerta AND\n",
        "N_samples = 5000\n",
        "N_inputs = 2\n",
        "train_size = 0.8\n",
        "N_train = int(train_size * N_samples)\n",
        "N_validation = N_samples - N_train\n",
        "\n",
        "# Generar datos de entrada y salida para la puerta AND\n",
        "def generar_datos(num_muestras):\n",
        "    # Generar num_muestras pares de entradas (x1, x2) donde cada x es 0 o 1\n",
        "    X = np.random.randint(2, size=(num_muestras, 2))\n",
        "    # Generar la salida y correspondiente usando la operación AND\n",
        "    y = np.logical_and(X[:, 0], X[:, 1]).astype(int)\n",
        "    return X, y\n",
        "\n",
        "# Generar datos de entrenamiento\n",
        "X_data, Y_data = generar_datos(N_samples)\n",
        "X_train, Y_train = X_data[:N_train], Y_data[:N_train]\n",
        "X_validation, Y_validation = X_data[N_train:], Y_data[N_train:]\n",
        "\n",
        "# Visualizar algunas muestras\n",
        "print(\"X_data (first 5 samples):\")\n",
        "print(X_train[:5])\n",
        "\n",
        "print(\"Y_data (first 5 samples):\")\n",
        "print(Y_train[:5])\n"
      ]
    },
    {
      "cell_type": "code",
      "execution_count": 6,
      "metadata": {
        "id": "YZ9O9kZr2e1m"
      },
      "outputs": [],
      "source": [
        "# Crear y entrenar el perceptrón para la puerta AND\n",
        "perceptron_and = Perceptron(input_size=N_inputs)"
      ]
    },
    {
      "cell_type": "code",
      "execution_count": 7,
      "metadata": {
        "id": "OATvOY6rZAA-"
      },
      "outputs": [
        {
          "name": "stdout",
          "output_type": "stream",
          "text": [
            "Input: [0 1]\n",
            "Probabilidad: 0.4955342823954061\n",
            "Prediction: 0\n"
          ]
        }
      ],
      "source": [
        "# Comprobar predicción del modelo sin entrenar\n",
        "index = 4\n",
        "\n",
        "th = 0.5\n",
        "print('Input:', X_validation[index])\n",
        "inputs = X_validation[index]\n",
        "prob = perceptron_and.predict(inputs)\n",
        "print('Probabilidad:', prob)\n",
        "print('Prediction:', (prob>th).astype('int'))"
      ]
    },
    {
      "cell_type": "code",
      "execution_count": 8,
      "metadata": {
        "id": "sNClS_hgZDa_"
      },
      "outputs": [
        {
          "name": "stdout",
          "output_type": "stream",
          "text": [
            "Matriz de Confusión:\n",
            "[[485 253]\n",
            " [262   0]]\n"
          ]
        }
      ],
      "source": [
        "# Obtenemos un overview de como funciona el modelo sin entrenar de forma aleatoria\n",
        "predictions = []\n",
        "\n",
        "## itera por cada muestra de validación y genera la matriz de confusion\n",
        "for inputs in X_validation:\n",
        "    prob = perceptron_and.predict(inputs)\n",
        "    prediction = (prob > th).astype('int')\n",
        "    predictions.append(prediction)\n",
        "    \n",
        "# Calcula la matriz de confusión\n",
        "conf_matrix = confusion_matrix(Y_validation, predictions)\n",
        "\n",
        "# Visualiza la matriz de confusión\n",
        "print(\"Matriz de Confusión:\")\n",
        "print(conf_matrix)"
      ]
    },
    {
      "cell_type": "code",
      "execution_count": 9,
      "metadata": {
        "id": "cyDSfwTx2hLW"
      },
      "outputs": [
        {
          "name": "stdout",
          "output_type": "stream",
          "text": [
            "epoch: 0 | train error: 0.051103394210586475 | val error: 0.0\n",
            "epoch: 10 | train error: 0.00011991252704665897 | val error: 0.0\n",
            "epoch: 20 | train error: 3.14248595112718e-05 | val error: 0.0\n",
            "epoch: 30 | train error: 1.4172354327480018e-05 | val error: 0.0\n",
            "epoch: 40 | train error: 8.027099266719815e-06 | val error: 0.0\n",
            "epoch: 50 | train error: 5.157611649936947e-06 | val error: 0.0\n",
            "epoch: 60 | train error: 3.590695721802159e-06 | val error: 0.0\n",
            "epoch: 70 | train error: 2.642630671856601e-06 | val error: 0.0\n",
            "epoch: 80 | train error: 2.0258035948796342e-06 | val error: 0.0\n",
            "epoch: 90 | train error: 1.6021495535793415e-06 | val error: 0.0\n"
          ]
        },
        {
          "data": {
            "image/png": "[encoded data removed]",
            "text/plain": [
              "<Figure size 640x480 with 1 Axes>"
            ]
          },
          "metadata": {},
          "output_type": "display_data"
        },
        {
          "data": {
            "image/png": "[encoded data removed]",
            "text/plain": [
              "<Figure size 640x480 with 1 Axes>"
            ]
          },
          "metadata": {},
          "output_type": "display_data"
        }
      ],
      "source": [
        "# Entrenar el perceptrón\n",
        "perceptron_and.train(X_train, Y_train, X_validation, Y_validation)"
      ]
    },
    {
      "cell_type": "code",
      "execution_count": 10,
      "metadata": {
        "id": "i7x_ASxyZaue"
      },
      "outputs": [
        {
          "name": "stdout",
          "output_type": "stream",
          "text": [
            "Input: [0 1]\n",
            "Probabilidad: 0.001021536996886459\n",
            "Prediction: 0\n"
          ]
        }
      ],
      "source": [
        "# Comprobar ahora la predicción del modelo entrenado en el set de validacion\n",
        "index = 4\n",
        "\n",
        "th = 0.5\n",
        "print('Input:', X_validation[index])\n",
        "inputs = X_validation[index]\n",
        "prob = perceptron_and.predict(inputs)\n",
        "print('Probabilidad:', prob)\n",
        "print('Prediction:', (prob>th).astype('int'))"
      ]
    },
    {
      "cell_type": "code",
      "execution_count": 12,
      "metadata": {
        "id": "3f1Qjl0GeXqF"
      },
      "outputs": [
        {
          "name": "stdout",
          "output_type": "stream",
          "text": [
            "Matriz de Confusión:\n",
            "[[738   0]\n",
            " [  0 262]]\n"
          ]
        }
      ],
      "source": [
        "# Evaluamos cómo funciona el modelo en el set de validación\n",
        "predictions = []\n",
        "\n",
        "## itera por cada muestra de validación guardando las predicciones en una lista y genera la matriz de confusion\n",
        "for inputs in X_validation:\n",
        "    prob = perceptron_and.predict(inputs)\n",
        "    prediction = (prob > th).astype('int')\n",
        "    predictions.append(prediction)\n",
        "    \n",
        "# Calcula la matriz de confusión\n",
        "conf_matrix = confusion_matrix(Y_validation, predictions)\n",
        "\n",
        "# Visualiza la matriz de confusión\n",
        "print(\"Matriz de Confusión:\")\n",
        "print(conf_matrix)"
      ]
    },
    {
      "cell_type": "code",
      "execution_count": 14,
      "metadata": {
        "id": "1vcJGytH2uqj"
      },
      "outputs": [
        {
          "name": "stdout",
          "output_type": "stream",
          "text": [
            "Matriz de Confusión (test):\n",
            "[[367   0]\n",
            " [  0 133]]\n"
          ]
        }
      ],
      "source": [
        "# Evaluamos cómo funciona el modelo en el set de test\n",
        "\n",
        "## Generar el set de test (de forma similar al de validación)\n",
        "X_test, Y_test = generar_datos(500) \n",
        "\n",
        "## itera por cada muestra de test guardando las predicciones en una lista y genera la matriz de confusion\n",
        "predictions = []\n",
        "\n",
        "for inputs in X_test:\n",
        "    prob = perceptron_and.predict(inputs)\n",
        "    prediction = (prob > th).astype('int')\n",
        "    predictions.append(prediction)\n",
        "\n",
        "## Calcula la matriz de confusión\n",
        "conf_matrix = confusion_matrix(Y_test, predictions)\n",
        "\n",
        "## Visualiza la matriz de confusión\n",
        "print(\"Matriz de Confusión (test):\")\n",
        "print(conf_matrix)"
      ]
    }
  ],
  "metadata": {
    "colab": {
      "provenance": []
    },
    "kernelspec": {
      "display_name": "Python 3",
      "name": "python3"
    },
    "language_info": {
      "codemirror_mode": {
        "name": "ipython",
        "version": 3
      },
      "file_extension": ".py",
      "mimetype": "text/x-python",
      "name": "python",
      "nbconvert_exporter": "python",
      "pygments_lexer": "ipython3",
      "version": "3.11.9"
    }
  },
  "nbformat": 4,
  "nbformat_minor": 0
}

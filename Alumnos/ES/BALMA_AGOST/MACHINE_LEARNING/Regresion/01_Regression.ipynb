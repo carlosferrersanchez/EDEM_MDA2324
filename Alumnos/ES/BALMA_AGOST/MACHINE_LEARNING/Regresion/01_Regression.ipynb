{
  "nbformat": 4,
  "nbformat_minor": 0,
  "metadata": {
    "colab": {
      "provenance": []
    },
    "kernelspec": {
      "name": "python3",
      "display_name": "Python 3"
    },
    "language_info": {
      "name": "python"
    }
  },
  "cells": [
    {
      "cell_type": "markdown",
      "source": [
        "# Problema\n",
        "\n",
        "Predecir el coste del seguro"
      ],
      "metadata": {
        "id": "mYJdsFxinuN5"
      }
    },
    {
      "cell_type": "markdown",
      "source": [
        "# El set de datos\n",
        "\n",
        "* age: age of primary beneficiary\n",
        "\n",
        "* sex: insurance contractor gender, female, male\n",
        "\n",
        "* bmi: Body mass index, providing an understanding of body, weights that are relatively high or low relative to height,\n",
        "objective index of body weight (kg / m ^ 2) using the ratio of height to weight, ideally 18.5 to 24.9\n",
        "\n",
        "* children: Number of children covered by health insurance / Number of dependents\n",
        "\n",
        "* smoker: Smoking\n",
        "\n",
        "* region: the beneficiary's residential area in the US, northeast, southeast, southwest, northwest.\n",
        "\n",
        "* charges: Individual medical costs billed by health insurance\n",
        "\n"
      ],
      "metadata": {
        "id": "kNF4GgV_n34K"
      }
    },
    {
      "cell_type": "code",
      "source": [
        "# imports\n",
        "import pandas as pd\n",
        "from google.colab import drive\n",
        "drive.mount('/gdrive')"
      ],
      "metadata": {
        "colab": {
          "base_uri": "https://localhost:8080/"
        },
        "id": "LDnXEh9vn2GX",
        "outputId": "61d5942d-7b93-40b4-e5aa-c635c3c25d0e"
      },
      "execution_count": 5,
      "outputs": [
        {
          "output_type": "stream",
          "name": "stdout",
          "text": [
            "Drive already mounted at /gdrive; to attempt to forcibly remount, call drive.mount(\"/gdrive\", force_remount=True).\n"
          ]
        }
      ]
    },
    {
      "cell_type": "code",
      "source": [
        "ruta = \"/content/insurance.csv\"\n",
        "data = pd.read_csv(ruta)"
      ],
      "metadata": {
        "id": "uZkDH4HMoERG"
      },
      "execution_count": 6,
      "outputs": []
    },
    {
      "cell_type": "code",
      "source": [
        "print(data.shape)\n",
        "data.head()"
      ],
      "metadata": {
        "colab": {
          "base_uri": "https://localhost:8080/",
          "height": 217
        },
        "id": "U_GfZfIXXaxG",
        "outputId": "c1e92e1c-104f-4faf-9c53-ff806023e410"
      },
      "execution_count": 4,
      "outputs": [
        {
          "output_type": "stream",
          "name": "stdout",
          "text": [
            "(1338, 7)\n"
          ]
        },
        {
          "output_type": "execute_result",
          "data": {
            "text/plain": [
              "   age     sex     bmi  children smoker     region      charges\n",
              "0   19  female  27.900         0    yes  southwest  16884.92400\n",
              "1   18    male  33.770         1     no  southeast   1725.55230\n",
              "2   28    male  33.000         3     no  southeast   4449.46200\n",
              "3   33    male  22.705         0     no  northwest  21984.47061\n",
              "4   32    male  28.880         0     no  northwest   3866.85520"
            ],
            "text/html": [
              "\n",
              "  <div id=\"df-504612d2-ea74-42c4-91af-3b3709dbb7f3\" class=\"colab-df-container\">\n",
              "    <div>\n",
              "<style scoped>\n",
              "    .dataframe tbody tr th:only-of-type {\n",
              "        vertical-align: middle;\n",
              "    }\n",
              "\n",
              "    .dataframe tbody tr th {\n",
              "        vertical-align: top;\n",
              "    }\n",
              "\n",
              "    .dataframe thead th {\n",
              "        text-align: right;\n",
              "    }\n",
              "</style>\n",
              "<table border=\"1\" class=\"dataframe\">\n",
              "  <thead>\n",
              "    <tr style=\"text-align: right;\">\n",
              "      <th></th>\n",
              "      <th>age</th>\n",
              "      <th>sex</th>\n",
              "      <th>bmi</th>\n",
              "      <th>children</th>\n",
              "      <th>smoker</th>\n",
              "      <th>region</th>\n",
              "      <th>charges</th>\n",
              "    </tr>\n",
              "  </thead>\n",
              "  <tbody>\n",
              "    <tr>\n",
              "      <th>0</th>\n",
              "      <td>19</td>\n",
              "      <td>female</td>\n",
              "      <td>27.900</td>\n",
              "      <td>0</td>\n",
              "      <td>yes</td>\n",
              "      <td>southwest</td>\n",
              "      <td>16884.92400</td>\n",
              "    </tr>\n",
              "    <tr>\n",
              "      <th>1</th>\n",
              "      <td>18</td>\n",
              "      <td>male</td>\n",
              "      <td>33.770</td>\n",
              "      <td>1</td>\n",
              "      <td>no</td>\n",
              "      <td>southeast</td>\n",
              "      <td>1725.55230</td>\n",
              "    </tr>\n",
              "    <tr>\n",
              "      <th>2</th>\n",
              "      <td>28</td>\n",
              "      <td>male</td>\n",
              "      <td>33.000</td>\n",
              "      <td>3</td>\n",
              "      <td>no</td>\n",
              "      <td>southeast</td>\n",
              "      <td>4449.46200</td>\n",
              "    </tr>\n",
              "    <tr>\n",
              "      <th>3</th>\n",
              "      <td>33</td>\n",
              "      <td>male</td>\n",
              "      <td>22.705</td>\n",
              "      <td>0</td>\n",
              "      <td>no</td>\n",
              "      <td>northwest</td>\n",
              "      <td>21984.47061</td>\n",
              "    </tr>\n",
              "    <tr>\n",
              "      <th>4</th>\n",
              "      <td>32</td>\n",
              "      <td>male</td>\n",
              "      <td>28.880</td>\n",
              "      <td>0</td>\n",
              "      <td>no</td>\n",
              "      <td>northwest</td>\n",
              "      <td>3866.85520</td>\n",
              "    </tr>\n",
              "  </tbody>\n",
              "</table>\n",
              "</div>\n",
              "    <div class=\"colab-df-buttons\">\n",
              "\n",
              "  <div class=\"colab-df-container\">\n",
              "    <button class=\"colab-df-convert\" onclick=\"convertToInteractive('df-504612d2-ea74-42c4-91af-3b3709dbb7f3')\"\n",
              "            title=\"Convert this dataframe to an interactive table.\"\n",
              "            style=\"display:none;\">\n",
              "\n",
              "  <svg xmlns=\"http://www.w3.org/2000/svg\" height=\"24px\" viewBox=\"0 -960 960 960\">\n",
              "    <path d=\"M120-120v-720h720v720H120Zm60-500h600v-160H180v160Zm220 220h160v-160H400v160Zm0 220h160v-160H400v160ZM180-400h160v-160H180v160Zm440 0h160v-160H620v160ZM180-180h160v-160H180v160Zm440 0h160v-160H620v160Z\"/>\n",
              "  </svg>\n",
              "    </button>\n",
              "\n",
              "  <style>\n",
              "    .colab-df-container {\n",
              "      display:flex;\n",
              "      gap: 12px;\n",
              "    }\n",
              "\n",
              "    .colab-df-convert {\n",
              "      background-color: #E8F0FE;\n",
              "      border: none;\n",
              "      border-radius: 50%;\n",
              "      cursor: pointer;\n",
              "      display: none;\n",
              "      fill: #1967D2;\n",
              "      height: 32px;\n",
              "      padding: 0 0 0 0;\n",
              "      width: 32px;\n",
              "    }\n",
              "\n",
              "    .colab-df-convert:hover {\n",
              "      background-color: #E2EBFA;\n",
              "      box-shadow: 0px 1px 2px rgba(60, 64, 67, 0.3), 0px 1px 3px 1px rgba(60, 64, 67, 0.15);\n",
              "      fill: #174EA6;\n",
              "    }\n",
              "\n",
              "    .colab-df-buttons div {\n",
              "      margin-bottom: 4px;\n",
              "    }\n",
              "\n",
              "    [theme=dark] .colab-df-convert {\n",
              "      background-color: #3B4455;\n",
              "      fill: #D2E3FC;\n",
              "    }\n",
              "\n",
              "    [theme=dark] .colab-df-convert:hover {\n",
              "      background-color: #434B5C;\n",
              "      box-shadow: 0px 1px 3px 1px rgba(0, 0, 0, 0.15);\n",
              "      filter: drop-shadow(0px 1px 2px rgba(0, 0, 0, 0.3));\n",
              "      fill: #FFFFFF;\n",
              "    }\n",
              "  </style>\n",
              "\n",
              "    <script>\n",
              "      const buttonEl =\n",
              "        document.querySelector('#df-504612d2-ea74-42c4-91af-3b3709dbb7f3 button.colab-df-convert');\n",
              "      buttonEl.style.display =\n",
              "        google.colab.kernel.accessAllowed ? 'block' : 'none';\n",
              "\n",
              "      async function convertToInteractive(key) {\n",
              "        const element = document.querySelector('#df-504612d2-ea74-42c4-91af-3b3709dbb7f3');\n",
              "        const dataTable =\n",
              "          await google.colab.kernel.invokeFunction('convertToInteractive',\n",
              "                                                    [key], {});\n",
              "        if (!dataTable) return;\n",
              "\n",
              "        const docLinkHtml = 'Like what you see? Visit the ' +\n",
              "          '<a target=\"_blank\" href=https://colab.research.google.com/notebooks/data_table.ipynb>data table notebook</a>'\n",
              "          + ' to learn more about interactive tables.';\n",
              "        element.innerHTML = '';\n",
              "        dataTable['output_type'] = 'display_data';\n",
              "        await google.colab.output.renderOutput(dataTable, element);\n",
              "        const docLink = document.createElement('div');\n",
              "        docLink.innerHTML = docLinkHtml;\n",
              "        element.appendChild(docLink);\n",
              "      }\n",
              "    </script>\n",
              "  </div>\n",
              "\n",
              "\n",
              "<div id=\"df-dc3de614-9c18-44ee-9421-ef7a9c5ac590\">\n",
              "  <button class=\"colab-df-quickchart\" onclick=\"quickchart('df-dc3de614-9c18-44ee-9421-ef7a9c5ac590')\"\n",
              "            title=\"Suggest charts\"\n",
              "            style=\"display:none;\">\n",
              "\n",
              "<svg xmlns=\"http://www.w3.org/2000/svg\" height=\"24px\"viewBox=\"0 0 24 24\"\n",
              "     width=\"24px\">\n",
              "    <g>\n",
              "        <path d=\"M19 3H5c-1.1 0-2 .9-2 2v14c0 1.1.9 2 2 2h14c1.1 0 2-.9 2-2V5c0-1.1-.9-2-2-2zM9 17H7v-7h2v7zm4 0h-2V7h2v10zm4 0h-2v-4h2v4z\"/>\n",
              "    </g>\n",
              "</svg>\n",
              "  </button>\n",
              "\n",
              "<style>\n",
              "  .colab-df-quickchart {\n",
              "      --bg-color: #E8F0FE;\n",
              "      --fill-color: #1967D2;\n",
              "      --hover-bg-color: #E2EBFA;\n",
              "      --hover-fill-color: #174EA6;\n",
              "      --disabled-fill-color: #AAA;\n",
              "      --disabled-bg-color: #DDD;\n",
              "  }\n",
              "\n",
              "  [theme=dark] .colab-df-quickchart {\n",
              "      --bg-color: #3B4455;\n",
              "      --fill-color: #D2E3FC;\n",
              "      --hover-bg-color: #434B5C;\n",
              "      --hover-fill-color: #FFFFFF;\n",
              "      --disabled-bg-color: #3B4455;\n",
              "      --disabled-fill-color: #666;\n",
              "  }\n",
              "\n",
              "  .colab-df-quickchart {\n",
              "    background-color: var(--bg-color);\n",
              "    border: none;\n",
              "    border-radius: 50%;\n",
              "    cursor: pointer;\n",
              "    display: none;\n",
              "    fill: var(--fill-color);\n",
              "    height: 32px;\n",
              "    padding: 0;\n",
              "    width: 32px;\n",
              "  }\n",
              "\n",
              "  .colab-df-quickchart:hover {\n",
              "    background-color: var(--hover-bg-color);\n",
              "    box-shadow: 0 1px 2px rgba(60, 64, 67, 0.3), 0 1px 3px 1px rgba(60, 64, 67, 0.15);\n",
              "    fill: var(--button-hover-fill-color);\n",
              "  }\n",
              "\n",
              "  .colab-df-quickchart-complete:disabled,\n",
              "  .colab-df-quickchart-complete:disabled:hover {\n",
              "    background-color: var(--disabled-bg-color);\n",
              "    fill: var(--disabled-fill-color);\n",
              "    box-shadow: none;\n",
              "  }\n",
              "\n",
              "  .colab-df-spinner {\n",
              "    border: 2px solid var(--fill-color);\n",
              "    border-color: transparent;\n",
              "    border-bottom-color: var(--fill-color);\n",
              "    animation:\n",
              "      spin 1s steps(1) infinite;\n",
              "  }\n",
              "\n",
              "  @keyframes spin {\n",
              "    0% {\n",
              "      border-color: transparent;\n",
              "      border-bottom-color: var(--fill-color);\n",
              "      border-left-color: var(--fill-color);\n",
              "    }\n",
              "    20% {\n",
              "      border-color: transparent;\n",
              "      border-left-color: var(--fill-color);\n",
              "      border-top-color: var(--fill-color);\n",
              "    }\n",
              "    30% {\n",
              "      border-color: transparent;\n",
              "      border-left-color: var(--fill-color);\n",
              "      border-top-color: var(--fill-color);\n",
              "      border-right-color: var(--fill-color);\n",
              "    }\n",
              "    40% {\n",
              "      border-color: transparent;\n",
              "      border-right-color: var(--fill-color);\n",
              "      border-top-color: var(--fill-color);\n",
              "    }\n",
              "    60% {\n",
              "      border-color: transparent;\n",
              "      border-right-color: var(--fill-color);\n",
              "    }\n",
              "    80% {\n",
              "      border-color: transparent;\n",
              "      border-right-color: var(--fill-color);\n",
              "      border-bottom-color: var(--fill-color);\n",
              "    }\n",
              "    90% {\n",
              "      border-color: transparent;\n",
              "      border-bottom-color: var(--fill-color);\n",
              "    }\n",
              "  }\n",
              "</style>\n",
              "\n",
              "  <script>\n",
              "    async function quickchart(key) {\n",
              "      const quickchartButtonEl =\n",
              "        document.querySelector('#' + key + ' button');\n",
              "      quickchartButtonEl.disabled = true;  // To prevent multiple clicks.\n",
              "      quickchartButtonEl.classList.add('colab-df-spinner');\n",
              "      try {\n",
              "        const charts = await google.colab.kernel.invokeFunction(\n",
              "            'suggestCharts', [key], {});\n",
              "      } catch (error) {\n",
              "        console.error('Error during call to suggestCharts:', error);\n",
              "      }\n",
              "      quickchartButtonEl.classList.remove('colab-df-spinner');\n",
              "      quickchartButtonEl.classList.add('colab-df-quickchart-complete');\n",
              "    }\n",
              "    (() => {\n",
              "      let quickchartButtonEl =\n",
              "        document.querySelector('#df-dc3de614-9c18-44ee-9421-ef7a9c5ac590 button');\n",
              "      quickchartButtonEl.style.display =\n",
              "        google.colab.kernel.accessAllowed ? 'block' : 'none';\n",
              "    })();\n",
              "  </script>\n",
              "</div>\n",
              "    </div>\n",
              "  </div>\n"
            ],
            "application/vnd.google.colaboratory.intrinsic+json": {
              "type": "dataframe",
              "variable_name": "data",
              "summary": "{\n  \"name\": \"data\",\n  \"rows\": 1338,\n  \"fields\": [\n    {\n      \"column\": \"age\",\n      \"properties\": {\n        \"dtype\": \"number\",\n        \"std\": 14,\n        \"min\": 18,\n        \"max\": 64,\n        \"num_unique_values\": 47,\n        \"samples\": [\n          21,\n          45,\n          36\n        ],\n        \"semantic_type\": \"\",\n        \"description\": \"\"\n      }\n    },\n    {\n      \"column\": \"sex\",\n      \"properties\": {\n        \"dtype\": \"category\",\n        \"num_unique_values\": 2,\n        \"samples\": [\n          \"male\",\n          \"female\"\n        ],\n        \"semantic_type\": \"\",\n        \"description\": \"\"\n      }\n    },\n    {\n      \"column\": \"bmi\",\n      \"properties\": {\n        \"dtype\": \"number\",\n        \"std\": 6.098186911679014,\n        \"min\": 15.96,\n        \"max\": 53.13,\n        \"num_unique_values\": 548,\n        \"samples\": [\n          23.18,\n          26.885\n        ],\n        \"semantic_type\": \"\",\n        \"description\": \"\"\n      }\n    },\n    {\n      \"column\": \"children\",\n      \"properties\": {\n        \"dtype\": \"number\",\n        \"std\": 1,\n        \"min\": 0,\n        \"max\": 5,\n        \"num_unique_values\": 6,\n        \"samples\": [\n          0,\n          1\n        ],\n        \"semantic_type\": \"\",\n        \"description\": \"\"\n      }\n    },\n    {\n      \"column\": \"smoker\",\n      \"properties\": {\n        \"dtype\": \"category\",\n        \"num_unique_values\": 2,\n        \"samples\": [\n          \"no\",\n          \"yes\"\n        ],\n        \"semantic_type\": \"\",\n        \"description\": \"\"\n      }\n    },\n    {\n      \"column\": \"region\",\n      \"properties\": {\n        \"dtype\": \"category\",\n        \"num_unique_values\": 4,\n        \"samples\": [\n          \"southeast\",\n          \"northeast\"\n        ],\n        \"semantic_type\": \"\",\n        \"description\": \"\"\n      }\n    },\n    {\n      \"column\": \"charges\",\n      \"properties\": {\n        \"dtype\": \"number\",\n        \"std\": 12110.011236694001,\n        \"min\": 1121.8739,\n        \"max\": 63770.42801,\n        \"num_unique_values\": 1337,\n        \"samples\": [\n          8688.85885,\n          5708.867\n        ],\n        \"semantic_type\": \"\",\n        \"description\": \"\"\n      }\n    }\n  ]\n}"
            }
          },
          "metadata": {},
          "execution_count": 4
        }
      ]
    },
    {
      "cell_type": "markdown",
      "source": [
        "# Objetivo\n",
        "\n",
        "Generar un model de regresión capaz de predecir el valor del seguro en base a las características del cliente.\n",
        "\n",
        "* Aplicar las técnicas oportunas de procesamiento de datos\n",
        "\n",
        "* Valorar diferentes modelos de regresión\n",
        "\n",
        "* Comparación entre modelos\n",
        "\n",
        "* Ensemble\n",
        "\n",
        "* Métricas\n",
        "\n",
        "* Conclusiones finales"
      ],
      "metadata": {
        "id": "suOncPeIo2Ln"
      }
    },
    {
      "cell_type": "markdown",
      "source": [
        "## Implementación"
      ],
      "metadata": {
        "id": "Ee-3csHRJxqW"
      }
    },
    {
      "cell_type": "code",
      "source": [
        "## LIMPIEZA DE DATOS\n",
        "\n",
        "import pandas as pd\n",
        "\n",
        "# Lee el archivo CSV\n",
        "df = pd.read_csv('/content/insurance.csv')\n",
        "\n",
        "# Encuentra las celdas vacías en el DataFrame\n",
        "celdas_vacias = df.isnull().values.any()\n",
        "\n",
        "if celdas_vacias:\n",
        "    print(\"Se encontraron celdas vacías en el archivo CSV.\")\n",
        "else:\n",
        "    print(\"No se encontraron celdas vacías en el archivo CSV.\")\n",
        "\n",
        "# Encuentra filas duplicadas en el DataFrame\n",
        "filas_duplicadas = df[df.duplicated()]\n",
        "\n",
        "if not filas_duplicadas.empty:\n",
        "    print(\"Se encontraron filas duplicadas en el archivo CSV:\")\n",
        "    print(filas_duplicadas)\n",
        "else:\n",
        "    print(\"No se encontraron filas duplicadas en el archivo CSV.\")\n",
        "\n",
        "df_sin_duplicados = df.drop_duplicates()\n",
        "\n",
        "# Guarda el DataFrame resultante en un nuevo archivo CSV si deseas\n",
        "df_sin_duplicados.to_csv('archivo_sin_duplicados.csv', index=False)\n",
        "\n",
        "# Imprime un mensaje indicando cuántas filas se eliminaron, si es necesario\n",
        "filas_eliminadas = len(df) - len(df_sin_duplicados)\n",
        "if filas_eliminadas > 0:\n",
        "    print(f\"Se eliminaron {filas_eliminadas} filas duplicadas.\")\n",
        "else:\n",
        "    print(\"No se encontraron filas duplicadas en el archivo CSV.\")\n"
      ],
      "metadata": {
        "id": "oGEq8EGTpp7g",
        "colab": {
          "base_uri": "https://localhost:8080/"
        },
        "outputId": "da18c070-3ad3-4b5a-ec5e-72da48145c19"
      },
      "execution_count": 7,
      "outputs": [
        {
          "output_type": "stream",
          "name": "stdout",
          "text": [
            "No se encontraron celdas vacías en el archivo CSV.\n",
            "Se encontraron filas duplicadas en el archivo CSV:\n",
            "     age   sex    bmi  children smoker     region    charges\n",
            "581   19  male  30.59         0     no  northwest  1639.5631\n",
            "Se eliminaron 1 filas duplicadas.\n"
          ]
        }
      ]
    },
    {
      "cell_type": "code",
      "source": [
        "## NORMALIZACIÓN\n",
        "\n",
        "import pandas as pd\n",
        "from sklearn.preprocessing import MinMaxScaler\n",
        "\n",
        "# Cargar datos desde el archivo CSV\n",
        "df = pd.read_csv('/content/archivo_sin_duplicados.csv')\n",
        "\n",
        "# Inicializar el objeto MinMaxScaler\n",
        "scaler = MinMaxScaler()\n",
        "\n",
        "# Normalizar las variables numéricas (age y bmi)\n",
        "df[['age', 'bmi']] = scaler.fit_transform(df[['age', 'bmi']])\n",
        "\n",
        "# Opcional: Guardar el DataFrame con la columna bmi normalizada en un nuevo archivo CSV\n",
        "df.to_csv('datos_con_bmi_y_age_normalizado.csv', index=False)\n",
        "\n",
        "print(df.head())\n"
      ],
      "metadata": {
        "colab": {
          "base_uri": "https://localhost:8080/"
        },
        "id": "jL6m4x2sgp0-",
        "outputId": "e27c97ed-5aa8-4185-c8e4-ef225e104d4f"
      },
      "execution_count": 8,
      "outputs": [
        {
          "output_type": "stream",
          "name": "stdout",
          "text": [
            "        age     sex       bmi  children smoker     region      charges\n",
            "0  0.021739  female  0.321227         0    yes  southwest  16884.92400\n",
            "1  0.000000    male  0.479150         1     no  southeast   1725.55230\n",
            "2  0.217391    male  0.458434         3     no  southeast   4449.46200\n",
            "3  0.326087    male  0.181464         0     no  northwest  21984.47061\n",
            "4  0.304348    male  0.347592         0     no  northwest   3866.85520\n"
          ]
        }
      ]
    },
    {
      "cell_type": "code",
      "source": [
        "df['region'] = df['region'].map({'northeast': 0, 'northwest': 1, 'southeast': 2, 'southwest': 3})\n",
        "df['sex'] = df['sex'].map({'female': 0, 'male': 1})\n",
        "df['smoker'] = df['smoker'].map({'yes': 0, 'no': 1})\n",
        "\n",
        "print(df.head())\n"
      ],
      "metadata": {
        "colab": {
          "base_uri": "https://localhost:8080/"
        },
        "id": "rOpg1rqEsmY7",
        "outputId": "4f0d1420-eb0c-43a1-e117-b8da8c6ef5bc"
      },
      "execution_count": 9,
      "outputs": [
        {
          "output_type": "stream",
          "name": "stdout",
          "text": [
            "        age  sex       bmi  children  smoker  region      charges\n",
            "0  0.021739    0  0.321227         0       0       3  16884.92400\n",
            "1  0.000000    1  0.479150         1       1       2   1725.55230\n",
            "2  0.217391    1  0.458434         3       1       2   4449.46200\n",
            "3  0.326087    1  0.181464         0       1       1  21984.47061\n",
            "4  0.304348    1  0.347592         0       1       1   3866.85520\n"
          ]
        }
      ]
    },
    {
      "cell_type": "code",
      "source": [
        "from sklearn.model_selection import train_test_split\n",
        "\n",
        "# Separar las características (X) de la variable objetivo (y)\n",
        "X = df.drop('charges', axis=1)\n",
        "y = df['charges']\n",
        "\n",
        "# Dividir los datos en conjuntos de entrenamiento y prueba\n",
        "X_train, X_test, y_train, y_test = train_test_split(X, y, test_size=0.2, random_state=42)\n",
        "\n",
        "# Imprimir las dimensiones de los conjuntos de entrenamiento y prueba\n",
        "print(\"Dimensiones del conjunto de entrenamiento:\")\n",
        "print(\"X_train:\", X_train.shape)\n",
        "print(\"y_train:\", y_train.shape)\n",
        "print(\"\\nDimensiones del conjunto de prueba:\")\n",
        "print(\"X_test:\", X_test.shape)\n",
        "print(\"y_test:\", y_test.shape)"
      ],
      "metadata": {
        "colab": {
          "base_uri": "https://localhost:8080/"
        },
        "id": "PtDMs0GTjbrC",
        "outputId": "ad26d5a6-bce1-4263-eba1-d2e7b54aeb2c"
      },
      "execution_count": 10,
      "outputs": [
        {
          "output_type": "stream",
          "name": "stdout",
          "text": [
            "Dimensiones del conjunto de entrenamiento:\n",
            "X_train: (1069, 6)\n",
            "y_train: (1069,)\n",
            "\n",
            "Dimensiones del conjunto de prueba:\n",
            "X_test: (268, 6)\n",
            "y_test: (268,)\n"
          ]
        }
      ]
    },
    {
      "cell_type": "code",
      "source": [
        "from sklearn.linear_model import LinearRegression\n",
        "from sklearn.metrics import mean_squared_error, r2_score\n",
        "\n",
        "\n",
        "## MODELO DE REGRESIÓN LINEAL\n",
        "\n",
        "# Codificar variables categóricas utilizando one-hot encoding\n",
        "X_train_encoded = pd.get_dummies(X_train)\n",
        "X_test_encoded = pd.get_dummies(X_test)\n",
        "\n",
        "# Inicializar el modelo de regresión lineal\n",
        "model = LinearRegression()\n",
        "\n",
        "# Entrenar el modelo con los datos de entrenamiento codificados\n",
        "model.fit(X_train_encoded, y_train)\n",
        "\n",
        "# Predecir los valores del conjunto de entrenamiento y prueba\n",
        "y_train_pred = model.predict(X_train_encoded)\n",
        "y_test_pred = model.predict(X_test_encoded)\n",
        "\n",
        "# Calcular las métricas de evaluación\n",
        "train_mse = mean_squared_error(y_train, y_train_pred)\n",
        "test_mse = mean_squared_error(y_test, y_test_pred)\n",
        "train_r2 = r2_score(y_train, y_train_pred)\n",
        "test_r2 = r2_score(y_test, y_test_pred)\n",
        "\n",
        "# Imprimir las métricas de evaluación\n",
        "print(\"Métricas de evaluación del modelo de regresión lineal:\")\n",
        "print(\"Conjunto de entrenamiento:\")\n",
        "print(\"  MSE:\", train_mse)\n",
        "print(\"  R^2:\", train_r2)\n",
        "print(\"Conjunto de prueba:\")\n",
        "print(\"  MSE:\", test_mse)\n",
        "print(\"  R^2:\", test_r2)\n"
      ],
      "metadata": {
        "colab": {
          "base_uri": "https://localhost:8080/"
        },
        "id": "_BYUSFWdlZ-G",
        "outputId": "32cdb8f0-0d5e-4813-b20b-d6bbe5bb225a"
      },
      "execution_count": 14,
      "outputs": [
        {
          "output_type": "stream",
          "name": "stdout",
          "text": [
            "Métricas de evaluación del modelo de regresión lineal:\n",
            "Conjunto de entrenamiento:\n",
            "  MSE: 37005531.72811555\n",
            "  R^2: 0.7297182858804965\n",
            "Conjunto de prueba:\n",
            "  MSE: 35493102.61165049\n",
            "  R^2: 0.8068466322629113\n"
          ]
        }
      ]
    },
    {
      "cell_type": "markdown",
      "source": [
        "**- Conjunto de entrenamiento:**\n",
        "*MSE (Error Cuadrático Medio):* 37,005,531.73\n",
        "Esto significa que, en promedio, las predicciones del modelo tienen un error cuadrático de aproximadamente 37,005,531.73 unidades al cuadrado respecto a los valores reales en el conjunto de entrenamiento.\n",
        "Un MSE más bajo indica un mejor ajuste del modelo a los datos.\n",
        "*R^2 (Coeficiente de Determinación):* 0.73\n",
        "Esto significa que aproximadamente el 73% de la variabilidad en la variable dependiente puede ser explicada por el modelo de regresión lineal en el conjunto de entrenamiento.\n",
        "Un valor de R^2 más cercano a 1 indica un mejor ajuste del modelo a los datos.\n",
        "\n",
        "**- Conjunto de prueba:**\n",
        "*MSE (Error Cuadrático Medio):* 35,493,102.61\n",
        "Similar al conjunto de entrenamiento, pero aplicado al conjunto de prueba. El MSE aquí es ligeramente menor que en el conjunto de entrenamiento, lo cual es positivo.\n",
        "*R^2 (Coeficiente de Determinación):* 0.81\n",
        "Esto significa que aproximadamente el 81% de la variabilidad en la variable dependiente puede ser explicada por el modelo de regresión lineal en el conjunto de prueba.\n",
        "\n",
        "El valor de R^2 en el conjunto de prueba es más alto que en el conjunto de entrenamiento, lo cual sugiere que el modelo generaliza bien a datos nuevos y no está sobreajustando demasiado los datos de entrenamiento.\n",
        "En resumen, tus resultados muestran que el modelo de regresión lineal parece estar capturando una cantidad significativa de la variabilidad en los datos y generalizando bien a nuevos datos en el conjunto de prueba.\n"
      ],
      "metadata": {
        "id": "d3pkHBWalsO4"
      }
    },
    {
      "cell_type": "code",
      "source": [
        "## VALIDACIÓN CRUZADA\n",
        "\n",
        "from sklearn.model_selection import cross_val_score\n",
        "\n",
        "# Inicializar un nuevo modelo de regresión lineal\n",
        "model = LinearRegression()\n",
        "\n",
        "# Realizar validación cruzada con 5 folds\n",
        "cv_scores = cross_val_score(model, X_train_encoded, y_train, cv=5, scoring='neg_mean_squared_error')\n",
        "\n",
        "# Convertir los scores a MSE positivos\n",
        "cv_scores = -cv_scores\n",
        "\n",
        "# Calcular el promedio y la desviación estándar de los scores\n",
        "cv_mse_mean = cv_scores.mean()\n",
        "cv_mse_std = cv_scores.std()\n",
        "\n",
        "# Imprimir los resultados de la validación cruzada\n",
        "print(\"Resultados de validación cruzada del modelo de regresión lineal:\")\n",
        "print(\"  MSE promedio:\", cv_mse_mean)\n",
        "print(\"  Desviación estándar del MSE:\", cv_mse_std)\n"
      ],
      "metadata": {
        "colab": {
          "base_uri": "https://localhost:8080/"
        },
        "id": "01z3FKrzmSPm",
        "outputId": "158dd399-fa70-427f-c6db-c64b5d01b17e"
      },
      "execution_count": 15,
      "outputs": [
        {
          "output_type": "stream",
          "name": "stdout",
          "text": [
            "Resultados de validación cruzada del modelo de regresión lineal:\n",
            "  MSE promedio: 37523328.96701016\n",
            "  Desviación estándar del MSE: 4919524.258794246\n"
          ]
        }
      ]
    },
    {
      "cell_type": "markdown",
      "source": [
        " Estos resultados sugieren que el modelo tiene un rendimiento consistente en la predicción de nuevos datos, pero puede haber cierta variabilidad en su rendimiento en diferentes conjuntos de datos de validación cruzada."
      ],
      "metadata": {
        "id": "PK9tSZn0xTSQ"
      }
    },
    {
      "cell_type": "code",
      "source": [
        "## ÁRBOL DE DECISÓN\n",
        "\n",
        "from sklearn.tree import DecisionTreeRegressor\n",
        "\n",
        "# Inicializar el modelo de Árbol de Decisión para regresión\n",
        "dt_model = DecisionTreeRegressor()\n",
        "\n",
        "# Entrenar el modelo con los datos de entrenamiento codificados\n",
        "dt_model.fit(X_train_encoded, y_train)\n",
        "\n",
        "# Predecir los valores del conjunto de entrenamiento y prueba\n",
        "y_train_pred_dt = dt_model.predict(X_train_encoded)\n",
        "y_test_pred_dt = dt_model.predict(X_test_encoded)\n",
        "\n",
        "# Calcular las métricas de evaluación\n",
        "train_mse_dt = mean_squared_error(y_train, y_train_pred_dt)\n",
        "test_mse_dt = mean_squared_error(y_test, y_test_pred_dt)\n",
        "train_r2_dt = r2_score(y_train, y_train_pred_dt)\n",
        "test_r2_dt = r2_score(y_test, y_test_pred_dt)\n",
        "\n",
        "# Imprimir las métricas de evaluación\n",
        "print(\"Métricas de evaluación del modelo de Árbol de Decisión para regresión:\")\n",
        "print(\"Conjunto de entrenamiento:\")\n",
        "print(\"  MSE:\", train_mse_dt)\n",
        "print(\"  R^2:\", train_r2_dt)\n",
        "print(\"Conjunto de prueba:\")\n",
        "print(\"  MSE:\", test_mse_dt)\n",
        "print(\"  R^2:\", test_r2_dt)\n"
      ],
      "metadata": {
        "colab": {
          "base_uri": "https://localhost:8080/"
        },
        "id": "mx9I5tIyqBgw",
        "outputId": "9e62793c-541f-4710-f8d1-fc068573ca72"
      },
      "execution_count": 16,
      "outputs": [
        {
          "output_type": "stream",
          "name": "stdout",
          "text": [
            "Métricas de evaluación del modelo de Árbol de Decisión para regresión:\n",
            "Conjunto de entrenamiento:\n",
            "  MSE: 0.0\n",
            "  R^2: 1.0\n",
            "Conjunto de prueba:\n",
            "  MSE: 43586100.709388606\n",
            "  R^2: 0.762804558658592\n"
          ]
        }
      ]
    },
    {
      "cell_type": "markdown",
      "source": [
        "**Error Cuadrático Medio (MSE):**\n",
        "Para el conjunto de entrenamiento: MSE = 0.0\n",
        "Para el conjunto de prueba: MSE = 42,918,508.42\n",
        "El MSE es una medida de la calidad del ajuste del modelo a los datos. En el conjunto de entrenamiento, un MSE de 0.0 sugiere que el modelo se ajusta perfectamente a los datos de entrenamiento, lo cual puede ser una señal de overfitting. En el conjunto de prueba, el MSE es bastante alto, lo que indica que el modelo tiene dificultades para generalizar a datos no vistos.\n",
        "**Coeficiente de Determinación (R^2):**\n",
        "Para el conjunto de entrenamiento: R^2 = 1.0\n",
        "Para el conjunto de prueba: R^2 = 0.7664375940740764\n",
        "El coeficiente de determinación, o R^2, es una medida que indica qué tan bien se ajustan los valores observados a los valores predichos por el modelo. Un valor de R^2 igual a 1.0 en el conjunto de entrenamiento indica un ajuste perfecto del modelo a estos datos. Sin embargo, un R^2 de 0.77 en el conjunto de prueba sugiere que el modelo explica aproximadamente el 77% de la variabilidad en los datos de prueba.\n",
        "\n",
        "En resumen, los resultados indican que el modelo de Árbol de Decisión se ajusta perfectamente a los datos de entrenamiento, pero tiene dificultades para generalizar a datos nuevos, como se observa en el conjunto de prueba. Esto sugiere un posible problema de overfitting, donde el modelo se adapta demasiado a los detalles específicos de los datos de entrenamiento y no logra capturar la verdadera relación subyacente entre las variables. Es posible que se necesiten técnicas de regularización o ajustes en los hiperparámetros del modelo para mejorar su capacidad de generalización."
      ],
      "metadata": {
        "id": "5Z51D2borI6I"
      }
    },
    {
      "cell_type": "code",
      "source": [
        "## VALIDACIÓN CRUZADA\n",
        "\n",
        "from sklearn.model_selection import cross_val_score\n",
        "from sklearn.tree import DecisionTreeRegressor\n",
        "\n",
        "# Inicializar un nuevo modelo de Árbol de Decisión para regresión\n",
        "tree_model = DecisionTreeRegressor()\n",
        "\n",
        "# Realizar validación cruzada con 5 folds\n",
        "cv_scores = cross_val_score(tree_model, X_train_encoded, y_train, cv=5, scoring='neg_mean_squared_error')\n",
        "\n",
        "# Convertir los scores a MSE positivos\n",
        "cv_scores = -cv_scores\n",
        "\n",
        "# Calcular el promedio y la desviación estándar de los scores\n",
        "cv_mse_mean = cv_scores.mean()\n",
        "cv_mse_std = cv_scores.std()\n",
        "\n",
        "# Imprimir los resultados de la validación cruzada\n",
        "print(\"Resultados de validación cruzada del modelo de Árbol de Decisión para regresión:\")\n",
        "print(\"  MSE promedio:\", cv_mse_mean)\n",
        "print(\"  Desviación estándar del MSE:\", cv_mse_std)\n"
      ],
      "metadata": {
        "colab": {
          "base_uri": "https://localhost:8080/"
        },
        "id": "fiBYP1o-sPVq",
        "outputId": "05effb49-72d6-4e8d-f5b8-549a5ba80f16"
      },
      "execution_count": 17,
      "outputs": [
        {
          "output_type": "stream",
          "name": "stdout",
          "text": [
            "Resultados de validación cruzada del modelo de Árbol de Decisión para regresión:\n",
            "  MSE promedio: 45134024.9410813\n",
            "  Desviación estándar del MSE: 6870429.911294806\n"
          ]
        }
      ]
    },
    {
      "cell_type": "markdown",
      "source": [
        "El modelo de Árbol de Decisión para regresión tiene un MSE promedio de aproximadamente 46,631,328.45 con una desviación estándar de aproximadamente 6,863,005.71. Estos resultados sugieren que el modelo tiene un rendimiento consistente en la predicción de nuevos datos, pero puede haber cierta variabilidad en su rendimiento en diferentes conjuntos de datos de validación cruzada."
      ],
      "metadata": {
        "id": "-H-QSE46yCXd"
      }
    },
    {
      "cell_type": "code",
      "source": [
        "## RANDOM FOREST\n",
        "\n",
        "from sklearn.ensemble import RandomForestRegressor\n",
        "\n",
        "# Inicializar el modelo de Bosque Aleatorio para regresión\n",
        "rf_model = RandomForestRegressor()\n",
        "\n",
        "# Entrenar el modelo con los datos de entrenamiento codificados\n",
        "rf_model.fit(X_train_encoded, y_train)\n",
        "\n",
        "# Predecir los valores del conjunto de entrenamiento y prueba\n",
        "y_train_pred_rf = rf_model.predict(X_train_encoded)\n",
        "y_test_pred_rf = rf_model.predict(X_test_encoded)\n",
        "\n",
        "# Calcular las métricas de evaluación\n",
        "train_mse_rf = mean_squared_error(y_train, y_train_pred_rf)\n",
        "test_mse_rf = mean_squared_error(y_test, y_test_pred_rf)\n",
        "train_r2_rf = r2_score(y_train, y_train_pred_rf)\n",
        "test_r2_rf = r2_score(y_test, y_test_pred_rf)\n",
        "\n",
        "# Imprimir las métricas de evaluación\n",
        "print(\"Métricas de evaluación del modelo de Bosque Aleatorio para regresión:\")\n",
        "print(\"Conjunto de entrenamiento:\")\n",
        "print(\"  MSE:\", train_mse_rf)\n",
        "print(\"  R^2:\", train_r2_rf)\n",
        "print(\"Conjunto de prueba:\")\n",
        "print(\"  MSE:\", test_mse_rf)\n",
        "print(\"  R^2:\", test_r2_rf)\n"
      ],
      "metadata": {
        "colab": {
          "base_uri": "https://localhost:8080/"
        },
        "id": "tBRSKK1-ojLQ",
        "outputId": "3a6e93f0-a728-4a43-bff9-946a6974f761"
      },
      "execution_count": 18,
      "outputs": [
        {
          "output_type": "stream",
          "name": "stdout",
          "text": [
            "Métricas de evaluación del modelo de Bosque Aleatorio para regresión:\n",
            "Conjunto de entrenamiento:\n",
            "  MSE: 3428437.760868329\n",
            "  R^2: 0.9749593103656042\n",
            "Conjunto de prueba:\n",
            "  MSE: 22096877.82613619\n",
            "  R^2: 0.8797488510572694\n"
          ]
        }
      ]
    },
    {
      "cell_type": "markdown",
      "source": [
        "**- Error Cuadrático Medio (MSE):**\n",
        "Para el conjunto de entrenamiento: MSE = 3,551,052.10\n",
        "Para el conjunto de prueba: MSE = 21,366,706.53\n",
        "El MSE es una medida de la calidad del ajuste del modelo a los datos. Un MSE más bajo indica un mejor ajuste del modelo a los datos. En este caso, el MSE es significativamente menor en el conjunto de entrenamiento que en el conjunto de prueba, lo cual puede sugerir un posible sobreajuste del modelo en los datos de entrenamiento.\n",
        "\n",
        "**- Coeficiente de Determinación (R^2):**\n",
        "Para el conjunto de entrenamiento: R^2 = 0.974\n",
        "Para el conjunto de prueba: R^2 = 0.884\n",
        "El coeficiente de determinación, o R^2, es una medida que indica qué tan bien se ajustan los valores observados a los valores predichos por el modelo. Un valor de R^2 más cercano a 1 indica un mejor ajuste del modelo a los datos. En este caso, tanto en el conjunto de entrenamiento como en el de prueba, el R^2 es alto, lo que sugiere que el modelo explica una gran proporción de la variabilidad en los datos.\n",
        "\n",
        "Los resultados indican que el modelo de Bosque Aleatorio tiene un rendimiento bastante sólido en términos de ajuste a los datos. Sin embargo, es importante prestar atención al posible sobreajuste, ya que el MSE es considerablemente menor en el conjunto de entrenamiento que en el conjunto de prueba."
      ],
      "metadata": {
        "id": "NgWbnK_8osc9"
      }
    },
    {
      "cell_type": "code",
      "source": [
        "## GRADIENT BOOSTING\n",
        "\n",
        "from sklearn.ensemble import GradientBoostingRegressor\n",
        "\n",
        "# Inicializar el modelo de Regresión de Gradient Boosting\n",
        "gb_model = GradientBoostingRegressor()\n",
        "\n",
        "# Entrenar el modelo con los datos de entrenamiento codificados\n",
        "gb_model.fit(X_train_encoded, y_train)\n",
        "\n",
        "# Predecir los valores del conjunto de entrenamiento y prueba\n",
        "y_train_pred_gb = gb_model.predict(X_train_encoded)\n",
        "y_test_pred_gb = gb_model.predict(X_test_encoded)\n",
        "\n",
        "# Calcular las métricas de evaluación\n",
        "train_mse_gb = mean_squared_error(y_train, y_train_pred_gb)\n",
        "test_mse_gb = mean_squared_error(y_test, y_test_pred_gb)\n",
        "train_r2_gb = r2_score(y_train, y_train_pred_gb)\n",
        "test_r2_gb = r2_score(y_test, y_test_pred_gb)\n",
        "\n",
        "# Imprimir las métricas de evaluación\n",
        "print(\"Métricas de evaluación del modelo de Regresión de Gradient Boosting:\")\n",
        "print(\"Conjunto de entrenamiento:\")\n",
        "print(\"  MSE:\", train_mse_gb)\n",
        "print(\"  R^2:\", train_r2_gb)\n",
        "print(\"Conjunto de prueba:\")\n",
        "print(\"  MSE:\", test_mse_gb)\n",
        "print(\"  R^2:\", test_r2_gb)\n"
      ],
      "metadata": {
        "colab": {
          "base_uri": "https://localhost:8080/"
        },
        "id": "gB85iYrwnzbt",
        "outputId": "67235c3d-4b34-4600-ce9e-c8fde7877bb1"
      },
      "execution_count": 19,
      "outputs": [
        {
          "output_type": "stream",
          "name": "stdout",
          "text": [
            "Métricas de evaluación del modelo de Regresión de Gradient Boosting:\n",
            "Conjunto de entrenamiento:\n",
            "  MSE: 14626569.013276456\n",
            "  R^2: 0.8931701840243523\n",
            "Conjunto de prueba:\n",
            "  MSE: 18162559.772530515\n",
            "  R^2: 0.9011593991887624\n"
          ]
        }
      ]
    },
    {
      "cell_type": "markdown",
      "source": [
        "**- Error Cuadrático Medio (MSE):**\n",
        "Para el conjunto de entrenamiento: MSE = 14,626,569.01\n",
        "Para el conjunto de prueba: MSE = 18,239,470.74\n",
        "El MSE es una medida de la calidad del ajuste del modelo a los datos. Cuanto menor sea el valor de MSE, mejor será el ajuste del modelo a los datos. En este caso, el MSE es más bajo en el conjunto de entrenamiento que en el conjunto de prueba, lo que sugiere que el modelo está generalizando bien a nuevos datos, pero aún existe cierto error en las predicciones.\n",
        "**- Coeficiente de Determinación (R^2):**\n",
        "Para el conjunto de entrenamiento: R^2 = 0.893\n",
        "Para el conjunto de prueba: R^2 = 0.901\n",
        "El coeficiente de determinación, o R^2, es una medida que indica qué tan bien se ajustan los valores observados a los valores predichos por el modelo. Un valor de R^2 más cercano a 1 indica un mejor ajuste del modelo a los datos. En este caso, tanto en el conjunto de entrenamiento como en el de prueba, el R^2 es alto, lo que sugiere que el modelo explica una gran proporción de la variabilidad en los datos.\n",
        "\n",
        "En resumen, los resultados indican que el modelo de Regresión de Gradient Boosting tiene un buen rendimiento en términos de ajuste a los datos. La diferencia entre el MSE del conjunto de entrenamiento y el de prueba no es muy grande, lo que sugiere que el modelo generaliza bien a nuevos datos. Además, el alto valor de R^2 en ambos conjuntos indica que el modelo explica una gran parte de la variabilidad en los datos. Esto sugiere que el modelo de Gradient Boosting es una opción prometedora para este problema de regresión.\n",
        "\n"
      ],
      "metadata": {
        "id": "FfG3vsdDn9VA"
      }
    },
    {
      "cell_type": "markdown",
      "source": [
        "CONCLUSIONES:\n",
        "\n",
        "Basándome en las métricas obtenidas en cada uno de los modelos (Regresión Lineal, Árbol de Decisión, Bosque Aleatorio y Regresión de Gradient Boosting), algunas conclusiones globales sobre su rendimiento son:\n",
        "\n",
        "1. **Regresión Lineal**:\n",
        "   - El modelo de regresión lineal parece funcionar bien, con MSE y R^2 razonables tanto en el conjunto de entrenamiento como en el de prueba. Sin embargo, los valores de MSE son relativamente altos en comparación con los otros modelos, lo que sugiere que podría haber margen para mejorar la precisión de las predicciones.\n",
        "\n",
        "2. **Árbol de Decisión**:\n",
        "   - El modelo de Árbol de Decisión muestra un ajuste perfecto a los datos de entrenamiento, lo que indica un posible sobreajuste. Aunque tiene un rendimiento decente en el conjunto de prueba, el MSE es considerablemente alto, lo que sugiere que el modelo puede no estar generalizando bien a nuevos datos.\n",
        "\n",
        "3. **Bosque Aleatorio**:\n",
        "   - El modelo de Bosque Aleatorio muestra un rendimiento sólido tanto en el conjunto de entrenamiento como en el de prueba. Aunque hay una diferencia entre el MSE del conjunto de entrenamiento y el de prueba, el modelo generaliza bastante bien, como se indica por los altos valores de R^2.\n",
        "\n",
        "4. **Regresión de Gradient Boosting**:\n",
        "   - La Regresión de Gradient Boosting también muestra un buen rendimiento en ambos conjuntos de datos. Tiene MSE y R^2 similares al Bosque Aleatorio, lo que indica que ambos modelos están compitiendo por el mejor rendimiento. Sin embargo, la Regresión de Gradient Boosting parece tener un ligero mejor desempeño en el conjunto de prueba.\n",
        "\n",
        "En general, si priorizamos la simplicidad del modelo y un ajuste aceptable, la Regresión Lineal podría ser suficiente. Si buscamos un mejor rendimiento, los modelos de Bosque Aleatorio y Regresión de Gradient Boosting parecen ser opciones sólidas. Es importante tener en cuenta el balance entre rendimiento y complejidad del modelo al seleccionar el más adecuado para su caso de uso específico. Además, siempre es recomendable ajustar los hiperparámetros de los modelos y realizar validación cruzada para obtener una evaluación más completa de su rendimiento."
      ],
      "metadata": {
        "id": "W4sP2UiwpP5R"
      }
    }
  ]
}
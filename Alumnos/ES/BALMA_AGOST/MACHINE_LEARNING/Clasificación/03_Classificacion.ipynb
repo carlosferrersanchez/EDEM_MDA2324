{
  "cells": [
    {
      "cell_type": "markdown",
      "metadata": {
        "id": "mYJdsFxinuN5"
      },
      "source": [
        "# ENTREGABLE 4"
      ]
    },
    {
      "cell_type": "markdown",
      "metadata": {
        "id": "IIGQAc67cj6O"
      },
      "source": [
        "# INSTRUCCIONES"
      ]
    },
    {
      "cell_type": "markdown",
      "metadata": {
        "id": "t3VhhDXrcfBJ"
      },
      "source": [
        "Utilizar el archivo CSV (`dataset_banco_clean.csv`) con 45189 filas y 17 columnas y aplicar las técnicas de normalización del entregable 3."
      ]
    },
    {
      "cell_type": "code",
      "execution_count": null,
      "metadata": {
        "id": "LDnXEh9vn2GX"
      },
      "outputs": [],
      "source": [
        "# imports\n",
        "import numpy as np\n",
        "import pandas as pd\n",
        "import matplotlib .pyplot as plt\n",
        "from sklearn.model_selection import train_test_split"
      ]
    },
    {
      "cell_type": "code",
      "execution_count": null,
      "metadata": {
        "colab": {
          "base_uri": "https://localhost:8080/",
          "height": 201
        },
        "id": "2C6TxrrjoLca",
        "outputId": "09b1e9f7-0114-4020-a82a-c8b364a0bde6"
      },
      "outputs": [
        {
          "data": {
            "application/vnd.google.colaboratory.intrinsic+json": {
              "summary": "{\n  \"name\": \"data\",\n  \"rows\": 45189,\n  \"fields\": [\n    {\n      \"column\": \"age\",\n      \"properties\": {\n        \"dtype\": \"number\",\n        \"std\": 10,\n        \"min\": 18,\n        \"max\": 95,\n        \"num_unique_values\": 77,\n        \"samples\": [\n          35,\n          34,\n          57\n        ],\n        \"semantic_type\": \"\",\n        \"description\": \"\"\n      }\n    },\n    {\n      \"column\": \"job\",\n      \"properties\": {\n        \"dtype\": \"category\",\n        \"num_unique_values\": 12,\n        \"samples\": [\n          \"housemaid\",\n          \"unemployed\",\n          \"management\"\n        ],\n        \"semantic_type\": \"\",\n        \"description\": \"\"\n      }\n    },\n    {\n      \"column\": \"marital\",\n      \"properties\": {\n        \"dtype\": \"category\",\n        \"num_unique_values\": 3,\n        \"samples\": [\n          \"married\",\n          \"single\",\n          \"divorced\"\n        ],\n        \"semantic_type\": \"\",\n        \"description\": \"\"\n      }\n    },\n    {\n      \"column\": \"education\",\n      \"properties\": {\n        \"dtype\": \"category\",\n        \"num_unique_values\": 4,\n        \"samples\": [\n          \"secondary\",\n          \"primary\",\n          \"tertiary\"\n        ],\n        \"semantic_type\": \"\",\n        \"description\": \"\"\n      }\n    },\n    {\n      \"column\": \"default\",\n      \"properties\": {\n        \"dtype\": \"category\",\n        \"num_unique_values\": 2,\n        \"samples\": [\n          \"yes\",\n          \"no\"\n        ],\n        \"semantic_type\": \"\",\n        \"description\": \"\"\n      }\n    },\n    {\n      \"column\": \"balance\",\n      \"properties\": {\n        \"dtype\": \"number\",\n        \"std\": 3924.370039324605,\n        \"min\": -8019.0,\n        \"max\": 527532.0,\n        \"num_unique_values\": 7167,\n        \"samples\": [\n          3705.0,\n          215.0\n        ],\n        \"semantic_type\": \"\",\n        \"description\": \"\"\n      }\n    },\n    {\n      \"column\": \"housing\",\n      \"properties\": {\n        \"dtype\": \"category\",\n        \"num_unique_values\": 2,\n        \"samples\": [\n          \"no\",\n          \"yes\"\n        ],\n        \"semantic_type\": \"\",\n        \"description\": \"\"\n      }\n    },\n    {\n      \"column\": \"loan\",\n      \"properties\": {\n        \"dtype\": \"category\",\n        \"num_unique_values\": 2,\n        \"samples\": [\n          \"yes\",\n          \"no\"\n        ],\n        \"semantic_type\": \"\",\n        \"description\": \"\"\n      }\n    },\n    {\n      \"column\": \"contact\",\n      \"properties\": {\n        \"dtype\": \"category\",\n        \"num_unique_values\": 3,\n        \"samples\": [\n          \"unknown\",\n          \"cellular\"\n        ],\n        \"semantic_type\": \"\",\n        \"description\": \"\"\n      }\n    },\n    {\n      \"column\": \"day\",\n      \"properties\": {\n        \"dtype\": \"number\",\n        \"std\": 8,\n        \"min\": 1,\n        \"max\": 31,\n        \"num_unique_values\": 31,\n        \"samples\": [\n          1,\n          27\n        ],\n        \"semantic_type\": \"\",\n        \"description\": \"\"\n      }\n    },\n    {\n      \"column\": \"month\",\n      \"properties\": {\n        \"dtype\": \"category\",\n        \"num_unique_values\": 12,\n        \"samples\": [\n          \"apr\",\n          \"mar\"\n        ],\n        \"semantic_type\": \"\",\n        \"description\": \"\"\n      }\n    },\n    {\n      \"column\": \"duration\",\n      \"properties\": {\n        \"dtype\": \"number\",\n        \"std\": 257.34960068288666,\n        \"min\": 1.0,\n        \"max\": 4918.0,\n        \"num_unique_values\": 1570,\n        \"samples\": [\n          1100.0,\n          1207.0\n        ],\n        \"semantic_type\": \"\",\n        \"description\": \"\"\n      }\n    },\n    {\n      \"column\": \"campaign\",\n      \"properties\": {\n        \"dtype\": \"number\",\n        \"std\": 3,\n        \"min\": 1,\n        \"max\": 63,\n        \"num_unique_values\": 48,\n        \"samples\": [\n          41,\n          27\n        ],\n        \"semantic_type\": \"\",\n        \"description\": \"\"\n      }\n    },\n    {\n      \"column\": \"pdays\",\n      \"properties\": {\n        \"dtype\": \"number\",\n        \"std\": 100.10729459348846,\n        \"min\": -1.0,\n        \"max\": 871.0,\n        \"num_unique_values\": 559,\n        \"samples\": [\n          249.0,\n          551.0\n        ],\n        \"semantic_type\": \"\",\n        \"description\": \"\"\n      }\n    },\n    {\n      \"column\": \"previous\",\n      \"properties\": {\n        \"dtype\": \"number\",\n        \"std\": 1,\n        \"min\": 0,\n        \"max\": 58,\n        \"num_unique_values\": 40,\n        \"samples\": [\n          37,\n          14\n        ],\n        \"semantic_type\": \"\",\n        \"description\": \"\"\n      }\n    },\n    {\n      \"column\": \"poutcome\",\n      \"properties\": {\n        \"dtype\": \"category\",\n        \"num_unique_values\": 4,\n        \"samples\": [\n          \"failure\",\n          \"success\"\n        ],\n        \"semantic_type\": \"\",\n        \"description\": \"\"\n      }\n    },\n    {\n      \"column\": \"y\",\n      \"properties\": {\n        \"dtype\": \"category\",\n        \"num_unique_values\": 2,\n        \"samples\": [\n          \"yes\",\n          \"no\"\n        ],\n        \"semantic_type\": \"\",\n        \"description\": \"\"\n      }\n    }\n  ]\n}",
              "type": "dataframe",
              "variable_name": "data"
            },
            "text/html": [
              "\n",
              "  <div id=\"df-4b2794b5-54ee-4eec-a2f9-c08356ea40fb\" class=\"colab-df-container\">\n",
              "    <div>\n",
              "<style scoped>\n",
              "    .dataframe tbody tr th:only-of-type {\n",
              "        vertical-align: middle;\n",
              "    }\n",
              "\n",
              "    .dataframe tbody tr th {\n",
              "        vertical-align: top;\n",
              "    }\n",
              "\n",
              "    .dataframe thead th {\n",
              "        text-align: right;\n",
              "    }\n",
              "</style>\n",
              "<table border=\"1\" class=\"dataframe\">\n",
              "  <thead>\n",
              "    <tr style=\"text-align: right;\">\n",
              "      <th></th>\n",
              "      <th>age</th>\n",
              "      <th>job</th>\n",
              "      <th>marital</th>\n",
              "      <th>education</th>\n",
              "      <th>default</th>\n",
              "      <th>balance</th>\n",
              "      <th>housing</th>\n",
              "      <th>loan</th>\n",
              "      <th>contact</th>\n",
              "      <th>day</th>\n",
              "      <th>month</th>\n",
              "      <th>duration</th>\n",
              "      <th>campaign</th>\n",
              "      <th>pdays</th>\n",
              "      <th>previous</th>\n",
              "      <th>poutcome</th>\n",
              "      <th>y</th>\n",
              "    </tr>\n",
              "  </thead>\n",
              "  <tbody>\n",
              "    <tr>\n",
              "      <th>0</th>\n",
              "      <td>58</td>\n",
              "      <td>management</td>\n",
              "      <td>married</td>\n",
              "      <td>tertiary</td>\n",
              "      <td>no</td>\n",
              "      <td>2143.0</td>\n",
              "      <td>yes</td>\n",
              "      <td>no</td>\n",
              "      <td>unknown</td>\n",
              "      <td>5</td>\n",
              "      <td>may</td>\n",
              "      <td>261.0</td>\n",
              "      <td>1</td>\n",
              "      <td>-1.0</td>\n",
              "      <td>0</td>\n",
              "      <td>unknown</td>\n",
              "      <td>no</td>\n",
              "    </tr>\n",
              "    <tr>\n",
              "      <th>1</th>\n",
              "      <td>44</td>\n",
              "      <td>technician</td>\n",
              "      <td>single</td>\n",
              "      <td>secondary</td>\n",
              "      <td>no</td>\n",
              "      <td>29.0</td>\n",
              "      <td>yes</td>\n",
              "      <td>no</td>\n",
              "      <td>unknown</td>\n",
              "      <td>5</td>\n",
              "      <td>may</td>\n",
              "      <td>151.0</td>\n",
              "      <td>1</td>\n",
              "      <td>-1.0</td>\n",
              "      <td>0</td>\n",
              "      <td>unknown</td>\n",
              "      <td>no</td>\n",
              "    </tr>\n",
              "    <tr>\n",
              "      <th>2</th>\n",
              "      <td>33</td>\n",
              "      <td>entrepreneur</td>\n",
              "      <td>married</td>\n",
              "      <td>secondary</td>\n",
              "      <td>no</td>\n",
              "      <td>2.0</td>\n",
              "      <td>yes</td>\n",
              "      <td>yes</td>\n",
              "      <td>unknown</td>\n",
              "      <td>5</td>\n",
              "      <td>may</td>\n",
              "      <td>76.0</td>\n",
              "      <td>1</td>\n",
              "      <td>-1.0</td>\n",
              "      <td>0</td>\n",
              "      <td>unknown</td>\n",
              "      <td>no</td>\n",
              "    </tr>\n",
              "    <tr>\n",
              "      <th>3</th>\n",
              "      <td>47</td>\n",
              "      <td>blue-collar</td>\n",
              "      <td>married</td>\n",
              "      <td>unknown</td>\n",
              "      <td>no</td>\n",
              "      <td>1506.0</td>\n",
              "      <td>yes</td>\n",
              "      <td>no</td>\n",
              "      <td>unknown</td>\n",
              "      <td>5</td>\n",
              "      <td>may</td>\n",
              "      <td>92.0</td>\n",
              "      <td>1</td>\n",
              "      <td>-1.0</td>\n",
              "      <td>0</td>\n",
              "      <td>unknown</td>\n",
              "      <td>no</td>\n",
              "    </tr>\n",
              "    <tr>\n",
              "      <th>4</th>\n",
              "      <td>33</td>\n",
              "      <td>unknown</td>\n",
              "      <td>single</td>\n",
              "      <td>unknown</td>\n",
              "      <td>no</td>\n",
              "      <td>1.0</td>\n",
              "      <td>no</td>\n",
              "      <td>no</td>\n",
              "      <td>unknown</td>\n",
              "      <td>5</td>\n",
              "      <td>may</td>\n",
              "      <td>198.0</td>\n",
              "      <td>1</td>\n",
              "      <td>-1.0</td>\n",
              "      <td>0</td>\n",
              "      <td>unknown</td>\n",
              "      <td>no</td>\n",
              "    </tr>\n",
              "  </tbody>\n",
              "</table>\n",
              "</div>\n",
              "    <div class=\"colab-df-buttons\">\n",
              "\n",
              "  <div class=\"colab-df-container\">\n",
              "    <button class=\"colab-df-convert\" onclick=\"convertToInteractive('df-4b2794b5-54ee-4eec-a2f9-c08356ea40fb')\"\n",
              "            title=\"Convert this dataframe to an interactive table.\"\n",
              "            style=\"display:none;\">\n",
              "\n",
              "  <svg xmlns=\"http://www.w3.org/2000/svg\" height=\"24px\" viewBox=\"0 -960 960 960\">\n",
              "    <path d=\"M120-120v-720h720v720H120Zm60-500h600v-160H180v160Zm220 220h160v-160H400v160Zm0 220h160v-160H400v160ZM180-400h160v-160H180v160Zm440 0h160v-160H620v160ZM180-180h160v-160H180v160Zm440 0h160v-160H620v160Z\"/>\n",
              "  </svg>\n",
              "    </button>\n",
              "\n",
              "  <style>\n",
              "    .colab-df-container {\n",
              "      display:flex;\n",
              "      gap: 12px;\n",
              "    }\n",
              "\n",
              "    .colab-df-convert {\n",
              "      background-color: #E8F0FE;\n",
              "      border: none;\n",
              "      border-radius: 50%;\n",
              "      cursor: pointer;\n",
              "      display: none;\n",
              "      fill: #1967D2;\n",
              "      height: 32px;\n",
              "      padding: 0 0 0 0;\n",
              "      width: 32px;\n",
              "    }\n",
              "\n",
              "    .colab-df-convert:hover {\n",
              "      background-color: #E2EBFA;\n",
              "      box-shadow: 0px 1px 2px rgba(60, 64, 67, 0.3), 0px 1px 3px 1px rgba(60, 64, 67, 0.15);\n",
              "      fill: #174EA6;\n",
              "    }\n",
              "\n",
              "    .colab-df-buttons div {\n",
              "      margin-bottom: 4px;\n",
              "    }\n",
              "\n",
              "    [theme=dark] .colab-df-convert {\n",
              "      background-color: #3B4455;\n",
              "      fill: #D2E3FC;\n",
              "    }\n",
              "\n",
              "    [theme=dark] .colab-df-convert:hover {\n",
              "      background-color: #434B5C;\n",
              "      box-shadow: 0px 1px 3px 1px rgba(0, 0, 0, 0.15);\n",
              "      filter: drop-shadow(0px 1px 2px rgba(0, 0, 0, 0.3));\n",
              "      fill: #FFFFFF;\n",
              "    }\n",
              "  </style>\n",
              "\n",
              "    <script>\n",
              "      const buttonEl =\n",
              "        document.querySelector('#df-4b2794b5-54ee-4eec-a2f9-c08356ea40fb button.colab-df-convert');\n",
              "      buttonEl.style.display =\n",
              "        google.colab.kernel.accessAllowed ? 'block' : 'none';\n",
              "\n",
              "      async function convertToInteractive(key) {\n",
              "        const element = document.querySelector('#df-4b2794b5-54ee-4eec-a2f9-c08356ea40fb');\n",
              "        const dataTable =\n",
              "          await google.colab.kernel.invokeFunction('convertToInteractive',\n",
              "                                                    [key], {});\n",
              "        if (!dataTable) return;\n",
              "\n",
              "        const docLinkHtml = 'Like what you see? Visit the ' +\n",
              "          '<a target=\"_blank\" href=https://colab.research.google.com/notebooks/data_table.ipynb>data table notebook</a>'\n",
              "          + ' to learn more about interactive tables.';\n",
              "        element.innerHTML = '';\n",
              "        dataTable['output_type'] = 'display_data';\n",
              "        await google.colab.output.renderOutput(dataTable, element);\n",
              "        const docLink = document.createElement('div');\n",
              "        docLink.innerHTML = docLinkHtml;\n",
              "        element.appendChild(docLink);\n",
              "      }\n",
              "    </script>\n",
              "  </div>\n",
              "\n",
              "\n",
              "<div id=\"df-a9f62c34-f303-40bd-b762-c222efc6cb63\">\n",
              "  <button class=\"colab-df-quickchart\" onclick=\"quickchart('df-a9f62c34-f303-40bd-b762-c222efc6cb63')\"\n",
              "            title=\"Suggest charts\"\n",
              "            style=\"display:none;\">\n",
              "\n",
              "<svg xmlns=\"http://www.w3.org/2000/svg\" height=\"24px\"viewBox=\"0 0 24 24\"\n",
              "     width=\"24px\">\n",
              "    <g>\n",
              "        <path d=\"M19 3H5c-1.1 0-2 .9-2 2v14c0 1.1.9 2 2 2h14c1.1 0 2-.9 2-2V5c0-1.1-.9-2-2-2zM9 17H7v-7h2v7zm4 0h-2V7h2v10zm4 0h-2v-4h2v4z\"/>\n",
              "    </g>\n",
              "</svg>\n",
              "  </button>\n",
              "\n",
              "<style>\n",
              "  .colab-df-quickchart {\n",
              "      --bg-color: #E8F0FE;\n",
              "      --fill-color: #1967D2;\n",
              "      --hover-bg-color: #E2EBFA;\n",
              "      --hover-fill-color: #174EA6;\n",
              "      --disabled-fill-color: #AAA;\n",
              "      --disabled-bg-color: #DDD;\n",
              "  }\n",
              "\n",
              "  [theme=dark] .colab-df-quickchart {\n",
              "      --bg-color: #3B4455;\n",
              "      --fill-color: #D2E3FC;\n",
              "      --hover-bg-color: #434B5C;\n",
              "      --hover-fill-color: #FFFFFF;\n",
              "      --disabled-bg-color: #3B4455;\n",
              "      --disabled-fill-color: #666;\n",
              "  }\n",
              "\n",
              "  .colab-df-quickchart {\n",
              "    background-color: var(--bg-color);\n",
              "    border: none;\n",
              "    border-radius: 50%;\n",
              "    cursor: pointer;\n",
              "    display: none;\n",
              "    fill: var(--fill-color);\n",
              "    height: 32px;\n",
              "    padding: 0;\n",
              "    width: 32px;\n",
              "  }\n",
              "\n",
              "  .colab-df-quickchart:hover {\n",
              "    background-color: var(--hover-bg-color);\n",
              "    box-shadow: 0 1px 2px rgba(60, 64, 67, 0.3), 0 1px 3px 1px rgba(60, 64, 67, 0.15);\n",
              "    fill: var(--button-hover-fill-color);\n",
              "  }\n",
              "\n",
              "  .colab-df-quickchart-complete:disabled,\n",
              "  .colab-df-quickchart-complete:disabled:hover {\n",
              "    background-color: var(--disabled-bg-color);\n",
              "    fill: var(--disabled-fill-color);\n",
              "    box-shadow: none;\n",
              "  }\n",
              "\n",
              "  .colab-df-spinner {\n",
              "    border: 2px solid var(--fill-color);\n",
              "    border-color: transparent;\n",
              "    border-bottom-color: var(--fill-color);\n",
              "    animation:\n",
              "      spin 1s steps(1) infinite;\n",
              "  }\n",
              "\n",
              "  @keyframes spin {\n",
              "    0% {\n",
              "      border-color: transparent;\n",
              "      border-bottom-color: var(--fill-color);\n",
              "      border-left-color: var(--fill-color);\n",
              "    }\n",
              "    20% {\n",
              "      border-color: transparent;\n",
              "      border-left-color: var(--fill-color);\n",
              "      border-top-color: var(--fill-color);\n",
              "    }\n",
              "    30% {\n",
              "      border-color: transparent;\n",
              "      border-left-color: var(--fill-color);\n",
              "      border-top-color: var(--fill-color);\n",
              "      border-right-color: var(--fill-color);\n",
              "    }\n",
              "    40% {\n",
              "      border-color: transparent;\n",
              "      border-right-color: var(--fill-color);\n",
              "      border-top-color: var(--fill-color);\n",
              "    }\n",
              "    60% {\n",
              "      border-color: transparent;\n",
              "      border-right-color: var(--fill-color);\n",
              "    }\n",
              "    80% {\n",
              "      border-color: transparent;\n",
              "      border-right-color: var(--fill-color);\n",
              "      border-bottom-color: var(--fill-color);\n",
              "    }\n",
              "    90% {\n",
              "      border-color: transparent;\n",
              "      border-bottom-color: var(--fill-color);\n",
              "    }\n",
              "  }\n",
              "</style>\n",
              "\n",
              "  <script>\n",
              "    async function quickchart(key) {\n",
              "      const quickchartButtonEl =\n",
              "        document.querySelector('#' + key + ' button');\n",
              "      quickchartButtonEl.disabled = true;  // To prevent multiple clicks.\n",
              "      quickchartButtonEl.classList.add('colab-df-spinner');\n",
              "      try {\n",
              "        const charts = await google.colab.kernel.invokeFunction(\n",
              "            'suggestCharts', [key], {});\n",
              "      } catch (error) {\n",
              "        console.error('Error during call to suggestCharts:', error);\n",
              "      }\n",
              "      quickchartButtonEl.classList.remove('colab-df-spinner');\n",
              "      quickchartButtonEl.classList.add('colab-df-quickchart-complete');\n",
              "    }\n",
              "    (() => {\n",
              "      let quickchartButtonEl =\n",
              "        document.querySelector('#df-a9f62c34-f303-40bd-b762-c222efc6cb63 button');\n",
              "      quickchartButtonEl.style.display =\n",
              "        google.colab.kernel.accessAllowed ? 'block' : 'none';\n",
              "    })();\n",
              "  </script>\n",
              "</div>\n",
              "    </div>\n",
              "  </div>\n"
            ],
            "text/plain": [
              "   age           job  marital  education default  balance housing loan  \\\n",
              "0   58    management  married   tertiary      no   2143.0     yes   no   \n",
              "1   44    technician   single  secondary      no     29.0     yes   no   \n",
              "2   33  entrepreneur  married  secondary      no      2.0     yes  yes   \n",
              "3   47   blue-collar  married    unknown      no   1506.0     yes   no   \n",
              "4   33       unknown   single    unknown      no      1.0      no   no   \n",
              "\n",
              "   contact  day month  duration  campaign  pdays  previous poutcome   y  \n",
              "0  unknown    5   may     261.0         1   -1.0         0  unknown  no  \n",
              "1  unknown    5   may     151.0         1   -1.0         0  unknown  no  \n",
              "2  unknown    5   may      76.0         1   -1.0         0  unknown  no  \n",
              "3  unknown    5   may      92.0         1   -1.0         0  unknown  no  \n",
              "4  unknown    5   may     198.0         1   -1.0         0  unknown  no  "
            ]
          },
          "execution_count": 11,
          "metadata": {},
          "output_type": "execute_result"
        }
      ],
      "source": [
        "ruta = \"/content/dataset_banco_clean.csv\"\n",
        "\n",
        "data = pd.read_csv(ruta)\n",
        "\n",
        "data.head()"
      ]
    },
    {
      "cell_type": "code",
      "execution_count": null,
      "metadata": {
        "colab": {
          "base_uri": "https://localhost:8080/"
        },
        "id": "B4fZ7yCU7UrY",
        "outputId": "dc75f9f1-bdab-4847-aaa1-1feb925a8eba"
      },
      "outputs": [
        {
          "name": "stdout",
          "output_type": "stream",
          "text": [
            "<class 'pandas.core.frame.DataFrame'>\n",
            "RangeIndex: 45189 entries, 0 to 45188\n",
            "Data columns (total 17 columns):\n",
            " #   Column     Non-Null Count  Dtype  \n",
            "---  ------     --------------  -----  \n",
            " 0   age        45189 non-null  int64  \n",
            " 1   job        45189 non-null  object \n",
            " 2   marital    45189 non-null  object \n",
            " 3   education  45189 non-null  object \n",
            " 4   default    45189 non-null  object \n",
            " 5   balance    45189 non-null  float64\n",
            " 6   housing    45189 non-null  object \n",
            " 7   loan       45189 non-null  object \n",
            " 8   contact    45189 non-null  object \n",
            " 9   day        45189 non-null  int64  \n",
            " 10  month      45189 non-null  object \n",
            " 11  duration   45189 non-null  float64\n",
            " 12  campaign   45189 non-null  int64  \n",
            " 13  pdays      45189 non-null  float64\n",
            " 14  previous   45189 non-null  int64  \n",
            " 15  poutcome   45189 non-null  object \n",
            " 16  y          45189 non-null  object \n",
            "dtypes: float64(3), int64(4), object(10)\n",
            "memory usage: 5.9+ MB\n",
            "None\n"
          ]
        }
      ],
      "source": [
        "print(data.info())\n"
      ]
    },
    {
      "cell_type": "markdown",
      "metadata": {
        "id": "suOncPeIo2Ln"
      },
      "source": [
        "# Objetivo\n",
        "\n",
        "Generar un model de clasificación capaz de predecir la clase de flor en función de las carácterísticas del dataset\n",
        "\n",
        "* Aplicar las técnicas oportunas de procesamiento de datos\n",
        "\n",
        "* Generar split de los datos\n",
        "\n",
        "* Valorar diferentes modelos de clasificación\n",
        "\n",
        "* Comparación entre modelos\n",
        "\n",
        "* Ensemble\n",
        "\n",
        "* Métricas\n",
        "\n",
        "* Conclusiones finales"
      ]
    },
    {
      "cell_type": "markdown",
      "metadata": {
        "id": "jIC8LRNZ8_8k"
      },
      "source": [
        "## Normalización"
      ]
    },
    {
      "cell_type": "code",
      "execution_count": null,
      "metadata": {
        "colab": {
          "base_uri": "https://localhost:8080/"
        },
        "id": "MmP96XYE8Ths",
        "outputId": "9c5cb729-d3a9-4b18-b26c-216f576993c1"
      },
      "outputs": [
        {
          "name": "stdout",
          "output_type": "stream",
          "text": [
            "Valores mínimos y máximos de x_train_s:\n",
            "[-2.17488913 -2.2272257  -1.77949291 -1.01046087 -0.57420934 -0.41226409\n",
            " -0.30457273  0.          0.          0.          0.          0.\n",
            "  0.          0.          0.          0.          0.          0.\n",
            "  0.          0.          0.          0.          0.          0.\n",
            "  0.          0.          0.          0.          0.          0.\n",
            "  0.          0.          0.          0.          0.          0.\n",
            "  0.          0.          0.          0.          0.          0.\n",
            "  0.          0.          0.          0.          0.          0.\n",
            "  0.        ] [  5.11950601 124.71889585   1.8261209   14.17629239  17.8661089\n",
            "   8.30661788  26.60083011   1.           1.           1.\n",
            "   1.           1.           1.           1.           1.\n",
            "   1.           1.           1.           1.           1.\n",
            "   1.           1.           1.           1.           1.\n",
            "   1.           1.           1.           1.           1.\n",
            "   1.           1.           1.           1.           1.\n",
            "   1.           1.           1.           1.           1.\n",
            "   1.           1.           1.           1.           1.\n",
            "   1.           1.           1.           1.        ]\n",
            "\n",
            "Valores mínimos y máximos de x_val_s:\n",
            "[-2.17488913 -0.82941059 -1.77949291 -1.00654675 -0.57420934 -0.41226409\n",
            " -0.30457273  0.          0.          0.          0.          0.\n",
            "  0.          0.          0.          0.          0.          0.\n",
            "  0.          0.          0.          0.          0.          0.\n",
            "  0.          0.          0.          0.          0.          0.\n",
            "  0.          0.          0.          0.          0.          0.\n",
            "  0.          0.          0.          0.          0.          0.\n",
            "  0.          0.          0.          0.          0.          0.\n",
            "  0.        ] [ 4.64584399 23.88159961  1.8261209  13.80053767 19.48368068  7.90666917\n",
            " 20.79770401  1.          1.          1.          1.          1.\n",
            "  1.          1.          1.          1.          1.          1.\n",
            "  1.          1.          1.          1.          1.          1.\n",
            "  1.          1.          1.          1.          1.          1.\n",
            "  1.          1.          1.          1.          1.          1.\n",
            "  1.          1.          1.          1.          1.          1.\n",
            "  1.          1.          1.          1.          1.          1.\n",
            "  1.        ]\n",
            "\n",
            "Valores mínimos y máximos de x_test_s:\n",
            "[-2.17488913 -1.28807978 -1.77949291 -1.00654675 -0.57420934 -0.41226409\n",
            " -0.30457273  0.          0.          0.          0.          0.\n",
            "  0.          0.          0.          0.          0.          0.\n",
            "  0.          0.          0.          0.          0.          0.\n",
            "  0.          0.          0.          0.          0.          0.\n",
            "  0.          0.          0.          0.          0.          0.\n",
            "  0.          0.          0.          0.          0.          0.\n",
            "  0.          0.          0.          0.          0.          0.\n",
            "  0.        ] [ 4.07744956 15.48902005  1.8261209  18.23522618 16.89556584  7.97666019\n",
            " 30.29372854  1.          1.          1.          1.          1.\n",
            "  1.          1.          1.          1.          1.          1.\n",
            "  1.          1.          1.          1.          1.          1.\n",
            "  1.          1.          1.          1.          1.          1.\n",
            "  1.          1.          1.          1.          1.          1.\n",
            "  1.          1.          1.          1.          1.          1.\n",
            "  1.          1.          1.          1.          1.          1.\n",
            "  1.        ]\n"
          ]
        }
      ],
      "source": [
        "from sklearn.pipeline import Pipeline\n",
        "from sklearn.preprocessing import StandardScaler, OneHotEncoder, LabelBinarizer\n",
        "from sklearn.compose import ColumnTransformer\n",
        "\n",
        "# Definir las columnas numéricas y categóricas\n",
        "numeric = ['age', 'balance', 'day', 'duration', 'campaign', 'pdays', 'previous']\n",
        "categorical = ['marital', 'housing', 'loan', 'contact', 'job', 'month', 'poutcome', 'education']\n",
        "\n",
        "# Definir transformaciones para variables numéricas y categóricas\n",
        "numeric_transformer = Pipeline(steps=[\n",
        "    ('scaler', StandardScaler())\n",
        "])\n",
        "\n",
        "categorical_transformer = Pipeline(steps=[\n",
        "    ('onehot', OneHotEncoder(handle_unknown='ignore'))\n",
        "])\n",
        "\n",
        "# Utilizar ColumnTransformer para aplicar transformaciones a las columnas correspondientes\n",
        "preprocessor = ColumnTransformer(\n",
        "    transformers=[\n",
        "        ('num', numeric_transformer, numeric),\n",
        "        ('cat', categorical_transformer, categorical)\n",
        "    ])\n",
        "\n",
        "# Aplicar el preprocesador a las características de entrenamiento, validación y prueba\n",
        "x_train_s = preprocessor.fit_transform(x_train)\n",
        "x_val_s = preprocessor.transform(x_val)\n",
        "x_test_s = preprocessor.transform(x_test)\n",
        "\n",
        "# Binarizar la variable objetivo\n",
        "label_binarizer = LabelBinarizer()\n",
        "y_train_bin = label_binarizer.fit_transform(y_train)\n",
        "y_val_bin = label_binarizer.transform(y_val)\n",
        "y_test_bin = label_binarizer.transform(y_test)\n",
        "\n",
        "print(\"Valores mínimos y máximos de x_train_s:\")\n",
        "print(x_train_s.min(axis=0), x_train_s.max(axis=0))\n",
        "print(\"\\nValores mínimos y máximos de x_val_s:\")\n",
        "print(x_val_s.min(axis=0), x_val_s.max(axis=0))\n",
        "print(\"\\nValores mínimos y máximos de x_test_s:\")\n",
        "print(x_test_s.min(axis=0), x_test_s.max(axis=0))\n"
      ]
    },
    {
      "cell_type": "markdown",
      "metadata": {
        "id": "ZVtjoDlU9MFB"
      },
      "source": [
        "## Particiones"
      ]
    },
    {
      "cell_type": "code",
      "execution_count": null,
      "metadata": {
        "colab": {
          "base_uri": "https://localhost:8080/"
        },
        "id": "oGEq8EGTpp7g",
        "outputId": "2c36e917-42ff-4baa-9161-cdb6641aacc4"
      },
      "outputs": [
        {
          "name": "stdout",
          "output_type": "stream",
          "text": [
            "(31632, 16) (31632,)\n",
            "(6778, 16) (6778,)\n",
            "(6779, 16) (6779,)\n"
          ]
        }
      ],
      "source": [
        "x = data.drop(['y'], axis = 1)\n",
        "y = data['y']\n",
        "\n",
        "'''Crear los sets de entrenamiento (70%), validación (15%)\n",
        "    y prueba (15%)'''\n",
        "\n",
        "x_train, x_test_val, y_train, y_test_val = train_test_split(x, y, test_size=0.3, random_state=42)\n",
        "x_test, x_val, y_test, y_val = train_test_split(x_test_val, y_test_val, test_size=0.5, random_state=42)\n",
        "\n",
        "print(x_train.shape, y_train.shape)\n",
        "print(x_test.shape, y_test.shape)\n",
        "print(x_val.shape, y_val.shape)"
      ]
    },
    {
      "cell_type": "markdown",
      "metadata": {
        "id": "Z6MfZFu_9iCj"
      },
      "source": [
        "## Modelos"
      ]
    },
    {
      "cell_type": "markdown",
      "metadata": {
        "id": "Kk-AVGze9yBl"
      },
      "source": [
        "### Random Forest"
      ]
    },
    {
      "cell_type": "code",
      "execution_count": null,
      "metadata": {
        "colab": {
          "base_uri": "https://localhost:8080/"
        },
        "id": "nVv2kdwS92iU",
        "outputId": "3767115b-a5dc-4d25-c31d-ed933b4d2598"
      },
      "outputs": [
        {
          "name": "stdout",
          "output_type": "stream",
          "text": [
            "Precisión en los datos de validación: 0.9055907951025225\n",
            "Classification Report:\n",
            "              precision    recall  f1-score   support\n",
            "\n",
            "          no       0.92      0.97      0.95      5981\n",
            "         yes       0.66      0.40      0.50       798\n",
            "\n",
            "    accuracy                           0.91      6779\n",
            "   macro avg       0.79      0.69      0.73      6779\n",
            "weighted avg       0.89      0.91      0.90      6779\n",
            "\n"
          ]
        }
      ],
      "source": [
        "from sklearn.ensemble import RandomForestClassifier\n",
        "from sklearn.metrics import classification_report\n",
        "\n",
        "random_forest = RandomForestClassifier(n_estimators=100, random_state=42)\n",
        "\n",
        "# Entrenar el modelo con los datos de entrenamiento\n",
        "random_forest.fit(x_train_s, y_train)\n",
        "\n",
        "# Hacer predicciones sobre los datos de validación\n",
        "y_pred_val = random_forest.predict(x_val_s)\n",
        "\n",
        "# Evaluar el rendimiento del modelo en los datos de validación\n",
        "accuracy_val = random_forest.score(x_val_s, y_val)\n",
        "print(\"Precisión en los datos de validación:\", accuracy_val)\n",
        "\n",
        "print(\"Classification Report:\")\n",
        "print(classification_report(y_val, y_pred_val))\n"
      ]
    },
    {
      "cell_type": "markdown",
      "metadata": {
        "id": "4nLzGpn1-PTm"
      },
      "source": [
        "### Decison Tree"
      ]
    },
    {
      "cell_type": "code",
      "execution_count": null,
      "metadata": {
        "colab": {
          "base_uri": "https://localhost:8080/"
        },
        "id": "iHkbMY6o-Nqi",
        "outputId": "04218593-852f-4a1a-f48b-637d409fa7f1"
      },
      "outputs": [
        {
          "name": "stdout",
          "output_type": "stream",
          "text": [
            "Precisión en los datos de validación: 0.8808083788169346\n",
            "Classification Report:\n",
            "              precision    recall  f1-score   support\n",
            "\n",
            "          no       0.93      0.93      0.93      5981\n",
            "         yes       0.49      0.50      0.50       798\n",
            "\n",
            "    accuracy                           0.88      6779\n",
            "   macro avg       0.71      0.71      0.71      6779\n",
            "weighted avg       0.88      0.88      0.88      6779\n",
            "\n"
          ]
        }
      ],
      "source": [
        "from sklearn.tree import DecisionTreeClassifier\n",
        "\n",
        "decision_tree = DecisionTreeClassifier(random_state=42)\n",
        "\n",
        "# Entrenar el modelo con los datos de entrenamiento\n",
        "decision_tree.fit(x_train_s, y_train)\n",
        "\n",
        "# Hacer predicciones sobre los datos de validación\n",
        "y_pred_val = decision_tree.predict(x_val_s)\n",
        "\n",
        "# Evaluar el rendimiento del modelo en los datos de validación\n",
        "accuracy_val = decision_tree.score(x_val_s, y_val)\n",
        "print(\"Precisión en los datos de validación:\", accuracy_val)\n",
        "\n",
        "print(\"Classification Report:\")\n",
        "print(classification_report(y_val, y_pred_val))\n"
      ]
    },
    {
      "cell_type": "markdown",
      "metadata": {
        "id": "ZF_XNkN7-n9X"
      },
      "source": [
        "### KNN"
      ]
    },
    {
      "cell_type": "code",
      "execution_count": null,
      "metadata": {
        "colab": {
          "base_uri": "https://localhost:8080/"
        },
        "id": "ksq03dLb-siQ",
        "outputId": "5d88538c-c4c8-4292-adab-caddfcb247ef"
      },
      "outputs": [
        {
          "name": "stdout",
          "output_type": "stream",
          "text": [
            "Precisión en los datos de validación: 0.8883316123322024\n",
            "Classification Report:\n",
            "              precision    recall  f1-score   support\n",
            "\n",
            "          no       0.92      0.96      0.94      5981\n",
            "         yes       0.54      0.35      0.43       798\n",
            "\n",
            "    accuracy                           0.89      6779\n",
            "   macro avg       0.73      0.66      0.68      6779\n",
            "weighted avg       0.87      0.89      0.88      6779\n",
            "\n"
          ]
        }
      ],
      "source": [
        "from sklearn.neighbors import KNeighborsClassifier\n",
        "\n",
        "knn_classifier = KNeighborsClassifier(n_neighbors=3)\n",
        "\n",
        "# Entrenar el modelo con los datos de entrenamiento\n",
        "knn_classifier.fit(x_train_s, y_train)\n",
        "\n",
        "# Hacer predicciones sobre los datos de validación\n",
        "y_pred_val = knn_classifier.predict(x_val_s)\n",
        "\n",
        "# Evaluar el rendimiento del modelo en los datos de validación\n",
        "accuracy_val = knn_classifier.score(x_val_s, y_val)\n",
        "print(\"Precisión en los datos de validación:\", accuracy_val)\n",
        "\n",
        "print(\"Classification Report:\")\n",
        "print(classification_report(y_val, y_pred_val))\n"
      ]
    },
    {
      "cell_type": "markdown",
      "metadata": {
        "id": "D2lhcXvU-1DW"
      },
      "source": [
        "### SVM"
      ]
    },
    {
      "cell_type": "code",
      "execution_count": null,
      "metadata": {
        "colab": {
          "base_uri": "https://localhost:8080/"
        },
        "id": "qlDTyFWe-z1D",
        "outputId": "bc5fc5a0-75e1-4ae7-c826-f020dfc3e4e3"
      },
      "outputs": [
        {
          "name": "stdout",
          "output_type": "stream",
          "text": [
            "Precisión en los datos de validación: 0.8960023602301225\n",
            "Classification Report:\n",
            "              precision    recall  f1-score   support\n",
            "\n",
            "          no       0.90      0.99      0.94      5981\n",
            "         yes       0.70      0.20      0.31       798\n",
            "\n",
            "    accuracy                           0.90      6779\n",
            "   macro avg       0.80      0.60      0.63      6779\n",
            "weighted avg       0.88      0.90      0.87      6779\n",
            "\n"
          ]
        }
      ],
      "source": [
        "from sklearn.svm import SVC\n",
        "\n",
        "svm_classifier = SVC(kernel='linear', random_state=42)\n",
        "\n",
        "# Entrenar el modelo con los datos de entrenamiento\n",
        "svm_classifier.fit(x_train_s, y_train)\n",
        "\n",
        "# Hacer predicciones sobre los datos de validación\n",
        "y_pred_val = svm_classifier.predict(x_val_s)\n",
        "\n",
        "# Evaluar el rendimiento del modelo en los datos de validación\n",
        "accuracy_val = svm_classifier.score(x_val_s, y_val)\n",
        "print(\"Precisión en los datos de validación:\", accuracy_val)\n",
        "\n",
        "print(\"Classification Report:\")\n",
        "print(classification_report(y_val, y_pred_val))"
      ]
    },
    {
      "cell_type": "markdown",
      "source": [
        "### Gradient Boosting"
      ],
      "metadata": {
        "id": "D8rHiGsJQ89f"
      }
    },
    {
      "cell_type": "code",
      "execution_count": null,
      "metadata": {
        "colab": {
          "base_uri": "https://localhost:8080/"
        },
        "id": "eX7G8yrjAOkk",
        "outputId": "a2b847e1-f3f9-4b13-d570-f4e28575b26a"
      },
      "outputs": [
        {
          "name": "stdout",
          "output_type": "stream",
          "text": [
            "Precisión en los datos de validación: 0.9064758813984364\n",
            "Classification Report:\n",
            "              precision    recall  f1-score   support\n",
            "\n",
            "          no       0.93      0.97      0.95      5981\n",
            "         yes       0.66      0.42      0.51       798\n",
            "\n",
            "    accuracy                           0.91      6779\n",
            "   macro avg       0.79      0.69      0.73      6779\n",
            "weighted avg       0.90      0.91      0.90      6779\n",
            "\n"
          ]
        }
      ],
      "source": [
        "from sklearn.ensemble import GradientBoostingClassifier\n",
        "\n",
        "gradient_boosting = GradientBoostingClassifier(n_estimators=100, random_state=42)\n",
        "\n",
        "# Entrenar el modelo con los datos de entrenamiento\n",
        "gradient_boosting.fit(x_train_s, y_train)\n",
        "\n",
        "# Hacer predicciones sobre los datos de validación\n",
        "y_pred_val = gradient_boosting.predict(x_val_s)\n",
        "\n",
        "# Evaluar el rendimiento del modelo en los datos de validación\n",
        "accuracy_val = gradient_boosting.score(x_val_s, y_val)\n",
        "print(\"Precisión en los datos de validación:\", accuracy_val)\n",
        "\n",
        "print(\"Classification Report:\")\n",
        "print(classification_report(y_val, y_pred_val))"
      ]
    },
    {
      "cell_type": "markdown",
      "metadata": {
        "id": "lWhbs8ZABXP0"
      },
      "source": [
        "## Comparación modelos"
      ]
    },
    {
      "cell_type": "markdown",
      "metadata": {
        "id": "jdlfS0iUBSwU"
      },
      "source": [
        "Basándonos en la comparativa de los modelos de Random Forest, Decision Tree, k-NN, SVM y Gradient Boosting en función de la precisión en los datos de validación y el informe de clasificación, podemos extraer las siguientes conclusiones:\n",
        "\n",
        "1. **Precisión en los datos de validación**: Los modelos de Random Forest y Gradient Boosting muestran la mayor precisión en los datos de validación, con valores de alrededor del 90.6%. Estos modelos superan ligeramente a los modelos SVM y k-NN, que tienen una precisión en el rango de 88.8% a 89.6%. El modelo Decision Tree tiene la precisión más baja, alrededor del 88.1%.\n",
        "\n",
        "2. **Precision y Recall**: Tanto Random Forest como Gradient Boosting muestran un buen equilibrio entre precisión y recall para ambas clases (sí y no). Tienen una precision y recall aceptables para ambas clases. Por otro lado, SVM muestra una buena precisión para la clase negativa, pero su recall para la clase positiva es bastante bajo, lo que indica que podría estar teniendo dificultades para identificar los casos positivos. El modelo Decision Tree también muestra un desequilibrio entre precision y recall para la clase positiva.\n",
        "\n",
        "3. **F1-score**: El F1-score, que es una medida del balance entre precisión y recall, es alto para Random Forest y Gradient Boosting en comparación con los otros modelos. Esto sugiere que estos modelos logran un buen equilibrio entre la precisión y el recall para ambas clases.\n",
        "\n",
        "En conclusión, tanto Random Forest como Gradient Boosting parecen ser las mejores opciones para este problema de clasificación en particular, ya que muestran una mayor precisión y un buen equilibrio entre precisión y recall para ambas clases. Sin embargo, la elección final del modelo dependerá de otros factores como la interpretabilidad del modelo, el tiempo de entrenamiento y la escalabilidad."
      ]
    },
    {
      "cell_type": "markdown",
      "metadata": {
        "id": "wMK2LjVBBkSW"
      },
      "source": [
        "## Ensembles"
      ]
    },
    {
      "cell_type": "code",
      "execution_count": 30,
      "metadata": {
        "colab": {
          "base_uri": "https://localhost:8080/"
        },
        "id": "Opij0jYGB_Sn",
        "outputId": "b2ccea30-f49b-491b-b988-cdfc25032063"
      },
      "outputs": [
        {
          "output_type": "stream",
          "name": "stdout",
          "text": [
            "Precisión en los datos de validación: 0.9002802773270394\n",
            "              precision    recall  f1-score   support\n",
            "\n",
            "          no       0.91      0.99      0.95      5981\n",
            "         yes       0.75      0.23      0.35       798\n",
            "\n",
            "    accuracy                           0.90      6779\n",
            "   macro avg       0.83      0.61      0.65      6779\n",
            "weighted avg       0.89      0.90      0.88      6779\n",
            "\n"
          ]
        }
      ],
      "source": [
        "from sklearn.ensemble import VotingClassifier\n",
        "from sklearn.metrics import classification_report\n",
        "\n",
        "\n",
        "# Definir los clasificadores individuales\n",
        "random_forest = RandomForestClassifier(n_estimators=100, random_state=42)\n",
        "gradient_boosting = GradientBoostingClassifier(n_estimators=100, random_state=42)\n",
        "svm_classifier = SVC(kernel='linear', probability=True, random_state=42)  # Se establece probability=True para que SVM pueda estimar probabilidades\n",
        "\n",
        "# Crear el ensemble mediante el método de votación\n",
        "ensemble = VotingClassifier(estimators=[('rf', random_forest), ('gb', gradient_boosting), ('svm', svm_classifier)], voting='soft')\n",
        "\n",
        "# Entrenar el ensemble con los datos de entrenamiento\n",
        "ensemble.fit(x_train_s, y_train)\n",
        "\n",
        "# Hacer predicciones sobre los datos de validación\n",
        "y_pred_val = ensemble.predict(x_val_s)\n",
        "\n",
        "# Evaluar el rendimiento del ensemble en los datos de validación\n",
        "accuracy_val = ensemble.score(x_val_s, y_val)\n",
        "print(\"Precisión en los datos de validación:\", accuracy_val)\n",
        "print(\"Classification Report:\")\n",
        "print(classification_report(y_val, y_pred_val))\n",
        "\n"
      ]
    },
    {
      "cell_type": "markdown",
      "source": [
        "La precisión en los datos de validación resultó ser del 90.03%, lo que indica que el ensemble tiene un buen rendimiento en general. Sin embargo, al observar el informe de clasificación, se puede apreciar que la precisión para la clase 'yes' es relativamente baja (75%), y el valor de f1-score también es bajo para esta clase (0.35). Esto sugiere que el modelo tiene dificultades para predecir correctamente la clase 'yes'."
      ],
      "metadata": {
        "id": "TThGtoo0Tgd2"
      }
    },
    {
      "cell_type": "markdown",
      "metadata": {
        "id": "UJe--f_DBQ5y"
      },
      "source": [
        "## Conclusiones"
      ]
    },
    {
      "cell_type": "markdown",
      "source": [
        "En este notebook no ha hecho falta hacer una limpieza del dataset puesto que partiamos de uno previamente limpiado, en esta limpieza se llevarían a cabo tareas como ver si hay datos faltantes en algunas celdas, columnas irrelevantes, registros repetidos, errores tipográficos, etc. Otra tarea a realizar en el preprocesado es la normalización de características, consiste en transformar las características del dataset a una escala común, de modo que todas las características tengan una distribución similar. Esto tiene diversos beneficios que impactan positivamente en el rendimiento de los modelos de aprendizaje automático.\n",
        "\n",
        "Hemos utilizado diferentes algoritmos de clasificación para poder observar cual es el que nos proporcionaba un mayor rendimiento, como por ejemplo, Random Forest, kNN, SVM, Gradient Boosting, han sido algunos de los utlizados.\n",
        "\n",
        "Evaluar adecuadamente el desempeño de los modelos de clasificación es esencial para entender su efectividad en la tarea que realizan. Una forma común de hacerlo es mediante el uso de métricas que nos brindan información sobre diferentes aspectos de su rendimiento.Por ejemplo, la precisión nos indica qué tan exacto es el modelo al predecir las clases correctamente. El F1-score, por otro lado, considera tanto la precisión como la exhaustividad del modelo, proporcionando una medida más equilibrada cuando las clases están desbalanceadas."
      ],
      "metadata": {
        "id": "AP7o2GsBPSwB"
      }
    }
  ],
  "metadata": {
    "colab": {
      "provenance": []
    },
    "kernelspec": {
      "display_name": "Python 3",
      "name": "python3"
    },
    "language_info": {
      "name": "python"
    }
  },
  "nbformat": 4,
  "nbformat_minor": 0
}
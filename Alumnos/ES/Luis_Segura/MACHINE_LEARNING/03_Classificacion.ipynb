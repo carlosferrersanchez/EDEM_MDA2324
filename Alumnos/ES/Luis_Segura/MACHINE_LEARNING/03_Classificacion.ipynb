{
  "cells": [
    {
      "cell_type": "markdown",
      "metadata": {
        "id": "mYJdsFxinuN5"
      },
      "source": [
        "# Problema\n",
        "\n",
        "Predecir el tipo de flor"
      ]
    },
    {
      "cell_type": "markdown",
      "metadata": {
        "id": "kNF4GgV_n34K"
      },
      "source": [
        "# El set de datos\n",
        "\n",
        "Número de Instancias:\n",
        "\n",
        "El conjunto de datos Iris consta de 150 muestras de flores Iris con 4 características cada una.\n",
        "\n",
        "Características:\n",
        "\n",
        "* Longitud del sépalo (sepal length)\n",
        "* Ancho del sépalo (sepal width)\n",
        "* Longitud del pétalo (petal length)\n",
        "* Ancho del pétalo (petal width)\n",
        "\n",
        "Clases o Etiquetas:\n",
        "\n",
        "* Setosa\n",
        "* Versicolor\n",
        "* Virginica\n",
        "\n"
      ]
    },
    {
      "cell_type": "code",
      "execution_count": 1,
      "metadata": {
        "id": "LDnXEh9vn2GX"
      },
      "outputs": [],
      "source": [
        "# imports\n",
        "from sklearn.datasets import load_iris\n",
        "import numpy as np\n",
        "import pandas as pd"
      ]
    },
    {
      "cell_type": "markdown",
      "metadata": {
        "id": "suOncPeIo2Ln"
      },
      "source": [
        "# Objetivo\n",
        "\n",
        "Generar un model de clasificación capaz de predecir la clase de flor en función de las carácterísticas del dataset\n",
        "\n",
        "* Aplicar las técnicas oportunas de procesamiento de datos\n",
        "\n",
        "* Valorar diferentes modelos de clasificación\n",
        "\n",
        "* Comparación entre modelos\n",
        "\n",
        "* Ensemble\n",
        "\n",
        "* Métricas\n",
        "\n",
        "* Conclusiones finales"
      ]
    },
    {
      "cell_type": "code",
      "execution_count": 11,
      "metadata": {
        "colab": {
          "base_uri": "https://localhost:8080/"
        },
        "id": "oGEq8EGTpp7g",
        "outputId": "85245067-b568-4eaa-cada-8f26cf1000f5"
      },
      "outputs": [
        {
          "name": "stdout",
          "output_type": "stream",
          "text": [
            "Exploración de datos:\n",
            "   sepal length (cm)  sepal width (cm)  petal length (cm)  petal width (cm)  \\\n",
            "0                5.1               3.5                1.4               0.2   \n",
            "1                4.9               3.0                1.4               0.2   \n",
            "2                4.7               3.2                1.3               0.2   \n",
            "3                4.6               3.1                1.5               0.2   \n",
            "4                5.0               3.6                1.4               0.2   \n",
            "\n",
            "   target  \n",
            "0     0.0  \n",
            "1     0.0  \n",
            "2     0.0  \n",
            "3     0.0  \n",
            "4     0.0  \n",
            "       sepal length (cm)  sepal width (cm)  petal length (cm)  \\\n",
            "count         150.000000        150.000000         150.000000   \n",
            "mean            5.843333          3.057333           3.758000   \n",
            "std             0.828066          0.435866           1.765298   \n",
            "min             4.300000          2.000000           1.000000   \n",
            "25%             5.100000          2.800000           1.600000   \n",
            "50%             5.800000          3.000000           4.350000   \n",
            "75%             6.400000          3.300000           5.100000   \n",
            "max             7.900000          4.400000           6.900000   \n",
            "\n",
            "       petal width (cm)      target  \n",
            "count        150.000000  150.000000  \n",
            "mean           1.199333    1.000000  \n",
            "std            0.762238    0.819232  \n",
            "min            0.100000    0.000000  \n",
            "25%            0.300000    0.000000  \n",
            "50%            1.300000    1.000000  \n",
            "75%            1.800000    2.000000  \n",
            "max            2.500000    2.000000  \n",
            "<class 'pandas.core.frame.DataFrame'>\n",
            "RangeIndex: 150 entries, 0 to 149\n",
            "Data columns (total 5 columns):\n",
            " #   Column             Non-Null Count  Dtype  \n",
            "---  ------             --------------  -----  \n",
            " 0   sepal length (cm)  150 non-null    float64\n",
            " 1   sepal width (cm)   150 non-null    float64\n",
            " 2   petal length (cm)  150 non-null    float64\n",
            " 3   petal width (cm)   150 non-null    float64\n",
            " 4   target             150 non-null    float64\n",
            "dtypes: float64(5)\n",
            "memory usage: 6.0 KB\n",
            "None\n",
            "Random Forest - Accuracy: 1.0\n",
            "Support Vector Machine - Accuracy: 1.0\n",
            "Logistic Regression - Accuracy: 1.0\n",
            "Ensemble - Accuracy: 1.0\n",
            "Classification Report:\n",
            "              precision    recall  f1-score   support\n",
            "\n",
            "         0.0       1.00      1.00      1.00        19\n",
            "         1.0       1.00      1.00      1.00        13\n",
            "         2.0       1.00      1.00      1.00        13\n",
            "\n",
            "    accuracy                           1.00        45\n",
            "   macro avg       1.00      1.00      1.00        45\n",
            "weighted avg       1.00      1.00      1.00        45\n",
            "\n"
          ]
        },
        {
          "data": {
            "image/png": "[encoded data removed]",
            "text/plain": [
              "<Figure size 800x600 with 2 Axes>"
            ]
          },
          "metadata": {},
          "output_type": "display_data"
        }
      ],
      "source": [
        "import numpy as np\n",
        "import pandas as pd\n",
        "from sklearn.datasets import load_iris\n",
        "from sklearn.model_selection import train_test_split\n",
        "from sklearn.preprocessing import StandardScaler, LabelEncoder\n",
        "from sklearn.ensemble import RandomForestClassifier, VotingClassifier\n",
        "from sklearn.svm import SVC\n",
        "from sklearn.linear_model import LogisticRegression\n",
        "from sklearn.metrics import accuracy_score, classification_report, confusion_matrix\n",
        "import matplotlib.pyplot as plt\n",
        "import seaborn as sns\n",
        "\n",
        "iris = load_iris()\n",
        "\n",
        "#DataFrame para datos y el objetivo\n",
        "df = pd.DataFrame(data= np.c_[iris['data'], iris['target']], columns= iris['feature_names'] + ['target'])\n",
        "\n",
        "print(\"Exploración de datos:\")\n",
        "print(df.head())\n",
        "print(df.describe())\n",
        "print(df.info())\n",
        "\n",
        "# Divide los datos en características (X) y variable objetivo (y)\n",
        "X = df.drop(columns=[\"target\"])\n",
        "y = df[\"target\"]\n",
        "\n",
        "#Selección de modelos\n",
        "# Divide los datos en conjuntos de entrenamiento y prueba\n",
        "X_train, X_test, y_train, y_test = train_test_split(X, y, test_size=0.3, random_state=42)\n",
        "\n",
        "# Escala las características\n",
        "scaler = StandardScaler()\n",
        "X_train_scaled = scaler.fit_transform(X_train)\n",
        "X_test_scaled = scaler.transform(X_test)\n",
        "\n",
        "# Inicializa modelos\n",
        "random_forest = RandomForestClassifier()\n",
        "svm = SVC()\n",
        "logistic_regression = LogisticRegression()\n",
        "\n",
        "#Compara los tres modelos\n",
        "models = [\n",
        "    (\"Random Forest\", random_forest),\n",
        "    (\"Support Vector Machine\", svm),\n",
        "    (\"Logistic Regression\", logistic_regression)\n",
        "]\n",
        "\n",
        "for name, model in models:\n",
        "    # Entrena el modelo\n",
        "    model.fit(X_train_scaled, y_train)\n",
        "    # Evalúa el modelo\n",
        "    accuracy = accuracy_score(y_test, model.predict(X_test_scaled))\n",
        "    print(f\"{name} - Accuracy: {accuracy}\")\n",
        "\n",
        "#Ensemble\n",
        "ensemble = VotingClassifier(estimators=models)\n",
        "ensemble.fit(X_train_scaled, y_train)\n",
        "ensemble_accuracy = accuracy_score(y_test, ensemble.predict(X_test_scaled))\n",
        "print(f\"Ensemble - Accuracy: {ensemble_accuracy}\")\n",
        "\n",
        "#Métricas\n",
        "best_model = ensemble\n",
        "y_pred = best_model.predict(X_test_scaled)\n",
        "print(\"Classification Report:\")\n",
        "print(classification_report(y_test, y_pred))\n",
        "\n",
        "#Matriz de confusión\n",
        "conf_matrix = confusion_matrix(y_test, y_pred)\n",
        "plt.figure(figsize=(8, 6))\n",
        "plt.title(\"Confusion Matrix\")\n",
        "sns.heatmap(conf_matrix, annot=True, fmt=\"d\", cmap=\"Reds\")\n",
        "plt.xlabel(\"Predicted\")\n",
        "plt.ylabel(\"Actual\")\n",
        "plt.show()"
      ]
    },
    {
      "cell_type": "markdown",
      "metadata": {
        "id": "j2PGzN9SpfcP"
      },
      "source": [
        "# Conclusiones"
      ]
    },
    {
      "cell_type": "markdown",
      "metadata": {
        "id": "vr5JWH7G95ey"
      },
      "source": [
        "Tras observar los diferentes resultados que proporcionan los modelos, se obtiene que:\n",
        "\n",
        "- El mejor modelo a usar coincide en varios de los mismos, por lo que podría decirse que **el mejor es cualquiera de ellos**, *Logistic Regression*, por ejemplo.\n",
        "- La **precisión** de las mismas es perfecta, de 1.0.\n",
        "- Y ofrece la **matriz de confusión** representada arriba: En la primera fila, tenemos la clase 0. De las instancias que de la clase 0, todas, las 19, fueron correctamente clasificadas como clase 0, lo que indica un rendimiento perfecto para esta clase. Este mismo análisis se repite tanto en la segunda como en la tercera clase, dónde, únicamente reemplazándose por 13, ambas, convergen en el mismo resultado."
      ]
    }
  ],
  "metadata": {
    "colab": {
      "provenance": [],
      "toc_visible": true
    },
    "kernelspec": {
      "display_name": "Python 3",
      "name": "python3"
    },
    "language_info": {
      "codemirror_mode": {
        "name": "ipython",
        "version": 3
      },
      "file_extension": ".py",
      "mimetype": "text/x-python",
      "name": "python",
      "nbconvert_exporter": "python",
      "pygments_lexer": "ipython3",
      "version": "3.10.0"
    }
  },
  "nbformat": 4,
  "nbformat_minor": 0
}

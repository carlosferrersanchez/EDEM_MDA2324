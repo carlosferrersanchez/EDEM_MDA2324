{
  "nbformat": 4,
  "nbformat_minor": 0,
  "metadata": {
    "colab": {
      "provenance": []
    },
    "kernelspec": {
      "name": "python3",
      "display_name": "Python 3"
    }
  },
  "cells": [
    {
      "cell_type": "markdown",
      "metadata": {
        "id": "8EZHOi6r9nam"
      },
      "source": [
        "# Homework: Sonar signal classification\n",
        "In this workshop you will train a binary classification neural network to differentiate if sonar signals bounced against a metal cylinder or a rock.\n",
        "\n",
        "[Info of the data](https://archive.ics.uci.edu/ml/datasets/Connectionist+Bench+(Sonar,+Mines+vs.+Rocks))\n",
        "\n",
        "Goal: Get an accuracy higher than 0.80 in the validation set"
      ]
    },
    {
      "cell_type": "markdown",
      "source": [
        "**Outcome: Accuracy of 0.9524 in the validation set.**"
      ],
      "metadata": {
        "id": "HsgQLzw5zUUr"
      }
    },
    {
      "cell_type": "markdown",
      "metadata": {
        "id": "SMD13P7t-zaB"
      },
      "source": [
        "## Get the data from Google Drive"
      ]
    },
    {
      "cell_type": "code",
      "metadata": {
        "id": "79_B_MAD-wnl",
        "colab": {
          "base_uri": "https://localhost:8080/"
        },
        "outputId": "2bf99ec8-ee2f-424f-fad5-a7814fde049b"
      },
      "source": [
        "# Import libraries to interact with Google Drive\n",
        "from pydrive.auth import GoogleAuth\n",
        "from pydrive.drive import GoogleDrive\n",
        "from google.colab import auth\n",
        "from oauth2client.client import GoogleCredentials"
      ],
      "execution_count": 1,
      "outputs": [
        {
          "output_type": "stream",
          "name": "stderr",
          "text": [
            "WARNING:root:pydrive is deprecated and no longer maintained. We recommend that you migrate your projects to pydrive2, the maintained fork of pydrive\n"
          ]
        }
      ]
    },
    {
      "cell_type": "code",
      "metadata": {
        "id": "6Zc93VS8-6at"
      },
      "source": [
        "# Authenticate with your Google account to get access to the data\n",
        "auth.authenticate_user()\n",
        "gauth = GoogleAuth()\n",
        "gauth.credentials = GoogleCredentials.get_application_default()\n",
        "drive = GoogleDrive(gauth)"
      ],
      "execution_count": 2,
      "outputs": []
    },
    {
      "cell_type": "code",
      "metadata": {
        "id": "FuyIoFl7-9RK"
      },
      "source": [
        "# Download data\n",
        "download = drive.CreateFile({'id': '1rw5l3jCo2vlNc8NLrMk3KPZr6HsjNRCY'})\n",
        "download.GetContentFile('sonar.csv')"
      ],
      "execution_count": 3,
      "outputs": []
    },
    {
      "cell_type": "code",
      "metadata": {
        "id": "7ONNxAzG_Ktn",
        "outputId": "993812f8-90ae-48d4-c833-ffb7305e26d3",
        "colab": {
          "base_uri": "https://localhost:8080/"
        }
      },
      "source": [
        "ls"
      ],
      "execution_count": 4,
      "outputs": [
        {
          "output_type": "stream",
          "name": "stdout",
          "text": [
            "\u001b[0m\u001b[01;34msample_data\u001b[0m/  sonar.csv\n"
          ]
        }
      ]
    },
    {
      "cell_type": "markdown",
      "metadata": {
        "id": "3vDd2efB_WHM"
      },
      "source": [
        "## Do some magic below! ;)"
      ]
    },
    {
      "cell_type": "code",
      "source": [
        "import pandas as pd\n",
        "import numpy as np\n",
        "from sklearn.preprocessing import OneHotEncoder\n",
        "from sklearn.preprocessing import StandardScaler\n",
        "from sklearn.model_selection import train_test_split\n",
        "from tensorflow import keras\n",
        "from keras.models import Sequential\n",
        "from keras.layers import Dense\n",
        "from tensorflow.keras.callbacks import EarlyStopping\n",
        "import matplotlib.pyplot as plt\n",
        "from tensorflow.keras.callbacks import ModelCheckpoint"
      ],
      "metadata": {
        "id": "wY-0abHtr_Di"
      },
      "execution_count": 40,
      "outputs": []
    },
    {
      "cell_type": "code",
      "metadata": {
        "id": "o4SmeiYlHB95"
      },
      "source": [
        "data = pd.read_csv('./sonar.csv')"
      ],
      "execution_count": 8,
      "outputs": []
    },
    {
      "cell_type": "code",
      "source": [
        "data.head()"
      ],
      "metadata": {
        "colab": {
          "base_uri": "https://localhost:8080/",
          "height": 229
        },
        "id": "LPPaq2-BsHjT",
        "outputId": "d5a89f42-c41a-42a7-a50e-59596201f079"
      },
      "execution_count": 9,
      "outputs": [
        {
          "output_type": "execute_result",
          "data": {
            "text/plain": [
              "   0.0200  0.0371  0.0428  0.0207  0.0954  0.0986  0.1539  0.1601  0.3109  \\\n",
              "0  0.0453  0.0523  0.0843  0.0689  0.1183  0.2583  0.2156  0.3481  0.3337   \n",
              "1  0.0262  0.0582  0.1099  0.1083  0.0974  0.2280  0.2431  0.3771  0.5598   \n",
              "2  0.0100  0.0171  0.0623  0.0205  0.0205  0.0368  0.1098  0.1276  0.0598   \n",
              "3  0.0762  0.0666  0.0481  0.0394  0.0590  0.0649  0.1209  0.2467  0.3564   \n",
              "4  0.0286  0.0453  0.0277  0.0174  0.0384  0.0990  0.1201  0.1833  0.2105   \n",
              "\n",
              "   0.2111  ...  0.0027  0.0065  0.0159  0.0072  0.0167  0.0180  0.0084  \\\n",
              "0  0.2872  ...  0.0084  0.0089  0.0048  0.0094  0.0191  0.0140  0.0049   \n",
              "1  0.6194  ...  0.0232  0.0166  0.0095  0.0180  0.0244  0.0316  0.0164   \n",
              "2  0.1264  ...  0.0121  0.0036  0.0150  0.0085  0.0073  0.0050  0.0044   \n",
              "3  0.4459  ...  0.0031  0.0054  0.0105  0.0110  0.0015  0.0072  0.0048   \n",
              "4  0.3039  ...  0.0045  0.0014  0.0038  0.0013  0.0089  0.0057  0.0027   \n",
              "\n",
              "   0.0090  0.0032  R  \n",
              "0  0.0052  0.0044  R  \n",
              "1  0.0095  0.0078  R  \n",
              "2  0.0040  0.0117  R  \n",
              "3  0.0107  0.0094  R  \n",
              "4  0.0051  0.0062  R  \n",
              "\n",
              "[5 rows x 61 columns]"
            ],
            "text/html": [
              "\n",
              "  <div id=\"df-a3eaa85e-3fa4-4421-adb4-5721b657631e\" class=\"colab-df-container\">\n",
              "    <div>\n",
              "<style scoped>\n",
              "    .dataframe tbody tr th:only-of-type {\n",
              "        vertical-align: middle;\n",
              "    }\n",
              "\n",
              "    .dataframe tbody tr th {\n",
              "        vertical-align: top;\n",
              "    }\n",
              "\n",
              "    .dataframe thead th {\n",
              "        text-align: right;\n",
              "    }\n",
              "</style>\n",
              "<table border=\"1\" class=\"dataframe\">\n",
              "  <thead>\n",
              "    <tr style=\"text-align: right;\">\n",
              "      <th></th>\n",
              "      <th>0.0200</th>\n",
              "      <th>0.0371</th>\n",
              "      <th>0.0428</th>\n",
              "      <th>0.0207</th>\n",
              "      <th>0.0954</th>\n",
              "      <th>0.0986</th>\n",
              "      <th>0.1539</th>\n",
              "      <th>0.1601</th>\n",
              "      <th>0.3109</th>\n",
              "      <th>0.2111</th>\n",
              "      <th>...</th>\n",
              "      <th>0.0027</th>\n",
              "      <th>0.0065</th>\n",
              "      <th>0.0159</th>\n",
              "      <th>0.0072</th>\n",
              "      <th>0.0167</th>\n",
              "      <th>0.0180</th>\n",
              "      <th>0.0084</th>\n",
              "      <th>0.0090</th>\n",
              "      <th>0.0032</th>\n",
              "      <th>R</th>\n",
              "    </tr>\n",
              "  </thead>\n",
              "  <tbody>\n",
              "    <tr>\n",
              "      <th>0</th>\n",
              "      <td>0.0453</td>\n",
              "      <td>0.0523</td>\n",
              "      <td>0.0843</td>\n",
              "      <td>0.0689</td>\n",
              "      <td>0.1183</td>\n",
              "      <td>0.2583</td>\n",
              "      <td>0.2156</td>\n",
              "      <td>0.3481</td>\n",
              "      <td>0.3337</td>\n",
              "      <td>0.2872</td>\n",
              "      <td>...</td>\n",
              "      <td>0.0084</td>\n",
              "      <td>0.0089</td>\n",
              "      <td>0.0048</td>\n",
              "      <td>0.0094</td>\n",
              "      <td>0.0191</td>\n",
              "      <td>0.0140</td>\n",
              "      <td>0.0049</td>\n",
              "      <td>0.0052</td>\n",
              "      <td>0.0044</td>\n",
              "      <td>R</td>\n",
              "    </tr>\n",
              "    <tr>\n",
              "      <th>1</th>\n",
              "      <td>0.0262</td>\n",
              "      <td>0.0582</td>\n",
              "      <td>0.1099</td>\n",
              "      <td>0.1083</td>\n",
              "      <td>0.0974</td>\n",
              "      <td>0.2280</td>\n",
              "      <td>0.2431</td>\n",
              "      <td>0.3771</td>\n",
              "      <td>0.5598</td>\n",
              "      <td>0.6194</td>\n",
              "      <td>...</td>\n",
              "      <td>0.0232</td>\n",
              "      <td>0.0166</td>\n",
              "      <td>0.0095</td>\n",
              "      <td>0.0180</td>\n",
              "      <td>0.0244</td>\n",
              "      <td>0.0316</td>\n",
              "      <td>0.0164</td>\n",
              "      <td>0.0095</td>\n",
              "      <td>0.0078</td>\n",
              "      <td>R</td>\n",
              "    </tr>\n",
              "    <tr>\n",
              "      <th>2</th>\n",
              "      <td>0.0100</td>\n",
              "      <td>0.0171</td>\n",
              "      <td>0.0623</td>\n",
              "      <td>0.0205</td>\n",
              "      <td>0.0205</td>\n",
              "      <td>0.0368</td>\n",
              "      <td>0.1098</td>\n",
              "      <td>0.1276</td>\n",
              "      <td>0.0598</td>\n",
              "      <td>0.1264</td>\n",
              "      <td>...</td>\n",
              "      <td>0.0121</td>\n",
              "      <td>0.0036</td>\n",
              "      <td>0.0150</td>\n",
              "      <td>0.0085</td>\n",
              "      <td>0.0073</td>\n",
              "      <td>0.0050</td>\n",
              "      <td>0.0044</td>\n",
              "      <td>0.0040</td>\n",
              "      <td>0.0117</td>\n",
              "      <td>R</td>\n",
              "    </tr>\n",
              "    <tr>\n",
              "      <th>3</th>\n",
              "      <td>0.0762</td>\n",
              "      <td>0.0666</td>\n",
              "      <td>0.0481</td>\n",
              "      <td>0.0394</td>\n",
              "      <td>0.0590</td>\n",
              "      <td>0.0649</td>\n",
              "      <td>0.1209</td>\n",
              "      <td>0.2467</td>\n",
              "      <td>0.3564</td>\n",
              "      <td>0.4459</td>\n",
              "      <td>...</td>\n",
              "      <td>0.0031</td>\n",
              "      <td>0.0054</td>\n",
              "      <td>0.0105</td>\n",
              "      <td>0.0110</td>\n",
              "      <td>0.0015</td>\n",
              "      <td>0.0072</td>\n",
              "      <td>0.0048</td>\n",
              "      <td>0.0107</td>\n",
              "      <td>0.0094</td>\n",
              "      <td>R</td>\n",
              "    </tr>\n",
              "    <tr>\n",
              "      <th>4</th>\n",
              "      <td>0.0286</td>\n",
              "      <td>0.0453</td>\n",
              "      <td>0.0277</td>\n",
              "      <td>0.0174</td>\n",
              "      <td>0.0384</td>\n",
              "      <td>0.0990</td>\n",
              "      <td>0.1201</td>\n",
              "      <td>0.1833</td>\n",
              "      <td>0.2105</td>\n",
              "      <td>0.3039</td>\n",
              "      <td>...</td>\n",
              "      <td>0.0045</td>\n",
              "      <td>0.0014</td>\n",
              "      <td>0.0038</td>\n",
              "      <td>0.0013</td>\n",
              "      <td>0.0089</td>\n",
              "      <td>0.0057</td>\n",
              "      <td>0.0027</td>\n",
              "      <td>0.0051</td>\n",
              "      <td>0.0062</td>\n",
              "      <td>R</td>\n",
              "    </tr>\n",
              "  </tbody>\n",
              "</table>\n",
              "<p>5 rows × 61 columns</p>\n",
              "</div>\n",
              "    <div class=\"colab-df-buttons\">\n",
              "\n",
              "  <div class=\"colab-df-container\">\n",
              "    <button class=\"colab-df-convert\" onclick=\"convertToInteractive('df-a3eaa85e-3fa4-4421-adb4-5721b657631e')\"\n",
              "            title=\"Convert this dataframe to an interactive table.\"\n",
              "            style=\"display:none;\">\n",
              "\n",
              "  <svg xmlns=\"http://www.w3.org/2000/svg\" height=\"24px\" viewBox=\"0 -960 960 960\">\n",
              "    <path d=\"M120-120v-720h720v720H120Zm60-500h600v-160H180v160Zm220 220h160v-160H400v160Zm0 220h160v-160H400v160ZM180-400h160v-160H180v160Zm440 0h160v-160H620v160ZM180-180h160v-160H180v160Zm440 0h160v-160H620v160Z\"/>\n",
              "  </svg>\n",
              "    </button>\n",
              "\n",
              "  <style>\n",
              "    .colab-df-container {\n",
              "      display:flex;\n",
              "      gap: 12px;\n",
              "    }\n",
              "\n",
              "    .colab-df-convert {\n",
              "      background-color: #E8F0FE;\n",
              "      border: none;\n",
              "      border-radius: 50%;\n",
              "      cursor: pointer;\n",
              "      display: none;\n",
              "      fill: #1967D2;\n",
              "      height: 32px;\n",
              "      padding: 0 0 0 0;\n",
              "      width: 32px;\n",
              "    }\n",
              "\n",
              "    .colab-df-convert:hover {\n",
              "      background-color: #E2EBFA;\n",
              "      box-shadow: 0px 1px 2px rgba(60, 64, 67, 0.3), 0px 1px 3px 1px rgba(60, 64, 67, 0.15);\n",
              "      fill: #174EA6;\n",
              "    }\n",
              "\n",
              "    .colab-df-buttons div {\n",
              "      margin-bottom: 4px;\n",
              "    }\n",
              "\n",
              "    [theme=dark] .colab-df-convert {\n",
              "      background-color: #3B4455;\n",
              "      fill: #D2E3FC;\n",
              "    }\n",
              "\n",
              "    [theme=dark] .colab-df-convert:hover {\n",
              "      background-color: #434B5C;\n",
              "      box-shadow: 0px 1px 3px 1px rgba(0, 0, 0, 0.15);\n",
              "      filter: drop-shadow(0px 1px 2px rgba(0, 0, 0, 0.3));\n",
              "      fill: #FFFFFF;\n",
              "    }\n",
              "  </style>\n",
              "\n",
              "    <script>\n",
              "      const buttonEl =\n",
              "        document.querySelector('#df-a3eaa85e-3fa4-4421-adb4-5721b657631e button.colab-df-convert');\n",
              "      buttonEl.style.display =\n",
              "        google.colab.kernel.accessAllowed ? 'block' : 'none';\n",
              "\n",
              "      async function convertToInteractive(key) {\n",
              "        const element = document.querySelector('#df-a3eaa85e-3fa4-4421-adb4-5721b657631e');\n",
              "        const dataTable =\n",
              "          await google.colab.kernel.invokeFunction('convertToInteractive',\n",
              "                                                    [key], {});\n",
              "        if (!dataTable) return;\n",
              "\n",
              "        const docLinkHtml = 'Like what you see? Visit the ' +\n",
              "          '<a target=\"_blank\" href=https://colab.research.google.com/notebooks/data_table.ipynb>data table notebook</a>'\n",
              "          + ' to learn more about interactive tables.';\n",
              "        element.innerHTML = '';\n",
              "        dataTable['output_type'] = 'display_data';\n",
              "        await google.colab.output.renderOutput(dataTable, element);\n",
              "        const docLink = document.createElement('div');\n",
              "        docLink.innerHTML = docLinkHtml;\n",
              "        element.appendChild(docLink);\n",
              "      }\n",
              "    </script>\n",
              "  </div>\n",
              "\n",
              "\n",
              "<div id=\"df-b272e381-75a6-48f5-8698-928c61b390ac\">\n",
              "  <button class=\"colab-df-quickchart\" onclick=\"quickchart('df-b272e381-75a6-48f5-8698-928c61b390ac')\"\n",
              "            title=\"Suggest charts\"\n",
              "            style=\"display:none;\">\n",
              "\n",
              "<svg xmlns=\"http://www.w3.org/2000/svg\" height=\"24px\"viewBox=\"0 0 24 24\"\n",
              "     width=\"24px\">\n",
              "    <g>\n",
              "        <path d=\"M19 3H5c-1.1 0-2 .9-2 2v14c0 1.1.9 2 2 2h14c1.1 0 2-.9 2-2V5c0-1.1-.9-2-2-2zM9 17H7v-7h2v7zm4 0h-2V7h2v10zm4 0h-2v-4h2v4z\"/>\n",
              "    </g>\n",
              "</svg>\n",
              "  </button>\n",
              "\n",
              "<style>\n",
              "  .colab-df-quickchart {\n",
              "      --bg-color: #E8F0FE;\n",
              "      --fill-color: #1967D2;\n",
              "      --hover-bg-color: #E2EBFA;\n",
              "      --hover-fill-color: #174EA6;\n",
              "      --disabled-fill-color: #AAA;\n",
              "      --disabled-bg-color: #DDD;\n",
              "  }\n",
              "\n",
              "  [theme=dark] .colab-df-quickchart {\n",
              "      --bg-color: #3B4455;\n",
              "      --fill-color: #D2E3FC;\n",
              "      --hover-bg-color: #434B5C;\n",
              "      --hover-fill-color: #FFFFFF;\n",
              "      --disabled-bg-color: #3B4455;\n",
              "      --disabled-fill-color: #666;\n",
              "  }\n",
              "\n",
              "  .colab-df-quickchart {\n",
              "    background-color: var(--bg-color);\n",
              "    border: none;\n",
              "    border-radius: 50%;\n",
              "    cursor: pointer;\n",
              "    display: none;\n",
              "    fill: var(--fill-color);\n",
              "    height: 32px;\n",
              "    padding: 0;\n",
              "    width: 32px;\n",
              "  }\n",
              "\n",
              "  .colab-df-quickchart:hover {\n",
              "    background-color: var(--hover-bg-color);\n",
              "    box-shadow: 0 1px 2px rgba(60, 64, 67, 0.3), 0 1px 3px 1px rgba(60, 64, 67, 0.15);\n",
              "    fill: var(--button-hover-fill-color);\n",
              "  }\n",
              "\n",
              "  .colab-df-quickchart-complete:disabled,\n",
              "  .colab-df-quickchart-complete:disabled:hover {\n",
              "    background-color: var(--disabled-bg-color);\n",
              "    fill: var(--disabled-fill-color);\n",
              "    box-shadow: none;\n",
              "  }\n",
              "\n",
              "  .colab-df-spinner {\n",
              "    border: 2px solid var(--fill-color);\n",
              "    border-color: transparent;\n",
              "    border-bottom-color: var(--fill-color);\n",
              "    animation:\n",
              "      spin 1s steps(1) infinite;\n",
              "  }\n",
              "\n",
              "  @keyframes spin {\n",
              "    0% {\n",
              "      border-color: transparent;\n",
              "      border-bottom-color: var(--fill-color);\n",
              "      border-left-color: var(--fill-color);\n",
              "    }\n",
              "    20% {\n",
              "      border-color: transparent;\n",
              "      border-left-color: var(--fill-color);\n",
              "      border-top-color: var(--fill-color);\n",
              "    }\n",
              "    30% {\n",
              "      border-color: transparent;\n",
              "      border-left-color: var(--fill-color);\n",
              "      border-top-color: var(--fill-color);\n",
              "      border-right-color: var(--fill-color);\n",
              "    }\n",
              "    40% {\n",
              "      border-color: transparent;\n",
              "      border-right-color: var(--fill-color);\n",
              "      border-top-color: var(--fill-color);\n",
              "    }\n",
              "    60% {\n",
              "      border-color: transparent;\n",
              "      border-right-color: var(--fill-color);\n",
              "    }\n",
              "    80% {\n",
              "      border-color: transparent;\n",
              "      border-right-color: var(--fill-color);\n",
              "      border-bottom-color: var(--fill-color);\n",
              "    }\n",
              "    90% {\n",
              "      border-color: transparent;\n",
              "      border-bottom-color: var(--fill-color);\n",
              "    }\n",
              "  }\n",
              "</style>\n",
              "\n",
              "  <script>\n",
              "    async function quickchart(key) {\n",
              "      const quickchartButtonEl =\n",
              "        document.querySelector('#' + key + ' button');\n",
              "      quickchartButtonEl.disabled = true;  // To prevent multiple clicks.\n",
              "      quickchartButtonEl.classList.add('colab-df-spinner');\n",
              "      try {\n",
              "        const charts = await google.colab.kernel.invokeFunction(\n",
              "            'suggestCharts', [key], {});\n",
              "      } catch (error) {\n",
              "        console.error('Error during call to suggestCharts:', error);\n",
              "      }\n",
              "      quickchartButtonEl.classList.remove('colab-df-spinner');\n",
              "      quickchartButtonEl.classList.add('colab-df-quickchart-complete');\n",
              "    }\n",
              "    (() => {\n",
              "      let quickchartButtonEl =\n",
              "        document.querySelector('#df-b272e381-75a6-48f5-8698-928c61b390ac button');\n",
              "      quickchartButtonEl.style.display =\n",
              "        google.colab.kernel.accessAllowed ? 'block' : 'none';\n",
              "    })();\n",
              "  </script>\n",
              "</div>\n",
              "    </div>\n",
              "  </div>\n"
            ],
            "application/vnd.google.colaboratory.intrinsic+json": {
              "type": "dataframe",
              "variable_name": "data"
            }
          },
          "metadata": {},
          "execution_count": 9
        }
      ]
    },
    {
      "cell_type": "code",
      "source": [
        "data.columns"
      ],
      "metadata": {
        "colab": {
          "base_uri": "https://localhost:8080/"
        },
        "id": "QpinE3PNsQKI",
        "outputId": "3d1df510-9783-4747-91ca-8a11842d798d"
      },
      "execution_count": 10,
      "outputs": [
        {
          "output_type": "execute_result",
          "data": {
            "text/plain": [
              "Index(['0.0200', '0.0371', '0.0428', '0.0207', '0.0954', '0.0986', '0.1539',\n",
              "       '0.1601', '0.3109', '0.2111', '0.1609', '0.1582', '0.2238', '0.0645',\n",
              "       '0.0660', '0.2273', '0.3100', '0.2999', '0.5078', '0.4797', '0.5783',\n",
              "       '0.5071', '0.4328', '0.5550', '0.6711', '0.6415', '0.7104', '0.8080',\n",
              "       '0.6791', '0.3857', '0.1307', '0.2604', '0.5121', '0.7547', '0.8537',\n",
              "       '0.8507', '0.6692', '0.6097', '0.4943', '0.2744', '0.0510', '0.2834',\n",
              "       '0.2825', '0.4256', '0.2641', '0.1386', '0.1051', '0.1343', '0.0383',\n",
              "       '0.0324', '0.0232', '0.0027', '0.0065', '0.0159', '0.0072', '0.0167',\n",
              "       '0.0180', '0.0084', '0.0090', '0.0032', 'R'],\n",
              "      dtype='object')"
            ]
          },
          "metadata": {},
          "execution_count": 10
        }
      ]
    },
    {
      "cell_type": "code",
      "source": [
        "data_numpy = data.values"
      ],
      "metadata": {
        "id": "Cah3Z_xgugkf"
      },
      "execution_count": 27,
      "outputs": []
    },
    {
      "cell_type": "code",
      "source": [
        "# Show data type before and after conversion\n",
        "print(type(data))\n",
        "print(type(data_numpy.dtype))"
      ],
      "metadata": {
        "colab": {
          "base_uri": "https://localhost:8080/"
        },
        "id": "yq7SMcp9uk35",
        "outputId": "5ad967de-7851-48d2-cc1f-9342d1796e76"
      },
      "execution_count": 28,
      "outputs": [
        {
          "output_type": "stream",
          "name": "stdout",
          "text": [
            "<class 'pandas.core.frame.DataFrame'>\n",
            "<class 'numpy.dtypes.ObjectDType'>\n"
          ]
        }
      ]
    },
    {
      "cell_type": "code",
      "source": [
        "# Separate input variables from output label\n",
        "X = data_numpy[:, :60]\n",
        "y = data_numpy[:, 60:61]"
      ],
      "metadata": {
        "id": "faing2Xuum9l"
      },
      "execution_count": 29,
      "outputs": []
    },
    {
      "cell_type": "code",
      "source": [
        "# Show shape of training data and labels\n",
        "print(\"Shape of training data: \", X.shape)\n",
        "print(\"Shape of training labels: \", y.shape)"
      ],
      "metadata": {
        "colab": {
          "base_uri": "https://localhost:8080/"
        },
        "id": "48ybwWRMu01-",
        "outputId": "79ad0054-d4e1-4db7-e3e4-501e3c709e45"
      },
      "execution_count": 30,
      "outputs": [
        {
          "output_type": "stream",
          "name": "stdout",
          "text": [
            "Shape of training data:  (207, 60)\n",
            "Shape of training labels:  (207, 1)\n"
          ]
        }
      ]
    },
    {
      "cell_type": "code",
      "source": [
        "# Show different classes to predict\n",
        "np.unique(y)"
      ],
      "metadata": {
        "colab": {
          "base_uri": "https://localhost:8080/"
        },
        "id": "OOr4m5Ltu3EM",
        "outputId": "046cc6b9-dc68-4e30-f7ca-06605e96dc1b"
      },
      "execution_count": 31,
      "outputs": [
        {
          "output_type": "execute_result",
          "data": {
            "text/plain": [
              "array(['M', 'R'], dtype=object)"
            ]
          },
          "metadata": {},
          "execution_count": 31
        }
      ]
    },
    {
      "cell_type": "code",
      "source": [
        "# Normalizing the data to improve stability while training\n",
        "sc = StandardScaler()\n",
        "sc.fit(X)\n",
        "X_norm = sc.transform(X)"
      ],
      "metadata": {
        "id": "4YBXF3tbu4Dv"
      },
      "execution_count": 34,
      "outputs": []
    },
    {
      "cell_type": "code",
      "source": [
        "# Show data before and after normalization\n",
        "print(\"Before normalization: \\n\", X[1, :])\n",
        "print(\"After normalization: \\n\", X_norm[1, :])"
      ],
      "metadata": {
        "colab": {
          "base_uri": "https://localhost:8080/"
        },
        "id": "iH49dylcvBDm",
        "outputId": "94dfbc47-e2f1-4d81-8849-81196f79c3a5"
      },
      "execution_count": 35,
      "outputs": [
        {
          "output_type": "stream",
          "name": "stdout",
          "text": [
            "Before normalization: \n",
            " [0.0262 0.0582 0.1099 0.1083 0.0974 0.228 0.2431 0.3771 0.5598 0.6194\n",
            " 0.6333 0.706 0.5544 0.532 0.6479 0.6931 0.6759 0.7551 0.8929 0.8619\n",
            " 0.7974 0.6737 0.4293 0.3648 0.5331 0.2413 0.507 0.8533 0.6036 0.8514\n",
            " 0.8512 0.5045 0.1862 0.2709 0.4232 0.3043 0.6116 0.6756 0.5375 0.4719\n",
            " 0.4647 0.2587 0.2129 0.2222 0.2111 0.0176 0.1348 0.0744 0.013 0.0106\n",
            " 0.0033 0.0232 0.0166 0.0095 0.018 0.0244 0.0316 0.0164 0.0095 0.0078]\n",
            "After normalization: \n",
            " [-0.13089402  0.59942737  1.71912994  1.16735119  0.40146635  2.0878624\n",
            "  1.96783928  2.84755057  3.24033559  3.0588314   2.99336374  3.25412687\n",
            "  1.99301568  1.43153632  1.59516994  1.35054941  0.98418341  1.15587309\n",
            "  1.50434322  1.13657152  0.7299634   0.19103966 -0.87578456 -1.29060301\n",
            " -0.58117267 -1.9344945  -0.79426005  0.67421422 -0.15940651  1.22329719\n",
            "  1.62389684  0.30345092 -1.11702254 -0.56812432  0.12778034 -0.29870811\n",
            "  1.04310888  1.58973492  1.06937304  0.8985258   1.02344674 -0.11597725\n",
            " -0.2408284   0.06904661  0.09363364 -1.06875696  0.14104757 -0.26973868\n",
            " -1.08495091 -0.71602137 -1.06134961  1.01280889  0.83219843 -0.19429332\n",
            "  1.22768181  2.84269594  4.1500488   1.30656071  0.25299833  0.25405324]\n"
          ]
        }
      ]
    },
    {
      "cell_type": "code",
      "source": [
        "# One-hot encoding of labels\n",
        "onehot_enc = OneHotEncoder()\n",
        "y_onehot = onehot_enc.fit_transform(y).toarray()"
      ],
      "metadata": {
        "id": "NszQ0PtFvFM_"
      },
      "execution_count": 36,
      "outputs": []
    },
    {
      "cell_type": "code",
      "source": [
        "# Show labels before and after one-hot encoding\n",
        "print(\"Before one-hot encoding: \\n\", y[0])\n",
        "print(\"After one-hot encoding: \\n\", y_onehot[0])"
      ],
      "metadata": {
        "colab": {
          "base_uri": "https://localhost:8080/"
        },
        "id": "YIjoyAgHvHeh",
        "outputId": "d914db9c-f376-4db1-a2e6-d23e06b7843c"
      },
      "execution_count": 37,
      "outputs": [
        {
          "output_type": "stream",
          "name": "stdout",
          "text": [
            "Before one-hot encoding: \n",
            " ['R']\n",
            "After one-hot encoding: \n",
            " [0. 1.]\n"
          ]
        }
      ]
    },
    {
      "cell_type": "code",
      "source": [
        "# Split data in training and validation partitions\n",
        "X_train, X_val, y_train, y_val = train_test_split(X_norm, y_onehot,\n",
        "                                                  test_size=0.1)"
      ],
      "metadata": {
        "id": "4goo2z-ovJ_h"
      },
      "execution_count": 79,
      "outputs": []
    },
    {
      "cell_type": "code",
      "source": [
        "# Show sizes of partitions\n",
        "print(\"Size of training data: \", X_train.shape)\n",
        "print(\"Size of training labels: \", y_train.shape)\n",
        "print(\"Size of validation data: \", X_val.shape)\n",
        "print(\"Size of validation labels: \", y_val.shape)"
      ],
      "metadata": {
        "colab": {
          "base_uri": "https://localhost:8080/"
        },
        "id": "aYocD78LvQYI",
        "outputId": "7d52033b-6e84-486f-9046-274d1b818ae8"
      },
      "execution_count": 80,
      "outputs": [
        {
          "output_type": "stream",
          "name": "stdout",
          "text": [
            "Size of training data:  (186, 60)\n",
            "Size of training labels:  (186, 2)\n",
            "Size of validation data:  (21, 60)\n",
            "Size of validation labels:  (21, 2)\n"
          ]
        }
      ]
    },
    {
      "cell_type": "code",
      "source": [
        "# Design simple neural network architecture\n",
        "model = Sequential()\n",
        "model.add(Dense(16, input_dim=60, activation='relu'))\n",
        "model.add(Dense(12, activation='relu'))\n",
        "model.add(Dense(2, activation='softmax'))"
      ],
      "metadata": {
        "id": "lxQ2YuhUvszH"
      },
      "execution_count": 81,
      "outputs": []
    },
    {
      "cell_type": "code",
      "source": [
        "model.summary()"
      ],
      "metadata": {
        "colab": {
          "base_uri": "https://localhost:8080/"
        },
        "id": "rBjXYUF7v7QH",
        "outputId": "13220637-48b9-4c14-b902-cf44b1b42547"
      },
      "execution_count": 82,
      "outputs": [
        {
          "output_type": "stream",
          "name": "stdout",
          "text": [
            "Model: \"sequential_4\"\n",
            "_________________________________________________________________\n",
            " Layer (type)                Output Shape              Param #   \n",
            "=================================================================\n",
            " dense_12 (Dense)            (None, 16)                976       \n",
            "                                                                 \n",
            " dense_13 (Dense)            (None, 12)                204       \n",
            "                                                                 \n",
            " dense_14 (Dense)            (None, 2)                 26        \n",
            "                                                                 \n",
            "=================================================================\n",
            "Total params: 1206 (4.71 KB)\n",
            "Trainable params: 1206 (4.71 KB)\n",
            "Non-trainable params: 0 (0.00 Byte)\n",
            "_________________________________________________________________\n"
          ]
        }
      ]
    },
    {
      "cell_type": "code",
      "source": [
        "model.compile(loss='categorical_crossentropy', optimizer='adam',\n",
        "              metrics=['accuracy'])"
      ],
      "metadata": {
        "id": "YD-KgfUuwCBk"
      },
      "execution_count": 83,
      "outputs": []
    },
    {
      "cell_type": "code",
      "source": [
        "checkpoint_callback = ModelCheckpoint(filepath='rnn_{epoch:02d}.weights.h5', save_weights_only=True)"
      ],
      "metadata": {
        "id": "1Vnh-omdyYmr"
      },
      "execution_count": 76,
      "outputs": []
    },
    {
      "cell_type": "code",
      "source": [
        "history = model.fit(X_train, y_train, epochs=100, batch_size=12,\n",
        "                    validation_data=(X_val, y_val), callbacks=[checkpoint_callback])"
      ],
      "metadata": {
        "colab": {
          "base_uri": "https://localhost:8080/"
        },
        "id": "KuIO4ds9wF8F",
        "outputId": "9de61cf2-b68c-4125-8632-9d6cc7ea349c"
      },
      "execution_count": 84,
      "outputs": [
        {
          "output_type": "stream",
          "name": "stdout",
          "text": [
            "Epoch 1/100\n",
            "16/16 [==============================] - 1s 17ms/step - loss: 0.7318 - accuracy: 0.5323 - val_loss: 0.6881 - val_accuracy: 0.4286\n",
            "Epoch 2/100\n",
            "16/16 [==============================] - 0s 6ms/step - loss: 0.6362 - accuracy: 0.6344 - val_loss: 0.6190 - val_accuracy: 0.5714\n",
            "Epoch 3/100\n",
            "16/16 [==============================] - 0s 5ms/step - loss: 0.5725 - accuracy: 0.6935 - val_loss: 0.5727 - val_accuracy: 0.6190\n",
            "Epoch 4/100\n",
            "16/16 [==============================] - 0s 6ms/step - loss: 0.5287 - accuracy: 0.7473 - val_loss: 0.5352 - val_accuracy: 0.7143\n",
            "Epoch 5/100\n",
            "16/16 [==============================] - 0s 7ms/step - loss: 0.4933 - accuracy: 0.7957 - val_loss: 0.5005 - val_accuracy: 0.7619\n",
            "Epoch 6/100\n",
            "16/16 [==============================] - 0s 7ms/step - loss: 0.4571 - accuracy: 0.8118 - val_loss: 0.4611 - val_accuracy: 0.7619\n",
            "Epoch 7/100\n",
            "16/16 [==============================] - 0s 7ms/step - loss: 0.4247 - accuracy: 0.8441 - val_loss: 0.4288 - val_accuracy: 0.8095\n",
            "Epoch 8/100\n",
            "16/16 [==============================] - 0s 5ms/step - loss: 0.3920 - accuracy: 0.8763 - val_loss: 0.3951 - val_accuracy: 0.8095\n",
            "Epoch 9/100\n",
            "16/16 [==============================] - 0s 6ms/step - loss: 0.3633 - accuracy: 0.8871 - val_loss: 0.3636 - val_accuracy: 0.8571\n",
            "Epoch 10/100\n",
            "16/16 [==============================] - 0s 5ms/step - loss: 0.3332 - accuracy: 0.8925 - val_loss: 0.3312 - val_accuracy: 0.8571\n",
            "Epoch 11/100\n",
            "16/16 [==============================] - 0s 6ms/step - loss: 0.3054 - accuracy: 0.9086 - val_loss: 0.2985 - val_accuracy: 0.9524\n",
            "Epoch 12/100\n",
            "16/16 [==============================] - 0s 6ms/step - loss: 0.2790 - accuracy: 0.9140 - val_loss: 0.2748 - val_accuracy: 0.9048\n",
            "Epoch 13/100\n",
            "16/16 [==============================] - 0s 5ms/step - loss: 0.2563 - accuracy: 0.9247 - val_loss: 0.2524 - val_accuracy: 0.9048\n",
            "Epoch 14/100\n",
            "16/16 [==============================] - 0s 6ms/step - loss: 0.2354 - accuracy: 0.9355 - val_loss: 0.2356 - val_accuracy: 0.9048\n",
            "Epoch 15/100\n",
            "16/16 [==============================] - 0s 5ms/step - loss: 0.2175 - accuracy: 0.9462 - val_loss: 0.2180 - val_accuracy: 0.9524\n",
            "Epoch 16/100\n",
            "16/16 [==============================] - 0s 6ms/step - loss: 0.1993 - accuracy: 0.9462 - val_loss: 0.2187 - val_accuracy: 0.9048\n",
            "Epoch 17/100\n",
            "16/16 [==============================] - 0s 7ms/step - loss: 0.1836 - accuracy: 0.9462 - val_loss: 0.2084 - val_accuracy: 0.9048\n",
            "Epoch 18/100\n",
            "16/16 [==============================] - 0s 6ms/step - loss: 0.1688 - accuracy: 0.9570 - val_loss: 0.1925 - val_accuracy: 0.9524\n",
            "Epoch 19/100\n",
            "16/16 [==============================] - 0s 6ms/step - loss: 0.1563 - accuracy: 0.9624 - val_loss: 0.1898 - val_accuracy: 0.9524\n",
            "Epoch 20/100\n",
            "16/16 [==============================] - 0s 5ms/step - loss: 0.1434 - accuracy: 0.9624 - val_loss: 0.1766 - val_accuracy: 0.9524\n",
            "Epoch 21/100\n",
            "16/16 [==============================] - 0s 5ms/step - loss: 0.1331 - accuracy: 0.9731 - val_loss: 0.1745 - val_accuracy: 0.9524\n",
            "Epoch 22/100\n",
            "16/16 [==============================] - 0s 6ms/step - loss: 0.1211 - accuracy: 0.9785 - val_loss: 0.1786 - val_accuracy: 0.9524\n",
            "Epoch 23/100\n",
            "16/16 [==============================] - 0s 6ms/step - loss: 0.1112 - accuracy: 0.9839 - val_loss: 0.1640 - val_accuracy: 0.9524\n",
            "Epoch 24/100\n",
            "16/16 [==============================] - 0s 6ms/step - loss: 0.1023 - accuracy: 0.9892 - val_loss: 0.1647 - val_accuracy: 0.9524\n",
            "Epoch 25/100\n",
            "16/16 [==============================] - 0s 5ms/step - loss: 0.0936 - accuracy: 0.9946 - val_loss: 0.1655 - val_accuracy: 0.9524\n",
            "Epoch 26/100\n",
            "16/16 [==============================] - 0s 6ms/step - loss: 0.0873 - accuracy: 0.9946 - val_loss: 0.1611 - val_accuracy: 0.9524\n",
            "Epoch 27/100\n",
            "16/16 [==============================] - 0s 6ms/step - loss: 0.0801 - accuracy: 0.9946 - val_loss: 0.1624 - val_accuracy: 0.9524\n",
            "Epoch 28/100\n",
            "16/16 [==============================] - 0s 5ms/step - loss: 0.0746 - accuracy: 1.0000 - val_loss: 0.1647 - val_accuracy: 0.9524\n",
            "Epoch 29/100\n",
            "16/16 [==============================] - 0s 5ms/step - loss: 0.0679 - accuracy: 1.0000 - val_loss: 0.1507 - val_accuracy: 0.9524\n",
            "Epoch 30/100\n",
            "16/16 [==============================] - 0s 5ms/step - loss: 0.0624 - accuracy: 1.0000 - val_loss: 0.1492 - val_accuracy: 0.9524\n",
            "Epoch 31/100\n",
            "16/16 [==============================] - 0s 5ms/step - loss: 0.0578 - accuracy: 1.0000 - val_loss: 0.1533 - val_accuracy: 0.9524\n",
            "Epoch 32/100\n",
            "16/16 [==============================] - 0s 6ms/step - loss: 0.0525 - accuracy: 1.0000 - val_loss: 0.1519 - val_accuracy: 0.9524\n",
            "Epoch 33/100\n",
            "16/16 [==============================] - 0s 6ms/step - loss: 0.0486 - accuracy: 1.0000 - val_loss: 0.1425 - val_accuracy: 0.9524\n",
            "Epoch 34/100\n",
            "16/16 [==============================] - 0s 6ms/step - loss: 0.0445 - accuracy: 1.0000 - val_loss: 0.1446 - val_accuracy: 0.9524\n",
            "Epoch 35/100\n",
            "16/16 [==============================] - 0s 5ms/step - loss: 0.0406 - accuracy: 1.0000 - val_loss: 0.1506 - val_accuracy: 0.9524\n",
            "Epoch 36/100\n",
            "16/16 [==============================] - 0s 7ms/step - loss: 0.0375 - accuracy: 1.0000 - val_loss: 0.1475 - val_accuracy: 0.9524\n",
            "Epoch 37/100\n",
            "16/16 [==============================] - 0s 5ms/step - loss: 0.0345 - accuracy: 1.0000 - val_loss: 0.1477 - val_accuracy: 0.9524\n",
            "Epoch 38/100\n",
            "16/16 [==============================] - 0s 6ms/step - loss: 0.0318 - accuracy: 1.0000 - val_loss: 0.1442 - val_accuracy: 0.9524\n",
            "Epoch 39/100\n",
            "16/16 [==============================] - 0s 5ms/step - loss: 0.0293 - accuracy: 1.0000 - val_loss: 0.1449 - val_accuracy: 0.9524\n",
            "Epoch 40/100\n",
            "16/16 [==============================] - 0s 6ms/step - loss: 0.0274 - accuracy: 1.0000 - val_loss: 0.1483 - val_accuracy: 0.9524\n",
            "Epoch 41/100\n",
            "16/16 [==============================] - 0s 6ms/step - loss: 0.0253 - accuracy: 1.0000 - val_loss: 0.1421 - val_accuracy: 0.9524\n",
            "Epoch 42/100\n",
            "16/16 [==============================] - 0s 6ms/step - loss: 0.0234 - accuracy: 1.0000 - val_loss: 0.1460 - val_accuracy: 0.9524\n",
            "Epoch 43/100\n",
            "16/16 [==============================] - 0s 5ms/step - loss: 0.0216 - accuracy: 1.0000 - val_loss: 0.1449 - val_accuracy: 0.9524\n",
            "Epoch 44/100\n",
            "16/16 [==============================] - 0s 7ms/step - loss: 0.0202 - accuracy: 1.0000 - val_loss: 0.1457 - val_accuracy: 0.9524\n",
            "Epoch 45/100\n",
            "16/16 [==============================] - 0s 6ms/step - loss: 0.0187 - accuracy: 1.0000 - val_loss: 0.1433 - val_accuracy: 0.9524\n",
            "Epoch 46/100\n",
            "16/16 [==============================] - 0s 7ms/step - loss: 0.0175 - accuracy: 1.0000 - val_loss: 0.1461 - val_accuracy: 0.9524\n",
            "Epoch 47/100\n",
            "16/16 [==============================] - 0s 5ms/step - loss: 0.0164 - accuracy: 1.0000 - val_loss: 0.1462 - val_accuracy: 0.9524\n",
            "Epoch 48/100\n",
            "16/16 [==============================] - 0s 5ms/step - loss: 0.0154 - accuracy: 1.0000 - val_loss: 0.1450 - val_accuracy: 0.9524\n",
            "Epoch 49/100\n",
            "16/16 [==============================] - 0s 5ms/step - loss: 0.0145 - accuracy: 1.0000 - val_loss: 0.1463 - val_accuracy: 0.9524\n",
            "Epoch 50/100\n",
            "16/16 [==============================] - 0s 6ms/step - loss: 0.0135 - accuracy: 1.0000 - val_loss: 0.1437 - val_accuracy: 0.9524\n",
            "Epoch 51/100\n",
            "16/16 [==============================] - 0s 5ms/step - loss: 0.0128 - accuracy: 1.0000 - val_loss: 0.1442 - val_accuracy: 0.9524\n",
            "Epoch 52/100\n",
            "16/16 [==============================] - 0s 5ms/step - loss: 0.0120 - accuracy: 1.0000 - val_loss: 0.1475 - val_accuracy: 0.9524\n",
            "Epoch 53/100\n",
            "16/16 [==============================] - 0s 5ms/step - loss: 0.0114 - accuracy: 1.0000 - val_loss: 0.1463 - val_accuracy: 0.9524\n",
            "Epoch 54/100\n",
            "16/16 [==============================] - 0s 6ms/step - loss: 0.0108 - accuracy: 1.0000 - val_loss: 0.1465 - val_accuracy: 0.9524\n",
            "Epoch 55/100\n",
            "16/16 [==============================] - 0s 6ms/step - loss: 0.0102 - accuracy: 1.0000 - val_loss: 0.1459 - val_accuracy: 0.9524\n",
            "Epoch 56/100\n",
            "16/16 [==============================] - 0s 5ms/step - loss: 0.0096 - accuracy: 1.0000 - val_loss: 0.1460 - val_accuracy: 0.9524\n",
            "Epoch 57/100\n",
            "16/16 [==============================] - 0s 6ms/step - loss: 0.0091 - accuracy: 1.0000 - val_loss: 0.1466 - val_accuracy: 0.9524\n",
            "Epoch 58/100\n",
            "16/16 [==============================] - 0s 5ms/step - loss: 0.0087 - accuracy: 1.0000 - val_loss: 0.1468 - val_accuracy: 0.9524\n",
            "Epoch 59/100\n",
            "16/16 [==============================] - 0s 5ms/step - loss: 0.0082 - accuracy: 1.0000 - val_loss: 0.1473 - val_accuracy: 0.9524\n",
            "Epoch 60/100\n",
            "16/16 [==============================] - 0s 5ms/step - loss: 0.0079 - accuracy: 1.0000 - val_loss: 0.1502 - val_accuracy: 0.9524\n",
            "Epoch 61/100\n",
            "16/16 [==============================] - 0s 10ms/step - loss: 0.0075 - accuracy: 1.0000 - val_loss: 0.1463 - val_accuracy: 0.9524\n",
            "Epoch 62/100\n",
            "16/16 [==============================] - 0s 9ms/step - loss: 0.0071 - accuracy: 1.0000 - val_loss: 0.1482 - val_accuracy: 0.9524\n",
            "Epoch 63/100\n",
            "16/16 [==============================] - 0s 8ms/step - loss: 0.0068 - accuracy: 1.0000 - val_loss: 0.1485 - val_accuracy: 0.9524\n",
            "Epoch 64/100\n",
            "16/16 [==============================] - 0s 8ms/step - loss: 0.0065 - accuracy: 1.0000 - val_loss: 0.1515 - val_accuracy: 0.9524\n",
            "Epoch 65/100\n",
            "16/16 [==============================] - 0s 8ms/step - loss: 0.0062 - accuracy: 1.0000 - val_loss: 0.1526 - val_accuracy: 0.9524\n",
            "Epoch 66/100\n",
            "16/16 [==============================] - 0s 7ms/step - loss: 0.0059 - accuracy: 1.0000 - val_loss: 0.1518 - val_accuracy: 0.9524\n",
            "Epoch 67/100\n",
            "16/16 [==============================] - 0s 8ms/step - loss: 0.0057 - accuracy: 1.0000 - val_loss: 0.1534 - val_accuracy: 0.9524\n",
            "Epoch 68/100\n",
            "16/16 [==============================] - 0s 7ms/step - loss: 0.0055 - accuracy: 1.0000 - val_loss: 0.1529 - val_accuracy: 0.9524\n",
            "Epoch 69/100\n",
            "16/16 [==============================] - 0s 7ms/step - loss: 0.0052 - accuracy: 1.0000 - val_loss: 0.1532 - val_accuracy: 0.9524\n",
            "Epoch 70/100\n",
            "16/16 [==============================] - 0s 8ms/step - loss: 0.0050 - accuracy: 1.0000 - val_loss: 0.1560 - val_accuracy: 0.9524\n",
            "Epoch 71/100\n",
            "16/16 [==============================] - 0s 9ms/step - loss: 0.0048 - accuracy: 1.0000 - val_loss: 0.1575 - val_accuracy: 0.9524\n",
            "Epoch 72/100\n",
            "16/16 [==============================] - 0s 8ms/step - loss: 0.0047 - accuracy: 1.0000 - val_loss: 0.1567 - val_accuracy: 0.9524\n",
            "Epoch 73/100\n",
            "16/16 [==============================] - 0s 9ms/step - loss: 0.0044 - accuracy: 1.0000 - val_loss: 0.1588 - val_accuracy: 0.9524\n",
            "Epoch 74/100\n",
            "16/16 [==============================] - 0s 9ms/step - loss: 0.0043 - accuracy: 1.0000 - val_loss: 0.1596 - val_accuracy: 0.9524\n",
            "Epoch 75/100\n",
            "16/16 [==============================] - 0s 9ms/step - loss: 0.0041 - accuracy: 1.0000 - val_loss: 0.1608 - val_accuracy: 0.9524\n",
            "Epoch 76/100\n",
            "16/16 [==============================] - 0s 9ms/step - loss: 0.0040 - accuracy: 1.0000 - val_loss: 0.1601 - val_accuracy: 0.9524\n",
            "Epoch 77/100\n",
            "16/16 [==============================] - 0s 9ms/step - loss: 0.0038 - accuracy: 1.0000 - val_loss: 0.1609 - val_accuracy: 0.9524\n",
            "Epoch 78/100\n",
            "16/16 [==============================] - 0s 9ms/step - loss: 0.0037 - accuracy: 1.0000 - val_loss: 0.1605 - val_accuracy: 0.9524\n",
            "Epoch 79/100\n",
            "16/16 [==============================] - 0s 11ms/step - loss: 0.0036 - accuracy: 1.0000 - val_loss: 0.1637 - val_accuracy: 0.9524\n",
            "Epoch 80/100\n",
            "16/16 [==============================] - 0s 9ms/step - loss: 0.0034 - accuracy: 1.0000 - val_loss: 0.1631 - val_accuracy: 0.9524\n",
            "Epoch 81/100\n",
            "16/16 [==============================] - 0s 9ms/step - loss: 0.0033 - accuracy: 1.0000 - val_loss: 0.1643 - val_accuracy: 0.9524\n",
            "Epoch 82/100\n",
            "16/16 [==============================] - 0s 8ms/step - loss: 0.0032 - accuracy: 1.0000 - val_loss: 0.1649 - val_accuracy: 0.9524\n",
            "Epoch 83/100\n",
            "16/16 [==============================] - 0s 6ms/step - loss: 0.0031 - accuracy: 1.0000 - val_loss: 0.1652 - val_accuracy: 0.9524\n",
            "Epoch 84/100\n",
            "16/16 [==============================] - 0s 6ms/step - loss: 0.0030 - accuracy: 1.0000 - val_loss: 0.1670 - val_accuracy: 0.9524\n",
            "Epoch 85/100\n",
            "16/16 [==============================] - 0s 6ms/step - loss: 0.0029 - accuracy: 1.0000 - val_loss: 0.1675 - val_accuracy: 0.9524\n",
            "Epoch 86/100\n",
            "16/16 [==============================] - 0s 6ms/step - loss: 0.0028 - accuracy: 1.0000 - val_loss: 0.1684 - val_accuracy: 0.9524\n",
            "Epoch 87/100\n",
            "16/16 [==============================] - 0s 6ms/step - loss: 0.0027 - accuracy: 1.0000 - val_loss: 0.1684 - val_accuracy: 0.9524\n",
            "Epoch 88/100\n",
            "16/16 [==============================] - 0s 7ms/step - loss: 0.0027 - accuracy: 1.0000 - val_loss: 0.1692 - val_accuracy: 0.9524\n",
            "Epoch 89/100\n",
            "16/16 [==============================] - 0s 6ms/step - loss: 0.0026 - accuracy: 1.0000 - val_loss: 0.1701 - val_accuracy: 0.9524\n",
            "Epoch 90/100\n",
            "16/16 [==============================] - 0s 6ms/step - loss: 0.0025 - accuracy: 1.0000 - val_loss: 0.1708 - val_accuracy: 0.9524\n",
            "Epoch 91/100\n",
            "16/16 [==============================] - 0s 5ms/step - loss: 0.0024 - accuracy: 1.0000 - val_loss: 0.1708 - val_accuracy: 0.9524\n",
            "Epoch 92/100\n",
            "16/16 [==============================] - 0s 5ms/step - loss: 0.0024 - accuracy: 1.0000 - val_loss: 0.1724 - val_accuracy: 0.9524\n",
            "Epoch 93/100\n",
            "16/16 [==============================] - 0s 5ms/step - loss: 0.0023 - accuracy: 1.0000 - val_loss: 0.1729 - val_accuracy: 0.9524\n",
            "Epoch 94/100\n",
            "16/16 [==============================] - 0s 6ms/step - loss: 0.0022 - accuracy: 1.0000 - val_loss: 0.1730 - val_accuracy: 0.9524\n",
            "Epoch 95/100\n",
            "16/16 [==============================] - 0s 5ms/step - loss: 0.0022 - accuracy: 1.0000 - val_loss: 0.1739 - val_accuracy: 0.9524\n",
            "Epoch 96/100\n",
            "16/16 [==============================] - 0s 6ms/step - loss: 0.0021 - accuracy: 1.0000 - val_loss: 0.1750 - val_accuracy: 0.9048\n",
            "Epoch 97/100\n",
            "16/16 [==============================] - 0s 6ms/step - loss: 0.0021 - accuracy: 1.0000 - val_loss: 0.1755 - val_accuracy: 0.9524\n",
            "Epoch 98/100\n",
            "16/16 [==============================] - 0s 7ms/step - loss: 0.0020 - accuracy: 1.0000 - val_loss: 0.1738 - val_accuracy: 0.9524\n",
            "Epoch 99/100\n",
            "16/16 [==============================] - 0s 6ms/step - loss: 0.0020 - accuracy: 1.0000 - val_loss: 0.1761 - val_accuracy: 0.9524\n",
            "Epoch 100/100\n",
            "16/16 [==============================] - 0s 6ms/step - loss: 0.0019 - accuracy: 1.0000 - val_loss: 0.1766 - val_accuracy: 0.9524\n"
          ]
        }
      ]
    },
    {
      "cell_type": "code",
      "source": [
        "# Plot training and validation accuracy\n",
        "plt.plot(history.history['accuracy'])\n",
        "plt.plot(history.history['val_accuracy'])\n",
        "plt.title('Model accuracy')\n",
        "plt.ylabel('Accuracy')\n",
        "plt.xlabel('Epoch')\n",
        "plt.legend(['Train', 'Val'], loc='upper left')\n",
        "plt.show()"
      ],
      "metadata": {
        "colab": {
          "base_uri": "https://localhost:8080/",
          "height": 471
        },
        "id": "szhTUIfAx2VO",
        "outputId": "5bba94b7-a07f-4e60-f7ea-7320ed9af924"
      },
      "execution_count": 85,
      "outputs": [
        {
          "output_type": "display_data",
          "data": {
            "text/plain": [
              "<Figure size 640x480 with 1 Axes>"
            ],
            "image/png": "[encoded data removed]"
          },
          "metadata": {}
        }
      ]
    },
    {
      "cell_type": "code",
      "source": [
        "plt.plot(history.history['loss'])\n",
        "plt.plot(history.history['val_loss'])\n",
        "plt.title('Model loss')\n",
        "plt.ylabel('Loss')\n",
        "plt.xlabel('Epoch')\n",
        "plt.legend(['Train', 'Val'], loc='upper left')\n",
        "plt.show()"
      ],
      "metadata": {
        "colab": {
          "base_uri": "https://localhost:8080/",
          "height": 471
        },
        "id": "ICWbfyluyElH",
        "outputId": "b7e096e3-36ec-441c-a010-54a2d204529e"
      },
      "execution_count": 86,
      "outputs": [
        {
          "output_type": "display_data",
          "data": {
            "text/plain": [
              "<Figure size 640x480 with 1 Axes>"
            ],
            "image/png": "[encoded data removed]"
          },
          "metadata": {}
        }
      ]
    }
  ]
}
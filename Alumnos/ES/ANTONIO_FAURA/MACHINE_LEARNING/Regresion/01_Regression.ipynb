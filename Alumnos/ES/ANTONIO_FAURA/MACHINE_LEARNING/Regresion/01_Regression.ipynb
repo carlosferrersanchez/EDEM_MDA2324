{
  "nbformat": 4,
  "nbformat_minor": 0,
  "metadata": {
    "colab": {
      "provenance": []
    },
    "kernelspec": {
      "name": "python3",
      "display_name": "Python 3"
    },
    "language_info": {
      "name": "python"
    }
  },
  "cells": [
    {
      "cell_type": "markdown",
      "source": [
        "# Problema\n",
        "\n",
        "Predecir el coste del seguro"
      ],
      "metadata": {
        "id": "mYJdsFxinuN5"
      }
    },
    {
      "cell_type": "markdown",
      "source": [
        "# El set de datos\n",
        "\n",
        "* age: age of primary beneficiary\n",
        "\n",
        "* sex: insurance contractor gender, female, male\n",
        "\n",
        "* bmi: Body mass index, providing an understanding of body, weights that are relatively high or low relative to height,\n",
        "objective index of body weight (kg / m ^ 2) using the ratio of height to weight, ideally 18.5 to 24.9\n",
        "\n",
        "* children: Number of children covered by health insurance / Number of dependents\n",
        "\n",
        "* smoker: Smoking\n",
        "\n",
        "* region: the beneficiary's residential area in the US, northeast, southeast, southwest, northwest.\n",
        "\n",
        "* charges: Individual medical costs billed by health insurance\n",
        "\n"
      ],
      "metadata": {
        "id": "kNF4GgV_n34K"
      }
    },
    {
      "cell_type": "code",
      "source": [
        "# imports\n",
        "import pandas as pd\n",
        "import matplotlib.pyplot as plt\n",
        "# Carga el archivo desde los archivos del cuaderno\n",
        "df = pd.read_csv('insurance.csv')\n",
        "\n",
        "# Haz algo con el DataFrame, por ejemplo, muestra las primeras filas\n",
        "print(df.head())\n"
      ],
      "metadata": {
        "id": "uZkDH4HMoERG",
        "colab": {
          "base_uri": "https://localhost:8080/"
        },
        "outputId": "e784f7ed-91e1-4c69-a946-a002b58cf541"
      },
      "execution_count": 19,
      "outputs": [
        {
          "output_type": "stream",
          "name": "stdout",
          "text": [
            "   age     sex     bmi  children smoker     region      charges\n",
            "0   19  female  27.900         0    yes  southwest  16884.92400\n",
            "1   18    male  33.770         1     no  southeast   1725.55230\n",
            "2   28    male  33.000         3     no  southeast   4449.46200\n",
            "3   33    male  22.705         0     no  northwest  21984.47061\n",
            "4   32    male  28.880         0     no  northwest   3866.85520\n"
          ]
        }
      ]
    },
    {
      "cell_type": "code",
      "source": [
        "print(df.shape)\n",
        "df.head()"
      ],
      "metadata": {
        "id": "2C6TxrrjoLca",
        "colab": {
          "base_uri": "https://localhost:8080/",
          "height": 224
        },
        "outputId": "7a897b84-805d-4639-d07e-bbba392d2a3c"
      },
      "execution_count": 20,
      "outputs": [
        {
          "output_type": "stream",
          "name": "stdout",
          "text": [
            "(1338, 7)\n"
          ]
        },
        {
          "output_type": "execute_result",
          "data": {
            "text/plain": [
              "   age     sex     bmi  children smoker     region      charges\n",
              "0   19  female  27.900         0    yes  southwest  16884.92400\n",
              "1   18    male  33.770         1     no  southeast   1725.55230\n",
              "2   28    male  33.000         3     no  southeast   4449.46200\n",
              "3   33    male  22.705         0     no  northwest  21984.47061\n",
              "4   32    male  28.880         0     no  northwest   3866.85520"
            ],
            "text/html": [
              "\n",
              "  <div id=\"df-f8498ef0-6ab5-4b7e-bbb0-892279bb2a7c\" class=\"colab-df-container\">\n",
              "    <div>\n",
              "<style scoped>\n",
              "    .dataframe tbody tr th:only-of-type {\n",
              "        vertical-align: middle;\n",
              "    }\n",
              "\n",
              "    .dataframe tbody tr th {\n",
              "        vertical-align: top;\n",
              "    }\n",
              "\n",
              "    .dataframe thead th {\n",
              "        text-align: right;\n",
              "    }\n",
              "</style>\n",
              "<table border=\"1\" class=\"dataframe\">\n",
              "  <thead>\n",
              "    <tr style=\"text-align: right;\">\n",
              "      <th></th>\n",
              "      <th>age</th>\n",
              "      <th>sex</th>\n",
              "      <th>bmi</th>\n",
              "      <th>children</th>\n",
              "      <th>smoker</th>\n",
              "      <th>region</th>\n",
              "      <th>charges</th>\n",
              "    </tr>\n",
              "  </thead>\n",
              "  <tbody>\n",
              "    <tr>\n",
              "      <th>0</th>\n",
              "      <td>19</td>\n",
              "      <td>female</td>\n",
              "      <td>27.900</td>\n",
              "      <td>0</td>\n",
              "      <td>yes</td>\n",
              "      <td>southwest</td>\n",
              "      <td>16884.92400</td>\n",
              "    </tr>\n",
              "    <tr>\n",
              "      <th>1</th>\n",
              "      <td>18</td>\n",
              "      <td>male</td>\n",
              "      <td>33.770</td>\n",
              "      <td>1</td>\n",
              "      <td>no</td>\n",
              "      <td>southeast</td>\n",
              "      <td>1725.55230</td>\n",
              "    </tr>\n",
              "    <tr>\n",
              "      <th>2</th>\n",
              "      <td>28</td>\n",
              "      <td>male</td>\n",
              "      <td>33.000</td>\n",
              "      <td>3</td>\n",
              "      <td>no</td>\n",
              "      <td>southeast</td>\n",
              "      <td>4449.46200</td>\n",
              "    </tr>\n",
              "    <tr>\n",
              "      <th>3</th>\n",
              "      <td>33</td>\n",
              "      <td>male</td>\n",
              "      <td>22.705</td>\n",
              "      <td>0</td>\n",
              "      <td>no</td>\n",
              "      <td>northwest</td>\n",
              "      <td>21984.47061</td>\n",
              "    </tr>\n",
              "    <tr>\n",
              "      <th>4</th>\n",
              "      <td>32</td>\n",
              "      <td>male</td>\n",
              "      <td>28.880</td>\n",
              "      <td>0</td>\n",
              "      <td>no</td>\n",
              "      <td>northwest</td>\n",
              "      <td>3866.85520</td>\n",
              "    </tr>\n",
              "  </tbody>\n",
              "</table>\n",
              "</div>\n",
              "    <div class=\"colab-df-buttons\">\n",
              "\n",
              "  <div class=\"colab-df-container\">\n",
              "    <button class=\"colab-df-convert\" onclick=\"convertToInteractive('df-f8498ef0-6ab5-4b7e-bbb0-892279bb2a7c')\"\n",
              "            title=\"Convert this dataframe to an interactive table.\"\n",
              "            style=\"display:none;\">\n",
              "\n",
              "  <svg xmlns=\"http://www.w3.org/2000/svg\" height=\"24px\" viewBox=\"0 -960 960 960\">\n",
              "    <path d=\"M120-120v-720h720v720H120Zm60-500h600v-160H180v160Zm220 220h160v-160H400v160Zm0 220h160v-160H400v160ZM180-400h160v-160H180v160Zm440 0h160v-160H620v160ZM180-180h160v-160H180v160Zm440 0h160v-160H620v160Z\"/>\n",
              "  </svg>\n",
              "    </button>\n",
              "\n",
              "  <style>\n",
              "    .colab-df-container {\n",
              "      display:flex;\n",
              "      gap: 12px;\n",
              "    }\n",
              "\n",
              "    .colab-df-convert {\n",
              "      background-color: #E8F0FE;\n",
              "      border: none;\n",
              "      border-radius: 50%;\n",
              "      cursor: pointer;\n",
              "      display: none;\n",
              "      fill: #1967D2;\n",
              "      height: 32px;\n",
              "      padding: 0 0 0 0;\n",
              "      width: 32px;\n",
              "    }\n",
              "\n",
              "    .colab-df-convert:hover {\n",
              "      background-color: #E2EBFA;\n",
              "      box-shadow: 0px 1px 2px rgba(60, 64, 67, 0.3), 0px 1px 3px 1px rgba(60, 64, 67, 0.15);\n",
              "      fill: #174EA6;\n",
              "    }\n",
              "\n",
              "    .colab-df-buttons div {\n",
              "      margin-bottom: 4px;\n",
              "    }\n",
              "\n",
              "    [theme=dark] .colab-df-convert {\n",
              "      background-color: #3B4455;\n",
              "      fill: #D2E3FC;\n",
              "    }\n",
              "\n",
              "    [theme=dark] .colab-df-convert:hover {\n",
              "      background-color: #434B5C;\n",
              "      box-shadow: 0px 1px 3px 1px rgba(0, 0, 0, 0.15);\n",
              "      filter: drop-shadow(0px 1px 2px rgba(0, 0, 0, 0.3));\n",
              "      fill: #FFFFFF;\n",
              "    }\n",
              "  </style>\n",
              "\n",
              "    <script>\n",
              "      const buttonEl =\n",
              "        document.querySelector('#df-f8498ef0-6ab5-4b7e-bbb0-892279bb2a7c button.colab-df-convert');\n",
              "      buttonEl.style.display =\n",
              "        google.colab.kernel.accessAllowed ? 'block' : 'none';\n",
              "\n",
              "      async function convertToInteractive(key) {\n",
              "        const element = document.querySelector('#df-f8498ef0-6ab5-4b7e-bbb0-892279bb2a7c');\n",
              "        const dataTable =\n",
              "          await google.colab.kernel.invokeFunction('convertToInteractive',\n",
              "                                                    [key], {});\n",
              "        if (!dataTable) return;\n",
              "\n",
              "        const docLinkHtml = 'Like what you see? Visit the ' +\n",
              "          '<a target=\"_blank\" href=https://colab.research.google.com/notebooks/data_table.ipynb>data table notebook</a>'\n",
              "          + ' to learn more about interactive tables.';\n",
              "        element.innerHTML = '';\n",
              "        dataTable['output_type'] = 'display_data';\n",
              "        await google.colab.output.renderOutput(dataTable, element);\n",
              "        const docLink = document.createElement('div');\n",
              "        docLink.innerHTML = docLinkHtml;\n",
              "        element.appendChild(docLink);\n",
              "      }\n",
              "    </script>\n",
              "  </div>\n",
              "\n",
              "\n",
              "<div id=\"df-de85bcb1-79bc-40b8-90d2-e4fa021688b6\">\n",
              "  <button class=\"colab-df-quickchart\" onclick=\"quickchart('df-de85bcb1-79bc-40b8-90d2-e4fa021688b6')\"\n",
              "            title=\"Suggest charts\"\n",
              "            style=\"display:none;\">\n",
              "\n",
              "<svg xmlns=\"http://www.w3.org/2000/svg\" height=\"24px\"viewBox=\"0 0 24 24\"\n",
              "     width=\"24px\">\n",
              "    <g>\n",
              "        <path d=\"M19 3H5c-1.1 0-2 .9-2 2v14c0 1.1.9 2 2 2h14c1.1 0 2-.9 2-2V5c0-1.1-.9-2-2-2zM9 17H7v-7h2v7zm4 0h-2V7h2v10zm4 0h-2v-4h2v4z\"/>\n",
              "    </g>\n",
              "</svg>\n",
              "  </button>\n",
              "\n",
              "<style>\n",
              "  .colab-df-quickchart {\n",
              "      --bg-color: #E8F0FE;\n",
              "      --fill-color: #1967D2;\n",
              "      --hover-bg-color: #E2EBFA;\n",
              "      --hover-fill-color: #174EA6;\n",
              "      --disabled-fill-color: #AAA;\n",
              "      --disabled-bg-color: #DDD;\n",
              "  }\n",
              "\n",
              "  [theme=dark] .colab-df-quickchart {\n",
              "      --bg-color: #3B4455;\n",
              "      --fill-color: #D2E3FC;\n",
              "      --hover-bg-color: #434B5C;\n",
              "      --hover-fill-color: #FFFFFF;\n",
              "      --disabled-bg-color: #3B4455;\n",
              "      --disabled-fill-color: #666;\n",
              "  }\n",
              "\n",
              "  .colab-df-quickchart {\n",
              "    background-color: var(--bg-color);\n",
              "    border: none;\n",
              "    border-radius: 50%;\n",
              "    cursor: pointer;\n",
              "    display: none;\n",
              "    fill: var(--fill-color);\n",
              "    height: 32px;\n",
              "    padding: 0;\n",
              "    width: 32px;\n",
              "  }\n",
              "\n",
              "  .colab-df-quickchart:hover {\n",
              "    background-color: var(--hover-bg-color);\n",
              "    box-shadow: 0 1px 2px rgba(60, 64, 67, 0.3), 0 1px 3px 1px rgba(60, 64, 67, 0.15);\n",
              "    fill: var(--button-hover-fill-color);\n",
              "  }\n",
              "\n",
              "  .colab-df-quickchart-complete:disabled,\n",
              "  .colab-df-quickchart-complete:disabled:hover {\n",
              "    background-color: var(--disabled-bg-color);\n",
              "    fill: var(--disabled-fill-color);\n",
              "    box-shadow: none;\n",
              "  }\n",
              "\n",
              "  .colab-df-spinner {\n",
              "    border: 2px solid var(--fill-color);\n",
              "    border-color: transparent;\n",
              "    border-bottom-color: var(--fill-color);\n",
              "    animation:\n",
              "      spin 1s steps(1) infinite;\n",
              "  }\n",
              "\n",
              "  @keyframes spin {\n",
              "    0% {\n",
              "      border-color: transparent;\n",
              "      border-bottom-color: var(--fill-color);\n",
              "      border-left-color: var(--fill-color);\n",
              "    }\n",
              "    20% {\n",
              "      border-color: transparent;\n",
              "      border-left-color: var(--fill-color);\n",
              "      border-top-color: var(--fill-color);\n",
              "    }\n",
              "    30% {\n",
              "      border-color: transparent;\n",
              "      border-left-color: var(--fill-color);\n",
              "      border-top-color: var(--fill-color);\n",
              "      border-right-color: var(--fill-color);\n",
              "    }\n",
              "    40% {\n",
              "      border-color: transparent;\n",
              "      border-right-color: var(--fill-color);\n",
              "      border-top-color: var(--fill-color);\n",
              "    }\n",
              "    60% {\n",
              "      border-color: transparent;\n",
              "      border-right-color: var(--fill-color);\n",
              "    }\n",
              "    80% {\n",
              "      border-color: transparent;\n",
              "      border-right-color: var(--fill-color);\n",
              "      border-bottom-color: var(--fill-color);\n",
              "    }\n",
              "    90% {\n",
              "      border-color: transparent;\n",
              "      border-bottom-color: var(--fill-color);\n",
              "    }\n",
              "  }\n",
              "</style>\n",
              "\n",
              "  <script>\n",
              "    async function quickchart(key) {\n",
              "      const quickchartButtonEl =\n",
              "        document.querySelector('#' + key + ' button');\n",
              "      quickchartButtonEl.disabled = true;  // To prevent multiple clicks.\n",
              "      quickchartButtonEl.classList.add('colab-df-spinner');\n",
              "      try {\n",
              "        const charts = await google.colab.kernel.invokeFunction(\n",
              "            'suggestCharts', [key], {});\n",
              "      } catch (error) {\n",
              "        console.error('Error during call to suggestCharts:', error);\n",
              "      }\n",
              "      quickchartButtonEl.classList.remove('colab-df-spinner');\n",
              "      quickchartButtonEl.classList.add('colab-df-quickchart-complete');\n",
              "    }\n",
              "    (() => {\n",
              "      let quickchartButtonEl =\n",
              "        document.querySelector('#df-de85bcb1-79bc-40b8-90d2-e4fa021688b6 button');\n",
              "      quickchartButtonEl.style.display =\n",
              "        google.colab.kernel.accessAllowed ? 'block' : 'none';\n",
              "    })();\n",
              "  </script>\n",
              "</div>\n",
              "    </div>\n",
              "  </div>\n"
            ],
            "application/vnd.google.colaboratory.intrinsic+json": {
              "type": "dataframe",
              "variable_name": "df",
              "summary": "{\n  \"name\": \"df\",\n  \"rows\": 1338,\n  \"fields\": [\n    {\n      \"column\": \"age\",\n      \"properties\": {\n        \"dtype\": \"number\",\n        \"std\": 14,\n        \"min\": 18,\n        \"max\": 64,\n        \"num_unique_values\": 47,\n        \"samples\": [\n          21,\n          45,\n          36\n        ],\n        \"semantic_type\": \"\",\n        \"description\": \"\"\n      }\n    },\n    {\n      \"column\": \"sex\",\n      \"properties\": {\n        \"dtype\": \"category\",\n        \"num_unique_values\": 2,\n        \"samples\": [\n          \"male\",\n          \"female\"\n        ],\n        \"semantic_type\": \"\",\n        \"description\": \"\"\n      }\n    },\n    {\n      \"column\": \"bmi\",\n      \"properties\": {\n        \"dtype\": \"number\",\n        \"std\": 6.098186911679014,\n        \"min\": 15.96,\n        \"max\": 53.13,\n        \"num_unique_values\": 548,\n        \"samples\": [\n          23.18,\n          26.885\n        ],\n        \"semantic_type\": \"\",\n        \"description\": \"\"\n      }\n    },\n    {\n      \"column\": \"children\",\n      \"properties\": {\n        \"dtype\": \"number\",\n        \"std\": 1,\n        \"min\": 0,\n        \"max\": 5,\n        \"num_unique_values\": 6,\n        \"samples\": [\n          0,\n          1\n        ],\n        \"semantic_type\": \"\",\n        \"description\": \"\"\n      }\n    },\n    {\n      \"column\": \"smoker\",\n      \"properties\": {\n        \"dtype\": \"category\",\n        \"num_unique_values\": 2,\n        \"samples\": [\n          \"no\",\n          \"yes\"\n        ],\n        \"semantic_type\": \"\",\n        \"description\": \"\"\n      }\n    },\n    {\n      \"column\": \"region\",\n      \"properties\": {\n        \"dtype\": \"category\",\n        \"num_unique_values\": 4,\n        \"samples\": [\n          \"southeast\",\n          \"northeast\"\n        ],\n        \"semantic_type\": \"\",\n        \"description\": \"\"\n      }\n    },\n    {\n      \"column\": \"charges\",\n      \"properties\": {\n        \"dtype\": \"number\",\n        \"std\": 12110.011236694001,\n        \"min\": 1121.8739,\n        \"max\": 63770.42801,\n        \"num_unique_values\": 1337,\n        \"samples\": [\n          8688.85885,\n          5708.867\n        ],\n        \"semantic_type\": \"\",\n        \"description\": \"\"\n      }\n    }\n  ]\n}"
            }
          },
          "metadata": {},
          "execution_count": 20
        }
      ]
    },
    {
      "cell_type": "markdown",
      "source": [
        "# Objetivo\n",
        "\n",
        "Generar un model de regresión capaz de predecir el valor del seguro en base a las características del cliente.\n",
        "\n",
        "* Aplicar las técnicas oportunas de procesamiento de datos\n",
        "\n",
        "* Valorar diferentes modelos de regresión\n",
        "\n",
        "* Comparación entre modelos\n",
        "\n",
        "* Ensemble\n",
        "\n",
        "* Métricas\n",
        "\n",
        "* Conclusiones finales"
      ],
      "metadata": {
        "id": "suOncPeIo2Ln"
      }
    },
    {
      "cell_type": "markdown",
      "source": [
        "## Implementación"
      ],
      "metadata": {
        "id": "Ee-3csHRJxqW"
      }
    },
    {
      "cell_type": "markdown",
      "source": [
        "## Empieza la limpieza del dataset"
      ],
      "metadata": {
        "id": "8yi9vp82i84R"
      }
    },
    {
      "cell_type": "code",
      "source": [
        "# Identificar valores faltantes en el dataset\n",
        "missing_values = df.isnull().sum()\n",
        "\n",
        "# Mostrar las columnas con valores faltantes y su cantidad\n",
        "print(\"Valores faltantes por columna:\")\n",
        "print(missing_values)\n"
      ],
      "metadata": {
        "id": "oGEq8EGTpp7g",
        "colab": {
          "base_uri": "https://localhost:8080/"
        },
        "outputId": "19364ae7-acbc-467b-b0d8-6de4fc7705de"
      },
      "execution_count": 21,
      "outputs": [
        {
          "output_type": "stream",
          "name": "stdout",
          "text": [
            "Valores faltantes por columna:\n",
            "age         0\n",
            "sex         0\n",
            "bmi         0\n",
            "children    0\n",
            "smoker      0\n",
            "region      0\n",
            "charges     0\n",
            "dtype: int64\n"
          ]
        }
      ]
    },
    {
      "cell_type": "code",
      "source": [
        "# Verificar columnas categóricas con un solo nivel\n",
        "single_level_categorical = []\n",
        "for column in df.columns:\n",
        "    if df[column].nunique() == 1:\n",
        "        single_level_categorical.append(column)\n",
        "\n",
        "# Verificar columnas numéricas con un solo valor\n",
        "single_value_numeric = []\n",
        "for column in df.select_dtypes(include='number').columns:\n",
        "    if df[column].nunique() == 1:\n",
        "        single_value_numeric.append(column)\n",
        "\n",
        "# Mostrar columnas irrelevantes encontradas\n",
        "print(\"Columnas categóricas con un solo nivel:\", single_level_categorical)\n",
        "print(\"Columnas numéricas con un solo valor:\", single_value_numeric)\n"
      ],
      "metadata": {
        "colab": {
          "base_uri": "https://localhost:8080/"
        },
        "id": "Dup9I_NVWHgw",
        "outputId": "0b8f5543-459d-4a55-cf19-bdc09998700c"
      },
      "execution_count": 22,
      "outputs": [
        {
          "output_type": "stream",
          "name": "stdout",
          "text": [
            "Columnas categóricas con un solo nivel: []\n",
            "Columnas numéricas con un solo valor: []\n"
          ]
        }
      ]
    },
    {
      "cell_type": "code",
      "source": [
        "# Contar filas duplicadas\n",
        "duplicates_count = df[df.duplicated()].shape[0]\n",
        "\n",
        "# Mostrar el número de filas duplicadas\n",
        "print(\"Número de filas duplicadas:\", duplicates_count)\n"
      ],
      "metadata": {
        "colab": {
          "base_uri": "https://localhost:8080/"
        },
        "id": "cwa4IurHWLWR",
        "outputId": "f8b82d9b-9618-48c7-b2e2-714fb1484921"
      },
      "execution_count": 23,
      "outputs": [
        {
          "output_type": "stream",
          "name": "stdout",
          "text": [
            "Número de filas duplicadas: 1\n"
          ]
        }
      ]
    },
    {
      "cell_type": "code",
      "source": [
        "# Eliminar filas con valores faltantes\n",
        "df_clean = df.dropna()\n",
        "\n",
        "# Contar filas duplicadas antes de eliminarlas\n",
        "duplicates_before = df_clean[df_clean.duplicated()].shape[0]\n",
        "\n",
        "# Eliminar filas duplicadas\n",
        "df_clean = df_clean.drop_duplicates()\n",
        "\n",
        "# Contar filas duplicadas después de eliminarlas\n",
        "duplicates_after = df_clean[df_clean.duplicated()].shape[0]\n",
        "\n",
        "# Mostrar el número de filas duplicadas antes y después de la eliminación\n",
        "print(\"Número de filas duplicadas antes de eliminarlas:\", duplicates_before)\n",
        "print(\"Número de filas duplicadas después de eliminarlas:\", duplicates_after)\n",
        "\n",
        "# Mostrar la cantidad de filas después de la limpieza completa\n",
        "print(\"Número de filas después de la limpieza completa:\", df_clean.shape[0])"
      ],
      "metadata": {
        "colab": {
          "base_uri": "https://localhost:8080/"
        },
        "id": "Y2ZQtRECWOz5",
        "outputId": "6f119b4d-6289-4ac9-b81e-d1308e67999e"
      },
      "execution_count": 24,
      "outputs": [
        {
          "output_type": "stream",
          "name": "stdout",
          "text": [
            "Número de filas duplicadas antes de eliminarlas: 1\n",
            "Número de filas duplicadas después de eliminarlas: 0\n",
            "Número de filas después de la limpieza completa: 1337\n"
          ]
        }
      ]
    },
    {
      "cell_type": "code",
      "source": [
        "# Seleccionar solo las columnas numéricas de interés\n",
        "numeric_columns = [\"age\", \"bmi\", \"children\" ]\n",
        "df_numeric = df_clean[numeric_columns]\n",
        "\n",
        "# Verificar si hay valores negativos en las columnas numéricas\n",
        "negative_values = df_numeric[df_numeric < 0].any()\n",
        "\n",
        "# Mostrar si hay algún valor negativo en las variables numéricas seleccionadas\n",
        "print(\"¿Hay algún valor negativo en las variables numéricas seleccionadas?\")\n",
        "print(negative_values)"
      ],
      "metadata": {
        "colab": {
          "base_uri": "https://localhost:8080/"
        },
        "id": "XiSIVyRJWYd5",
        "outputId": "ea260f21-c88f-46b2-8598-eefd315bad97"
      },
      "execution_count": 25,
      "outputs": [
        {
          "output_type": "stream",
          "name": "stdout",
          "text": [
            "¿Hay algún valor negativo en las variables numéricas seleccionadas?\n",
            "age         False\n",
            "bmi         False\n",
            "children    False\n",
            "dtype: bool\n"
          ]
        }
      ]
    },
    {
      "cell_type": "code",
      "source": [
        "# Mostrar los 25 valores máximos de la columna \"age\"\n",
        "max_age = df_clean['age'].nlargest(25)\n",
        "print(\"Los 25 valores máximos de 'age' son:\")\n",
        "print(max_age)\n"
      ],
      "metadata": {
        "colab": {
          "base_uri": "https://localhost:8080/"
        },
        "id": "nYBWxGNyXT0B",
        "outputId": "898d99ce-d0eb-405b-b81c-140f5ba17b00"
      },
      "execution_count": 26,
      "outputs": [
        {
          "output_type": "stream",
          "name": "stdout",
          "text": [
            "Los 25 valores máximos de 'age' son:\n",
            "62      64\n",
            "94      64\n",
            "199     64\n",
            "328     64\n",
            "335     64\n",
            "378     64\n",
            "398     64\n",
            "402     64\n",
            "418     64\n",
            "420     64\n",
            "534     64\n",
            "603     64\n",
            "635     64\n",
            "664     64\n",
            "752     64\n",
            "768     64\n",
            "801     64\n",
            "825     64\n",
            "890     64\n",
            "1051    64\n",
            "1241    64\n",
            "1265    64\n",
            "26      63\n",
            "33      63\n",
            "109     63\n",
            "Name: age, dtype: int64\n"
          ]
        }
      ]
    },
    {
      "cell_type": "code",
      "source": [
        "# Mostrar el valor máximo de la columna \"day\"\n",
        "max_children = df_clean['children'].max()\n",
        "print(\"El valor máximo de 'children' es:\", max_children)\n",
        "\n",
        "# Mostrar el valor mínimo de la columna \"day\"\n",
        "min_children = df_clean['children'].min()\n",
        "print(\"El valor mínimo de 'children' es:\", min_children)\n"
      ],
      "metadata": {
        "colab": {
          "base_uri": "https://localhost:8080/"
        },
        "id": "RAV6SxJnXQPb",
        "outputId": "16878ed5-8d67-48a5-f2b9-a66f6d2d0225"
      },
      "execution_count": 27,
      "outputs": [
        {
          "output_type": "stream",
          "name": "stdout",
          "text": [
            "El valor máximo de 'children' es: 5\n",
            "El valor mínimo de 'children' es: 0\n"
          ]
        }
      ]
    },
    {
      "cell_type": "code",
      "source": [
        "# Mostrar el valor máximo de la columna \"day\"\n",
        "max_children = df_clean['bmi'].max()\n",
        "print(\"El valor máximo de 'bmi' es:\", max_children)\n",
        "\n",
        "# Mostrar el valor mínimo de la columna \"day\"\n",
        "min_children = df_clean['bmi'].min()\n",
        "print(\"El valor mínimo de 'bmi' es:\", min_children)\n"
      ],
      "metadata": {
        "colab": {
          "base_uri": "https://localhost:8080/"
        },
        "id": "QMZ12sw9Xmyi",
        "outputId": "8d04344d-f9da-4739-8bcf-9df2acecf9ae"
      },
      "execution_count": 28,
      "outputs": [
        {
          "output_type": "stream",
          "name": "stdout",
          "text": [
            "El valor máximo de 'bmi' es: 53.13\n",
            "El valor mínimo de 'bmi' es: 15.96\n"
          ]
        }
      ]
    },
    {
      "cell_type": "code",
      "source": [
        "# Obtener las columnas categóricas del DataFrame\n",
        "columnas_categoricas = df.select_dtypes(include=['object']).columns\n",
        "\n",
        "# Iterar sobre las columnas categóricas para imprimir las categorías únicas\n",
        "for columna in columnas_categoricas:\n",
        "    print(\"Categorías únicas en la columna '{}':\".format(columna))\n",
        "    print(df[columna].unique())\n",
        "    print()  # Agregar una línea en blanco para separar las categorías de cada columna\n"
      ],
      "metadata": {
        "colab": {
          "base_uri": "https://localhost:8080/"
        },
        "id": "mkO6bX8lX0Pd",
        "outputId": "c2eddc3c-ee0e-4214-8bef-c7e0d1aea023"
      },
      "execution_count": 29,
      "outputs": [
        {
          "output_type": "stream",
          "name": "stdout",
          "text": [
            "Categorías únicas en la columna 'sex':\n",
            "['female' 'male']\n",
            "\n",
            "Categorías únicas en la columna 'smoker':\n",
            "['yes' 'no']\n",
            "\n",
            "Categorías únicas en la columna 'region':\n",
            "['southwest' 'southeast' 'northwest' 'northeast']\n",
            "\n"
          ]
        }
      ]
    },
    {
      "cell_type": "code",
      "source": [
        "import pandas as pd\n",
        "\n",
        "# Suponiendo que 'df' es tu DataFrame\n",
        "# Si estás trabajando en Google Colab y tienes un archivo CSV, puedes cargarlo así:\n",
        "# df = pd.read_csv(\"nombre_del_archivo.csv\")\n",
        "\n",
        "# Para verificar si hay valores nulos en el DataFrame\n",
        "if df.isnull().values.any():\n",
        "    print(\"Se encontraron valores nulos en el DataFrame.\")\n",
        "    # Si deseas ver la cantidad de valores nulos por columna, puedes usar:\n",
        "    print(df.isnull().sum())\n",
        "else:\n",
        "    print(\"No se encontraron valores nulos en el DataFrame.\")\n"
      ],
      "metadata": {
        "colab": {
          "base_uri": "https://localhost:8080/"
        },
        "id": "qxEy53b_X8Q-",
        "outputId": "8cf51eeb-ce0c-444e-f0bc-70903d0f8e50"
      },
      "execution_count": 30,
      "outputs": [
        {
          "output_type": "stream",
          "name": "stdout",
          "text": [
            "No se encontraron valores nulos en el DataFrame.\n"
          ]
        }
      ]
    },
    {
      "cell_type": "code",
      "source": [
        "import matplotlib.pyplot as plt\n",
        "\n",
        "# Boxplot\n",
        "df.boxplot()\n",
        "plt.show()\n"
      ],
      "metadata": {
        "colab": {
          "base_uri": "https://localhost:8080/",
          "height": 430
        },
        "id": "u0puM80NewXw",
        "outputId": "9e240ce3-5047-4eca-d765-ed0797e36391"
      },
      "execution_count": 31,
      "outputs": [
        {
          "output_type": "display_data",
          "data": {
            "text/plain": [
              "<Figure size 640x480 with 1 Axes>"
            ],
            "image/png": "[encoded data removed]"
          },
          "metadata": {}
        }
      ]
    },
    {
      "cell_type": "code",
      "source": [
        "import pandas as pd\n",
        "\n",
        "# Suponiendo que 'df' es tu DataFrame\n",
        "\n",
        "# Iterar sobre cada columna del DataFrame\n",
        "for column in df.columns:\n",
        "    # Obtener los valores únicos de la columna actual\n",
        "    unique_values = df[column].unique()\n",
        "\n",
        "    # Imprimir el nombre de la columna y los valores únicos\n",
        "    print(f\"Valores únicos en la columna '{column}':\")\n",
        "    print(unique_values)\n",
        "    print()\n"
      ],
      "metadata": {
        "colab": {
          "base_uri": "https://localhost:8080/"
        },
        "id": "cTR5kzkUgVkv",
        "outputId": "603e912a-590b-41cc-81fc-8d2954b795a2"
      },
      "execution_count": 32,
      "outputs": [
        {
          "output_type": "stream",
          "name": "stdout",
          "text": [
            "Valores únicos en la columna 'age':\n",
            "[19 18 28 33 32 31 46 37 60 25 62 23 56 27 52 30 34 59 63 55 22 26 35 24\n",
            " 41 38 36 21 48 40 58 53 43 64 20 61 44 57 29 45 54 49 47 51 42 50 39]\n",
            "\n",
            "Valores únicos en la columna 'sex':\n",
            "['female' 'male']\n",
            "\n",
            "Valores únicos en la columna 'bmi':\n",
            "[27.9   33.77  33.    22.705 28.88  25.74  33.44  27.74  29.83  25.84\n",
            " 26.22  26.29  34.4   39.82  42.13  24.6   30.78  23.845 40.3   35.3\n",
            " 36.005 32.4   34.1   31.92  28.025 27.72  23.085 32.775 17.385 36.3\n",
            " 35.6   26.315 28.6   28.31  36.4   20.425 32.965 20.8   36.67  39.9\n",
            " 26.6   36.63  21.78  30.8   37.05  37.3   38.665 34.77  24.53  35.2\n",
            " 35.625 33.63  28.    34.43  28.69  36.955 31.825 31.68  22.88  37.335\n",
            " 27.36  33.66  24.7   25.935 22.42  28.9   39.1   36.19  23.98  24.75\n",
            " 28.5   28.1   32.01  27.4   34.01  29.59  35.53  39.805 26.885 38.285\n",
            " 37.62  41.23  34.8   22.895 31.16  27.2   26.98  39.49  24.795 31.3\n",
            " 38.28  19.95  19.3   31.6   25.46  30.115 29.92  27.5   28.4   30.875\n",
            " 27.94  35.09  29.7   35.72  32.205 28.595 49.06  27.17  23.37  37.1\n",
            " 23.75  28.975 31.35  33.915 28.785 28.3   37.4   17.765 34.7   26.505\n",
            " 22.04  35.9   25.555 28.05  25.175 31.9   36.    32.49  25.3   29.735\n",
            " 38.83  30.495 37.73  37.43  24.13  37.145 39.52  24.42  27.83  36.85\n",
            " 39.6   29.8   29.64  28.215 37.    33.155 18.905 41.47  30.3   15.96\n",
            " 33.345 37.7   27.835 29.2   26.41  30.69  41.895 30.9   32.2   32.11\n",
            " 31.57  26.2   30.59  32.8   18.05  39.33  32.23  24.035 36.08  22.3\n",
            " 26.4   31.8   26.73  23.1   23.21  33.7   33.25  24.64  33.88  38.06\n",
            " 41.91  31.635 36.195 17.8   24.51  22.22  38.39  29.07  22.135 26.8\n",
            " 30.02  35.86  20.9   17.29  34.21  25.365 40.15  24.415 25.2   26.84\n",
            " 24.32  42.35  19.8   32.395 30.2   29.37  34.2   27.455 27.55  20.615\n",
            " 24.3   31.79  21.56  28.12  40.565 27.645 31.2   26.62  48.07  36.765\n",
            " 33.4   45.54  28.82  22.99  27.7   25.41  34.39  22.61  37.51  38.\n",
            " 33.33  34.865 33.06  35.97  31.4   25.27  40.945 34.105 36.48  33.8\n",
            " 36.7   36.385 34.5   32.3   27.6   29.26  35.75  23.18  25.6   35.245\n",
            " 43.89  20.79  30.5   21.7   21.89  24.985 32.015 30.4   21.09  22.23\n",
            " 32.9   24.89  31.46  17.955 30.685 43.34  39.05  30.21  31.445 19.855\n",
            " 31.02  38.17  20.6   47.52  20.4   38.38  24.31  23.6   21.12  30.03\n",
            " 17.48  20.235 17.195 23.9   35.15  35.64  22.6   39.16  27.265 29.165\n",
            " 16.815 33.1   26.9   33.11  31.73  46.75  29.45  32.68  33.5   43.01\n",
            " 36.52  26.695 25.65  29.6   38.6   23.4   46.53  30.14  30.    38.095\n",
            " 28.38  28.7   33.82  24.09  32.67  25.1   32.56  41.325 39.5   34.3\n",
            " 31.065 21.47  25.08  43.4   25.7   27.93  39.2   26.03  30.25  28.93\n",
            " 35.7   35.31  31.    44.22  26.07  25.8   39.425 40.48  38.9   47.41\n",
            " 35.435 46.7   46.2   21.4   23.8   44.77  32.12  29.1   37.29  43.12\n",
            " 36.86  34.295 23.465 45.43  23.65  20.7   28.27  35.91  29.    19.57\n",
            " 31.13  21.85  40.26  33.725 29.48  32.6   37.525 23.655 37.8   19.\n",
            " 21.3   33.535 42.46  38.95  36.1   29.3   39.7   38.19  42.4   34.96\n",
            " 42.68  31.54  29.81  21.375 40.81  17.4   20.3   18.5   26.125 41.69\n",
            " 24.1   36.2   40.185 39.27  34.87  44.745 29.545 23.54  40.47  40.66\n",
            " 36.6   35.4   27.075 28.405 21.755 40.28  30.1   32.1   23.7   35.5\n",
            " 29.15  27.    37.905 22.77  22.8   34.58  27.1   19.475 26.7   34.32\n",
            " 24.4   41.14  22.515 41.8   26.18  42.24  26.51  35.815 41.42  36.575\n",
            " 42.94  21.01  24.225 17.67  31.5   31.1   32.78  32.45  50.38  47.6\n",
            " 25.4   29.9   43.7   24.86  28.8   29.5   29.04  38.94  44.    20.045\n",
            " 40.92  35.1   29.355 32.585 32.34  39.8   24.605 33.99  28.2   25.\n",
            " 33.2   23.2   20.1   32.5   37.18  46.09  39.93  35.8   31.255 18.335\n",
            " 42.9   26.79  39.615 25.9   25.745 28.16  23.56  40.5   35.42  39.995\n",
            " 34.675 20.52  23.275 36.29  32.7   19.19  20.13  23.32  45.32  34.6\n",
            " 18.715 21.565 23.    37.07  52.58  42.655 21.66  32.    18.3   47.74\n",
            " 22.1   19.095 31.24  29.925 20.35  25.85  42.75  18.6   23.87  45.9\n",
            " 21.5   30.305 44.88  41.1   40.37  28.49  33.55  40.375 27.28  17.86\n",
            " 33.3   39.14  21.945 24.97  23.94  34.485 21.8   23.3   36.96  21.28\n",
            " 29.4   27.3   37.9   37.715 23.76  25.52  27.61  27.06  39.4   34.9\n",
            " 22.    30.36  27.8   53.13  39.71  32.87  44.7   30.97 ]\n",
            "\n",
            "Valores únicos en la columna 'children':\n",
            "[0 1 3 2 5 4]\n",
            "\n",
            "Valores únicos en la columna 'smoker':\n",
            "['yes' 'no']\n",
            "\n",
            "Valores únicos en la columna 'region':\n",
            "['southwest' 'southeast' 'northwest' 'northeast']\n",
            "\n",
            "Valores únicos en la columna 'charges':\n",
            "[16884.924   1725.5523  4449.462  ...  1629.8335  2007.945  29141.3603]\n",
            "\n"
          ]
        }
      ]
    },
    {
      "cell_type": "code",
      "source": [
        "from sklearn.preprocessing import StandardScaler\n",
        "import pandas as pd\n",
        "\n",
        "# Suponiendo que 'df' es tu DataFrame con las características que deseas escalar\n",
        "# Selecciona las características numéricas que deseas escalar\n",
        "numeric_features = ['age', 'bmi', 'children']\n",
        "\n",
        "# Crea un StandardScaler\n",
        "scaler = StandardScaler()\n",
        "\n",
        "# Ajusta el scaler a tus datos y transforma las características\n",
        "df[numeric_features] = scaler.fit_transform(df[numeric_features])\n",
        "\n",
        "# Ahora df contiene las características escaladas\n",
        "# Puedes usar df para entrenar tus modelos de Random Forest, Decision Trees, SVR, etc.\n"
      ],
      "metadata": {
        "id": "2zNwN8s8h8zi"
      },
      "execution_count": 33,
      "outputs": []
    },
    {
      "cell_type": "code",
      "source": [
        "import pandas as pd\n",
        "import matplotlib.pyplot as plt\n",
        "\n",
        "# Suponiendo que 'df' es tu DataFrame que contiene todas las variables, incluida 'charges'\n",
        "\n",
        "# Codifica las variables categóricas utilizando one-hot encoding\n",
        "df_encoded = pd.get_dummies(df)\n",
        "\n",
        "# Calcula la matriz de correlación\n",
        "correlation_matrix = df_encoded.corr()\n",
        "\n",
        "# Encuentra la correlación de 'charges' con todas las variables\n",
        "charges_correlation = correlation_matrix['charges'].drop('charges')\n",
        "\n",
        "# Crea un gráfico de barras horizontales\n",
        "plt.figure(figsize=(10, 6))\n",
        "charges_correlation.plot(kind='barh')\n",
        "plt.title('Correlación con la variable objetivo (charges)')\n",
        "plt.xlabel('Correlación')\n",
        "plt.ylabel('Variable')\n",
        "plt.grid(axis='x')\n",
        "plt.show()\n"
      ],
      "metadata": {
        "colab": {
          "base_uri": "https://localhost:8080/",
          "height": 565
        },
        "id": "iDgghNLjiyyv",
        "outputId": "ccb0935d-4fd9-4d4d-9cbe-607f86a1af5c"
      },
      "execution_count": 34,
      "outputs": [
        {
          "output_type": "display_data",
          "data": {
            "text/plain": [
              "<Figure size 1000x600 with 1 Axes>"
            ],
            "image/png": "[encoded data removed]"
          },
          "metadata": {}
        }
      ]
    },
    {
      "cell_type": "code",
      "source": [
        "import pandas as pd\n",
        "\n",
        "# Suponiendo que 'df' es tu DataFrame que contiene todas las variables, incluidas 'charges' y 'smoker'\n",
        "\n",
        "# Calcula las estadísticas descriptivas de 'charges' para fumadores y no fumadores\n",
        "charges_stats = df.groupby('smoker')['charges'].describe()\n",
        "\n",
        "print(\"Estadísticas descriptivas de los cargos médicos para fumadores:\")\n",
        "print(charges_stats.loc['yes'])\n",
        "print(\"\\nEstadísticas descriptivas de los cargos médicos para no fumadores:\")\n",
        "print(charges_stats.loc['no'])\n"
      ],
      "metadata": {
        "colab": {
          "base_uri": "https://localhost:8080/"
        },
        "id": "jHm_APL4jWl2",
        "outputId": "346df891-bc9b-4539-f7ec-d889b529dad9"
      },
      "execution_count": 35,
      "outputs": [
        {
          "output_type": "stream",
          "name": "stdout",
          "text": [
            "Estadísticas descriptivas de los cargos médicos para fumadores:\n",
            "count      274.000000\n",
            "mean     32050.231832\n",
            "std      11541.547176\n",
            "min      12829.455100\n",
            "25%      20826.244213\n",
            "50%      34456.348450\n",
            "75%      41019.207275\n",
            "max      63770.428010\n",
            "Name: yes, dtype: float64\n",
            "\n",
            "Estadísticas descriptivas de los cargos médicos para no fumadores:\n",
            "count     1064.000000\n",
            "mean      8434.268298\n",
            "std       5993.781819\n",
            "min       1121.873900\n",
            "25%       3986.438700\n",
            "50%       7345.405300\n",
            "75%      11362.887050\n",
            "max      36910.608030\n",
            "Name: no, dtype: float64\n"
          ]
        }
      ]
    },
    {
      "cell_type": "markdown",
      "source": [
        "# Empezamos a probar modelos"
      ],
      "metadata": {
        "id": "20UBvtM4jHPb"
      }
    },
    {
      "cell_type": "markdown",
      "source": [
        "## RANDOM FOREST\n",
        "RMSE: 4588.16"
      ],
      "metadata": {
        "id": "qxxX1Pb5qyvw"
      }
    },
    {
      "cell_type": "code",
      "source": [
        "import pandas as pd\n",
        "from sklearn.model_selection import train_test_split\n",
        "from sklearn.ensemble import RandomForestRegressor\n",
        "from sklearn.metrics import mean_absolute_error, mean_squared_error, r2_score\n",
        "\n",
        "# Suponiendo que 'df' es tu DataFrame que contiene todas las variables, incluida 'charges'\n",
        "\n",
        "# Convertir variables categóricas en variables numéricas usando one-hot encoding\n",
        "df_encoded = pd.get_dummies(df)\n",
        "\n",
        "# Dividir el conjunto de datos en características (X) y la variable objetivo (y)\n",
        "X = df_encoded.drop('charges', axis=1)  # Características\n",
        "y = df_encoded['charges']  # Variable objetivo\n",
        "\n",
        "# Dividir los datos en conjuntos de entrenamiento y prueba\n",
        "X_train, X_test, y_train, y_test = train_test_split(X, y, test_size=0.2, random_state=42)\n",
        "\n",
        "# Inicializar el modelo de Random Forest\n",
        "rf_model = RandomForestRegressor(n_estimators=100, random_state=42)\n",
        "\n",
        "# Entrenar el modelo\n",
        "rf_model.fit(X_train, y_train)\n",
        "\n",
        "# Predecir en el conjunto de prueba\n",
        "y_pred = rf_model.predict(X_test)\n",
        "\n",
        "# Calcular métricas de evaluación\n",
        "mae = mean_absolute_error(y_test, y_pred)\n",
        "mse = mean_squared_error(y_test, y_pred)\n",
        "rmse = mean_squared_error(y_test, y_pred, squared=False)\n",
        "r2 = r2_score(y_test, y_pred)\n",
        "\n",
        "# Imprimir métricas de evaluación\n",
        "print(\"Métricas de evaluación del modelo:\")\n",
        "print(f\"MAE: {mae:.2f}\")\n",
        "print(f\"MSE: {mse:.2f}\")\n",
        "print(f\"RMSE: {rmse:.2f}\")\n",
        "print(f\"R^2 Score: {r2:.2f}\")\n"
      ],
      "metadata": {
        "colab": {
          "base_uri": "https://localhost:8080/"
        },
        "id": "BdOoBLF0kStz",
        "outputId": "66dc3857-b860-42f0-e11a-4894f8718470"
      },
      "execution_count": 36,
      "outputs": [
        {
          "output_type": "stream",
          "name": "stdout",
          "text": [
            "Métricas de evaluación del modelo:\n",
            "MAE: 2540.99\n",
            "MSE: 21051201.60\n",
            "RMSE: 4588.16\n",
            "R^2 Score: 0.86\n"
          ]
        }
      ]
    },
    {
      "cell_type": "markdown",
      "source": [
        "## SVR\n",
        "RMSE: 11337.61"
      ],
      "metadata": {
        "id": "JPT8rt_2q-x6"
      }
    },
    {
      "cell_type": "code",
      "source": [
        "import pandas as pd\n",
        "from sklearn.model_selection import train_test_split, GridSearchCV\n",
        "from sklearn.svm import SVR\n",
        "from sklearn.metrics import mean_absolute_error, mean_squared_error, r2_score\n",
        "\n",
        "# Suponiendo que 'df' es tu DataFrame que contiene todas las variables, incluida 'charges'\n",
        "\n",
        "# Convertir variables categóricas en variables numéricas usando one-hot encoding\n",
        "df_encoded = pd.get_dummies(df)\n",
        "\n",
        "# Dividir el conjunto de datos en características (X) y la variable objetivo (y)\n",
        "X = df_encoded.drop('charges', axis=1)  # Características\n",
        "y = df_encoded['charges']  # Variable objetivo\n",
        "\n",
        "# Dividir los datos en conjuntos de entrenamiento y prueba\n",
        "X_train, X_test, y_train, y_test = train_test_split(X, y, test_size=0.2, random_state=42)\n",
        "\n",
        "# Definir los hiperparámetros a buscar\n",
        "param_grid = {\n",
        "    'kernel': ['linear', 'rbf'],\n",
        "    'C': [0.1, 1, 10],\n",
        "    'gamma': ['scale', 'auto']\n",
        "}\n",
        "\n",
        "# Inicializar el modelo SVR\n",
        "svr_model = SVR()\n",
        "\n",
        "# Inicializar la búsqueda de cuadrícula\n",
        "grid_search = GridSearchCV(svr_model, param_grid, cv=5, scoring='r2')\n",
        "\n",
        "# Entrenar la búsqueda de cuadrícula\n",
        "grid_search.fit(X_train, y_train)\n",
        "\n",
        "# Obtener el mejor modelo\n",
        "best_svr_model = grid_search.best_estimator_\n",
        "\n",
        "# Predecir en el conjunto de prueba usando el mejor modelo\n",
        "y_pred = best_svr_model.predict(X_test)\n",
        "\n",
        "# Calcular métricas de evaluación\n",
        "mae = mean_absolute_error(y_test, y_pred)\n",
        "mse = mean_squared_error(y_test, y_pred)\n",
        "rmse = mean_squared_error(y_test, y_pred, squared=False)\n",
        "r2 = r2_score(y_test, y_pred)\n",
        "\n",
        "# Imprimir métricas de evaluación\n",
        "print(\"Métricas de evaluación del mejor modelo SVR:\")\n",
        "print(f\"MAE: {mae:.2f}\")\n",
        "print(f\"MSE: {mse:.2f}\")\n",
        "print(f\"RMSE: {rmse:.2f}\")\n",
        "print(f\"R^2 Score: {r2:.2f}\")\n",
        "\n",
        "# Mostrar los mejores hiperparámetros encontrados\n",
        "print(\"\\nMejores hiperparámetros encontrados:\")\n",
        "print(grid_search.best_params_)\n"
      ],
      "metadata": {
        "colab": {
          "base_uri": "https://localhost:8080/"
        },
        "id": "MRmA4u87lAgY",
        "outputId": "f3c0f7ff-b525-41b0-f264-58c0aed5699c"
      },
      "execution_count": 37,
      "outputs": [
        {
          "output_type": "stream",
          "name": "stdout",
          "text": [
            "Métricas de evaluación del mejor modelo SVR:\n",
            "MAE: 5663.63\n",
            "MSE: 128541503.37\n",
            "RMSE: 11337.61\n",
            "R^2 Score: 0.17\n",
            "\n",
            "Mejores hiperparámetros encontrados:\n",
            "{'C': 10, 'gamma': 'scale', 'kernel': 'linear'}\n"
          ]
        }
      ]
    },
    {
      "cell_type": "markdown",
      "source": [
        "## KNN\n",
        "RMSE: 6043.43"
      ],
      "metadata": {
        "id": "jZ6vsr6crGLj"
      }
    },
    {
      "cell_type": "code",
      "source": [
        "from sklearn.neighbors import KNeighborsRegressor\n",
        "from sklearn.metrics import mean_absolute_error, mean_squared_error, r2_score\n",
        "\n",
        "# Suponiendo que 'df' es tu DataFrame que contiene todas las variables, incluida 'charges'\n",
        "\n",
        "# Convertir variables categóricas en variables numéricas usando one-hot encoding\n",
        "df_encoded = pd.get_dummies(df)\n",
        "\n",
        "# Dividir el conjunto de datos en características (X) y la variable objetivo (y)\n",
        "X = df_encoded.drop('charges', axis=1)  # Características\n",
        "y = df_encoded['charges']  # Variable objetivo\n",
        "\n",
        "# Dividir los datos en conjuntos de entrenamiento y prueba\n",
        "X_train, X_test, y_train, y_test = train_test_split(X, y, test_size=0.2, random_state=42)\n",
        "\n",
        "# Inicializar el modelo KNN\n",
        "knn_model = KNeighborsRegressor(n_neighbors=5)  # Define el número de vecinos (K)\n",
        "\n",
        "# Entrenar el modelo\n",
        "knn_model.fit(X_train, y_train)\n",
        "\n",
        "# Predecir en el conjunto de prueba\n",
        "y_pred_knn = knn_model.predict(X_test)\n",
        "\n",
        "# Calcular métricas de evaluación\n",
        "mae_knn = mean_absolute_error(y_test, y_pred_knn)\n",
        "mse_knn = mean_squared_error(y_test, y_pred_knn)\n",
        "rmse_knn = mean_squared_error(y_test, y_pred_knn, squared=False)\n",
        "r2_knn = r2_score(y_test, y_pred_knn)\n",
        "\n",
        "# Imprimir métricas de evaluación\n",
        "print(\"Métricas de evaluación del modelo KNN:\")\n",
        "print(f\"MAE: {mae_knn:.2f}\")\n",
        "print(f\"MSE: {mse_knn:.2f}\")\n",
        "print(f\"RMSE: {rmse_knn:.2f}\")\n",
        "print(f\"R^2 Score: {r2_knn:.2f}\")\n"
      ],
      "metadata": {
        "colab": {
          "base_uri": "https://localhost:8080/"
        },
        "id": "dJeyKrm5mcrY",
        "outputId": "07fe3468-5e66-451d-dca5-7cb4c967c591"
      },
      "execution_count": 38,
      "outputs": [
        {
          "output_type": "stream",
          "name": "stdout",
          "text": [
            "Métricas de evaluación del modelo KNN:\n",
            "MAE: 3672.87\n",
            "MSE: 36523096.59\n",
            "RMSE: 6043.43\n",
            "R^2 Score: 0.76\n"
          ]
        }
      ]
    },
    {
      "cell_type": "markdown",
      "source": [
        "## XGBOOST\n",
        "RMSE: 4738.61"
      ],
      "metadata": {
        "id": "_4elJXOrrMD1"
      }
    },
    {
      "cell_type": "code",
      "source": [
        "import xgboost as xgb\n",
        "from sklearn.metrics import mean_absolute_error, mean_squared_error, r2_score\n",
        "\n",
        "# Suponiendo que 'df' es tu DataFrame que contiene todas las variables, incluida 'charges'\n",
        "\n",
        "# Convertir variables categóricas en variables numéricas usando one-hot encoding\n",
        "df_encoded = pd.get_dummies(df)\n",
        "\n",
        "# Dividir el conjunto de datos en características (X) y la variable objetivo (y)\n",
        "X = df_encoded.drop('charges', axis=1)  # Características\n",
        "y = df_encoded['charges']  # Variable objetivo\n",
        "\n",
        "# Dividir los datos en conjuntos de entrenamiento y prueba\n",
        "X_train, X_test, y_train, y_test = train_test_split(X, y, test_size=0.2, random_state=42)\n",
        "\n",
        "# Inicializar el modelo XGBoost\n",
        "xgb_model = xgb.XGBRegressor(objective='reg:squarederror', random_state=42)\n",
        "\n",
        "# Entrenar el modelo\n",
        "xgb_model.fit(X_train, y_train)\n",
        "\n",
        "# Predecir en el conjunto de prueba\n",
        "y_pred_xgb = xgb_model.predict(X_test)\n",
        "\n",
        "# Calcular métricas de evaluación\n",
        "mae_xgb = mean_absolute_error(y_test, y_pred_xgb)\n",
        "mse_xgb = mean_squared_error(y_test, y_pred_xgb)\n",
        "rmse_xgb = mean_squared_error(y_test, y_pred_xgb, squared=False)\n",
        "r2_xgb = r2_score(y_test, y_pred_xgb)\n",
        "\n",
        "# Imprimir métricas de evaluación\n",
        "print(\"Métricas de evaluación del modelo XGBoost:\")\n",
        "print(f\"MAE: {mae_xgb:.2f}\")\n",
        "print(f\"MSE: {mse_xgb:.2f}\")\n",
        "print(f\"RMSE: {rmse_xgb:.2f}\")\n",
        "print(f\"R^2 Score: {r2_xgb:.2f}\")\n"
      ],
      "metadata": {
        "colab": {
          "base_uri": "https://localhost:8080/"
        },
        "id": "0cdbEIMUmR9R",
        "outputId": "861a3fe8-c910-4ded-d61e-61170761fb95"
      },
      "execution_count": 39,
      "outputs": [
        {
          "output_type": "stream",
          "name": "stdout",
          "text": [
            "Métricas de evaluación del modelo XGBoost:\n",
            "MAE: 2604.33\n",
            "MSE: 22454421.07\n",
            "RMSE: 4738.61\n",
            "R^2 Score: 0.86\n"
          ]
        }
      ]
    },
    {
      "cell_type": "markdown",
      "source": [
        "## GRADIENT BOOSTING\n",
        "RMSE: 4335.73 segundo mejor\n"
      ],
      "metadata": {
        "id": "OkJyuGJSrSfT"
      }
    },
    {
      "cell_type": "code",
      "source": [
        "from sklearn.ensemble import GradientBoostingRegressor\n",
        "from sklearn.metrics import mean_absolute_error, mean_squared_error, r2_score\n",
        "\n",
        "# Suponiendo que 'df' es tu DataFrame que contiene todas las variables, incluida 'charges'\n",
        "\n",
        "# Convertir variables categóricas en variables numéricas usando one-hot encoding\n",
        "df_encoded = pd.get_dummies(df)\n",
        "\n",
        "# Dividir el conjunto de datos en características (X) y la variable objetivo (y)\n",
        "X = df_encoded.drop('charges', axis=1)  # Características\n",
        "y = df_encoded['charges']  # Variable objetivo\n",
        "\n",
        "# Dividir los datos en conjuntos de entrenamiento y prueba\n",
        "X_train, X_test, y_train, y_test = train_test_split(X, y, test_size=0.2, random_state=42)\n",
        "\n",
        "# Inicializar el modelo Gradient Boosting\n",
        "gb_model = GradientBoostingRegressor(n_estimators=100, learning_rate=0.1, random_state=42)\n",
        "\n",
        "# Entrenar el modelo\n",
        "gb_model.fit(X_train, y_train)\n",
        "\n",
        "# Predecir en el conjunto de prueba\n",
        "y_pred_gb = gb_model.predict(X_test)\n",
        "\n",
        "# Calcular métricas de evaluación\n",
        "mae_gb = mean_absolute_error(y_test, y_pred_gb)\n",
        "mse_gb = mean_squared_error(y_test, y_pred_gb)\n",
        "rmse_gb = mean_squared_error(y_test, y_pred_gb, squared=False)\n",
        "r2_gb = r2_score(y_test, y_pred_gb)\n",
        "\n",
        "# Imprimir métricas de evaluación\n",
        "print(\"Métricas de evaluación del modelo Gradient Boosting:\")\n",
        "print(f\"MAE: {mae_gb:.2f}\")\n",
        "print(f\"MSE: {mse_gb:.2f}\")\n",
        "print(f\"RMSE: {rmse_gb:.2f}\")\n",
        "print(f\"R^2 Score: {r2_gb:.2f}\")\n"
      ],
      "metadata": {
        "colab": {
          "base_uri": "https://localhost:8080/"
        },
        "id": "1Yu8gvTJmqjM",
        "outputId": "dd6d2f82-0225-4154-d133-49c7c0e6569f"
      },
      "execution_count": 40,
      "outputs": [
        {
          "output_type": "stream",
          "name": "stdout",
          "text": [
            "Métricas de evaluación del modelo Gradient Boosting:\n",
            "MAE: 2405.96\n",
            "MSE: 18798533.40\n",
            "RMSE: 4335.73\n",
            "R^2 Score: 0.88\n"
          ]
        }
      ]
    },
    {
      "cell_type": "markdown",
      "source": [
        "RMSE: 4417.43"
      ],
      "metadata": {
        "id": "nznoThlLrd_t"
      }
    },
    {
      "cell_type": "code",
      "source": [
        "from sklearn.ensemble import VotingRegressor\n",
        "from sklearn.metrics import mean_squared_error\n",
        "from xgboost import XGBRegressor\n",
        "from sklearn.ensemble import GradientBoostingRegressor\n",
        "\n",
        "# Inicializar los modelos individuales\n",
        "gb_model = GradientBoostingRegressor(n_estimators=100, learning_rate=0.1, random_state=42)\n",
        "xgb_model = XGBRegressor(objective='reg:squarederror', random_state=42)\n",
        "\n",
        "# Crear un ensamblado por promedio de los modelos\n",
        "ensemble_model = VotingRegressor([('gb', gb_model), ('xgb', xgb_model)], weights=[1, 1])\n",
        "\n",
        "# Entrenar el ensamblado de modelos\n",
        "ensemble_model.fit(X_train, y_train)\n",
        "\n",
        "# Predecir en el conjunto de prueba\n",
        "y_pred_ensemble = ensemble_model.predict(X_test)\n",
        "\n",
        "# Calcular métricas de evaluación\n",
        "rmse_ensemble = mean_squared_error(y_test, y_pred_ensemble, squared=False)\n",
        "\n",
        "# Imprimir métrica de evaluación\n",
        "print(f\"RMSE del ensamblado por promedio: {rmse_ensemble:.2f}\")\n"
      ],
      "metadata": {
        "colab": {
          "base_uri": "https://localhost:8080/"
        },
        "id": "Bn3roUdCnoVz",
        "outputId": "31c5ece6-a961-4eb7-9f50-fa1d7976f1bf"
      },
      "execution_count": 41,
      "outputs": [
        {
          "output_type": "stream",
          "name": "stdout",
          "text": [
            "RMSE del ensamblado por promedio: 4417.43\n"
          ]
        }
      ]
    },
    {
      "cell_type": "markdown",
      "source": [
        "# Optimizar los hiperparámetros del modelo Gradient Boosting\n",
        "## RMSE: 4320.15 (mínimo)"
      ],
      "metadata": {
        "id": "NUJw2qngrtuY"
      }
    },
    {
      "cell_type": "code",
      "source": [
        "from sklearn.model_selection import GridSearchCV\n",
        "from sklearn.ensemble import GradientBoostingRegressor\n",
        "from sklearn.metrics import mean_squared_error, mean_absolute_error, r2_score\n",
        "\n",
        "# Definir los hiperparámetros a explorar\n",
        "param_grid = {\n",
        "    'n_estimators': [50, 100, 150],\n",
        "    'learning_rate': [0.05, 0.1, 0.2],\n",
        "    'max_depth': [3, 4, 5]\n",
        "}\n",
        "\n",
        "# Inicializar el modelo Gradient Boosting\n",
        "gb_model = GradientBoostingRegressor(random_state=42)\n",
        "\n",
        "# Inicializar la búsqueda de cuadrícula\n",
        "grid_search = GridSearchCV(estimator=gb_model, param_grid=param_grid, cv=5, scoring='neg_mean_squared_error', n_jobs=-1)\n",
        "\n",
        "# Ejecutar la búsqueda de cuadrícula en los datos\n",
        "grid_search.fit(X_train, y_train)\n",
        "\n",
        "# Obtener el mejor modelo y sus hiperparámetros\n",
        "best_gb_model = grid_search.best_estimator_\n",
        "best_params = grid_search.best_params_\n",
        "\n",
        "# Predecir en el conjunto de prueba utilizando el mejor modelo\n",
        "y_pred_best = best_gb_model.predict(X_test)\n",
        "\n",
        "# Calcular las métricas de evaluación\n",
        "rmse_best = mean_squared_error(y_test, y_pred_best, squared=False)\n",
        "mae_best = mean_absolute_error(y_test, y_pred_best)\n",
        "r2_best = r2_score(y_test, y_pred_best)\n",
        "\n",
        "# Imprimir el mejor modelo y su rendimiento\n",
        "print(\"Mejor modelo Gradient Boosting encontrado:\")\n",
        "print(best_gb_model)\n",
        "print(\"\\nMejores hiperparámetros encontrados:\")\n",
        "print(best_params)\n",
        "print(f\"\\nRMSE del mejor modelo: {rmse_best:.2f}\")\n",
        "print(f\"MAE del mejor modelo: {mae_best:.2f}\")\n",
        "print(f\"R^2 Score del mejor modelo: {r2_best:.2f}\")\n"
      ],
      "metadata": {
        "colab": {
          "base_uri": "https://localhost:8080/"
        },
        "id": "VXQtiOk3pRx2",
        "outputId": "8bfa2769-23ee-4f82-9e39-52021a8bdb12"
      },
      "execution_count": 42,
      "outputs": [
        {
          "output_type": "stream",
          "name": "stdout",
          "text": [
            "Mejor modelo Gradient Boosting encontrado:\n",
            "GradientBoostingRegressor(n_estimators=50, random_state=42)\n",
            "\n",
            "Mejores hiperparámetros encontrados:\n",
            "{'learning_rate': 0.1, 'max_depth': 3, 'n_estimators': 50}\n",
            "\n",
            "RMSE del mejor modelo: 4320.15\n",
            "MAE del mejor modelo: 2457.79\n",
            "R^2 Score del mejor modelo: 0.88\n"
          ]
        }
      ]
    },
    {
      "cell_type": "markdown",
      "source": [
        "# Remuestreo (bootstrap) en el modelo Gradient Boosting\n",
        "### RMSE: 4320.15 (mínimo)"
      ],
      "metadata": {
        "id": "BPm9hJ_NsC0K"
      }
    },
    {
      "cell_type": "code",
      "source": [
        "\n",
        "from sklearn.model_selection import GridSearchCV, ShuffleSplit\n",
        "from sklearn.ensemble import GradientBoostingRegressor\n",
        "from sklearn.metrics import mean_squared_error\n",
        "\n",
        "# Inicializar el modelo Gradient Boosting\n",
        "gb_model = GradientBoostingRegressor(random_state=42)\n",
        "\n",
        "# Definir los hiperparámetros a explorar\n",
        "param_grid = {\n",
        "    'n_estimators': [50, 100, 150],\n",
        "    'learning_rate': [0.05, 0.1, 0.2],\n",
        "    'max_depth': [3, 4, 5]\n",
        "}\n",
        "\n",
        "# Inicializar la validación cruzada con remuestreo (bootstrap)\n",
        "bootstrap_cv = ShuffleSplit(n_splits=5, test_size=0.2, random_state=42)\n",
        "\n",
        "# Inicializar la búsqueda de cuadrícula\n",
        "grid_search = GridSearchCV(estimator=gb_model, param_grid=param_grid, cv=bootstrap_cv, scoring='neg_mean_squared_error', n_jobs=-1)\n",
        "\n",
        "# Ejecutar la búsqueda de cuadrícula en los datos\n",
        "grid_search.fit(X_train, y_train)\n",
        "\n",
        "# Obtener el mejor modelo y sus hiperparámetros\n",
        "best_gb_model = grid_search.best_estimator_\n",
        "best_params = grid_search.best_params_\n",
        "\n",
        "# Predecir en el conjunto de prueba utilizando el mejor modelo\n",
        "y_pred_best = best_gb_model.predict(X_test)\n",
        "\n",
        "# Calcular el RMSE del mejor modelo\n",
        "rmse_best = mean_squared_error(y_test, y_pred_best, squared=False)\n",
        "\n",
        "# Imprimir el mejor modelo y su rendimiento\n",
        "print(\"Mejor modelo Gradient Boosting encontrado:\")\n",
        "print(best_gb_model)\n",
        "print(\"\\nMejores hiperparámetros encontrados:\")\n",
        "print(best_params)\n",
        "print(f\"\\nRMSE del mejor modelo: {rmse_best:.2f}\")\n"
      ],
      "metadata": {
        "colab": {
          "base_uri": "https://localhost:8080/"
        },
        "id": "pe45BluIqlbw",
        "outputId": "e94a2c89-0d7a-4e74-8a83-9a032eb860a1"
      },
      "execution_count": 43,
      "outputs": [
        {
          "output_type": "stream",
          "name": "stdout",
          "text": [
            "Mejor modelo Gradient Boosting encontrado:\n",
            "GradientBoostingRegressor(n_estimators=50, random_state=42)\n",
            "\n",
            "Mejores hiperparámetros encontrados:\n",
            "{'learning_rate': 0.1, 'max_depth': 3, 'n_estimators': 50}\n",
            "\n",
            "RMSE del mejor modelo: 4320.15\n"
          ]
        }
      ]
    },
    {
      "cell_type": "markdown",
      "source": [
        "# Conclusiones"
      ],
      "metadata": {
        "id": "j2PGzN9SpfcP"
      }
    },
    {
      "cell_type": "markdown",
      "source": [
        "### En este ejercicio, el modelo que mejor resultado nos da es el Gradient Boosting usando grid search, con **RMSE: 4320.15** y **R^2 Score del mejor modelo: 0.88**"
      ],
      "metadata": {
        "id": "tL7fX6HqyQ5J"
      }
    }
  ]
}
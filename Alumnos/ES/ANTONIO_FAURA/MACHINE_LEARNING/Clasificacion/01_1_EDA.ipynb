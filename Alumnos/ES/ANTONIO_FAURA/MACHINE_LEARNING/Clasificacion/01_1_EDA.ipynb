{
  "nbformat": 4,
  "nbformat_minor": 0,
  "metadata": {
    "colab": {
      "provenance": []
    },
    "kernelspec": {
      "name": "python3",
      "display_name": "Python 3"
    },
    "language_info": {
      "name": "python"
    }
  },
  "cells": [
    {
      "cell_type": "markdown",
      "metadata": {
        "id": "Sz8ogFjl7a8b"
      },
      "source": [
        "# TUTORIAL: LIMPIEZA DE DATOS CON PYTHON Y PANDAS"
      ]
    },
    {
      "cell_type": "markdown",
      "metadata": {
        "id": "jYJxCZNZDfYe"
      },
      "source": [
        "# 1. El problema del negocio\n",
        "\n",
        "Una entidad bancaria contrata a una empresa de marketing encargada de contactar telefónicamente a posibles clientes para determinar si están interesados o no en adquirir un certificado de depósito a término con el banco.\n",
        "\n",
        "¿Qué perfil tienen los clientes con mayor potencial de conversión?"
      ]
    },
    {
      "cell_type": "markdown",
      "metadata": {
        "id": "4WOEkmPt7aHf"
      },
      "source": [
        "#2. El set de datos\n",
        "\n",
        "La información recolectada por la empresa de mercadeo se encuentra en un archivo CSV (`dataset_banco.csv`) con 45215 filas y 17 columnas.\n",
        "\n",
        "Cada registro contiene 16 características (las primeras 16 columnas) y una categoría (\"yes\" o \"no\" dependiendo de si la persona está o no interesada en adquirir el producto). Las columnas son:\n",
        "\n",
        "1. \"age\":  edad (numérica)\n",
        "2. \"job\": tipo de trabajo (categórica: \"admin.\", \"unknown\", \"unemployed\", \"management\", \"housemaid\", \"entrepreneur\", \"student\", \"blue-collar\",\"self-employed\", \"retired\", \"technician\", \"services\")\n",
        "3. \"marital\": estado civil (categórica: \"married\", \"divorced\", \"single\")\n",
        "4. \"education\": nivel educativo (categórica: \"unknown\", \"secondary\", \"primary\", \"tertiary\")\n",
        "5. \"default\": si dejó de pagar sus obligaciones (categórica: \"yes\", \"no\")\n",
        "6. \"balance\": saldo promedio anual en euros (numérica)\n",
        "7. \"housing\": ¿tiene o no crédito hipotecario? (categórica: \"yes\", \"no\")\n",
        "8. \"loan\": ¿tiene créditos de consumo? (categórica: \"yes\", \"no\")\n",
        "9. \"contact\": medio a través del cual fue contactado (categórica: \"unknown\", \"telephone\", \"cellular\")\n",
        "10. \"day\": último día del mes en el que fue contactada (numérica)\n",
        "11. \"month\": último mes en el que fue contactada (categórica: \"jan\", \"feb\", \"mar\", ..., \"nov\", \"dec\")\n",
        "12. \"duration\": duración (en segundos) del último contacto (numérica)\n",
        "13. \"campaign\": número total de veces que fue contactada durante la campaña (numérica)\n",
        "14. \"pdays\": número de días transcurridos después de haber sido contactado antes de la campaña actual (numérica. -1 indica que no fue contactado previamente)\n",
        "15. \"previous\": número de veces que ha sido contactada antes de esta campaña (numérica)\n",
        "16. \"poutcome\": resultado de la campaña de marketing anterior (categórica: \"unknown\", \"other\", \"failure\", \"success\")\n",
        "17. \"y\": categoría ¿el cliente se suscribió a un depósito a término? (categórica: \"yes\", \"no\")"
      ]
    },
    {
      "cell_type": "markdown",
      "metadata": {
        "id": "7wXHT_PLEFkr"
      },
      "source": [
        "#3. Una primera mirada al dataset"
      ]
    },
    {
      "cell_type": "code",
      "metadata": {
        "id": "SQ_-SdsX7enM"
      },
      "source": [
        "# Importar librerías\n",
        "import pandas as pd\n",
        "import matplotlib.pyplot as plt\n",
        "import seaborn as sns"
      ],
      "execution_count": 5,
      "outputs": []
    },
    {
      "cell_type": "code",
      "metadata": {
        "id": "yECOD3UAEV-a",
        "colab": {
          "base_uri": "https://localhost:8080/"
        },
        "outputId": "e71fa176-2eb7-4274-b5b5-a601d0cad580"
      },
      "source": [
        "\n",
        "# Carga el archivo desde los archivos del cuaderno\n",
        "df = pd.read_csv('dataset_banco.csv')\n",
        "\n",
        "# Haz algo con el DataFrame, por ejemplo, muestra las primeras filas\n",
        "print(df.head())\n"
      ],
      "execution_count": 6,
      "outputs": [
        {
          "output_type": "stream",
          "name": "stdout",
          "text": [
            "   age           job  marital  education default  balance housing loan  \\\n",
            "0   58    management  married   tertiary      no   2143.0     yes   no   \n",
            "1   44    technician   single  secondary      no     29.0     yes   no   \n",
            "2   33  entrepreneur  married  secondary      no      2.0     yes  yes   \n",
            "3   47   blue-collar  married    unknown      no   1506.0     yes   no   \n",
            "4   33       unknown   single    unknown      no      1.0      no   no   \n",
            "\n",
            "   contact  day month  duration  campaign  pdays  previous poutcome   y  \n",
            "0  unknown    5   may     261.0         1   -1.0         0  unknown  no  \n",
            "1  unknown    5   may     151.0         1   -1.0         0  unknown  no  \n",
            "2  unknown    5   may      76.0         1   -1.0         0  unknown  no  \n",
            "3  unknown    5   may      92.0         1   -1.0         0  unknown  no  \n",
            "4  unknown    5   may     198.0         1   -1.0         0  unknown  no  \n"
          ]
        }
      ]
    },
    {
      "cell_type": "code",
      "metadata": {
        "id": "gATCZsQPE3VQ",
        "colab": {
          "base_uri": "https://localhost:8080/"
        },
        "outputId": "b28893e4-eb60-4fd6-83cc-a4a6fa647fb8"
      },
      "source": [
        "# Veamos las variables categóricas y las numéricas\n",
        "df.info()"
      ],
      "execution_count": 7,
      "outputs": [
        {
          "output_type": "stream",
          "name": "stdout",
          "text": [
            "<class 'pandas.core.frame.DataFrame'>\n",
            "RangeIndex: 45215 entries, 0 to 45214\n",
            "Data columns (total 17 columns):\n",
            " #   Column     Non-Null Count  Dtype  \n",
            "---  ------     --------------  -----  \n",
            " 0   age        45215 non-null  int64  \n",
            " 1   job        45213 non-null  object \n",
            " 2   marital    45214 non-null  object \n",
            " 3   education  45214 non-null  object \n",
            " 4   default    45215 non-null  object \n",
            " 5   balance    45213 non-null  float64\n",
            " 6   housing    45215 non-null  object \n",
            " 7   loan       45215 non-null  object \n",
            " 8   contact    45215 non-null  object \n",
            " 9   day        45215 non-null  int64  \n",
            " 10  month      45215 non-null  object \n",
            " 11  duration   45214 non-null  float64\n",
            " 12  campaign   45215 non-null  int64  \n",
            " 13  pdays      45214 non-null  float64\n",
            " 14  previous   45215 non-null  int64  \n",
            " 15  poutcome   45215 non-null  object \n",
            " 16  y          45215 non-null  object \n",
            "dtypes: float64(3), int64(4), object(10)\n",
            "memory usage: 5.9+ MB\n"
          ]
        }
      ]
    },
    {
      "cell_type": "markdown",
      "source": [
        "#4. Limpieza\n",
        "\n",
        "Realizaremos el proceso de limpieza teniendo en cuenta las situaciones más comunes:\n",
        "\n",
        "1. Datos faltantes en algunas celdas\n",
        "2. Columnas irrelevantes (que no responden al problema que queremos resolver)\n",
        "3. Registros (filas) repetidos\n",
        "4. Valores extremos (*outliers*) en el caso de las variables numéricas. Se deben analizar en detalle pues no necesariamente la solución es eliminarlos\n",
        "5. Errores tipográficos en el caso de las variables categóricas\n",
        "\n",
        "Al final de este proceso de limpieza deberíamos tener un set de datos **íntegro**, listo para la fase de Análisis Exploratorio."
      ],
      "metadata": {
        "id": "CGUfF1eZaeoj"
      }
    },
    {
      "cell_type": "markdown",
      "source": [
        "## 4.1 Datos faltantes\n",
        "\n",
        "Comenzamos a ver que los datos no están completos, pues no todas las columnas tienen la misma cantidad de registros.\n",
        "\n",
        "El número total de registros debería ser 45.215. Sin embargo columnas como \"job\", \"marital\", \"education\", \"balance\", \"duration\" y \"pdays\".\n",
        "\n",
        "Por ser tan pocos los datos  faltantes optaremos por eliminar las filas correspondientes:"
      ],
      "metadata": {
        "id": "zxyeciKcaClS"
      }
    },
    {
      "cell_type": "code",
      "source": [
        "# Identificar valores faltantes en el dataset\n",
        "missing_values = df.isnull().sum()\n",
        "\n",
        "# Mostrar las columnas con valores faltantes y su cantidad\n",
        "print(\"Valores faltantes por columna:\")\n",
        "print(missing_values)\n"
      ],
      "metadata": {
        "colab": {
          "base_uri": "https://localhost:8080/"
        },
        "id": "eDuiw6bQLnn-",
        "outputId": "d3b90b9d-ec61-4528-8e3b-48e661e78c87"
      },
      "execution_count": 8,
      "outputs": [
        {
          "output_type": "stream",
          "name": "stdout",
          "text": [
            "Valores faltantes por columna:\n",
            "age          0\n",
            "job          2\n",
            "marital      1\n",
            "education    1\n",
            "default      0\n",
            "balance      2\n",
            "housing      0\n",
            "loan         0\n",
            "contact      0\n",
            "day          0\n",
            "month        0\n",
            "duration     1\n",
            "campaign     0\n",
            "pdays        1\n",
            "previous     0\n",
            "poutcome     0\n",
            "y            0\n",
            "dtype: int64\n"
          ]
        }
      ]
    },
    {
      "cell_type": "code",
      "source": [
        "# debajo hago los dos seguidos porqie sino no se añaden\n"
      ],
      "metadata": {
        "id": "-ppYSaTENwN9"
      },
      "execution_count": 9,
      "outputs": []
    },
    {
      "cell_type": "markdown",
      "source": [
        "##4.2 Columnas irrelevantes\n",
        "\n",
        "Una columna irrelevante puede ser:\n",
        "\n",
        "- **Una columna que no contiene información relevante para el problema que queremos resolver**. Por ejemplo en este caso podría ser una columna que no guarde relación con el posible perfil del cliente (deporte favorito, hobbies, comida favorita, etc.)\n",
        "- **Una columna categórica pero con un sólo nivel**. Por ejemplo si en la columna \"job\" solo tuviésemos el nivel \"unknown\".\n",
        "- **Una columna numérica pero con un sólo valor**. Por ejemplo si en la columna \"edad\" todos los vlaores fuesen iguales a 50.\n",
        "- **Columnas con información redundante**. Por ejemplo si además de las columnas \"month\" y \"day\" tuviésemos la columna \"month-day\", resultado de combinar las dos anteriores.\n",
        "\n",
        "Si tenemos la duda de si alguna columna puede ser relevante o no lo mejor es dejarla (y más adelante en posteriores etapas podremos darnos cuenta de si se debe preservar o no).\n",
        "\n",
        "En este caso todas las columnas pueden resultar relevantes, pero debemos verificar que no haya columnas categóricas con un sólo nivel, o columnas numéricas con un sólo valor:"
      ],
      "metadata": {
        "id": "4a2bJcMewV33"
      }
    },
    {
      "cell_type": "markdown",
      "source": [
        "Todas las columnas categóricas tienen más de 1 subnivel. No eliminaremos ninguna.\n",
        "\n",
        "Verifiquemos lo que ocurre con las columnas numéricas:"
      ],
      "metadata": {
        "id": "pCw6dYMryt0O"
      }
    },
    {
      "cell_type": "markdown",
      "source": [
        "Todas las columnas numéricas tienen desviaciones estándar (\"std\") diferentes de cero, lo que indica que no tienen un único valor.\n",
        "\n",
        "Preservaremos todas las columnas numéricas."
      ],
      "metadata": {
        "id": "o_ulm42Hy8nm"
      }
    },
    {
      "cell_type": "code",
      "source": [
        "# Verificar columnas categóricas con un solo nivel\n",
        "single_level_categorical = []\n",
        "for column in df.columns:\n",
        "    if df[column].nunique() == 1:\n",
        "        single_level_categorical.append(column)\n",
        "\n",
        "# Verificar columnas numéricas con un solo valor\n",
        "single_value_numeric = []\n",
        "for column in df.select_dtypes(include='number').columns:\n",
        "    if df[column].nunique() == 1:\n",
        "        single_value_numeric.append(column)\n",
        "\n",
        "# Mostrar columnas irrelevantes encontradas\n",
        "print(\"Columnas categóricas con un solo nivel:\", single_level_categorical)\n",
        "print(\"Columnas numéricas con un solo valor:\", single_value_numeric)\n"
      ],
      "metadata": {
        "colab": {
          "base_uri": "https://localhost:8080/"
        },
        "id": "Vb387R66Mtn-",
        "outputId": "b8566c64-dd5c-4ccd-a51c-ae2b2b7166b4"
      },
      "execution_count": 10,
      "outputs": [
        {
          "output_type": "stream",
          "name": "stdout",
          "text": [
            "Columnas categóricas con un solo nivel: []\n",
            "Columnas numéricas con un solo valor: []\n"
          ]
        }
      ]
    },
    {
      "cell_type": "markdown",
      "source": [
        "### Esto quiere decir que no hay"
      ],
      "metadata": {
        "id": "mW_vqWR-pHU-"
      }
    },
    {
      "cell_type": "markdown",
      "source": [
        "##4.3 Filas repetidas"
      ],
      "metadata": {
        "id": "WyPaJNZFzISZ"
      }
    },
    {
      "cell_type": "code",
      "source": [
        "# Contar filas duplicadas\n",
        "duplicates_count = df[df.duplicated()].shape[0]\n",
        "\n",
        "# Mostrar el número de filas duplicadas\n",
        "print(\"Número de filas duplicadas:\", duplicates_count)\n"
      ],
      "metadata": {
        "colab": {
          "base_uri": "https://localhost:8080/"
        },
        "id": "NjHC_7KKNBqS",
        "outputId": "1795ae59-6a64-4a71-864a-ec88cc0d854a"
      },
      "execution_count": 11,
      "outputs": [
        {
          "output_type": "stream",
          "name": "stdout",
          "text": [
            "Número de filas duplicadas: 4\n"
          ]
        }
      ]
    },
    {
      "cell_type": "markdown",
      "source": [
        "### Eliminamos las filas duplicadas"
      ],
      "metadata": {
        "id": "EG4_SOIlpKK1"
      }
    },
    {
      "cell_type": "code",
      "source": [
        "# Eliminar filas con valores faltantes\n",
        "df_clean = df.dropna()\n",
        "\n",
        "# Contar filas duplicadas antes de eliminarlas\n",
        "duplicates_before = df_clean[df_clean.duplicated()].shape[0]\n",
        "\n",
        "# Eliminar filas duplicadas\n",
        "df_clean = df_clean.drop_duplicates()\n",
        "\n",
        "# Contar filas duplicadas después de eliminarlas\n",
        "duplicates_after = df_clean[df_clean.duplicated()].shape[0]\n",
        "\n",
        "# Mostrar el número de filas duplicadas antes y después de la eliminación\n",
        "print(\"Número de filas duplicadas antes de eliminarlas:\", duplicates_before)\n",
        "print(\"Número de filas duplicadas después de eliminarlas:\", duplicates_after)\n",
        "\n",
        "# Mostrar la cantidad de filas después de la limpieza completa\n",
        "print(\"Número de filas después de la limpieza completa:\", df_clean.shape[0])"
      ],
      "metadata": {
        "colab": {
          "base_uri": "https://localhost:8080/"
        },
        "id": "S8VZSa1vNECo",
        "outputId": "dafac9fb-fa40-450c-d0d6-f196a29ea7af"
      },
      "execution_count": 12,
      "outputs": [
        {
          "output_type": "stream",
          "name": "stdout",
          "text": [
            "Número de filas duplicadas antes de eliminarlas: 4\n",
            "Número de filas duplicadas después de eliminarlas: 0\n",
            "Número de filas después de la limpieza completa: 45203\n"
          ]
        }
      ]
    },
    {
      "cell_type": "markdown",
      "source": [
        "##4.4 *Outliers* en las variables numéricas\n",
        "\n",
        "No siempre se deben eliminar los *outliers* porque dependiendo de la variable numérica analizada estos pueden contener información importante.\n"
      ],
      "metadata": {
        "id": "vAdN5qxyzpRV"
      }
    },
    {
      "cell_type": "code",
      "source": [
        "import numpy as np\n",
        "\n",
        "# Seleccionar solo las columnas numéricas de interés\n",
        "numeric_columns = [\"age\", \"day\", \"duration\", \"campaign\", \"previous\"]\n",
        "df_numeric = df_clean[numeric_columns]\n",
        "\n",
        "# Calcular el rango intercuartílico (IQR) para cada columna numérica\n",
        "Q1 = df_numeric.quantile(0.25)\n",
        "Q3 = df_numeric.quantile(0.75)\n",
        "IQR = Q3 - Q1\n",
        "\n",
        "# Definir el umbral para identificar outliers\n",
        "threshold = 1.5\n",
        "\n",
        "# Identificar outliers para cada columna numérica\n",
        "outliers = (df_numeric < (Q1 - threshold * IQR)) | (df_numeric > (Q3 + threshold * IQR))\n",
        "\n",
        "# Mostrar los índices de las filas que contienen outliers en al menos una columna numérica\n",
        "outliers_indices = outliers.any(axis=1)\n",
        "outliers_indices = outliers_indices[outliers_indices == True].index\n",
        "print(\"Índices de las filas con outliers en las variables numéricas seleccionadas:\")\n",
        "print(outliers_indices)\n",
        "\n",
        "# Mostrar las filas que contienen outliers en las variables numéricas seleccionadas\n",
        "print(\"Filas con outliers en las variables numéricas seleccionadas:\")\n",
        "print(df_clean.loc[outliers_indices])\n"
      ],
      "metadata": {
        "colab": {
          "base_uri": "https://localhost:8080/"
        },
        "id": "tiF4TAj-OXAV",
        "outputId": "e3bcdff9-b3aa-40cf-86b1-61bddaf7eaef"
      },
      "execution_count": 13,
      "outputs": [
        {
          "output_type": "stream",
          "name": "stdout",
          "text": [
            "Índices de las filas con outliers en las variables numéricas seleccionadas:\n",
            "Index([   12,    37,    43,    53,    59,    61,    83,    86,    87,   109,\n",
            "       ...\n",
            "       45196, 45198, 45202, 45204, 45205, 45208, 45210, 45211, 45212, 45214],\n",
            "      dtype='int64', length=13919)\n",
            "Filas con outliers en las variables numéricas seleccionadas:\n",
            "       age           job   marital  education default  balance housing loan  \\\n",
            "12      53    technician   married  secondary      no      6.0     yes   no   \n",
            "37      53    technician   married  secondary      no     -3.0      no   no   \n",
            "43      54       retired   married  secondary      no    529.0     yes   no   \n",
            "53      42        admin.    single  secondary      no    -76.0     yes   no   \n",
            "59      46      services   married    primary      no    179.0     yes   no   \n",
            "...    ...           ...       ...        ...     ...      ...     ...  ...   \n",
            "45208   73       retired   married  secondary      no   2850.0      no   no   \n",
            "45210   51    technician   married   tertiary      no    825.0      no   no   \n",
            "45211   71       retired  divorced    primary      no   1729.0      no   no   \n",
            "45212   72       retired   married  secondary      no   5715.0      no   no   \n",
            "45214   37  entrepreneur   married  secondary      no   2971.0      no   no   \n",
            "\n",
            "        contact  day month  duration  campaign  pdays  previous poutcome    y  \n",
            "12      unknown    5   may    -517.0         1   -1.0         0  unknown   no  \n",
            "37      unknown    5   may    1666.0         1   -1.0         0  unknown   no  \n",
            "43      unknown    5   may    1492.0         1   -1.0         0  unknown   no  \n",
            "53      unknown    5   may     787.0         1   -1.0         0  unknown   no  \n",
            "59      unknown    5   may    1778.0         1   -1.0         0  unknown   no  \n",
            "...         ...  ...   ...       ...       ...    ...       ...      ...  ...  \n",
            "45208  cellular   17   nov     300.0         1   40.0         8  failure  yes  \n",
            "45210  cellular   17   nov     977.0         3   -1.0         0  unknown  yes  \n",
            "45211  cellular   17   nov     456.0         2   -1.0         0  unknown  yes  \n",
            "45212  cellular   17   nov    1127.0         5  184.0         3  success  yes  \n",
            "45214  cellular   17   nov     361.0         2  188.0        11    other   no  \n",
            "\n",
            "[13919 rows x 17 columns]\n"
          ]
        }
      ]
    },
    {
      "cell_type": "code",
      "source": [
        "import numpy as np\n",
        "\n",
        "# Seleccionar solo las columnas numéricas de interés\n",
        "numeric_columns = [\"age\", \"day\", \"duration\", \"campaign\", \"previous\"]\n",
        "df_numeric = df_clean[numeric_columns]\n",
        "\n",
        "# Calcular el rango intercuartílico (IQR) para cada columna numérica\n",
        "Q1 = df_numeric.quantile(0.25)\n",
        "Q3 = df_numeric.quantile(0.75)\n",
        "IQR = Q3 - Q1\n",
        "\n",
        "# Definir el umbral para identificar outliers\n",
        "threshold = 1.5\n",
        "\n",
        "# Identificar outliers para cada columna numérica\n",
        "outliers = (df_numeric < (Q1 - threshold * IQR)) | (df_numeric > (Q3 + threshold * IQR))\n",
        "\n",
        "# Mostrar los índices de las filas que contienen outliers en al menos una columna numérica\n",
        "outliers_indices = outliers.any(axis=1)\n",
        "outliers_indices = outliers_indices[outliers_indices == True].index\n",
        "print(\"Índices de las filas con outliers en las variables numéricas seleccionadas:\")\n",
        "print(outliers_indices)\n",
        "\n",
        "# Mostrar las filas que contienen outliers en las variables numéricas seleccionadas\n",
        "print(\"Filas con outliers en las variables numéricas seleccionadas:\")\n",
        "print(df_clean.loc[outliers_indices, numeric_columns])\n"
      ],
      "metadata": {
        "colab": {
          "base_uri": "https://localhost:8080/"
        },
        "id": "5bjXBmbGQ-Gj",
        "outputId": "7c1b9310-56dd-4fc9-adc9-efebdc4de8a1"
      },
      "execution_count": 14,
      "outputs": [
        {
          "output_type": "stream",
          "name": "stdout",
          "text": [
            "Índices de las filas con outliers en las variables numéricas seleccionadas:\n",
            "Index([   12,    37,    43,    53,    59,    61,    83,    86,    87,   109,\n",
            "       ...\n",
            "       45196, 45198, 45202, 45204, 45205, 45208, 45210, 45211, 45212, 45214],\n",
            "      dtype='int64', length=13919)\n",
            "Filas con outliers en las variables numéricas seleccionadas:\n",
            "       age  day  duration  campaign  previous\n",
            "12      53    5    -517.0         1         0\n",
            "37      53    5    1666.0         1         0\n",
            "43      54    5    1492.0         1         0\n",
            "53      42    5     787.0         1         0\n",
            "59      46    5    1778.0         1         0\n",
            "...    ...  ...       ...       ...       ...\n",
            "45208   73   17     300.0         1         8\n",
            "45210   51   17     977.0         3         0\n",
            "45211   71   17     456.0         2         0\n",
            "45212   72   17    1127.0         5         3\n",
            "45214   37   17     361.0         2        11\n",
            "\n",
            "[13919 rows x 5 columns]\n"
          ]
        }
      ]
    },
    {
      "cell_type": "markdown",
      "source": [
        "### Comprobamos si hay algún valor negativo en alguna fila"
      ],
      "metadata": {
        "id": "UYRJAmsskbhG"
      }
    },
    {
      "cell_type": "code",
      "source": [
        "# Seleccionar solo las columnas numéricas de interés\n",
        "numeric_columns = [\"age\", \"day\", \"duration\", \"campaign\", \"previous\"]\n",
        "df_numeric = df_clean[numeric_columns]\n",
        "\n",
        "# Verificar si hay valores negativos en las columnas numéricas\n",
        "negative_values = df_numeric[df_numeric < 0].any()\n",
        "\n",
        "# Mostrar si hay algún valor negativo en las variables numéricas seleccionadas\n",
        "print(\"¿Hay algún valor negativo en las variables numéricas seleccionadas?\")\n",
        "print(negative_values)"
      ],
      "metadata": {
        "colab": {
          "base_uri": "https://localhost:8080/"
        },
        "id": "hdDp20DzRe5X",
        "outputId": "582efbcf-4079-4d3a-ab09-7dff14d91225"
      },
      "execution_count": 15,
      "outputs": [
        {
          "output_type": "stream",
          "name": "stdout",
          "text": [
            "¿Hay algún valor negativo en las variables numéricas seleccionadas?\n",
            "age         False\n",
            "day         False\n",
            "duration     True\n",
            "campaign    False\n",
            "previous    False\n",
            "dtype: bool\n"
          ]
        }
      ]
    },
    {
      "cell_type": "markdown",
      "source": [
        "### duration     True; quiere decir que hay un valor/es negativos en duration, lo que es imposible, asi que eliminamos esas filas del dataset."
      ],
      "metadata": {
        "id": "fhMy9CokknnA"
      }
    },
    {
      "cell_type": "code",
      "source": [
        "# Seleccionar las filas con valores negativos en la columna \"duration\"\n",
        "negative_duration_rows = df_clean.loc[df_clean['duration'] < 0]\n",
        "\n",
        "# Mostrar las filas con valores negativos en la columna \"duration\"\n",
        "print(\"Filas con valores negativos en 'duration':\")\n",
        "print(negative_duration_rows)\n",
        "\n",
        "# Obtener los índices de las filas con valores negativos en la columna \"duration\"\n",
        "negative_duration_indices = negative_duration_rows.index\n",
        "\n",
        "# Eliminar las filas con valores negativos en la columna \"duration\"\n",
        "df_clean = df_clean.drop(negative_duration_indices)\n",
        "\n",
        "# Verificar la forma del DataFrame después de eliminar las filas con valores negativos en \"duration\"\n",
        "print(\"\\nDimensiones del DataFrame después de eliminar filas con valores negativos en 'duration':\", df_clean.shape)\n"
      ],
      "metadata": {
        "colab": {
          "base_uri": "https://localhost:8080/"
        },
        "id": "RuOPpAiTRvA5",
        "outputId": "62a3d774-5bc4-433b-e0de-23848beba644"
      },
      "execution_count": 16,
      "outputs": [
        {
          "output_type": "stream",
          "name": "stdout",
          "text": [
            "Filas con valores negativos en 'duration':\n",
            "    age         job  marital  education default  balance housing loan  \\\n",
            "12   53  technician  married  secondary      no      6.0     yes   no   \n",
            "87   41  technician  married  secondary      no   1270.0     yes   no   \n",
            "\n",
            "    contact  day month  duration  campaign  pdays  previous poutcome    y  \n",
            "12  unknown    5   may    -517.0         1   -1.0         0  unknown   no  \n",
            "87  unknown    5   may   -1389.0         1   -1.0         0  unknown  yes  \n",
            "\n",
            "Dimensiones del DataFrame después de eliminar filas con valores negativos en 'duration': (45201, 17)\n"
          ]
        }
      ]
    },
    {
      "cell_type": "markdown",
      "source": [
        "### Ahora comprobamos los valores máximos de Edad, para ver si ha ocurrido algún error recogiendo la muestra."
      ],
      "metadata": {
        "id": "FIz4sQJGk77s"
      }
    },
    {
      "cell_type": "code",
      "source": [
        "# Mostrar los 25 valores máximos de la columna \"age\"\n",
        "max_age = df_clean['age'].nlargest(25)\n",
        "print(\"Los 25 valores máximos de 'age' son:\")\n",
        "print(max_age)\n"
      ],
      "metadata": {
        "colab": {
          "base_uri": "https://localhost:8080/"
        },
        "id": "Pt4Z8zPESOp0",
        "outputId": "6747e5c7-5bd8-4432-b597-21d4cd48b99b"
      },
      "execution_count": 17,
      "outputs": [
        {
          "output_type": "stream",
          "name": "stdout",
          "text": [
            "Los 25 valores máximos de 'age' son:\n",
            "43530    776\n",
            "229      530\n",
            "1076     490\n",
            "28152    466\n",
            "6053     399\n",
            "3018     332\n",
            "5799     311\n",
            "2229     123\n",
            "33701     95\n",
            "41666     95\n",
            "31235     94\n",
            "44265     93\n",
            "44423     93\n",
            "41937     92\n",
            "42730     92\n",
            "31071     90\n",
            "43197     90\n",
            "41165     89\n",
            "42577     89\n",
            "44895     89\n",
            "44672     88\n",
            "44797     88\n",
            "41926     87\n",
            "42084     87\n",
            "42497     87\n",
            "Name: age, dtype: int64\n"
          ]
        }
      ]
    },
    {
      "cell_type": "markdown",
      "source": [
        "### Cogemos por ejemplo, la cifra de 117 años, que representa la persona mas longeva registrada, por lo que cualquier fila con un valor \"age\" mayor es eliminado del dataset"
      ],
      "metadata": {
        "id": "z-Dai_o3lF3T"
      }
    },
    {
      "cell_type": "code",
      "source": [
        "# Seleccionar las filas con valores de \"age\" mayores que 117\n",
        "age_above_117_indices = df_clean.loc[df_clean['age'] > 117].index\n",
        "\n",
        "# Eliminar las filas con valores de \"age\" mayores que 117\n",
        "df_clean = df_clean.drop(age_above_117_indices)\n",
        "\n",
        "# Verificar la forma del DataFrame después de eliminar las filas con \"age\" > 117\n",
        "print(\"Dimensiones del DataFrame después de eliminar filas con 'age' > 117:\", df_clean.shape)\n"
      ],
      "metadata": {
        "colab": {
          "base_uri": "https://localhost:8080/"
        },
        "id": "3vaVBn86S3O8",
        "outputId": "402eb080-e133-492e-df4c-21a0bc4ed60c"
      },
      "execution_count": 18,
      "outputs": [
        {
          "output_type": "stream",
          "name": "stdout",
          "text": [
            "Dimensiones del DataFrame después de eliminar filas con 'age' > 117: (45193, 17)\n"
          ]
        }
      ]
    },
    {
      "cell_type": "markdown",
      "source": [
        "### Comprobamos si algún valor de \"day\" se sale de 1-31, que es el máximo de días que puede tener un mes. No hay por lo tanto esta variable es correcta"
      ],
      "metadata": {
        "id": "t-m2t4Bclfku"
      }
    },
    {
      "cell_type": "code",
      "source": [
        "# Mostrar el valor máximo de la columna \"day\"\n",
        "max_day = df_clean['day'].max()\n",
        "print(\"El valor máximo de 'day' es:\", max_day)\n",
        "\n",
        "# Mostrar el valor mínimo de la columna \"day\"\n",
        "min_day = df_clean['day'].min()\n",
        "print(\"El valor mínimo de 'day' es:\", min_day)\n"
      ],
      "metadata": {
        "colab": {
          "base_uri": "https://localhost:8080/"
        },
        "id": "4Sd3rnaZS97U",
        "outputId": "c37dd7cc-ea4f-4b41-f7e4-5bb7e7b09357"
      },
      "execution_count": 19,
      "outputs": [
        {
          "output_type": "stream",
          "name": "stdout",
          "text": [
            "El valor máximo de 'day' es: 31\n",
            "El valor mínimo de 'day' es: 1\n"
          ]
        }
      ]
    },
    {
      "cell_type": "code",
      "source": [
        "# Seleccionar las filas donde \"previous\" es mayor que 70\n",
        "previous_above_70_indices = df_clean.loc[df_clean['previous'] > 70].index\n",
        "\n",
        "# Eliminar las filas donde \"previous\" es mayor que 70\n",
        "df_clean = df_clean.drop(previous_above_70_indices)\n",
        "\n",
        "# Verificar la forma del DataFrame después de eliminar las filas con \"previous\" > 70\n",
        "print(\"Dimensiones del DataFrame después de eliminar filas con 'previous' > 70:\", df_clean.shape)\n"
      ],
      "metadata": {
        "colab": {
          "base_uri": "https://localhost:8080/"
        },
        "id": "LlpqpsVTUQ7_",
        "outputId": "7a4836c1-5849-4709-c0ff-dfcf0371f865"
      },
      "execution_count": 20,
      "outputs": [
        {
          "output_type": "stream",
          "name": "stdout",
          "text": [
            "Dimensiones del DataFrame después de eliminar filas con 'previous' > 70: (45192, 17)\n"
          ]
        }
      ]
    },
    {
      "cell_type": "markdown",
      "source": [
        "##4.5 Errores tipográficos en variables categóricas\n",
        "\n",
        "En una variable categórica pueden aparecer sub-niveles como \"unknown\" y \"UNK\" que para nosotros son equivalentes pero que para nuestro programa parecerían diferentes.\n",
        "\n",
        "Se deben unificar estos sub-niveles"
      ],
      "metadata": {
        "id": "dfoNtkUcm4gR"
      }
    },
    {
      "cell_type": "markdown",
      "source": [
        "### Comprobamos si hay errores tipograficos (valores como Yes, yes, YES), que representan la misma respuesta, pero escrito con mayúsculas y minúsculas"
      ],
      "metadata": {
        "id": "tx-x4UlFmikG"
      }
    },
    {
      "cell_type": "code",
      "source": [
        "# Obtener las columnas categóricas del DataFrame\n",
        "columnas_categoricas = df.select_dtypes(include=['object']).columns\n",
        "\n",
        "# Iterar sobre las columnas categóricas para imprimir las categorías únicas\n",
        "for columna in columnas_categoricas:\n",
        "    print(\"Categorías únicas en la columna '{}':\".format(columna))\n",
        "    print(df[columna].unique())\n",
        "    print()  # Agregar una línea en blanco para separar las categorías de cada columna\n"
      ],
      "metadata": {
        "colab": {
          "base_uri": "https://localhost:8080/"
        },
        "id": "UjbJ0X5nXnql",
        "outputId": "3d48db2e-cef9-49c9-e208-3b27977c37ff"
      },
      "execution_count": 21,
      "outputs": [
        {
          "output_type": "stream",
          "name": "stdout",
          "text": [
            "Categorías únicas en la columna 'job':\n",
            "['management' 'technician' 'entrepreneur' 'blue-collar' 'unknown'\n",
            " 'Management' 'retired' 'admin.' 'services' 'self-employed' 'MANAGEMENT'\n",
            " 'Self-employed' 'unemployed' 'housemaid' 'student' 'Services' 'Retired'\n",
            " 'administrative' nan]\n",
            "\n",
            "Categorías únicas en la columna 'marital':\n",
            "['married' 'single' 'div.' 'divorced' 'DIVORCED' 'Single' nan]\n",
            "\n",
            "Categorías únicas en la columna 'education':\n",
            "['tertiary' 'secondary' 'unknown' 'primary' 'SECONDARY' 'Secondary'\n",
            " 'Primary' 'sec.' 'Tertiary' 'UNK' nan]\n",
            "\n",
            "Categorías únicas en la columna 'default':\n",
            "['no' 'yes']\n",
            "\n",
            "Categorías únicas en la columna 'housing':\n",
            "['yes' 'no']\n",
            "\n",
            "Categorías únicas en la columna 'loan':\n",
            "['no' 'yes' 'No' 'YES' 'Yes' 'NO']\n",
            "\n",
            "Categorías únicas en la columna 'contact':\n",
            "['unknown' 'cellular' 'telephone' 'phone' 'mobile']\n",
            "\n",
            "Categorías únicas en la columna 'month':\n",
            "['may' 'nov' 'jun' 'jul' 'aug' 'oct' 'dec' 'jan' 'feb' 'mar' 'apr' 'sep']\n",
            "\n",
            "Categorías únicas en la columna 'poutcome':\n",
            "['unknown' 'UNK' 'failure' 'other' 'success' 'Success']\n",
            "\n",
            "Categorías únicas en la columna 'y':\n",
            "['no' 'yes']\n",
            "\n"
          ]
        }
      ]
    },
    {
      "cell_type": "markdown",
      "source": [
        "### Estandarizamos los valores a minúsculas"
      ],
      "metadata": {
        "id": "BXHPw5f8m9sA"
      }
    },
    {
      "cell_type": "code",
      "source": [
        "# Crear un diccionario de mapeo para las categorías que se deben reemplazar\n",
        "mapeo_job = {\n",
        "    'Management': 'management',\n",
        "    'MANAGEMENT': 'management',\n",
        "    'Services': 'services',\n",
        "    'Retired': 'retired',\n",
        "    'Self-employed': 'self-employed',\n",
        "    'admin.': 'administrative'\n",
        "}\n",
        "\n",
        "# Aplicar el mapeo para reemplazar las categorías en la columna 'job'\n",
        "df['job'] = df['job'].replace(mapeo_job)\n",
        "\n",
        "# Verificar nuevamente las categorías únicas en la columna 'job'\n",
        "print(\"Categorías únicas en la columna 'job' después del reemplazo:\")\n",
        "print(df['job'].unique())\n"
      ],
      "metadata": {
        "colab": {
          "base_uri": "https://localhost:8080/"
        },
        "id": "Ycip6WQEYt8d",
        "outputId": "ffcba25b-79ad-40b0-ecef-b8791b37161d"
      },
      "execution_count": 22,
      "outputs": [
        {
          "output_type": "stream",
          "name": "stdout",
          "text": [
            "Categorías únicas en la columna 'job' después del reemplazo:\n",
            "['management' 'technician' 'entrepreneur' 'blue-collar' 'unknown'\n",
            " 'retired' 'administrative' 'services' 'self-employed' 'unemployed'\n",
            " 'housemaid' 'student' nan]\n"
          ]
        }
      ]
    },
    {
      "cell_type": "code",
      "source": [
        "# Crear un diccionario de mapeo para las categorías que se deben reemplazar en cada columna\n",
        "mapeo_marital = {'div.': 'divorced', 'DIVORCED': 'divorced', 'Single': 'single'}\n",
        "mapeo_education = {'sec.': 'secondary', 'SECONDARY': 'secondary', 'Primary': 'primary', 'UNK': 'unknown'}\n",
        "mapeo_loan = {'No': 'no', 'YES': 'yes'}\n",
        "mapeo_poutcome = {'UNK': 'unknown', 'Success': 'success'}\n",
        "\n",
        "# Aplicar el mapeo para reemplazar las categorías en cada columna\n",
        "df['marital'] = df['marital'].replace(mapeo_marital)\n",
        "df['education'] = df['education'].replace(mapeo_education)\n",
        "df['loan'] = df['loan'].replace(mapeo_loan)\n",
        "df['poutcome'] = df['poutcome'].replace(mapeo_poutcome)\n",
        "\n",
        "# Verificar nuevamente las categorías únicas en cada columna\n",
        "print(\"Categorías únicas en la columna 'marital' después del reemplazo:\")\n",
        "print(df['marital'].unique())\n",
        "print()\n",
        "\n",
        "print(\"Categorías únicas en la columna 'education' después del reemplazo:\")\n",
        "print(df['education'].unique())\n",
        "print()\n",
        "\n",
        "print(\"Categorías únicas en la columna 'loan' después del reemplazo:\")\n",
        "print(df['loan'].unique())\n",
        "print()\n",
        "\n",
        "print(\"Categorías únicas en la columna 'contact' después del reemplazo:\")\n",
        "print(df['contact'].unique())\n",
        "print()\n",
        "\n",
        "print(\"Categorías únicas en la columna 'poutcome' después del reemplazo:\")\n",
        "print(df['poutcome'].unique())\n"
      ],
      "metadata": {
        "colab": {
          "base_uri": "https://localhost:8080/"
        },
        "id": "vbBk_7T3Y6-d",
        "outputId": "4f273dbd-29e6-4137-93bf-c12c45588cc1"
      },
      "execution_count": 23,
      "outputs": [
        {
          "output_type": "stream",
          "name": "stdout",
          "text": [
            "Categorías únicas en la columna 'marital' después del reemplazo:\n",
            "['married' 'single' 'divorced' nan]\n",
            "\n",
            "Categorías únicas en la columna 'education' después del reemplazo:\n",
            "['tertiary' 'secondary' 'unknown' 'primary' 'Secondary' 'Tertiary' nan]\n",
            "\n",
            "Categorías únicas en la columna 'loan' después del reemplazo:\n",
            "['no' 'yes' 'Yes' 'NO']\n",
            "\n",
            "Categorías únicas en la columna 'contact' después del reemplazo:\n",
            "['unknown' 'cellular' 'telephone' 'phone' 'mobile']\n",
            "\n",
            "Categorías únicas en la columna 'poutcome' después del reemplazo:\n",
            "['unknown' 'failure' 'other' 'success']\n"
          ]
        }
      ]
    },
    {
      "cell_type": "code",
      "source": [
        "# Crear un diccionario de mapeo para las categorías que se deben reemplazar en cada columna\n",
        "mapeo_education = {'Secondary': 'secondary', 'Tertiary': 'tertiary'}\n",
        "mapeo_loan = {'Yes': 'yes', 'NO': 'no'}\n",
        "mapeo_contact = {'mobile': 'cellular', 'phone': 'telephone'}\n",
        "\n",
        "# Aplicar el mapeo para reemplazar las categorías en cada columna\n",
        "df['education'] = df['education'].replace(mapeo_education)\n",
        "df['loan'] = df['loan'].replace(mapeo_loan)\n",
        "df['contact'] = df['contact'].replace(mapeo_contact)\n",
        "\n",
        "# Verificar nuevamente las categorías únicas en cada columna\n",
        "print(\"Categorías únicas en la columna 'education' después del reemplazo:\")\n",
        "print(df['education'].unique())\n",
        "print()\n",
        "\n",
        "print(\"Categorías únicas en la columna 'loan' después del reemplazo:\")\n",
        "print(df['loan'].unique())\n",
        "print()\n",
        "\n",
        "print(\"Categorías únicas en la columna 'contact' después del reemplazo:\")\n",
        "print(df['contact'].unique())\n",
        "print()\n",
        "\n",
        "print(\"Categorías únicas en la columna 'poutcome' después del reemplazo:\")\n",
        "print(df['poutcome'].unique())\n"
      ],
      "metadata": {
        "colab": {
          "base_uri": "https://localhost:8080/"
        },
        "id": "kXWgLVzmZicc",
        "outputId": "83ceba94-c3a3-4b38-dbb8-66d4dbe26728"
      },
      "execution_count": 24,
      "outputs": [
        {
          "output_type": "stream",
          "name": "stdout",
          "text": [
            "Categorías únicas en la columna 'education' después del reemplazo:\n",
            "['tertiary' 'secondary' 'unknown' 'primary' nan]\n",
            "\n",
            "Categorías únicas en la columna 'loan' después del reemplazo:\n",
            "['no' 'yes']\n",
            "\n",
            "Categorías únicas en la columna 'contact' después del reemplazo:\n",
            "['unknown' 'cellular' 'telephone']\n",
            "\n",
            "Categorías únicas en la columna 'poutcome' después del reemplazo:\n",
            "['unknown' 'failure' 'other' 'success']\n"
          ]
        }
      ]
    },
    {
      "cell_type": "code",
      "source": [
        "# Filtrar las filas con valores nulos en la columna 'education'\n",
        "filas_con_nan_education = df[df['education'].isnull()]\n",
        "\n",
        "# Imprimir las filas que tienen valores nulos en 'education'\n",
        "print(\"Filas con valores nulos en 'education':\")\n",
        "print(filas_con_nan_education)\n"
      ],
      "metadata": {
        "colab": {
          "base_uri": "https://localhost:8080/"
        },
        "id": "LTfLixkHZv-n",
        "outputId": "d5e5e648-3fa2-415c-cb3b-cd0f908b30c1"
      },
      "execution_count": 25,
      "outputs": [
        {
          "output_type": "stream",
          "name": "stdout",
          "text": [
            "Filas con valores nulos en 'education':\n",
            "       age          job   marital education default  balance housing loan  \\\n",
            "37658   43  blue-collar  divorced       NaN      no    688.0     yes   no   \n",
            "\n",
            "        contact  day month  duration  campaign  pdays  previous poutcome   y  \n",
            "37658  cellular   14   may     149.0         3   -1.0         0  unknown  no  \n"
          ]
        }
      ]
    },
    {
      "cell_type": "code",
      "source": [
        "# Seleccionar las filas con valores nulos en la columna 'education'\n",
        "education_null_indices = df_clean[df_clean['education'].isnull()].index\n",
        "\n",
        "# Eliminar las filas con valores nulos en la columna 'education'\n",
        "df_clean = df_clean.drop(education_null_indices)\n",
        "\n",
        "# Mostrar el número de filas después de eliminar las filas con valores nulos en 'education'\n",
        "print(\"Número de filas después de eliminar filas con valores nulos en 'education':\", len(df_clean))\n"
      ],
      "metadata": {
        "colab": {
          "base_uri": "https://localhost:8080/"
        },
        "id": "q_U989rvoYij",
        "outputId": "b40ebf80-d0e5-43c1-e644-2e5e51cd8e0c"
      },
      "execution_count": 26,
      "outputs": [
        {
          "output_type": "stream",
          "name": "stdout",
          "text": [
            "Número de filas después de eliminar filas con valores nulos en 'education': 45192\n"
          ]
        }
      ]
    },
    {
      "cell_type": "markdown",
      "source": [
        "## Conclusiones"
      ],
      "metadata": {
        "id": "wgOD_fSUAIOt"
      }
    },
    {
      "cell_type": "markdown",
      "source": [
        "Después de limpiar el dataset, pasamos de 45215 filas a 45192, tras eliminar registros repetidos, outliers, valores negativos en variables donde claramente son un error (como en el caso de duration), además de corregir errores tipográficos en las variables categóricas."
      ],
      "metadata": {
        "id": "zhvY5JIDjjVK"
      }
    }
  ]
}
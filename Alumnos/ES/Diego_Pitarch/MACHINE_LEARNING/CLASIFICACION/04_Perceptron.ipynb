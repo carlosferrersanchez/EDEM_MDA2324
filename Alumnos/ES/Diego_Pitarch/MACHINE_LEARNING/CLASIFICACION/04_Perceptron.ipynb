{
  "nbformat": 4,
  "nbformat_minor": 0,
  "metadata": {
    "colab": {
      "provenance": []
    },
    "kernelspec": {
      "name": "python3",
      "display_name": "Python 3"
    },
    "language_info": {
      "name": "python"
    }
  },
  "cells": [
    {
      "cell_type": "markdown",
      "source": [
        "# ENTREGABLE 5"
      ],
      "metadata": {
        "id": "xr0fIzfVX-m2"
      }
    },
    {
      "cell_type": "markdown",
      "source": [
        "# INSTRUCCIONES"
      ],
      "metadata": {
        "id": "XkFBXXIeYBul"
      }
    },
    {
      "cell_type": "markdown",
      "source": [
        "Entrenar un perceptrón para que sea capaz de simular el comportamiento de una puerta AND.\n",
        "\n",
        "- Generar 5000 muestras aleatorias de entrenamiento, 500 de validación y 500 de test.\n",
        "\n",
        "\n",
        "*Pistas*\n",
        "\n",
        " * w es un vector que corresponde al valor de los pesos de cada neurona de entrada\n",
        " * b es un valor que corresponde al bias del modelo\n",
        " * El valor de la suma ponderada será el valor resultante de: *(pesos x entradas) + bias*. Para ello utilizar el producto escalar (*np.dot*)\n"
      ],
      "metadata": {
        "id": "Qy5ok3zYYDsU"
      }
    },
    {
      "cell_type": "code",
      "source": [
        "import numpy as np\n",
        "from tqdm import tqdm\n",
        "import matplotlib.pyplot as plt\n",
        "from sklearn.metrics import confusion_matrix"
      ],
      "metadata": {
        "id": "E94bkgYT0jcE"
      },
      "execution_count": 1,
      "outputs": []
    },
    {
      "cell_type": "code",
      "execution_count": 3,
      "metadata": {
        "id": "7-EvIbuU0hW3"
      },
      "outputs": [],
      "source": [
        "class Perceptron:\n",
        "    def __init__(self, input_size):\n",
        "        # Inicializamos los pesos y el sesgo de manera aleatoria\n",
        "        self.weights = np.random.randn(input_size)\n",
        "        self.bias = np.random.randn()\n",
        "\n",
        "    def sigmoid(self, x):\n",
        "        # Función de activación: sigmoide\n",
        "        return 1 / (1 + np.exp(-x))\n",
        "\n",
        "    def sigmoid_derivative(self, x):\n",
        "        # Derivada de la función sigmoide\n",
        "        return self.sigmoid(x) * (1 - self.sigmoid(x))\n",
        "\n",
        "    def predict(self, inputs):\n",
        "        # Calculamos la suma ponderada de las entradas\n",
        "        weighted_sum = np.dot(inputs, self.weights) + self.bias\n",
        "        # Aplicamos la función de activación y devolvemos la predicción\n",
        "        return self.sigmoid(weighted_sum)\n",
        "\n",
        "    def train(self, X_train, Y_train, X_validation, Y_validation, learning_rate=0.1, epochs=100):\n",
        "\n",
        "        train_error_by_epoch = []\n",
        "        val_error_by_epoch = []\n",
        "\n",
        "        for epoch in range(epochs):\n",
        "            train_error_acum = 0\n",
        "            for i in range(X_train.shape[0]):\n",
        "\n",
        "                inputs = X_train[i]\n",
        "\n",
        "                # Calcular la predicción del perceptrón\n",
        "                prediction = self.predict(inputs)\n",
        "\n",
        "                # Calcular el error\n",
        "                diferencia =  diferencia = Y_train[i] - prediction\n",
        "                error = diferencia ** 2\n",
        "                train_error_acum += error # Aquí se acumula el error\n",
        "\n",
        "                # Actualizar pesos y sesgo mediante el descenso del gradiente\n",
        "                weights_derivative = -2 * diferencia * self.sigmoid_derivative(prediction) * inputs\n",
        "                bias_derivative = -2 * diferencia * self.sigmoid_derivative(prediction)\n",
        "                self.weights = self.weights - learning_rate * weights_derivative\n",
        "                self.bias = self.bias - learning_rate * bias_derivative\n",
        "\n",
        "            # Calcular el error promedio por epoch\n",
        "            train_error_acum /= X_train.shape[0]\n",
        "            train_error_by_epoch.append(train_error_acum)\n",
        "\n",
        "            val_error_acum = 0\n",
        "            for i in range(X_validation.shape[0]):\n",
        "                inputs = X_validation[i]\n",
        "                prediction = self.predict(inputs)\n",
        "\n",
        "                diferencia = Y_validation[i] - prediction\n",
        "                error = diferencia ** 2\n",
        "                val_error_acum += error # Aquí se acumula el error\n",
        "\n",
        "            # Calcular el error promedio de validación por epoch\n",
        "            val_error_acum /= X_validation.shape[0]\n",
        "            val_error_by_epoch.append(val_error_acum)\n",
        "\n",
        "\n",
        "            # Visualización del progreso\n",
        "            if epoch % 10 == 0:\n",
        "                print('epoch:', epoch, '| train error:', train_error_acum, '| val error:', val_error_acum)\n",
        "\n",
        "        # Visualización del error de entrenamiento por epoch\n",
        "        plt.figure()\n",
        "        plt.plot(range(epochs), train_error_by_epoch, '-b')\n",
        "        plt.xlabel('Epoch')\n",
        "        plt.ylabel('Error cuadrático promedio')\n",
        "        plt.title('Error de Entrenamiento por Epoch')\n",
        "        plt.show()\n",
        "\n",
        "        # Visualización del error de validación por epoch\n",
        "        plt.figure()\n",
        "        plt.plot(range(epochs), val_error_by_epoch, '-b')\n",
        "        plt.xlabel('Epoch')\n",
        "        plt.ylabel('Error cuadrático promedio')\n",
        "        plt.title('Error de Validación por Epoch')\n",
        "        plt.show()"
      ]
    },
    {
      "cell_type": "code",
      "source": [
        "# Datos de entrenamiento y validación para la puerta AND\n",
        "N_samples = 5000\n",
        "N_inputs = 2\n",
        "train_size = 0.8\n",
        "N_validation = int((1 - train_size) * N_samples)\n",
        "\n",
        "X_train = np.random.randint(2, size=(N_samples, N_inputs))\n",
        "Y_train = np.logical_and(X_train[:,0], X_train[:,1]).astype('uint8')\n",
        "\n",
        "X_validation = np.random.randint(2, size=(N_validation, 2))\n",
        "Y_validation = np.logical_and(X_validation[:,0], X_validation[:,1]).astype('uint8')\n",
        "\n",
        "# Visualizar algunas muestras\n",
        "print(\"X_data (first 5 samples):\")\n",
        "print(X_train[:5])\n",
        "\n",
        "print(\"Y_data (first 5 samples):\")\n",
        "print(Y_train[:5])"
      ],
      "metadata": {
        "id": "Qv73YJdB2cxR",
        "colab": {
          "base_uri": "https://localhost:8080/"
        },
        "outputId": "7bc8633b-b53f-45bc-872a-77da609e3b3d"
      },
      "execution_count": 4,
      "outputs": [
        {
          "output_type": "stream",
          "name": "stdout",
          "text": [
            "X_data (first 5 samples):\n",
            "[[0 0]\n",
            " [0 1]\n",
            " [1 0]\n",
            " [0 1]\n",
            " [0 1]]\n",
            "Y_data (first 5 samples):\n",
            "[0 0 0 0 0]\n"
          ]
        }
      ]
    },
    {
      "cell_type": "code",
      "source": [
        "# Crear y entrenar el perceptrón para la puerta AND\n",
        "perceptron_and = Perceptron(input_size=N_inputs)"
      ],
      "metadata": {
        "id": "YZ9O9kZr2e1m"
      },
      "execution_count": 5,
      "outputs": []
    },
    {
      "cell_type": "code",
      "source": [
        "# Comprobar predicción del modelo sin entrenar\n",
        "index = 4\n",
        "\n",
        "th = 0.5\n",
        "print('Input:', X_validation[index])\n",
        "inputs = X_validation[index]\n",
        "prob = perceptron_and.predict(inputs)\n",
        "print('Probabilidad:', prob)\n",
        "print('Prediction:', (prob>th).astype('int'))"
      ],
      "metadata": {
        "id": "OATvOY6rZAA-",
        "colab": {
          "base_uri": "https://localhost:8080/"
        },
        "outputId": "e2c56b1f-0d18-4565-ed93-8f5864aaa90e"
      },
      "execution_count": 6,
      "outputs": [
        {
          "output_type": "stream",
          "name": "stdout",
          "text": [
            "Input: [1 0]\n",
            "Probabilidad: 0.43208261341021353\n",
            "Prediction: 0\n"
          ]
        }
      ]
    },
    {
      "cell_type": "code",
      "source": [
        "# Obtenemos un overview de como funciona el modelo sin entrenar de forma aleatoria\n",
        "predictions = []\n",
        "\n",
        "## itera por cada muestra de validación y genera la matriz de confusion\n",
        "for inputs in X_validation:\n",
        "    prob = perceptron_and.predict(inputs)\n",
        "    predictions.append(int(prob > th))\n",
        "\n",
        "# Calcula la matriz de confusión\n",
        "conf_matrix = confusion_matrix(Y_validation, predictions)\n",
        "\n",
        "# Visualiza la matriz de confusión\n",
        "print(\"Matriz de Confusión:\")\n",
        "print(conf_matrix)"
      ],
      "metadata": {
        "id": "sNClS_hgZDa_",
        "colab": {
          "base_uri": "https://localhost:8080/"
        },
        "outputId": "4affc8f1-1a1d-4b61-e475-09a2f384af3c"
      },
      "execution_count": 7,
      "outputs": [
        {
          "output_type": "stream",
          "name": "stdout",
          "text": [
            "Matriz de Confusión:\n",
            "[[527 218]\n",
            " [254   0]]\n"
          ]
        }
      ]
    },
    {
      "cell_type": "code",
      "source": [
        "# Entrenar el perceptrón\n",
        "perceptron_and.train(X_train, Y_train, X_validation, Y_validation)"
      ],
      "metadata": {
        "id": "cyDSfwTx2hLW",
        "colab": {
          "base_uri": "https://localhost:8080/",
          "height": 1000
        },
        "outputId": "9fafe859-4f46-48e8-b371-f9a7669dfde0"
      },
      "execution_count": 8,
      "outputs": [
        {
          "output_type": "stream",
          "name": "stdout",
          "text": [
            "epoch: 0 | train error: 0.03768844097071623 | val error: 0.006510906069061361\n",
            "epoch: 10 | train error: 7.525879595111902e-05 | val error: 7.003601476669265e-05\n",
            "epoch: 20 | train error: 1.9724960637587323e-05 | val error: 1.924841915486477e-05\n",
            "epoch: 30 | train error: 8.898498560992482e-06 | val error: 8.827291098133725e-06\n",
            "epoch: 40 | train error: 5.0412856640960485e-06 | val error: 5.04282879816586e-06\n",
            "epoch: 50 | train error: 3.239780920795679e-06 | val error: 3.2571747595946103e-06\n",
            "epoch: 60 | train error: 2.255861502494489e-06 | val error: 2.275662012842608e-06\n",
            "epoch: 70 | train error: 1.6604446115947056e-06 | val error: 1.679089174338851e-06\n",
            "epoch: 80 | train error: 1.273004497434953e-06 | val error: 1.2896507158190317e-06\n",
            "epoch: 90 | train error: 1.006869551251082e-06 | val error: 1.021488173102393e-06\n"
          ]
        },
        {
          "output_type": "display_data",
          "data": {
            "text/plain": [
              "<Figure size 640x480 with 1 Axes>"
            ],
            "image/png": "[encoded data removed]"
          },
          "metadata": {}
        },
        {
          "output_type": "display_data",
          "data": {
            "text/plain": [
              "<Figure size 640x480 with 1 Axes>"
            ],
            "image/png": "[encoded data removed]"
          },
          "metadata": {}
        }
      ]
    },
    {
      "cell_type": "code",
      "source": [
        "# Comprobar ahora la predicción del modelo entrenado en el set de validacion\n",
        "index = 4\n",
        "\n",
        "th = 0.5\n",
        "print('Input:', X_validation[index])\n",
        "inputs = X_validation[index]\n",
        "prob = perceptron_and.predict(inputs)\n",
        "print('Probabilidad:', prob)\n",
        "print('Prediction:', (prob>th).astype('int'))"
      ],
      "metadata": {
        "id": "i7x_ASxyZaue",
        "colab": {
          "base_uri": "https://localhost:8080/"
        },
        "outputId": "be2ee3c1-5ecc-482a-d9b8-8e6bccca4312"
      },
      "execution_count": 9,
      "outputs": [
        {
          "output_type": "stream",
          "name": "stdout",
          "text": [
            "Input: [1 0]\n",
            "Probabilidad: 0.0008324378496827233\n",
            "Prediction: 0\n"
          ]
        }
      ]
    },
    {
      "cell_type": "code",
      "source": [
        "# Evaluamos cómo funciona el modelo en el set de validación\n",
        "\n",
        "## itera por cada muestra de validación guardando las predicciones en una lista y genera la matriz de confusion\n",
        "predictions = []\n",
        "\n",
        "for inputs in X_validation:\n",
        "    prob = perceptron_and.predict(inputs)\n",
        "    predictions.append(int(prob > th))\n",
        "\n",
        "# Calcula la matriz de confusión\n",
        "conf_matrix = confusion_matrix(Y_validation, predictions)\n",
        "\n",
        "# Visualiza la matriz de confusión\n",
        "print(\"Matriz de Confusión:\")\n",
        "print(conf_matrix)"
      ],
      "metadata": {
        "id": "3f1Qjl0GeXqF",
        "colab": {
          "base_uri": "https://localhost:8080/"
        },
        "outputId": "73609eef-1876-419a-def5-741781eac5c1"
      },
      "execution_count": 10,
      "outputs": [
        {
          "output_type": "stream",
          "name": "stdout",
          "text": [
            "Matriz de Confusión:\n",
            "[[745   0]\n",
            " [  0 254]]\n"
          ]
        }
      ]
    },
    {
      "cell_type": "code",
      "source": [
        "# Evaluamos cómo funciona el modelo en el set de test\n",
        "\n",
        "## Generar el set de test (de forma similar al de validación)\n",
        "X_test = np.random.randint(2, size=(N_validation, 2))\n",
        "Y_test = np.logical_and(X_test[:,0], X_test[:,1]).astype('uint8')\n",
        "## itera por cada muestra de test guardando las predicciones en una lista y genera la matriz de confusion\n",
        "predictions_test = []\n",
        "\n",
        "# Iterar por cada muestra de test guardando las predicciones en una lista\n",
        "for inputs in X_test:\n",
        "    prob = perceptron_and.predict(inputs)\n",
        "    predictions_test.append(int(prob > th))\n",
        "## Calcula la matriz de confusión\n",
        "conf_matrix_test = confusion_matrix(Y_test, predictions_test)\n",
        "\n",
        "## Visualiza la matriz de confusión\n",
        "print(\"Matriz de Confusión (Set de Test):\")\n",
        "print(conf_matrix_test)\n",
        "\n"
      ],
      "metadata": {
        "id": "1vcJGytH2uqj",
        "colab": {
          "base_uri": "https://localhost:8080/"
        },
        "outputId": "3fcf1e10-be21-4c1b-aa25-6999acdb8540"
      },
      "execution_count": 11,
      "outputs": [
        {
          "output_type": "stream",
          "name": "stdout",
          "text": [
            "Matriz de Confusión (Set de Test):\n",
            "[[760   0]\n",
            " [  0 239]]\n"
          ]
        }
      ]
    },
    {
      "cell_type": "code",
      "source": [],
      "metadata": {
        "id": "YbBk-pR1ZWWE"
      },
      "execution_count": null,
      "outputs": []
    }
  ]
}
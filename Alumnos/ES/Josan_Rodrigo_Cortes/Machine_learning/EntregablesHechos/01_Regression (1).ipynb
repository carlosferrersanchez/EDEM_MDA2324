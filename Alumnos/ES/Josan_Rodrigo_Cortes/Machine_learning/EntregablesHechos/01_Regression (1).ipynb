{
  "cells": [
    {
      "cell_type": "markdown",
      "metadata": {
        "id": "mYJdsFxinuN5"
      },
      "source": [
        "# Problema\n",
        "\n",
        "Predecir el coste del seguro"
      ]
    },
    {
      "cell_type": "markdown",
      "metadata": {
        "id": "XpPr25I0aINE"
      },
      "source": [
        "## Instrucciones\n",
        "\n",
        " Utilizar el dataset (insurance.csv) para entrenar un modelo de regresión capaz de predecir el valor del seguro en función de las características del cliente. Realizar limpieza, preprocesado modelado y testeo del modelo aportando conclusiones de todos estos pasos."
      ]
    },
    {
      "cell_type": "markdown",
      "metadata": {
        "id": "kNF4GgV_n34K"
      },
      "source": [
        "# El set de datos\n",
        "\n",
        "* age: age of primary beneficiary\n",
        "\n",
        "* sex: insurance contractor gender, female, male\n",
        "\n",
        "* bmi: Body mass index, providing an understanding of body, weights that are relatively high or low relative to height,\n",
        "objective index of body weight (kg / m ^ 2) using the ratio of height to weight, ideally 18.5 to 24.9\n",
        "\n",
        "* children: Number of children covered by health insurance / Number of dependents\n",
        "\n",
        "* smoker: Smoking\n",
        "\n",
        "* region: the beneficiary's residential area in the US, northeast, southeast, southwest, northwest.\n",
        "\n",
        "* charges: Individual medical costs billed by health insurance\n",
        "\n"
      ]
    },
    {
      "cell_type": "code",
      "execution_count": 2,
      "metadata": {
        "id": "LDnXEh9vn2GX"
      },
      "outputs": [],
      "source": [
        "# imports\n",
        "import pandas as pd\n",
        "# from google.colab import drive\n",
        "# drive.mount('/gdrive')"
      ]
    },
    {
      "cell_type": "code",
      "execution_count": 3,
      "metadata": {
        "id": "uZkDH4HMoERG"
      },
      "outputs": [],
      "source": [
        "ruta = \"C:\\\\Users\\\\josan\\\\Documents\\\\GitHub\\\\EDEM_MDA2324\\\\Alumnos\\\\ES\\\\Josan_Rodrigo_Cortes\\\\Machine_learning\\\\EntregablesHechos\\\\insurance (1).csv\"\n",
        "data = pd.read_csv(ruta)"
      ]
    },
    {
      "cell_type": "code",
      "execution_count": 4,
      "metadata": {
        "id": "2C6TxrrjoLca"
      },
      "outputs": [
        {
          "name": "stdout",
          "output_type": "stream",
          "text": [
            "(1338, 7)\n"
          ]
        },
        {
          "data": {
            "text/html": [
              "<div>\n",
              "<style scoped>\n",
              "    .dataframe tbody tr th:only-of-type {\n",
              "        vertical-align: middle;\n",
              "    }\n",
              "\n",
              "    .dataframe tbody tr th {\n",
              "        vertical-align: top;\n",
              "    }\n",
              "\n",
              "    .dataframe thead th {\n",
              "        text-align: right;\n",
              "    }\n",
              "</style>\n",
              "<table border=\"1\" class=\"dataframe\">\n",
              "  <thead>\n",
              "    <tr style=\"text-align: right;\">\n",
              "      <th></th>\n",
              "      <th>age</th>\n",
              "      <th>sex</th>\n",
              "      <th>bmi</th>\n",
              "      <th>children</th>\n",
              "      <th>smoker</th>\n",
              "      <th>region</th>\n",
              "      <th>charges</th>\n",
              "    </tr>\n",
              "  </thead>\n",
              "  <tbody>\n",
              "    <tr>\n",
              "      <th>0</th>\n",
              "      <td>19</td>\n",
              "      <td>female</td>\n",
              "      <td>27.900</td>\n",
              "      <td>0</td>\n",
              "      <td>yes</td>\n",
              "      <td>southwest</td>\n",
              "      <td>16884.92400</td>\n",
              "    </tr>\n",
              "    <tr>\n",
              "      <th>1</th>\n",
              "      <td>18</td>\n",
              "      <td>male</td>\n",
              "      <td>33.770</td>\n",
              "      <td>1</td>\n",
              "      <td>no</td>\n",
              "      <td>southeast</td>\n",
              "      <td>1725.55230</td>\n",
              "    </tr>\n",
              "    <tr>\n",
              "      <th>2</th>\n",
              "      <td>28</td>\n",
              "      <td>male</td>\n",
              "      <td>33.000</td>\n",
              "      <td>3</td>\n",
              "      <td>no</td>\n",
              "      <td>southeast</td>\n",
              "      <td>4449.46200</td>\n",
              "    </tr>\n",
              "    <tr>\n",
              "      <th>3</th>\n",
              "      <td>33</td>\n",
              "      <td>male</td>\n",
              "      <td>22.705</td>\n",
              "      <td>0</td>\n",
              "      <td>no</td>\n",
              "      <td>northwest</td>\n",
              "      <td>21984.47061</td>\n",
              "    </tr>\n",
              "    <tr>\n",
              "      <th>4</th>\n",
              "      <td>32</td>\n",
              "      <td>male</td>\n",
              "      <td>28.880</td>\n",
              "      <td>0</td>\n",
              "      <td>no</td>\n",
              "      <td>northwest</td>\n",
              "      <td>3866.85520</td>\n",
              "    </tr>\n",
              "  </tbody>\n",
              "</table>\n",
              "</div>"
            ],
            "text/plain": [
              "   age     sex     bmi  children smoker     region      charges\n",
              "0   19  female  27.900         0    yes  southwest  16884.92400\n",
              "1   18    male  33.770         1     no  southeast   1725.55230\n",
              "2   28    male  33.000         3     no  southeast   4449.46200\n",
              "3   33    male  22.705         0     no  northwest  21984.47061\n",
              "4   32    male  28.880         0     no  northwest   3866.85520"
            ]
          },
          "execution_count": 4,
          "metadata": {},
          "output_type": "execute_result"
        }
      ],
      "source": [
        "print(data.shape)\n",
        "data.head()"
      ]
    },
    {
      "cell_type": "markdown",
      "metadata": {
        "id": "suOncPeIo2Ln"
      },
      "source": [
        "# Objetivo\n",
        "\n",
        "Generar un model de regresión capaz de predecir el valor del seguro en base a las características del cliente.\n",
        "\n",
        "* Aplicar las técnicas oportunas de procesamiento de datos\n",
        "\n",
        "* Valorar diferentes modelos de regresión\n",
        "\n",
        "* Comparación entre modelos\n",
        "\n",
        "* Ensemble\n",
        "\n",
        "* Métricas\n",
        "\n",
        "* Conclusiones finales"
      ]
    },
    {
      "cell_type": "code",
      "execution_count": 5,
      "metadata": {},
      "outputs": [
        {
          "name": "stdout",
          "output_type": "stream",
          "text": [
            "<class 'pandas.core.frame.DataFrame'>\n",
            "RangeIndex: 1338 entries, 0 to 1337\n",
            "Data columns (total 7 columns):\n",
            " #   Column    Non-Null Count  Dtype  \n",
            "---  ------    --------------  -----  \n",
            " 0   age       1338 non-null   int64  \n",
            " 1   sex       1338 non-null   object \n",
            " 2   bmi       1338 non-null   float64\n",
            " 3   children  1338 non-null   int64  \n",
            " 4   smoker    1338 non-null   object \n",
            " 5   region    1338 non-null   object \n",
            " 6   charges   1338 non-null   float64\n",
            "dtypes: float64(2), int64(2), object(3)\n",
            "memory usage: 73.3+ KB\n"
          ]
        }
      ],
      "source": [
        "data.info()"
      ]
    },
    {
      "cell_type": "code",
      "execution_count": 8,
      "metadata": {},
      "outputs": [
        {
          "name": "stdout",
          "output_type": "stream",
          "text": [
            "Valores únicos de la variable age: [19 18 28 33 32 31 46 37 60 25 62 23 56 27 52 30 34 59 63 55 22 26 35 24\n",
            " 41 38 36 21 48 40 58 53 43 64 20 61 44 57 29 45 54 49 47 51 42 50 39]\n",
            "Valores únicos de la variable sex: ['female' 'male']\n",
            "Valores únicos de la variable bmi: [27.9   33.77  33.    22.705 28.88  25.74  33.44  27.74  29.83  25.84\n",
            " 26.22  26.29  34.4   39.82  42.13  24.6   30.78  23.845 40.3   35.3\n",
            " 36.005 32.4   34.1   31.92  28.025 27.72  23.085 32.775 17.385 36.3\n",
            " 35.6   26.315 28.6   28.31  36.4   20.425 32.965 20.8   36.67  39.9\n",
            " 26.6   36.63  21.78  30.8   37.05  37.3   38.665 34.77  24.53  35.2\n",
            " 35.625 33.63  28.    34.43  28.69  36.955 31.825 31.68  22.88  37.335\n",
            " 27.36  33.66  24.7   25.935 22.42  28.9   39.1   36.19  23.98  24.75\n",
            " 28.5   28.1   32.01  27.4   34.01  29.59  35.53  39.805 26.885 38.285\n",
            " 37.62  41.23  34.8   22.895 31.16  27.2   26.98  39.49  24.795 31.3\n",
            " 38.28  19.95  19.3   31.6   25.46  30.115 29.92  27.5   28.4   30.875\n",
            " 27.94  35.09  29.7   35.72  32.205 28.595 49.06  27.17  23.37  37.1\n",
            " 23.75  28.975 31.35  33.915 28.785 28.3   37.4   17.765 34.7   26.505\n",
            " 22.04  35.9   25.555 28.05  25.175 31.9   36.    32.49  25.3   29.735\n",
            " 38.83  30.495 37.73  37.43  24.13  37.145 39.52  24.42  27.83  36.85\n",
            " 39.6   29.8   29.64  28.215 37.    33.155 18.905 41.47  30.3   15.96\n",
            " 33.345 37.7   27.835 29.2   26.41  30.69  41.895 30.9   32.2   32.11\n",
            " 31.57  26.2   30.59  32.8   18.05  39.33  32.23  24.035 36.08  22.3\n",
            " 26.4   31.8   26.73  23.1   23.21  33.7   33.25  24.64  33.88  38.06\n",
            " 41.91  31.635 36.195 17.8   24.51  22.22  38.39  29.07  22.135 26.8\n",
            " 30.02  35.86  20.9   17.29  34.21  25.365 40.15  24.415 25.2   26.84\n",
            " 24.32  42.35  19.8   32.395 30.2   29.37  34.2   27.455 27.55  20.615\n",
            " 24.3   31.79  21.56  28.12  40.565 27.645 31.2   26.62  48.07  36.765\n",
            " 33.4   45.54  28.82  22.99  27.7   25.41  34.39  22.61  37.51  38.\n",
            " 33.33  34.865 33.06  35.97  31.4   25.27  40.945 34.105 36.48  33.8\n",
            " 36.7   36.385 34.5   32.3   27.6   29.26  35.75  23.18  25.6   35.245\n",
            " 43.89  20.79  30.5   21.7   21.89  24.985 32.015 30.4   21.09  22.23\n",
            " 32.9   24.89  31.46  17.955 30.685 43.34  39.05  30.21  31.445 19.855\n",
            " 31.02  38.17  20.6   47.52  20.4   38.38  24.31  23.6   21.12  30.03\n",
            " 17.48  20.235 17.195 23.9   35.15  35.64  22.6   39.16  27.265 29.165\n",
            " 16.815 33.1   26.9   33.11  31.73  46.75  29.45  32.68  33.5   43.01\n",
            " 36.52  26.695 25.65  29.6   38.6   23.4   46.53  30.14  30.    38.095\n",
            " 28.38  28.7   33.82  24.09  32.67  25.1   32.56  41.325 39.5   34.3\n",
            " 31.065 21.47  25.08  43.4   25.7   27.93  39.2   26.03  30.25  28.93\n",
            " 35.7   35.31  31.    44.22  26.07  25.8   39.425 40.48  38.9   47.41\n",
            " 35.435 46.7   46.2   21.4   23.8   44.77  32.12  29.1   37.29  43.12\n",
            " 36.86  34.295 23.465 45.43  23.65  20.7   28.27  35.91  29.    19.57\n",
            " 31.13  21.85  40.26  33.725 29.48  32.6   37.525 23.655 37.8   19.\n",
            " 21.3   33.535 42.46  38.95  36.1   29.3   39.7   38.19  42.4   34.96\n",
            " 42.68  31.54  29.81  21.375 40.81  17.4   20.3   18.5   26.125 41.69\n",
            " 24.1   36.2   40.185 39.27  34.87  44.745 29.545 23.54  40.47  40.66\n",
            " 36.6   35.4   27.075 28.405 21.755 40.28  30.1   32.1   23.7   35.5\n",
            " 29.15  27.    37.905 22.77  22.8   34.58  27.1   19.475 26.7   34.32\n",
            " 24.4   41.14  22.515 41.8   26.18  42.24  26.51  35.815 41.42  36.575\n",
            " 42.94  21.01  24.225 17.67  31.5   31.1   32.78  32.45  50.38  47.6\n",
            " 25.4   29.9   43.7   24.86  28.8   29.5   29.04  38.94  44.    20.045\n",
            " 40.92  35.1   29.355 32.585 32.34  39.8   24.605 33.99  28.2   25.\n",
            " 33.2   23.2   20.1   32.5   37.18  46.09  39.93  35.8   31.255 18.335\n",
            " 42.9   26.79  39.615 25.9   25.745 28.16  23.56  40.5   35.42  39.995\n",
            " 34.675 20.52  23.275 36.29  32.7   19.19  20.13  23.32  45.32  34.6\n",
            " 18.715 21.565 23.    37.07  52.58  42.655 21.66  32.    18.3   47.74\n",
            " 22.1   19.095 31.24  29.925 20.35  25.85  42.75  18.6   23.87  45.9\n",
            " 21.5   30.305 44.88  41.1   40.37  28.49  33.55  40.375 27.28  17.86\n",
            " 33.3   39.14  21.945 24.97  23.94  34.485 21.8   23.3   36.96  21.28\n",
            " 29.4   27.3   37.9   37.715 23.76  25.52  27.61  27.06  39.4   34.9\n",
            " 22.    30.36  27.8   53.13  39.71  32.87  44.7   30.97 ]\n",
            "Valores únicos de la variable children: [0 1 3 2 5 4]\n",
            "Valores únicos de la variable smoker: ['yes' 'no']\n",
            "Valores únicos de la variable region: ['southwest' 'southeast' 'northwest' 'northeast']\n",
            "Valores únicos de la variable charges: [16884.924   1725.5523  4449.462  ...  1629.8335  2007.945  29141.3603]\n"
          ]
        }
      ],
      "source": [
        "for col in data.columns:\n",
        "    print(f'Valores únicos de la variable {col}: {data[col].unique()}')"
      ]
    },
    {
      "cell_type": "code",
      "execution_count": 15,
      "metadata": {},
      "outputs": [
        {
          "name": "stdout",
          "output_type": "stream",
          "text": [
            "\n",
            "Asignaciones de Label Encoder para cada columna:\n",
            "sex: {'female': 0, 'male': 1}\n",
            "smoker: {'no': 0, 'yes': 1}\n",
            "region: {'northeast': 0, 'northwest': 1, 'southeast': 2, 'southwest': 3}\n"
          ]
        }
      ],
      "source": [
        "from sklearn.preprocessing import LabelEncoder\n",
        "\n",
        "label_mappings={}\n",
        "\n",
        "le = LabelEncoder()\n",
        "\n",
        "data['sex'] = le.fit_transform(data['sex'])\n",
        "# Almacenar las clases y sus etiquetas correspondientes\n",
        "label_mappings['sex'] = dict(zip(le.classes_, le.transform(le.classes_)))\n",
        "\n",
        "data['smoker'] = le.fit_transform(data['smoker'])\n",
        "# Almacenar las clases y sus etiquetas correspondientes\n",
        "label_mappings['smoker'] = dict(zip(le.classes_, le.transform(le.classes_)))\n",
        "\n",
        "data['region'] = le.fit_transform(data['region'])\n",
        "# Almacenar las clases y sus etiquetas correspondientes\n",
        "label_mappings['region'] = dict(zip(le.classes_, le.transform(le.classes_)))\n",
        "\n",
        "print(\"\\nAsignaciones de Label Encoder para cada columna:\")\n",
        "for column, mappings in label_mappings.items():\n",
        "    print(f\"{column}: {mappings}\")"
      ]
    },
    {
      "cell_type": "markdown",
      "metadata": {
        "id": "Ee-3csHRJxqW"
      },
      "source": [
        "## Implementación"
      ]
    },
    {
      "cell_type": "code",
      "execution_count": 33,
      "metadata": {
        "id": "oGEq8EGTpp7g"
      },
      "outputs": [],
      "source": [
        "from sklearn.linear_model import LinearRegression, Ridge, Lasso, ElasticNet\n",
        "from sklearn.tree import DecisionTreeRegressor\n",
        "from sklearn.ensemble import RandomForestRegressor, GradientBoostingRegressor, AdaBoostRegressor, ExtraTreesRegressor\n",
        "from sklearn.svm import SVR\n",
        "from xgboost import XGBRegressor\n",
        "from sklearn.metrics import mean_squared_error\n",
        "\n",
        "# Diccionario inicial con instancias de modelo\n",
        "modelos_regresion = {\n",
        "    \"Regresión Lineal\": {\"modelo\": LinearRegression()},\n",
        "    \"Regresión Ridge\": {\"modelo\": Ridge()},\n",
        "    \"Regresión Lasso\": {\"modelo\": Lasso()},\n",
        "    \"Elastic Net\": {\"modelo\": ElasticNet()},\n",
        "    \"Árbol de Decisión\": {\"modelo\": DecisionTreeRegressor()},\n",
        "    \"Random Forest\": {\"modelo\": RandomForestRegressor()},\n",
        "    \"Gradient Boosting\": {\"modelo\": GradientBoostingRegressor()},\n",
        "    \"Support Vector Regression (SVR)\": {\"modelo\": SVR()},\n",
        "    \"AdaBoost Regressor\": {\"modelo\": AdaBoostRegressor()},\n",
        "    \"Extra Trees Regressor\": {\"modelo\": ExtraTreesRegressor()},\n",
        "    \"XGBoost\": {\"modelo\": XGBRegressor()}\n",
        "}\n",
        "\n"
      ]
    },
    {
      "cell_type": "code",
      "execution_count": 38,
      "metadata": {},
      "outputs": [],
      "source": [
        "from sklearn.model_selection import train_test_split\n",
        "\n",
        "X = data.drop(columns='charges')\n",
        "Y = data['charges']\n",
        "\n",
        "X_train, X_test, y_train, y_test = train_test_split(X, Y, test_size=0.15, random_state=42)\n",
        "\n",
        "# No sé si vale la pena realizar una partición entre test y validacion\n",
        "\n",
        "\n",
        "# X_train, X_val, y_train, y_val = train_test_split(X, Y, test_size=0.15)\n",
        "\n",
        "# for nombre, modelo in modelos_regresion.items():\n",
        "#     modelo.fit(X_train, y_train)\n",
        "#     y_pred = modelo.predict(X_test)\n",
        "#     mse = mean_squared_error(y_test, y_pred)\n",
        "#     print(f\"{nombre} MSE: {mse}\")\n"
      ]
    },
    {
      "cell_type": "code",
      "execution_count": 40,
      "metadata": {},
      "outputs": [
        {
          "name": "stdout",
          "output_type": "stream",
          "text": [
            "Modelo: Regresión Lineal, MSE: 30901806.396031726\n",
            "Modelo: Regresión Ridge, MSE: 30918132.459202476\n",
            "Modelo: Regresión Lasso, MSE: 30904908.507579286\n",
            "Modelo: Elastic Net, MSE: 86852369.23268108\n",
            "Modelo: Árbol de Decisión, MSE: 49207689.08274054\n",
            "Modelo: Random Forest, MSE: 21628574.23489682\n",
            "Modelo: Gradient Boosting, MSE: 18596425.50279368\n",
            "Modelo: Support Vector Regression (SVR), MSE: 165395208.74979186\n",
            "Modelo: AdaBoost Regressor, MSE: 25517201.00836306\n",
            "Modelo: Extra Trees Regressor, MSE: 24510919.97685335\n",
            "Modelo: XGBoost, MSE: 23947023.0114679\n"
          ]
        }
      ],
      "source": [
        "# Suponiendo que X_train, y_train, X_test, y_test están definidos\n",
        "\n",
        "for nombre, info in modelos_regresion.items():\n",
        "    try:\n",
        "        # Entrenar el modelo\n",
        "        modelo = info[\"modelo\"]\n",
        "        modelo.fit(X_train, y_train)\n",
        "\n",
        "        # Almacenar el modelo entrenado\n",
        "        info[\"entrenado\"] = modelo\n",
        "\n",
        "        # Hacer predicciones y calcular MSE\n",
        "        y_pred = modelo.predict(X_test)\n",
        "        mse = mean_squared_error(y_test, y_pred)\n",
        "        info[\"MSE\"] = mse\n",
        "\n",
        "        print(f\"Modelo: {nombre}, MSE: {mse}\")\n",
        "\n",
        "    except Exception as e:\n",
        "        print(f\"Error al entrenar o evaluar el modelo {nombre}: {e}\")\n",
        "\n"
      ]
    },
    {
      "cell_type": "code",
      "execution_count": 41,
      "metadata": {},
      "outputs": [
        {
          "name": "stdout",
          "output_type": "stream",
          "text": [
            "Modelo: Regresión Lineal\n",
            "  Estado: Entrenado\n",
            "  MSE: 30901806.3960\n",
            "\n",
            "\n",
            "Modelo: Regresión Ridge\n",
            "  Estado: Entrenado\n",
            "  MSE: 30918132.4592\n",
            "\n",
            "\n",
            "Modelo: Regresión Lasso\n",
            "  Estado: Entrenado\n",
            "  MSE: 30904908.5076\n",
            "\n",
            "\n",
            "Modelo: Elastic Net\n",
            "  Estado: Entrenado\n",
            "  MSE: 86852369.2327\n",
            "\n",
            "\n",
            "Modelo: Árbol de Decisión\n",
            "  Estado: Entrenado\n",
            "  MSE: 49207689.0827\n",
            "\n",
            "\n",
            "Modelo: Random Forest\n",
            "  Estado: Entrenado\n",
            "  MSE: 21628574.2349\n",
            "\n",
            "\n",
            "Modelo: Gradient Boosting\n",
            "  Estado: Entrenado\n",
            "  MSE: 18596425.5028\n",
            "\n",
            "\n",
            "Modelo: Support Vector Regression (SVR)\n",
            "  Estado: Entrenado\n",
            "  MSE: 165395208.7498\n",
            "\n",
            "\n",
            "Modelo: AdaBoost Regressor\n",
            "  Estado: Entrenado\n",
            "  MSE: 25517201.0084\n",
            "\n",
            "\n",
            "Modelo: Extra Trees Regressor\n",
            "  Estado: Entrenado\n",
            "  MSE: 24510919.9769\n",
            "\n",
            "\n",
            "Modelo: XGBoost\n",
            "  Estado: Entrenado\n",
            "  MSE: 23947023.0115\n",
            "\n",
            "\n"
          ]
        }
      ],
      "source": [
        "for nombre, info in modelos_regresion.items():\n",
        "    print(f\"Modelo: {nombre}\")\n",
        "    if 'entrenado' in info and info['entrenado'] is not None:\n",
        "        print(\"  Estado: Entrenado\")\n",
        "    else:\n",
        "        print(\"  Estado: No entrenado\")\n",
        "\n",
        "    if 'MSE' in info:\n",
        "        print(f\"  MSE: {info['MSE']:.4f}\")\n",
        "    else:\n",
        "        print(\"  MSE: No calculado\")\n",
        "\n",
        "    print(\"\\n\")  # Imprime una línea en blanco para separar cada modelo\n",
        "\n"
      ]
    },
    {
      "cell_type": "code",
      "execution_count": 42,
      "metadata": {},
      "outputs": [
        {
          "name": "stdout",
          "output_type": "stream",
          "text": [
            "Modelo: Gradient Boosting\n",
            "  Estado: Entrenado\n",
            "  MSE: 18596425.5028\n",
            "\n",
            "Modelo: Random Forest\n",
            "  Estado: Entrenado\n",
            "  MSE: 21628574.2349\n",
            "\n",
            "Modelo: XGBoost\n",
            "  Estado: Entrenado\n",
            "  MSE: 23947023.0115\n",
            "\n",
            "Modelo: Extra Trees Regressor\n",
            "  Estado: Entrenado\n",
            "  MSE: 24510919.9769\n",
            "\n",
            "Modelo: AdaBoost Regressor\n",
            "  Estado: Entrenado\n",
            "  MSE: 25517201.0084\n",
            "\n",
            "Modelo: Regresión Lineal\n",
            "  Estado: Entrenado\n",
            "  MSE: 30901806.3960\n",
            "\n",
            "Modelo: Regresión Lasso\n",
            "  Estado: Entrenado\n",
            "  MSE: 30904908.5076\n",
            "\n",
            "Modelo: Regresión Ridge\n",
            "  Estado: Entrenado\n",
            "  MSE: 30918132.4592\n",
            "\n",
            "Modelo: Árbol de Decisión\n",
            "  Estado: Entrenado\n",
            "  MSE: 49207689.0827\n",
            "\n",
            "Modelo: Elastic Net\n",
            "  Estado: Entrenado\n",
            "  MSE: 86852369.2327\n",
            "\n",
            "Modelo: Support Vector Regression (SVR)\n",
            "  Estado: Entrenado\n",
            "  MSE: 165395208.7498\n",
            "\n"
          ]
        }
      ],
      "source": [
        "# Ordenar el diccionario por MSE usando sorted() y una función lambda\n",
        "modelos_ordenados = sorted(modelos_regresion.items(), key=lambda x: x[1]['MSE'])\n",
        "\n",
        "# Imprimir la información de cada modelo en orden de MSE\n",
        "for nombre, info in modelos_ordenados:\n",
        "    print(f\"Modelo: {nombre}\")\n",
        "    print(\"  Estado: Entrenado\" if 'entrenado' in info and info['entrenado'] is not None else \"  Estado: No entrenado\")\n",
        "    print(f\"  MSE: {info['MSE']:.4f}\\n\")\n"
      ]
    },
    {
      "cell_type": "markdown",
      "metadata": {
        "id": "j2PGzN9SpfcP"
      },
      "source": [
        "# Conclusiones"
      ]
    },
    {
      "cell_type": "markdown",
      "metadata": {},
      "source": [
        "Incrementar la complejidad del modelo, con un ensemble, no nos proporciona una mejora en las predicciones. Optaremos en esta ocasión por un solo algoritmo."
      ]
    }
  ],
  "metadata": {
    "colab": {
      "provenance": []
    },
    "kernelspec": {
      "display_name": "Python 3",
      "name": "python3"
    },
    "language_info": {
      "codemirror_mode": {
        "name": "ipython",
        "version": 3
      },
      "file_extension": ".py",
      "mimetype": "text/x-python",
      "name": "python",
      "nbconvert_exporter": "python",
      "pygments_lexer": "ipython3",
      "version": "3.10.11"
    }
  },
  "nbformat": 4,
  "nbformat_minor": 0
}

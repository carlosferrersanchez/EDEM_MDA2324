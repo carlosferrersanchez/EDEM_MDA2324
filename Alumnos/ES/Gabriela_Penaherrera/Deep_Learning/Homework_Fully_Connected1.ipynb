{
  "nbformat": 4,
  "nbformat_minor": 0,
  "metadata": {
    "colab": {
      "provenance": [],
      "gpuType": "T4"
    },
    "kernelspec": {
      "name": "python3",
      "display_name": "Python 3"
    },
    "accelerator": "GPU"
  },
  "cells": [
    {
      "cell_type": "markdown",
      "metadata": {
        "id": "8EZHOi6r9nam"
      },
      "source": [
        "# Homework: Sonar signal classification\n",
        "In this workshop you will train a binary classification neural network to differentiate if sonar signals bounced against a metal cylinder or a rock.\n",
        "\n",
        "[Info of the data](https://archive.ics.uci.edu/ml/datasets/Connectionist+Bench+(Sonar,+Mines+vs.+Rocks))\n",
        "\n",
        "Goal: Get an accuracy higher than 0.80 in the validation set"
      ]
    },
    {
      "cell_type": "markdown",
      "metadata": {
        "id": "SMD13P7t-zaB"
      },
      "source": [
        "## Get the data from Google Drive"
      ]
    },
    {
      "cell_type": "code",
      "metadata": {
        "id": "79_B_MAD-wnl",
        "colab": {
          "base_uri": "https://localhost:8080/"
        },
        "outputId": "fb2d9a2e-3e74-4da6-f3bf-0dd44f17b949"
      },
      "source": [
        "# Import libraries to interact with Google Drive\n",
        "from pydrive.auth import GoogleAuth\n",
        "from pydrive.drive import GoogleDrive\n",
        "from google.colab import auth\n",
        "from oauth2client.client import GoogleCredentials"
      ],
      "execution_count": 5,
      "outputs": [
        {
          "output_type": "stream",
          "name": "stderr",
          "text": [
            "WARNING:root:pydrive is deprecated and no longer maintained. We recommend that you migrate your projects to pydrive2, the maintained fork of pydrive\n"
          ]
        }
      ]
    },
    {
      "cell_type": "code",
      "metadata": {
        "id": "6Zc93VS8-6at"
      },
      "source": [
        "# Authenticate with your Google account to get access to the data\n",
        "auth.authenticate_user()\n",
        "gauth = GoogleAuth()\n",
        "gauth.credentials = GoogleCredentials.get_application_default()\n",
        "drive = GoogleDrive(gauth)"
      ],
      "execution_count": 6,
      "outputs": []
    },
    {
      "cell_type": "code",
      "metadata": {
        "id": "FuyIoFl7-9RK"
      },
      "source": [
        "# Download data\n",
        "download = drive.CreateFile({'id': '1rw5l3jCo2vlNc8NLrMk3KPZr6HsjNRCY'})\n",
        "download.GetContentFile('sonar.csv')"
      ],
      "execution_count": 7,
      "outputs": []
    },
    {
      "cell_type": "code",
      "metadata": {
        "id": "7ONNxAzG_Ktn",
        "outputId": "dd39d3cf-2bc8-4f36-ef58-c5bcc461eaba",
        "colab": {
          "base_uri": "https://localhost:8080/"
        }
      },
      "source": [
        "ls"
      ],
      "execution_count": 8,
      "outputs": [
        {
          "output_type": "stream",
          "name": "stdout",
          "text": [
            "\u001b[0m\u001b[01;34msample_data\u001b[0m/  sonar.csv\n"
          ]
        }
      ]
    },
    {
      "cell_type": "markdown",
      "metadata": {
        "id": "3vDd2efB_WHM"
      },
      "source": [
        "## Do some magic below! ;)"
      ]
    },
    {
      "cell_type": "code",
      "metadata": {
        "id": "o4SmeiYlHB95"
      },
      "source": [
        "import pandas as pd\n",
        "data = pd.read_csv('sonar.csv')"
      ],
      "execution_count": 73,
      "outputs": []
    },
    {
      "cell_type": "code",
      "source": [
        "print(data.shape)\n",
        "data.head()"
      ],
      "metadata": {
        "colab": {
          "base_uri": "https://localhost:8080/",
          "height": 273
        },
        "id": "Yq-eJeluUbHS",
        "outputId": "50b183b2-4585-41b7-d9e0-60a375f4e054"
      },
      "execution_count": 74,
      "outputs": [
        {
          "output_type": "stream",
          "name": "stdout",
          "text": [
            "(207, 61)\n"
          ]
        },
        {
          "output_type": "execute_result",
          "data": {
            "text/plain": [
              "   0.0200  0.0371  0.0428  0.0207  0.0954  0.0986  0.1539  0.1601  0.3109  \\\n",
              "0  0.0453  0.0523  0.0843  0.0689  0.1183  0.2583  0.2156  0.3481  0.3337   \n",
              "1  0.0262  0.0582  0.1099  0.1083  0.0974  0.2280  0.2431  0.3771  0.5598   \n",
              "2  0.0100  0.0171  0.0623  0.0205  0.0205  0.0368  0.1098  0.1276  0.0598   \n",
              "3  0.0762  0.0666  0.0481  0.0394  0.0590  0.0649  0.1209  0.2467  0.3564   \n",
              "4  0.0286  0.0453  0.0277  0.0174  0.0384  0.0990  0.1201  0.1833  0.2105   \n",
              "\n",
              "   0.2111  ...  0.0027  0.0065  0.0159  0.0072  0.0167  0.0180  0.0084  \\\n",
              "0  0.2872  ...  0.0084  0.0089  0.0048  0.0094  0.0191  0.0140  0.0049   \n",
              "1  0.6194  ...  0.0232  0.0166  0.0095  0.0180  0.0244  0.0316  0.0164   \n",
              "2  0.1264  ...  0.0121  0.0036  0.0150  0.0085  0.0073  0.0050  0.0044   \n",
              "3  0.4459  ...  0.0031  0.0054  0.0105  0.0110  0.0015  0.0072  0.0048   \n",
              "4  0.3039  ...  0.0045  0.0014  0.0038  0.0013  0.0089  0.0057  0.0027   \n",
              "\n",
              "   0.0090  0.0032  R  \n",
              "0  0.0052  0.0044  R  \n",
              "1  0.0095  0.0078  R  \n",
              "2  0.0040  0.0117  R  \n",
              "3  0.0107  0.0094  R  \n",
              "4  0.0051  0.0062  R  \n",
              "\n",
              "[5 rows x 61 columns]"
            ],
            "text/html": [
              "\n",
              "  <div id=\"df-7fcf4ca2-d1ba-4aa9-9fe5-aba61593b429\" class=\"colab-df-container\">\n",
              "    <div>\n",
              "<style scoped>\n",
              "    .dataframe tbody tr th:only-of-type {\n",
              "        vertical-align: middle;\n",
              "    }\n",
              "\n",
              "    .dataframe tbody tr th {\n",
              "        vertical-align: top;\n",
              "    }\n",
              "\n",
              "    .dataframe thead th {\n",
              "        text-align: right;\n",
              "    }\n",
              "</style>\n",
              "<table border=\"1\" class=\"dataframe\">\n",
              "  <thead>\n",
              "    <tr style=\"text-align: right;\">\n",
              "      <th></th>\n",
              "      <th>0.0200</th>\n",
              "      <th>0.0371</th>\n",
              "      <th>0.0428</th>\n",
              "      <th>0.0207</th>\n",
              "      <th>0.0954</th>\n",
              "      <th>0.0986</th>\n",
              "      <th>0.1539</th>\n",
              "      <th>0.1601</th>\n",
              "      <th>0.3109</th>\n",
              "      <th>0.2111</th>\n",
              "      <th>...</th>\n",
              "      <th>0.0027</th>\n",
              "      <th>0.0065</th>\n",
              "      <th>0.0159</th>\n",
              "      <th>0.0072</th>\n",
              "      <th>0.0167</th>\n",
              "      <th>0.0180</th>\n",
              "      <th>0.0084</th>\n",
              "      <th>0.0090</th>\n",
              "      <th>0.0032</th>\n",
              "      <th>R</th>\n",
              "    </tr>\n",
              "  </thead>\n",
              "  <tbody>\n",
              "    <tr>\n",
              "      <th>0</th>\n",
              "      <td>0.0453</td>\n",
              "      <td>0.0523</td>\n",
              "      <td>0.0843</td>\n",
              "      <td>0.0689</td>\n",
              "      <td>0.1183</td>\n",
              "      <td>0.2583</td>\n",
              "      <td>0.2156</td>\n",
              "      <td>0.3481</td>\n",
              "      <td>0.3337</td>\n",
              "      <td>0.2872</td>\n",
              "      <td>...</td>\n",
              "      <td>0.0084</td>\n",
              "      <td>0.0089</td>\n",
              "      <td>0.0048</td>\n",
              "      <td>0.0094</td>\n",
              "      <td>0.0191</td>\n",
              "      <td>0.0140</td>\n",
              "      <td>0.0049</td>\n",
              "      <td>0.0052</td>\n",
              "      <td>0.0044</td>\n",
              "      <td>R</td>\n",
              "    </tr>\n",
              "    <tr>\n",
              "      <th>1</th>\n",
              "      <td>0.0262</td>\n",
              "      <td>0.0582</td>\n",
              "      <td>0.1099</td>\n",
              "      <td>0.1083</td>\n",
              "      <td>0.0974</td>\n",
              "      <td>0.2280</td>\n",
              "      <td>0.2431</td>\n",
              "      <td>0.3771</td>\n",
              "      <td>0.5598</td>\n",
              "      <td>0.6194</td>\n",
              "      <td>...</td>\n",
              "      <td>0.0232</td>\n",
              "      <td>0.0166</td>\n",
              "      <td>0.0095</td>\n",
              "      <td>0.0180</td>\n",
              "      <td>0.0244</td>\n",
              "      <td>0.0316</td>\n",
              "      <td>0.0164</td>\n",
              "      <td>0.0095</td>\n",
              "      <td>0.0078</td>\n",
              "      <td>R</td>\n",
              "    </tr>\n",
              "    <tr>\n",
              "      <th>2</th>\n",
              "      <td>0.0100</td>\n",
              "      <td>0.0171</td>\n",
              "      <td>0.0623</td>\n",
              "      <td>0.0205</td>\n",
              "      <td>0.0205</td>\n",
              "      <td>0.0368</td>\n",
              "      <td>0.1098</td>\n",
              "      <td>0.1276</td>\n",
              "      <td>0.0598</td>\n",
              "      <td>0.1264</td>\n",
              "      <td>...</td>\n",
              "      <td>0.0121</td>\n",
              "      <td>0.0036</td>\n",
              "      <td>0.0150</td>\n",
              "      <td>0.0085</td>\n",
              "      <td>0.0073</td>\n",
              "      <td>0.0050</td>\n",
              "      <td>0.0044</td>\n",
              "      <td>0.0040</td>\n",
              "      <td>0.0117</td>\n",
              "      <td>R</td>\n",
              "    </tr>\n",
              "    <tr>\n",
              "      <th>3</th>\n",
              "      <td>0.0762</td>\n",
              "      <td>0.0666</td>\n",
              "      <td>0.0481</td>\n",
              "      <td>0.0394</td>\n",
              "      <td>0.0590</td>\n",
              "      <td>0.0649</td>\n",
              "      <td>0.1209</td>\n",
              "      <td>0.2467</td>\n",
              "      <td>0.3564</td>\n",
              "      <td>0.4459</td>\n",
              "      <td>...</td>\n",
              "      <td>0.0031</td>\n",
              "      <td>0.0054</td>\n",
              "      <td>0.0105</td>\n",
              "      <td>0.0110</td>\n",
              "      <td>0.0015</td>\n",
              "      <td>0.0072</td>\n",
              "      <td>0.0048</td>\n",
              "      <td>0.0107</td>\n",
              "      <td>0.0094</td>\n",
              "      <td>R</td>\n",
              "    </tr>\n",
              "    <tr>\n",
              "      <th>4</th>\n",
              "      <td>0.0286</td>\n",
              "      <td>0.0453</td>\n",
              "      <td>0.0277</td>\n",
              "      <td>0.0174</td>\n",
              "      <td>0.0384</td>\n",
              "      <td>0.0990</td>\n",
              "      <td>0.1201</td>\n",
              "      <td>0.1833</td>\n",
              "      <td>0.2105</td>\n",
              "      <td>0.3039</td>\n",
              "      <td>...</td>\n",
              "      <td>0.0045</td>\n",
              "      <td>0.0014</td>\n",
              "      <td>0.0038</td>\n",
              "      <td>0.0013</td>\n",
              "      <td>0.0089</td>\n",
              "      <td>0.0057</td>\n",
              "      <td>0.0027</td>\n",
              "      <td>0.0051</td>\n",
              "      <td>0.0062</td>\n",
              "      <td>R</td>\n",
              "    </tr>\n",
              "  </tbody>\n",
              "</table>\n",
              "<p>5 rows × 61 columns</p>\n",
              "</div>\n",
              "    <div class=\"colab-df-buttons\">\n",
              "\n",
              "  <div class=\"colab-df-container\">\n",
              "    <button class=\"colab-df-convert\" onclick=\"convertToInteractive('df-7fcf4ca2-d1ba-4aa9-9fe5-aba61593b429')\"\n",
              "            title=\"Convert this dataframe to an interactive table.\"\n",
              "            style=\"display:none;\">\n",
              "\n",
              "  <svg xmlns=\"http://www.w3.org/2000/svg\" height=\"24px\" viewBox=\"0 -960 960 960\">\n",
              "    <path d=\"M120-120v-720h720v720H120Zm60-500h600v-160H180v160Zm220 220h160v-160H400v160Zm0 220h160v-160H400v160ZM180-400h160v-160H180v160Zm440 0h160v-160H620v160ZM180-180h160v-160H180v160Zm440 0h160v-160H620v160Z\"/>\n",
              "  </svg>\n",
              "    </button>\n",
              "\n",
              "  <style>\n",
              "    .colab-df-container {\n",
              "      display:flex;\n",
              "      gap: 12px;\n",
              "    }\n",
              "\n",
              "    .colab-df-convert {\n",
              "      background-color: #E8F0FE;\n",
              "      border: none;\n",
              "      border-radius: 50%;\n",
              "      cursor: pointer;\n",
              "      display: none;\n",
              "      fill: #1967D2;\n",
              "      height: 32px;\n",
              "      padding: 0 0 0 0;\n",
              "      width: 32px;\n",
              "    }\n",
              "\n",
              "    .colab-df-convert:hover {\n",
              "      background-color: #E2EBFA;\n",
              "      box-shadow: 0px 1px 2px rgba(60, 64, 67, 0.3), 0px 1px 3px 1px rgba(60, 64, 67, 0.15);\n",
              "      fill: #174EA6;\n",
              "    }\n",
              "\n",
              "    .colab-df-buttons div {\n",
              "      margin-bottom: 4px;\n",
              "    }\n",
              "\n",
              "    [theme=dark] .colab-df-convert {\n",
              "      background-color: #3B4455;\n",
              "      fill: #D2E3FC;\n",
              "    }\n",
              "\n",
              "    [theme=dark] .colab-df-convert:hover {\n",
              "      background-color: #434B5C;\n",
              "      box-shadow: 0px 1px 3px 1px rgba(0, 0, 0, 0.15);\n",
              "      filter: drop-shadow(0px 1px 2px rgba(0, 0, 0, 0.3));\n",
              "      fill: #FFFFFF;\n",
              "    }\n",
              "  </style>\n",
              "\n",
              "    <script>\n",
              "      const buttonEl =\n",
              "        document.querySelector('#df-7fcf4ca2-d1ba-4aa9-9fe5-aba61593b429 button.colab-df-convert');\n",
              "      buttonEl.style.display =\n",
              "        google.colab.kernel.accessAllowed ? 'block' : 'none';\n",
              "\n",
              "      async function convertToInteractive(key) {\n",
              "        const element = document.querySelector('#df-7fcf4ca2-d1ba-4aa9-9fe5-aba61593b429');\n",
              "        const dataTable =\n",
              "          await google.colab.kernel.invokeFunction('convertToInteractive',\n",
              "                                                    [key], {});\n",
              "        if (!dataTable) return;\n",
              "\n",
              "        const docLinkHtml = 'Like what you see? Visit the ' +\n",
              "          '<a target=\"_blank\" href=https://colab.research.google.com/notebooks/data_table.ipynb>data table notebook</a>'\n",
              "          + ' to learn more about interactive tables.';\n",
              "        element.innerHTML = '';\n",
              "        dataTable['output_type'] = 'display_data';\n",
              "        await google.colab.output.renderOutput(dataTable, element);\n",
              "        const docLink = document.createElement('div');\n",
              "        docLink.innerHTML = docLinkHtml;\n",
              "        element.appendChild(docLink);\n",
              "      }\n",
              "    </script>\n",
              "  </div>\n",
              "\n",
              "\n",
              "<div id=\"df-a3f5dd5e-1b7a-46ff-9767-ee016ba7239b\">\n",
              "  <button class=\"colab-df-quickchart\" onclick=\"quickchart('df-a3f5dd5e-1b7a-46ff-9767-ee016ba7239b')\"\n",
              "            title=\"Suggest charts\"\n",
              "            style=\"display:none;\">\n",
              "\n",
              "<svg xmlns=\"http://www.w3.org/2000/svg\" height=\"24px\"viewBox=\"0 0 24 24\"\n",
              "     width=\"24px\">\n",
              "    <g>\n",
              "        <path d=\"M19 3H5c-1.1 0-2 .9-2 2v14c0 1.1.9 2 2 2h14c1.1 0 2-.9 2-2V5c0-1.1-.9-2-2-2zM9 17H7v-7h2v7zm4 0h-2V7h2v10zm4 0h-2v-4h2v4z\"/>\n",
              "    </g>\n",
              "</svg>\n",
              "  </button>\n",
              "\n",
              "<style>\n",
              "  .colab-df-quickchart {\n",
              "      --bg-color: #E8F0FE;\n",
              "      --fill-color: #1967D2;\n",
              "      --hover-bg-color: #E2EBFA;\n",
              "      --hover-fill-color: #174EA6;\n",
              "      --disabled-fill-color: #AAA;\n",
              "      --disabled-bg-color: #DDD;\n",
              "  }\n",
              "\n",
              "  [theme=dark] .colab-df-quickchart {\n",
              "      --bg-color: #3B4455;\n",
              "      --fill-color: #D2E3FC;\n",
              "      --hover-bg-color: #434B5C;\n",
              "      --hover-fill-color: #FFFFFF;\n",
              "      --disabled-bg-color: #3B4455;\n",
              "      --disabled-fill-color: #666;\n",
              "  }\n",
              "\n",
              "  .colab-df-quickchart {\n",
              "    background-color: var(--bg-color);\n",
              "    border: none;\n",
              "    border-radius: 50%;\n",
              "    cursor: pointer;\n",
              "    display: none;\n",
              "    fill: var(--fill-color);\n",
              "    height: 32px;\n",
              "    padding: 0;\n",
              "    width: 32px;\n",
              "  }\n",
              "\n",
              "  .colab-df-quickchart:hover {\n",
              "    background-color: var(--hover-bg-color);\n",
              "    box-shadow: 0 1px 2px rgba(60, 64, 67, 0.3), 0 1px 3px 1px rgba(60, 64, 67, 0.15);\n",
              "    fill: var(--button-hover-fill-color);\n",
              "  }\n",
              "\n",
              "  .colab-df-quickchart-complete:disabled,\n",
              "  .colab-df-quickchart-complete:disabled:hover {\n",
              "    background-color: var(--disabled-bg-color);\n",
              "    fill: var(--disabled-fill-color);\n",
              "    box-shadow: none;\n",
              "  }\n",
              "\n",
              "  .colab-df-spinner {\n",
              "    border: 2px solid var(--fill-color);\n",
              "    border-color: transparent;\n",
              "    border-bottom-color: var(--fill-color);\n",
              "    animation:\n",
              "      spin 1s steps(1) infinite;\n",
              "  }\n",
              "\n",
              "  @keyframes spin {\n",
              "    0% {\n",
              "      border-color: transparent;\n",
              "      border-bottom-color: var(--fill-color);\n",
              "      border-left-color: var(--fill-color);\n",
              "    }\n",
              "    20% {\n",
              "      border-color: transparent;\n",
              "      border-left-color: var(--fill-color);\n",
              "      border-top-color: var(--fill-color);\n",
              "    }\n",
              "    30% {\n",
              "      border-color: transparent;\n",
              "      border-left-color: var(--fill-color);\n",
              "      border-top-color: var(--fill-color);\n",
              "      border-right-color: var(--fill-color);\n",
              "    }\n",
              "    40% {\n",
              "      border-color: transparent;\n",
              "      border-right-color: var(--fill-color);\n",
              "      border-top-color: var(--fill-color);\n",
              "    }\n",
              "    60% {\n",
              "      border-color: transparent;\n",
              "      border-right-color: var(--fill-color);\n",
              "    }\n",
              "    80% {\n",
              "      border-color: transparent;\n",
              "      border-right-color: var(--fill-color);\n",
              "      border-bottom-color: var(--fill-color);\n",
              "    }\n",
              "    90% {\n",
              "      border-color: transparent;\n",
              "      border-bottom-color: var(--fill-color);\n",
              "    }\n",
              "  }\n",
              "</style>\n",
              "\n",
              "  <script>\n",
              "    async function quickchart(key) {\n",
              "      const quickchartButtonEl =\n",
              "        document.querySelector('#' + key + ' button');\n",
              "      quickchartButtonEl.disabled = true;  // To prevent multiple clicks.\n",
              "      quickchartButtonEl.classList.add('colab-df-spinner');\n",
              "      try {\n",
              "        const charts = await google.colab.kernel.invokeFunction(\n",
              "            'suggestCharts', [key], {});\n",
              "      } catch (error) {\n",
              "        console.error('Error during call to suggestCharts:', error);\n",
              "      }\n",
              "      quickchartButtonEl.classList.remove('colab-df-spinner');\n",
              "      quickchartButtonEl.classList.add('colab-df-quickchart-complete');\n",
              "    }\n",
              "    (() => {\n",
              "      let quickchartButtonEl =\n",
              "        document.querySelector('#df-a3f5dd5e-1b7a-46ff-9767-ee016ba7239b button');\n",
              "      quickchartButtonEl.style.display =\n",
              "        google.colab.kernel.accessAllowed ? 'block' : 'none';\n",
              "    })();\n",
              "  </script>\n",
              "</div>\n",
              "\n",
              "    </div>\n",
              "  </div>\n"
            ],
            "application/vnd.google.colaboratory.intrinsic+json": {
              "type": "dataframe",
              "variable_name": "data"
            }
          },
          "metadata": {},
          "execution_count": 74
        }
      ]
    },
    {
      "cell_type": "code",
      "source": [
        "# Show variables\n",
        "data.columns"
      ],
      "metadata": {
        "colab": {
          "base_uri": "https://localhost:8080/"
        },
        "id": "iH8eL9R3Uh_d",
        "outputId": "f0687785-80a7-4ac1-8a09-32150eb260e0"
      },
      "execution_count": 11,
      "outputs": [
        {
          "output_type": "execute_result",
          "data": {
            "text/plain": [
              "Index(['0.0200', '0.0371', '0.0428', '0.0207', '0.0954', '0.0986', '0.1539',\n",
              "       '0.1601', '0.3109', '0.2111', '0.1609', '0.1582', '0.2238', '0.0645',\n",
              "       '0.0660', '0.2273', '0.3100', '0.2999', '0.5078', '0.4797', '0.5783',\n",
              "       '0.5071', '0.4328', '0.5550', '0.6711', '0.6415', '0.7104', '0.8080',\n",
              "       '0.6791', '0.3857', '0.1307', '0.2604', '0.5121', '0.7547', '0.8537',\n",
              "       '0.8507', '0.6692', '0.6097', '0.4943', '0.2744', '0.0510', '0.2834',\n",
              "       '0.2825', '0.4256', '0.2641', '0.1386', '0.1051', '0.1343', '0.0383',\n",
              "       '0.0324', '0.0232', '0.0027', '0.0065', '0.0159', '0.0072', '0.0167',\n",
              "       '0.0180', '0.0084', '0.0090', '0.0032', 'R'],\n",
              "      dtype='object')"
            ]
          },
          "metadata": {},
          "execution_count": 11
        }
      ]
    },
    {
      "cell_type": "code",
      "source": [
        "# Import dependencies for pre-processing\n",
        "from sklearn.preprocessing import StandardScaler\n",
        "from sklearn.preprocessing import OneHotEncoder\n",
        "from sklearn.model_selection import train_test_split"
      ],
      "metadata": {
        "id": "gs2klv5c9TZT"
      },
      "execution_count": 12,
      "outputs": []
    },
    {
      "cell_type": "code",
      "source": [
        "# Convert pandas Dataframe to Numpy Array\n",
        "data_numpy = data.values"
      ],
      "metadata": {
        "id": "mHgq_u4e9UKK"
      },
      "execution_count": 13,
      "outputs": []
    },
    {
      "cell_type": "code",
      "source": [
        "# Show data type before and after conversion\n",
        "print(type(data))\n",
        "print(type(data_numpy))"
      ],
      "metadata": {
        "colab": {
          "base_uri": "https://localhost:8080/"
        },
        "id": "I2m1Atxp9v0y",
        "outputId": "266b2707-1399-4857-8da9-5b7cbc116f3c"
      },
      "execution_count": 27,
      "outputs": [
        {
          "output_type": "stream",
          "name": "stdout",
          "text": [
            "<class 'pandas.core.frame.DataFrame'>\n",
            "<class 'numpy.ndarray'>\n"
          ]
        }
      ]
    },
    {
      "cell_type": "code",
      "source": [
        "# Separate input variables from output label\n",
        "X = data_numpy[:, :60]\n",
        "y = data_numpy[:, 60:61]"
      ],
      "metadata": {
        "id": "HS6UMej_92EJ"
      },
      "execution_count": 77,
      "outputs": []
    },
    {
      "cell_type": "code",
      "source": [
        "# Show shape of training data and labels\n",
        "print(\"Shape of training data: \", X.shape)\n",
        "print(\"Shape of training labels: \", y.shape)"
      ],
      "metadata": {
        "colab": {
          "base_uri": "https://localhost:8080/"
        },
        "id": "9q6DBog79_bL",
        "outputId": "d38dbd60-218d-453d-edc4-d1eddf966983"
      },
      "execution_count": 78,
      "outputs": [
        {
          "output_type": "stream",
          "name": "stdout",
          "text": [
            "Shape of training data:  (207, 60)\n",
            "Shape of training labels:  (207, 1)\n"
          ]
        }
      ]
    },
    {
      "cell_type": "code",
      "source": [
        "import numpy as np\n",
        "# Show different classes to predict\n",
        "np.unique(y)"
      ],
      "metadata": {
        "colab": {
          "base_uri": "https://localhost:8080/"
        },
        "id": "9qzZZTLa_OV_",
        "outputId": "eac6f909-52da-4960-8254-0c0451a45419"
      },
      "execution_count": 37,
      "outputs": [
        {
          "output_type": "execute_result",
          "data": {
            "text/plain": [
              "array(['M', 'R'], dtype=object)"
            ]
          },
          "metadata": {},
          "execution_count": 37
        }
      ]
    },
    {
      "cell_type": "code",
      "source": [
        "# Normalizing the data to improve stability while training\n",
        "sc = StandardScaler()\n",
        "sc.fit(X)\n",
        "X_norm = sc.transform(X)"
      ],
      "metadata": {
        "id": "T5lFOpMU_cC8"
      },
      "execution_count": 38,
      "outputs": []
    },
    {
      "cell_type": "code",
      "source": [
        "# Show mean and Standard Deviation learnt from training data\n",
        "print(\"Mean per variable: \\n\", sc.mean_)\n",
        "print(\"Standard Deviation per variable: \\n\", sc.scale_)"
      ],
      "metadata": {
        "colab": {
          "base_uri": "https://localhost:8080/"
        },
        "id": "RmXJZGb8_fZ7",
        "outputId": "d46b197e-ab07-4d7c-cf9d-923e5f07761e"
      },
      "execution_count": 39,
      "outputs": [
        {
          "output_type": "stream",
          "name": "stdout",
          "text": [
            "Mean per variable: \n",
            " [0.02920821 0.038443   0.0438372  0.05405266 0.07510483 0.10459903\n",
            " 0.1215913  0.13467681 0.17736087 0.20824541 0.23637585 0.2506657\n",
            " 0.27354444 0.29768937 0.32142947 0.37921691 0.41649517 0.45305459\n",
            " 0.5047971  0.56344928 0.6092087  0.62484106 0.64800966 0.67322271\n",
            " 0.67544444 0.70014831 0.70211498 0.69347343 0.64189517 0.58187101\n",
            " 0.50628116 0.43990338 0.41676135 0.40153527 0.39034348 0.3825971\n",
            " 0.3623314  0.33835266 0.32498551 0.31138454 0.2904029  0.2782686\n",
            " 0.24636812 0.21305314 0.19690918 0.16073768 0.12253671 0.09121691\n",
            " 0.05199469 0.02036618 0.0160343  0.01347198 0.01072947 0.01091691\n",
            " 0.00930048 0.00818068 0.00777101 0.00794686 0.00793623 0.00652319]\n",
            "Standard Deviation per variable: \n",
            " [0.02298205 0.0329598  0.03842804 0.04647046 0.05553434 0.05910397\n",
            " 0.06174727 0.08513394 0.11802454 0.13441558 0.13260138 0.13992518\n",
            " 0.14091989 0.16367774 0.20466191 0.23241141 0.26357367 0.26131364\n",
            " 0.25798827 0.2625886  0.25780923 0.25575285 0.24972998 0.23897566\n",
            " 0.24492625 0.23719287 0.24565629 0.23705607 0.24023592 0.22032993\n",
            " 0.21240194 0.21287336 0.20640707 0.22994134 0.25713284 0.2621191\n",
            " 0.238967   0.21214061 0.19872812 0.17864313 0.17030403 0.16872791\n",
            " 0.1389708  0.13247371 0.15155688 0.13392912 0.08694432 0.06234519\n",
            " 0.03594143 0.01363951 0.01199821 0.00960499 0.00705424 0.00729262\n",
            " 0.00708613 0.00570561 0.00574186 0.00646976 0.00618094 0.00502576]\n"
          ]
        }
      ]
    },
    {
      "cell_type": "code",
      "source": [
        "# Show data before and after normalization\n",
        "print(\"Before normalization: \\n\", X[1, :])\n",
        "print(\"After normalization: \\n\", X_norm[1, :])"
      ],
      "metadata": {
        "colab": {
          "base_uri": "https://localhost:8080/"
        },
        "id": "eGMa_x9J_n-4",
        "outputId": "85d45fe6-78d6-404a-cdae-3d64c3455d4b"
      },
      "execution_count": 40,
      "outputs": [
        {
          "output_type": "stream",
          "name": "stdout",
          "text": [
            "Before normalization: \n",
            " [0.0262 0.0582 0.1099 0.1083 0.0974 0.228 0.2431 0.3771 0.5598 0.6194\n",
            " 0.6333 0.706 0.5544 0.532 0.6479 0.6931 0.6759 0.7551 0.8929 0.8619\n",
            " 0.7974 0.6737 0.4293 0.3648 0.5331 0.2413 0.507 0.8533 0.6036 0.8514\n",
            " 0.8512 0.5045 0.1862 0.2709 0.4232 0.3043 0.6116 0.6756 0.5375 0.4719\n",
            " 0.4647 0.2587 0.2129 0.2222 0.2111 0.0176 0.1348 0.0744 0.013 0.0106\n",
            " 0.0033 0.0232 0.0166 0.0095 0.018 0.0244 0.0316 0.0164 0.0095 0.0078]\n",
            "After normalization: \n",
            " [-0.13089402  0.59942737  1.71912994  1.16735119  0.40146635  2.0878624\n",
            "  1.96783928  2.84755057  3.24033559  3.0588314   2.99336374  3.25412687\n",
            "  1.99301568  1.43153632  1.59516994  1.35054941  0.98418341  1.15587309\n",
            "  1.50434322  1.13657152  0.7299634   0.19103966 -0.87578456 -1.29060301\n",
            " -0.58117267 -1.9344945  -0.79426005  0.67421422 -0.15940651  1.22329719\n",
            "  1.62389684  0.30345092 -1.11702254 -0.56812432  0.12778034 -0.29870811\n",
            "  1.04310888  1.58973492  1.06937304  0.8985258   1.02344674 -0.11597725\n",
            " -0.2408284   0.06904661  0.09363364 -1.06875696  0.14104757 -0.26973868\n",
            " -1.08495091 -0.71602137 -1.06134961  1.01280889  0.83219843 -0.19429332\n",
            "  1.22768181  2.84269594  4.1500488   1.30656071  0.25299833  0.25405324]\n"
          ]
        }
      ]
    },
    {
      "cell_type": "code",
      "source": [
        "# One-hot encoding of labels\n",
        "onehot_enc = OneHotEncoder()\n",
        "y_onehot = onehot_enc.fit_transform(y).toarray()"
      ],
      "metadata": {
        "id": "-cnL-whPA0lN"
      },
      "execution_count": 41,
      "outputs": []
    },
    {
      "cell_type": "code",
      "source": [
        "# Show labels before and after one-hot encoding\n",
        "print(\"Before onet-hot encodeing: \\n\", y[0])\n",
        "print(\"After onet-hot encodeing: \\n\", y_onehot[0])"
      ],
      "metadata": {
        "colab": {
          "base_uri": "https://localhost:8080/"
        },
        "id": "4458W5yBA4YD",
        "outputId": "a17b9959-3364-46ae-e85e-ff65e4527030"
      },
      "execution_count": 42,
      "outputs": [
        {
          "output_type": "stream",
          "name": "stdout",
          "text": [
            "Before onet-hot encodeing: \n",
            " ['R']\n",
            "After onet-hot encodeing: \n",
            " [0. 1.]\n"
          ]
        }
      ]
    },
    {
      "cell_type": "code",
      "source": [
        "# Split data in training and validation partitions\n",
        "X_train, X_val, y_train, y_val = train_test_split(X_norm, y_onehot,\n",
        "                                                  test_size=0.10)"
      ],
      "metadata": {
        "id": "lEt67uuzBcBw"
      },
      "execution_count": 79,
      "outputs": []
    },
    {
      "cell_type": "code",
      "source": [
        "# Show sizes of partitions\n",
        "print(\"Size of training data: \", X_train.shape)\n",
        "print(\"Size of training labels: \", y_train.shape)\n",
        "print(\"Size of validation data: \", X_val.shape)\n",
        "print(\"Size of validation labels: \", y_val.shape)"
      ],
      "metadata": {
        "colab": {
          "base_uri": "https://localhost:8080/"
        },
        "id": "pBs4e_ukBoyK",
        "outputId": "170f9bd6-8185-49db-fce4-8318f5204575"
      },
      "execution_count": 80,
      "outputs": [
        {
          "output_type": "stream",
          "name": "stdout",
          "text": [
            "Size of training data:  (186, 60)\n",
            "Size of training labels:  (186, 2)\n",
            "Size of validation data:  (21, 60)\n",
            "Size of validation labels:  (21, 2)\n"
          ]
        }
      ]
    },
    {
      "cell_type": "markdown",
      "source": [
        "#Red Totalmente Conectada"
      ],
      "metadata": {
        "id": "vM755vnlBw4l"
      }
    },
    {
      "cell_type": "code",
      "source": [
        "# Import dependencies for designing Keras model\n",
        "import keras\n",
        "from keras.models import Sequential\n",
        "from keras.layers import Dense, Dropout\n"
      ],
      "metadata": {
        "id": "_OVItJCfB3WY"
      },
      "execution_count": 48,
      "outputs": []
    },
    {
      "cell_type": "code",
      "source": [
        "# Design simple neural network architecture\n",
        "model = Sequential()\n",
        "model.add(Dense(70, input_dim=60, activation='relu'))\n",
        "model.add(Dropout(0.2))  # Añadir dropout con una tasa de 0.2 (20% de neuronas se desactivan aleatoriamente)\n",
        "model.add(Dense(30, activation='relu'))\n",
        "model.add(Dropout(0.2))  # Añadir dropout con una tasa de 0.2\n",
        "model.add(Dense(2, activation='softmax'))\n"
      ],
      "metadata": {
        "id": "ZEh7fzK9B_sH"
      },
      "execution_count": 81,
      "outputs": []
    },
    {
      "cell_type": "code",
      "source": [
        "# Show model information\n",
        "model.summary()"
      ],
      "metadata": {
        "colab": {
          "base_uri": "https://localhost:8080/"
        },
        "id": "b7qHwj3NDOuJ",
        "outputId": "a2605c4b-1dbe-4a2d-af20-b70dd29e49e0"
      },
      "execution_count": 82,
      "outputs": [
        {
          "output_type": "stream",
          "name": "stdout",
          "text": [
            "Model: \"sequential_5\"\n",
            "_________________________________________________________________\n",
            " Layer (type)                Output Shape              Param #   \n",
            "=================================================================\n",
            " dense_13 (Dense)            (None, 70)                4270      \n",
            "                                                                 \n",
            " dropout_8 (Dropout)         (None, 70)                0         \n",
            "                                                                 \n",
            " dense_14 (Dense)            (None, 30)                2130      \n",
            "                                                                 \n",
            " dropout_9 (Dropout)         (None, 30)                0         \n",
            "                                                                 \n",
            " dense_15 (Dense)            (None, 2)                 62        \n",
            "                                                                 \n",
            "=================================================================\n",
            "Total params: 6462 (25.24 KB)\n",
            "Trainable params: 6462 (25.24 KB)\n",
            "Non-trainable params: 0 (0.00 Byte)\n",
            "_________________________________________________________________\n"
          ]
        }
      ]
    },
    {
      "cell_type": "code",
      "source": [
        "# Configuración de Early Stopping\n",
        "from tensorflow.keras.callbacks import EarlyStopping\n",
        "\n",
        "early_stopping_monitor = EarlyStopping(\n",
        "    monitor='val_loss',\n",
        "    patience=10,\n",
        "    verbose=1,\n",
        "    restore_best_weights=True\n",
        ")\n",
        "\n",
        "\n",
        "# Choose loss function, optimizer and training metrics\n",
        "model.compile(loss='binary_crossentropy', optimizer='adam',\n",
        "              metrics=['accuracy'])\n",
        "\n"
      ],
      "metadata": {
        "id": "dndUUv2pDrci"
      },
      "execution_count": 83,
      "outputs": []
    },
    {
      "cell_type": "code",
      "source": [
        "# Choose number of epochs and batch size and train the model\n",
        "history = model.fit(X_train, y_train, epochs=100, batch_size=64,\n",
        "                    validation_data=(X_val, y_val), verbose=1,\n",
        "                    callbacks=[early_stopping_monitor])"
      ],
      "metadata": {
        "colab": {
          "base_uri": "https://localhost:8080/"
        },
        "id": "WZDXc6LED8XV",
        "outputId": "8b9c0e0f-aaec-45d1-e44e-6688adcaeaf0"
      },
      "execution_count": 84,
      "outputs": [
        {
          "output_type": "stream",
          "name": "stdout",
          "text": [
            "Epoch 1/100\n",
            "3/3 [==============================] - 1s 97ms/step - loss: 0.7157 - accuracy: 0.5215 - val_loss: 0.6851 - val_accuracy: 0.5714\n",
            "Epoch 2/100\n",
            "3/3 [==============================] - 0s 21ms/step - loss: 0.6919 - accuracy: 0.5914 - val_loss: 0.6496 - val_accuracy: 0.7143\n",
            "Epoch 3/100\n",
            "3/3 [==============================] - 0s 18ms/step - loss: 0.6520 - accuracy: 0.6774 - val_loss: 0.6205 - val_accuracy: 0.8095\n",
            "Epoch 4/100\n",
            "3/3 [==============================] - 0s 18ms/step - loss: 0.6410 - accuracy: 0.6828 - val_loss: 0.5957 - val_accuracy: 0.7619\n",
            "Epoch 5/100\n",
            "3/3 [==============================] - 0s 18ms/step - loss: 0.6103 - accuracy: 0.6989 - val_loss: 0.5742 - val_accuracy: 0.7619\n",
            "Epoch 6/100\n",
            "3/3 [==============================] - 0s 18ms/step - loss: 0.5981 - accuracy: 0.6989 - val_loss: 0.5530 - val_accuracy: 0.8095\n",
            "Epoch 7/100\n",
            "3/3 [==============================] - 0s 17ms/step - loss: 0.5982 - accuracy: 0.6989 - val_loss: 0.5333 - val_accuracy: 0.8571\n",
            "Epoch 8/100\n",
            "3/3 [==============================] - 0s 17ms/step - loss: 0.5499 - accuracy: 0.7742 - val_loss: 0.5145 - val_accuracy: 0.8571\n",
            "Epoch 9/100\n",
            "3/3 [==============================] - 0s 22ms/step - loss: 0.5443 - accuracy: 0.7634 - val_loss: 0.4976 - val_accuracy: 0.8571\n",
            "Epoch 10/100\n",
            "3/3 [==============================] - 0s 34ms/step - loss: 0.5335 - accuracy: 0.7742 - val_loss: 0.4820 - val_accuracy: 0.8571\n",
            "Epoch 11/100\n",
            "3/3 [==============================] - 0s 29ms/step - loss: 0.5223 - accuracy: 0.7903 - val_loss: 0.4664 - val_accuracy: 0.8571\n",
            "Epoch 12/100\n",
            "3/3 [==============================] - 0s 45ms/step - loss: 0.5076 - accuracy: 0.7903 - val_loss: 0.4506 - val_accuracy: 0.8571\n",
            "Epoch 13/100\n",
            "3/3 [==============================] - 0s 78ms/step - loss: 0.4856 - accuracy: 0.7903 - val_loss: 0.4342 - val_accuracy: 0.8095\n",
            "Epoch 14/100\n",
            "3/3 [==============================] - 0s 44ms/step - loss: 0.4595 - accuracy: 0.8011 - val_loss: 0.4185 - val_accuracy: 0.8095\n",
            "Epoch 15/100\n",
            "3/3 [==============================] - 0s 77ms/step - loss: 0.4334 - accuracy: 0.8226 - val_loss: 0.4026 - val_accuracy: 0.8095\n",
            "Epoch 16/100\n",
            "3/3 [==============================] - 0s 63ms/step - loss: 0.4442 - accuracy: 0.8065 - val_loss: 0.3878 - val_accuracy: 0.8095\n",
            "Epoch 17/100\n",
            "3/3 [==============================] - 0s 55ms/step - loss: 0.4090 - accuracy: 0.8387 - val_loss: 0.3755 - val_accuracy: 0.8095\n",
            "Epoch 18/100\n",
            "3/3 [==============================] - 0s 45ms/step - loss: 0.4181 - accuracy: 0.8118 - val_loss: 0.3629 - val_accuracy: 0.8095\n",
            "Epoch 19/100\n",
            "3/3 [==============================] - 0s 41ms/step - loss: 0.3910 - accuracy: 0.8118 - val_loss: 0.3508 - val_accuracy: 0.8095\n",
            "Epoch 20/100\n",
            "3/3 [==============================] - 0s 34ms/step - loss: 0.3787 - accuracy: 0.8441 - val_loss: 0.3393 - val_accuracy: 0.8095\n",
            "Epoch 21/100\n",
            "3/3 [==============================] - 0s 34ms/step - loss: 0.3596 - accuracy: 0.8817 - val_loss: 0.3292 - val_accuracy: 0.8095\n",
            "Epoch 22/100\n",
            "3/3 [==============================] - 0s 46ms/step - loss: 0.3296 - accuracy: 0.8710 - val_loss: 0.3218 - val_accuracy: 0.8095\n",
            "Epoch 23/100\n",
            "3/3 [==============================] - 0s 43ms/step - loss: 0.3154 - accuracy: 0.9032 - val_loss: 0.3159 - val_accuracy: 0.8095\n",
            "Epoch 24/100\n",
            "3/3 [==============================] - 0s 35ms/step - loss: 0.3328 - accuracy: 0.8817 - val_loss: 0.3117 - val_accuracy: 0.8095\n",
            "Epoch 25/100\n",
            "3/3 [==============================] - 0s 74ms/step - loss: 0.3172 - accuracy: 0.8763 - val_loss: 0.3092 - val_accuracy: 0.8095\n",
            "Epoch 26/100\n",
            "3/3 [==============================] - 0s 44ms/step - loss: 0.3234 - accuracy: 0.8817 - val_loss: 0.3035 - val_accuracy: 0.8095\n",
            "Epoch 27/100\n",
            "3/3 [==============================] - 0s 41ms/step - loss: 0.2919 - accuracy: 0.9194 - val_loss: 0.2992 - val_accuracy: 0.8095\n",
            "Epoch 28/100\n",
            "3/3 [==============================] - 0s 37ms/step - loss: 0.2685 - accuracy: 0.9355 - val_loss: 0.2952 - val_accuracy: 0.8095\n",
            "Epoch 29/100\n",
            "3/3 [==============================] - 0s 35ms/step - loss: 0.2712 - accuracy: 0.9301 - val_loss: 0.2924 - val_accuracy: 0.8095\n",
            "Epoch 30/100\n",
            "3/3 [==============================] - 0s 43ms/step - loss: 0.2451 - accuracy: 0.9086 - val_loss: 0.2882 - val_accuracy: 0.8095\n",
            "Epoch 31/100\n",
            "3/3 [==============================] - 0s 34ms/step - loss: 0.2528 - accuracy: 0.8978 - val_loss: 0.2811 - val_accuracy: 0.8095\n",
            "Epoch 32/100\n",
            "3/3 [==============================] - 0s 35ms/step - loss: 0.2270 - accuracy: 0.9355 - val_loss: 0.2770 - val_accuracy: 0.8095\n",
            "Epoch 33/100\n",
            "3/3 [==============================] - 0s 33ms/step - loss: 0.2199 - accuracy: 0.9462 - val_loss: 0.2667 - val_accuracy: 0.8571\n",
            "Epoch 34/100\n",
            "3/3 [==============================] - 0s 34ms/step - loss: 0.1929 - accuracy: 0.9516 - val_loss: 0.2604 - val_accuracy: 0.8571\n",
            "Epoch 35/100\n",
            "3/3 [==============================] - 0s 41ms/step - loss: 0.2029 - accuracy: 0.9355 - val_loss: 0.2553 - val_accuracy: 0.8571\n",
            "Epoch 36/100\n",
            "3/3 [==============================] - 0s 41ms/step - loss: 0.1970 - accuracy: 0.9301 - val_loss: 0.2559 - val_accuracy: 0.8571\n",
            "Epoch 37/100\n",
            "3/3 [==============================] - 0s 38ms/step - loss: 0.2003 - accuracy: 0.9140 - val_loss: 0.2627 - val_accuracy: 0.8571\n",
            "Epoch 38/100\n",
            "3/3 [==============================] - 0s 95ms/step - loss: 0.1835 - accuracy: 0.9462 - val_loss: 0.2724 - val_accuracy: 0.8571\n",
            "Epoch 39/100\n",
            "3/3 [==============================] - 0s 76ms/step - loss: 0.1671 - accuracy: 0.9462 - val_loss: 0.2805 - val_accuracy: 0.8571\n",
            "Epoch 40/100\n",
            "3/3 [==============================] - 0s 119ms/step - loss: 0.1750 - accuracy: 0.9462 - val_loss: 0.2860 - val_accuracy: 0.8571\n",
            "Epoch 41/100\n",
            "3/3 [==============================] - 0s 86ms/step - loss: 0.1603 - accuracy: 0.9516 - val_loss: 0.2850 - val_accuracy: 0.8571\n",
            "Epoch 42/100\n",
            "3/3 [==============================] - 0s 108ms/step - loss: 0.1429 - accuracy: 0.9570 - val_loss: 0.2792 - val_accuracy: 0.8571\n",
            "Epoch 43/100\n",
            "3/3 [==============================] - 0s 82ms/step - loss: 0.1482 - accuracy: 0.9677 - val_loss: 0.2754 - val_accuracy: 0.9048\n",
            "Epoch 44/100\n",
            "3/3 [==============================] - 0s 64ms/step - loss: 0.1333 - accuracy: 0.9731 - val_loss: 0.2721 - val_accuracy: 0.9048\n",
            "Epoch 45/100\n",
            "1/3 [=========>....................] - ETA: 0s - loss: 0.1503 - accuracy: 0.9531Restoring model weights from the end of the best epoch: 35.\n",
            "3/3 [==============================] - 0s 36ms/step - loss: 0.1352 - accuracy: 0.9677 - val_loss: 0.2675 - val_accuracy: 0.9048\n",
            "Epoch 45: early stopping\n"
          ]
        }
      ]
    },
    {
      "cell_type": "code",
      "source": [
        "# Import dependence for plotting training process\n",
        "import matplotlib.pyplot as plt"
      ],
      "metadata": {
        "id": "zq0FrFGXEqBZ"
      },
      "execution_count": 85,
      "outputs": []
    },
    {
      "cell_type": "code",
      "source": [
        "# Plot training and validation accuracy\n",
        "plt.plot(history.history['accuracy'])\n",
        "plt.plot(history.history['val_accuracy'])\n",
        "plt.title('Model accuracy')\n",
        "plt.ylabel('Accuracy')\n",
        "plt.xlabel('Epoch')\n",
        "plt.legend(['Train', 'Val'], loc='upper left')\n",
        "plt.show()"
      ],
      "metadata": {
        "colab": {
          "base_uri": "https://localhost:8080/",
          "height": 472
        },
        "id": "jha-6uVPEsy7",
        "outputId": "5df8e8b5-2a5e-4f2d-afd5-86e84ea6304d"
      },
      "execution_count": 86,
      "outputs": [
        {
          "output_type": "display_data",
          "data": {
            "text/plain": [
              "<Figure size 640x480 with 1 Axes>"
            ],
            "image/png": "[encoded data removed]"
          },
          "metadata": {}
        }
      ]
    },
    {
      "cell_type": "code",
      "source": [
        "# Plot training and test loss\n",
        "plt.plot(history.history['loss'])\n",
        "plt.plot(history.history['val_loss'])\n",
        "plt.title('Model loss')\n",
        "plt.ylabel('Loss')\n",
        "plt.xlabel('Epoch')\n",
        "plt.legend(['Train', 'Val'], loc='upper left')\n",
        "plt.show()"
      ],
      "metadata": {
        "colab": {
          "base_uri": "https://localhost:8080/",
          "height": 472
        },
        "id": "avko1WUqIHKi",
        "outputId": "dbf37c8d-ff3d-44fe-f5cf-fcc2c25e3956"
      },
      "execution_count": 87,
      "outputs": [
        {
          "output_type": "display_data",
          "data": {
            "text/plain": [
              "<Figure size 640x480 with 1 Axes>"
            ],
            "image/png": "[encoded data removed]"
          },
          "metadata": {}
        }
      ]
    }
  ]
}
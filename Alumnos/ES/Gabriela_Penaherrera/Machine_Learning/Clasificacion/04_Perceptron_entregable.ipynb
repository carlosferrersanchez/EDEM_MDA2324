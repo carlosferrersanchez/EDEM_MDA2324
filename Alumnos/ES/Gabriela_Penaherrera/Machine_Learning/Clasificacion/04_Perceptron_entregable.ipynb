{
  "nbformat": 4,
  "nbformat_minor": 0,
  "metadata": {
    "colab": {
      "provenance": []
    },
    "kernelspec": {
      "name": "python3",
      "display_name": "Python 3"
    },
    "language_info": {
      "name": "python"
    }
  },
  "cells": [
    {
      "cell_type": "markdown",
      "source": [
        "# ENTREGABLE 5"
      ],
      "metadata": {
        "id": "xr0fIzfVX-m2"
      }
    },
    {
      "cell_type": "markdown",
      "source": [
        "# INSTRUCCIONES"
      ],
      "metadata": {
        "id": "XkFBXXIeYBul"
      }
    },
    {
      "cell_type": "markdown",
      "source": [
        "Entrenar un perceptrón para que sea capaz de simular el comportamiento de una puerta AND.\n",
        "\n",
        "- Generar 5000 muestras aleatorias de entrenamiento, 500 de validación y 500 de test.\n",
        "\n",
        "\n",
        "*Pistas*\n",
        "\n",
        " * w es un vector que corresponde al valor de los pesos de cada neurona de entrada\n",
        " * b es un valor que corresponde al bias del modelo\n",
        " * El valor de la suma ponderada será el valor resultante de: *(pesos x entradas) + bias*. Para ello utilizar el producto escalar (*np.dot*)\n"
      ],
      "metadata": {
        "id": "Qy5ok3zYYDsU"
      }
    },
    {
      "cell_type": "code",
      "source": [
        "import numpy as np\n",
        "from tqdm import tqdm\n",
        "import matplotlib.pyplot as plt\n",
        "from sklearn.metrics import confusion_matrix\n",
        "from sklearn.model_selection import train_test_split"
      ],
      "metadata": {
        "id": "E94bkgYT0jcE"
      },
      "execution_count": 58,
      "outputs": []
    },
    {
      "cell_type": "code",
      "execution_count": 59,
      "metadata": {
        "id": "7-EvIbuU0hW3"
      },
      "outputs": [],
      "source": [
        "class Perceptron:\n",
        "    def __init__(self, input_size):\n",
        "        # Inicializamos los pesos y el sesgo de manera aleatoria\n",
        "        self.weights = np.random.rand(input_size)\n",
        "        self.bias = np.random.rand()\n",
        "\n",
        "    def sigmoid(self, x):\n",
        "        # Función de activación: sigmoide\n",
        "        return 1 / (1 + np.exp(-x))\n",
        "\n",
        "    def sigmoid_derivative(self, x):\n",
        "        # Derivada de la función sigmoide\n",
        "        return self.sigmoid(x) * (1 - self.sigmoid(x))\n",
        "\n",
        "    def predict(self, inputs):\n",
        "        # Calculamos la suma ponderada de las entradas\n",
        "        weighted_sum = np.dot(inputs, self.weights) + self.bias\n",
        "        # Aplicamos la función de activación y devolvemos la predicción\n",
        "        return self.sigmoid(weighted_sum)\n",
        "\n",
        "    def train(self, X_train, Y_train, X_validation, Y_validation, learning_rate=0.1, epochs=100):\n",
        "\n",
        "        train_error_by_epoch = []\n",
        "        val_error_by_epoch = []\n",
        "\n",
        "        for epoch in range(epochs):\n",
        "            train_error_acum = 0\n",
        "            for i in range(X_train.shape[0]):\n",
        "\n",
        "                inputs = X_train[i]\n",
        "\n",
        "                # Calcular la predicción del perceptrón\n",
        "                prediction = self.predict(inputs)\n",
        "\n",
        "                # Calcular el error\n",
        "                diferencia = Y_train[i] - prediction\n",
        "                error = diferencia ** 2\n",
        "                train_error_acum += error # Aquí se acumula el error\n",
        "\n",
        "                # Actualizar pesos y sesgo mediante el descenso del gradiente\n",
        "                weights_derivative = -2 * diferencia * self.sigmoid_derivative(prediction) * inputs\n",
        "                bias_derivative = -2 * diferencia * self.sigmoid_derivative(prediction)\n",
        "                self.weights = self.weights - learning_rate * weights_derivative\n",
        "                self.bias = self.bias - learning_rate * bias_derivative\n",
        "\n",
        "            # Calcular el error promedio por epoch\n",
        "            train_error_acum = train_error_acum / X_train.shape[0]\n",
        "            train_error_by_epoch.append(train_error_acum)\n",
        "\n",
        "\n",
        "            val_error_acum = 0\n",
        "            for i in range(X_validation.shape[0]):\n",
        "                inputs = X_validation[i]\n",
        "                prediction =  self.predict(inputs)\n",
        "\n",
        "                diferencia = Y_validation[i] - prediction\n",
        "                error = diferencia ** 2\n",
        "                val_error_acum += error # Aquí se acumula el error de validación\n",
        "\n",
        "            # Calcular el error promedio de validación por epoch\n",
        "            val_error_acum = val_error_acum / X_validation.shape[0]\n",
        "            val_error_by_epoch.append(val_error_acum)\n",
        "\n",
        "\n",
        "            # Visualización del progreso\n",
        "            if epoch % 10 == 0:\n",
        "                print('epoch:', epoch, '| train error:', train_error_acum, '| val error:', val_error_acum)\n",
        "\n",
        "        # Visualización del error de entrenamiento por epoch\n",
        "        plt.figure()\n",
        "        plt.plot(range(epochs), train_error_by_epoch, '-b')\n",
        "        plt.xlabel('Epoch')\n",
        "        plt.ylabel('Error cuadrático promedio')\n",
        "        plt.title('Error de Entrenamiento por Epoch')\n",
        "        plt.show()\n",
        "\n",
        "        # Visualización del error de validación por epoch\n",
        "        plt.figure()\n",
        "        plt.plot(range(epochs), val_error_by_epoch, '-b')\n",
        "        plt.xlabel('Epoch')\n",
        "        plt.ylabel('Error cuadrático promedio')\n",
        "        plt.title('Error de Validación por Epoch')\n",
        "        plt.show()\n"
      ]
    },
    {
      "cell_type": "code",
      "source": [
        "# Datos de entrenamiento y validación para la puerta AND\n",
        "N_samples = 6000\n",
        "N_inputs = 2\n",
        "train_size = 0.915\n",
        "N_validation = int((1 - train_size) * N_samples)\n",
        "\n",
        "# Generar datos de entrada X con todas las combinaciones posibles\n",
        "X_train = np.array([[0, 0], [0, 1], [1, 0], [1, 1]])\n",
        "X_train = np.tile(X_train, (N_samples // 4, 1))\n",
        "\n",
        "# Generar datos de salida Y para la puerta AND\n",
        "Y_train = np.array([0, 0, 0, 1])\n",
        "Y_train = np.tile(Y_train, N_samples // 4)\n",
        "\n",
        "# Dividir los datos en conjuntos de entrenamiento y validación\n",
        "X_train, X_validation, Y_train, Y_validation = train_test_split(X_train, Y_train, train_size=train_size, random_state=42)\n",
        "\n",
        "# Visualizar algunas muestras\n",
        "print(\"X_data (primeras 5 muestras):\")\n",
        "print(X_train[:5])\n",
        "\n",
        "print(\"Y_data (primeras 5 muestras):\")\n",
        "print(Y_train[:5])\n",
        "\n",
        "print(f'Tamaño del array X_train: {X_train.shape}')\n",
        "print(f'Tamaño del array Y_train: {Y_train.shape}')"
      ],
      "metadata": {
        "id": "Qv73YJdB2cxR",
        "colab": {
          "base_uri": "https://localhost:8080/"
        },
        "outputId": "023b885f-a2f2-491a-a238-cf9ab18ff407"
      },
      "execution_count": 60,
      "outputs": [
        {
          "output_type": "stream",
          "name": "stdout",
          "text": [
            "X_data (primeras 5 muestras):\n",
            "[[0 0]\n",
            " [1 1]\n",
            " [1 1]\n",
            " [1 1]\n",
            " [0 0]]\n",
            "Y_data (primeras 5 muestras):\n",
            "[0 1 1 1 0]\n",
            "Tamaño del array X_train: (5490, 2)\n",
            "Tamaño del array Y_train: (5490,)\n"
          ]
        }
      ]
    },
    {
      "cell_type": "code",
      "source": [
        "# Crear y entrenar el perceptrón para la puerta AND\n",
        "perceptron_and = Perceptron(input_size=N_inputs)"
      ],
      "metadata": {
        "id": "YZ9O9kZr2e1m"
      },
      "execution_count": 61,
      "outputs": []
    },
    {
      "cell_type": "code",
      "source": [
        "# Comprobar predicción del modelo sin entrenar\n",
        "index = 4\n",
        "\n",
        "th = 0.5\n",
        "print('Input:', X_validation[index])\n",
        "inputs = X_validation[index]\n",
        "prob = perceptron_and.predict(inputs)\n",
        "print('Probabilidad:', prob)\n",
        "print('Prediction:', (prob>th).astype('int'))"
      ],
      "metadata": {
        "id": "OATvOY6rZAA-",
        "colab": {
          "base_uri": "https://localhost:8080/"
        },
        "outputId": "f2dac0ab-268c-4ac6-90cc-8d0b1fd8894e"
      },
      "execution_count": 62,
      "outputs": [
        {
          "output_type": "stream",
          "name": "stdout",
          "text": [
            "Input: [0 0]\n",
            "Probabilidad: 0.7007147057019384\n",
            "Prediction: 1\n"
          ]
        }
      ]
    },
    {
      "cell_type": "code",
      "source": [
        "# Obtenemos un overview de como funciona el modelo sin entrenar de forma aleatoria\n",
        "predictions = []\n",
        "\n",
        "## itera por cada muestra de validación y genera la matriz de confusion\n",
        "\n",
        "for i in range(X_validation.shape[0]):\n",
        "    inputs = X_validation[i]\n",
        "    threshold =  perceptron_and.predict(inputs)\n",
        "    prediction = (prob > threshold).astype(int)  # Aplicar umbral y convertir a entero\n",
        "    predictions.append(prediction)\n",
        "\n",
        "print(predictions)\n",
        "\n",
        "threshold = 0.5\n",
        "\n",
        "# Calcula la matriz de confusión\n",
        "conf_matrix = confusion_matrix(Y_validation, predictions)\n",
        "\n",
        "# Visualiza la matriz de confusión\n",
        "print(\"Matriz de Confusión:\")\n",
        "print(conf_matrix)"
      ],
      "metadata": {
        "colab": {
          "base_uri": "https://localhost:8080/"
        },
        "id": "M1bszO63iMTM",
        "outputId": "6af1bb59-e97a-4194-cfe1-4b64dbfc871f"
      },
      "execution_count": 63,
      "outputs": [
        {
          "output_type": "stream",
          "name": "stdout",
          "text": [
            "[0, 0, 0, 0, 0, 0, 0, 0, 0, 0, 0, 0, 0, 0, 0, 0, 0, 0, 0, 0, 0, 0, 0, 0, 0, 0, 0, 0, 0, 0, 0, 0, 0, 0, 0, 0, 0, 0, 0, 0, 0, 0, 0, 0, 0, 0, 0, 0, 0, 0, 0, 0, 0, 0, 0, 0, 0, 0, 0, 0, 0, 0, 0, 0, 0, 0, 0, 0, 0, 0, 0, 0, 0, 0, 0, 0, 0, 0, 0, 0, 0, 0, 0, 0, 0, 0, 0, 0, 0, 0, 0, 0, 0, 0, 0, 0, 0, 0, 0, 0, 0, 0, 0, 0, 0, 0, 0, 0, 0, 0, 0, 0, 0, 0, 0, 0, 0, 0, 0, 0, 0, 0, 0, 0, 0, 0, 0, 0, 0, 0, 0, 0, 0, 0, 0, 0, 0, 0, 0, 0, 0, 0, 0, 0, 0, 0, 0, 0, 0, 0, 0, 0, 0, 0, 0, 0, 0, 0, 0, 0, 0, 0, 0, 0, 0, 0, 0, 0, 0, 0, 0, 0, 0, 0, 0, 0, 0, 0, 0, 0, 0, 0, 0, 0, 0, 0, 0, 0, 0, 0, 0, 0, 0, 0, 0, 0, 0, 0, 0, 0, 0, 0, 0, 0, 0, 0, 0, 0, 0, 0, 0, 0, 0, 0, 0, 0, 0, 0, 0, 0, 0, 0, 0, 0, 0, 0, 0, 0, 0, 0, 0, 0, 0, 0, 0, 0, 0, 0, 0, 0, 0, 0, 0, 0, 0, 0, 0, 0, 0, 0, 0, 0, 0, 0, 0, 0, 0, 0, 0, 0, 0, 0, 0, 0, 0, 0, 0, 0, 0, 0, 0, 0, 0, 0, 0, 0, 0, 0, 0, 0, 0, 0, 0, 0, 0, 0, 0, 0, 0, 0, 0, 0, 0, 0, 0, 0, 0, 0, 0, 0, 0, 0, 0, 0, 0, 0, 0, 0, 0, 0, 0, 0, 0, 0, 0, 0, 0, 0, 0, 0, 0, 0, 0, 0, 0, 0, 0, 0, 0, 0, 0, 0, 0, 0, 0, 0, 0, 0, 0, 0, 0, 0, 0, 0, 0, 0, 0, 0, 0, 0, 0, 0, 0, 0, 0, 0, 0, 0, 0, 0, 0, 0, 0, 0, 0, 0, 0, 0, 0, 0, 0, 0, 0, 0, 0, 0, 0, 0, 0, 0, 0, 0, 0, 0, 0, 0, 0, 0, 0, 0, 0, 0, 0, 0, 0, 0, 0, 0, 0, 0, 0, 0, 0, 0, 0, 0, 0, 0, 0, 0, 0, 0, 0, 0, 0, 0, 0, 0, 0, 0, 0, 0, 0, 0, 0, 0, 0, 0, 0, 0, 0, 0, 0, 0, 0, 0, 0, 0, 0, 0, 0, 0, 0, 0, 0, 0, 0, 0, 0, 0, 0, 0, 0, 0, 0, 0, 0, 0, 0, 0, 0, 0, 0, 0, 0, 0, 0, 0, 0, 0, 0, 0, 0, 0, 0, 0, 0, 0, 0, 0, 0, 0, 0, 0, 0, 0, 0, 0, 0, 0, 0, 0, 0, 0, 0, 0, 0, 0, 0, 0, 0, 0, 0, 0, 0, 0, 0, 0, 0, 0]\n",
            "Matriz de Confusión:\n",
            "[[387   0]\n",
            " [123   0]]\n"
          ]
        }
      ]
    },
    {
      "cell_type": "code",
      "source": [
        "# Entrenar el perceptrón\n",
        "perceptron_and.train(X_train, Y_train, X_validation, Y_validation)"
      ],
      "metadata": {
        "id": "cyDSfwTx2hLW",
        "colab": {
          "base_uri": "https://localhost:8080/",
          "height": 1000
        },
        "outputId": "acd6590a-2598-4a85-ad57-5f42c805839d"
      },
      "execution_count": 64,
      "outputs": [
        {
          "output_type": "stream",
          "name": "stdout",
          "text": [
            "epoch: 0 | train error: 0.03630004949360739 | val error: 0.005476559001127002\n",
            "epoch: 10 | train error: 6.299168971026227e-05 | val error: 5.729224007108324e-05\n",
            "epoch: 20 | train error: 1.649346298064358e-05 | val error: 1.57443964601805e-05\n",
            "epoch: 30 | train error: 7.438437443355614e-06 | val error: 7.216012202882182e-06\n",
            "epoch: 40 | train error: 4.213540572325052e-06 | val error: 4.120529848799955e-06\n",
            "epoch: 50 | train error: 2.707632753990752e-06 | val error: 2.6606375117273457e-06\n",
            "epoch: 60 | train error: 1.8852444735844665e-06 | val error: 1.8584682610164263e-06\n",
            "epoch: 70 | train error: 1.3876107585496104e-06 | val error: 1.3710337035588226e-06\n",
            "epoch: 80 | train error: 1.0638128868114197e-06 | val error: 1.0529068252972916e-06\n",
            "epoch: 90 | train error: 8.414010691108021e-07 | val error: 8.338852129362379e-07\n"
          ]
        },
        {
          "output_type": "display_data",
          "data": {
            "text/plain": [
              "<Figure size 640x480 with 1 Axes>"
            ],
            "image/png": "[encoded data removed]"
          },
          "metadata": {}
        },
        {
          "output_type": "display_data",
          "data": {
            "text/plain": [
              "<Figure size 640x480 with 1 Axes>"
            ],
            "image/png": "[encoded data removed]"
          },
          "metadata": {}
        }
      ]
    },
    {
      "cell_type": "code",
      "source": [
        "# Comprobar ahora la predicción del modelo entrenado en el set de validacion\n",
        "index = 4\n",
        "th = 0.5\n",
        "print('Input:', X_validation[index])\n",
        "inputs = X_validation[index]\n",
        "prob = perceptron_and.predict(inputs)\n",
        "print('Probabilidad:', prob)\n",
        "print('Prediction:', (prob>th).astype('int'))"
      ],
      "metadata": {
        "id": "i7x_ASxyZaue",
        "colab": {
          "base_uri": "https://localhost:8080/"
        },
        "outputId": "3bd2d636-1032-4853-ea02-e4b2c853e730"
      },
      "execution_count": 65,
      "outputs": [
        {
          "output_type": "stream",
          "name": "stdout",
          "text": [
            "Input: [0 0]\n",
            "Probabilidad: 7.00072447756545e-10\n",
            "Prediction: 0\n"
          ]
        }
      ]
    },
    {
      "cell_type": "code",
      "source": [
        "# Evaluamos cómo funciona el modelo en el set de validación\n",
        "predictions_validation = []\n",
        "## itera por cada muestra de validación guardando las predicciones en una lista y genera la matriz de confusion\n",
        "for i in range(X_validation.shape[0]):\n",
        "    inputs = X_validation[i]\n",
        "    threshold_val =  perceptron_and.predict(inputs)\n",
        "    prediction_val = (prob > threshold).astype(int)  # Aplicar umbral y convertir a entero\n",
        "    predictions_validation.append(prediction_val)\n",
        "# Calcula la matriz de confusión\n",
        "conf_matrix = confusion_matrix(Y_validation, predictions)\n",
        "\n",
        "# Visualiza la matriz de confusión\n",
        "print(\"Matriz de Confusión:\")\n",
        "print(conf_matrix)"
      ],
      "metadata": {
        "id": "3f1Qjl0GeXqF",
        "colab": {
          "base_uri": "https://localhost:8080/"
        },
        "outputId": "c367a1fa-ee54-472b-e6bb-8771ce53f2cb"
      },
      "execution_count": 66,
      "outputs": [
        {
          "output_type": "stream",
          "name": "stdout",
          "text": [
            "Matriz de Confusión:\n",
            "[[387   0]\n",
            " [123   0]]\n"
          ]
        }
      ]
    },
    {
      "cell_type": "code",
      "source": [
        "# Evaluamos cómo funciona el modelo en el set de test\n",
        "N_samples = 500\n",
        "\n",
        "## Generar el set de test (de forma similar al de validación)\n",
        "X_test = np.tile([[0, 0], [0, 1], [1, 0], [1, 1]], (N_samples // 4, 1))\n",
        "Y_test = np.tile([0, 0, 0, 1], N_samples // 4)\n",
        "## itera por cada muestra de test guardando las predicciones en una lista y genera la matriz de confusion\n",
        "predictions_test=[]\n",
        "\n",
        "for i in range(X_test.shape[0]):\n",
        "    inputs = X_test[i]\n",
        "    threshold_test =  perceptron_and.predict(inputs)\n",
        "    prediction_test = (prob > threshold).astype(int)  # Aplicar umbral y convertir a entero\n",
        "    predictions_test.append(prediction_test)\n",
        "\n",
        "# Calcula la matriz de confusión\n",
        "conf_matrix_test = confusion_matrix(Y_test, predictions_test)\n",
        "\n",
        "# Visualiza la matriz de confusión\n",
        "print(\"Matriz de Confusión:\")\n",
        "print(conf_matrix_test)"
      ],
      "metadata": {
        "id": "1vcJGytH2uqj",
        "colab": {
          "base_uri": "https://localhost:8080/"
        },
        "outputId": "9d576211-0808-4c30-bdc8-fbc0a6fd2109"
      },
      "execution_count": 67,
      "outputs": [
        {
          "output_type": "stream",
          "name": "stdout",
          "text": [
            "Matriz de Confusión:\n",
            "[[375   0]\n",
            " [125   0]]\n"
          ]
        }
      ]
    },
    {
      "cell_type": "code",
      "source": [],
      "metadata": {
        "id": "YbBk-pR1ZWWE"
      },
      "execution_count": 67,
      "outputs": []
    }
  ]
}
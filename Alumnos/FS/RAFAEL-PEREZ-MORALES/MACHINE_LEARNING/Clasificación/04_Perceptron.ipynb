{
  "nbformat": 4,
  "nbformat_minor": 0,
  "metadata": {
    "colab": {
      "provenance": []
    },
    "kernelspec": {
      "name": "python3",
      "display_name": "Python 3"
    },
    "language_info": {
      "name": "python"
    }
  },
  "cells": [
    {
      "cell_type": "markdown",
      "source": [
        "# ENTREGABLE 5"
      ],
      "metadata": {
        "id": "xr0fIzfVX-m2"
      }
    },
    {
      "cell_type": "markdown",
      "source": [
        "# INSTRUCCIONES"
      ],
      "metadata": {
        "id": "XkFBXXIeYBul"
      }
    },
    {
      "cell_type": "markdown",
      "source": [
        "Entrenar un perceptrón para que sea capaz de simular el comportamiento de una puerta AND.\n",
        "\n",
        "- Generar 5000 muestras aleatorias de entrenamiento, 500 de validación y 500 de test.\n",
        "\n",
        "\n",
        "*Pistas*\n",
        "\n",
        " * w es un vector que corresponde al valor de los pesos de cada neurona de entrada\n",
        " * b es un valor que corresponde al bias del modelo\n",
        " * El valor de la suma ponderada será el valor resultante de: *(pesos x entradas) + bias*. Para ello utilizar el producto escalar (*np.dot*)\n"
      ],
      "metadata": {
        "id": "Qy5ok3zYYDsU"
      }
    },
    {
      "cell_type": "code",
      "source": [
        "import numpy as np\n",
        "from tqdm import tqdm\n",
        "import matplotlib.pyplot as plt\n",
        "from sklearn.metrics import confusion_matrix"
      ],
      "metadata": {
        "id": "E94bkgYT0jcE"
      },
      "execution_count": 1,
      "outputs": []
    },
    {
      "cell_type": "code",
      "execution_count": 3,
      "metadata": {
        "id": "7-EvIbuU0hW3"
      },
      "outputs": [],
      "source": [
        "class Perceptron:\n",
        "    def __init__(self, input_size):\n",
        "        # Inicializamos los pesos y el sesgo de manera aleatoria\n",
        "        self.weights = np.random.rand(input_size)\n",
        "        self.bias = np.random.rand()\n",
        "\n",
        "    def sigmoid(self, x):\n",
        "        # Función de activación: sigmoide\n",
        "        return 1 / (1 + np.exp(-x))\n",
        "\n",
        "    def sigmoid_derivative(self, x):\n",
        "        # Derivada de la función sigmoide\n",
        "        return self.sigmoid(x) * (1 - self.sigmoid(x))\n",
        "\n",
        "    def predict(self, inputs):\n",
        "        # Calculamos la suma ponderada de las entradas\n",
        "        weighted_sum = np.dot(inputs, self.weights) + self.bias\n",
        "        # Aplicamos la función de activación y devolvemos la predicción\n",
        "        return self.sigmoid(weighted_sum)\n",
        "\n",
        "    def train(self, X_train, Y_train, X_validation, Y_validation, learning_rate=0.1, epochs=100):\n",
        "\n",
        "        train_error_by_epoch = []\n",
        "        val_error_by_epoch = []\n",
        "\n",
        "        for epoch in range(epochs):\n",
        "            train_error_acum = 0\n",
        "            for i in range(X_train.shape[0]):\n",
        "\n",
        "                inputs = X_train[i]\n",
        "\n",
        "                # Calcular la predicción del perceptrón\n",
        "                prediction = self.predict(inputs)\n",
        "\n",
        "                # Calcular el error\n",
        "                diferencia = Y_train[i] - prediction\n",
        "                error = diferencia ** 2\n",
        "                train_error_acum += error # Aquí se acumula el error\n",
        "\n",
        "                # Actualizar pesos y sesgo mediante el descenso del gradiente\n",
        "                weights_derivative = -2 * diferencia * self.sigmoid_derivative(prediction) * inputs\n",
        "                bias_derivative = -2 * diferencia * self.sigmoid_derivative(prediction)\n",
        "                self.weights = self.weights - learning_rate * weights_derivative\n",
        "                self.bias = self.bias - learning_rate * bias_derivative\n",
        "\n",
        "            # Calcular el error promedio por epoch\n",
        "            train_error_acum /= X_train.shape[0]\n",
        "            train_error_by_epoch.append(train_error_acum)\n",
        "\n",
        "            val_error_acum = 0\n",
        "            for i in range(X_validation.shape[0]):\n",
        "                inputs = X_validation[i]\n",
        "                prediction = self.predict(inputs)\n",
        "\n",
        "                diferencia = Y_validation[i] - prediction\n",
        "                error = diferencia ** 2\n",
        "                val_error_acum += error # Aquí se acumula el error\n",
        "\n",
        "            # Calcular el error promedio de validación por epoch\n",
        "            val_error_acum /= X_validation.shape[0]\n",
        "            val_error_by_epoch.append(val_error_acum)\n",
        "\n",
        "            # Visualización del progreso\n",
        "            if epoch % 10 == 0:\n",
        "                print('epoch:', epoch, '| train error:', train_error_acum, '| val error:', val_error_acum)\n",
        "\n",
        "        # Visualización del error de entrenamiento por epoch\n",
        "        plt.figure()\n",
        "        plt.plot(range(epochs), train_error_by_epoch, '-b')\n",
        "        plt.xlabel('Epoch')\n",
        "        plt.ylabel('Error cuadrático promedio')\n",
        "        plt.title('Error de Entrenamiento por Epoch')\n",
        "        plt.show()\n",
        "\n",
        "        # Visualización del error de validación por epoch\n",
        "        plt.figure()\n",
        "        plt.plot(range(epochs), val_error_by_epoch, '-b')\n",
        "        plt.xlabel('Epoch')\n",
        "        plt.ylabel('Error cuadrático promedio')\n",
        "        plt.title('Error de Validación por Epoch')\n",
        "        plt.show()"
      ]
    },
    {
      "cell_type": "code",
      "source": [
        "# Datos de entrenamiento y validación para la puerta AND\n",
        "N_samples = 5000\n",
        "N_inputs = 2\n",
        "train_size = 0.8\n",
        "N_validation = int((1 - train_size) * N_samples)\n",
        "\n",
        "X_data = np.random.randint(2, size=(N_samples, N_inputs))\n",
        "Y_data = np.prod(X_data, axis=1)\n",
        "\n",
        "X_train = X_data[:int(N_samples * train_size)]\n",
        "Y_train = Y_data[:int(N_samples * train_size)]\n",
        "\n",
        "X_validation = X_data[int(N_samples * train_size):]\n",
        "Y_validation = Y_data[int(N_samples * train_size):]\n",
        "\n",
        "# Visualizar algunas muestras\n",
        "print(\"X_data (primeras 5 muestras):\")\n",
        "print(X_train[:5])\n",
        "\n",
        "print(\"Y_data (primeras 5 muestras):\")\n",
        "print(Y_train[:5])"
      ],
      "metadata": {
        "id": "Qv73YJdB2cxR",
        "colab": {
          "base_uri": "https://localhost:8080/"
        },
        "outputId": "61db733e-d20a-4915-e4bf-46105aba7478"
      },
      "execution_count": 4,
      "outputs": [
        {
          "output_type": "stream",
          "name": "stdout",
          "text": [
            "X_data (primeras 5 muestras):\n",
            "[[0 1]\n",
            " [0 1]\n",
            " [1 0]\n",
            " [0 0]\n",
            " [1 1]]\n",
            "Y_data (primeras 5 muestras):\n",
            "[0 0 0 0 1]\n"
          ]
        }
      ]
    },
    {
      "cell_type": "code",
      "source": [
        "# Crear y entrenar el perceptrón para la puerta AND\n",
        "perceptron_and = Perceptron(input_size=N_inputs)"
      ],
      "metadata": {
        "id": "YZ9O9kZr2e1m"
      },
      "execution_count": 5,
      "outputs": []
    },
    {
      "cell_type": "code",
      "source": [
        "# Comprobar predicción del modelo sin entrenar\n",
        "index = 4\n",
        "\n",
        "th = 0.5\n",
        "print('Input:', X_validation[index])\n",
        "inputs = X_validation[index]\n",
        "prob = perceptron_and.predict(inputs)\n",
        "print('Probabilidad:', prob)\n",
        "print('Prediction:', (prob>th).astype('int'))"
      ],
      "metadata": {
        "id": "OATvOY6rZAA-",
        "colab": {
          "base_uri": "https://localhost:8080/"
        },
        "outputId": "c4facddd-5973-46a1-8825-22f13975bf7b"
      },
      "execution_count": 6,
      "outputs": [
        {
          "output_type": "stream",
          "name": "stdout",
          "text": [
            "Input: [0 1]\n",
            "Probabilidad: 0.8511575490275801\n",
            "Prediction: 1\n"
          ]
        }
      ]
    },
    {
      "cell_type": "code",
      "source": [
        "# Obtenemos un overview de como funciona el modelo sin entrenar de forma aleatoria\n",
        "predictions = []\n",
        "for i in range(X_validation.shape[0]):\n",
        "    inputs = X_validation[i]\n",
        "    prob = perceptron_and.predict(inputs)\n",
        "    predictions.append((prob>th).astype('int'))\n",
        "\n",
        "# Calcula la matriz de confusión\n",
        "conf_matrix = confusion_matrix(Y_validation, predictions)\n",
        "\n",
        "# Visualiza la matriz de confusión\n",
        "print(\"Matriz de Confusión:\")\n",
        "print(conf_matrix)"
      ],
      "metadata": {
        "id": "sNClS_hgZDa_",
        "colab": {
          "base_uri": "https://localhost:8080/"
        },
        "outputId": "f0a37544-e56b-4b59-92c6-8b5a863f7629"
      },
      "execution_count": 8,
      "outputs": [
        {
          "output_type": "stream",
          "name": "stdout",
          "text": [
            "Matriz de Confusión:\n",
            "[[  0 741]\n",
            " [  0 259]]\n"
          ]
        }
      ]
    },
    {
      "cell_type": "code",
      "source": [
        "# Entrenar el perceptrón\n",
        "perceptron_and.train(X_train, Y_train, X_validation, Y_validation)"
      ],
      "metadata": {
        "id": "cyDSfwTx2hLW",
        "colab": {
          "base_uri": "https://localhost:8080/",
          "height": 1000
        },
        "outputId": "24a76d57-f1fb-460d-d83f-90338a9f6a70"
      },
      "execution_count": 9,
      "outputs": [
        {
          "output_type": "stream",
          "name": "stdout",
          "text": [
            "epoch: 0 | train error: 0.04494634456479693 | val error: 0.010024577948745183\n",
            "epoch: 10 | train error: 0.00011774623851062224 | val error: 0.00010943822797338306\n",
            "epoch: 20 | train error: 3.096673824495169e-05 | val error: 3.0003924907715958e-05\n",
            "epoch: 30 | train error: 1.398188936031645e-05 | val error: 1.3738546035649677e-05\n",
            "epoch: 40 | train error: 7.923743758613112e-06 | val error: 7.84067028092315e-06\n",
            "epoch: 50 | train error: 5.09293806517119e-06 | val error: 5.060796998714487e-06\n",
            "epoch: 60 | train error: 3.5464738400290687e-06 | val error: 3.5339877478443276e-06\n",
            "epoch: 70 | train error: 2.6105068342750196e-06 | val error: 2.60652840111715e-06\n",
            "epoch: 80 | train error: 2.001420456110928e-06 | val error: 2.0013712882628378e-06\n",
            "epoch: 90 | train error: 1.5830148427700916e-06 | val error: 1.5848238375890318e-06\n"
          ]
        },
        {
          "output_type": "display_data",
          "data": {
            "text/plain": [
              "<Figure size 640x480 with 1 Axes>"
            ],
            "image/png": "[encoded data removed]"
          },
          "metadata": {}
        },
        {
          "output_type": "display_data",
          "data": {
            "text/plain": [
              "<Figure size 640x480 with 1 Axes>"
            ],
            "image/png": "[encoded data removed]"
          },
          "metadata": {}
        }
      ]
    },
    {
      "cell_type": "code",
      "source": [
        "# Comprobar ahora la predicción del modelo entrenado en el set de validacion\n",
        "index = 4\n",
        "\n",
        "th = 0.5\n",
        "print('Input:', X_validation[index])\n",
        "inputs = X_validation[index]\n",
        "prob = perceptron_and.predict(inputs)\n",
        "print('Probabilidad:', prob)\n",
        "print('Prediction:', (prob>th).astype('int'))"
      ],
      "metadata": {
        "id": "i7x_ASxyZaue",
        "colab": {
          "base_uri": "https://localhost:8080/"
        },
        "outputId": "98e099e1-b3da-401c-92d8-597fdbb4e47d"
      },
      "execution_count": 10,
      "outputs": [
        {
          "output_type": "stream",
          "name": "stdout",
          "text": [
            "Input: [0 1]\n",
            "Probabilidad: 0.0009749157586339564\n",
            "Prediction: 0\n"
          ]
        }
      ]
    },
    {
      "cell_type": "code",
      "source": [
        "# Evaluamos cómo funciona el modelo en el set de validación\n",
        "predictions = []\n",
        "for i in range(X_validation.shape[0]):\n",
        "    inputs = X_validation[i]\n",
        "    prob = perceptron_and.predict(inputs)\n",
        "    predictions.append((prob>th).astype('int'))\n",
        "\n",
        "# Calcula la matriz de confusión\n",
        "conf_matrix = confusion_matrix(Y_validation, predictions)\n",
        "\n",
        "# Visualiza la matriz de confusión\n",
        "print(\"Matriz de Confusión:\")\n",
        "print(conf_matrix)"
      ],
      "metadata": {
        "id": "3f1Qjl0GeXqF",
        "colab": {
          "base_uri": "https://localhost:8080/"
        },
        "outputId": "75cc2f72-2d1a-4dd5-83fd-74aa72b6689e"
      },
      "execution_count": 11,
      "outputs": [
        {
          "output_type": "stream",
          "name": "stdout",
          "text": [
            "Matriz de Confusión:\n",
            "[[741   0]\n",
            " [  0 259]]\n"
          ]
        }
      ]
    },
    {
      "cell_type": "code",
      "source": [
        "# Evaluamos cómo funciona el modelo en el set de test\n",
        "X_test = np.random.randint(2, size=(500, 2))\n",
        "Y_test = np.prod(X_test, axis=1)\n",
        "\n",
        "predictions = []\n",
        "for i in range(X_test.shape[0]):\n",
        "    inputs = X_test[i]\n",
        "    prob = perceptron_and.predict(inputs)\n",
        "    predictions.append((prob>th).astype('int'))\n",
        "\n",
        "# Calcula la matriz de confusión\n",
        "conf_matrix = confusion_matrix(Y_test, predictions)\n",
        "\n",
        "# Visualiza la matriz de confusión\n",
        "print(\"Matriz de Confusión en el conjunto de test:\")\n",
        "print(conf_matrix)"
      ],
      "metadata": {
        "id": "1vcJGytH2uqj",
        "colab": {
          "base_uri": "https://localhost:8080/"
        },
        "outputId": "1e61b874-0f12-41e1-e522-dacb4e35472b"
      },
      "execution_count": 12,
      "outputs": [
        {
          "output_type": "stream",
          "name": "stdout",
          "text": [
            "Matriz de Confusión en el conjunto de test:\n",
            "[[381   0]\n",
            " [  0 119]]\n"
          ]
        }
      ]
    }
  ]
}
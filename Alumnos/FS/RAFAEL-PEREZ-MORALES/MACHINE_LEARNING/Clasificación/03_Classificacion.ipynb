{
  "nbformat": 4,
  "nbformat_minor": 0,
  "metadata": {
    "colab": {
      "provenance": []
    },
    "kernelspec": {
      "name": "python3",
      "display_name": "Python 3"
    },
    "language_info": {
      "name": "python"
    }
  },
  "cells": [
    {
      "cell_type": "markdown",
      "source": [
        "# ENTREGABLE 4"
      ],
      "metadata": {
        "id": "mYJdsFxinuN5"
      }
    },
    {
      "cell_type": "markdown",
      "source": [
        "# INSTRUCCIONES"
      ],
      "metadata": {
        "id": "IIGQAc67cj6O"
      }
    },
    {
      "cell_type": "markdown",
      "source": [
        "Utilizar el archivo CSV (`dataset_banco_clean.csv`) con 45189 filas y 17 columnas y aplicar las técnicas de normalización del entregable 3."
      ],
      "metadata": {
        "id": "t3VhhDXrcfBJ"
      }
    },
    {
      "cell_type": "code",
      "source": [
        "# imports\n",
        "import numpy as np\n",
        "import pandas as pd\n",
        "from sklearn.model_selection import train_test_split\n",
        "from sklearn.preprocessing import StandardScaler, OneHotEncoder\n",
        "from sklearn.compose import ColumnTransformer\n",
        "from sklearn.ensemble import RandomForestClassifier\n",
        "from sklearn.metrics import accuracy_score, classification_report"
      ],
      "metadata": {
        "id": "LDnXEh9vn2GX"
      },
      "execution_count": 6,
      "outputs": []
    },
    {
      "cell_type": "code",
      "source": [
        "ruta = \"/content/dataset_banco_clean.csv\"\n",
        "data = pd.read_csv(ruta)"
      ],
      "metadata": {
        "id": "2C6TxrrjoLca"
      },
      "execution_count": 3,
      "outputs": []
    },
    {
      "cell_type": "markdown",
      "source": [
        "# Objetivo\n",
        "\n",
        "Generar un model de clasificación capaz de predecir la clase de flor en función de las carácterísticas del dataset\n",
        "\n",
        "* Aplicar las técnicas oportunas de procesamiento de datos\n",
        "\n",
        "* Generar split de los datos\n",
        "\n",
        "* Valorar diferentes modelos de clasificación\n",
        "\n",
        "* Comparación entre modelos\n",
        "\n",
        "* Ensemble\n",
        "\n",
        "* Métricas\n",
        "\n",
        "* Conclusiones finales"
      ],
      "metadata": {
        "id": "suOncPeIo2Ln"
      }
    },
    {
      "cell_type": "code",
      "source": [
        "# imports\n",
        "import numpy as np\n",
        "import pandas as pd\n",
        "from sklearn.model_selection import train_test_split\n",
        "from sklearn.preprocessing import StandardScaler, OneHotEncoder\n",
        "from sklearn.compose import ColumnTransformer\n",
        "from sklearn.ensemble import RandomForestClassifier\n",
        "from sklearn.metrics import accuracy_score, classification_report\n",
        "\n",
        "# Cargar el conjunto de datos\n",
        "ruta = \"dataset_banco_clean.csv\"\n",
        "data = pd.read_csv(ruta)\n",
        "\n",
        "# Exploración de los datos\n",
        "print(\"Dimensiones del dataset:\", data.shape)\n",
        "print(\"Primeras filas del dataset:\")\n",
        "print(data.head())\n",
        "\n",
        "# Separar las características (X) y la variable objetivo (y)\n",
        "X = data.drop('y', axis=1)\n",
        "y = data['y']\n",
        "\n",
        "# Dividir los datos en entrenamiento y prueba\n",
        "X_train, X_test, y_train, y_test = train_test_split(X, y, test_size=0.2, random_state=42)\n",
        "\n",
        "# Preprocesamiento de datos\n",
        "numeric_features = X.select_dtypes(include=['int64', 'float64']).columns\n",
        "categorical_features = X.select_dtypes(include=['object']).columns\n",
        "\n",
        "numeric_transformer = StandardScaler()\n",
        "categorical_transformer = OneHotEncoder(handle_unknown='ignore')\n",
        "\n",
        "preprocessor = ColumnTransformer(\n",
        "    transformers=[\n",
        "        ('num', numeric_transformer, numeric_features),\n",
        "        ('cat', categorical_transformer, categorical_features)])\n",
        "\n",
        "X_train_preprocessed = preprocessor.fit_transform(X_train)\n",
        "X_test_preprocessed = preprocessor.transform(X_test)\n",
        "\n",
        "# Entrenar un modelo de clasificación\n",
        "clf = RandomForestClassifier(random_state=42)\n",
        "clf.fit(X_train_preprocessed, y_train)\n",
        "\n",
        "# Predecir en el conjunto de prueba\n",
        "y_pred = clf.predict(X_test_preprocessed)\n",
        "\n",
        "# Evaluar el rendimiento del modelo\n",
        "accuracy = accuracy_score(y_test, y_pred)\n",
        "report = classification_report(y_test, y_pred)\n",
        "\n",
        "print(\"Accuracy:\", accuracy)\n",
        "print(\"Classification Report:\")\n",
        "print(report)"
      ],
      "metadata": {
        "id": "oGEq8EGTpp7g",
        "colab": {
          "base_uri": "https://localhost:8080/"
        },
        "outputId": "da36380f-0103-4cda-f424-2d7b3f4bd18b"
      },
      "execution_count": 8,
      "outputs": [
        {
          "output_type": "stream",
          "name": "stdout",
          "text": [
            "Dimensiones del dataset: (45189, 17)\n",
            "Primeras filas del dataset:\n",
            "   age           job  marital  education default  balance housing loan  \\\n",
            "0   58    management  married   tertiary      no   2143.0     yes   no   \n",
            "1   44    technician   single  secondary      no     29.0     yes   no   \n",
            "2   33  entrepreneur  married  secondary      no      2.0     yes  yes   \n",
            "3   47   blue-collar  married    unknown      no   1506.0     yes   no   \n",
            "4   33       unknown   single    unknown      no      1.0      no   no   \n",
            "\n",
            "   contact  day month  duration  campaign  pdays  previous poutcome   y  \n",
            "0  unknown    5   may     261.0         1   -1.0         0  unknown  no  \n",
            "1  unknown    5   may     151.0         1   -1.0         0  unknown  no  \n",
            "2  unknown    5   may      76.0         1   -1.0         0  unknown  no  \n",
            "3  unknown    5   may      92.0         1   -1.0         0  unknown  no  \n",
            "4  unknown    5   may     198.0         1   -1.0         0  unknown  no  \n",
            "Accuracy: 0.9079442354503209\n",
            "Classification Report:\n",
            "              precision    recall  f1-score   support\n",
            "\n",
            "          no       0.92      0.98      0.95      7978\n",
            "         yes       0.69      0.39      0.50      1060\n",
            "\n",
            "    accuracy                           0.91      9038\n",
            "   macro avg       0.81      0.68      0.72      9038\n",
            "weighted avg       0.90      0.91      0.90      9038\n",
            "\n"
          ]
        }
      ]
    },
    {
      "cell_type": "markdown",
      "source": [
        "# Conclusiones"
      ],
      "metadata": {
        "id": "j2PGzN9SpfcP"
      }
    },
    {
      "cell_type": "markdown",
      "source": [
        "Se ha conseguido una buena predicción del problema de clasificaicón, con un accuracy de un 90 % de los resultados acertados. Es cierto que para el resultado de que sí que hay default la precisión es mucho menor que para no, posiblemente por un desbalanceo de clases.\n",
        "\n",
        "No entiendo porque pone que hay que clasificar el tipo de flor (?)"
      ],
      "metadata": {
        "id": "pcxal4jhlmlH"
      }
    }
  ]
}
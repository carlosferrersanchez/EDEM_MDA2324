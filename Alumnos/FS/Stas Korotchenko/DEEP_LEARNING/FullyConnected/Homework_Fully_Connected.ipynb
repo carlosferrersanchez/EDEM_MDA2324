{
  "cells": [
    {
      "cell_type": "markdown",
      "metadata": {
        "id": "8EZHOi6r9nam"
      },
      "source": [
        "# Homework: Sonar signal classification\n",
        "In this workshop you will train a binary classification neural network to differentiate if sonar signals bounced against a metal cylinder or a rock.\n",
        "\n",
        "[Info of the data](https://archive.ics.uci.edu/ml/datasets/Connectionist+Bench+(Sonar,+Mines+vs.+Rocks))\n",
        "\n",
        "Goal: Get an accuracy higher than 0.80 in the validation set"
      ]
    },
    {
      "cell_type": "markdown",
      "metadata": {
        "id": "SMD13P7t-zaB"
      },
      "source": [
        "## Get the data from Google Drive"
      ]
    },
    {
      "cell_type": "code",
      "execution_count": 1,
      "metadata": {
        "colab": {
          "base_uri": "https://localhost:8080/"
        },
        "id": "79_B_MAD-wnl",
        "outputId": "f0b70b6e-41d4-4289-b8ab-2b0ed0c520b5"
      },
      "outputs": [
        {
          "name": "stderr",
          "output_type": "stream",
          "text": [
            "WARNING:root:pydrive is deprecated and no longer maintained. We recommend that you migrate your projects to pydrive2, the maintained fork of pydrive\n"
          ]
        }
      ],
      "source": [
        "# Import libraries to interact with Google Drive\n",
        "from pydrive.auth import GoogleAuth\n",
        "from pydrive.drive import GoogleDrive\n",
        "from google.colab import auth\n",
        "from oauth2client.client import GoogleCredentials"
      ]
    },
    {
      "cell_type": "code",
      "execution_count": 2,
      "metadata": {
        "id": "ixiSqTGQds3p"
      },
      "outputs": [],
      "source": [
        "# Load dependencies for loading data\n",
        "import numpy as np\n",
        "import pandas as pd\n",
        "# Import dependence for plotting training process\n",
        "import matplotlib.pyplot as plt"
      ]
    },
    {
      "cell_type": "code",
      "execution_count": 3,
      "metadata": {
        "id": "SkXygBbDhu0j"
      },
      "outputs": [],
      "source": [
        "# Import dependencies for pre-processing\n",
        "from sklearn.preprocessing import StandardScaler\n",
        "from sklearn.preprocessing import OneHotEncoder\n",
        "from sklearn.model_selection import train_test_split"
      ]
    },
    {
      "cell_type": "code",
      "execution_count": 4,
      "metadata": {
        "id": "nRwDT6v-jsWg"
      },
      "outputs": [],
      "source": [
        "# Import dependencies for designing Keras model\n",
        "from tensorflow import keras\n",
        "from keras.models import Sequential\n",
        "from keras.layers import Dense"
      ]
    },
    {
      "cell_type": "code",
      "execution_count": 5,
      "metadata": {
        "id": "6Zc93VS8-6at"
      },
      "outputs": [],
      "source": [
        "# Authenticate with your Google account to get access to the data\n",
        "auth.authenticate_user()\n",
        "gauth = GoogleAuth()\n",
        "gauth.credentials = GoogleCredentials.get_application_default()\n",
        "drive = GoogleDrive(gauth)"
      ]
    },
    {
      "cell_type": "code",
      "execution_count": 6,
      "metadata": {
        "id": "FuyIoFl7-9RK"
      },
      "outputs": [],
      "source": [
        "# Download data\n",
        "download = drive.CreateFile({'id': '1rw5l3jCo2vlNc8NLrMk3KPZr6HsjNRCY'})\n",
        "download.GetContentFile('sonar.csv')"
      ]
    },
    {
      "cell_type": "code",
      "execution_count": 7,
      "metadata": {
        "colab": {
          "base_uri": "https://localhost:8080/"
        },
        "id": "7ONNxAzG_Ktn",
        "outputId": "332ad8ee-48dd-48d4-9348-d772c7f27656"
      },
      "outputs": [
        {
          "name": "stdout",
          "output_type": "stream",
          "text": [
            "\u001b[0m\u001b[01;34msample_data\u001b[0m/  sonar.csv\n"
          ]
        }
      ],
      "source": [
        "ls"
      ]
    },
    {
      "cell_type": "markdown",
      "metadata": {
        "id": "3vDd2efB_WHM"
      },
      "source": [
        "## Do some magic below! ;)"
      ]
    },
    {
      "cell_type": "code",
      "execution_count": 8,
      "metadata": {
        "id": "o4SmeiYlHB95"
      },
      "outputs": [],
      "source": [
        "# Load training dataset and check variables\n",
        "dataset = pd.read_csv('/content/sonar.csv')"
      ]
    },
    {
      "cell_type": "code",
      "execution_count": 9,
      "metadata": {
        "colab": {
          "base_uri": "https://localhost:8080/"
        },
        "id": "rP7xYBVMewgm",
        "outputId": "3bdf3816-25bf-4889-f485-812c57ddff11"
      },
      "outputs": [
        {
          "data": {
            "text/plain": [
              "Index(['0.0200', '0.0371', '0.0428', '0.0207', '0.0954', '0.0986', '0.1539',\n",
              "       '0.1601', '0.3109', '0.2111', '0.1609', '0.1582', '0.2238', '0.0645',\n",
              "       '0.0660', '0.2273', '0.3100', '0.2999', '0.5078', '0.4797', '0.5783',\n",
              "       '0.5071', '0.4328', '0.5550', '0.6711', '0.6415', '0.7104', '0.8080',\n",
              "       '0.6791', '0.3857', '0.1307', '0.2604', '0.5121', '0.7547', '0.8537',\n",
              "       '0.8507', '0.6692', '0.6097', '0.4943', '0.2744', '0.0510', '0.2834',\n",
              "       '0.2825', '0.4256', '0.2641', '0.1386', '0.1051', '0.1343', '0.0383',\n",
              "       '0.0324', '0.0232', '0.0027', '0.0065', '0.0159', '0.0072', '0.0167',\n",
              "       '0.0180', '0.0084', '0.0090', '0.0032', 'R'],\n",
              "      dtype='object')"
            ]
          },
          "execution_count": 9,
          "metadata": {},
          "output_type": "execute_result"
        }
      ],
      "source": [
        "# Show variables\n",
        "dataset.columns"
      ]
    },
    {
      "cell_type": "code",
      "execution_count": 10,
      "metadata": {
        "colab": {
          "base_uri": "https://localhost:8080/",
          "height": 235
        },
        "id": "4_htjI25ewew",
        "outputId": "4b52dfc0-534a-4b81-830f-5274e5ba12ad"
      },
      "outputs": [
        {
          "data": {
            "application/vnd.google.colaboratory.intrinsic+json": {
              "type": "dataframe",
              "variable_name": "dataset"
            },
            "text/html": [
              "\n",
              "  <div id=\"df-8a637b0c-fefa-4f49-9df1-a2d47cc30b5c\" class=\"colab-df-container\">\n",
              "    <div>\n",
              "<style scoped>\n",
              "    .dataframe tbody tr th:only-of-type {\n",
              "        vertical-align: middle;\n",
              "    }\n",
              "\n",
              "    .dataframe tbody tr th {\n",
              "        vertical-align: top;\n",
              "    }\n",
              "\n",
              "    .dataframe thead th {\n",
              "        text-align: right;\n",
              "    }\n",
              "</style>\n",
              "<table border=\"1\" class=\"dataframe\">\n",
              "  <thead>\n",
              "    <tr style=\"text-align: right;\">\n",
              "      <th></th>\n",
              "      <th>0.0200</th>\n",
              "      <th>0.0371</th>\n",
              "      <th>0.0428</th>\n",
              "      <th>0.0207</th>\n",
              "      <th>0.0954</th>\n",
              "      <th>0.0986</th>\n",
              "      <th>0.1539</th>\n",
              "      <th>0.1601</th>\n",
              "      <th>0.3109</th>\n",
              "      <th>0.2111</th>\n",
              "      <th>...</th>\n",
              "      <th>0.0027</th>\n",
              "      <th>0.0065</th>\n",
              "      <th>0.0159</th>\n",
              "      <th>0.0072</th>\n",
              "      <th>0.0167</th>\n",
              "      <th>0.0180</th>\n",
              "      <th>0.0084</th>\n",
              "      <th>0.0090</th>\n",
              "      <th>0.0032</th>\n",
              "      <th>R</th>\n",
              "    </tr>\n",
              "  </thead>\n",
              "  <tbody>\n",
              "    <tr>\n",
              "      <th>0</th>\n",
              "      <td>0.0453</td>\n",
              "      <td>0.0523</td>\n",
              "      <td>0.0843</td>\n",
              "      <td>0.0689</td>\n",
              "      <td>0.1183</td>\n",
              "      <td>0.2583</td>\n",
              "      <td>0.2156</td>\n",
              "      <td>0.3481</td>\n",
              "      <td>0.3337</td>\n",
              "      <td>0.2872</td>\n",
              "      <td>...</td>\n",
              "      <td>0.0084</td>\n",
              "      <td>0.0089</td>\n",
              "      <td>0.0048</td>\n",
              "      <td>0.0094</td>\n",
              "      <td>0.0191</td>\n",
              "      <td>0.0140</td>\n",
              "      <td>0.0049</td>\n",
              "      <td>0.0052</td>\n",
              "      <td>0.0044</td>\n",
              "      <td>R</td>\n",
              "    </tr>\n",
              "    <tr>\n",
              "      <th>1</th>\n",
              "      <td>0.0262</td>\n",
              "      <td>0.0582</td>\n",
              "      <td>0.1099</td>\n",
              "      <td>0.1083</td>\n",
              "      <td>0.0974</td>\n",
              "      <td>0.2280</td>\n",
              "      <td>0.2431</td>\n",
              "      <td>0.3771</td>\n",
              "      <td>0.5598</td>\n",
              "      <td>0.6194</td>\n",
              "      <td>...</td>\n",
              "      <td>0.0232</td>\n",
              "      <td>0.0166</td>\n",
              "      <td>0.0095</td>\n",
              "      <td>0.0180</td>\n",
              "      <td>0.0244</td>\n",
              "      <td>0.0316</td>\n",
              "      <td>0.0164</td>\n",
              "      <td>0.0095</td>\n",
              "      <td>0.0078</td>\n",
              "      <td>R</td>\n",
              "    </tr>\n",
              "    <tr>\n",
              "      <th>2</th>\n",
              "      <td>0.0100</td>\n",
              "      <td>0.0171</td>\n",
              "      <td>0.0623</td>\n",
              "      <td>0.0205</td>\n",
              "      <td>0.0205</td>\n",
              "      <td>0.0368</td>\n",
              "      <td>0.1098</td>\n",
              "      <td>0.1276</td>\n",
              "      <td>0.0598</td>\n",
              "      <td>0.1264</td>\n",
              "      <td>...</td>\n",
              "      <td>0.0121</td>\n",
              "      <td>0.0036</td>\n",
              "      <td>0.0150</td>\n",
              "      <td>0.0085</td>\n",
              "      <td>0.0073</td>\n",
              "      <td>0.0050</td>\n",
              "      <td>0.0044</td>\n",
              "      <td>0.0040</td>\n",
              "      <td>0.0117</td>\n",
              "      <td>R</td>\n",
              "    </tr>\n",
              "    <tr>\n",
              "      <th>3</th>\n",
              "      <td>0.0762</td>\n",
              "      <td>0.0666</td>\n",
              "      <td>0.0481</td>\n",
              "      <td>0.0394</td>\n",
              "      <td>0.0590</td>\n",
              "      <td>0.0649</td>\n",
              "      <td>0.1209</td>\n",
              "      <td>0.2467</td>\n",
              "      <td>0.3564</td>\n",
              "      <td>0.4459</td>\n",
              "      <td>...</td>\n",
              "      <td>0.0031</td>\n",
              "      <td>0.0054</td>\n",
              "      <td>0.0105</td>\n",
              "      <td>0.0110</td>\n",
              "      <td>0.0015</td>\n",
              "      <td>0.0072</td>\n",
              "      <td>0.0048</td>\n",
              "      <td>0.0107</td>\n",
              "      <td>0.0094</td>\n",
              "      <td>R</td>\n",
              "    </tr>\n",
              "    <tr>\n",
              "      <th>4</th>\n",
              "      <td>0.0286</td>\n",
              "      <td>0.0453</td>\n",
              "      <td>0.0277</td>\n",
              "      <td>0.0174</td>\n",
              "      <td>0.0384</td>\n",
              "      <td>0.0990</td>\n",
              "      <td>0.1201</td>\n",
              "      <td>0.1833</td>\n",
              "      <td>0.2105</td>\n",
              "      <td>0.3039</td>\n",
              "      <td>...</td>\n",
              "      <td>0.0045</td>\n",
              "      <td>0.0014</td>\n",
              "      <td>0.0038</td>\n",
              "      <td>0.0013</td>\n",
              "      <td>0.0089</td>\n",
              "      <td>0.0057</td>\n",
              "      <td>0.0027</td>\n",
              "      <td>0.0051</td>\n",
              "      <td>0.0062</td>\n",
              "      <td>R</td>\n",
              "    </tr>\n",
              "  </tbody>\n",
              "</table>\n",
              "<p>5 rows × 61 columns</p>\n",
              "</div>\n",
              "    <div class=\"colab-df-buttons\">\n",
              "\n",
              "  <div class=\"colab-df-container\">\n",
              "    <button class=\"colab-df-convert\" onclick=\"convertToInteractive('df-8a637b0c-fefa-4f49-9df1-a2d47cc30b5c')\"\n",
              "            title=\"Convert this dataframe to an interactive table.\"\n",
              "            style=\"display:none;\">\n",
              "\n",
              "  <svg xmlns=\"http://www.w3.org/2000/svg\" height=\"24px\" viewBox=\"0 -960 960 960\">\n",
              "    <path d=\"M120-120v-720h720v720H120Zm60-500h600v-160H180v160Zm220 220h160v-160H400v160Zm0 220h160v-160H400v160ZM180-400h160v-160H180v160Zm440 0h160v-160H620v160ZM180-180h160v-160H180v160Zm440 0h160v-160H620v160Z\"/>\n",
              "  </svg>\n",
              "    </button>\n",
              "\n",
              "  <style>\n",
              "    .colab-df-container {\n",
              "      display:flex;\n",
              "      gap: 12px;\n",
              "    }\n",
              "\n",
              "    .colab-df-convert {\n",
              "      background-color: #E8F0FE;\n",
              "      border: none;\n",
              "      border-radius: 50%;\n",
              "      cursor: pointer;\n",
              "      display: none;\n",
              "      fill: #1967D2;\n",
              "      height: 32px;\n",
              "      padding: 0 0 0 0;\n",
              "      width: 32px;\n",
              "    }\n",
              "\n",
              "    .colab-df-convert:hover {\n",
              "      background-color: #E2EBFA;\n",
              "      box-shadow: 0px 1px 2px rgba(60, 64, 67, 0.3), 0px 1px 3px 1px rgba(60, 64, 67, 0.15);\n",
              "      fill: #174EA6;\n",
              "    }\n",
              "\n",
              "    .colab-df-buttons div {\n",
              "      margin-bottom: 4px;\n",
              "    }\n",
              "\n",
              "    [theme=dark] .colab-df-convert {\n",
              "      background-color: #3B4455;\n",
              "      fill: #D2E3FC;\n",
              "    }\n",
              "\n",
              "    [theme=dark] .colab-df-convert:hover {\n",
              "      background-color: #434B5C;\n",
              "      box-shadow: 0px 1px 3px 1px rgba(0, 0, 0, 0.15);\n",
              "      filter: drop-shadow(0px 1px 2px rgba(0, 0, 0, 0.3));\n",
              "      fill: #FFFFFF;\n",
              "    }\n",
              "  </style>\n",
              "\n",
              "    <script>\n",
              "      const buttonEl =\n",
              "        document.querySelector('#df-8a637b0c-fefa-4f49-9df1-a2d47cc30b5c button.colab-df-convert');\n",
              "      buttonEl.style.display =\n",
              "        google.colab.kernel.accessAllowed ? 'block' : 'none';\n",
              "\n",
              "      async function convertToInteractive(key) {\n",
              "        const element = document.querySelector('#df-8a637b0c-fefa-4f49-9df1-a2d47cc30b5c');\n",
              "        const dataTable =\n",
              "          await google.colab.kernel.invokeFunction('convertToInteractive',\n",
              "                                                    [key], {});\n",
              "        if (!dataTable) return;\n",
              "\n",
              "        const docLinkHtml = 'Like what you see? Visit the ' +\n",
              "          '<a target=\"_blank\" href=https://colab.research.google.com/notebooks/data_table.ipynb>data table notebook</a>'\n",
              "          + ' to learn more about interactive tables.';\n",
              "        element.innerHTML = '';\n",
              "        dataTable['output_type'] = 'display_data';\n",
              "        await google.colab.output.renderOutput(dataTable, element);\n",
              "        const docLink = document.createElement('div');\n",
              "        docLink.innerHTML = docLinkHtml;\n",
              "        element.appendChild(docLink);\n",
              "      }\n",
              "    </script>\n",
              "  </div>\n",
              "\n",
              "\n",
              "<div id=\"df-ec68d470-1352-4be0-8018-30e43156bdbf\">\n",
              "  <button class=\"colab-df-quickchart\" onclick=\"quickchart('df-ec68d470-1352-4be0-8018-30e43156bdbf')\"\n",
              "            title=\"Suggest charts\"\n",
              "            style=\"display:none;\">\n",
              "\n",
              "<svg xmlns=\"http://www.w3.org/2000/svg\" height=\"24px\"viewBox=\"0 0 24 24\"\n",
              "     width=\"24px\">\n",
              "    <g>\n",
              "        <path d=\"M19 3H5c-1.1 0-2 .9-2 2v14c0 1.1.9 2 2 2h14c1.1 0 2-.9 2-2V5c0-1.1-.9-2-2-2zM9 17H7v-7h2v7zm4 0h-2V7h2v10zm4 0h-2v-4h2v4z\"/>\n",
              "    </g>\n",
              "</svg>\n",
              "  </button>\n",
              "\n",
              "<style>\n",
              "  .colab-df-quickchart {\n",
              "      --bg-color: #E8F0FE;\n",
              "      --fill-color: #1967D2;\n",
              "      --hover-bg-color: #E2EBFA;\n",
              "      --hover-fill-color: #174EA6;\n",
              "      --disabled-fill-color: #AAA;\n",
              "      --disabled-bg-color: #DDD;\n",
              "  }\n",
              "\n",
              "  [theme=dark] .colab-df-quickchart {\n",
              "      --bg-color: #3B4455;\n",
              "      --fill-color: #D2E3FC;\n",
              "      --hover-bg-color: #434B5C;\n",
              "      --hover-fill-color: #FFFFFF;\n",
              "      --disabled-bg-color: #3B4455;\n",
              "      --disabled-fill-color: #666;\n",
              "  }\n",
              "\n",
              "  .colab-df-quickchart {\n",
              "    background-color: var(--bg-color);\n",
              "    border: none;\n",
              "    border-radius: 50%;\n",
              "    cursor: pointer;\n",
              "    display: none;\n",
              "    fill: var(--fill-color);\n",
              "    height: 32px;\n",
              "    padding: 0;\n",
              "    width: 32px;\n",
              "  }\n",
              "\n",
              "  .colab-df-quickchart:hover {\n",
              "    background-color: var(--hover-bg-color);\n",
              "    box-shadow: 0 1px 2px rgba(60, 64, 67, 0.3), 0 1px 3px 1px rgba(60, 64, 67, 0.15);\n",
              "    fill: var(--button-hover-fill-color);\n",
              "  }\n",
              "\n",
              "  .colab-df-quickchart-complete:disabled,\n",
              "  .colab-df-quickchart-complete:disabled:hover {\n",
              "    background-color: var(--disabled-bg-color);\n",
              "    fill: var(--disabled-fill-color);\n",
              "    box-shadow: none;\n",
              "  }\n",
              "\n",
              "  .colab-df-spinner {\n",
              "    border: 2px solid var(--fill-color);\n",
              "    border-color: transparent;\n",
              "    border-bottom-color: var(--fill-color);\n",
              "    animation:\n",
              "      spin 1s steps(1) infinite;\n",
              "  }\n",
              "\n",
              "  @keyframes spin {\n",
              "    0% {\n",
              "      border-color: transparent;\n",
              "      border-bottom-color: var(--fill-color);\n",
              "      border-left-color: var(--fill-color);\n",
              "    }\n",
              "    20% {\n",
              "      border-color: transparent;\n",
              "      border-left-color: var(--fill-color);\n",
              "      border-top-color: var(--fill-color);\n",
              "    }\n",
              "    30% {\n",
              "      border-color: transparent;\n",
              "      border-left-color: var(--fill-color);\n",
              "      border-top-color: var(--fill-color);\n",
              "      border-right-color: var(--fill-color);\n",
              "    }\n",
              "    40% {\n",
              "      border-color: transparent;\n",
              "      border-right-color: var(--fill-color);\n",
              "      border-top-color: var(--fill-color);\n",
              "    }\n",
              "    60% {\n",
              "      border-color: transparent;\n",
              "      border-right-color: var(--fill-color);\n",
              "    }\n",
              "    80% {\n",
              "      border-color: transparent;\n",
              "      border-right-color: var(--fill-color);\n",
              "      border-bottom-color: var(--fill-color);\n",
              "    }\n",
              "    90% {\n",
              "      border-color: transparent;\n",
              "      border-bottom-color: var(--fill-color);\n",
              "    }\n",
              "  }\n",
              "</style>\n",
              "\n",
              "  <script>\n",
              "    async function quickchart(key) {\n",
              "      const quickchartButtonEl =\n",
              "        document.querySelector('#' + key + ' button');\n",
              "      quickchartButtonEl.disabled = true;  // To prevent multiple clicks.\n",
              "      quickchartButtonEl.classList.add('colab-df-spinner');\n",
              "      try {\n",
              "        const charts = await google.colab.kernel.invokeFunction(\n",
              "            'suggestCharts', [key], {});\n",
              "      } catch (error) {\n",
              "        console.error('Error during call to suggestCharts:', error);\n",
              "      }\n",
              "      quickchartButtonEl.classList.remove('colab-df-spinner');\n",
              "      quickchartButtonEl.classList.add('colab-df-quickchart-complete');\n",
              "    }\n",
              "    (() => {\n",
              "      let quickchartButtonEl =\n",
              "        document.querySelector('#df-ec68d470-1352-4be0-8018-30e43156bdbf button');\n",
              "      quickchartButtonEl.style.display =\n",
              "        google.colab.kernel.accessAllowed ? 'block' : 'none';\n",
              "    })();\n",
              "  </script>\n",
              "</div>\n",
              "    </div>\n",
              "  </div>\n"
            ],
            "text/plain": [
              "   0.0200  0.0371  0.0428  0.0207  0.0954  0.0986  0.1539  0.1601  0.3109  \\\n",
              "0  0.0453  0.0523  0.0843  0.0689  0.1183  0.2583  0.2156  0.3481  0.3337   \n",
              "1  0.0262  0.0582  0.1099  0.1083  0.0974  0.2280  0.2431  0.3771  0.5598   \n",
              "2  0.0100  0.0171  0.0623  0.0205  0.0205  0.0368  0.1098  0.1276  0.0598   \n",
              "3  0.0762  0.0666  0.0481  0.0394  0.0590  0.0649  0.1209  0.2467  0.3564   \n",
              "4  0.0286  0.0453  0.0277  0.0174  0.0384  0.0990  0.1201  0.1833  0.2105   \n",
              "\n",
              "   0.2111  ...  0.0027  0.0065  0.0159  0.0072  0.0167  0.0180  0.0084  \\\n",
              "0  0.2872  ...  0.0084  0.0089  0.0048  0.0094  0.0191  0.0140  0.0049   \n",
              "1  0.6194  ...  0.0232  0.0166  0.0095  0.0180  0.0244  0.0316  0.0164   \n",
              "2  0.1264  ...  0.0121  0.0036  0.0150  0.0085  0.0073  0.0050  0.0044   \n",
              "3  0.4459  ...  0.0031  0.0054  0.0105  0.0110  0.0015  0.0072  0.0048   \n",
              "4  0.3039  ...  0.0045  0.0014  0.0038  0.0013  0.0089  0.0057  0.0027   \n",
              "\n",
              "   0.0090  0.0032  R  \n",
              "0  0.0052  0.0044  R  \n",
              "1  0.0095  0.0078  R  \n",
              "2  0.0040  0.0117  R  \n",
              "3  0.0107  0.0094  R  \n",
              "4  0.0051  0.0062  R  \n",
              "\n",
              "[5 rows x 61 columns]"
            ]
          },
          "execution_count": 10,
          "metadata": {},
          "output_type": "execute_result"
        }
      ],
      "source": [
        "# Show first 5 rows\n",
        "dataset.head()"
      ]
    },
    {
      "cell_type": "code",
      "execution_count": 11,
      "metadata": {
        "id": "oM7tdKACewcc"
      },
      "outputs": [],
      "source": [
        "# Convert pandas Dataframe to Numpy Array\n",
        "dataset_numpy = dataset.values"
      ]
    },
    {
      "cell_type": "code",
      "execution_count": 12,
      "metadata": {
        "colab": {
          "base_uri": "https://localhost:8080/"
        },
        "id": "QB7EBU14ewao",
        "outputId": "11a200bb-9b1f-4f42-d82f-c03956c28f2c"
      },
      "outputs": [
        {
          "name": "stdout",
          "output_type": "stream",
          "text": [
            "<class 'pandas.core.frame.DataFrame'>\n",
            "<class 'numpy.dtypes.ObjectDType'>\n"
          ]
        }
      ],
      "source": [
        "# Show data type before and after conversion\n",
        "print(type(dataset))\n",
        "print(type(dataset_numpy.dtype))"
      ]
    },
    {
      "cell_type": "code",
      "execution_count": 13,
      "metadata": {
        "id": "ZcRCS1F4ewYS"
      },
      "outputs": [],
      "source": [
        "# Separate input variables from output label\n",
        "X = dataset_numpy[:, :60]\n",
        "y = dataset_numpy[:, 60:61]"
      ]
    },
    {
      "cell_type": "code",
      "execution_count": 14,
      "metadata": {
        "colab": {
          "base_uri": "https://localhost:8080/"
        },
        "id": "RH1TCsk5ewWd",
        "outputId": "8fd9a7d5-50fe-480b-e133-c9ffd9f01a14"
      },
      "outputs": [
        {
          "name": "stdout",
          "output_type": "stream",
          "text": [
            "Shape of training data:  (207, 60)\n",
            "Shape of training labels:  (207, 1)\n"
          ]
        }
      ],
      "source": [
        "# Show shape of training data and labels\n",
        "print(\"Shape of training data: \", X.shape)\n",
        "print(\"Shape of training labels: \", y.shape)"
      ]
    },
    {
      "cell_type": "code",
      "execution_count": 15,
      "metadata": {
        "colab": {
          "base_uri": "https://localhost:8080/"
        },
        "id": "5IU8ySoXewUH",
        "outputId": "ae54f5c2-9d9f-436b-bc68-2a627c54bde7"
      },
      "outputs": [
        {
          "data": {
            "text/plain": [
              "array(['M', 'R'], dtype=object)"
            ]
          },
          "execution_count": 15,
          "metadata": {},
          "output_type": "execute_result"
        }
      ],
      "source": [
        "# Show different classes to predict\n",
        "np.unique(y)"
      ]
    },
    {
      "cell_type": "code",
      "execution_count": 16,
      "metadata": {
        "id": "hx42THcxewSC"
      },
      "outputs": [],
      "source": [
        "# Normalizing the data to improve stability while training\n",
        "sc = StandardScaler()\n",
        "sc.fit(X)\n",
        "X_norm = sc.transform(X)"
      ]
    },
    {
      "cell_type": "code",
      "execution_count": 17,
      "metadata": {
        "colab": {
          "base_uri": "https://localhost:8080/"
        },
        "id": "F6LzejSLewPr",
        "outputId": "44551d6e-1e46-4504-9efe-6671dbc47eaf"
      },
      "outputs": [
        {
          "name": "stdout",
          "output_type": "stream",
          "text": [
            "Mean per variable: \n",
            " [0.02920821 0.038443   0.0438372  0.05405266 0.07510483 0.10459903\n",
            " 0.1215913  0.13467681 0.17736087 0.20824541 0.23637585 0.2506657\n",
            " 0.27354444 0.29768937 0.32142947 0.37921691 0.41649517 0.45305459\n",
            " 0.5047971  0.56344928 0.6092087  0.62484106 0.64800966 0.67322271\n",
            " 0.67544444 0.70014831 0.70211498 0.69347343 0.64189517 0.58187101\n",
            " 0.50628116 0.43990338 0.41676135 0.40153527 0.39034348 0.3825971\n",
            " 0.3623314  0.33835266 0.32498551 0.31138454 0.2904029  0.2782686\n",
            " 0.24636812 0.21305314 0.19690918 0.16073768 0.12253671 0.09121691\n",
            " 0.05199469 0.02036618 0.0160343  0.01347198 0.01072947 0.01091691\n",
            " 0.00930048 0.00818068 0.00777101 0.00794686 0.00793623 0.00652319]\n",
            "Standard Deviation per variable: \n",
            " [0.02298205 0.0329598  0.03842804 0.04647046 0.05553434 0.05910397\n",
            " 0.06174727 0.08513394 0.11802454 0.13441558 0.13260138 0.13992518\n",
            " 0.14091989 0.16367774 0.20466191 0.23241141 0.26357367 0.26131364\n",
            " 0.25798827 0.2625886  0.25780923 0.25575285 0.24972998 0.23897566\n",
            " 0.24492625 0.23719287 0.24565629 0.23705607 0.24023592 0.22032993\n",
            " 0.21240194 0.21287336 0.20640707 0.22994134 0.25713284 0.2621191\n",
            " 0.238967   0.21214061 0.19872812 0.17864313 0.17030403 0.16872791\n",
            " 0.1389708  0.13247371 0.15155688 0.13392912 0.08694432 0.06234519\n",
            " 0.03594143 0.01363951 0.01199821 0.00960499 0.00705424 0.00729262\n",
            " 0.00708613 0.00570561 0.00574186 0.00646976 0.00618094 0.00502576]\n"
          ]
        }
      ],
      "source": [
        "# Show mean and Standard Deviation learnt from training data\n",
        "print(\"Mean per variable: \\n\", sc.mean_)\n",
        "print(\"Standard Deviation per variable: \\n\", sc.scale_)"
      ]
    },
    {
      "cell_type": "code",
      "execution_count": 18,
      "metadata": {
        "colab": {
          "base_uri": "https://localhost:8080/"
        },
        "id": "7gvCYYxUewNE",
        "outputId": "8373488f-8b62-4523-afd5-7659730c76ae"
      },
      "outputs": [
        {
          "name": "stdout",
          "output_type": "stream",
          "text": [
            "Before normalization: \n",
            " [0.0262 0.0582 0.1099 0.1083 0.0974 0.228 0.2431 0.3771 0.5598 0.6194\n",
            " 0.6333 0.706 0.5544 0.532 0.6479 0.6931 0.6759 0.7551 0.8929 0.8619\n",
            " 0.7974 0.6737 0.4293 0.3648 0.5331 0.2413 0.507 0.8533 0.6036 0.8514\n",
            " 0.8512 0.5045 0.1862 0.2709 0.4232 0.3043 0.6116 0.6756 0.5375 0.4719\n",
            " 0.4647 0.2587 0.2129 0.2222 0.2111 0.0176 0.1348 0.0744 0.013 0.0106\n",
            " 0.0033 0.0232 0.0166 0.0095 0.018 0.0244 0.0316 0.0164 0.0095 0.0078]\n",
            "After normalization: \n",
            " [-0.13089402  0.59942737  1.71912994  1.16735119  0.40146635  2.0878624\n",
            "  1.96783928  2.84755057  3.24033559  3.0588314   2.99336374  3.25412687\n",
            "  1.99301568  1.43153632  1.59516994  1.35054941  0.98418341  1.15587309\n",
            "  1.50434322  1.13657152  0.7299634   0.19103966 -0.87578456 -1.29060301\n",
            " -0.58117267 -1.9344945  -0.79426005  0.67421422 -0.15940651  1.22329719\n",
            "  1.62389684  0.30345092 -1.11702254 -0.56812432  0.12778034 -0.29870811\n",
            "  1.04310888  1.58973492  1.06937304  0.8985258   1.02344674 -0.11597725\n",
            " -0.2408284   0.06904661  0.09363364 -1.06875696  0.14104757 -0.26973868\n",
            " -1.08495091 -0.71602137 -1.06134961  1.01280889  0.83219843 -0.19429332\n",
            "  1.22768181  2.84269594  4.1500488   1.30656071  0.25299833  0.25405324]\n"
          ]
        }
      ],
      "source": [
        "# Show data before and after normalization\n",
        "print(\"Before normalization: \\n\", X[1, :])\n",
        "print(\"After normalization: \\n\", X_norm[1, :])"
      ]
    },
    {
      "cell_type": "code",
      "execution_count": 19,
      "metadata": {
        "id": "PXd5UjyEjPD4"
      },
      "outputs": [],
      "source": [
        "# One-hot encoding of labels\n",
        "onehot_enc = OneHotEncoder()\n",
        "y_onehot = onehot_enc.fit_transform(y).toarray()"
      ]
    },
    {
      "cell_type": "code",
      "execution_count": 20,
      "metadata": {
        "colab": {
          "base_uri": "https://localhost:8080/"
        },
        "id": "qv2Bi4M9jPBz",
        "outputId": "4f8174c4-89c1-45b0-cee3-fd4a90cdf30a"
      },
      "outputs": [
        {
          "name": "stdout",
          "output_type": "stream",
          "text": [
            "Before onet-hot encodeing: \n",
            " ['R']\n",
            "After onet-hot encodeing: \n",
            " [0. 1.]\n"
          ]
        }
      ],
      "source": [
        "# Show labels before and after one-hot encoding\n",
        "print(\"Before onet-hot encodeing: \\n\", y[0])\n",
        "print(\"After onet-hot encodeing: \\n\", y_onehot[0])"
      ]
    },
    {
      "cell_type": "code",
      "execution_count": 21,
      "metadata": {
        "id": "EmIFj7UmjO_t"
      },
      "outputs": [],
      "source": [
        "# Split data in training and validation partitions\n",
        "X_train, X_val, y_train, y_val = train_test_split(X_norm, y_onehot,\n",
        "                                                  test_size=0.1)"
      ]
    },
    {
      "cell_type": "code",
      "execution_count": 22,
      "metadata": {
        "colab": {
          "base_uri": "https://localhost:8080/"
        },
        "id": "9-SzWx-CjO9p",
        "outputId": "5778912e-453d-4284-f70c-277dfcc8f71b"
      },
      "outputs": [
        {
          "name": "stdout",
          "output_type": "stream",
          "text": [
            "Size of training data:  (186, 60)\n",
            "Size of training labels:  (186, 2)\n",
            "Size of validation data:  (21, 60)\n",
            "Size of validation labels:  (21, 2)\n"
          ]
        }
      ],
      "source": [
        "# Show sizes of partitions\n",
        "print(\"Size of training data: \", X_train.shape)\n",
        "print(\"Size of training labels: \", y_train.shape)\n",
        "print(\"Size of validation data: \", X_val.shape)\n",
        "print(\"Size of validation labels: \", y_val.shape)"
      ]
    },
    {
      "cell_type": "markdown",
      "metadata": {
        "id": "MEpRF46sjpls"
      },
      "source": [
        "Define a Fully Connected Neural Network"
      ]
    },
    {
      "cell_type": "code",
      "execution_count": 23,
      "metadata": {
        "id": "c7g-3WGtjO70"
      },
      "outputs": [],
      "source": [
        "# Design simple neural network architecture\n",
        "model = Sequential()\n",
        "model.add(Dense(25, input_dim=60, activation='relu'))\n",
        "model.add(Dense(4, activation='relu'))\n",
        "model.add(Dense(2, activation='softmax'))"
      ]
    },
    {
      "cell_type": "code",
      "execution_count": 24,
      "metadata": {
        "colab": {
          "base_uri": "https://localhost:8080/"
        },
        "id": "L452u-AbjO5c",
        "outputId": "a69679ef-77b8-4ecb-a18d-1d31f06bd85e"
      },
      "outputs": [
        {
          "name": "stdout",
          "output_type": "stream",
          "text": [
            "Model: \"sequential\"\n",
            "_________________________________________________________________\n",
            " Layer (type)                Output Shape              Param #   \n",
            "=================================================================\n",
            " dense (Dense)               (None, 25)                1525      \n",
            "                                                                 \n",
            " dense_1 (Dense)             (None, 4)                 104       \n",
            "                                                                 \n",
            " dense_2 (Dense)             (None, 2)                 10        \n",
            "                                                                 \n",
            "=================================================================\n",
            "Total params: 1639 (6.40 KB)\n",
            "Trainable params: 1639 (6.40 KB)\n",
            "Non-trainable params: 0 (0.00 Byte)\n",
            "_________________________________________________________________\n"
          ]
        }
      ],
      "source": [
        "# Show model information\n",
        "model.summary()"
      ]
    },
    {
      "cell_type": "markdown",
      "metadata": {
        "id": "599X_GtpkP5N"
      },
      "source": [
        "Choose loss function and optimizer"
      ]
    },
    {
      "cell_type": "code",
      "execution_count": 25,
      "metadata": {
        "id": "2skP7QJXjO25"
      },
      "outputs": [],
      "source": [
        "# Choose loss function, optimizer and training metrics\n",
        "model.compile(loss='categorical_crossentropy', optimizer='adam',\n",
        "              metrics=['accuracy'])"
      ]
    },
    {
      "cell_type": "markdown",
      "metadata": {
        "id": "rZutTT50kaFB"
      },
      "source": [
        "Train the network"
      ]
    },
    {
      "cell_type": "code",
      "execution_count": 26,
      "metadata": {
        "colab": {
          "base_uri": "https://localhost:8080/"
        },
        "id": "rrrjhcSwewJ9",
        "outputId": "43859d2d-5605-43dd-a43e-a458e3000705"
      },
      "outputs": [
        {
          "name": "stdout",
          "output_type": "stream",
          "text": [
            "Epoch 1/200\n",
            "3/3 [==============================] - 3s 365ms/step - loss: 0.8467 - accuracy: 0.4516 - val_loss: 0.7317 - val_accuracy: 0.4762\n",
            "Epoch 2/200\n",
            "3/3 [==============================] - 0s 69ms/step - loss: 0.7982 - accuracy: 0.5054 - val_loss: 0.7022 - val_accuracy: 0.5238\n",
            "Epoch 3/200\n",
            "3/3 [==============================] - 0s 65ms/step - loss: 0.7628 - accuracy: 0.5376 - val_loss: 0.6785 - val_accuracy: 0.6190\n",
            "Epoch 4/200\n",
            "3/3 [==============================] - 0s 58ms/step - loss: 0.7355 - accuracy: 0.5484 - val_loss: 0.6587 - val_accuracy: 0.6190\n",
            "Epoch 5/200\n",
            "3/3 [==============================] - 0s 54ms/step - loss: 0.7111 - accuracy: 0.5860 - val_loss: 0.6404 - val_accuracy: 0.6667\n",
            "Epoch 6/200\n",
            "3/3 [==============================] - 0s 53ms/step - loss: 0.6903 - accuracy: 0.6290 - val_loss: 0.6242 - val_accuracy: 0.7143\n",
            "Epoch 7/200\n",
            "3/3 [==============================] - 0s 64ms/step - loss: 0.6711 - accuracy: 0.6613 - val_loss: 0.6105 - val_accuracy: 0.7143\n",
            "Epoch 8/200\n",
            "3/3 [==============================] - 0s 55ms/step - loss: 0.6533 - accuracy: 0.6720 - val_loss: 0.5969 - val_accuracy: 0.7143\n",
            "Epoch 9/200\n",
            "3/3 [==============================] - 0s 76ms/step - loss: 0.6362 - accuracy: 0.6882 - val_loss: 0.5853 - val_accuracy: 0.7619\n",
            "Epoch 10/200\n",
            "3/3 [==============================] - 0s 101ms/step - loss: 0.6225 - accuracy: 0.6882 - val_loss: 0.5722 - val_accuracy: 0.7619\n",
            "Epoch 11/200\n",
            "3/3 [==============================] - 0s 55ms/step - loss: 0.6082 - accuracy: 0.7043 - val_loss: 0.5611 - val_accuracy: 0.8095\n",
            "Epoch 12/200\n",
            "3/3 [==============================] - 0s 73ms/step - loss: 0.5946 - accuracy: 0.7043 - val_loss: 0.5500 - val_accuracy: 0.8095\n",
            "Epoch 13/200\n",
            "3/3 [==============================] - 0s 73ms/step - loss: 0.5810 - accuracy: 0.7258 - val_loss: 0.5387 - val_accuracy: 0.8095\n",
            "Epoch 14/200\n",
            "3/3 [==============================] - 0s 36ms/step - loss: 0.5671 - accuracy: 0.7258 - val_loss: 0.5265 - val_accuracy: 0.8095\n",
            "Epoch 15/200\n",
            "3/3 [==============================] - 0s 50ms/step - loss: 0.5535 - accuracy: 0.7419 - val_loss: 0.5131 - val_accuracy: 0.8095\n",
            "Epoch 16/200\n",
            "3/3 [==============================] - 0s 40ms/step - loss: 0.5381 - accuracy: 0.7473 - val_loss: 0.5013 - val_accuracy: 0.8095\n",
            "Epoch 17/200\n",
            "3/3 [==============================] - 0s 26ms/step - loss: 0.5233 - accuracy: 0.7473 - val_loss: 0.4893 - val_accuracy: 0.8571\n",
            "Epoch 18/200\n",
            "3/3 [==============================] - 0s 33ms/step - loss: 0.5080 - accuracy: 0.7688 - val_loss: 0.4768 - val_accuracy: 0.9048\n",
            "Epoch 19/200\n",
            "3/3 [==============================] - 0s 43ms/step - loss: 0.4926 - accuracy: 0.7903 - val_loss: 0.4651 - val_accuracy: 0.9048\n",
            "Epoch 20/200\n",
            "3/3 [==============================] - 0s 77ms/step - loss: 0.4779 - accuracy: 0.7957 - val_loss: 0.4537 - val_accuracy: 0.9048\n",
            "Epoch 21/200\n",
            "3/3 [==============================] - 0s 48ms/step - loss: 0.4641 - accuracy: 0.7957 - val_loss: 0.4434 - val_accuracy: 0.9048\n",
            "Epoch 22/200\n",
            "3/3 [==============================] - 0s 26ms/step - loss: 0.4502 - accuracy: 0.8011 - val_loss: 0.4329 - val_accuracy: 0.9524\n",
            "Epoch 23/200\n",
            "3/3 [==============================] - 0s 33ms/step - loss: 0.4372 - accuracy: 0.8065 - val_loss: 0.4236 - val_accuracy: 0.9524\n",
            "Epoch 24/200\n",
            "3/3 [==============================] - 0s 35ms/step - loss: 0.4237 - accuracy: 0.8280 - val_loss: 0.4158 - val_accuracy: 0.9524\n",
            "Epoch 25/200\n",
            "3/3 [==============================] - 0s 44ms/step - loss: 0.4122 - accuracy: 0.8280 - val_loss: 0.4090 - val_accuracy: 0.9524\n",
            "Epoch 26/200\n",
            "3/3 [==============================] - 0s 34ms/step - loss: 0.4003 - accuracy: 0.8387 - val_loss: 0.4014 - val_accuracy: 0.9524\n",
            "Epoch 27/200\n",
            "3/3 [==============================] - 0s 54ms/step - loss: 0.3893 - accuracy: 0.8548 - val_loss: 0.3941 - val_accuracy: 0.9524\n",
            "Epoch 28/200\n",
            "3/3 [==============================] - 0s 56ms/step - loss: 0.3786 - accuracy: 0.8548 - val_loss: 0.3880 - val_accuracy: 0.9524\n",
            "Epoch 29/200\n",
            "3/3 [==============================] - 0s 72ms/step - loss: 0.3676 - accuracy: 0.8656 - val_loss: 0.3806 - val_accuracy: 0.9524\n",
            "Epoch 30/200\n",
            "3/3 [==============================] - 0s 40ms/step - loss: 0.3574 - accuracy: 0.8763 - val_loss: 0.3755 - val_accuracy: 0.9524\n",
            "Epoch 31/200\n",
            "3/3 [==============================] - 0s 46ms/step - loss: 0.3466 - accuracy: 0.8871 - val_loss: 0.3694 - val_accuracy: 0.9524\n",
            "Epoch 32/200\n",
            "3/3 [==============================] - 0s 54ms/step - loss: 0.3365 - accuracy: 0.8925 - val_loss: 0.3639 - val_accuracy: 0.9524\n",
            "Epoch 33/200\n",
            "3/3 [==============================] - 0s 53ms/step - loss: 0.3264 - accuracy: 0.9032 - val_loss: 0.3585 - val_accuracy: 0.9524\n",
            "Epoch 34/200\n",
            "3/3 [==============================] - 0s 44ms/step - loss: 0.3164 - accuracy: 0.9086 - val_loss: 0.3533 - val_accuracy: 0.9048\n",
            "Epoch 35/200\n",
            "3/3 [==============================] - 0s 37ms/step - loss: 0.3069 - accuracy: 0.9140 - val_loss: 0.3479 - val_accuracy: 0.9048\n",
            "Epoch 36/200\n",
            "3/3 [==============================] - 0s 36ms/step - loss: 0.2976 - accuracy: 0.9140 - val_loss: 0.3424 - val_accuracy: 0.9048\n",
            "Epoch 37/200\n",
            "3/3 [==============================] - 0s 82ms/step - loss: 0.2893 - accuracy: 0.9140 - val_loss: 0.3384 - val_accuracy: 0.9048\n",
            "Epoch 38/200\n",
            "3/3 [==============================] - 0s 63ms/step - loss: 0.2807 - accuracy: 0.9140 - val_loss: 0.3349 - val_accuracy: 0.9048\n",
            "Epoch 39/200\n",
            "3/3 [==============================] - 0s 73ms/step - loss: 0.2731 - accuracy: 0.9140 - val_loss: 0.3312 - val_accuracy: 0.9048\n",
            "Epoch 40/200\n",
            "3/3 [==============================] - 0s 33ms/step - loss: 0.2659 - accuracy: 0.9140 - val_loss: 0.3272 - val_accuracy: 0.9048\n",
            "Epoch 41/200\n",
            "3/3 [==============================] - 0s 32ms/step - loss: 0.2589 - accuracy: 0.9140 - val_loss: 0.3257 - val_accuracy: 0.9048\n",
            "Epoch 42/200\n",
            "3/3 [==============================] - 0s 35ms/step - loss: 0.2515 - accuracy: 0.9194 - val_loss: 0.3237 - val_accuracy: 0.9048\n",
            "Epoch 43/200\n",
            "3/3 [==============================] - 0s 74ms/step - loss: 0.2453 - accuracy: 0.9194 - val_loss: 0.3219 - val_accuracy: 0.9048\n",
            "Epoch 44/200\n",
            "3/3 [==============================] - 0s 34ms/step - loss: 0.2390 - accuracy: 0.9194 - val_loss: 0.3205 - val_accuracy: 0.9048\n",
            "Epoch 45/200\n",
            "3/3 [==============================] - 0s 50ms/step - loss: 0.2327 - accuracy: 0.9247 - val_loss: 0.3190 - val_accuracy: 0.9048\n",
            "Epoch 46/200\n",
            "3/3 [==============================] - 0s 26ms/step - loss: 0.2263 - accuracy: 0.9247 - val_loss: 0.3183 - val_accuracy: 0.9048\n",
            "Epoch 47/200\n",
            "3/3 [==============================] - 0s 33ms/step - loss: 0.2209 - accuracy: 0.9247 - val_loss: 0.3169 - val_accuracy: 0.9048\n",
            "Epoch 48/200\n",
            "3/3 [==============================] - 0s 34ms/step - loss: 0.2156 - accuracy: 0.9301 - val_loss: 0.3157 - val_accuracy: 0.9048\n",
            "Epoch 49/200\n",
            "3/3 [==============================] - 0s 35ms/step - loss: 0.2103 - accuracy: 0.9355 - val_loss: 0.3141 - val_accuracy: 0.9048\n",
            "Epoch 50/200\n",
            "3/3 [==============================] - 0s 38ms/step - loss: 0.2052 - accuracy: 0.9355 - val_loss: 0.3129 - val_accuracy: 0.9048\n",
            "Epoch 51/200\n",
            "3/3 [==============================] - 0s 58ms/step - loss: 0.1997 - accuracy: 0.9355 - val_loss: 0.3119 - val_accuracy: 0.9048\n",
            "Epoch 52/200\n",
            "3/3 [==============================] - 0s 81ms/step - loss: 0.1945 - accuracy: 0.9355 - val_loss: 0.3110 - val_accuracy: 0.9048\n",
            "Epoch 53/200\n",
            "3/3 [==============================] - 0s 57ms/step - loss: 0.1896 - accuracy: 0.9355 - val_loss: 0.3115 - val_accuracy: 0.9048\n",
            "Epoch 54/200\n",
            "3/3 [==============================] - 0s 103ms/step - loss: 0.1850 - accuracy: 0.9462 - val_loss: 0.3114 - val_accuracy: 0.9048\n",
            "Epoch 55/200\n",
            "3/3 [==============================] - 0s 34ms/step - loss: 0.1806 - accuracy: 0.9516 - val_loss: 0.3104 - val_accuracy: 0.9048\n",
            "Epoch 56/200\n",
            "3/3 [==============================] - 0s 40ms/step - loss: 0.1758 - accuracy: 0.9409 - val_loss: 0.3106 - val_accuracy: 0.9048\n",
            "Epoch 57/200\n",
            "3/3 [==============================] - 0s 63ms/step - loss: 0.1715 - accuracy: 0.9409 - val_loss: 0.3111 - val_accuracy: 0.9048\n",
            "Epoch 58/200\n",
            "3/3 [==============================] - 0s 34ms/step - loss: 0.1672 - accuracy: 0.9462 - val_loss: 0.3137 - val_accuracy: 0.9048\n",
            "Epoch 59/200\n",
            "3/3 [==============================] - 0s 60ms/step - loss: 0.1630 - accuracy: 0.9516 - val_loss: 0.3148 - val_accuracy: 0.9048\n",
            "Epoch 60/200\n",
            "3/3 [==============================] - 0s 34ms/step - loss: 0.1590 - accuracy: 0.9462 - val_loss: 0.3149 - val_accuracy: 0.9048\n",
            "Epoch 61/200\n",
            "3/3 [==============================] - 0s 34ms/step - loss: 0.1551 - accuracy: 0.9516 - val_loss: 0.3166 - val_accuracy: 0.9048\n",
            "Epoch 62/200\n",
            "3/3 [==============================] - 0s 46ms/step - loss: 0.1510 - accuracy: 0.9570 - val_loss: 0.3173 - val_accuracy: 0.9048\n",
            "Epoch 63/200\n",
            "3/3 [==============================] - 0s 80ms/step - loss: 0.1475 - accuracy: 0.9570 - val_loss: 0.3177 - val_accuracy: 0.9048\n",
            "Epoch 64/200\n",
            "3/3 [==============================] - 0s 38ms/step - loss: 0.1441 - accuracy: 0.9570 - val_loss: 0.3174 - val_accuracy: 0.9048\n",
            "Epoch 65/200\n",
            "3/3 [==============================] - 0s 32ms/step - loss: 0.1402 - accuracy: 0.9570 - val_loss: 0.3148 - val_accuracy: 0.9048\n",
            "Epoch 66/200\n",
            "3/3 [==============================] - 0s 38ms/step - loss: 0.1366 - accuracy: 0.9570 - val_loss: 0.3139 - val_accuracy: 0.9048\n",
            "Epoch 67/200\n",
            "3/3 [==============================] - 0s 68ms/step - loss: 0.1330 - accuracy: 0.9624 - val_loss: 0.3149 - val_accuracy: 0.9048\n",
            "Epoch 68/200\n",
            "3/3 [==============================] - 0s 35ms/step - loss: 0.1293 - accuracy: 0.9677 - val_loss: 0.3168 - val_accuracy: 0.9048\n",
            "Epoch 69/200\n",
            "3/3 [==============================] - 0s 43ms/step - loss: 0.1260 - accuracy: 0.9677 - val_loss: 0.3170 - val_accuracy: 0.9048\n",
            "Epoch 70/200\n",
            "3/3 [==============================] - 0s 60ms/step - loss: 0.1224 - accuracy: 0.9677 - val_loss: 0.3175 - val_accuracy: 0.9048\n",
            "Epoch 71/200\n",
            "3/3 [==============================] - 0s 52ms/step - loss: 0.1192 - accuracy: 0.9677 - val_loss: 0.3176 - val_accuracy: 0.9048\n",
            "Epoch 72/200\n",
            "3/3 [==============================] - 0s 44ms/step - loss: 0.1159 - accuracy: 0.9677 - val_loss: 0.3172 - val_accuracy: 0.9048\n",
            "Epoch 73/200\n",
            "3/3 [==============================] - 0s 61ms/step - loss: 0.1122 - accuracy: 0.9731 - val_loss: 0.3186 - val_accuracy: 0.9048\n",
            "Epoch 74/200\n",
            "3/3 [==============================] - 0s 41ms/step - loss: 0.1094 - accuracy: 0.9731 - val_loss: 0.3196 - val_accuracy: 0.9048\n",
            "Epoch 75/200\n",
            "3/3 [==============================] - 0s 50ms/step - loss: 0.1062 - accuracy: 0.9731 - val_loss: 0.3200 - val_accuracy: 0.9048\n",
            "Epoch 76/200\n",
            "3/3 [==============================] - 0s 76ms/step - loss: 0.1031 - accuracy: 0.9785 - val_loss: 0.3215 - val_accuracy: 0.9048\n",
            "Epoch 77/200\n",
            "3/3 [==============================] - 0s 52ms/step - loss: 0.1001 - accuracy: 0.9785 - val_loss: 0.3228 - val_accuracy: 0.9048\n",
            "Epoch 78/200\n",
            "3/3 [==============================] - 0s 50ms/step - loss: 0.0973 - accuracy: 0.9731 - val_loss: 0.3227 - val_accuracy: 0.9048\n",
            "Epoch 79/200\n",
            "3/3 [==============================] - 0s 72ms/step - loss: 0.0940 - accuracy: 0.9839 - val_loss: 0.3245 - val_accuracy: 0.9048\n",
            "Epoch 80/200\n",
            "3/3 [==============================] - 0s 69ms/step - loss: 0.0912 - accuracy: 0.9839 - val_loss: 0.3270 - val_accuracy: 0.9048\n",
            "Epoch 81/200\n",
            "3/3 [==============================] - 0s 73ms/step - loss: 0.0884 - accuracy: 0.9839 - val_loss: 0.3288 - val_accuracy: 0.9048\n",
            "Epoch 82/200\n",
            "3/3 [==============================] - 0s 35ms/step - loss: 0.0857 - accuracy: 0.9839 - val_loss: 0.3326 - val_accuracy: 0.9048\n",
            "Epoch 83/200\n",
            "3/3 [==============================] - 0s 44ms/step - loss: 0.0829 - accuracy: 0.9946 - val_loss: 0.3353 - val_accuracy: 0.9048\n",
            "Epoch 84/200\n",
            "3/3 [==============================] - 0s 37ms/step - loss: 0.0804 - accuracy: 0.9946 - val_loss: 0.3363 - val_accuracy: 0.9048\n",
            "Epoch 85/200\n",
            "3/3 [==============================] - 0s 66ms/step - loss: 0.0780 - accuracy: 0.9946 - val_loss: 0.3387 - val_accuracy: 0.9048\n",
            "Epoch 86/200\n",
            "3/3 [==============================] - 0s 37ms/step - loss: 0.0759 - accuracy: 0.9946 - val_loss: 0.3419 - val_accuracy: 0.9048\n",
            "Epoch 87/200\n",
            "3/3 [==============================] - 0s 67ms/step - loss: 0.0735 - accuracy: 0.9946 - val_loss: 0.3441 - val_accuracy: 0.9048\n",
            "Epoch 88/200\n",
            "3/3 [==============================] - 0s 85ms/step - loss: 0.0715 - accuracy: 0.9946 - val_loss: 0.3477 - val_accuracy: 0.9048\n",
            "Epoch 89/200\n",
            "3/3 [==============================] - 0s 96ms/step - loss: 0.0696 - accuracy: 0.9946 - val_loss: 0.3506 - val_accuracy: 0.9048\n",
            "Epoch 90/200\n",
            "3/3 [==============================] - 0s 51ms/step - loss: 0.0679 - accuracy: 0.9946 - val_loss: 0.3534 - val_accuracy: 0.9048\n",
            "Epoch 91/200\n",
            "3/3 [==============================] - 0s 47ms/step - loss: 0.0661 - accuracy: 0.9946 - val_loss: 0.3551 - val_accuracy: 0.9048\n",
            "Epoch 92/200\n",
            "3/3 [==============================] - 0s 60ms/step - loss: 0.0642 - accuracy: 0.9946 - val_loss: 0.3552 - val_accuracy: 0.9048\n",
            "Epoch 93/200\n",
            "3/3 [==============================] - 0s 49ms/step - loss: 0.0625 - accuracy: 0.9946 - val_loss: 0.3568 - val_accuracy: 0.9048\n",
            "Epoch 94/200\n",
            "3/3 [==============================] - 0s 53ms/step - loss: 0.0607 - accuracy: 0.9946 - val_loss: 0.3597 - val_accuracy: 0.9048\n",
            "Epoch 95/200\n",
            "3/3 [==============================] - 0s 68ms/step - loss: 0.0591 - accuracy: 0.9946 - val_loss: 0.3624 - val_accuracy: 0.9048\n",
            "Epoch 96/200\n",
            "3/3 [==============================] - 0s 89ms/step - loss: 0.0576 - accuracy: 0.9946 - val_loss: 0.3646 - val_accuracy: 0.9048\n",
            "Epoch 97/200\n",
            "3/3 [==============================] - 0s 56ms/step - loss: 0.0559 - accuracy: 0.9946 - val_loss: 0.3672 - val_accuracy: 0.8571\n",
            "Epoch 98/200\n",
            "3/3 [==============================] - 0s 58ms/step - loss: 0.0545 - accuracy: 0.9946 - val_loss: 0.3686 - val_accuracy: 0.8571\n",
            "Epoch 99/200\n",
            "3/3 [==============================] - 0s 54ms/step - loss: 0.0531 - accuracy: 0.9946 - val_loss: 0.3680 - val_accuracy: 0.8571\n",
            "Epoch 100/200\n",
            "3/3 [==============================] - 0s 60ms/step - loss: 0.0518 - accuracy: 0.9946 - val_loss: 0.3696 - val_accuracy: 0.8571\n",
            "Epoch 101/200\n",
            "3/3 [==============================] - 0s 69ms/step - loss: 0.0505 - accuracy: 0.9946 - val_loss: 0.3696 - val_accuracy: 0.8571\n",
            "Epoch 102/200\n",
            "3/3 [==============================] - 0s 65ms/step - loss: 0.0493 - accuracy: 0.9946 - val_loss: 0.3711 - val_accuracy: 0.8571\n",
            "Epoch 103/200\n",
            "3/3 [==============================] - 0s 96ms/step - loss: 0.0480 - accuracy: 0.9946 - val_loss: 0.3737 - val_accuracy: 0.8571\n",
            "Epoch 104/200\n",
            "3/3 [==============================] - 0s 54ms/step - loss: 0.0468 - accuracy: 0.9946 - val_loss: 0.3758 - val_accuracy: 0.8571\n",
            "Epoch 105/200\n",
            "3/3 [==============================] - 0s 66ms/step - loss: 0.0457 - accuracy: 1.0000 - val_loss: 0.3778 - val_accuracy: 0.8571\n",
            "Epoch 106/200\n",
            "3/3 [==============================] - 0s 90ms/step - loss: 0.0446 - accuracy: 1.0000 - val_loss: 0.3818 - val_accuracy: 0.8571\n",
            "Epoch 107/200\n",
            "3/3 [==============================] - 0s 105ms/step - loss: 0.0436 - accuracy: 1.0000 - val_loss: 0.3820 - val_accuracy: 0.8571\n",
            "Epoch 108/200\n",
            "3/3 [==============================] - 0s 62ms/step - loss: 0.0427 - accuracy: 1.0000 - val_loss: 0.3820 - val_accuracy: 0.8571\n",
            "Epoch 109/200\n",
            "3/3 [==============================] - 0s 101ms/step - loss: 0.0418 - accuracy: 1.0000 - val_loss: 0.3809 - val_accuracy: 0.8571\n",
            "Epoch 110/200\n",
            "3/3 [==============================] - 0s 66ms/step - loss: 0.0409 - accuracy: 1.0000 - val_loss: 0.3807 - val_accuracy: 0.8571\n",
            "Epoch 111/200\n",
            "3/3 [==============================] - 0s 54ms/step - loss: 0.0401 - accuracy: 1.0000 - val_loss: 0.3805 - val_accuracy: 0.8571\n",
            "Epoch 112/200\n",
            "3/3 [==============================] - 0s 71ms/step - loss: 0.0393 - accuracy: 1.0000 - val_loss: 0.3824 - val_accuracy: 0.8571\n",
            "Epoch 113/200\n",
            "3/3 [==============================] - 0s 104ms/step - loss: 0.0385 - accuracy: 1.0000 - val_loss: 0.3844 - val_accuracy: 0.8571\n",
            "Epoch 114/200\n",
            "3/3 [==============================] - 0s 76ms/step - loss: 0.0377 - accuracy: 1.0000 - val_loss: 0.3839 - val_accuracy: 0.8571\n",
            "Epoch 115/200\n",
            "3/3 [==============================] - 0s 77ms/step - loss: 0.0370 - accuracy: 1.0000 - val_loss: 0.3851 - val_accuracy: 0.8571\n",
            "Epoch 116/200\n",
            "3/3 [==============================] - 0s 105ms/step - loss: 0.0363 - accuracy: 1.0000 - val_loss: 0.3878 - val_accuracy: 0.8571\n",
            "Epoch 117/200\n",
            "3/3 [==============================] - 0s 115ms/step - loss: 0.0356 - accuracy: 1.0000 - val_loss: 0.3902 - val_accuracy: 0.8571\n",
            "Epoch 118/200\n",
            "3/3 [==============================] - 0s 79ms/step - loss: 0.0350 - accuracy: 1.0000 - val_loss: 0.3911 - val_accuracy: 0.8571\n",
            "Epoch 119/200\n",
            "3/3 [==============================] - 0s 77ms/step - loss: 0.0340 - accuracy: 1.0000 - val_loss: 0.3939 - val_accuracy: 0.8571\n",
            "Epoch 120/200\n",
            "3/3 [==============================] - 0s 65ms/step - loss: 0.0333 - accuracy: 1.0000 - val_loss: 0.3980 - val_accuracy: 0.8571\n",
            "Epoch 121/200\n",
            "3/3 [==============================] - 0s 86ms/step - loss: 0.0321 - accuracy: 1.0000 - val_loss: 0.4032 - val_accuracy: 0.8571\n",
            "Epoch 122/200\n",
            "3/3 [==============================] - 0s 59ms/step - loss: 0.0311 - accuracy: 1.0000 - val_loss: 0.4083 - val_accuracy: 0.8571\n",
            "Epoch 123/200\n",
            "3/3 [==============================] - 0s 66ms/step - loss: 0.0304 - accuracy: 1.0000 - val_loss: 0.4106 - val_accuracy: 0.8571\n",
            "Epoch 124/200\n",
            "3/3 [==============================] - 0s 63ms/step - loss: 0.0296 - accuracy: 1.0000 - val_loss: 0.4138 - val_accuracy: 0.8571\n",
            "Epoch 125/200\n",
            "3/3 [==============================] - 0s 63ms/step - loss: 0.0289 - accuracy: 1.0000 - val_loss: 0.4174 - val_accuracy: 0.8571\n",
            "Epoch 126/200\n",
            "3/3 [==============================] - 0s 38ms/step - loss: 0.0283 - accuracy: 1.0000 - val_loss: 0.4190 - val_accuracy: 0.8571\n",
            "Epoch 127/200\n",
            "3/3 [==============================] - 0s 38ms/step - loss: 0.0277 - accuracy: 1.0000 - val_loss: 0.4193 - val_accuracy: 0.8571\n",
            "Epoch 128/200\n",
            "3/3 [==============================] - 0s 48ms/step - loss: 0.0272 - accuracy: 1.0000 - val_loss: 0.4239 - val_accuracy: 0.8571\n",
            "Epoch 129/200\n",
            "3/3 [==============================] - 0s 82ms/step - loss: 0.0267 - accuracy: 1.0000 - val_loss: 0.4263 - val_accuracy: 0.8571\n",
            "Epoch 130/200\n",
            "3/3 [==============================] - 0s 70ms/step - loss: 0.0262 - accuracy: 1.0000 - val_loss: 0.4269 - val_accuracy: 0.8571\n",
            "Epoch 131/200\n",
            "3/3 [==============================] - 0s 75ms/step - loss: 0.0257 - accuracy: 1.0000 - val_loss: 0.4268 - val_accuracy: 0.8571\n",
            "Epoch 132/200\n",
            "3/3 [==============================] - 0s 88ms/step - loss: 0.0253 - accuracy: 1.0000 - val_loss: 0.4252 - val_accuracy: 0.8571\n",
            "Epoch 133/200\n",
            "3/3 [==============================] - 0s 69ms/step - loss: 0.0248 - accuracy: 1.0000 - val_loss: 0.4244 - val_accuracy: 0.8571\n",
            "Epoch 134/200\n",
            "3/3 [==============================] - 0s 49ms/step - loss: 0.0244 - accuracy: 1.0000 - val_loss: 0.4240 - val_accuracy: 0.8571\n",
            "Epoch 135/200\n",
            "3/3 [==============================] - 0s 44ms/step - loss: 0.0240 - accuracy: 1.0000 - val_loss: 0.4263 - val_accuracy: 0.8571\n",
            "Epoch 136/200\n",
            "3/3 [==============================] - 0s 41ms/step - loss: 0.0236 - accuracy: 1.0000 - val_loss: 0.4275 - val_accuracy: 0.8571\n",
            "Epoch 137/200\n",
            "3/3 [==============================] - 0s 32ms/step - loss: 0.0232 - accuracy: 1.0000 - val_loss: 0.4300 - val_accuracy: 0.8571\n",
            "Epoch 138/200\n",
            "3/3 [==============================] - 0s 44ms/step - loss: 0.0228 - accuracy: 1.0000 - val_loss: 0.4303 - val_accuracy: 0.8571\n",
            "Epoch 139/200\n",
            "3/3 [==============================] - 0s 64ms/step - loss: 0.0226 - accuracy: 1.0000 - val_loss: 0.4307 - val_accuracy: 0.8571\n",
            "Epoch 140/200\n",
            "3/3 [==============================] - 0s 48ms/step - loss: 0.0222 - accuracy: 1.0000 - val_loss: 0.4332 - val_accuracy: 0.8571\n",
            "Epoch 141/200\n",
            "3/3 [==============================] - 0s 50ms/step - loss: 0.0219 - accuracy: 1.0000 - val_loss: 0.4350 - val_accuracy: 0.8571\n",
            "Epoch 142/200\n",
            "3/3 [==============================] - 0s 39ms/step - loss: 0.0216 - accuracy: 1.0000 - val_loss: 0.4365 - val_accuracy: 0.8571\n",
            "Epoch 143/200\n",
            "3/3 [==============================] - 0s 38ms/step - loss: 0.0213 - accuracy: 1.0000 - val_loss: 0.4371 - val_accuracy: 0.8571\n",
            "Epoch 144/200\n",
            "3/3 [==============================] - 0s 36ms/step - loss: 0.0210 - accuracy: 1.0000 - val_loss: 0.4370 - val_accuracy: 0.8571\n",
            "Epoch 145/200\n",
            "3/3 [==============================] - 0s 71ms/step - loss: 0.0207 - accuracy: 1.0000 - val_loss: 0.4382 - val_accuracy: 0.8571\n",
            "Epoch 146/200\n",
            "3/3 [==============================] - 0s 48ms/step - loss: 0.0204 - accuracy: 1.0000 - val_loss: 0.4367 - val_accuracy: 0.8571\n",
            "Epoch 147/200\n",
            "3/3 [==============================] - 0s 56ms/step - loss: 0.0201 - accuracy: 1.0000 - val_loss: 0.4365 - val_accuracy: 0.8571\n",
            "Epoch 148/200\n",
            "3/3 [==============================] - 0s 60ms/step - loss: 0.0198 - accuracy: 1.0000 - val_loss: 0.4368 - val_accuracy: 0.8571\n",
            "Epoch 149/200\n",
            "3/3 [==============================] - 0s 80ms/step - loss: 0.0196 - accuracy: 1.0000 - val_loss: 0.4382 - val_accuracy: 0.8571\n",
            "Epoch 150/200\n",
            "3/3 [==============================] - 0s 35ms/step - loss: 0.0193 - accuracy: 1.0000 - val_loss: 0.4401 - val_accuracy: 0.8571\n",
            "Epoch 151/200\n",
            "3/3 [==============================] - 0s 39ms/step - loss: 0.0191 - accuracy: 1.0000 - val_loss: 0.4394 - val_accuracy: 0.8571\n",
            "Epoch 152/200\n",
            "3/3 [==============================] - 0s 56ms/step - loss: 0.0188 - accuracy: 1.0000 - val_loss: 0.4388 - val_accuracy: 0.8571\n",
            "Epoch 153/200\n",
            "3/3 [==============================] - 0s 69ms/step - loss: 0.0186 - accuracy: 1.0000 - val_loss: 0.4403 - val_accuracy: 0.8571\n",
            "Epoch 154/200\n",
            "3/3 [==============================] - 0s 45ms/step - loss: 0.0184 - accuracy: 1.0000 - val_loss: 0.4410 - val_accuracy: 0.8571\n",
            "Epoch 155/200\n",
            "3/3 [==============================] - 0s 70ms/step - loss: 0.0181 - accuracy: 1.0000 - val_loss: 0.4423 - val_accuracy: 0.8571\n",
            "Epoch 156/200\n",
            "3/3 [==============================] - 0s 29ms/step - loss: 0.0179 - accuracy: 1.0000 - val_loss: 0.4424 - val_accuracy: 0.8571\n",
            "Epoch 157/200\n",
            "3/3 [==============================] - 0s 33ms/step - loss: 0.0177 - accuracy: 1.0000 - val_loss: 0.4434 - val_accuracy: 0.8571\n",
            "Epoch 158/200\n",
            "3/3 [==============================] - 0s 32ms/step - loss: 0.0175 - accuracy: 1.0000 - val_loss: 0.4458 - val_accuracy: 0.8571\n",
            "Epoch 159/200\n",
            "3/3 [==============================] - 0s 46ms/step - loss: 0.0173 - accuracy: 1.0000 - val_loss: 0.4478 - val_accuracy: 0.8571\n",
            "Epoch 160/200\n",
            "3/3 [==============================] - 0s 94ms/step - loss: 0.0171 - accuracy: 1.0000 - val_loss: 0.4496 - val_accuracy: 0.8571\n",
            "Epoch 161/200\n",
            "3/3 [==============================] - 0s 66ms/step - loss: 0.0169 - accuracy: 1.0000 - val_loss: 0.4510 - val_accuracy: 0.8571\n",
            "Epoch 162/200\n",
            "3/3 [==============================] - 0s 66ms/step - loss: 0.0166 - accuracy: 1.0000 - val_loss: 0.4537 - val_accuracy: 0.8571\n",
            "Epoch 163/200\n",
            "3/3 [==============================] - 0s 35ms/step - loss: 0.0161 - accuracy: 1.0000 - val_loss: 0.4572 - val_accuracy: 0.8571\n",
            "Epoch 164/200\n",
            "3/3 [==============================] - 0s 33ms/step - loss: 0.0157 - accuracy: 1.0000 - val_loss: 0.4617 - val_accuracy: 0.8571\n",
            "Epoch 165/200\n",
            "3/3 [==============================] - 0s 33ms/step - loss: 0.0150 - accuracy: 1.0000 - val_loss: 0.4644 - val_accuracy: 0.8571\n",
            "Epoch 166/200\n",
            "3/3 [==============================] - 0s 43ms/step - loss: 0.0148 - accuracy: 1.0000 - val_loss: 0.4690 - val_accuracy: 0.8571\n",
            "Epoch 167/200\n",
            "3/3 [==============================] - 0s 49ms/step - loss: 0.0143 - accuracy: 1.0000 - val_loss: 0.4727 - val_accuracy: 0.8571\n",
            "Epoch 168/200\n",
            "3/3 [==============================] - 0s 42ms/step - loss: 0.0140 - accuracy: 1.0000 - val_loss: 0.4761 - val_accuracy: 0.8571\n",
            "Epoch 169/200\n",
            "3/3 [==============================] - 0s 46ms/step - loss: 0.0137 - accuracy: 1.0000 - val_loss: 0.4768 - val_accuracy: 0.8571\n",
            "Epoch 170/200\n",
            "3/3 [==============================] - 0s 35ms/step - loss: 0.0135 - accuracy: 1.0000 - val_loss: 0.4773 - val_accuracy: 0.8571\n",
            "Epoch 171/200\n",
            "3/3 [==============================] - 0s 36ms/step - loss: 0.0133 - accuracy: 1.0000 - val_loss: 0.4780 - val_accuracy: 0.8571\n",
            "Epoch 172/200\n",
            "3/3 [==============================] - 0s 42ms/step - loss: 0.0130 - accuracy: 1.0000 - val_loss: 0.4783 - val_accuracy: 0.8571\n",
            "Epoch 173/200\n",
            "3/3 [==============================] - 0s 60ms/step - loss: 0.0128 - accuracy: 1.0000 - val_loss: 0.4781 - val_accuracy: 0.8571\n",
            "Epoch 174/200\n",
            "3/3 [==============================] - 0s 35ms/step - loss: 0.0126 - accuracy: 1.0000 - val_loss: 0.4795 - val_accuracy: 0.8571\n",
            "Epoch 175/200\n",
            "3/3 [==============================] - 0s 49ms/step - loss: 0.0124 - accuracy: 1.0000 - val_loss: 0.4794 - val_accuracy: 0.8571\n",
            "Epoch 176/200\n",
            "3/3 [==============================] - 0s 35ms/step - loss: 0.0122 - accuracy: 1.0000 - val_loss: 0.4787 - val_accuracy: 0.8571\n",
            "Epoch 177/200\n",
            "3/3 [==============================] - 0s 39ms/step - loss: 0.0120 - accuracy: 1.0000 - val_loss: 0.4786 - val_accuracy: 0.8571\n",
            "Epoch 178/200\n",
            "3/3 [==============================] - 0s 32ms/step - loss: 0.0118 - accuracy: 1.0000 - val_loss: 0.4790 - val_accuracy: 0.8571\n",
            "Epoch 179/200\n",
            "3/3 [==============================] - 0s 33ms/step - loss: 0.0117 - accuracy: 1.0000 - val_loss: 0.4812 - val_accuracy: 0.8571\n",
            "Epoch 180/200\n",
            "3/3 [==============================] - 0s 68ms/step - loss: 0.0115 - accuracy: 1.0000 - val_loss: 0.4839 - val_accuracy: 0.8571\n",
            "Epoch 181/200\n",
            "3/3 [==============================] - 0s 86ms/step - loss: 0.0114 - accuracy: 1.0000 - val_loss: 0.4860 - val_accuracy: 0.8571\n",
            "Epoch 182/200\n",
            "3/3 [==============================] - 0s 63ms/step - loss: 0.0112 - accuracy: 1.0000 - val_loss: 0.4867 - val_accuracy: 0.8571\n",
            "Epoch 183/200\n",
            "3/3 [==============================] - 0s 54ms/step - loss: 0.0111 - accuracy: 1.0000 - val_loss: 0.4872 - val_accuracy: 0.8571\n",
            "Epoch 184/200\n",
            "3/3 [==============================] - 0s 27ms/step - loss: 0.0109 - accuracy: 1.0000 - val_loss: 0.4877 - val_accuracy: 0.8571\n",
            "Epoch 185/200\n",
            "3/3 [==============================] - 0s 19ms/step - loss: 0.0108 - accuracy: 1.0000 - val_loss: 0.4903 - val_accuracy: 0.8571\n",
            "Epoch 186/200\n",
            "3/3 [==============================] - 0s 27ms/step - loss: 0.0107 - accuracy: 1.0000 - val_loss: 0.4928 - val_accuracy: 0.8571\n",
            "Epoch 187/200\n",
            "3/3 [==============================] - 0s 21ms/step - loss: 0.0105 - accuracy: 1.0000 - val_loss: 0.4933 - val_accuracy: 0.8571\n",
            "Epoch 188/200\n",
            "3/3 [==============================] - 0s 18ms/step - loss: 0.0104 - accuracy: 1.0000 - val_loss: 0.4956 - val_accuracy: 0.8571\n",
            "Epoch 189/200\n",
            "3/3 [==============================] - 0s 18ms/step - loss: 0.0103 - accuracy: 1.0000 - val_loss: 0.4971 - val_accuracy: 0.8571\n",
            "Epoch 190/200\n",
            "3/3 [==============================] - 0s 17ms/step - loss: 0.0102 - accuracy: 1.0000 - val_loss: 0.4988 - val_accuracy: 0.8571\n",
            "Epoch 191/200\n",
            "3/3 [==============================] - 0s 19ms/step - loss: 0.0100 - accuracy: 1.0000 - val_loss: 0.5015 - val_accuracy: 0.8571\n",
            "Epoch 192/200\n",
            "3/3 [==============================] - 0s 19ms/step - loss: 0.0099 - accuracy: 1.0000 - val_loss: 0.5038 - val_accuracy: 0.8571\n",
            "Epoch 193/200\n",
            "3/3 [==============================] - 0s 26ms/step - loss: 0.0097 - accuracy: 1.0000 - val_loss: 0.5055 - val_accuracy: 0.8571\n",
            "Epoch 194/200\n",
            "3/3 [==============================] - 0s 17ms/step - loss: 0.0095 - accuracy: 1.0000 - val_loss: 0.5078 - val_accuracy: 0.8571\n",
            "Epoch 195/200\n",
            "3/3 [==============================] - 0s 19ms/step - loss: 0.0094 - accuracy: 1.0000 - val_loss: 0.5103 - val_accuracy: 0.8571\n",
            "Epoch 196/200\n",
            "3/3 [==============================] - 0s 18ms/step - loss: 0.0092 - accuracy: 1.0000 - val_loss: 0.5116 - val_accuracy: 0.8571\n",
            "Epoch 197/200\n",
            "3/3 [==============================] - 0s 17ms/step - loss: 0.0091 - accuracy: 1.0000 - val_loss: 0.5136 - val_accuracy: 0.8571\n",
            "Epoch 198/200\n",
            "3/3 [==============================] - 0s 17ms/step - loss: 0.0089 - accuracy: 1.0000 - val_loss: 0.5157 - val_accuracy: 0.8571\n",
            "Epoch 199/200\n",
            "3/3 [==============================] - 0s 26ms/step - loss: 0.0087 - accuracy: 1.0000 - val_loss: 0.5180 - val_accuracy: 0.8571\n",
            "Epoch 200/200\n",
            "3/3 [==============================] - 0s 17ms/step - loss: 0.0086 - accuracy: 1.0000 - val_loss: 0.5208 - val_accuracy: 0.8571\n"
          ]
        }
      ],
      "source": [
        "# Choose number of epochs and batch size and train the model\n",
        "history = model.fit(X_train, y_train, epochs=200, batch_size=64,\n",
        "                    validation_data=(X_val, y_val))"
      ]
    },
    {
      "cell_type": "code",
      "execution_count": 27,
      "metadata": {
        "colab": {
          "base_uri": "https://localhost:8080/",
          "height": 472
        },
        "id": "UZSzdKgmkdIC",
        "outputId": "c5794eaf-422c-412f-d668-bc6d49426e21"
      },
      "outputs": [
        {
          "data": {
            "image/png": "[encoded data removed]",
            "text/plain": [
              "<Figure size 640x480 with 1 Axes>"
            ]
          },
          "metadata": {},
          "output_type": "display_data"
        }
      ],
      "source": [
        "# Plot training and validation accuracy\n",
        "plt.plot(history.history['accuracy'])\n",
        "plt.plot(history.history['val_accuracy'])\n",
        "plt.title('Model accuracy')\n",
        "plt.ylabel('Accuracy')\n",
        "plt.xlabel('Epoch')\n",
        "plt.legend(['Train', 'Val'], loc='upper left')\n",
        "plt.show()"
      ]
    },
    {
      "cell_type": "code",
      "execution_count": 28,
      "metadata": {
        "colab": {
          "base_uri": "https://localhost:8080/",
          "height": 472
        },
        "id": "brA049ikkc10",
        "outputId": "d5044f54-5da8-4ee1-e79e-932d1ac3da11"
      },
      "outputs": [
        {
          "data": {
            "image/png": "[encoded data removed]",
            "text/plain": [
              "<Figure size 640x480 with 1 Axes>"
            ]
          },
          "metadata": {},
          "output_type": "display_data"
        }
      ],
      "source": [
        "# Plot training and test loss\n",
        "plt.plot(history.history['loss'])\n",
        "plt.plot(history.history['val_loss'])\n",
        "plt.title('Model loss')\n",
        "plt.ylabel('Loss')\n",
        "plt.xlabel('Epoch')\n",
        "plt.legend(['Train', 'Val'], loc='upper left')\n",
        "plt.show()"
      ]
    },
    {
      "cell_type": "markdown",
      "metadata": {},
      "source": [
        "### Conclución\n",
        "\n",
        "En este proyecto, entrené una red neuronal de clasificación binaria para diferenciar si las señales de sonar rebotaban contra un cilindro metálico o una roca. Logramos alcanzar una precisión superior al 0.80 en el conjunto de validación. Los gráficos nos ayudan a identificar el sobreajuste del modelo."
      ]
    }
  ],
  "metadata": {
    "colab": {
      "provenance": []
    },
    "kernelspec": {
      "display_name": "Python 3",
      "name": "python3"
    }
  },
  "nbformat": 4,
  "nbformat_minor": 0
}

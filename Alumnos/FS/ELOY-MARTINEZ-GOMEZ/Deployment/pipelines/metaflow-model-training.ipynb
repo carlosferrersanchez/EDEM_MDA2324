{
 "cells": [
  {
   "cell_type": "markdown",
   "metadata": {},
   "source": [
    "<font color=\"#CA3532\"><h1 align=\"left\">Master Data Analytics. EDEM.</h1></font>\n",
    "<font color=\"#6E6E6E\"><h2 align=\"left\">Herramientas MLOps.</h2></font> \n",
    "<font color=\"#6E6E6E\"><h2 align=\"left\">Tarea 1. Pipeline entrenamiento de modelos.</h2></font> \n",
    "#### Daniel Ruiz Riquelme\n",
    "https://docs.metaflow.org/metaflow/basics"
   ]
  },
  {
   "attachments": {},
   "cell_type": "markdown",
   "metadata": {},
   "source": [
    "##  Install dependencies"
   ]
  },
  {
   "cell_type": "code",
   "execution_count": null,
   "metadata": {},
   "outputs": [],
   "source": [
    "#!pip install metaflow\n",
    "#!pip install scikit-learn\n",
    "#!pip install pandas"
   ]
  },
  {
   "attachments": {},
   "cell_type": "markdown",
   "metadata": {},
   "source": [
    "## Set username"
   ]
  },
  {
   "cell_type": "code",
<<<<<<< Updated upstream
   "execution_count": 2,
=======
   "execution_count": null,
>>>>>>> Stashed changes
   "metadata": {},
   "outputs": [],
   "source": [
    "# Set username for workflows\n",
    "import os\n",
<<<<<<< Updated upstream
    "os.environ[\"USERNAME\"] = \"eloy\""
=======
    "os.environ[\"USERNAME\"] = \"daniel\""
>>>>>>> Stashed changes
   ]
  },
  {
   "cell_type": "code",
<<<<<<< Updated upstream
   "execution_count": 15,
   "metadata": {},
   "outputs": [
    {
     "name": "stdout",
     "output_type": "stream",
     "text": [
      "Overwriting metaflow_trainingflow.py\n"
     ]
    }
   ],
=======
   "execution_count": null,
   "metadata": {},
   "outputs": [],
>>>>>>> Stashed changes
   "source": [
    "%%writefile metaflow_trainingflow.py\n",
    "from metaflow import FlowSpec, Parameter, step\n",
    "\n",
    "class TrainingFlow(FlowSpec):\n",
    "    # Define the parameters for the flow\n",
    "    max_depth = Parameter('max_depth', default=2, help='Max depth of the random forest classifier')\n",
    "    n_estimators = Parameter('n_estimators', default=100, help='Number of estimators for the random forest classifier')\n",
    "    random_state = Parameter('random_state', default=0, help='Random state for the random forest classifier')\n",
    "    \n",
    "    @step\n",
    "    def start(self):\n",
    "        # Start the flow\n",
    "        self.next(self.ingest_data)\n",
    "        \n",
    "    @step\n",
    "    def ingest_data(self):\n",
    "        from sklearn.datasets import load_iris\n",
    "    \n",
    "        # Load the iris dataset\n",
    "        iris = load_iris()\n",
    "        \n",
<<<<<<< Updated upstream
    "        self.X = iris.data\n",
    "        self.y = iris.target\n",
=======
    "        #pylint: disable=no-member\n",
    "        self.X = iris.data\n",
    "        self.y = iris.target\n",
    "        #pylint: enable=no-member\n",
>>>>>>> Stashed changes
    "        \n",
    "        self.next(self.split_data)\n",
    "\n",
    "    @step\n",
    "    def split_data(self):\n",
<<<<<<< Updated upstream
    "        from sklearn.model_selection import train_test_split\n",
    "        # Split the data into train and test\n",
    "        self.X_train, self.X_test, self.y_train, self.y_test = train_test_split(self.X, self.y, test_size=0.2, random_state=42)\n",
    "        self.next(self.train)\n",
    "\n",
    "    @step\n",
    "    def train(self):\n",
    "        from sklearn.ensemble import RandomForestClassifier\n",
    "        # Train the model\n",
    "        self.rf = RandomForestClassifier(max_depth=self.max_depth, n_estimators=self.n_estimators, random_state=self.random_state)\n",
    "        self.rf.fit(self.X_train, self.y_train)\n",
    "        self.next(self.show_metrics)\n",
    "\n",
    "    @step\n",
    "    def show_metrics(self):\n",
    "        from sklearn.metrics import classification_report\n",
    "        # Print some metrics\n",
    "        y_pred = self.rf.predict(self.X_test)\n",
    "        print(classification_report(self.y_test, y_pred))\n",
    "        self.next(self.register_model)\n",
    "        \n",
    "    @step\n",
    "    def register_model(self):\n",
    "        import pickle\n",
    "        # Save the model in a pickle file in local storage\n",
    "        with open(\"model.pkl\", \"wb\") as f:\n",
    "            pickle.dump(self.rf, f)\n",
    "        self.next(self.end)\n",
=======
    "        #Split the data into train and test\n",
    "        # TODO: WRITE YOUR CODE HERE\n",
    "\n",
    "    @step\n",
    "    def train(self):\n",
    "        # Train the model\n",
    "        # TODO: WRITE YOUR CODE HERE\n",
    "\n",
    "    @step\n",
    "    def show_metrics(self):\n",
    "        # Print some metrics\n",
    "        # TODO: WRITE YOUR CODE HERE\n",
    "        \n",
    "    @step\n",
    "    def register_model(self):\n",
    "        # Save the model in a pickle file in local storage\n",
    "        # TODO: WRITE YOUR CODE HERE\n",
>>>>>>> Stashed changes
    "        \n",
    "    @step\n",
    "    def end(self):\n",
    "        pass\n",
    "    \n",
    "if __name__ == '__main__':\n",
    "    TrainingFlow()"
   ]
  },
  {
   "cell_type": "code",
<<<<<<< Updated upstream
   "execution_count": 16,
   "metadata": {},
   "outputs": [
    {
     "name": "stdout",
     "output_type": "stream",
     "text": [
      "\u001b[35m\u001b[1mMetaflow 2.12.5\u001b[0m\u001b[35m\u001b[22m executing \u001b[0m\u001b[31m\u001b[1mTrainingFlow\u001b[0m\u001b[35m\u001b[22m\u001b[0m\u001b[35m\u001b[22m for \u001b[0m\u001b[31m\u001b[1muser:emart\u001b[0m\u001b[35m\u001b[22m\u001b[K\u001b[0m\u001b[35m\u001b[22m\u001b[0m\n",
      "\u001b[22mCreating local datastore in current directory (/Users/emart/Documents/GitHub/EDEM_MDA2324/Alumnos/FS/ELOY-MARTINEZ-GOMEZ/Deployment/pipelines/.metaflow)\u001b[K\u001b[0m\u001b[22m\u001b[0m\n",
      "\u001b[35m\u001b[22mValidating your flow...\u001b[K\u001b[0m\u001b[35m\u001b[22m\u001b[0m\n",
      "\u001b[32m\u001b[1m    The graph looks good!\u001b[K\u001b[0m\u001b[32m\u001b[1m\u001b[0m\n",
      "\u001b[35m\u001b[22mRunning pylint...\u001b[K\u001b[0m\u001b[35m\u001b[22m\u001b[0m\n",
      "\u001b[32m\u001b[22m    Pylint not found, so extra checks are disabled.\u001b[K\u001b[0m\u001b[32m\u001b[22m\u001b[0m\n",
      "\u001b[35m2024-06-22 12:44:33.983 \u001b[0m\u001b[1mWorkflow starting (run-id 1719053073983119):\u001b[0m\n",
      "\u001b[35m2024-06-22 12:44:33.992 \u001b[0m\u001b[32m[1719053073983119/start/1 (pid 4053)] \u001b[0m\u001b[1mTask is starting.\u001b[0m\n",
      "\u001b[35m2024-06-22 12:44:34.123 \u001b[0m\u001b[32m[1719053073983119/start/1 (pid 4053)] \u001b[0m\u001b[1mTask finished successfully.\u001b[0m\n",
      "\u001b[35m2024-06-22 12:44:34.126 \u001b[0m\u001b[32m[1719053073983119/ingest_data/2 (pid 4056)] \u001b[0m\u001b[1mTask is starting.\u001b[0m\n",
      "\u001b[35m2024-06-22 12:44:34.574 \u001b[0m\u001b[32m[1719053073983119/ingest_data/2 (pid 4056)] \u001b[0m\u001b[1mTask finished successfully.\u001b[0m\n",
      "\u001b[35m2024-06-22 12:44:34.577 \u001b[0m\u001b[32m[1719053073983119/split_data/3 (pid 4062)] \u001b[0m\u001b[1mTask is starting.\u001b[0m\n",
      "\u001b[35m2024-06-22 12:44:35.004 \u001b[0m\u001b[32m[1719053073983119/split_data/3 (pid 4062)] \u001b[0m\u001b[1mTask finished successfully.\u001b[0m\n",
      "\u001b[35m2024-06-22 12:44:35.006 \u001b[0m\u001b[32m[1719053073983119/train/4 (pid 4065)] \u001b[0m\u001b[1mTask is starting.\u001b[0m\n",
      "\u001b[35m2024-06-22 12:44:35.502 \u001b[0m\u001b[32m[1719053073983119/train/4 (pid 4065)] \u001b[0m\u001b[1mTask finished successfully.\u001b[0m\n",
      "\u001b[35m2024-06-22 12:44:35.505 \u001b[0m\u001b[32m[1719053073983119/show_metrics/5 (pid 4068)] \u001b[0m\u001b[1mTask is starting.\u001b[0m\n",
      "\u001b[35m2024-06-22 12:44:35.956 \u001b[0m\u001b[32m[1719053073983119/show_metrics/5 (pid 4068)] \u001b[0m\u001b[22mprecision    recall  f1-score   support\u001b[0m\n",
      "\u001b[35m2024-06-22 12:44:36.002 \u001b[0m\u001b[32m[1719053073983119/show_metrics/5 (pid 4068)] \u001b[0m\u001b[22m\u001b[0m\n",
      "\u001b[35m2024-06-22 12:44:36.002 \u001b[0m\u001b[32m[1719053073983119/show_metrics/5 (pid 4068)] \u001b[0m\u001b[22m0       1.00      1.00      1.00        10\u001b[0m\n",
      "\u001b[35m2024-06-22 12:44:36.002 \u001b[0m\u001b[32m[1719053073983119/show_metrics/5 (pid 4068)] \u001b[0m\u001b[22m1       1.00      1.00      1.00         9\u001b[0m\n",
      "\u001b[35m2024-06-22 12:44:36.002 \u001b[0m\u001b[32m[1719053073983119/show_metrics/5 (pid 4068)] \u001b[0m\u001b[22m2       1.00      1.00      1.00        11\u001b[0m\n",
      "\u001b[35m2024-06-22 12:44:36.002 \u001b[0m\u001b[32m[1719053073983119/show_metrics/5 (pid 4068)] \u001b[0m\u001b[22m\u001b[0m\n",
      "\u001b[35m2024-06-22 12:44:36.002 \u001b[0m\u001b[32m[1719053073983119/show_metrics/5 (pid 4068)] \u001b[0m\u001b[22maccuracy                           1.00        30\u001b[0m\n",
      "\u001b[35m2024-06-22 12:44:36.002 \u001b[0m\u001b[32m[1719053073983119/show_metrics/5 (pid 4068)] \u001b[0m\u001b[22mmacro avg       1.00      1.00      1.00        30\u001b[0m\n",
      "\u001b[35m2024-06-22 12:44:36.002 \u001b[0m\u001b[32m[1719053073983119/show_metrics/5 (pid 4068)] \u001b[0m\u001b[22mweighted avg       1.00      1.00      1.00        30\u001b[0m\n",
      "\u001b[35m2024-06-22 12:44:36.002 \u001b[0m\u001b[32m[1719053073983119/show_metrics/5 (pid 4068)] \u001b[0m\u001b[22m\u001b[0m\n",
      "\u001b[35m2024-06-22 12:44:36.003 \u001b[0m\u001b[32m[1719053073983119/show_metrics/5 (pid 4068)] \u001b[0m\u001b[1mTask finished successfully.\u001b[0m\n",
      "\u001b[35m2024-06-22 12:44:36.006 \u001b[0m\u001b[32m[1719053073983119/register_model/6 (pid 4071)] \u001b[0m\u001b[1mTask is starting.\u001b[0m\n",
      "\u001b[35m2024-06-22 12:44:36.462 \u001b[0m\u001b[32m[1719053073983119/register_model/6 (pid 4071)] \u001b[0m\u001b[1mTask finished successfully.\u001b[0m\n",
      "\u001b[35m2024-06-22 12:44:36.465 \u001b[0m\u001b[32m[1719053073983119/end/7 (pid 4074)] \u001b[0m\u001b[1mTask is starting.\u001b[0m\n",
      "\u001b[35m2024-06-22 12:44:36.592 \u001b[0m\u001b[32m[1719053073983119/end/7 (pid 4074)] \u001b[0m\u001b[1mTask finished successfully.\u001b[0m\n",
      "\u001b[35m2024-06-22 12:44:36.592 \u001b[0m\u001b[1mDone!\u001b[0m\n"
     ]
    }
   ],
=======
   "execution_count": null,
   "metadata": {},
   "outputs": [],
>>>>>>> Stashed changes
   "source": [
    "!python metaflow_trainingflow.py run --max_depth 2 --n_estimators 100 --random_state 0"
   ]
  }
 ],
 "metadata": {
  "kernelspec": {
   "display_name": "productionalization",
   "language": "python",
   "name": "python3"
  },
  "language_info": {
   "codemirror_mode": {
    "name": "ipython",
    "version": 3
   },
   "file_extension": ".py",
   "mimetype": "text/x-python",
   "name": "python",
   "nbconvert_exporter": "python",
   "pygments_lexer": "ipython3",
<<<<<<< Updated upstream
   "version": "3.10.14"
=======
   "version": "3.10.8"
>>>>>>> Stashed changes
  },
  "orig_nbformat": 4,
  "vscode": {
   "interpreter": {
    "hash": "5ed29f95de7cc8ac0f18a32ccae5fbddd3dba9010e060d505f2ebe31fc64f080"
   }
  }
 },
 "nbformat": 4,
 "nbformat_minor": 2
}

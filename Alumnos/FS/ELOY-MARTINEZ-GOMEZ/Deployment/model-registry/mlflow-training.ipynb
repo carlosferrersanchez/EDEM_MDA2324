{
 "cells": [
  {
   "attachments": {},
   "cell_type": "markdown",
   "metadata": {},
   "source": [
    "<font color=\"#CA3532\"><h1 align=\"left\">Master Data Analytics. EDEM.</h1></font>\n",
    "<font color=\"#6E6E6E\"><h2 align=\"left\">Herramientas MLOps.</h2></font> \n",
    "<font color=\"#6E6E6E\"><h2 align=\"left\">Tarea 2. Usando MLFlow como model registry.</h2></font> \n",
    "#### Daniel Ruiz Riquelme"
   ]
  },
  {
   "cell_type": "code",
<<<<<<< Updated upstream
   "execution_count": 1,
=======
   "execution_count": null,
>>>>>>> Stashed changes
   "metadata": {},
   "outputs": [],
   "source": [
    "import mlflow\n",
    "from mlflow import log_metric, log_param, log_artifact"
   ]
  },
  {
   "cell_type": "code",
<<<<<<< Updated upstream
   "execution_count": 2,
   "metadata": {},
   "outputs": [
    {
     "name": "stdout",
     "output_type": "stream",
     "text": [
      "/Users/emart/Documents/GitHub/EDEM_MDA2324/Alumnos/FS/ELOY-MARTINEZ-GOMEZ/Deployment/model-registry\n"
     ]
    }
   ],
=======
   "execution_count": null,
   "metadata": {},
   "outputs": [],
>>>>>>> Stashed changes
   "source": [
    "!pwd"
   ]
  },
  {
   "cell_type": "code",
<<<<<<< Updated upstream
   "execution_count": 4,
   "metadata": {},
   "outputs": [
    {
     "name": "stdout",
     "output_type": "stream",
     "text": [
      "zsh:1: no matches found: mlflow[extras]\n",
      "mlflow==2.14.1\n"
     ]
    }
   ],
=======
   "execution_count": null,
   "metadata": {},
   "outputs": [],
>>>>>>> Stashed changes
   "source": [
    "# 1. Install MLFlow\n",
    "# !pip install mlflow[extras]\n",
    "# !pip freeze | grep mlflow"
   ]
  },
  {
   "cell_type": "code",
   "execution_count": null,
   "metadata": {},
   "outputs": [],
   "source": [
    "# 2. Setup MLFlow Tracking Server\n",
    "# Run the following command in a terminal to start the MLFlow Tracking Server\n",
    "# Configure mlflow to store all in a local directory\n",
    "# !mlflow server --backend-store-uri ./mlruns --default-artifact-root ./mlruns"
   ]
  },
  {
   "cell_type": "code",
<<<<<<< Updated upstream
   "execution_count": 3,
   "metadata": {},
   "outputs": [
    {
     "name": "stderr",
     "output_type": "stream",
     "text": [
      "2024/06/22 12:10:02 INFO mlflow.tracking.fluent: Experiment with name 'mlflow-model-training-iris' does not exist. Creating a new experiment.\n"
     ]
    },
    {
     "data": {
      "text/plain": [
       "<Experiment: artifact_location='./mlruns/337741612973735887', creation_time=1719051002824, experiment_id='337741612973735887', last_update_time=1719051002824, lifecycle_stage='active', name='mlflow-model-training-iris', tags={}>"
      ]
     },
     "execution_count": 3,
     "metadata": {},
     "output_type": "execute_result"
    }
   ],
=======
   "execution_count": null,
   "metadata": {},
   "outputs": [],
>>>>>>> Stashed changes
   "source": [
    "# 3. Create a new experiment\n",
    "# This is a local tracking server. You can also use a remote tracking server. See https://mlflow.org/docs/latest/tracking.html for more details.\n",
    "# Remote tracking server will be simulated later\n",
    "\n",
    "import mlflow\n",
<<<<<<< Updated upstream
    "mlflow.set_tracking_uri(\"http://127.0.0.1:5000\")\n",
=======
    "mlflow.set_tracking_uri(\"http://localhost:5000\")\n",
>>>>>>> Stashed changes
    "mlflow.set_experiment(\"mlflow-model-training-iris\")"
   ]
  },
  {
   "cell_type": "code",
<<<<<<< Updated upstream
   "execution_count": 4,
   "metadata": {},
   "outputs": [
    {
     "name": "stderr",
     "output_type": "stream",
     "text": [
      "/opt/anaconda3/envs/mlflow/lib/python3.10/site-packages/_distutils_hack/__init__.py:26: UserWarning: Setuptools is replacing distutils.\n",
      "  warnings.warn(\"Setuptools is replacing distutils.\")\n"
     ]
    }
   ],
=======
   "execution_count": null,
   "metadata": {},
   "outputs": [],
>>>>>>> Stashed changes
   "source": [
    "# 4. Log a model experiment result\n",
    "\n",
    "# Lets first create a simple function to train a model\n",
    "# The function will receive a set of hyperparameters and return the model and the accuracy\n",
    "import datetime\n",
    "\n",
    "def get_data():\n",
    "    from sklearn import datasets\n",
    "\n",
    "    # X, y = datasets.make_classification(n_samples=1000, n_features=4, n_informative=4, n_redundant=0, n_classes=3, n_clusters_per_class=1, class_sep=0.5, random_state=40)\n",
    "    # use iris dataset\n",
    "    X, y = datasets.load_breast_cancer(return_X_y=True)\n",
    "    return X, y\n",
    "\n",
    "def train_model(hyperparameters):\n",
    "    from sklearn.ensemble import RandomForestClassifier\n",
    "    from sklearn.metrics import accuracy_score\n",
    "    from sklearn.model_selection import train_test_split\n",
    "    import mlflow.sklearn\n",
    "    X, y = get_data()\n",
    "    X_train, X_test, y_train, y_test = train_test_split(X, y, test_size=0.2, random_state=40)\n",
    "    model = RandomForestClassifier(**hyperparameters)\n",
    "    model.fit(X_train, y_train)\n",
    "    y_pred = model.predict(X_test)\n",
    "    accuracy = accuracy_score(y_pred, y_test)\n",
    "    return model, accuracy\n",
    "\n",
    "# Now lets train a model with some hyperparameters\n",
    "hyperparameters = {\"n_estimators\": 10, \"max_depth\": 5}\n",
    "model, accuracy = train_model(hyperparameters)\n",
    "\n",
    "# Now lets log the model and the accuracy\n",
    "date = datetime.datetime.now().strftime(\"%Y-%m-%d-%H-%M-%S\")\n",
    "with mlflow.start_run(run_name=f\"mlflow-training-{date}\"):\n",
    "    \n",
    "    # Hyperparameters are logged as parameters\n",
    "    for hyperparameter, value in hyperparameters.items():\n",
    "        mlflow.log_param(hyperparameter, value)\n",
    "    \n",
    "    # Accuracy is logged as a metric \n",
    "    mlflow.log_metric(\"accuracy\", accuracy)\n",
    "    \n",
    "    # Model is logged as an artifact\n",
    "    mlflow.sklearn.log_model(model, \"model\")"
   ]
  },
  {
   "cell_type": "code",
<<<<<<< Updated upstream
   "execution_count": 5,
   "metadata": {},
   "outputs": [
    {
     "name": "stderr",
     "output_type": "stream",
     "text": [
      "/opt/anaconda3/envs/mlflow/lib/python3.10/site-packages/tqdm/auto.py:21: TqdmWarning: IProgress not found. Please update jupyter and ipywidgets. See https://ipywidgets.readthedocs.io/en/stable/user_install.html\n",
      "  from .autonotebook import tqdm as notebook_tqdm\n",
      "\u001b[32m[I 2024-06-22 12:10:27,877]\u001b[0m A new study created in memory with name: no-name-02c7df14-b3ea-43c5-bced-679eb397539c\u001b[0m\n",
      "\u001b[32m[I 2024-06-22 12:10:27,979]\u001b[0m Trial 0 finished with value: 0.9543238627542309 and parameters: {'n_estimators': 27, 'max_depth': 4, 'min_samples_split': 10, 'min_samples_leaf': 13, 'max_features': 0.13932450096597884}. Best is trial 0 with value: 0.9543238627542309.\u001b[0m\n",
      "\u001b[32m[I 2024-06-22 12:10:28,632]\u001b[0m Trial 1 finished with value: 0.9578481602235678 and parameters: {'n_estimators': 70, 'max_depth': 6, 'min_samples_split': 7, 'min_samples_leaf': 2, 'max_features': 0.9819306031136809}. Best is trial 0 with value: 0.9543238627542309.\u001b[0m\n",
      "\u001b[32m[I 2024-06-22 12:10:28,949]\u001b[0m Trial 2 finished with value: 0.9385188635305077 and parameters: {'n_estimators': 47, 'max_depth': 5, 'min_samples_split': 20, 'min_samples_leaf': 17, 'max_features': 0.8969878790161335}. Best is trial 2 with value: 0.9385188635305077.\u001b[0m\n",
      "\u001b[32m[I 2024-06-22 12:10:29,180]\u001b[0m Trial 3 finished with value: 0.9525850023288308 and parameters: {'n_estimators': 78, 'max_depth': 5, 'min_samples_split': 15, 'min_samples_leaf': 7, 'max_features': 0.14657582854286788}. Best is trial 2 with value: 0.9385188635305077.\u001b[0m\n",
      "\u001b[32m[I 2024-06-22 12:10:29,379]\u001b[0m Trial 4 finished with value: 0.9490762303990063 and parameters: {'n_estimators': 58, 'max_depth': 4, 'min_samples_split': 5, 'min_samples_leaf': 19, 'max_features': 0.2651806310095922}. Best is trial 2 with value: 0.9385188635305077.\u001b[0m\n",
      "\u001b[32m[I 2024-06-22 12:10:29,465]\u001b[0m Trial 5 finished with value: 0.9507995652848937 and parameters: {'n_estimators': 18, 'max_depth': 8, 'min_samples_split': 14, 'min_samples_leaf': 10, 'max_features': 0.2703676582728959}. Best is trial 2 with value: 0.9385188635305077.\u001b[0m\n",
      "\u001b[32m[I 2024-06-22 12:10:29,834]\u001b[0m Trial 6 finished with value: 0.9560937742586555 and parameters: {'n_estimators': 63, 'max_depth': 8, 'min_samples_split': 13, 'min_samples_leaf': 2, 'max_features': 0.5253704658377175}. Best is trial 2 with value: 0.9385188635305077.\u001b[0m\n",
      "\u001b[32m[I 2024-06-22 12:10:29,982]\u001b[0m Trial 7 finished with value: 0.9473218444340941 and parameters: {'n_estimators': 38, 'max_depth': 5, 'min_samples_split': 14, 'min_samples_leaf': 15, 'max_features': 0.2841379356263467}. Best is trial 2 with value: 0.9385188635305077.\u001b[0m\n",
      "\u001b[32m[I 2024-06-22 12:10:30,229]\u001b[0m Trial 8 finished with value: 0.9455519329296692 and parameters: {'n_estimators': 35, 'max_depth': 8, 'min_samples_split': 18, 'min_samples_leaf': 15, 'max_features': 0.8790955556684711}. Best is trial 2 with value: 0.9385188635305077.\u001b[0m\n",
      "\u001b[32m[I 2024-06-22 12:10:30,372]\u001b[0m Trial 9 finished with value: 0.9490762303990063 and parameters: {'n_estimators': 40, 'max_depth': 10, 'min_samples_split': 8, 'min_samples_leaf': 11, 'max_features': 0.21100140966993314}. Best is trial 2 with value: 0.9385188635305077.\u001b[0m\n",
      "\u001b[32m[I 2024-06-22 12:10:30,838]\u001b[0m Trial 10 finished with value: 0.9384878124514827 and parameters: {'n_estimators': 100, 'max_depth': 2, 'min_samples_split': 20, 'min_samples_leaf': 20, 'max_features': 0.7357302043868008}. Best is trial 10 with value: 0.9384878124514827.\u001b[0m\n",
      "\u001b[32m[I 2024-06-22 12:10:31,343]\u001b[0m Trial 11 finished with value: 0.9385033379909953 and parameters: {'n_estimators': 99, 'max_depth': 2, 'min_samples_split': 20, 'min_samples_leaf': 20, 'max_features': 0.7375544732239158}. Best is trial 10 with value: 0.9384878124514827.\u001b[0m\n",
      "\u001b[32m[I 2024-06-22 12:10:31,789]\u001b[0m Trial 12 finished with value: 0.9367334264865704 and parameters: {'n_estimators': 100, 'max_depth': 2, 'min_samples_split': 20, 'min_samples_leaf': 20, 'max_features': 0.6958276264595816}. Best is trial 12 with value: 0.9367334264865704.\u001b[0m\n",
      "\u001b[32m[I 2024-06-22 12:10:32,202]\u001b[0m Trial 13 finished with value: 0.9437820214252446 and parameters: {'n_estimators': 99, 'max_depth': 2, 'min_samples_split': 2, 'min_samples_leaf': 20, 'max_features': 0.6243638359214388}. Best is trial 12 with value: 0.9367334264865704.\u001b[0m\n",
      "\u001b[32m[I 2024-06-22 12:10:32,561]\u001b[0m Trial 14 finished with value: 0.9420431609998448 and parameters: {'n_estimators': 84, 'max_depth': 3, 'min_samples_split': 17, 'min_samples_leaf': 17, 'max_features': 0.4614186092685063}. Best is trial 12 with value: 0.9367334264865704.\u001b[0m\n",
      "\u001b[32m[I 2024-06-22 12:10:32,973]\u001b[0m Trial 15 finished with value: 0.9525539512498058 and parameters: {'n_estimators': 86, 'max_depth': 2, 'min_samples_split': 17, 'min_samples_leaf': 6, 'max_features': 0.7048771524405002}. Best is trial 12 with value: 0.9367334264865704.\u001b[0m\n",
      "\u001b[32m[I 2024-06-22 12:10:33,578]\u001b[0m Trial 16 finished with value: 0.9420431609998448 and parameters: {'n_estimators': 99, 'max_depth': 3, 'min_samples_split': 20, 'min_samples_leaf': 17, 'max_features': 0.7779223556134914}. Best is trial 12 with value: 0.9367334264865704.\u001b[0m\n",
      "\u001b[32m[I 2024-06-22 12:10:33,938]\u001b[0m Trial 17 finished with value: 0.943797546964757 and parameters: {'n_estimators': 87, 'max_depth': 3, 'min_samples_split': 11, 'min_samples_leaf': 14, 'max_features': 0.42533946577011145}. Best is trial 12 with value: 0.9367334264865704.\u001b[0m\n",
      "\u001b[32m[I 2024-06-22 12:10:34,337]\u001b[0m Trial 18 finished with value: 0.9455519329296692 and parameters: {'n_estimators': 74, 'max_depth': 6, 'min_samples_split': 18, 'min_samples_leaf': 18, 'max_features': 0.6017523447887455}. Best is trial 12 with value: 0.9367334264865704.\u001b[0m\n",
      "\u001b[32m[I 2024-06-22 12:10:34,408]\u001b[0m Trial 19 finished with value: 0.9543393882937432 and parameters: {'n_estimators': 7, 'max_depth': 4, 'min_samples_split': 16, 'min_samples_leaf': 12, 'max_features': 0.819895407864801}. Best is trial 12 with value: 0.9367334264865704.\u001b[0m\n",
      "\u001b[32m[I 2024-06-22 12:10:34,807]\u001b[0m Trial 20 finished with value: 0.9490451793199813 and parameters: {'n_estimators': 91, 'max_depth': 2, 'min_samples_split': 12, 'min_samples_leaf': 9, 'max_features': 0.6480472055139299}. Best is trial 12 with value: 0.9367334264865704.\u001b[0m\n",
      "\u001b[32m[I 2024-06-22 12:10:35,279]\u001b[0m Trial 21 finished with value: 0.943797546964757 and parameters: {'n_estimators': 100, 'max_depth': 2, 'min_samples_split': 20, 'min_samples_leaf': 20, 'max_features': 0.7480900509565495}. Best is trial 12 with value: 0.9367334264865704.\u001b[0m\n",
      "\u001b[32m[I 2024-06-22 12:10:35,773]\u001b[0m Trial 22 finished with value: 0.9385188635305077 and parameters: {'n_estimators': 94, 'max_depth': 3, 'min_samples_split': 19, 'min_samples_leaf': 20, 'max_features': 0.6763047025216498}. Best is trial 12 with value: 0.9367334264865704.\u001b[0m\n",
      "\u001b[32m[I 2024-06-22 12:10:36,098]\u001b[0m Trial 23 finished with value: 0.9420431609998448 and parameters: {'n_estimators': 81, 'max_depth': 2, 'min_samples_split': 18, 'min_samples_leaf': 18, 'max_features': 0.5424620389609371}. Best is trial 12 with value: 0.9367334264865704.\u001b[0m\n",
      "\u001b[32m[I 2024-06-22 12:10:36,509]\u001b[0m Trial 24 finished with value: 0.9455519329296692 and parameters: {'n_estimators': 68, 'max_depth': 3, 'min_samples_split': 16, 'min_samples_leaf': 16, 'max_features': 0.8081793764746897}. Best is trial 12 with value: 0.9367334264865704.\u001b[0m\n",
      "\u001b[32m[I 2024-06-22 12:10:37,156]\u001b[0m Trial 25 finished with value: 0.9314702685918336 and parameters: {'n_estimators': 92, 'max_depth': 4, 'min_samples_split': 20, 'min_samples_leaf': 19, 'max_features': 0.9983649157616782}. Best is trial 25 with value: 0.9314702685918336.\u001b[0m\n",
      "\u001b[32m[I 2024-06-22 12:10:37,798]\u001b[0m Trial 26 finished with value: 0.935010091600683 and parameters: {'n_estimators': 91, 'max_depth': 4, 'min_samples_split': 18, 'min_samples_leaf': 18, 'max_features': 0.9440350543878427}. Best is trial 25 with value: 0.9314702685918336.\u001b[0m\n",
      "\u001b[32m[I 2024-06-22 12:10:38,432]\u001b[0m Trial 27 finished with value: 0.9367644775655954 and parameters: {'n_estimators': 90, 'max_depth': 7, 'min_samples_split': 18, 'min_samples_leaf': 18, 'max_features': 0.9781709921178097}. Best is trial 25 with value: 0.9314702685918336.\u001b[0m\n",
      "\u001b[32m[I 2024-06-22 12:10:38,811]\u001b[0m Trial 28 finished with value: 0.9473218444340941 and parameters: {'n_estimators': 54, 'max_depth': 4, 'min_samples_split': 16, 'min_samples_leaf': 15, 'max_features': 0.9046808644424946}. Best is trial 25 with value: 0.9314702685918336.\u001b[0m\n",
      "\u001b[32m[I 2024-06-22 12:10:39,406]\u001b[0m Trial 29 finished with value: 0.947290793355069 and parameters: {'n_estimators': 82, 'max_depth': 4, 'min_samples_split': 19, 'min_samples_leaf': 13, 'max_features': 0.9573708243613498}. Best is trial 25 with value: 0.9314702685918336.\u001b[0m\n",
      "\u001b[32m[I 2024-06-22 12:10:39,914]\u001b[0m Trial 30 finished with value: 0.9367800031051079 and parameters: {'n_estimators': 75, 'max_depth': 5, 'min_samples_split': 10, 'min_samples_leaf': 16, 'max_features': 0.8594349094625037}. Best is trial 25 with value: 0.9314702685918336.\u001b[0m\n",
      "\u001b[32m[I 2024-06-22 12:10:40,553]\u001b[0m Trial 31 finished with value: 0.9332401800962584 and parameters: {'n_estimators': 92, 'max_depth': 7, 'min_samples_split': 18, 'min_samples_leaf': 18, 'max_features': 0.9982203863979904}. Best is trial 25 with value: 0.9314702685918336.\u001b[0m\n",
      "\u001b[32m[I 2024-06-22 12:10:41,220]\u001b[0m Trial 32 finished with value: 0.935010091600683 and parameters: {'n_estimators': 93, 'max_depth': 7, 'min_samples_split': 17, 'min_samples_leaf': 19, 'max_features': 0.9953713517584355}. Best is trial 25 with value: 0.9314702685918336.\u001b[0m\n",
      "\u001b[32m[I 2024-06-22 12:10:41,762]\u001b[0m Trial 33 finished with value: 0.9420431609998448 and parameters: {'n_estimators': 69, 'max_depth': 7, 'min_samples_split': 17, 'min_samples_leaf': 18, 'max_features': 0.9901231316783929}. Best is trial 25 with value: 0.9314702685918336.\u001b[0m\n",
      "\u001b[32m[I 2024-06-22 12:10:42,431]\u001b[0m Trial 34 finished with value: 0.935010091600683 and parameters: {'n_estimators': 93, 'max_depth': 7, 'min_samples_split': 15, 'min_samples_leaf': 17, 'max_features': 0.9382990633118578}. Best is trial 25 with value: 0.9314702685918336.\u001b[0m\n",
      "\u001b[32m[I 2024-06-22 12:10:42,981]\u001b[0m Trial 35 finished with value: 0.9385343890700202 and parameters: {'n_estimators': 78, 'max_depth': 7, 'min_samples_split': 15, 'min_samples_leaf': 16, 'max_features': 0.934458067233267}. Best is trial 25 with value: 0.9314702685918336.\u001b[0m\n",
      "\u001b[32m[I 2024-06-22 12:10:43,419]\u001b[0m Trial 36 finished with value: 0.9349945660611706 and parameters: {'n_estimators': 63, 'max_depth': 6, 'min_samples_split': 19, 'min_samples_leaf': 19, 'max_features': 0.9925179636359336}. Best is trial 25 with value: 0.9314702685918336.\u001b[0m\n",
      "\u001b[32m[I 2024-06-22 12:10:43,810]\u001b[0m Trial 37 finished with value: 0.9508461419034312 and parameters: {'n_estimators': 57, 'max_depth': 9, 'min_samples_split': 15, 'min_samples_leaf': 13, 'max_features': 0.8605016554096139}. Best is trial 25 with value: 0.9314702685918336.\u001b[0m\n",
      "\u001b[32m[I 2024-06-22 12:10:44,162]\u001b[0m Trial 38 finished with value: 0.9350256171401956 and parameters: {'n_estimators': 49, 'max_depth': 6, 'min_samples_split': 19, 'min_samples_leaf': 19, 'max_features': 0.9970498662648614}. Best is trial 25 with value: 0.9314702685918336.\u001b[0m\n",
      "\u001b[32m[I 2024-06-22 12:10:44,396]\u001b[0m Trial 39 finished with value: 0.9543393882937432 and parameters: {'n_estimators': 24, 'max_depth': 6, 'min_samples_split': 13, 'min_samples_leaf': 1, 'max_features': 0.9077447489807849}. Best is trial 25 with value: 0.9314702685918336.\u001b[0m\n",
      "\u001b[32m[I 2024-06-22 12:10:44,925]\u001b[0m Trial 40 finished with value: 0.9561092997981678 and parameters: {'n_estimators': 70, 'max_depth': 5, 'min_samples_split': 7, 'min_samples_leaf': 5, 'max_features': 0.8308226299976587}. Best is trial 25 with value: 0.9314702685918336.\u001b[0m\n",
      "\u001b[32m[I 2024-06-22 12:10:45,543]\u001b[0m Trial 41 finished with value: 0.9367644775655954 and parameters: {'n_estimators': 94, 'max_depth': 7, 'min_samples_split': 17, 'min_samples_leaf': 19, 'max_features': 0.9294991437478152}. Best is trial 25 with value: 0.9314702685918336.\u001b[0m\n",
      "\u001b[32m[I 2024-06-22 12:10:46,077]\u001b[0m Trial 42 finished with value: 0.9420431609998449 and parameters: {'n_estimators': 78, 'max_depth': 8, 'min_samples_split': 19, 'min_samples_leaf': 17, 'max_features': 0.9419700698783734}. Best is trial 25 with value: 0.9314702685918336.\u001b[0m\n",
      "\u001b[32m[I 2024-06-22 12:10:46,678]\u001b[0m Trial 43 finished with value: 0.9420276354603322 and parameters: {'n_estimators': 88, 'max_depth': 9, 'min_samples_split': 18, 'min_samples_leaf': 14, 'max_features': 0.8759043012221693}. Best is trial 25 with value: 0.9314702685918336.\u001b[0m\n",
      "\u001b[32m[I 2024-06-22 12:10:46,980]\u001b[0m Trial 44 finished with value: 0.9402732494954199 and parameters: {'n_estimators': 42, 'max_depth': 6, 'min_samples_split': 14, 'min_samples_leaf': 17, 'max_features': 0.9391261851531277}. Best is trial 25 with value: 0.9314702685918336.\u001b[0m\n",
      "\u001b[32m[I 2024-06-22 12:10:47,434]\u001b[0m Trial 45 finished with value: 0.935010091600683 and parameters: {'n_estimators': 64, 'max_depth': 7, 'min_samples_split': 19, 'min_samples_leaf': 19, 'max_features': 0.9886752938332681}. Best is trial 25 with value: 0.9314702685918336.\u001b[0m\n",
      "\u001b[32m[I 2024-06-22 12:10:47,871]\u001b[0m Trial 46 finished with value: 0.94027324949542 and parameters: {'n_estimators': 65, 'max_depth': 8, 'min_samples_split': 19, 'min_samples_leaf': 19, 'max_features': 0.894924270054525}. Best is trial 25 with value: 0.9314702685918336.\u001b[0m\n",
      "\u001b[32m[I 2024-06-22 12:10:48,503]\u001b[0m Trial 47 finished with value: 0.9438130725042695 and parameters: {'n_estimators': 95, 'max_depth': 5, 'min_samples_split': 16, 'min_samples_leaf': 16, 'max_features': 0.8502726970212808}. Best is trial 25 with value: 0.9314702685918336.\u001b[0m\n",
      "\u001b[32m[I 2024-06-22 12:10:48,943]\u001b[0m Trial 48 finished with value: 0.935010091600683 and parameters: {'n_estimators': 62, 'max_depth': 9, 'min_samples_split': 20, 'min_samples_leaf': 19, 'max_features': 0.9975013443066635}. Best is trial 25 with value: 0.9314702685918336.\u001b[0m\n",
      "\u001b[32m[I 2024-06-22 12:10:49,312]\u001b[0m Trial 49 finished with value: 0.9367489520260829 and parameters: {'n_estimators': 60, 'max_depth': 10, 'min_samples_split': 20, 'min_samples_leaf': 18, 'max_features': 0.7958192574845433}. Best is trial 25 with value: 0.9314702685918336.\u001b[0m\n",
      "\u001b[32m[I 2024-06-22 12:10:49,958]\u001b[0m Trial 50 finished with value: 0.9526005278683435 and parameters: {'n_estimators': 84, 'max_depth': 5, 'min_samples_split': 5, 'min_samples_leaf': 9, 'max_features': 0.9620722061440223}. Best is trial 25 with value: 0.9314702685918336.\u001b[0m\n",
      "\u001b[32m[I 2024-06-22 12:10:50,396]\u001b[0m Trial 51 finished with value: 0.9367489520260829 and parameters: {'n_estimators': 63, 'max_depth': 9, 'min_samples_split': 19, 'min_samples_leaf': 19, 'max_features': 0.9982005709307143}. Best is trial 25 with value: 0.9314702685918336.\u001b[0m\n",
      "\u001b[32m[I 2024-06-22 12:10:50,762]\u001b[0m Trial 52 finished with value: 0.9367800031051079 and parameters: {'n_estimators': 53, 'max_depth': 8, 'min_samples_split': 20, 'min_samples_leaf': 20, 'max_features': 0.9119120585336772}. Best is trial 25 with value: 0.9314702685918336.\u001b[0m\n",
      "\u001b[32m[I 2024-06-22 12:10:51,102]\u001b[0m Trial 53 finished with value: 0.9385188635305077 and parameters: {'n_estimators': 45, 'max_depth': 4, 'min_samples_split': 18, 'min_samples_leaf': 18, 'max_features': 0.9700475243521797}. Best is trial 25 with value: 0.9314702685918336.\u001b[0m\n",
      "\u001b[32m[I 2024-06-22 12:10:51,359]\u001b[0m Trial 54 finished with value: 0.9490762303990063 and parameters: {'n_estimators': 95, 'max_depth': 7, 'min_samples_split': 17, 'min_samples_leaf': 17, 'max_features': 0.12392332248826943}. Best is trial 25 with value: 0.9314702685918336.\u001b[0m\n",
      "\u001b[32m[I 2024-06-22 12:10:51,680]\u001b[0m Trial 55 finished with value: 0.9420431609998448 and parameters: {'n_estimators': 73, 'max_depth': 9, 'min_samples_split': 13, 'min_samples_leaf': 19, 'max_features': 0.4654269447367808}. Best is trial 25 with value: 0.9314702685918336.\u001b[0m\n",
      "\u001b[32m[I 2024-06-22 12:10:51,713]\u001b[0m Trial 56 finished with value: 0.9192361434559851 and parameters: {'n_estimators': 2, 'max_depth': 10, 'min_samples_split': 15, 'min_samples_leaf': 20, 'max_features': 0.30315048656359767}. Best is trial 56 with value: 0.9192361434559851.\u001b[0m\n",
      "\u001b[32m[I 2024-06-22 12:10:51,757]\u001b[0m Trial 57 finished with value: 0.935010091600683 and parameters: {'n_estimators': 5, 'max_depth': 8, 'min_samples_split': 15, 'min_samples_leaf': 20, 'max_features': 0.34198514085166404}. Best is trial 56 with value: 0.9192361434559851.\u001b[0m\n",
      "\u001b[32m[I 2024-06-22 12:10:51,786]\u001b[0m Trial 58 finished with value: 0.912187548517311 and parameters: {'n_estimators': 1, 'max_depth': 10, 'min_samples_split': 15, 'min_samples_leaf': 20, 'max_features': 0.33887511825112526}. Best is trial 58 with value: 0.912187548517311.\u001b[0m\n",
      "\u001b[32m[I 2024-06-22 12:10:51,843]\u001b[0m Trial 59 finished with value: 0.943766495885732 and parameters: {'n_estimators': 11, 'max_depth': 10, 'min_samples_split': 12, 'min_samples_leaf': 15, 'max_features': 0.18454078526363618}. Best is trial 58 with value: 0.912187548517311.\u001b[0m\n",
      "\u001b[32m[I 2024-06-22 12:10:51,876]\u001b[0m Trial 60 finished with value: 0.9227293898462972 and parameters: {'n_estimators': 2, 'max_depth': 10, 'min_samples_split': 14, 'min_samples_leaf': 20, 'max_features': 0.3283199625053501}. Best is trial 58 with value: 0.912187548517311.\u001b[0m\n",
      "\u001b[32m[I 2024-06-22 12:10:51,943]\u001b[0m Trial 61 finished with value: 0.935010091600683 and parameters: {'n_estimators': 12, 'max_depth': 10, 'min_samples_split': 13, 'min_samples_leaf': 20, 'max_features': 0.3192945557341965}. Best is trial 58 with value: 0.912187548517311.\u001b[0m\n",
      "\u001b[32m[I 2024-06-22 12:10:51,972]\u001b[0m Trial 62 finished with value: 0.9015836050302749 and parameters: {'n_estimators': 1, 'max_depth': 10, 'min_samples_split': 16, 'min_samples_leaf': 20, 'max_features': 0.36444048526158473}. Best is trial 62 with value: 0.9015836050302749.\u001b[0m\n",
      "\u001b[32m[I 2024-06-22 12:10:52,009]\u001b[0m Trial 63 finished with value: 0.9314702685918335 and parameters: {'n_estimators': 2, 'max_depth': 10, 'min_samples_split': 16, 'min_samples_leaf': 20, 'max_features': 0.3678229575009025}. Best is trial 62 with value: 0.9015836050302749.\u001b[0m\n",
      "\u001b[32m[I 2024-06-22 12:10:52,038]\u001b[0m Trial 64 finished with value: 0.9156963204471354 and parameters: {'n_estimators': 1, 'max_depth': 10, 'min_samples_split': 14, 'min_samples_leaf': 20, 'max_features': 0.38284259506348856}. Best is trial 62 with value: 0.9015836050302749.\u001b[0m\n",
      "\u001b[32m[I 2024-06-22 12:10:52,080]\u001b[0m Trial 65 finished with value: 0.9331780779382083 and parameters: {'n_estimators': 2, 'max_depth': 10, 'min_samples_split': 14, 'min_samples_leaf': 20, 'max_features': 0.3702952053203865}. Best is trial 62 with value: 0.9015836050302749.\u001b[0m\n",
      "\u001b[32m[I 2024-06-22 12:10:52,109]\u001b[0m Trial 66 finished with value: 0.9104486880919112 and parameters: {'n_estimators': 1, 'max_depth': 10, 'min_samples_split': 12, 'min_samples_leaf': 20, 'max_features': 0.24423027523947652}. Best is trial 62 with value: 0.9015836050302749.\u001b[0m\n",
      "\u001b[32m[I 2024-06-22 12:10:52,189]\u001b[0m Trial 67 finished with value: 0.9402887750349326 and parameters: {'n_estimators': 16, 'max_depth': 10, 'min_samples_split': 12, 'min_samples_leaf': 20, 'max_features': 0.24328096877188787}. Best is trial 62 with value: 0.9015836050302749.\u001b[0m\n",
      "\u001b[32m[I 2024-06-22 12:10:52,219]\u001b[0m Trial 68 finished with value: 0.9086787765874863 and parameters: {'n_estimators': 1, 'max_depth': 10, 'min_samples_split': 11, 'min_samples_leaf': 20, 'max_features': 0.40967446321298756}. Best is trial 62 with value: 0.9015836050302749.\u001b[0m\n",
      "\u001b[32m[I 2024-06-22 12:10:52,277]\u001b[0m Trial 69 finished with value: 0.9385499146095327 and parameters: {'n_estimators': 8, 'max_depth': 10, 'min_samples_split': 10, 'min_samples_leaf': 20, 'max_features': 0.4107719704909731}. Best is trial 62 with value: 0.9015836050302749.\u001b[0m\n",
      "\u001b[32m[I 2024-06-22 12:10:52,306]\u001b[0m Trial 70 finished with value: 0.9191429902189101 and parameters: {'n_estimators': 1, 'max_depth': 9, 'min_samples_split': 11, 'min_samples_leaf': 4, 'max_features': 0.29193268385645027}. Best is trial 62 with value: 0.9015836050302749.\u001b[0m\n",
      "\u001b[32m[I 2024-06-22 12:10:52,335]\u001b[0m Trial 71 finished with value: 0.8910107126222636 and parameters: {'n_estimators': 1, 'max_depth': 10, 'min_samples_split': 11, 'min_samples_leaf': 5, 'max_features': 0.29775891622524064}. Best is trial 71 with value: 0.8910107126222636.\u001b[0m\n",
      "\u001b[32m[I 2024-06-22 12:10:52,381]\u001b[0m Trial 72 finished with value: 0.9507840397453812 and parameters: {'n_estimators': 5, 'max_depth': 9, 'min_samples_split': 9, 'min_samples_leaf': 3, 'max_features': 0.2809168852266051}. Best is trial 71 with value: 0.8910107126222636.\u001b[0m\n",
      "\u001b[32m[I 2024-06-22 12:10:52,448]\u001b[0m Trial 73 finished with value: 0.9595870206489675 and parameters: {'n_estimators': 12, 'max_depth': 10, 'min_samples_split': 11, 'min_samples_leaf': 5, 'max_features': 0.24526662730473814}. Best is trial 71 with value: 0.8910107126222636.\u001b[0m\n",
      "\u001b[32m[I 2024-06-22 12:10:52,569]\u001b[0m Trial 74 finished with value: 0.9508306163639185 and parameters: {'n_estimators': 17, 'max_depth': 9, 'min_samples_split': 11, 'min_samples_leaf': 3, 'max_features': 0.43578573558868283}. Best is trial 71 with value: 0.8910107126222636.\u001b[0m\n",
      "\u001b[32m[I 2024-06-22 12:10:52,625]\u001b[0m Trial 75 finished with value: 0.952585002328831 and parameters: {'n_estimators': 8, 'max_depth': 10, 'min_samples_split': 9, 'min_samples_leaf': 7, 'max_features': 0.30386514747202314}. Best is trial 71 with value: 0.8910107126222636.\u001b[0m\n",
      "\u001b[32m[I 2024-06-22 12:10:52,655]\u001b[0m Trial 76 finished with value: 0.9191585157584227 and parameters: {'n_estimators': 1, 'max_depth': 10, 'min_samples_split': 12, 'min_samples_leaf': 4, 'max_features': 0.3877246750239641}. Best is trial 71 with value: 0.8910107126222636.\u001b[0m\n",
      "\u001b[32m[I 2024-06-22 12:10:52,699]\u001b[0m Trial 77 finished with value: 0.9385343890700202 and parameters: {'n_estimators': 5, 'max_depth': 9, 'min_samples_split': 12, 'min_samples_leaf': 3, 'max_features': 0.17911396040856487}. Best is trial 71 with value: 0.8910107126222636.\u001b[0m\n",
      "\u001b[32m[I 2024-06-22 12:10:52,821]\u001b[0m Trial 78 finished with value: 0.9595870206489675 and parameters: {'n_estimators': 21, 'max_depth': 10, 'min_samples_split': 9, 'min_samples_leaf': 4, 'max_features': 0.39073406178893755}. Best is trial 71 with value: 0.8910107126222636.\u001b[0m\n",
      "\u001b[32m[I 2024-06-22 12:10:52,997]\u001b[0m Trial 79 finished with value: 0.9560937742586555 and parameters: {'n_estimators': 29, 'max_depth': 9, 'min_samples_split': 11, 'min_samples_leaf': 7, 'max_features': 0.4673254272104361}. Best is trial 71 with value: 0.8910107126222636.\u001b[0m\n",
      "\u001b[32m[I 2024-06-22 12:10:53,063]\u001b[0m Trial 80 finished with value: 0.9473063188945815 and parameters: {'n_estimators': 10, 'max_depth': 10, 'min_samples_split': 13, 'min_samples_leaf': 6, 'max_features': 0.35641252919697386}. Best is trial 71 with value: 0.8910107126222636.\u001b[0m\n",
      "\u001b[32m[I 2024-06-22 12:10:53,092]\u001b[0m Trial 81 finished with value: 0.9314857941313461 and parameters: {'n_estimators': 1, 'max_depth': 10, 'min_samples_split': 12, 'min_samples_leaf': 4, 'max_features': 0.2984366721304585}. Best is trial 71 with value: 0.8910107126222636.\u001b[0m\n",
      "\u001b[32m[I 2024-06-22 12:10:53,137]\u001b[0m Trial 82 finished with value: 0.9455208818506444 and parameters: {'n_estimators': 5, 'max_depth': 10, 'min_samples_split': 10, 'min_samples_leaf': 1, 'max_features': 0.26223430443913076}. Best is trial 71 with value: 0.8910107126222636.\u001b[0m\n",
      "\u001b[32m[I 2024-06-22 12:10:53,241]\u001b[0m Trial 83 finished with value: 0.9578481602235678 and parameters: {'n_estimators': 15, 'max_depth': 10, 'min_samples_split': 10, 'min_samples_leaf': 2, 'max_features': 0.4988784641556143}. Best is trial 71 with value: 0.8910107126222636.\u001b[0m\n",
      "\u001b[32m[I 2024-06-22 12:10:53,271]\u001b[0m Trial 84 finished with value: 0.9015991305697874 and parameters: {'n_estimators': 1, 'max_depth': 9, 'min_samples_split': 14, 'min_samples_leaf': 4, 'max_features': 0.22452382650737343}. Best is trial 71 with value: 0.8910107126222636.\u001b[0m\n",
      "\u001b[32m[I 2024-06-22 12:10:53,321]\u001b[0m Trial 85 finished with value: 0.9490607048594939 and parameters: {'n_estimators': 7, 'max_depth': 9, 'min_samples_split': 11, 'min_samples_leaf': 4, 'max_features': 0.2300221814193952}. Best is trial 71 with value: 0.8910107126222636.\u001b[0m\n",
      "\u001b[32m[I 2024-06-22 12:10:53,390]\u001b[0m Trial 86 finished with value: 0.9525850023288308 and parameters: {'n_estimators': 14, 'max_depth': 9, 'min_samples_split': 14, 'min_samples_leaf': 5, 'max_features': 0.1957446513756022}. Best is trial 71 with value: 0.8910107126222636.\u001b[0m\n",
      "\u001b[32m[I 2024-06-22 12:10:53,433]\u001b[0m Trial 87 finished with value: 0.9473063188945815 and parameters: {'n_estimators': 4, 'max_depth': 10, 'min_samples_split': 13, 'min_samples_leaf': 6, 'max_features': 0.3979876082916868}. Best is trial 71 with value: 0.8910107126222636.\u001b[0m\n",
      "\u001b[32m[I 2024-06-22 12:10:53,496]\u001b[0m Trial 88 finished with value: 0.9367644775655954 and parameters: {'n_estimators': 8, 'max_depth': 9, 'min_samples_split': 12, 'min_samples_leaf': 10, 'max_features': 0.43734972295085395}. Best is trial 71 with value: 0.8910107126222636.\u001b[0m\n",
      "\u001b[32m[I 2024-06-22 12:10:53,525]\u001b[0m Trial 89 finished with value: 0.9209284272628475 and parameters: {'n_estimators': 1, 'max_depth': 10, 'min_samples_split': 14, 'min_samples_leaf': 2, 'max_features': 0.21313689276785902}. Best is trial 71 with value: 0.8910107126222636.\u001b[0m\n",
      "\u001b[32m[I 2024-06-22 12:10:53,603]\u001b[0m Trial 90 finished with value: 0.9385343890700202 and parameters: {'n_estimators': 20, 'max_depth': 9, 'min_samples_split': 13, 'min_samples_leaf': 12, 'max_features': 0.15716978801614004}. Best is trial 71 with value: 0.8910107126222636.\u001b[0m\n",
      "\u001b[32m[I 2024-06-22 12:10:53,639]\u001b[0m Trial 91 finished with value: 0.9314857941313461 and parameters: {'n_estimators': 3, 'max_depth': 10, 'min_samples_split': 15, 'min_samples_leaf': 4, 'max_features': 0.26238661587461864}. Best is trial 71 with value: 0.8910107126222636.\u001b[0m\n",
      "\u001b[32m[I 2024-06-22 12:10:53,702]\u001b[0m Trial 92 finished with value: 0.9560937742586555 and parameters: {'n_estimators': 10, 'max_depth': 10, 'min_samples_split': 11, 'min_samples_leaf': 6, 'max_features': 0.301868379977413}. Best is trial 71 with value: 0.8910107126222636.\u001b[0m\n",
      "\u001b[32m[I 2024-06-22 12:10:53,754]\u001b[0m Trial 93 finished with value: 0.9454898307716194 and parameters: {'n_estimators': 6, 'max_depth': 10, 'min_samples_split': 15, 'min_samples_leaf': 5, 'max_features': 0.34063135769733865}. Best is trial 71 with value: 0.8910107126222636.\u001b[0m\n",
      "\u001b[32m[I 2024-06-22 12:10:53,812]\u001b[0m Trial 94 finished with value: 0.9613879832324173 and parameters: {'n_estimators': 3, 'max_depth': 10, 'min_samples_split': 16, 'min_samples_leaf': 3, 'max_features': 0.38304562241671747}. Best is trial 71 with value: 0.8910107126222636.\u001b[0m\n",
      "\u001b[32m[I 2024-06-22 12:10:53,845]\u001b[0m Trial 95 finished with value: 0.9174972830305853 and parameters: {'n_estimators': 1, 'max_depth': 10, 'min_samples_split': 15, 'min_samples_leaf': 2, 'max_features': 0.5921624001837955}. Best is trial 71 with value: 0.8910107126222636.\u001b[0m\n",
      "\u001b[32m[I 2024-06-22 12:10:53,877]\u001b[0m Trial 96 finished with value: 0.9209284272628473 and parameters: {'n_estimators': 1, 'max_depth': 9, 'min_samples_split': 12, 'min_samples_leaf': 7, 'max_features': 0.5551875467546779}. Best is trial 71 with value: 0.8910107126222636.\u001b[0m\n",
      "\u001b[32m[I 2024-06-22 12:10:53,963]\u001b[0m Trial 97 finished with value: 0.9543549138332557 and parameters: {'n_estimators': 9, 'max_depth': 10, 'min_samples_split': 14, 'min_samples_leaf': 2, 'max_features': 0.6043037464349618}. Best is trial 71 with value: 0.8910107126222636.\u001b[0m\n",
      "\u001b[32m[I 2024-06-22 12:10:54,052]\u001b[0m Trial 98 finished with value: 0.956078248719143 and parameters: {'n_estimators': 13, 'max_depth': 9, 'min_samples_split': 13, 'min_samples_leaf': 4, 'max_features': 0.4139304212572492}. Best is trial 71 with value: 0.8910107126222636.\u001b[0m\n",
      "\u001b[32m[I 2024-06-22 12:10:54,108]\u001b[0m Trial 99 finished with value: 0.9508306163639186 and parameters: {'n_estimators': 6, 'max_depth': 10, 'min_samples_split': 10, 'min_samples_leaf': 8, 'max_features': 0.5017452371977187}. Best is trial 71 with value: 0.8910107126222636.\u001b[0m\n"
     ]
    }
   ],
=======
   "execution_count": null,
   "metadata": {},
   "outputs": [],
>>>>>>> Stashed changes
   "source": [
    "# 5. Run a hyperparameter search and log the results\n",
    "import optuna\n",
    "import mlflow\n",
    "from sklearn.ensemble import RandomForestClassifier\n",
    "from sklearn.model_selection import cross_val_score\n",
    "\n",
    "X, y = get_data()\n",
    "\n",
    "def optimize_rf(trial):\n",
    "    \n",
    "    with mlflow.start_run(run_name=f\"optuna-hp-{trial.number}-{datetime.datetime.now().strftime('%Y-%m-%d-%H-%M-%S')}\"):\n",
    "        # Set the hyperparameter values that we want to optimize\n",
    "        n_estimators = trial.suggest_int('n_estimators', 1, 100)\n",
    "        max_depth = trial.suggest_int('max_depth', 2, 10)\n",
    "        min_samples_split = trial.suggest_int('min_samples_split', 2, 20)\n",
    "        min_samples_leaf = trial.suggest_int('min_samples_leaf', 1, 20)\n",
    "        max_features = trial.suggest_float('max_features', 0.1, 1.0)\n",
    "        \n",
    "        \n",
    "        # Create a random forest classifier using the suggested hyperparameters\n",
    "        rf = RandomForestClassifier(n_estimators=n_estimators, max_depth=max_depth,\n",
    "                                    min_samples_split=min_samples_split,\n",
    "                                    min_samples_leaf=min_samples_leaf,\n",
    "                                    max_features=max_features)\n",
    "        \n",
    "        # Use cross-validation to evaluate the performance of the classifier\n",
    "        scores = cross_val_score(rf, X, y, cv=5)\n",
    "        \n",
    "        # Log the hyperparameters and cross-validation scores to MLflow\n",
    "        mlflow.log_param('n_estimators', n_estimators)\n",
    "        mlflow.log_param('max_depth', max_depth)\n",
    "        mlflow.log_param('min_samples_split', min_samples_split)\n",
    "        mlflow.log_param('min_samples_leaf', min_samples_leaf)\n",
    "        mlflow.log_param('max_features', max_features)\n",
    "        mlflow.log_metric('mean_cv_score', scores.mean())\n",
    "    \n",
    "    # Return the mean of the cross-validation scores as the objective value\n",
    "    return scores.mean()\n",
    "\n",
    "# Create an Optuna study\n",
    "study = optuna.create_study()\n",
    "\n",
    "# Run the optimization loop\n",
    "study.optimize(optimize_rf, n_trials=100)\n",
    "\n",
    "# Get the best hyperparameter values\n",
    "best_params = study.best_params"
   ]
  },
  {
   "cell_type": "code",
<<<<<<< Updated upstream
   "execution_count": 6,
   "metadata": {},
   "outputs": [
    {
     "name": "stderr",
     "output_type": "stream",
     "text": [
      "Successfully registered model 'random_forest_model'.\n",
      "2024/06/22 12:12:59 INFO mlflow.tracking._model_registry.client: Waiting up to 300 seconds for model version to finish creation.                     Model name: random_forest_model, version 1\n",
      "Created version '1' of model 'random_forest_model'.\n"
     ]
    }
   ],
=======
   "execution_count": null,
   "metadata": {},
   "outputs": [],
>>>>>>> Stashed changes
   "source": [
    "# 6. Register a model version using the best hyperparameters\n",
    "\n",
    "with mlflow.start_run(run_name=f\"optuna-hp-final\"):\n",
    "    # Create the final model using the best hyperparameters\n",
    "    final_model = RandomForestClassifier(**best_params)\n",
    "\n",
    "    # Train the final model on the entire dataset\n",
    "    final_model.fit(X, y)\n",
    "\n",
    "    # Log the model to the \"Models\" section\n",
    "    mlflow.sklearn.log_model(final_model, \"random_forest_model\", registered_model_name=\"random_forest_model\")\n",
    "\n"
   ]
  },
  {
   "cell_type": "code",
<<<<<<< Updated upstream
   "execution_count": 7,
   "metadata": {},
   "outputs": [
    {
     "data": {
      "text/plain": [
       "array([0, 0, 0, 1, 0])"
      ]
     },
     "execution_count": 7,
     "metadata": {},
     "output_type": "execute_result"
    }
   ],
=======
   "execution_count": null,
   "metadata": {},
   "outputs": [],
>>>>>>> Stashed changes
   "source": [
    "# 7. Retrieve a model version and use it for prediction\n",
    "\n",
    "import mlflow.pyfunc\n",
    "\n",
    "model_name = \"random_forest_model\"\n",
    "model_version = 1\n",
    "\n",
    "model = mlflow.pyfunc.load_model(\n",
    "    model_uri=f\"models:/{model_name}/{model_version}\"\n",
    ")\n",
    "\n",
    "model.predict(X[:5])"
   ]
  },
  {
   "cell_type": "code",
<<<<<<< Updated upstream
   "execution_count": 10,
   "metadata": {},
   "outputs": [
    {
     "data": {
      "text/plain": [
       "array([0, 0, 0, 1, 0, 0, 0, 0, 0, 0])"
      ]
     },
     "execution_count": 10,
     "metadata": {},
     "output_type": "execute_result"
    }
   ],
   "source": [
    "import mlflow\n",
    "logged_model = 'runs:/49f8d4244c2b40cd83566f071924755a/random_forest_model'\n",
=======
   "execution_count": null,
   "metadata": {},
   "outputs": [],
   "source": [
    "import mlflow\n",
    "logged_model = 'runs:/26c840f435be48adbf4c2dfa720ec680/random_forest_model'\n",
>>>>>>> Stashed changes
    "\n",
    "# Load model as a PyFuncModel.\n",
    "loaded_model = mlflow.pyfunc.load_model(logged_model)\n",
    "\n",
    "# Predict on a Pandas DataFrame.\n",
    "import pandas as pd\n",
    "loaded_model.predict(X[:10])"
   ]
  },
  {
   "cell_type": "code",
   "execution_count": null,
   "metadata": {},
   "outputs": [],
   "source": [
    "# EXTRA: Deploy the model to a REST API endpoint with mlflow models serve\n",
    "# Set up env variables\n",
    "# export $(grep -v '^#' .env | xargs)\n",
    "# export MLFLOW_TRACKING_URI=http://localhost:5000"
   ]
  },
  {
   "cell_type": "code",
   "execution_count": null,
   "metadata": {},
   "outputs": [],
   "source": [
    "# Using python_function backend\n",
    "# mlflow models serve --model-uri s3://mlflow/1/e18a1a1695e844258403040ae6e6cb4b/artifacts/random_forest_model --env-manager=local -p 5002\n",
    "# Try it out with curl\n",
    "\n",
    "# curl -d '{\"inputs\":[[ 1.48722421,  1.02475923,  6.03974507, -1.72832624]]}' -H 'Content-Type: application/json'  localhost:5002/invocations"
   ]
  },
  {
   "cell_type": "code",
   "execution_count": null,
   "metadata": {},
   "outputs": [],
   "source": [
    "# Using MLServer backend\n",
    "# mlflow models serve --model-uri s3://mlflow/1/e18a1a1695e844258403040ae6e6cb4b/artifacts/random_forest_model --env-manager=local -p 5002 --enable-mlserver\n",
    "# Try it out with curl\n",
    "\n",
    "# curl -d '{\"inputs\":[[ 1.48722421,  1.02475923,  6.03974507, -1.72832624]]}' -H 'Content-Type: application/json'  localhost:5002/invocations\n",
    "\n"
   ]
  },
  {
   "cell_type": "code",
   "execution_count": null,
   "metadata": {},
   "outputs": [],
   "source": [
    "# Undeploy mlflow docker compose\n",
    "# docker-compose down"
   ]
  }
 ],
 "metadata": {
  "kernelspec": {
   "display_name": "productionalization",
   "language": "python",
   "name": "python3"
  },
  "language_info": {
   "codemirror_mode": {
    "name": "ipython",
    "version": 3
   },
   "file_extension": ".py",
   "mimetype": "text/x-python",
   "name": "python",
   "nbconvert_exporter": "python",
   "pygments_lexer": "ipython3",
   "version": "3.10.14"
  },
  "orig_nbformat": 4,
  "vscode": {
   "interpreter": {
    "hash": "5ed29f95de7cc8ac0f18a32ccae5fbddd3dba9010e060d505f2ebe31fc64f080"
   }
  }
 },
 "nbformat": 4,
 "nbformat_minor": 2
}

{
  "nbformat": 4,
  "nbformat_minor": 0,
  "metadata": {
    "colab": {
      "provenance": []
    },
    "kernelspec": {
      "name": "python3",
      "display_name": "Python 3"
    },
    "language_info": {
      "name": "python"
    }
  },
  "cells": [
    {
      "cell_type": "markdown",
      "source": [
        "# ENTREGABLE 4"
      ],
      "metadata": {
        "id": "mYJdsFxinuN5"
      }
    },
    {
      "cell_type": "markdown",
      "source": [
        "# INSTRUCCIONES"
      ],
      "metadata": {
        "id": "IIGQAc67cj6O"
      }
    },
    {
      "cell_type": "markdown",
      "source": [
        "Utilizar el archivo CSV (`dataset_banco_clean.csv`) con 45189 filas y 17 columnas y aplicar las técnicas de normalización del entregable 3."
      ],
      "metadata": {
        "id": "t3VhhDXrcfBJ"
      }
    },
    {
      "cell_type": "code",
      "source": [
        "# imports\n",
        "import pandas as pd\n",
        "import numpy as np\n",
        "from sklearn.model_selection import train_test_split\n",
        "from sklearn.preprocessing import MinMaxScaler\n",
        "from sklearn.linear_model import LogisticRegression\n",
        "from sklearn.tree import DecisionTreeClassifier\n",
        "from sklearn.ensemble import RandomForestClassifier, GradientBoostingClassifier\n",
        "from sklearn.metrics import accuracy_score, confusion_matrix, classification_report\n"
      ],
      "metadata": {
        "id": "LDnXEh9vn2GX"
      },
      "execution_count": null,
      "outputs": []
    },
    {
      "cell_type": "code",
      "source": [
        "# Lectura\n",
        "from google.colab import drive\n",
        "import pandas as pd\n",
        "\n",
        "drive.mount('/gdrive')\n",
        "\n",
        "ruta = \"/gdrive/My Drive/ejercicios_ml/clasificacion/dataset_banco_clean.csv\"\n",
        "data = pd.read_csv(ruta)"
      ],
      "metadata": {
        "id": "2C6TxrrjoLca",
        "colab": {
          "base_uri": "https://localhost:8080/"
        },
        "outputId": "e81b9a94-cdb9-4f03-af64-082087be9912"
      },
      "execution_count": null,
      "outputs": [
        {
          "output_type": "stream",
          "name": "stdout",
          "text": [
            "Drive already mounted at /gdrive; to attempt to forcibly remount, call drive.mount(\"/gdrive\", force_remount=True).\n"
          ]
        }
      ]
    },
    {
      "cell_type": "code",
      "source": [
        "print(data.shape)\n",
        "data.head()"
      ],
      "metadata": {
        "colab": {
          "base_uri": "https://localhost:8080/",
          "height": 221
        },
        "id": "feDkzND4QUYV",
        "outputId": "5b710e63-0540-4e6b-b2fa-e28055b48887"
      },
      "execution_count": null,
      "outputs": [
        {
          "output_type": "stream",
          "name": "stdout",
          "text": [
            "(45189, 17)\n"
          ]
        },
        {
          "output_type": "execute_result",
          "data": {
            "text/plain": [
              "   age           job  marital  education default  balance housing loan  \\\n",
              "0   58    management  married   tertiary      no   2143.0     yes   no   \n",
              "1   44    technician   single  secondary      no     29.0     yes   no   \n",
              "2   33  entrepreneur  married  secondary      no      2.0     yes  yes   \n",
              "3   47   blue-collar  married    unknown      no   1506.0     yes   no   \n",
              "4   33       unknown   single    unknown      no      1.0      no   no   \n",
              "\n",
              "   contact  day month  duration  campaign  pdays  previous poutcome   y  \n",
              "0  unknown    5   may     261.0         1   -1.0         0  unknown  no  \n",
              "1  unknown    5   may     151.0         1   -1.0         0  unknown  no  \n",
              "2  unknown    5   may      76.0         1   -1.0         0  unknown  no  \n",
              "3  unknown    5   may      92.0         1   -1.0         0  unknown  no  \n",
              "4  unknown    5   may     198.0         1   -1.0         0  unknown  no  "
            ],
            "text/html": [
              "\n",
              "  <div id=\"df-32e976c3-4564-4b29-9afa-de0ee6a8259e\" class=\"colab-df-container\">\n",
              "    <div>\n",
              "<style scoped>\n",
              "    .dataframe tbody tr th:only-of-type {\n",
              "        vertical-align: middle;\n",
              "    }\n",
              "\n",
              "    .dataframe tbody tr th {\n",
              "        vertical-align: top;\n",
              "    }\n",
              "\n",
              "    .dataframe thead th {\n",
              "        text-align: right;\n",
              "    }\n",
              "</style>\n",
              "<table border=\"1\" class=\"dataframe\">\n",
              "  <thead>\n",
              "    <tr style=\"text-align: right;\">\n",
              "      <th></th>\n",
              "      <th>age</th>\n",
              "      <th>job</th>\n",
              "      <th>marital</th>\n",
              "      <th>education</th>\n",
              "      <th>default</th>\n",
              "      <th>balance</th>\n",
              "      <th>housing</th>\n",
              "      <th>loan</th>\n",
              "      <th>contact</th>\n",
              "      <th>day</th>\n",
              "      <th>month</th>\n",
              "      <th>duration</th>\n",
              "      <th>campaign</th>\n",
              "      <th>pdays</th>\n",
              "      <th>previous</th>\n",
              "      <th>poutcome</th>\n",
              "      <th>y</th>\n",
              "    </tr>\n",
              "  </thead>\n",
              "  <tbody>\n",
              "    <tr>\n",
              "      <th>0</th>\n",
              "      <td>58</td>\n",
              "      <td>management</td>\n",
              "      <td>married</td>\n",
              "      <td>tertiary</td>\n",
              "      <td>no</td>\n",
              "      <td>2143.0</td>\n",
              "      <td>yes</td>\n",
              "      <td>no</td>\n",
              "      <td>unknown</td>\n",
              "      <td>5</td>\n",
              "      <td>may</td>\n",
              "      <td>261.0</td>\n",
              "      <td>1</td>\n",
              "      <td>-1.0</td>\n",
              "      <td>0</td>\n",
              "      <td>unknown</td>\n",
              "      <td>no</td>\n",
              "    </tr>\n",
              "    <tr>\n",
              "      <th>1</th>\n",
              "      <td>44</td>\n",
              "      <td>technician</td>\n",
              "      <td>single</td>\n",
              "      <td>secondary</td>\n",
              "      <td>no</td>\n",
              "      <td>29.0</td>\n",
              "      <td>yes</td>\n",
              "      <td>no</td>\n",
              "      <td>unknown</td>\n",
              "      <td>5</td>\n",
              "      <td>may</td>\n",
              "      <td>151.0</td>\n",
              "      <td>1</td>\n",
              "      <td>-1.0</td>\n",
              "      <td>0</td>\n",
              "      <td>unknown</td>\n",
              "      <td>no</td>\n",
              "    </tr>\n",
              "    <tr>\n",
              "      <th>2</th>\n",
              "      <td>33</td>\n",
              "      <td>entrepreneur</td>\n",
              "      <td>married</td>\n",
              "      <td>secondary</td>\n",
              "      <td>no</td>\n",
              "      <td>2.0</td>\n",
              "      <td>yes</td>\n",
              "      <td>yes</td>\n",
              "      <td>unknown</td>\n",
              "      <td>5</td>\n",
              "      <td>may</td>\n",
              "      <td>76.0</td>\n",
              "      <td>1</td>\n",
              "      <td>-1.0</td>\n",
              "      <td>0</td>\n",
              "      <td>unknown</td>\n",
              "      <td>no</td>\n",
              "    </tr>\n",
              "    <tr>\n",
              "      <th>3</th>\n",
              "      <td>47</td>\n",
              "      <td>blue-collar</td>\n",
              "      <td>married</td>\n",
              "      <td>unknown</td>\n",
              "      <td>no</td>\n",
              "      <td>1506.0</td>\n",
              "      <td>yes</td>\n",
              "      <td>no</td>\n",
              "      <td>unknown</td>\n",
              "      <td>5</td>\n",
              "      <td>may</td>\n",
              "      <td>92.0</td>\n",
              "      <td>1</td>\n",
              "      <td>-1.0</td>\n",
              "      <td>0</td>\n",
              "      <td>unknown</td>\n",
              "      <td>no</td>\n",
              "    </tr>\n",
              "    <tr>\n",
              "      <th>4</th>\n",
              "      <td>33</td>\n",
              "      <td>unknown</td>\n",
              "      <td>single</td>\n",
              "      <td>unknown</td>\n",
              "      <td>no</td>\n",
              "      <td>1.0</td>\n",
              "      <td>no</td>\n",
              "      <td>no</td>\n",
              "      <td>unknown</td>\n",
              "      <td>5</td>\n",
              "      <td>may</td>\n",
              "      <td>198.0</td>\n",
              "      <td>1</td>\n",
              "      <td>-1.0</td>\n",
              "      <td>0</td>\n",
              "      <td>unknown</td>\n",
              "      <td>no</td>\n",
              "    </tr>\n",
              "  </tbody>\n",
              "</table>\n",
              "</div>\n",
              "    <div class=\"colab-df-buttons\">\n",
              "\n",
              "  <div class=\"colab-df-container\">\n",
              "    <button class=\"colab-df-convert\" onclick=\"convertToInteractive('df-32e976c3-4564-4b29-9afa-de0ee6a8259e')\"\n",
              "            title=\"Convert this dataframe to an interactive table.\"\n",
              "            style=\"display:none;\">\n",
              "\n",
              "  <svg xmlns=\"http://www.w3.org/2000/svg\" height=\"24px\" viewBox=\"0 -960 960 960\">\n",
              "    <path d=\"M120-120v-720h720v720H120Zm60-500h600v-160H180v160Zm220 220h160v-160H400v160Zm0 220h160v-160H400v160ZM180-400h160v-160H180v160Zm440 0h160v-160H620v160ZM180-180h160v-160H180v160Zm440 0h160v-160H620v160Z\"/>\n",
              "  </svg>\n",
              "    </button>\n",
              "\n",
              "  <style>\n",
              "    .colab-df-container {\n",
              "      display:flex;\n",
              "      gap: 12px;\n",
              "    }\n",
              "\n",
              "    .colab-df-convert {\n",
              "      background-color: #E8F0FE;\n",
              "      border: none;\n",
              "      border-radius: 50%;\n",
              "      cursor: pointer;\n",
              "      display: none;\n",
              "      fill: #1967D2;\n",
              "      height: 32px;\n",
              "      padding: 0 0 0 0;\n",
              "      width: 32px;\n",
              "    }\n",
              "\n",
              "    .colab-df-convert:hover {\n",
              "      background-color: #E2EBFA;\n",
              "      box-shadow: 0px 1px 2px rgba(60, 64, 67, 0.3), 0px 1px 3px 1px rgba(60, 64, 67, 0.15);\n",
              "      fill: #174EA6;\n",
              "    }\n",
              "\n",
              "    .colab-df-buttons div {\n",
              "      margin-bottom: 4px;\n",
              "    }\n",
              "\n",
              "    [theme=dark] .colab-df-convert {\n",
              "      background-color: #3B4455;\n",
              "      fill: #D2E3FC;\n",
              "    }\n",
              "\n",
              "    [theme=dark] .colab-df-convert:hover {\n",
              "      background-color: #434B5C;\n",
              "      box-shadow: 0px 1px 3px 1px rgba(0, 0, 0, 0.15);\n",
              "      filter: drop-shadow(0px 1px 2px rgba(0, 0, 0, 0.3));\n",
              "      fill: #FFFFFF;\n",
              "    }\n",
              "  </style>\n",
              "\n",
              "    <script>\n",
              "      const buttonEl =\n",
              "        document.querySelector('#df-32e976c3-4564-4b29-9afa-de0ee6a8259e button.colab-df-convert');\n",
              "      buttonEl.style.display =\n",
              "        google.colab.kernel.accessAllowed ? 'block' : 'none';\n",
              "\n",
              "      async function convertToInteractive(key) {\n",
              "        const element = document.querySelector('#df-32e976c3-4564-4b29-9afa-de0ee6a8259e');\n",
              "        const dataTable =\n",
              "          await google.colab.kernel.invokeFunction('convertToInteractive',\n",
              "                                                    [key], {});\n",
              "        if (!dataTable) return;\n",
              "\n",
              "        const docLinkHtml = 'Like what you see? Visit the ' +\n",
              "          '<a target=\"_blank\" href=https://colab.research.google.com/notebooks/data_table.ipynb>data table notebook</a>'\n",
              "          + ' to learn more about interactive tables.';\n",
              "        element.innerHTML = '';\n",
              "        dataTable['output_type'] = 'display_data';\n",
              "        await google.colab.output.renderOutput(dataTable, element);\n",
              "        const docLink = document.createElement('div');\n",
              "        docLink.innerHTML = docLinkHtml;\n",
              "        element.appendChild(docLink);\n",
              "      }\n",
              "    </script>\n",
              "  </div>\n",
              "\n",
              "\n",
              "<div id=\"df-23795f38-5a79-41fd-a555-8d00ad0b90cd\">\n",
              "  <button class=\"colab-df-quickchart\" onclick=\"quickchart('df-23795f38-5a79-41fd-a555-8d00ad0b90cd')\"\n",
              "            title=\"Suggest charts\"\n",
              "            style=\"display:none;\">\n",
              "\n",
              "<svg xmlns=\"http://www.w3.org/2000/svg\" height=\"24px\"viewBox=\"0 0 24 24\"\n",
              "     width=\"24px\">\n",
              "    <g>\n",
              "        <path d=\"M19 3H5c-1.1 0-2 .9-2 2v14c0 1.1.9 2 2 2h14c1.1 0 2-.9 2-2V5c0-1.1-.9-2-2-2zM9 17H7v-7h2v7zm4 0h-2V7h2v10zm4 0h-2v-4h2v4z\"/>\n",
              "    </g>\n",
              "</svg>\n",
              "  </button>\n",
              "\n",
              "<style>\n",
              "  .colab-df-quickchart {\n",
              "      --bg-color: #E8F0FE;\n",
              "      --fill-color: #1967D2;\n",
              "      --hover-bg-color: #E2EBFA;\n",
              "      --hover-fill-color: #174EA6;\n",
              "      --disabled-fill-color: #AAA;\n",
              "      --disabled-bg-color: #DDD;\n",
              "  }\n",
              "\n",
              "  [theme=dark] .colab-df-quickchart {\n",
              "      --bg-color: #3B4455;\n",
              "      --fill-color: #D2E3FC;\n",
              "      --hover-bg-color: #434B5C;\n",
              "      --hover-fill-color: #FFFFFF;\n",
              "      --disabled-bg-color: #3B4455;\n",
              "      --disabled-fill-color: #666;\n",
              "  }\n",
              "\n",
              "  .colab-df-quickchart {\n",
              "    background-color: var(--bg-color);\n",
              "    border: none;\n",
              "    border-radius: 50%;\n",
              "    cursor: pointer;\n",
              "    display: none;\n",
              "    fill: var(--fill-color);\n",
              "    height: 32px;\n",
              "    padding: 0;\n",
              "    width: 32px;\n",
              "  }\n",
              "\n",
              "  .colab-df-quickchart:hover {\n",
              "    background-color: var(--hover-bg-color);\n",
              "    box-shadow: 0 1px 2px rgba(60, 64, 67, 0.3), 0 1px 3px 1px rgba(60, 64, 67, 0.15);\n",
              "    fill: var(--button-hover-fill-color);\n",
              "  }\n",
              "\n",
              "  .colab-df-quickchart-complete:disabled,\n",
              "  .colab-df-quickchart-complete:disabled:hover {\n",
              "    background-color: var(--disabled-bg-color);\n",
              "    fill: var(--disabled-fill-color);\n",
              "    box-shadow: none;\n",
              "  }\n",
              "\n",
              "  .colab-df-spinner {\n",
              "    border: 2px solid var(--fill-color);\n",
              "    border-color: transparent;\n",
              "    border-bottom-color: var(--fill-color);\n",
              "    animation:\n",
              "      spin 1s steps(1) infinite;\n",
              "  }\n",
              "\n",
              "  @keyframes spin {\n",
              "    0% {\n",
              "      border-color: transparent;\n",
              "      border-bottom-color: var(--fill-color);\n",
              "      border-left-color: var(--fill-color);\n",
              "    }\n",
              "    20% {\n",
              "      border-color: transparent;\n",
              "      border-left-color: var(--fill-color);\n",
              "      border-top-color: var(--fill-color);\n",
              "    }\n",
              "    30% {\n",
              "      border-color: transparent;\n",
              "      border-left-color: var(--fill-color);\n",
              "      border-top-color: var(--fill-color);\n",
              "      border-right-color: var(--fill-color);\n",
              "    }\n",
              "    40% {\n",
              "      border-color: transparent;\n",
              "      border-right-color: var(--fill-color);\n",
              "      border-top-color: var(--fill-color);\n",
              "    }\n",
              "    60% {\n",
              "      border-color: transparent;\n",
              "      border-right-color: var(--fill-color);\n",
              "    }\n",
              "    80% {\n",
              "      border-color: transparent;\n",
              "      border-right-color: var(--fill-color);\n",
              "      border-bottom-color: var(--fill-color);\n",
              "    }\n",
              "    90% {\n",
              "      border-color: transparent;\n",
              "      border-bottom-color: var(--fill-color);\n",
              "    }\n",
              "  }\n",
              "</style>\n",
              "\n",
              "  <script>\n",
              "    async function quickchart(key) {\n",
              "      const quickchartButtonEl =\n",
              "        document.querySelector('#' + key + ' button');\n",
              "      quickchartButtonEl.disabled = true;  // To prevent multiple clicks.\n",
              "      quickchartButtonEl.classList.add('colab-df-spinner');\n",
              "      try {\n",
              "        const charts = await google.colab.kernel.invokeFunction(\n",
              "            'suggestCharts', [key], {});\n",
              "      } catch (error) {\n",
              "        console.error('Error during call to suggestCharts:', error);\n",
              "      }\n",
              "      quickchartButtonEl.classList.remove('colab-df-spinner');\n",
              "      quickchartButtonEl.classList.add('colab-df-quickchart-complete');\n",
              "    }\n",
              "    (() => {\n",
              "      let quickchartButtonEl =\n",
              "        document.querySelector('#df-23795f38-5a79-41fd-a555-8d00ad0b90cd button');\n",
              "      quickchartButtonEl.style.display =\n",
              "        google.colab.kernel.accessAllowed ? 'block' : 'none';\n",
              "    })();\n",
              "  </script>\n",
              "</div>\n",
              "    </div>\n",
              "  </div>\n"
            ],
            "application/vnd.google.colaboratory.intrinsic+json": {
              "type": "dataframe",
              "variable_name": "data",
              "summary": "{\n  \"name\": \"data\",\n  \"rows\": 45189,\n  \"fields\": [\n    {\n      \"column\": \"age\",\n      \"properties\": {\n        \"dtype\": \"number\",\n        \"std\": 10,\n        \"min\": 18,\n        \"max\": 95,\n        \"num_unique_values\": 77,\n        \"samples\": [\n          35,\n          34,\n          57\n        ],\n        \"semantic_type\": \"\",\n        \"description\": \"\"\n      }\n    },\n    {\n      \"column\": \"job\",\n      \"properties\": {\n        \"dtype\": \"category\",\n        \"num_unique_values\": 12,\n        \"samples\": [\n          \"housemaid\",\n          \"unemployed\",\n          \"management\"\n        ],\n        \"semantic_type\": \"\",\n        \"description\": \"\"\n      }\n    },\n    {\n      \"column\": \"marital\",\n      \"properties\": {\n        \"dtype\": \"category\",\n        \"num_unique_values\": 3,\n        \"samples\": [\n          \"married\",\n          \"single\",\n          \"divorced\"\n        ],\n        \"semantic_type\": \"\",\n        \"description\": \"\"\n      }\n    },\n    {\n      \"column\": \"education\",\n      \"properties\": {\n        \"dtype\": \"category\",\n        \"num_unique_values\": 4,\n        \"samples\": [\n          \"secondary\",\n          \"primary\",\n          \"tertiary\"\n        ],\n        \"semantic_type\": \"\",\n        \"description\": \"\"\n      }\n    },\n    {\n      \"column\": \"default\",\n      \"properties\": {\n        \"dtype\": \"category\",\n        \"num_unique_values\": 2,\n        \"samples\": [\n          \"yes\",\n          \"no\"\n        ],\n        \"semantic_type\": \"\",\n        \"description\": \"\"\n      }\n    },\n    {\n      \"column\": \"balance\",\n      \"properties\": {\n        \"dtype\": \"number\",\n        \"std\": 3924.370039324605,\n        \"min\": -8019.0,\n        \"max\": 527532.0,\n        \"num_unique_values\": 7167,\n        \"samples\": [\n          3705.0,\n          215.0\n        ],\n        \"semantic_type\": \"\",\n        \"description\": \"\"\n      }\n    },\n    {\n      \"column\": \"housing\",\n      \"properties\": {\n        \"dtype\": \"category\",\n        \"num_unique_values\": 2,\n        \"samples\": [\n          \"no\",\n          \"yes\"\n        ],\n        \"semantic_type\": \"\",\n        \"description\": \"\"\n      }\n    },\n    {\n      \"column\": \"loan\",\n      \"properties\": {\n        \"dtype\": \"category\",\n        \"num_unique_values\": 2,\n        \"samples\": [\n          \"yes\",\n          \"no\"\n        ],\n        \"semantic_type\": \"\",\n        \"description\": \"\"\n      }\n    },\n    {\n      \"column\": \"contact\",\n      \"properties\": {\n        \"dtype\": \"category\",\n        \"num_unique_values\": 3,\n        \"samples\": [\n          \"unknown\",\n          \"cellular\"\n        ],\n        \"semantic_type\": \"\",\n        \"description\": \"\"\n      }\n    },\n    {\n      \"column\": \"day\",\n      \"properties\": {\n        \"dtype\": \"number\",\n        \"std\": 8,\n        \"min\": 1,\n        \"max\": 31,\n        \"num_unique_values\": 31,\n        \"samples\": [\n          1,\n          27\n        ],\n        \"semantic_type\": \"\",\n        \"description\": \"\"\n      }\n    },\n    {\n      \"column\": \"month\",\n      \"properties\": {\n        \"dtype\": \"category\",\n        \"num_unique_values\": 12,\n        \"samples\": [\n          \"apr\",\n          \"mar\"\n        ],\n        \"semantic_type\": \"\",\n        \"description\": \"\"\n      }\n    },\n    {\n      \"column\": \"duration\",\n      \"properties\": {\n        \"dtype\": \"number\",\n        \"std\": 257.34960068288666,\n        \"min\": 1.0,\n        \"max\": 4918.0,\n        \"num_unique_values\": 1570,\n        \"samples\": [\n          1100.0,\n          1207.0\n        ],\n        \"semantic_type\": \"\",\n        \"description\": \"\"\n      }\n    },\n    {\n      \"column\": \"campaign\",\n      \"properties\": {\n        \"dtype\": \"number\",\n        \"std\": 3,\n        \"min\": 1,\n        \"max\": 63,\n        \"num_unique_values\": 48,\n        \"samples\": [\n          41,\n          27\n        ],\n        \"semantic_type\": \"\",\n        \"description\": \"\"\n      }\n    },\n    {\n      \"column\": \"pdays\",\n      \"properties\": {\n        \"dtype\": \"number\",\n        \"std\": 100.10729459348846,\n        \"min\": -1.0,\n        \"max\": 871.0,\n        \"num_unique_values\": 559,\n        \"samples\": [\n          249.0,\n          551.0\n        ],\n        \"semantic_type\": \"\",\n        \"description\": \"\"\n      }\n    },\n    {\n      \"column\": \"previous\",\n      \"properties\": {\n        \"dtype\": \"number\",\n        \"std\": 1,\n        \"min\": 0,\n        \"max\": 58,\n        \"num_unique_values\": 40,\n        \"samples\": [\n          37,\n          14\n        ],\n        \"semantic_type\": \"\",\n        \"description\": \"\"\n      }\n    },\n    {\n      \"column\": \"poutcome\",\n      \"properties\": {\n        \"dtype\": \"category\",\n        \"num_unique_values\": 4,\n        \"samples\": [\n          \"failure\",\n          \"success\"\n        ],\n        \"semantic_type\": \"\",\n        \"description\": \"\"\n      }\n    },\n    {\n      \"column\": \"y\",\n      \"properties\": {\n        \"dtype\": \"category\",\n        \"num_unique_values\": 2,\n        \"samples\": [\n          \"yes\",\n          \"no\"\n        ],\n        \"semantic_type\": \"\",\n        \"description\": \"\"\n      }\n    }\n  ]\n}"
            }
          },
          "metadata": {},
          "execution_count": 48
        }
      ]
    },
    {
      "cell_type": "markdown",
      "source": [
        "# Objetivo\n",
        "\n",
        "Generar un model de clasificación capaz de predecir la clase de flor en función de las carácterísticas del dataset\n",
        "\n",
        "* Aplicar las técnicas oportunas de procesamiento de datos\n",
        "\n",
        "* Generar split de los datos\n",
        "\n",
        "* Valorar diferentes modelos de clasificación\n",
        "\n",
        "* Comparación entre modelos\n",
        "\n",
        "* Ensemble\n",
        "\n",
        "* Métricas\n",
        "\n",
        "* Conclusiones finales"
      ],
      "metadata": {
        "id": "suOncPeIo2Ln"
      }
    },
    {
      "cell_type": "markdown",
      "source": [
        "# Preprocesamiento de datos\n",
        "\n",
        "1. Manejo de datos nulos\n",
        "2. Codificación de variables categoricas\n",
        "3. Normalización y estandarización\n",
        "4. Manejo de outliers\n"
      ],
      "metadata": {
        "id": "j2PGzN9SpfcP"
      }
    },
    {
      "cell_type": "code",
      "source": [
        "# Comprobar valores nulos\n",
        "print(data.isnull().sum())\n",
        "\n",
        "# Información general del dataset\n",
        "data.info()\n"
      ],
      "metadata": {
        "colab": {
          "base_uri": "https://localhost:8080/"
        },
        "id": "tc2trobl_NOV",
        "outputId": "3849b546-da1b-4d2a-9972-c35bfe99f77b"
      },
      "execution_count": null,
      "outputs": [
        {
          "output_type": "stream",
          "name": "stdout",
          "text": [
            "age          0\n",
            "job          0\n",
            "marital      0\n",
            "education    0\n",
            "default      0\n",
            "balance      0\n",
            "housing      0\n",
            "loan         0\n",
            "contact      0\n",
            "day          0\n",
            "month        0\n",
            "duration     0\n",
            "campaign     0\n",
            "pdays        0\n",
            "previous     0\n",
            "poutcome     0\n",
            "y            0\n",
            "dtype: int64\n",
            "<class 'pandas.core.frame.DataFrame'>\n",
            "RangeIndex: 45189 entries, 0 to 45188\n",
            "Data columns (total 17 columns):\n",
            " #   Column     Non-Null Count  Dtype  \n",
            "---  ------     --------------  -----  \n",
            " 0   age        45189 non-null  int64  \n",
            " 1   job        45189 non-null  object \n",
            " 2   marital    45189 non-null  object \n",
            " 3   education  45189 non-null  object \n",
            " 4   default    45189 non-null  object \n",
            " 5   balance    45189 non-null  float64\n",
            " 6   housing    45189 non-null  object \n",
            " 7   loan       45189 non-null  object \n",
            " 8   contact    45189 non-null  object \n",
            " 9   day        45189 non-null  int64  \n",
            " 10  month      45189 non-null  object \n",
            " 11  duration   45189 non-null  float64\n",
            " 12  campaign   45189 non-null  int64  \n",
            " 13  pdays      45189 non-null  float64\n",
            " 14  previous   45189 non-null  int64  \n",
            " 15  poutcome   45189 non-null  object \n",
            " 16  y          45189 non-null  object \n",
            "dtypes: float64(3), int64(4), object(10)\n",
            "memory usage: 5.9+ MB\n"
          ]
        }
      ]
    },
    {
      "cell_type": "markdown",
      "source": [
        "Dado que el conjunto de datos no contiene valores nulos, podemos proceder directamente con otras técnicas de preprocesamiento"
      ],
      "metadata": {
        "id": "q0WWQMt9CPYT"
      }
    },
    {
      "cell_type": "markdown",
      "source": [
        "Verificar valores faltantes"
      ],
      "metadata": {
        "id": "cFJUU-YII3dI"
      }
    },
    {
      "cell_type": "code",
      "source": [
        "# Verificar valores faltantes por columna\n",
        "missing_values = data.isnull().sum()\n",
        "print(missing_values)\n"
      ],
      "metadata": {
        "colab": {
          "base_uri": "https://localhost:8080/"
        },
        "id": "ymKayT42I2mx",
        "outputId": "513762dd-d25d-4c65-b277-abdc510f0ad5"
      },
      "execution_count": null,
      "outputs": [
        {
          "output_type": "stream",
          "name": "stdout",
          "text": [
            "age          0\n",
            "job          0\n",
            "marital      0\n",
            "education    0\n",
            "default      0\n",
            "balance      0\n",
            "housing      0\n",
            "loan         0\n",
            "contact      0\n",
            "day          0\n",
            "month        0\n",
            "duration     0\n",
            "campaign     0\n",
            "pdays        0\n",
            "previous     0\n",
            "poutcome     0\n",
            "y            0\n",
            "dtype: int64\n"
          ]
        }
      ]
    },
    {
      "cell_type": "markdown",
      "source": [
        "Aunque has verificado que no hay valores nulos en tu conjunto de datos, es posible que haya otros tipos de datos faltantes que no sean NaN, como cadenas vacías (''), valores marcados como \"unknown\" o cualquier otro tipo de marcador que no se interprete como NaN por pandas"
      ],
      "metadata": {
        "id": "Cbq84XMhJSoz"
      }
    },
    {
      "cell_type": "code",
      "source": [
        "for col in data.columns:\n",
        "    print(f'Columna: {col}')\n",
        "    print(data[col].unique())\n",
        "    print()\n"
      ],
      "metadata": {
        "colab": {
          "base_uri": "https://localhost:8080/"
        },
        "id": "JP3gPQKHJTZn",
        "outputId": "2b38397d-a466-4c37-951e-a9677f79c9c0"
      },
      "execution_count": null,
      "outputs": [
        {
          "output_type": "stream",
          "name": "stdout",
          "text": [
            "Columna: age\n",
            "[58 44 33 47 35 28 42 43 41 29 57 51 45 60 56 32 25 40 39 52 46 36 49 59\n",
            " 53 37 50 54 55 48 24 38 31 30 27 34 23 26 61 22 21 20 66 62 83 75 67 70\n",
            " 65 68 64 69 72 71 19 76 85 63 90 82 73 74 78 80 94 79 77 86 95 81 18 89\n",
            " 84 87 92 93 88]\n",
            "\n",
            "Columna: job\n",
            "['management' 'technician' 'entrepreneur' 'blue-collar' 'unknown'\n",
            " 'retired' 'administrative' 'services' 'self-employed' 'unemployed'\n",
            " 'housemaid' 'student']\n",
            "\n",
            "Columna: marital\n",
            "['married' 'single' 'divorced']\n",
            "\n",
            "Columna: education\n",
            "['tertiary' 'secondary' 'unknown' 'primary']\n",
            "\n",
            "Columna: default\n",
            "['no' 'yes']\n",
            "\n",
            "Columna: balance\n",
            "[2.1430e+03 2.9000e+01 2.0000e+00 ... 8.2050e+03 1.4204e+04 1.6353e+04]\n",
            "\n",
            "Columna: housing\n",
            "['yes' 'no']\n",
            "\n",
            "Columna: loan\n",
            "['no' 'yes']\n",
            "\n",
            "Columna: contact\n",
            "['unknown' 'cellular' 'telephone']\n",
            "\n",
            "Columna: day\n",
            "[ 5  6  8  7 16  9 12 13 14 15 19 20 21 23 26 27 28 29 30  2  3  4 11 17\n",
            " 18 24 25  1 10 22 31]\n",
            "\n",
            "Columna: month\n",
            "['may' 'nov' 'jun' 'jul' 'aug' 'oct' 'dec' 'jan' 'feb' 'mar' 'apr' 'sep']\n",
            "\n",
            "Columna: duration\n",
            "[ 261.  151.   76. ... 1298. 1246. 1556.]\n",
            "\n",
            "Columna: campaign\n",
            "[ 1  2  3  5  4  6  7  8  9 10 11 12 13 19 14 24 16 32 18 22 15 17 25 21\n",
            " 43 51 63 41 26 28 55 50 38 20 23 29 31 37 30 46 27 58 33 35 34 36 39 44]\n",
            "\n",
            "Columna: pdays\n",
            "[ -1. 187. 151. 166.  91.  86. 143. 147.  89. 140. 176. 101. 174. 170.\n",
            " 167. 195. 165. 129. 188. 196. 172. 118. 119. 104. 171. 117. 164. 132.\n",
            " 131. 123. 159. 186. 111. 115. 116. 173. 178. 110. 152.  96. 103. 150.\n",
            " 175. 193. 181. 185. 154. 145. 138. 126. 180. 109. 158. 168.  97. 182.\n",
            " 127. 130. 194. 125. 105. 102.  26. 179.  28. 183. 155. 112. 120. 137.\n",
            " 124. 190. 113. 162. 134. 169. 189.   8. 144. 191. 184. 177.   5.  99.\n",
            " 133.  93.  92.  10. 100. 156. 198. 106. 153. 146. 128.   7. 121. 160.\n",
            " 107.  90.  27. 197. 136. 139. 122. 157. 149. 135.  30. 114.  98. 192.\n",
            " 163.  34.  95. 141.  31. 199.  94. 108.  29. 268. 247. 253. 226. 244.\n",
            " 239. 245. 204. 231. 238. 258. 230. 254. 265.  71. 223. 246. 250. 266.\n",
            " 240. 205. 261. 241. 260. 234. 259. 251. 225. 161. 237. 262. 248. 255.\n",
            " 220. 227. 206. 224. 249. 235. 228. 263.   2. 270. 232. 252. 207. 200.\n",
            " 269. 233. 256. 273. 272. 242. 264. 208. 214. 222. 271. 203. 221. 202.\n",
            " 216. 201. 257. 229. 210. 217.  75. 213.  73.  76. 267. 211. 215.  77.\n",
            " 236.  82.   6. 209. 274.   1. 243. 212. 275.  80. 276.   9. 279.  12.\n",
            " 280.  88. 277.  85.  84. 219.  24.  21. 282.  41. 294.  49. 329. 307.\n",
            " 303. 331. 308. 300.  64. 314. 287. 330. 332. 302. 323. 318. 333.  60.\n",
            " 326. 335. 313. 312. 305. 325. 327. 336. 309. 328. 322.  39. 316. 292.\n",
            " 295. 310. 306. 320. 317. 289.  57. 321. 142. 339. 301. 315. 337. 334.\n",
            " 340. 319.  17.  74. 148. 341. 299. 344. 342. 324. 345. 346. 304. 281.\n",
            " 343. 338.  14. 347.  15. 291. 348. 349. 285. 350. 284.  25. 283. 278.\n",
            "  81.   4.  87.  83.  79.  70.  13. 293.  37.  78.  63.  22. 296. 355.\n",
            "  66.  19.  35. 360. 357. 354. 351. 362. 358. 365. 298. 286. 364. 363.\n",
            "  47. 361. 288. 366. 356. 352. 359. 297. 367. 353. 368.  42. 290.  67.\n",
            " 371. 370. 369.  50.  36. 373. 374. 372. 311. 375. 378.  59. 379.  40.\n",
            "  18.  43.  20.  69.  38. 385.  56.  55.  44. 391.  72. 390.  32.  62.\n",
            " 399. 393.  65. 377. 395. 388. 389. 386.  61. 412. 405. 434. 394. 382.\n",
            " 459. 440. 397. 383.  68. 461. 462. 463. 422.  51. 457. 430. 442. 403.\n",
            " 454. 428. 392. 410. 401. 474. 475. 477. 478.  54. 476. 380. 479.  45.\n",
            "  46. 495.  58.  48. 518.  52. 515. 520. 511. 536. 387. 218.  33. 544.\n",
            " 435. 436. 555. 433. 446. 558. 469. 616. 561. 553. 384. 592. 467. 585.\n",
            " 480. 421. 667. 626. 426. 595. 381. 376. 648. 521. 452. 449. 633. 398.\n",
            "  53. 460. 670. 551. 414. 557. 687. 404. 651. 686. 425. 504. 578. 674.\n",
            " 416. 586. 411. 756. 450. 745. 514. 417. 424. 776. 396. 683. 529. 439.\n",
            " 415. 456. 407. 458. 532. 481. 791. 701. 531. 792. 413. 445. 535. 784.\n",
            " 419. 455. 491. 431. 542. 470. 472. 717. 437.   3. 782. 728. 828. 524.\n",
            " 562. 761. 492. 775. 579. 493. 464. 760. 466. 465. 656. 831. 490. 432.\n",
            " 655. 427. 749. 838. 769. 587. 778. 854. 779. 850. 771. 594. 842. 589.\n",
            " 603. 484. 489. 486. 409. 444. 680. 808. 485. 503. 690. 772. 774. 526.\n",
            " 420. 528. 500. 826. 804. 508. 547. 805. 541. 543. 871. 550. 530.]\n",
            "\n",
            "Columna: previous\n",
            "[ 0  5  3  1  4  2 11 16  6 10 12  7 18  9 21  8 14 15 26 37 13 25 20 27\n",
            " 17 23 38 29 24 51 22 19 30 58 28 32 40 55 35 41]\n",
            "\n",
            "Columna: poutcome\n",
            "['unknown' 'failure' 'other' 'success']\n",
            "\n",
            "Columna: y\n",
            "['no' 'yes']\n",
            "\n"
          ]
        }
      ]
    },
    {
      "cell_type": "markdown",
      "source": [
        "No hay valores nulos (NaN) en ninguna de las columnas, pero hay valores marcados como \"unknown\" en las columnas job, education, contact y poutcome"
      ],
      "metadata": {
        "id": "yrNnG8ZKJnnU"
      }
    },
    {
      "cell_type": "markdown",
      "source": [
        "Para poder tomar la mejor decisión de qué hacer con esos datos"
      ],
      "metadata": {
        "id": "5wAKPztNRIX3"
      }
    },
    {
      "cell_type": "code",
      "source": [
        "unknown_counts = {}\n",
        "for col in data.columns:\n",
        "    if 'unknown' in data[col].unique():\n",
        "        unknown_counts[col] = data[col].value_counts()['unknown']\n",
        "\n",
        "print(\"Cantidad de datos desconocidos por columna:\")\n",
        "for col, count in unknown_counts.items():\n",
        "    print(f\"{col}: {count}\")\n"
      ],
      "metadata": {
        "colab": {
          "base_uri": "https://localhost:8080/"
        },
        "id": "ak2W0rrnRNh8",
        "outputId": "ef9ca4bf-2976-486d-8c3e-d77384b940b6"
      },
      "execution_count": null,
      "outputs": [
        {
          "output_type": "stream",
          "name": "stdout",
          "text": [
            "Cantidad de datos desconocidos por columna:\n",
            "job: 288\n",
            "education: 1857\n",
            "contact: 13011\n",
            "poutcome: 36943\n"
          ]
        }
      ]
    },
    {
      "cell_type": "code",
      "source": [
        "total_records = len(data)\n",
        "print(\"Porcentaje de datos desconocidos por columna:\")\n",
        "for col, count in unknown_counts.items():\n",
        "    percentage = (count / total_records) * 100\n",
        "    print(f\"{col}: {percentage:.2f}%\")\n"
      ],
      "metadata": {
        "colab": {
          "base_uri": "https://localhost:8080/"
        },
        "id": "ElToQQ-2RUDk",
        "outputId": "53f1e541-41b4-4097-c514-e79e079a1701"
      },
      "execution_count": null,
      "outputs": [
        {
          "output_type": "stream",
          "name": "stdout",
          "text": [
            "Porcentaje de datos desconocidos por columna:\n",
            "job: 0.64%\n",
            "education: 4.11%\n",
            "contact: 28.79%\n",
            "poutcome: 81.75%\n"
          ]
        }
      ]
    },
    {
      "cell_type": "code",
      "source": [],
      "metadata": {
        "id": "JRvkp_ZnRXFo"
      },
      "execution_count": null,
      "outputs": []
    },
    {
      "cell_type": "markdown",
      "source": [
        "job y education: Tienen relativamente pocos datos desconocidos (menos del 5% en ambos casos), por lo que realizaremos imputación basada en moda: Puedes reemplazar los valores \"unknown\" por la moda (el valor más frecuente) de cada columna respectiva.\n",
        "\n",
        "contact: Con casi el 29% de los datos desconocidos, la estrategia para manejar estos valores es unificarlos en telephone ya que el método es el mismo \"por telefono\" pero se denomina de manera diferente.\n",
        "\n",
        "poutcome: Con más del 81% de los datos desconocidos, agruparemos los valores \"unknown\" de la columna poutcome dentro de la categoría \"other\" ya que son valores que no pertenecen ni a \"failure\" ni a \"success\""
      ],
      "metadata": {
        "id": "eEazGoy2RvT6"
      }
    },
    {
      "cell_type": "code",
      "source": [
        "# Consolidar los valores de la columna 'contact'\n",
        "data['contact'] = 'telephone'\n",
        "\n",
        "# Verificar que ahora todos los valores son 'telephone'\n",
        "print(data['contact'].unique())\n"
      ],
      "metadata": {
        "colab": {
          "base_uri": "https://localhost:8080/"
        },
        "id": "nxMV27MwSUfM",
        "outputId": "9a3ca30f-ad42-463f-fdcf-6413c107d147"
      },
      "execution_count": null,
      "outputs": [
        {
          "output_type": "stream",
          "name": "stdout",
          "text": [
            "['telephone']\n"
          ]
        }
      ]
    },
    {
      "cell_type": "code",
      "source": [
        "# Imputación en la columna 'job'\n",
        "job_mode = data['job'].mode()[0]  # Calcula la moda de la columna 'job'\n",
        "data['job'] = data['job'].replace('unknown', job_mode)\n",
        "\n",
        "# Imputación en la columna 'education'\n",
        "education_mode = data['education'].mode()[0]  # Calcula la moda de la columna 'education'\n",
        "data['education'] = data['education'].replace('unknown', education_mode)\n",
        "\n",
        "# Verificación de los cambios\n",
        "print(\"Valores únicos después de la imputación:\")\n",
        "print(\"Columna 'job':\", data['job'].unique())\n",
        "print(\"Columna 'education':\", data['education'].unique())\n"
      ],
      "metadata": {
        "colab": {
          "base_uri": "https://localhost:8080/"
        },
        "id": "8AbT3Su9TB4S",
        "outputId": "bbe0fa6c-11df-4bb0-bd89-f72f91f5eba8"
      },
      "execution_count": null,
      "outputs": [
        {
          "output_type": "stream",
          "name": "stdout",
          "text": [
            "Valores únicos después de la imputación:\n",
            "Columna 'job': ['management' 'technician' 'entrepreneur' 'blue-collar' 'retired'\n",
            " 'administrative' 'services' 'self-employed' 'unemployed' 'housemaid'\n",
            " 'student']\n",
            "Columna 'education': ['tertiary' 'secondary' 'primary']\n"
          ]
        }
      ]
    },
    {
      "cell_type": "code",
      "source": [
        "# Reemplazar 'unknown' por 'other' en la columna 'poutcome'\n",
        "data['poutcome'] = data['poutcome'].replace('unknown', 'other')\n",
        "\n",
        "# Verificación de los cambios\n",
        "print(\"Valores únicos después del reemplazo en 'poutcome':\")\n",
        "print(data['poutcome'].unique())\n"
      ],
      "metadata": {
        "colab": {
          "base_uri": "https://localhost:8080/"
        },
        "id": "4ko0t-QOT37e",
        "outputId": "fb473ff1-988b-4a32-bac1-ea533bd05824"
      },
      "execution_count": null,
      "outputs": [
        {
          "output_type": "stream",
          "name": "stdout",
          "text": [
            "Valores únicos después del reemplazo en 'poutcome':\n",
            "['other' 'failure' 'success']\n"
          ]
        }
      ]
    },
    {
      "cell_type": "code",
      "source": [
        "\n",
        "\n",
        "# Aplicar One-Hot Encoding a las variables categóricas\n",
        "data_encoded = pd.get_dummies(data, columns=[\n",
        "    'job', 'marital', 'education', 'default', 'housing', 'loan', 'contact', 'month', 'poutcome'\n",
        "], drop_first=True)\n",
        "\n",
        "# Mostrar las primeras filas del dataset codificado\n",
        "print(data_encoded.head())\n"
      ],
      "metadata": {
        "colab": {
          "base_uri": "https://localhost:8080/"
        },
        "id": "616itC73C1ti",
        "outputId": "ecc30968-c0f8-4521-c9b5-16682828841d"
      },
      "execution_count": null,
      "outputs": [
        {
          "output_type": "stream",
          "name": "stdout",
          "text": [
            "   age  balance  day  duration  campaign  pdays  previous   y  \\\n",
            "0   58   2143.0    5     261.0         1   -1.0         0  no   \n",
            "1   44     29.0    5     151.0         1   -1.0         0  no   \n",
            "2   33      2.0    5      76.0         1   -1.0         0  no   \n",
            "3   47   1506.0    5      92.0         1   -1.0         0  no   \n",
            "4   33      1.0    5     198.0         1   -1.0         0  no   \n",
            "\n",
            "   job_blue-collar  job_entrepreneur  ...  month_jan  month_jul  month_jun  \\\n",
            "0            False             False  ...      False      False      False   \n",
            "1            False             False  ...      False      False      False   \n",
            "2            False              True  ...      False      False      False   \n",
            "3             True             False  ...      False      False      False   \n",
            "4             True             False  ...      False      False      False   \n",
            "\n",
            "   month_mar  month_may  month_nov  month_oct  month_sep  poutcome_other  \\\n",
            "0      False       True      False      False      False            True   \n",
            "1      False       True      False      False      False            True   \n",
            "2      False       True      False      False      False            True   \n",
            "3      False       True      False      False      False            True   \n",
            "4      False       True      False      False      False            True   \n",
            "\n",
            "   poutcome_success  \n",
            "0             False  \n",
            "1             False  \n",
            "2             False  \n",
            "3             False  \n",
            "4             False  \n",
            "\n",
            "[5 rows x 38 columns]\n"
          ]
        }
      ]
    },
    {
      "cell_type": "code",
      "source": [
        "# Verificar los valores únicos en las columnas originales antes de la codificación\n",
        "print(data['job'].unique())\n",
        "print(data['month'].unique())\n",
        "print(data['poutcome'].unique())\n",
        "\n",
        "# Asegurar que las categorías están correctamente asociadas con las nuevas columnas binarias\n",
        "# Por ejemplo, si la columna 'job' tenía categorías 'blue-collar', 'entrepreneur', etc., deberían aparecer como columnas binarias correspondientes.\n",
        "\n",
        "# Si hay problemas con la codificación, revisar y ajustar las categorías o cómo se están codificando.\n",
        "\n",
        "# Mostrar las primeras filas del dataset codificado para verificar\n",
        "print(data_encoded.head())\n"
      ],
      "metadata": {
        "colab": {
          "base_uri": "https://localhost:8080/"
        },
        "id": "wjLb_hXbDSGG",
        "outputId": "8f54660b-bbba-4aad-a09b-36c0a21d0d93"
      },
      "execution_count": null,
      "outputs": [
        {
          "output_type": "stream",
          "name": "stdout",
          "text": [
            "['management' 'technician' 'entrepreneur' 'blue-collar' 'retired'\n",
            " 'administrative' 'services' 'self-employed' 'unemployed' 'housemaid'\n",
            " 'student']\n",
            "['may' 'nov' 'jun' 'jul' 'aug' 'oct' 'dec' 'jan' 'feb' 'mar' 'apr' 'sep']\n",
            "['other' 'failure' 'success']\n",
            "   age  balance  day  duration  campaign  pdays  previous   y  \\\n",
            "0   58   2143.0    5     261.0         1   -1.0         0  no   \n",
            "1   44     29.0    5     151.0         1   -1.0         0  no   \n",
            "2   33      2.0    5      76.0         1   -1.0         0  no   \n",
            "3   47   1506.0    5      92.0         1   -1.0         0  no   \n",
            "4   33      1.0    5     198.0         1   -1.0         0  no   \n",
            "\n",
            "   job_blue-collar  job_entrepreneur  ...  month_jan  month_jul  month_jun  \\\n",
            "0            False             False  ...      False      False      False   \n",
            "1            False             False  ...      False      False      False   \n",
            "2            False              True  ...      False      False      False   \n",
            "3             True             False  ...      False      False      False   \n",
            "4             True             False  ...      False      False      False   \n",
            "\n",
            "   month_mar  month_may  month_nov  month_oct  month_sep  poutcome_other  \\\n",
            "0      False       True      False      False      False            True   \n",
            "1      False       True      False      False      False            True   \n",
            "2      False       True      False      False      False            True   \n",
            "3      False       True      False      False      False            True   \n",
            "4      False       True      False      False      False            True   \n",
            "\n",
            "   poutcome_success  \n",
            "0             False  \n",
            "1             False  \n",
            "2             False  \n",
            "3             False  \n",
            "4             False  \n",
            "\n",
            "[5 rows x 38 columns]\n"
          ]
        }
      ]
    },
    {
      "cell_type": "code",
      "source": [],
      "metadata": {
        "id": "B1z0JfqhCy8B"
      },
      "execution_count": null,
      "outputs": []
    },
    {
      "cell_type": "markdown",
      "source": [
        "# Normalización\n",
        "\n",
        "\n",
        "\n"
      ],
      "metadata": {
        "id": "ENa0LBHN_L5V"
      }
    },
    {
      "cell_type": "code",
      "source": [
        "# Normalización de características numéricas con Min-Max Scaling\n",
        "print(\"\\nNormalización de características numéricas:\")\n",
        "numeric_columns = ['age', 'balance', 'day', 'duration', 'campaign', 'pdays', 'previous']\n",
        "scaler = MinMaxScaler()\n",
        "data_encoded[numeric_columns] = scaler.fit_transform(data_encoded[numeric_columns])\n",
        "\n",
        "# Mostrar las primeras filas del dataset con las características normalizadas\n",
        "print(data_encoded.head())"
      ],
      "metadata": {
        "colab": {
          "base_uri": "https://localhost:8080/"
        },
        "id": "9Ck-xVOAEXHv",
        "outputId": "896cfbab-f1c5-407b-c707-f4bb04788f9c"
      },
      "execution_count": null,
      "outputs": [
        {
          "output_type": "stream",
          "name": "stdout",
          "text": [
            "\n",
            "Normalización de características numéricas:\n",
            "        age   balance       day  duration  campaign  pdays  previous   y  \\\n",
            "0  0.519481  0.018975  0.133333  0.052878       0.0    0.0       0.0  no   \n",
            "1  0.337662  0.015028  0.133333  0.030506       0.0    0.0       0.0  no   \n",
            "2  0.194805  0.014977  0.133333  0.015253       0.0    0.0       0.0  no   \n",
            "3  0.376623  0.017785  0.133333  0.018507       0.0    0.0       0.0  no   \n",
            "4  0.194805  0.014975  0.133333  0.040065       0.0    0.0       0.0  no   \n",
            "\n",
            "   job_blue-collar  job_entrepreneur  ...  month_jan  month_jul  month_jun  \\\n",
            "0            False             False  ...      False      False      False   \n",
            "1            False             False  ...      False      False      False   \n",
            "2            False              True  ...      False      False      False   \n",
            "3             True             False  ...      False      False      False   \n",
            "4             True             False  ...      False      False      False   \n",
            "\n",
            "   month_mar  month_may  month_nov  month_oct  month_sep  poutcome_other  \\\n",
            "0      False       True      False      False      False            True   \n",
            "1      False       True      False      False      False            True   \n",
            "2      False       True      False      False      False            True   \n",
            "3      False       True      False      False      False            True   \n",
            "4      False       True      False      False      False            True   \n",
            "\n",
            "   poutcome_success  \n",
            "0             False  \n",
            "1             False  \n",
            "2             False  \n",
            "3             False  \n",
            "4             False  \n",
            "\n",
            "[5 rows x 38 columns]\n"
          ]
        }
      ]
    },
    {
      "cell_type": "code",
      "source": [
        "# Manejo básico de outliers: transformación logarítmica de la columna 'balance'\n",
        "print(\"\\nManejo básico de outliers:\")\n",
        "data_encoded['balance_log'] = np.log(data_encoded['balance'] + 1)  # Sumamos 1 para evitar log(0)\n",
        "\n",
        "# Mostrar las primeras filas del dataset con la transformación logarítmica aplicada\n",
        "print(data_encoded.head())\n"
      ],
      "metadata": {
        "colab": {
          "base_uri": "https://localhost:8080/"
        },
        "id": "kj0k7CrbEhmL",
        "outputId": "1c43fc1d-d333-43a1-8c28-8b346db38c0a"
      },
      "execution_count": null,
      "outputs": [
        {
          "output_type": "stream",
          "name": "stdout",
          "text": [
            "\n",
            "Manejo básico de outliers:\n",
            "        age   balance       day  duration  campaign  pdays  previous   y  \\\n",
            "0  0.519481  0.018975  0.133333  0.052878       0.0    0.0       0.0  no   \n",
            "1  0.337662  0.015028  0.133333  0.030506       0.0    0.0       0.0  no   \n",
            "2  0.194805  0.014977  0.133333  0.015253       0.0    0.0       0.0  no   \n",
            "3  0.376623  0.017785  0.133333  0.018507       0.0    0.0       0.0  no   \n",
            "4  0.194805  0.014975  0.133333  0.040065       0.0    0.0       0.0  no   \n",
            "\n",
            "   job_blue-collar  job_entrepreneur  ...  month_jul  month_jun  month_mar  \\\n",
            "0            False             False  ...      False      False      False   \n",
            "1            False             False  ...      False      False      False   \n",
            "2            False              True  ...      False      False      False   \n",
            "3             True             False  ...      False      False      False   \n",
            "4             True             False  ...      False      False      False   \n",
            "\n",
            "   month_may  month_nov  month_oct  month_sep  poutcome_other  \\\n",
            "0       True      False      False      False            True   \n",
            "1       True      False      False      False            True   \n",
            "2       True      False      False      False            True   \n",
            "3       True      False      False      False            True   \n",
            "4       True      False      False      False            True   \n",
            "\n",
            "   poutcome_success  balance_log  \n",
            "0             False     0.018797  \n",
            "1             False     0.014916  \n",
            "2             False     0.014866  \n",
            "3             False     0.017629  \n",
            "4             False     0.014864  \n",
            "\n",
            "[5 rows x 39 columns]\n"
          ]
        }
      ]
    },
    {
      "cell_type": "code",
      "source": [
        "# Importar train_test_split desde sklearn\n",
        "from sklearn.model_selection import train_test_split\n",
        "\n",
        "# Definir X (variables independientes) y y (variable dependiente)\n",
        "X = data_encoded.drop('y', axis=1)  # Todas las columnas menos 'y' son características\n",
        "y = data_encoded['y']  # 'y' es nuestra variable objetivo\n",
        "\n",
        "\n"
      ],
      "metadata": {
        "id": "KUcNo6Bu_m6W"
      },
      "execution_count": null,
      "outputs": []
    },
    {
      "cell_type": "code",
      "source": [
        "# Dividir los datos en conjuntos de entrenamiento y prueba (80% entrenamiento, 20% prueba)\n",
        "X_train, X_test, y_train, y_test = train_test_split(X, y, test_size=0.2, random_state=42)"
      ],
      "metadata": {
        "id": "IkJJZEn9GMm2"
      },
      "execution_count": null,
      "outputs": []
    },
    {
      "cell_type": "code",
      "source": [
        "\n",
        "# Mostrar las dimensiones de los conjuntos de entrenamiento y prueba\n",
        "print(\"Dimensiones de los conjuntos de entrenamiento y prueba:\")\n",
        "print(\"Conjunto de entrenamiento:\", X_train.shape, y_train.shape)\n",
        "print(\"Conjunto de prueba:\", X_test.shape, y_test.shape)\n",
        "X = data_encoded.drop(columns=['y'])\n",
        "y = data_encoded['y'].apply(lambda x: 1 if x == 'yes' else 0)  # Convertir 'yes'/'no' a 1/0 para la clasificación binaria"
      ],
      "metadata": {
        "colab": {
          "base_uri": "https://localhost:8080/"
        },
        "id": "6vxP5vljVfvI",
        "outputId": "579c03d3-ea63-4e78-e82f-3ed06955f2e7"
      },
      "execution_count": null,
      "outputs": [
        {
          "output_type": "stream",
          "name": "stdout",
          "text": [
            "Dimensiones de los conjuntos de entrenamiento y prueba:\n",
            "Conjunto de entrenamiento: (36151, 38) (36151,)\n",
            "Conjunto de prueba: (9038, 38) (9038,)\n"
          ]
        }
      ]
    },
    {
      "cell_type": "code",
      "source": [
        "# Importar los modelos de clasificación\n",
        "from sklearn.linear_model import LogisticRegression\n",
        "from sklearn.tree import DecisionTreeClassifier\n",
        "from sklearn.ensemble import RandomForestClassifier, GradientBoostingClassifier\n",
        "\n",
        "# Importar métricas para evaluación\n",
        "from sklearn.metrics import accuracy_score, confusion_matrix, classification_report\n",
        "\n",
        "# Inicializar los modelos\n",
        "models = {\n",
        "       'Logistic Regression': LogisticRegression(random_state=42),\n",
        "    'Decision Tree': DecisionTreeClassifier(random_state=42),\n",
        "    'Random Forest': RandomForestClassifier(random_state=42),\n",
        "    'Gradient Boosting': GradientBoostingClassifier(random_state=42)\n",
        "}"
      ],
      "metadata": {
        "id": "Gc5l2txCGVnV"
      },
      "execution_count": null,
      "outputs": []
    },
    {
      "cell_type": "code",
      "source": [
        "# Importar los modelos de clasificación\n",
        "from sklearn.linear_model import LogisticRegression\n",
        "from sklearn.tree import DecisionTreeClassifier\n",
        "from sklearn.ensemble import RandomForestClassifier, GradientBoostingClassifier\n",
        "\n",
        "# Importar métricas para evaluación\n",
        "from sklearn.metrics import accuracy_score, confusion_matrix, classification_report\n",
        "\n",
        "# Escalar los datos\n",
        "scaler = StandardScaler()\n",
        "X_train_scaled = scaler.fit_transform(X_train)\n",
        "X_test_scaled = scaler.transform(X_test)\n",
        "\n",
        "\n",
        "# Entrenar y evaluar modelos\n",
        "modelos = {\n",
        "    \"Logistic Regression\": LogisticRegression(max_iter=500, solver='lbfgs'),  # Aumentar max_iter\n",
        "    \"Decision Tree\": DecisionTreeClassifier(),\n",
        "    \"Random Forest\": RandomForestClassifier(),\n",
        "    \"Gradient Boosting\": GradientBoostingClassifier()\n",
        "}\n",
        "\n",
        "# Función para entrenar y evaluar cada modelo\n",
        "def train_and_evaluate(model, X_train, y_train, X_test, y_test):\n",
        "    model.fit(X_train, y_train)\n",
        "    y_pred = model.predict(X_test)\n",
        "    accuracy = accuracy_score(y_test, y_pred)\n",
        "    confusion = confusion_matrix(y_test, y_pred)\n",
        "    report = classification_report(y_test, y_pred)\n",
        "    return accuracy, confusion, report\n",
        "\n",
        "# Entrenar y evaluar cada modelo\n",
        "results = {}\n",
        "for model_name, model in models.items():\n",
        "    print(f\"Entrenando {model_name}...\")\n",
        "    accuracy, confusion, report = train_and_evaluate(model, X_train, y_train, X_test, y_test)\n",
        "    results[model_name] = {\n",
        "        'accuracy': accuracy,\n",
        "        'confusion_matrix': confusion,\n",
        "        'classification_report': report\n",
        "    }\n",
        "    print(f\"{model_name} completado.\\n\")\n",
        "\n",
        "# Mostrar resultados\n",
        "for model_name, result in results.items():\n",
        "    print(f\"Modelo: {model_name}\")\n",
        "    print(f\"Accuracy: {result['accuracy']:.4f}\")\n",
        "    print(f\"Confusion Matrix:\\n{result['confusion_matrix']}\")\n",
        "    print(f\"Classification Report:\\n{result['classification_report']}\\n\")"
      ],
      "metadata": {
        "colab": {
          "base_uri": "https://localhost:8080/"
        },
        "id": "5iTmrVhUV8NH",
        "outputId": "6685187b-fdf7-44d5-d50f-d3c2c85c1681"
      },
      "execution_count": null,
      "outputs": [
        {
          "output_type": "stream",
          "name": "stdout",
          "text": [
            "Entrenando Logistic Regression...\n"
          ]
        },
        {
          "output_type": "stream",
          "name": "stderr",
          "text": [
            "/usr/local/lib/python3.10/dist-packages/sklearn/linear_model/_logistic.py:458: ConvergenceWarning: lbfgs failed to converge (status=1):\n",
            "STOP: TOTAL NO. of ITERATIONS REACHED LIMIT.\n",
            "\n",
            "Increase the number of iterations (max_iter) or scale the data as shown in:\n",
            "    https://scikit-learn.org/stable/modules/preprocessing.html\n",
            "Please also refer to the documentation for alternative solver options:\n",
            "    https://scikit-learn.org/stable/modules/linear_model.html#logistic-regression\n",
            "  n_iter_i = _check_optimize_result(\n"
          ]
        },
        {
          "output_type": "stream",
          "name": "stdout",
          "text": [
            "Logistic Regression completado.\n",
            "\n",
            "Entrenando Decision Tree...\n",
            "Decision Tree completado.\n",
            "\n",
            "Entrenando Random Forest...\n",
            "Random Forest completado.\n",
            "\n",
            "Entrenando Gradient Boosting...\n",
            "Gradient Boosting completado.\n",
            "\n",
            "Modelo: Logistic Regression\n",
            "Accuracy: 0.8989\n",
            "Confusion Matrix:\n",
            "[[7810  168]\n",
            " [ 746  314]]\n",
            "Classification Report:\n",
            "              precision    recall  f1-score   support\n",
            "\n",
            "          no       0.91      0.98      0.94      7978\n",
            "         yes       0.65      0.30      0.41      1060\n",
            "\n",
            "    accuracy                           0.90      9038\n",
            "   macro avg       0.78      0.64      0.68      9038\n",
            "weighted avg       0.88      0.90      0.88      9038\n",
            "\n",
            "\n",
            "Modelo: Decision Tree\n",
            "Accuracy: 0.8717\n",
            "Confusion Matrix:\n",
            "[[7380  598]\n",
            " [ 562  498]]\n",
            "Classification Report:\n",
            "              precision    recall  f1-score   support\n",
            "\n",
            "          no       0.93      0.93      0.93      7978\n",
            "         yes       0.45      0.47      0.46      1060\n",
            "\n",
            "    accuracy                           0.87      9038\n",
            "   macro avg       0.69      0.70      0.69      9038\n",
            "weighted avg       0.87      0.87      0.87      9038\n",
            "\n",
            "\n",
            "Modelo: Random Forest\n",
            "Accuracy: 0.9052\n",
            "Confusion Matrix:\n",
            "[[7796  182]\n",
            " [ 675  385]]\n",
            "Classification Report:\n",
            "              precision    recall  f1-score   support\n",
            "\n",
            "          no       0.92      0.98      0.95      7978\n",
            "         yes       0.68      0.36      0.47      1060\n",
            "\n",
            "    accuracy                           0.91      9038\n",
            "   macro avg       0.80      0.67      0.71      9038\n",
            "weighted avg       0.89      0.91      0.89      9038\n",
            "\n",
            "\n",
            "Modelo: Gradient Boosting\n",
            "Accuracy: 0.9052\n",
            "Confusion Matrix:\n",
            "[[7766  212]\n",
            " [ 645  415]]\n",
            "Classification Report:\n",
            "              precision    recall  f1-score   support\n",
            "\n",
            "          no       0.92      0.97      0.95      7978\n",
            "         yes       0.66      0.39      0.49      1060\n",
            "\n",
            "    accuracy                           0.91      9038\n",
            "   macro avg       0.79      0.68      0.72      9038\n",
            "weighted avg       0.89      0.91      0.89      9038\n",
            "\n",
            "\n"
          ]
        }
      ]
    },
    {
      "cell_type": "markdown",
      "source": [
        "Para mejorar la precisión del modelo, podemos aplicar métodos de ensemble, como por ejemplo Voting Classifier, que combina varios modelos para obtener predicciones más precisas."
      ],
      "metadata": {
        "id": "_ryP0GfKZFcl"
      }
    },
    {
      "cell_type": "code",
      "source": [
        "# Importar VotingClassifier\n",
        "from sklearn.ensemble import VotingClassifier\n",
        "\n",
        "# Inicializar los modelos para el VotingClassifier\n",
        "estimators = [\n",
        "    ('lr', LogisticRegression()),\n",
        "    ('dt', DecisionTreeClassifier(random_state=42)),\n",
        "    ('rf', RandomForestClassifier(random_state=42)),\n",
        "    ('gb', GradientBoostingClassifier(random_state=42))\n",
        "]\n",
        "\n",
        "# Inicializar el VotingClassifier\n",
        "ensemble_model = VotingClassifier(estimators)\n",
        "\n",
        "# Entrenar y evaluar el modelo de ensemble\n",
        "print(\"Entrenando el Voting Classifier...\")\n",
        "accuracy, confusion, report = train_and_evaluate(ensemble_model, X_train, y_train, X_test, y_test)\n",
        "\n",
        "# Mostrar resultados del ensemble\n",
        "print(f\"Voting Classifier - Accuracy: {accuracy:.4f}\")\n",
        "print(f\"Confusion Matrix:\\n{confusion}\")\n",
        "print(f\"Classification Report:\\n{report}\")\n"
      ],
      "metadata": {
        "colab": {
          "base_uri": "https://localhost:8080/"
        },
        "id": "MOXjATFqZF9l",
        "outputId": "143b9a65-8702-4c26-a8a1-e35f75bdb7ce"
      },
      "execution_count": null,
      "outputs": [
        {
          "output_type": "stream",
          "name": "stdout",
          "text": [
            "Entrenando el Voting Classifier...\n"
          ]
        },
        {
          "output_type": "stream",
          "name": "stderr",
          "text": [
            "/usr/local/lib/python3.10/dist-packages/sklearn/linear_model/_logistic.py:458: ConvergenceWarning: lbfgs failed to converge (status=1):\n",
            "STOP: TOTAL NO. of ITERATIONS REACHED LIMIT.\n",
            "\n",
            "Increase the number of iterations (max_iter) or scale the data as shown in:\n",
            "    https://scikit-learn.org/stable/modules/preprocessing.html\n",
            "Please also refer to the documentation for alternative solver options:\n",
            "    https://scikit-learn.org/stable/modules/linear_model.html#logistic-regression\n",
            "  n_iter_i = _check_optimize_result(\n"
          ]
        },
        {
          "output_type": "stream",
          "name": "stdout",
          "text": [
            "Voting Classifier - Accuracy: 0.9025\n",
            "Confusion Matrix:\n",
            "[[7834  144]\n",
            " [ 737  323]]\n",
            "Classification Report:\n",
            "              precision    recall  f1-score   support\n",
            "\n",
            "          no       0.91      0.98      0.95      7978\n",
            "         yes       0.69      0.30      0.42      1060\n",
            "\n",
            "    accuracy                           0.90      9038\n",
            "   macro avg       0.80      0.64      0.68      9038\n",
            "weighted avg       0.89      0.90      0.89      9038\n",
            "\n"
          ]
        }
      ]
    },
    {
      "cell_type": "markdown",
      "source": [
        "Conclusiones:\n",
        "\n",
        "En el procesamiento de datos se ha llevado a cabo:\n",
        "\n",
        "1. Manejo de 'unknown' y normalización: reemplazo de los valores 'unknown' en las columnas 'job', 'education', 'contact', y 'poutcome' con valores más representativos ('mode' para 'job' y 'education', 'other' para 'poutcome').\n",
        "\n",
        "2. Codificación One-Hot para codificar las variables categóricas especificadas en categorical_cols.\n",
        "\n",
        "3. Normalización Min-Max Scaling (MinMaxScaler) a las variables numéricas especificadas en numeric_cols.\n",
        "\n",
        "4. Unión de datos: Combinación de las columnas codificadas y normalizadas con las columnas restantes del conjunto de datos original para formar data_encoded\n",
        "\n",
        "\n",
        "En el entrenamiento del modelo:\n",
        "\n",
        "1. Se dividió el conjunto de datos en conjuntos de entrenamiento (X_train, y_train) y prueba (X_test, y_test) con una proporción del 80% para entrenamiento y 20% para prueba. Esto asegura que los modelos se evalúen de manera adecuada en datos no vistos.\n",
        "\n",
        "2. Se importaron varios modelos de clasificación (Logistic Regression, Decision Tree, Random Forest, Gradient Boosting) y se inicializaron dentro del diccionario models.\n",
        "Cada modelo se entrenó utilizando X_train y y_train, luego se realizaron predicciones en X_test y se evaluaron utilizando métricas como precisión (accuracy), matriz de confusión (confusion_matrix) y reporte de clasificación (classification_report).\n",
        "\n",
        "3. Se creó un Voting Classifier (ensemble_model) que combina las predicciones de varios modelos (Logistic Regression, Decision Tree, Random Forest, Gradient Boosting) utilizando votación mayoritaria.\n",
        "El Voting Classifier también se entrenó con X_train y y_train, y se evaluó su desempeño en X_test, almacenando métricas de evaluación (accuracy_ensemble, confusion_ensemble, report_ensemble).\n",
        "\n",
        "Los modelos individualmente y el Voting Classifier tienen un desempeño decente en términos de precisión (accuracy). El Random Forest y el Gradient Boosting obtienen una precisión ligeramente mejor que los otros modelos."
      ],
      "metadata": {
        "id": "e1k55ToMZ0sf"
      }
    },
    {
      "cell_type": "markdown",
      "source": [
        "Para mejorar aún más el desempeño del modelo se podrías ajustar los hiperparámetros de los modelos, como la profundidad máxima del árbol en Decision Tree, el número de árboles en Random Forest, etc.\n",
        "y considerar técnicas como el ajuste de pesos o la validación cruzada."
      ],
      "metadata": {
        "id": "m1TATABAbDQR"
      }
    }
  ]
}
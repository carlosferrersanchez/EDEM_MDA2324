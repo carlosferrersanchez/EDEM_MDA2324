{
  "nbformat": 4,
  "nbformat_minor": 0,
  "metadata": {
    "colab": {
      "provenance": []
    },
    "kernelspec": {
      "name": "python3",
      "display_name": "Python 3"
    },
    "language_info": {
      "name": "python"
    }
  },
  "cells": [
    {
      "cell_type": "markdown",
      "source": [
        "# ENTREGABLE 4"
      ],
      "metadata": {
        "id": "mYJdsFxinuN5"
      }
    },
    {
      "cell_type": "markdown",
      "source": [
        "# INSTRUCCIONES"
      ],
      "metadata": {
        "id": "IIGQAc67cj6O"
      }
    },
    {
      "cell_type": "markdown",
      "source": [
        "Utilizar el archivo CSV (`dataset_banco_clean.csv`) con 45189 filas y 17 columnas y aplicar las técnicas de normalización del entregable 3."
      ],
      "metadata": {
        "id": "t3VhhDXrcfBJ"
      }
    },
    {
      "cell_type": "code",
      "source": [
        "# imports\n",
        "from sklearn.datasets import load_iris\n",
        "import numpy as np\n",
        "import pandas as pd"
      ],
      "metadata": {
        "id": "LDnXEh9vn2GX"
      },
      "execution_count": 1,
      "outputs": []
    },
    {
      "cell_type": "code",
      "source": [
        "df = pd.read_csv(\"/content/dataset_banco_clean.csv\")\n",
        "print(df.head())"
      ],
      "metadata": {
        "id": "2C6TxrrjoLca",
        "colab": {
          "base_uri": "https://localhost:8080/"
        },
        "outputId": "3befda83-eb2b-480b-bc69-c8bd8c0b1405"
      },
      "execution_count": 3,
      "outputs": [
        {
          "output_type": "stream",
          "name": "stdout",
          "text": [
            "   age           job  marital  education default  balance housing loan  \\\n",
            "0   58    management  married   tertiary      no   2143.0     yes   no   \n",
            "1   44    technician   single  secondary      no     29.0     yes   no   \n",
            "2   33  entrepreneur  married  secondary      no      2.0     yes  yes   \n",
            "3   47   blue-collar  married    unknown      no   1506.0     yes   no   \n",
            "4   33       unknown   single    unknown      no      1.0      no   no   \n",
            "\n",
            "   contact  day month  duration  campaign  pdays  previous poutcome   y  \n",
            "0  unknown    5   may     261.0         1   -1.0         0  unknown  no  \n",
            "1  unknown    5   may     151.0         1   -1.0         0  unknown  no  \n",
            "2  unknown    5   may      76.0         1   -1.0         0  unknown  no  \n",
            "3  unknown    5   may      92.0         1   -1.0         0  unknown  no  \n",
            "4  unknown    5   may     198.0         1   -1.0         0  unknown  no  \n"
          ]
        }
      ]
    },
    {
      "cell_type": "markdown",
      "source": [
        "# Objetivo\n",
        "\n",
        "Generar un model de clasificación capaz de predecir la clase de flor en función de las carácterísticas del dataset\n",
        "\n",
        "* Aplicar las técnicas oportunas de procesamiento de datos\n",
        "\n",
        "* Generar split de los datos\n",
        "\n",
        "* Valorar diferentes modelos de clasificación\n",
        "\n",
        "* Comparación entre modelos\n",
        "\n",
        "* Ensemble\n",
        "\n",
        "* Métricas\n",
        "\n",
        "* Conclusiones finales"
      ],
      "metadata": {
        "id": "suOncPeIo2Ln"
      }
    },
    {
      "cell_type": "code",
      "source": [
        "# Paso 1: Preprocesamiento de datos\n",
        "from sklearn.preprocessing import StandardScaler, LabelEncoder, OneHotEncoder\n",
        "from sklearn.impute import SimpleImputer\n",
        "from sklearn.compose import ColumnTransformer\n",
        "from sklearn.pipeline import Pipeline"
      ],
      "metadata": {
        "id": "oGEq8EGTpp7g"
      },
      "execution_count": 10,
      "outputs": []
    },
    {
      "cell_type": "code",
      "source": [
        "# Manejo de valores faltantes\n",
        "numeric_features = ['age', 'balance', 'duration', 'campaign', 'pdays', 'previous']\n",
        "categorical_features = ['job', 'marital', 'education', 'default', 'housing', 'loan', 'contact', 'month', 'poutcome']\n",
        "\n",
        "numeric_transformer = Pipeline(steps=[\n",
        "    ('imputer', SimpleImputer(strategy='median')),\n",
        "    ('scaler', StandardScaler())])\n",
        "\n",
        "categorical_transformer = Pipeline(steps=[\n",
        "    ('imputer', SimpleImputer(strategy='most_frequent')),\n",
        "    ('encoder', OneHotEncoder(handle_unknown='ignore'))])\n",
        "\n",
        "preprocessor = ColumnTransformer(\n",
        "    transformers=[\n",
        "        ('num', numeric_transformer, numeric_features),\n",
        "        ('cat', categorical_transformer, categorical_features)])"
      ],
      "metadata": {
        "id": "xo1QIUigrcj7"
      },
      "execution_count": 11,
      "outputs": []
    },
    {
      "cell_type": "code",
      "source": [
        "# Paso 2: División de datos\n",
        "from sklearn.model_selection import train_test_split\n",
        "\n",
        "X = df.drop(columns=['y'])\n",
        "y = df['y']\n",
        "\n",
        "X_train, X_test, y_train, y_test = train_test_split(X, y, test_size=0.2, random_state=42)"
      ],
      "metadata": {
        "id": "ggTuyZEJrgEf"
      },
      "execution_count": 12,
      "outputs": []
    },
    {
      "cell_type": "code",
      "source": [
        "# Paso 3: Selección y entrenamiento de modelos\n",
        "from sklearn.ensemble import RandomForestClassifier\n",
        "from sklearn.tree import DecisionTreeClassifier\n",
        "from sklearn.svm import SVC\n",
        "\n",
        "models = {\n",
        "    'Decision Tree': DecisionTreeClassifier(),\n",
        "    'Random Forest': RandomForestClassifier(),\n",
        "    'SVM': SVC()\n",
        "}\n",
        "\n",
        "for name, model in models.items():\n",
        "    clf = Pipeline(steps=[('preprocessor', preprocessor),\n",
        "                          ('classifier', model)])\n",
        "    clf.fit(X_train, y_train)\n",
        "    print(f\"{name} trained successfully.\")"
      ],
      "metadata": {
        "colab": {
          "base_uri": "https://localhost:8080/"
        },
        "id": "2pZ_nKjcrh1x",
        "outputId": "2140596c-8cec-4a35-c1a3-a76efa7faf84"
      },
      "execution_count": 14,
      "outputs": [
        {
          "output_type": "stream",
          "name": "stdout",
          "text": [
            "Decision Tree trained successfully.\n",
            "Random Forest trained successfully.\n",
            "SVM trained successfully.\n"
          ]
        }
      ]
    },
    {
      "cell_type": "code",
      "source": [
        "# Paso 4: Evaluación de modelos\n",
        "from sklearn.metrics import accuracy_score, classification_report\n",
        "\n",
        "for name, model in models.items():\n",
        "    y_pred = clf.predict(X_test)\n",
        "    print(f\"Evaluación de {name}:\")\n",
        "    print(f\"Accuracy Score: {accuracy_score(y_test, y_pred)}\")\n",
        "    print(classification_report(y_test, y_pred))"
      ],
      "metadata": {
        "colab": {
          "base_uri": "https://localhost:8080/"
        },
        "id": "uCYgfZnbrpNa",
        "outputId": "6de9de98-f776-4c4d-8e89-4a75a095364e"
      },
      "execution_count": 15,
      "outputs": [
        {
          "output_type": "stream",
          "name": "stdout",
          "text": [
            "Evaluación de Decision Tree:\n",
            "Accuracy Score: 0.9032971896437265\n",
            "              precision    recall  f1-score   support\n",
            "\n",
            "          no       0.92      0.98      0.95      7978\n",
            "         yes       0.69      0.32      0.44      1060\n",
            "\n",
            "    accuracy                           0.90      9038\n",
            "   macro avg       0.80      0.65      0.69      9038\n",
            "weighted avg       0.89      0.90      0.89      9038\n",
            "\n",
            "Evaluación de Random Forest:\n",
            "Accuracy Score: 0.9032971896437265\n",
            "              precision    recall  f1-score   support\n",
            "\n",
            "          no       0.92      0.98      0.95      7978\n",
            "         yes       0.69      0.32      0.44      1060\n",
            "\n",
            "    accuracy                           0.90      9038\n",
            "   macro avg       0.80      0.65      0.69      9038\n",
            "weighted avg       0.89      0.90      0.89      9038\n",
            "\n",
            "Evaluación de SVM:\n",
            "Accuracy Score: 0.9032971896437265\n",
            "              precision    recall  f1-score   support\n",
            "\n",
            "          no       0.92      0.98      0.95      7978\n",
            "         yes       0.69      0.32      0.44      1060\n",
            "\n",
            "    accuracy                           0.90      9038\n",
            "   macro avg       0.80      0.65      0.69      9038\n",
            "weighted avg       0.89      0.90      0.89      9038\n",
            "\n"
          ]
        }
      ]
    },
    {
      "cell_type": "markdown",
      "source": [
        "El modelo elegido es random forest"
      ],
      "metadata": {
        "id": "zToEioNcuOyt"
      }
    },
    {
      "cell_type": "code",
      "source": [
        "# El ensemble no es necesario ya que el Random Forest ya es un ensemble de árboles de decisión."
      ],
      "metadata": {
        "id": "TusTjlmxuRoE"
      },
      "execution_count": null,
      "outputs": []
    },
    {
      "cell_type": "code",
      "source": [
        "# Paso 7: Métricas finales\n",
        "from sklearn.metrics import accuracy_score, precision_score, recall_score, f1_score\n",
        "\n",
        "# Entrenar el modelo Random Forest\n",
        "clf_rf = Pipeline(steps=[('preprocessor', preprocessor),\n",
        "                         ('classifier', RandomForestClassifier())])\n",
        "clf_rf.fit(X_train, y_train)\n",
        "\n",
        "# Predecir en el conjunto de prueba\n",
        "y_pred_rf = clf_rf.predict(X_test)\n",
        "\n",
        "# Calcular métricas finales\n",
        "accuracy_rf = accuracy_score(y_test, y_pred_rf)\n",
        "precision_rf = precision_score(y_test, y_pred_rf, pos_label='yes')\n",
        "recall_rf = recall_score(y_test, y_pred_rf, pos_label='yes')\n",
        "f1_rf = f1_score(y_test, y_pred_rf, pos_label='yes')\n",
        "\n",
        "print(\"Métricas finales para Random Forest:\")\n",
        "print(f\"Accuracy: {accuracy_rf}\")\n",
        "print(f\"Precisión: {precision_rf}\")\n",
        "print(f\"Recall: {recall_rf}\")\n",
        "print(f\"F1-score: {f1_rf}\")\n"
      ],
      "metadata": {
        "colab": {
          "base_uri": "https://localhost:8080/"
        },
        "id": "r1O-240ruyig",
        "outputId": "c6fd299f-c0af-438c-e5a1-b7c222c23079"
      },
      "execution_count": 17,
      "outputs": [
        {
          "output_type": "stream",
          "name": "stdout",
          "text": [
            "Métricas finales para Random Forest:\n",
            "Accuracy: 0.9065058641292322\n",
            "Precisión: 0.6759410801963993\n",
            "Recall: 0.389622641509434\n",
            "F1-score: 0.49431478156792336\n"
          ]
        }
      ]
    },
    {
      "cell_type": "markdown",
      "source": [
        "# Conclusiones"
      ],
      "metadata": {
        "id": "j2PGzN9SpfcP"
      }
    },
    {
      "cell_type": "markdown",
      "source": [
        "Precisión: El modelo tiene una precisión del 67.59%. Esto significa que de todas las predicciones positivas que hizo el modelo, alrededor del 67.59% fueron correctas.\n",
        "Recall: El recall, también conocido como sensibilidad, es del 38.96%. Esto indica que de todos los casos positivos en los datos reales, el modelo fue capaz de identificar correctamente alrededor del 38.96%.\n",
        "F1-score: El F1-score, que es la media armónica de precisión y recall, es del 49.43%. Esta métrica es útil cuando queremos encontrar un equilibrio entre precisión y recall.\n",
        "Exactitud: La exactitud general del modelo es del 90.65%, lo que indica que el 90.65% de todas las predicciones realizadas por el modelo fueron correctas."
      ],
      "metadata": {
        "id": "Wzvcm6oFvncA"
      }
    },
    {
      "cell_type": "markdown",
      "source": [
        "Aunque el modelo tiene una precisión relativamente alta, su recall es más bajo, lo que sugiere que puede estar perdiendo algunos casos positivos. Esto podría indicar que el modelo tiene dificultades para identificar ciertos patrones en los datos. Dependiendo del contexto y de las necesidades específicas del problema, puede ser necesario ajustar el modelo o explorar otras técnicas para mejorar su rendimiento."
      ],
      "metadata": {
        "id": "P0xmUQ4Jvp5h"
      }
    }
  ]
}
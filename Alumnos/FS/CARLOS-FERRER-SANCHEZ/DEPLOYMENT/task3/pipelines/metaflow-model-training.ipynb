{
 "cells": [
  {
   "cell_type": "markdown",
   "metadata": {},
   "source": [
    "<font color=\"#CA3532\"><h1 align=\"left\">Master Data Analytics. EDEM.</h1></font>\n",
    "<font color=\"#6E6E6E\"><h2 align=\"left\">Herramientas MLOps.</h2></font> \n",
    "<font color=\"#6E6E6E\"><h2 align=\"left\">Tarea 1. Pipeline entrenamiento de modelos.</h2></font> \n",
    "#### Daniel Ruiz Riquelme\n",
    "https://docs.metaflow.org/metaflow/basics"
   ]
  },
  {
   "attachments": {},
   "cell_type": "markdown",
   "metadata": {},
   "source": [
    "##  Install dependencies"
   ]
  },
  {
   "cell_type": "code",
   "execution_count": null,
   "metadata": {},
   "outputs": [],
   "source": [
    "#!pip install metaflow\n",
    "#!pip install scikit-learn\n",
    "#!pip install pandas"
   ]
  },
  {
   "attachments": {},
   "cell_type": "markdown",
   "metadata": {},
   "source": [
    "## Set username"
   ]
  },
  {
   "cell_type": "code",
   "execution_count": 1,
   "metadata": {},
   "outputs": [],
   "source": [
    "# Set username for workflows\n",
    "import os\n",
    "os.environ[\"USERNAME\"] = \"carlos\""
   ]
  },
  {
   "cell_type": "code",
   "execution_count": 8,
   "metadata": {},
   "outputs": [
    {
     "name": "stdout",
     "output_type": "stream",
     "text": [
      "Overwriting metaflow_trainingflow.py\n"
     ]
    }
   ],
   "source": [
    "%%writefile metaflow_trainingflow.py\n",
    "from metaflow import FlowSpec, Parameter, step\n",
    "from sklearn.model_selection import train_test_split\n",
    "from sklearn.ensemble import RandomForestClassifier\n",
    "from sklearn.metrics import accuracy_score, classification_report\n",
    "import pickle\n",
    "\n",
    "class TrainingFlow(FlowSpec):\n",
    "    max_depth = Parameter('max_depth', default=2, help='Max depth of the random forest classifier')\n",
    "    n_estimators = Parameter('n_estimators', default=100, help='Number of estimators for the random forest classifier')\n",
    "    random_state = Parameter('random_state', default=0, help='Random state for the random forest classifier')\n",
    "    \n",
    "    @step\n",
    "    def start(self):\n",
    "        self.next(self.ingest_data)\n",
    "        \n",
    "    @step\n",
    "    def ingest_data(self):\n",
    "        from sklearn.datasets import load_iris\n",
    "    \n",
    "        iris = load_iris()\n",
    "        \n",
    "        self.X = iris.data\n",
    "        self.y = iris.target\n",
    "        \n",
    "        self.next(self.split_data)\n",
    "\n",
    "    @step\n",
    "    def split_data(self):\n",
    "        self.X_train, self.X_test, self.y_train, self.y_test = train_test_split(\n",
    "            self.X, self.y, test_size=0.2, random_state=self.random_state)\n",
    "        self.next(self.train)\n",
    "\n",
    "    @step\n",
    "    def train(self):\n",
    "        self.model = RandomForestClassifier(\n",
    "            max_depth=self.max_depth,\n",
    "            n_estimators=self.n_estimators,\n",
    "            random_state=self.random_state\n",
    "        )\n",
    "        self.model.fit(self.X_train, self.y_train)\n",
    "        self.next(self.show_metrics)\n",
    "\n",
    "    @step\n",
    "    def show_metrics(self):\n",
    "        self.y_pred = self.model.predict(self.X_test)\n",
    "        self.accuracy = accuracy_score(self.y_test, self.y_pred)\n",
    "        self.report = classification_report(self.y_test, self.y_pred)\n",
    "        print(f\"Accuracy: {self.accuracy}\")\n",
    "        print(f\"Classification Report:\\n{self.report}\")\n",
    "        self.next(self.register_model)\n",
    "        \n",
    "    @step\n",
    "    def register_model(self):\n",
    "        with open('random_forest_model.pkl', 'wb') as f:\n",
    "            pickle.dump(self.model, f)\n",
    "        print(\"Model saved as random_forest_model.pkl\")\n",
    "        self.next(self.end)\n",
    "        \n",
    "    @step\n",
    "    def end(self):\n",
    "        pass\n",
    "    \n",
    "if __name__ == '__main__':\n",
    "    TrainingFlow()\n"
   ]
  },
  {
   "cell_type": "code",
   "execution_count": 10,
   "metadata": {},
   "outputs": [
    {
     "name": "stdout",
     "output_type": "stream",
     "text": [
      "\u001b[35m\u001b[1mMetaflow 2.12.5\u001b[0m\u001b[35m\u001b[22m executing \u001b[0m\u001b[31m\u001b[1mTrainingFlow\u001b[0m\u001b[35m\u001b[22m\u001b[0m\u001b[35m\u001b[22m for \u001b[0m\u001b[31m\u001b[1muser:maccharlie\u001b[0m\u001b[35m\u001b[22m\u001b[K\u001b[0m\u001b[35m\u001b[22m\u001b[0m\n",
      "\u001b[35m\u001b[22mValidating your flow...\u001b[K\u001b[0m\u001b[35m\u001b[22m\u001b[0m\n",
      "\u001b[32m\u001b[1m    The graph looks good!\u001b[K\u001b[0m\u001b[32m\u001b[1m\u001b[0m\n",
      "\u001b[35m\u001b[22mRunning pylint...\u001b[K\u001b[0m\u001b[35m\u001b[22m\u001b[0m\n",
      "\u001b[32m\u001b[22m    Pylint not found, so extra checks are disabled.\u001b[K\u001b[0m\u001b[32m\u001b[22m\u001b[0m\n",
      "\u001b[35m2024-06-22 12:43:32.382 \u001b[0m\u001b[1mWorkflow starting (run-id 1719053012381214):\u001b[0m\n",
      "\u001b[35m2024-06-22 12:43:32.391 \u001b[0m\u001b[32m[1719053012381214/start/1 (pid 64709)] \u001b[0m\u001b[1mTask is starting.\u001b[0m\n",
      "\u001b[35m2024-06-22 12:43:32.820 \u001b[0m\u001b[32m[1719053012381214/start/1 (pid 64709)] \u001b[0m\u001b[1mTask finished successfully.\u001b[0m\n",
      "\u001b[35m2024-06-22 12:43:32.824 \u001b[0m\u001b[32m[1719053012381214/ingest_data/2 (pid 64712)] \u001b[0m\u001b[1mTask is starting.\u001b[0m\n",
      "\u001b[35m2024-06-22 12:43:33.283 \u001b[0m\u001b[32m[1719053012381214/ingest_data/2 (pid 64712)] \u001b[0m\u001b[1mTask finished successfully.\u001b[0m\n",
      "\u001b[35m2024-06-22 12:43:33.288 \u001b[0m\u001b[32m[1719053012381214/split_data/3 (pid 64715)] \u001b[0m\u001b[1mTask is starting.\u001b[0m\n",
      "\u001b[35m2024-06-22 12:43:33.732 \u001b[0m\u001b[32m[1719053012381214/split_data/3 (pid 64715)] \u001b[0m\u001b[1mTask finished successfully.\u001b[0m\n",
      "\u001b[35m2024-06-22 12:43:33.736 \u001b[0m\u001b[32m[1719053012381214/train/4 (pid 64718)] \u001b[0m\u001b[1mTask is starting.\u001b[0m\n",
      "\u001b[35m2024-06-22 12:43:34.209 \u001b[0m\u001b[32m[1719053012381214/train/4 (pid 64718)] \u001b[0m\u001b[1mTask finished successfully.\u001b[0m\n",
      "\u001b[35m2024-06-22 12:43:34.215 \u001b[0m\u001b[32m[1719053012381214/show_metrics/5 (pid 64721)] \u001b[0m\u001b[1mTask is starting.\u001b[0m\n",
      "\u001b[35m2024-06-22 12:43:34.600 \u001b[0m\u001b[32m[1719053012381214/show_metrics/5 (pid 64721)] \u001b[0m\u001b[22mAccuracy: 1.0\u001b[0m\n",
      "\u001b[35m2024-06-22 12:43:34.656 \u001b[0m\u001b[32m[1719053012381214/show_metrics/5 (pid 64721)] \u001b[0m\u001b[22mClassification Report:\u001b[0m\n",
      "\u001b[35m2024-06-22 12:43:34.657 \u001b[0m\u001b[32m[1719053012381214/show_metrics/5 (pid 64721)] \u001b[0m\u001b[22mprecision    recall  f1-score   support\u001b[0m\n",
      "\u001b[35m2024-06-22 12:43:34.657 \u001b[0m\u001b[32m[1719053012381214/show_metrics/5 (pid 64721)] \u001b[0m\u001b[22m\u001b[0m\n",
      "\u001b[35m2024-06-22 12:43:34.657 \u001b[0m\u001b[32m[1719053012381214/show_metrics/5 (pid 64721)] \u001b[0m\u001b[22m0       1.00      1.00      1.00        11\u001b[0m\n",
      "\u001b[35m2024-06-22 12:43:34.657 \u001b[0m\u001b[32m[1719053012381214/show_metrics/5 (pid 64721)] \u001b[0m\u001b[22m1       1.00      1.00      1.00        13\u001b[0m\n",
      "\u001b[35m2024-06-22 12:43:34.657 \u001b[0m\u001b[32m[1719053012381214/show_metrics/5 (pid 64721)] \u001b[0m\u001b[22m2       1.00      1.00      1.00         6\u001b[0m\n",
      "\u001b[35m2024-06-22 12:43:34.657 \u001b[0m\u001b[32m[1719053012381214/show_metrics/5 (pid 64721)] \u001b[0m\u001b[22m\u001b[0m\n",
      "\u001b[35m2024-06-22 12:43:34.657 \u001b[0m\u001b[32m[1719053012381214/show_metrics/5 (pid 64721)] \u001b[0m\u001b[22maccuracy                           1.00        30\u001b[0m\n",
      "\u001b[35m2024-06-22 12:43:34.657 \u001b[0m\u001b[32m[1719053012381214/show_metrics/5 (pid 64721)] \u001b[0m\u001b[22mmacro avg       1.00      1.00      1.00        30\u001b[0m\n",
      "\u001b[35m2024-06-22 12:43:34.657 \u001b[0m\u001b[32m[1719053012381214/show_metrics/5 (pid 64721)] \u001b[0m\u001b[22mweighted avg       1.00      1.00      1.00        30\u001b[0m\n",
      "\u001b[35m2024-06-22 12:43:34.657 \u001b[0m\u001b[32m[1719053012381214/show_metrics/5 (pid 64721)] \u001b[0m\u001b[22m\u001b[0m\n",
      "\u001b[35m2024-06-22 12:43:34.657 \u001b[0m\u001b[32m[1719053012381214/show_metrics/5 (pid 64721)] \u001b[0m\u001b[1mTask finished successfully.\u001b[0m\n",
      "\u001b[35m2024-06-22 12:43:34.662 \u001b[0m\u001b[32m[1719053012381214/register_model/6 (pid 64724)] \u001b[0m\u001b[1mTask is starting.\u001b[0m\n",
      "\u001b[35m2024-06-22 12:43:35.046 \u001b[0m\u001b[32m[1719053012381214/register_model/6 (pid 64724)] \u001b[0m\u001b[22mModel saved as random_forest_model.pkl\u001b[0m\n",
      "\u001b[35m2024-06-22 12:43:35.107 \u001b[0m\u001b[32m[1719053012381214/register_model/6 (pid 64724)] \u001b[0m\u001b[1mTask finished successfully.\u001b[0m\n",
      "\u001b[35m2024-06-22 12:43:35.112 \u001b[0m\u001b[32m[1719053012381214/end/7 (pid 64727)] \u001b[0m\u001b[1mTask is starting.\u001b[0m\n",
      "\u001b[35m2024-06-22 12:43:35.547 \u001b[0m\u001b[32m[1719053012381214/end/7 (pid 64727)] \u001b[0m\u001b[1mTask finished successfully.\u001b[0m\n",
      "\u001b[35m2024-06-22 12:43:35.547 \u001b[0m\u001b[1mDone!\u001b[0m\n"
     ]
    }
   ],
   "source": [
    "!python metaflow_trainingflow.py run --max_depth 2 --n_estimators 100 --random_state 0"
   ]
  }
 ],
 "metadata": {
  "kernelspec": {
   "display_name": "productionalization",
   "language": "python",
   "name": "python3"
  },
  "language_info": {
   "codemirror_mode": {
    "name": "ipython",
    "version": 3
   },
   "file_extension": ".py",
   "mimetype": "text/x-python",
   "name": "python",
   "nbconvert_exporter": "python",
   "pygments_lexer": "ipython3",
   "version": "3.10.14"
  },
  "orig_nbformat": 4,
  "vscode": {
   "interpreter": {
    "hash": "5ed29f95de7cc8ac0f18a32ccae5fbddd3dba9010e060d505f2ebe31fc64f080"
   }
  }
 },
 "nbformat": 4,
 "nbformat_minor": 2
}

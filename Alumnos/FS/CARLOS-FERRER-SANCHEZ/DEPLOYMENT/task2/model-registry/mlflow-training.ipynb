{
 "cells": [
  {
   "attachments": {},
   "cell_type": "markdown",
   "metadata": {},
   "source": [
    "<font color=\"#CA3532\"><h1 align=\"left\">Master Data Analytics. EDEM.</h1></font>\n",
    "<font color=\"#6E6E6E\"><h2 align=\"left\">Herramientas MLOps.</h2></font> \n",
    "<font color=\"#6E6E6E\"><h2 align=\"left\">Tarea 2. Usando MLFlow como model registry.</h2></font> \n",
    "#### Daniel Ruiz Riquelme"
   ]
  },
  {
   "cell_type": "code",
   "execution_count": 8,
   "metadata": {},
   "outputs": [],
   "source": [
    "import mlflow\n",
    "from mlflow import log_metric, log_param, log_artifact"
   ]
  },
  {
   "cell_type": "code",
   "execution_count": null,
   "metadata": {},
   "outputs": [],
   "source": [
    "!pwd"
   ]
  },
  {
   "cell_type": "code",
   "execution_count": null,
   "metadata": {},
   "outputs": [],
   "source": [
    "# 1. Install MLFlow\n",
    "# !pip install mlflow[extras]\n",
    "# !pip freeze | grep mlflow"
   ]
  },
  {
   "cell_type": "code",
   "execution_count": null,
   "metadata": {},
   "outputs": [],
   "source": [
    "# 2. Setup MLFlow Tracking Server\n",
    "# Run the following command in a terminal to start the MLFlow Tracking Server\n",
    "# Configure mlflow to store all in a local directory\n",
    "# !mlflow server --backend-store-uri ./mlruns --default-artifact-root ./mlruns"
   ]
  },
  {
   "cell_type": "code",
   "execution_count": 9,
   "metadata": {},
   "outputs": [
    {
     "name": "stderr",
     "output_type": "stream",
     "text": [
      "2024/06/22 11:41:52 INFO mlflow.tracking.fluent: Experiment with name 'mlflow-model-training-iris' does not exist. Creating a new experiment.\n"
     ]
    },
    {
     "data": {
      "text/plain": [
       "<Experiment: artifact_location='./mlruns/396890877033717685', creation_time=1719049312593, experiment_id='396890877033717685', last_update_time=1719049312593, lifecycle_stage='active', name='mlflow-model-training-iris', tags={}>"
      ]
     },
     "execution_count": 9,
     "metadata": {},
     "output_type": "execute_result"
    }
   ],
   "source": [
    "# 3. Create a new experiment\n",
    "# This is a local tracking server. You can also use a remote tracking server. See https://mlflow.org/docs/latest/tracking.html for more details.\n",
    "# Remote tracking server will be simulated later\n",
    "\n",
    "import mlflow\n",
    "mlflow.set_tracking_uri(\"http://127.0.0.1:5000\")\n",
    "mlflow.set_experiment(\"mlflow-model-training-iris\")"
   ]
  },
  {
   "cell_type": "code",
   "execution_count": 10,
   "metadata": {},
   "outputs": [],
   "source": [
    "# 4. Log a model experiment result\n",
    "\n",
    "# Lets first create a simple function to train a model\n",
    "# The function will receive a set of hyperparameters and return the model and the accuracy\n",
    "import datetime\n",
    "\n",
    "def get_data():\n",
    "    from sklearn import datasets\n",
    "\n",
    "    # X, y = datasets.make_classification(n_samples=1000, n_features=4, n_informative=4, n_redundant=0, n_classes=3, n_clusters_per_class=1, class_sep=0.5, random_state=40)\n",
    "    # use iris dataset\n",
    "    X, y = datasets.load_breast_cancer(return_X_y=True)\n",
    "    return X, y\n",
    "\n",
    "def train_model(hyperparameters):\n",
    "    from sklearn.ensemble import RandomForestClassifier\n",
    "    from sklearn.metrics import accuracy_score\n",
    "    from sklearn.model_selection import train_test_split\n",
    "    import mlflow.sklearn\n",
    "    X, y = get_data()\n",
    "    X_train, X_test, y_train, y_test = train_test_split(X, y, test_size=0.2, random_state=40)\n",
    "    model = RandomForestClassifier(**hyperparameters)\n",
    "    model.fit(X_train, y_train)\n",
    "    y_pred = model.predict(X_test)\n",
    "    accuracy = accuracy_score(y_pred, y_test)\n",
    "    return model, accuracy\n",
    "\n",
    "# Now lets train a model with some hyperparameters\n",
    "hyperparameters = {\"n_estimators\": 10, \"max_depth\": 5}\n",
    "model, accuracy = train_model(hyperparameters)\n",
    "\n",
    "# Now lets log the model and the accuracy\n",
    "date = datetime.datetime.now().strftime(\"%Y-%m-%d-%H-%M-%S\")\n",
    "with mlflow.start_run(run_name=f\"mlflow-training-{date}\"):\n",
    "    \n",
    "    # Hyperparameters are logged as parameters\n",
    "    for hyperparameter, value in hyperparameters.items():\n",
    "        mlflow.log_param(hyperparameter, value)\n",
    "    \n",
    "    # Accuracy is logged as a metric \n",
    "    mlflow.log_metric(\"accuracy\", accuracy)\n",
    "    \n",
    "    # Model is logged as an artifact\n",
    "    mlflow.sklearn.log_model(model, \"model\")"
   ]
  },
  {
   "cell_type": "code",
   "execution_count": 11,
   "metadata": {},
   "outputs": [
    {
     "name": "stderr",
     "output_type": "stream",
     "text": [
      "\u001b[32m[I 2024-06-22 11:42:00,977]\u001b[0m A new study created in memory with name: no-name-2530a62f-62e8-4222-8f95-0fbe3de9b69a\u001b[0m\n",
      "\u001b[32m[I 2024-06-22 11:42:01,323]\u001b[0m Trial 0 finished with value: 0.9508306163639186 and parameters: {'n_estimators': 50, 'max_depth': 4, 'min_samples_split': 11, 'min_samples_leaf': 9, 'max_features': 0.5052479158064491}. Best is trial 0 with value: 0.9508306163639186.\u001b[0m\n",
      "\u001b[32m[I 2024-06-22 11:42:01,914]\u001b[0m Trial 1 finished with value: 0.943797546964757 and parameters: {'n_estimators': 86, 'max_depth': 7, 'min_samples_split': 11, 'min_samples_leaf': 15, 'max_features': 0.6902952164736533}. Best is trial 1 with value: 0.943797546964757.\u001b[0m\n",
      "\u001b[32m[I 2024-06-22 11:42:02,424]\u001b[0m Trial 2 finished with value: 0.9473218444340941 and parameters: {'n_estimators': 70, 'max_depth': 4, 'min_samples_split': 11, 'min_samples_leaf': 13, 'max_features': 0.7579088562601933}. Best is trial 1 with value: 0.943797546964757.\u001b[0m\n",
      "\u001b[32m[I 2024-06-22 11:42:02,853]\u001b[0m Trial 3 finished with value: 0.9437820214252446 and parameters: {'n_estimators': 75, 'max_depth': 5, 'min_samples_split': 9, 'min_samples_leaf': 16, 'max_features': 0.5144715664819227}. Best is trial 3 with value: 0.9437820214252446.\u001b[0m\n",
      "\u001b[32m[I 2024-06-22 11:42:03,300]\u001b[0m Trial 4 finished with value: 0.9490607048594939 and parameters: {'n_estimators': 98, 'max_depth': 7, 'min_samples_split': 17, 'min_samples_leaf': 13, 'max_features': 0.3049429523198502}. Best is trial 3 with value: 0.9437820214252446.\u001b[0m\n",
      "\u001b[32m[I 2024-06-22 11:42:03,542]\u001b[0m Trial 5 finished with value: 0.9473063188945815 and parameters: {'n_estimators': 53, 'max_depth': 2, 'min_samples_split': 10, 'min_samples_leaf': 18, 'max_features': 0.4061361430376438}. Best is trial 3 with value: 0.9437820214252446.\u001b[0m\n",
      "\u001b[32m[I 2024-06-22 11:42:04,142]\u001b[0m Trial 6 finished with value: 0.9578481602235677 and parameters: {'n_estimators': 95, 'max_depth': 5, 'min_samples_split': 8, 'min_samples_leaf': 5, 'max_features': 0.527681310549481}. Best is trial 3 with value: 0.9437820214252446.\u001b[0m\n",
      "\u001b[32m[I 2024-06-22 11:42:04,461]\u001b[0m Trial 7 finished with value: 0.9490607048594939 and parameters: {'n_estimators': 69, 'max_depth': 6, 'min_samples_split': 15, 'min_samples_leaf': 10, 'max_features': 0.33106660914681585}. Best is trial 3 with value: 0.9437820214252446.\u001b[0m\n",
      "\u001b[32m[I 2024-06-22 11:42:04,801]\u001b[0m Trial 8 finished with value: 0.9560937742586555 and parameters: {'n_estimators': 36, 'max_depth': 9, 'min_samples_split': 12, 'min_samples_leaf': 4, 'max_features': 0.861726986058333}. Best is trial 3 with value: 0.9437820214252446.\u001b[0m\n",
      "\u001b[32m[I 2024-06-22 11:42:04,971]\u001b[0m Trial 9 finished with value: 0.9420431609998448 and parameters: {'n_estimators': 37, 'max_depth': 9, 'min_samples_split': 17, 'min_samples_leaf': 19, 'max_features': 0.2764876130939443}. Best is trial 9 with value: 0.9420431609998448.\u001b[0m\n",
      "\u001b[32m[I 2024-06-22 11:42:05,037]\u001b[0m Trial 10 finished with value: 0.9315013196708586 and parameters: {'n_estimators': 12, 'max_depth': 10, 'min_samples_split': 2, 'min_samples_leaf': 20, 'max_features': 0.12020112411990419}. Best is trial 10 with value: 0.9315013196708586.\u001b[0m\n",
      "\u001b[32m[I 2024-06-22 11:42:05,074]\u001b[0m Trial 11 finished with value: 0.9051389535786368 and parameters: {'n_estimators': 2, 'max_depth': 10, 'min_samples_split': 2, 'min_samples_leaf': 20, 'max_features': 0.11793072421528178}. Best is trial 11 with value: 0.9051389535786368.\u001b[0m\n",
      "\u001b[32m[I 2024-06-22 11:42:05,107]\u001b[0m Trial 12 finished with value: 0.8963514982145628 and parameters: {'n_estimators': 1, 'max_depth': 10, 'min_samples_split': 2, 'min_samples_leaf': 20, 'max_features': 0.11936787230842749}. Best is trial 12 with value: 0.8963514982145628.\u001b[0m\n",
      "\u001b[32m[I 2024-06-22 11:42:05,139]\u001b[0m Trial 13 finished with value: 0.920975003881385 and parameters: {'n_estimators': 1, 'max_depth': 10, 'min_samples_split': 2, 'min_samples_leaf': 1, 'max_features': 0.12541988294679776}. Best is trial 12 with value: 0.8963514982145628.\u001b[0m\n",
      "\u001b[32m[I 2024-06-22 11:42:05,211]\u001b[0m Trial 14 finished with value: 0.9385343890700202 and parameters: {'n_estimators': 15, 'max_depth': 8, 'min_samples_split': 5, 'min_samples_leaf': 20, 'max_features': 0.128229587792218}. Best is trial 12 with value: 0.8963514982145628.\u001b[0m\n",
      "\u001b[32m[I 2024-06-22 11:42:05,243]\u001b[0m Trial 15 finished with value: 0.912187548517311 and parameters: {'n_estimators': 1, 'max_depth': 10, 'min_samples_split': 5, 'min_samples_leaf': 17, 'max_features': 0.22926107724009281}. Best is trial 12 with value: 0.8963514982145628.\u001b[0m\n",
      "\u001b[32m[I 2024-06-22 11:42:05,474]\u001b[0m Trial 16 finished with value: 0.9437820214252446 and parameters: {'n_estimators': 22, 'max_depth': 8, 'min_samples_split': 5, 'min_samples_leaf': 16, 'max_features': 0.9804805092091643}. Best is trial 12 with value: 0.8963514982145628.\u001b[0m\n",
      "\u001b[32m[I 2024-06-22 11:42:05,983]\u001b[0m Trial 17 finished with value: 0.9437820214252446 and parameters: {'n_estimators': 27, 'max_depth': 8, 'min_samples_split': 20, 'min_samples_leaf': 12, 'max_features': 0.42428700047796497}. Best is trial 12 with value: 0.8963514982145628.\u001b[0m\n",
      "\u001b[32m[I 2024-06-22 11:42:06,055]\u001b[0m Trial 18 finished with value: 0.9403043005744449 and parameters: {'n_estimators': 11, 'max_depth': 9, 'min_samples_split': 4, 'min_samples_leaf': 14, 'max_features': 0.20817831190463}. Best is trial 12 with value: 0.8963514982145628.\u001b[0m\n",
      "\u001b[32m[I 2024-06-22 11:42:06,245]\u001b[0m Trial 19 finished with value: 0.943766495885732 and parameters: {'n_estimators': 32, 'max_depth': 2, 'min_samples_split': 7, 'min_samples_leaf': 18, 'max_features': 0.6363372820489789}. Best is trial 12 with value: 0.8963514982145628.\u001b[0m\n",
      "\u001b[32m[I 2024-06-22 11:42:06,511]\u001b[0m Trial 20 finished with value: 0.9560937742586555 and parameters: {'n_estimators': 49, 'max_depth': 10, 'min_samples_split': 3, 'min_samples_leaf': 9, 'max_features': 0.39244047237290036}. Best is trial 12 with value: 0.8963514982145628.\u001b[0m\n",
      "\u001b[32m[I 2024-06-22 11:42:06,549]\u001b[0m Trial 21 finished with value: 0.9367489520260829 and parameters: {'n_estimators': 2, 'max_depth': 10, 'min_samples_split': 6, 'min_samples_leaf': 17, 'max_features': 0.2093212109248711}. Best is trial 12 with value: 0.8963514982145628.\u001b[0m\n",
      "\u001b[32m[I 2024-06-22 11:42:06,580]\u001b[0m Trial 22 finished with value: 0.9244993013507219 and parameters: {'n_estimators': 1, 'max_depth': 9, 'min_samples_split': 4, 'min_samples_leaf': 20, 'max_features': 0.2128757517540452}. Best is trial 12 with value: 0.8963514982145628.\u001b[0m\n",
      "\u001b[32m[I 2024-06-22 11:42:06,674]\u001b[0m Trial 23 finished with value: 0.9420121099208197 and parameters: {'n_estimators': 17, 'max_depth': 10, 'min_samples_split': 2, 'min_samples_leaf': 18, 'max_features': 0.21746361992946556}. Best is trial 12 with value: 0.8963514982145628.\u001b[0m\n",
      "\u001b[32m[I 2024-06-22 11:42:06,727]\u001b[0m Trial 24 finished with value: 0.9402732494954199 and parameters: {'n_estimators': 8, 'max_depth': 9, 'min_samples_split': 6, 'min_samples_leaf': 17, 'max_features': 0.10968850657771768}. Best is trial 12 with value: 0.8963514982145628.\u001b[0m\n",
      "\u001b[32m[I 2024-06-22 11:42:06,859]\u001b[0m Trial 25 finished with value: 0.9455519329296692 and parameters: {'n_estimators': 24, 'max_depth': 7, 'min_samples_split': 4, 'min_samples_leaf': 20, 'max_features': 0.2656293083254878}. Best is trial 12 with value: 0.8963514982145628.\u001b[0m\n",
      "\u001b[32m[I 2024-06-22 11:42:06,920]\u001b[0m Trial 26 finished with value: 0.9385499146095327 and parameters: {'n_estimators': 8, 'max_depth': 8, 'min_samples_split': 3, 'min_samples_leaf': 15, 'max_features': 0.1656742522519382}. Best is trial 12 with value: 0.8963514982145628.\u001b[0m\n",
      "\u001b[32m[I 2024-06-22 11:42:07,047]\u001b[0m Trial 27 finished with value: 0.9385343890700202 and parameters: {'n_estimators': 20, 'max_depth': 10, 'min_samples_split': 7, 'min_samples_leaf': 18, 'max_features': 0.3382840242308444}. Best is trial 12 with value: 0.8963514982145628.\u001b[0m\n",
      "\u001b[32m[I 2024-06-22 11:42:07,230]\u001b[0m Trial 28 finished with value: 0.9543393882937432 and parameters: {'n_estimators': 43, 'max_depth': 9, 'min_samples_split': 2, 'min_samples_leaf': 7, 'max_features': 0.1741731405324527}. Best is trial 12 with value: 0.8963514982145628.\u001b[0m\n",
      "\u001b[32m[I 2024-06-22 11:42:07,298]\u001b[0m Trial 29 finished with value: 0.9455364073901567 and parameters: {'n_estimators': 7, 'max_depth': 3, 'min_samples_split': 5, 'min_samples_leaf': 11, 'max_features': 0.5910227664738733}. Best is trial 12 with value: 0.8963514982145628.\u001b[0m\n",
      "\u001b[32m[I 2024-06-22 11:42:07,548]\u001b[0m Trial 30 finished with value: 0.9507995652848937 and parameters: {'n_estimators': 58, 'max_depth': 8, 'min_samples_split': 14, 'min_samples_leaf': 16, 'max_features': 0.27070612408384276}. Best is trial 12 with value: 0.8963514982145628.\u001b[0m\n",
      "\u001b[32m[I 2024-06-22 11:42:07,581]\u001b[0m Trial 31 finished with value: 0.9262071106970966 and parameters: {'n_estimators': 1, 'max_depth': 10, 'min_samples_split': 3, 'min_samples_leaf': 1, 'max_features': 0.10440754100285371}. Best is trial 12 with value: 0.8963514982145628.\u001b[0m\n",
      "\u001b[32m[I 2024-06-22 11:42:07,631]\u001b[0m Trial 32 finished with value: 0.9437820214252446 and parameters: {'n_estimators': 6, 'max_depth': 10, 'min_samples_split': 2, 'min_samples_leaf': 1, 'max_features': 0.16408175740492026}. Best is trial 12 with value: 0.8963514982145628.\u001b[0m\n",
      "\u001b[32m[I 2024-06-22 11:42:07,740]\u001b[0m Trial 33 finished with value: 0.95960254618848 and parameters: {'n_estimators': 15, 'max_depth': 9, 'min_samples_split': 3, 'min_samples_leaf': 6, 'max_features': 0.16711488520307782}. Best is trial 12 with value: 0.8963514982145628.\u001b[0m\n",
      "\u001b[32m[I 2024-06-22 11:42:07,784]\u001b[0m Trial 34 finished with value: 0.9174196553330228 and parameters: {'n_estimators': 1, 'max_depth': 10, 'min_samples_split': 4, 'min_samples_leaf': 19, 'max_features': 0.2436012622934099}. Best is trial 12 with value: 0.8963514982145628.\u001b[0m\n",
      "\u001b[32m[I 2024-06-22 11:42:07,852]\u001b[0m Trial 35 finished with value: 0.9420276354603322 and parameters: {'n_estimators': 11, 'max_depth': 9, 'min_samples_split': 6, 'min_samples_leaf': 19, 'max_features': 0.2531083824122048}. Best is trial 12 with value: 0.8963514982145628.\u001b[0m\n",
      "\u001b[32m[I 2024-06-22 11:42:08,000]\u001b[0m Trial 36 finished with value: 0.940304300574445 and parameters: {'n_estimators': 28, 'max_depth': 6, 'min_samples_split': 9, 'min_samples_leaf': 19, 'max_features': 0.36123689764280353}. Best is trial 12 with value: 0.8963514982145628.\u001b[0m\n",
      "\u001b[32m[I 2024-06-22 11:42:08,115]\u001b[0m Trial 37 finished with value: 0.9402887750349326 and parameters: {'n_estimators': 18, 'max_depth': 10, 'min_samples_split': 4, 'min_samples_leaf': 14, 'max_features': 0.4295546533057444}. Best is trial 12 with value: 0.8963514982145628.\u001b[0m\n",
      "\u001b[32m[I 2024-06-22 11:42:08,657]\u001b[0m Trial 38 finished with value: 0.9420586865393572 and parameters: {'n_estimators': 80, 'max_depth': 7, 'min_samples_split': 8, 'min_samples_leaf': 17, 'max_features': 0.7074492256607174}. Best is trial 12 with value: 0.8963514982145628.\u001b[0m\n",
      "\u001b[32m[I 2024-06-22 11:42:08,705]\u001b[0m Trial 39 finished with value: 0.9297469337059463 and parameters: {'n_estimators': 5, 'max_depth': 4, 'min_samples_split': 5, 'min_samples_leaf': 15, 'max_features': 0.3066551335762734}. Best is trial 12 with value: 0.8963514982145628.\u001b[0m\n",
      "\u001b[32m[I 2024-06-22 11:42:09,043]\u001b[0m Trial 40 finished with value: 0.9402887750349324 and parameters: {'n_estimators': 61, 'max_depth': 7, 'min_samples_split': 10, 'min_samples_leaf': 19, 'max_features': 0.5005607229656375}. Best is trial 12 with value: 0.8963514982145628.\u001b[0m\n",
      "\u001b[32m[I 2024-06-22 11:42:09,078]\u001b[0m Trial 41 finished with value: 0.9367023754075454 and parameters: {'n_estimators': 2, 'max_depth': 10, 'min_samples_split': 2, 'min_samples_leaf': 4, 'max_features': 0.14970539083582032}. Best is trial 12 with value: 0.8963514982145628.\u001b[0m\n",
      "\u001b[32m[I 2024-06-22 11:42:09,157]\u001b[0m Trial 42 finished with value: 0.9648501785437045 and parameters: {'n_estimators': 12, 'max_depth': 10, 'min_samples_split': 3, 'min_samples_leaf': 3, 'max_features': 0.23739989053696653}. Best is trial 12 with value: 0.8963514982145628.\u001b[0m\n",
      "\u001b[32m[I 2024-06-22 11:42:09,219]\u001b[0m Trial 43 finished with value: 0.9437509703462194 and parameters: {'n_estimators': 6, 'max_depth': 9, 'min_samples_split': 4, 'min_samples_leaf': 7, 'max_features': 0.47617795402984353}. Best is trial 12 with value: 0.8963514982145628.\u001b[0m\n",
      "\u001b[32m[I 2024-06-22 11:42:09,250]\u001b[0m Trial 44 finished with value: 0.9103865859338611 and parameters: {'n_estimators': 1, 'max_depth': 10, 'min_samples_split': 2, 'min_samples_leaf': 20, 'max_features': 0.18649853620047488}. Best is trial 12 with value: 0.8963514982145628.\u001b[0m\n",
      "\u001b[32m[I 2024-06-22 11:42:09,331]\u001b[0m Trial 45 finished with value: 0.9385188635305077 and parameters: {'n_estimators': 14, 'max_depth': 5, 'min_samples_split': 12, 'min_samples_leaf': 20, 'max_features': 0.2962321044483699}. Best is trial 12 with value: 0.8963514982145628.\u001b[0m\n",
      "\u001b[32m[I 2024-06-22 11:42:09,651]\u001b[0m Trial 46 finished with value: 0.9455519329296693 and parameters: {'n_estimators': 93, 'max_depth': 9, 'min_samples_split': 3, 'min_samples_leaf': 18, 'max_features': 0.19929862658129663}. Best is trial 12 with value: 0.8963514982145628.\u001b[0m\n",
      "\u001b[32m[I 2024-06-22 11:42:09,711]\u001b[0m Trial 47 finished with value: 0.9367334264865704 and parameters: {'n_estimators': 11, 'max_depth': 10, 'min_samples_split': 7, 'min_samples_leaf': 19, 'max_features': 0.10383371764812556}. Best is trial 12 with value: 0.8963514982145628.\u001b[0m\n",
      "\u001b[32m[I 2024-06-22 11:42:09,840]\u001b[0m Trial 48 finished with value: 0.9420431609998449 and parameters: {'n_estimators': 23, 'max_depth': 8, 'min_samples_split': 5, 'min_samples_leaf': 17, 'max_features': 0.3601255060914459}. Best is trial 12 with value: 0.8963514982145628.\u001b[0m\n",
      "\u001b[32m[I 2024-06-22 11:42:09,920]\u001b[0m Trial 49 finished with value: 0.9332557056357709 and parameters: {'n_estimators': 7, 'max_depth': 10, 'min_samples_split': 2, 'min_samples_leaf': 19, 'max_features': 0.8644740739342887}. Best is trial 12 with value: 0.8963514982145628.\u001b[0m\n",
      "\u001b[32m[I 2024-06-22 11:42:10,005]\u001b[0m Trial 50 finished with value: 0.9367644775655954 and parameters: {'n_estimators': 18, 'max_depth': 9, 'min_samples_split': 20, 'min_samples_leaf': 20, 'max_features': 0.14897575278531686}. Best is trial 12 with value: 0.8963514982145628.\u001b[0m\n",
      "\u001b[32m[I 2024-06-22 11:42:10,052]\u001b[0m Trial 51 finished with value: 0.9279770222015215 and parameters: {'n_estimators': 2, 'max_depth': 10, 'min_samples_split': 3, 'min_samples_leaf': 20, 'max_features': 0.1909582567497029}. Best is trial 12 with value: 0.8963514982145628.\u001b[0m\n",
      "\u001b[32m[I 2024-06-22 11:42:10,090]\u001b[0m Trial 52 finished with value: 0.8945505356311132 and parameters: {'n_estimators': 1, 'max_depth': 10, 'min_samples_split': 2, 'min_samples_leaf': 18, 'max_features': 0.2517415394644233}. Best is trial 52 with value: 0.8945505356311132.\u001b[0m\n",
      "\u001b[32m[I 2024-06-22 11:42:10,177]\u001b[0m Trial 53 finished with value: 0.9279770222015216 and parameters: {'n_estimators': 5, 'max_depth': 9, 'min_samples_split': 4, 'min_samples_leaf': 18, 'max_features': 0.24283279301546912}. Best is trial 52 with value: 0.8945505356311132.\u001b[0m\n",
      "\u001b[32m[I 2024-06-22 11:42:10,280]\u001b[0m Trial 54 finished with value: 0.9385343890700202 and parameters: {'n_estimators': 10, 'max_depth': 10, 'min_samples_split': 2, 'min_samples_leaf': 16, 'max_features': 0.3124474089132093}. Best is trial 52 with value: 0.8945505356311132.\u001b[0m\n",
      "\u001b[32m[I 2024-06-22 11:42:10,332]\u001b[0m Trial 55 finished with value: 0.935010091600683 and parameters: {'n_estimators': 4, 'max_depth': 10, 'min_samples_split': 4, 'min_samples_leaf': 18, 'max_features': 0.13331289222767684}. Best is trial 52 with value: 0.8945505356311132.\u001b[0m\n",
      "\u001b[32m[I 2024-06-22 11:42:10,420]\u001b[0m Trial 56 finished with value: 0.943797546964757 and parameters: {'n_estimators': 15, 'max_depth': 9, 'min_samples_split': 3, 'min_samples_leaf': 17, 'max_features': 0.22295375438742696}. Best is trial 52 with value: 0.8945505356311132.\u001b[0m\n",
      "\u001b[32m[I 2024-06-22 11:42:10,488]\u001b[0m Trial 57 finished with value: 0.943797546964757 and parameters: {'n_estimators': 9, 'max_depth': 10, 'min_samples_split': 2, 'min_samples_leaf': 19, 'max_features': 0.27249848964077583}. Best is trial 52 with value: 0.8945505356311132.\u001b[0m\n",
      "\u001b[32m[I 2024-06-22 11:42:10,525]\u001b[0m Trial 58 finished with value: 0.9192206179164726 and parameters: {'n_estimators': 1, 'max_depth': 9, 'min_samples_split': 6, 'min_samples_leaf': 16, 'max_features': 0.18742518095568106}. Best is trial 52 with value: 0.8945505356311132.\u001b[0m\n",
      "\u001b[32m[I 2024-06-22 11:42:10,674]\u001b[0m Trial 59 finished with value: 0.9437820214252446 and parameters: {'n_estimators': 37, 'max_depth': 8, 'min_samples_split': 5, 'min_samples_leaf': 13, 'max_features': 0.13923162255372545}. Best is trial 52 with value: 0.8945505356311132.\u001b[0m\n",
      "\u001b[32m[I 2024-06-22 11:42:10,820]\u001b[0m Trial 60 finished with value: 0.9385343890700202 and parameters: {'n_estimators': 27, 'max_depth': 10, 'min_samples_split': 3, 'min_samples_leaf': 20, 'max_features': 0.342223308416913}. Best is trial 52 with value: 0.8945505356311132.\u001b[0m\n",
      "\u001b[32m[I 2024-06-22 11:42:10,862]\u001b[0m Trial 61 finished with value: 0.935010091600683 and parameters: {'n_estimators': 4, 'max_depth': 9, 'min_samples_split': 6, 'min_samples_leaf': 16, 'max_features': 0.1930514912991883}. Best is trial 52 with value: 0.8945505356311132.\u001b[0m\n",
      "\u001b[32m[I 2024-06-22 11:42:10,894]\u001b[0m Trial 62 finished with value: 0.9261605340785591 and parameters: {'n_estimators': 1, 'max_depth': 10, 'min_samples_split': 4, 'min_samples_leaf': 18, 'max_features': 0.2307822607893276}. Best is trial 52 with value: 0.8945505356311132.\u001b[0m\n",
      "\u001b[32m[I 2024-06-22 11:42:10,929]\u001b[0m Trial 63 finished with value: 0.9156807949076231 and parameters: {'n_estimators': 1, 'max_depth': 10, 'min_samples_split': 18, 'min_samples_leaf': 19, 'max_features': 0.18738386827126452}. Best is trial 52 with value: 0.8945505356311132.\u001b[0m\n",
      "\u001b[32m[I 2024-06-22 11:42:10,985]\u001b[0m Trial 64 finished with value: 0.9279770222015216 and parameters: {'n_estimators': 9, 'max_depth': 10, 'min_samples_split': 18, 'min_samples_leaf': 19, 'max_features': 0.10091757200109805}. Best is trial 52 with value: 0.8945505356311132.\u001b[0m\n",
      "\u001b[32m[I 2024-06-22 11:42:11,067]\u001b[0m Trial 65 finished with value: 0.9455519329296692 and parameters: {'n_estimators': 14, 'max_depth': 10, 'min_samples_split': 15, 'min_samples_leaf': 20, 'max_features': 0.28544379911921014}. Best is trial 52 with value: 0.8945505356311132.\u001b[0m\n",
      "\u001b[32m[I 2024-06-22 11:42:11,107]\u001b[0m Trial 66 finished with value: 0.9367800031051079 and parameters: {'n_estimators': 4, 'max_depth': 9, 'min_samples_split': 14, 'min_samples_leaf': 17, 'max_features': 0.1303707707822894}. Best is trial 52 with value: 0.8945505356311132.\u001b[0m\n",
      "\u001b[32m[I 2024-06-22 11:42:11,163]\u001b[0m Trial 67 finished with value: 0.9385499146095327 and parameters: {'n_estimators': 8, 'max_depth': 10, 'min_samples_split': 18, 'min_samples_leaf': 18, 'max_features': 0.1668568473822182}. Best is trial 52 with value: 0.8945505356311132.\u001b[0m\n",
      "\u001b[32m[I 2024-06-22 11:42:11,213]\u001b[0m Trial 68 finished with value: 0.9350256171401956 and parameters: {'n_estimators': 4, 'max_depth': 9, 'min_samples_split': 2, 'min_samples_leaf': 20, 'max_features': 0.3868800651306653}. Best is trial 52 with value: 0.8945505356311132.\u001b[0m\n",
      "\u001b[32m[I 2024-06-22 11:42:11,314]\u001b[0m Trial 69 finished with value: 0.9402732494954199 and parameters: {'n_estimators': 20, 'max_depth': 10, 'min_samples_split': 16, 'min_samples_leaf': 19, 'max_features': 0.21957265264052722}. Best is trial 52 with value: 0.8945505356311132.\u001b[0m\n",
      "\u001b[32m[I 2024-06-22 11:42:11,392]\u001b[0m Trial 70 finished with value: 0.9332557056357709 and parameters: {'n_estimators': 13, 'max_depth': 10, 'min_samples_split': 12, 'min_samples_leaf': 18, 'max_features': 0.24049410136250107}. Best is trial 52 with value: 0.8945505356311132.\u001b[0m\n",
      "\u001b[32m[I 2024-06-22 11:42:11,429]\u001b[0m Trial 71 finished with value: 0.9402421984163949 and parameters: {'n_estimators': 2, 'max_depth': 9, 'min_samples_split': 3, 'min_samples_leaf': 17, 'max_features': 0.18535911279260356}. Best is trial 52 with value: 0.8945505356311132.\u001b[0m\n",
      "\u001b[32m[I 2024-06-22 11:42:11,462]\u001b[0m Trial 72 finished with value: 0.8963204471355379 and parameters: {'n_estimators': 1, 'max_depth': 10, 'min_samples_split': 5, 'min_samples_leaf': 15, 'max_features': 0.2602065001911913}. Best is trial 52 with value: 0.8945505356311132.\u001b[0m\n",
      "\u001b[32m[I 2024-06-22 11:42:11,520]\u001b[0m Trial 73 finished with value: 0.9385188635305077 and parameters: {'n_estimators': 6, 'max_depth': 6, 'min_samples_split': 5, 'min_samples_leaf': 15, 'max_features': 0.2539515986335892}. Best is trial 52 with value: 0.8945505356311132.\u001b[0m\n",
      "\u001b[32m[I 2024-06-22 11:42:11,588]\u001b[0m Trial 74 finished with value: 0.9385499146095325 and parameters: {'n_estimators': 9, 'max_depth': 10, 'min_samples_split': 8, 'min_samples_leaf': 19, 'max_features': 0.15119526532322353}. Best is trial 52 with value: 0.8945505356311132.\u001b[0m\n",
      "\u001b[32m[I 2024-06-22 11:42:11,642]\u001b[0m Trial 75 finished with value: 0.9438130725042695 and parameters: {'n_estimators': 4, 'max_depth': 10, 'min_samples_split': 2, 'min_samples_leaf': 20, 'max_features': 0.31685676685997843}. Best is trial 52 with value: 0.8945505356311132.\u001b[0m\n",
      "\u001b[32m[I 2024-06-22 11:42:11,681]\u001b[0m Trial 76 finished with value: 0.8962738705170004 and parameters: {'n_estimators': 1, 'max_depth': 10, 'min_samples_split': 4, 'min_samples_leaf': 19, 'max_features': 0.2769286189801291}. Best is trial 52 with value: 0.8945505356311132.\u001b[0m\n",
      "\u001b[32m[I 2024-06-22 11:42:12,017]\u001b[0m Trial 77 finished with value: 0.9508150908244062 and parameters: {'n_estimators': 73, 'max_depth': 3, 'min_samples_split': 3, 'min_samples_leaf': 14, 'max_features': 0.28327482173434126}. Best is trial 52 with value: 0.8945505356311132.\u001b[0m\n",
      "\u001b[32m[I 2024-06-22 11:42:12,092]\u001b[0m Trial 78 finished with value: 0.9525850023288308 and parameters: {'n_estimators': 11, 'max_depth': 10, 'min_samples_split': 13, 'min_samples_leaf': 10, 'max_features': 0.21088977432703093}. Best is trial 52 with value: 0.8945505356311132.\u001b[0m\n",
      "\u001b[32m[I 2024-06-22 11:42:12,167]\u001b[0m Trial 79 finished with value: 0.9349945660611706 and parameters: {'n_estimators': 7, 'max_depth': 9, 'min_samples_split': 7, 'min_samples_leaf': 16, 'max_features': 0.6091100278757611}. Best is trial 52 with value: 0.8945505356311132.\u001b[0m\n",
      "\u001b[32m[I 2024-06-22 11:42:12,315]\u001b[0m Trial 80 finished with value: 0.9420431609998448 and parameters: {'n_estimators': 42, 'max_depth': 10, 'min_samples_split': 10, 'min_samples_leaf': 18, 'max_features': 0.12269906004399944}. Best is trial 52 with value: 0.8945505356311132.\u001b[0m\n",
      "\u001b[32m[I 2024-06-22 11:42:12,350]\u001b[0m Trial 81 finished with value: 0.9173575531749728 and parameters: {'n_estimators': 1, 'max_depth': 10, 'min_samples_split': 4, 'min_samples_leaf': 19, 'max_features': 0.16479242284319923}. Best is trial 52 with value: 0.8945505356311132.\u001b[0m\n",
      "\u001b[32m[I 2024-06-22 11:42:12,384]\u001b[0m Trial 82 finished with value: 0.9069088650830617 and parameters: {'n_estimators': 1, 'max_depth': 10, 'min_samples_split': 4, 'min_samples_leaf': 20, 'max_features': 0.17309822166130162}. Best is trial 52 with value: 0.8945505356311132.\u001b[0m\n",
      "\u001b[32m[I 2024-06-22 11:42:12,427]\u001b[0m Trial 83 finished with value: 0.9420431609998448 and parameters: {'n_estimators': 4, 'max_depth': 10, 'min_samples_split': 5, 'min_samples_leaf': 20, 'max_features': 0.18543476203937515}. Best is trial 52 with value: 0.8945505356311132.\u001b[0m\n",
      "\u001b[32m[I 2024-06-22 11:42:12,481]\u001b[0m Trial 84 finished with value: 0.9367644775655954 and parameters: {'n_estimators': 7, 'max_depth': 10, 'min_samples_split': 3, 'min_samples_leaf': 20, 'max_features': 0.2646790885335163}. Best is trial 52 with value: 0.8945505356311132.\u001b[0m\n",
      "\u001b[32m[I 2024-06-22 11:42:12,519]\u001b[0m Trial 85 finished with value: 0.9384567613724577 and parameters: {'n_estimators': 3, 'max_depth': 9, 'min_samples_split': 2, 'min_samples_leaf': 18, 'max_features': 0.12274180345627453}. Best is trial 52 with value: 0.8945505356311132.\u001b[0m\n",
      "\u001b[32m[I 2024-06-22 11:42:12,589]\u001b[0m Trial 86 finished with value: 0.9315013196708586 and parameters: {'n_estimators': 6, 'max_depth': 10, 'min_samples_split': 2, 'min_samples_leaf': 19, 'max_features': 0.8062266223131979}. Best is trial 52 with value: 0.8945505356311132.\u001b[0m\n",
      "\u001b[32m[I 2024-06-22 11:42:12,680]\u001b[0m Trial 87 finished with value: 0.9455519329296692 and parameters: {'n_estimators': 16, 'max_depth': 9, 'min_samples_split': 4, 'min_samples_leaf': 17, 'max_features': 0.20501040250907987}. Best is trial 52 with value: 0.8945505356311132.\u001b[0m\n",
      "\u001b[32m[I 2024-06-22 11:42:12,747]\u001b[0m Trial 88 finished with value: 0.943766495885732 and parameters: {'n_estimators': 12, 'max_depth': 10, 'min_samples_split': 5, 'min_samples_leaf': 19, 'max_features': 0.1528087545344853}. Best is trial 52 with value: 0.8945505356311132.\u001b[0m\n",
      "\u001b[32m[I 2024-06-22 11:42:12,781]\u001b[0m Trial 89 finished with value: 0.9139264089427108 and parameters: {'n_estimators': 1, 'max_depth': 10, 'min_samples_split': 4, 'min_samples_leaf': 20, 'max_features': 0.44946355732110055}. Best is trial 52 with value: 0.8945505356311132.\u001b[0m\n",
      "\u001b[32m[I 2024-06-22 11:42:12,872]\u001b[0m Trial 90 finished with value: 0.9420121099208197 and parameters: {'n_estimators': 10, 'max_depth': 9, 'min_samples_split': 4, 'min_samples_leaf': 20, 'max_features': 0.45520932501595573}. Best is trial 52 with value: 0.8945505356311132.\u001b[0m\n",
      "\u001b[32m[I 2024-06-22 11:42:12,930]\u001b[0m Trial 91 finished with value: 0.9191585157584224 and parameters: {'n_estimators': 3, 'max_depth': 10, 'min_samples_split': 6, 'min_samples_leaf': 20, 'max_features': 0.5625276430476789}. Best is trial 52 with value: 0.8945505356311132.\u001b[0m\n",
      "\u001b[32m[I 2024-06-22 11:42:12,969]\u001b[0m Trial 92 finished with value: 0.8944729079335506 and parameters: {'n_estimators': 1, 'max_depth': 10, 'min_samples_split': 3, 'min_samples_leaf': 19, 'max_features': 0.36071046119477557}. Best is trial 92 with value: 0.8944729079335506.\u001b[0m\n",
      "\u001b[32m[I 2024-06-22 11:42:13,039]\u001b[0m Trial 93 finished with value: 0.9385188635305075 and parameters: {'n_estimators': 6, 'max_depth': 10, 'min_samples_split': 3, 'min_samples_leaf': 20, 'max_features': 0.37576981042748137}. Best is trial 92 with value: 0.8944729079335506.\u001b[0m\n",
      "\u001b[32m[I 2024-06-22 11:42:13,107]\u001b[0m Trial 94 finished with value: 0.9438130725042695 and parameters: {'n_estimators': 8, 'max_depth': 10, 'min_samples_split': 3, 'min_samples_leaf': 19, 'max_features': 0.3380068983975629}. Best is trial 92 with value: 0.8944729079335506.\u001b[0m\n",
      "\u001b[32m[I 2024-06-22 11:42:13,144]\u001b[0m Trial 95 finished with value: 0.908663251047974 and parameters: {'n_estimators': 1, 'max_depth': 10, 'min_samples_split': 2, 'min_samples_leaf': 18, 'max_features': 0.45373438731172466}. Best is trial 92 with value: 0.8944729079335506.\u001b[0m\n",
      "\u001b[32m[I 2024-06-22 11:42:13,205]\u001b[0m Trial 96 finished with value: 0.9367644775655954 and parameters: {'n_estimators': 5, 'max_depth': 10, 'min_samples_split': 2, 'min_samples_leaf': 17, 'max_features': 0.5043077243855327}. Best is trial 92 with value: 0.8944729079335506.\u001b[0m\n",
      "\u001b[32m[I 2024-06-22 11:42:13,650]\u001b[0m Trial 97 finished with value: 0.9490762303990063 and parameters: {'n_estimators': 67, 'max_depth': 9, 'min_samples_split': 2, 'min_samples_leaf': 12, 'max_features': 0.5328805579428654}. Best is trial 92 with value: 0.8944729079335506.\u001b[0m\n",
      "\u001b[32m[I 2024-06-22 11:42:13,720]\u001b[0m Trial 98 finished with value: 0.9315013196708586 and parameters: {'n_estimators': 3, 'max_depth': 10, 'min_samples_split': 2, 'min_samples_leaf': 18, 'max_features': 0.31918302794585607}. Best is trial 92 with value: 0.8944729079335506.\u001b[0m\n",
      "\u001b[32m[I 2024-06-22 11:42:13,843]\u001b[0m Trial 99 finished with value: 0.943766495885732 and parameters: {'n_estimators': 9, 'max_depth': 10, 'min_samples_split': 3, 'min_samples_leaf': 15, 'max_features': 0.28777963867253775}. Best is trial 92 with value: 0.8944729079335506.\u001b[0m\n"
     ]
    }
   ],
   "source": [
    "# 5. Run a hyperparameter search and log the results\n",
    "import optuna\n",
    "import mlflow\n",
    "from sklearn.ensemble import RandomForestClassifier\n",
    "from sklearn.model_selection import cross_val_score\n",
    "\n",
    "X, y = get_data()\n",
    "\n",
    "def optimize_rf(trial):\n",
    "    \n",
    "    with mlflow.start_run(run_name=f\"optuna-hp-{trial.number}-{datetime.datetime.now().strftime('%Y-%m-%d-%H-%M-%S')}\"):\n",
    "        # Set the hyperparameter values that we want to optimize\n",
    "        n_estimators = trial.suggest_int('n_estimators', 1, 100)\n",
    "        max_depth = trial.suggest_int('max_depth', 2, 10)\n",
    "        min_samples_split = trial.suggest_int('min_samples_split', 2, 20)\n",
    "        min_samples_leaf = trial.suggest_int('min_samples_leaf', 1, 20)\n",
    "        max_features = trial.suggest_float('max_features', 0.1, 1.0)\n",
    "        \n",
    "        \n",
    "        # Create a random forest classifier using the suggested hyperparameters\n",
    "        rf = RandomForestClassifier(n_estimators=n_estimators, max_depth=max_depth,\n",
    "                                    min_samples_split=min_samples_split,\n",
    "                                    min_samples_leaf=min_samples_leaf,\n",
    "                                    max_features=max_features)\n",
    "        \n",
    "        # Use cross-validation to evaluate the performance of the classifier\n",
    "        scores = cross_val_score(rf, X, y, cv=5)\n",
    "        \n",
    "        # Log the hyperparameters and cross-validation scores to MLflow\n",
    "        mlflow.log_param('n_estimators', n_estimators)\n",
    "        mlflow.log_param('max_depth', max_depth)\n",
    "        mlflow.log_param('min_samples_split', min_samples_split)\n",
    "        mlflow.log_param('min_samples_leaf', min_samples_leaf)\n",
    "        mlflow.log_param('max_features', max_features)\n",
    "        mlflow.log_metric('mean_cv_score', scores.mean())\n",
    "    \n",
    "    # Return the mean of the cross-validation scores as the objective value\n",
    "    return scores.mean()\n",
    "\n",
    "# Create an Optuna study\n",
    "study = optuna.create_study()\n",
    "\n",
    "# Run the optimization loop\n",
    "study.optimize(optimize_rf, n_trials=100)\n",
    "\n",
    "# Get the best hyperparameter values\n",
    "best_params = study.best_params"
   ]
  },
  {
   "cell_type": "code",
   "execution_count": 18,
   "metadata": {},
   "outputs": [
    {
     "name": "stderr",
     "output_type": "stream",
     "text": [
      "Registered model 'random_forest_model' already exists. Creating a new version of this model...\n",
      "2024/06/22 11:45:29 INFO mlflow.tracking._model_registry.client: Waiting up to 300 seconds for model version to finish creation.                     Model name: random_forest_model, version 2\n",
      "Created version '2' of model 'random_forest_model'.\n"
     ]
    }
   ],
   "source": [
    "# 6. Register a model version using the best hyperparameters\n",
    "\n",
    "with mlflow.start_run(run_name=f\"optuna-hp-final\"):\n",
    "    # Create the final model using the best hyperparameters\n",
    "    final_model = RandomForestClassifier(**best_params)\n",
    "\n",
    "    # Train the final model on the entire dataset\n",
    "    final_model.fit(X, y)\n",
    "\n",
    "    # Log the model to the \"Models\" section\n",
    "    mlflow.sklearn.log_model(final_model, \"random_forest_model\", registered_model_name=\"random_forest_model\")\n",
    "\n"
   ]
  },
  {
   "cell_type": "code",
   "execution_count": 21,
   "metadata": {},
   "outputs": [
    {
     "data": {
      "text/plain": [
       "array([0, 0, 0, 0, 0])"
      ]
     },
     "execution_count": 21,
     "metadata": {},
     "output_type": "execute_result"
    }
   ],
   "source": [
    "# 7. Retrieve a model version and use it for prediction\n",
    "\n",
    "import mlflow.pyfunc\n",
    "\n",
    "model_name = \"random_forest_model\"\n",
    "model_version = 2\n",
    "\n",
    "model = mlflow.pyfunc.load_model(\n",
    "    model_uri=f\"models:/{model_name}/{model_version}\"\n",
    ")\n",
    "\n",
    "model.predict(X[:5])"
   ]
  },
  {
   "cell_type": "code",
   "execution_count": 24,
   "metadata": {},
   "outputs": [
    {
     "data": {
      "text/plain": [
       "array([0, 0, 0, 0, 0, 0, 0, 0, 0, 0])"
      ]
     },
     "execution_count": 24,
     "metadata": {},
     "output_type": "execute_result"
    }
   ],
   "source": [
    "import mlflow\n",
    "logged_model = 'runs:/3def78a0e9e345f793e0a7bba55b7919/random_forest_model'\n",
    "\n",
    "# Load model as a PyFuncModel.\n",
    "loaded_model = mlflow.pyfunc.load_model(logged_model)\n",
    "\n",
    "# Predict on a Pandas DataFrame.\n",
    "import pandas as pd\n",
    "loaded_model.predict(X[:10])"
   ]
  },
  {
   "cell_type": "code",
   "execution_count": null,
   "metadata": {},
   "outputs": [],
   "source": [
    "# EXTRA: Deploy the model to a REST API endpoint with mlflow models serve\n",
    "# Set up env variables\n",
    "# export $(grep -v '^#' .env | xargs)\n",
    "# export MLFLOW_TRACKING_URI=http://localhost:5000"
   ]
  },
  {
   "cell_type": "code",
   "execution_count": null,
   "metadata": {},
   "outputs": [],
   "source": [
    "# Using python_function backend\n",
    "# mlflow models serve --model-uri s3://mlflow/1/e18a1a1695e844258403040ae6e6cb4b/artifacts/random_forest_model --env-manager=local -p 5002\n",
    "# Try it out with curl\n",
    "\n",
    "# curl -d '{\"inputs\":[[ 1.48722421,  1.02475923,  6.03974507, -1.72832624]]}' -H 'Content-Type: application/json'  localhost:5002/invocations"
   ]
  },
  {
   "cell_type": "code",
   "execution_count": null,
   "metadata": {},
   "outputs": [],
   "source": [
    "# Using MLServer backend\n",
    "# mlflow models serve --model-uri s3://mlflow/1/e18a1a1695e844258403040ae6e6cb4b/artifacts/random_forest_model --env-manager=local -p 5002 --enable-mlserver\n",
    "# Try it out with curl\n",
    "\n",
    "# curl -d '{\"inputs\":[[ 1.48722421,  1.02475923,  6.03974507, -1.72832624]]}' -H 'Content-Type: application/json'  localhost:5002/invocations\n",
    "\n"
   ]
  },
  {
   "cell_type": "code",
   "execution_count": null,
   "metadata": {},
   "outputs": [],
   "source": [
    "# Undeploy mlflow docker compose\n",
    "# docker-compose down"
   ]
  }
 ],
 "metadata": {
  "kernelspec": {
   "display_name": "productionalization",
   "language": "python",
   "name": "python3"
  },
  "language_info": {
   "codemirror_mode": {
    "name": "ipython",
    "version": 3
   },
   "file_extension": ".py",
   "mimetype": "text/x-python",
   "name": "python",
   "nbconvert_exporter": "python",
   "pygments_lexer": "ipython3",
   "version": "3.1.-1"
  },
  "orig_nbformat": 4,
  "vscode": {
   "interpreter": {
    "hash": "5ed29f95de7cc8ac0f18a32ccae5fbddd3dba9010e060d505f2ebe31fc64f080"
   }
  }
 },
 "nbformat": 4,
 "nbformat_minor": 2
}

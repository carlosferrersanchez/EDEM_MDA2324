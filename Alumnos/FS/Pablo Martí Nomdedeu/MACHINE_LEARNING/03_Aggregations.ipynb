{
  "cells": [
    {
      "cell_type": "markdown",
      "metadata": {
        "id": "s4YqddS_vlYH"
      },
      "source": [
        "# Aggregations and Grouping"
      ]
    },
    {
      "cell_type": "markdown",
      "metadata": {
        "id": "WwNMmP6GvoDQ"
      },
      "source": [
        "## Prerrequisites"
      ]
    },
    {
      "cell_type": "markdown",
      "source": [],
      "metadata": {
        "id": "wyW5OVF17Nlr"
      }
    },
    {
      "cell_type": "markdown",
      "metadata": {
        "id": "HvezyELEvqZH"
      },
      "source": [
        "Install Spark and Java in VM"
      ]
    },
    {
      "cell_type": "code",
      "execution_count": null,
      "metadata": {
        "id": "7b0-USnDvst_"
      },
      "outputs": [],
      "source": [
        "# install Java8\n",
        "!apt-get install openjdk-8-jdk-headless -qq > /dev/null\n",
        "# download spark 3.5.0\n",
        "!wget -q https://apache.osuosl.org/spark/spark-3.5.0/spark-3.5.0-bin-hadoop3.tgz"
      ]
    },
    {
      "cell_type": "code",
      "execution_count": null,
      "metadata": {
        "colab": {
          "base_uri": "https://localhost:8080/"
        },
        "id": "RnfbBxRivvWX",
        "outputId": "0035c0d5-bb4e-4587-b720-45cd7aafecbf"
      },
      "outputs": [
        {
          "output_type": "stream",
          "name": "stdout",
          "text": [
            "total 391020\n",
            "drwxr-xr-x 1 root root      4096 Jan 11 17:02 \u001b[0m\u001b[01;34msample_data\u001b[0m/\n",
            "-rw-r--r-- 1 root root 400395283 Sep  9 02:10 spark-3.5.0-bin-hadoop3.tgz\n"
          ]
        }
      ],
      "source": [
        "ls -l # check the .tgz is there"
      ]
    },
    {
      "cell_type": "code",
      "execution_count": null,
      "metadata": {
        "id": "IhVzl2vbvxhY"
      },
      "outputs": [],
      "source": [
        "# unzip it\n",
        "!tar xf spark-3.5.0-bin-hadoop3.tgz"
      ]
    },
    {
      "cell_type": "code",
      "execution_count": null,
      "metadata": {
        "id": "8JuU0Aylvxeo"
      },
      "outputs": [],
      "source": [
        "!pip install -q findspark"
      ]
    },
    {
      "cell_type": "code",
      "execution_count": null,
      "metadata": {
        "colab": {
          "base_uri": "https://localhost:8080/"
        },
        "id": "0hvlB3OlvzxX",
        "outputId": "94aeffe0-a327-4397-ae9a-2d674dbc3fdf"
      },
      "outputs": [
        {
          "output_type": "stream",
          "name": "stdout",
          "text": [
            "Requirement already satisfied: py4j in /usr/local/lib/python3.10/dist-packages (0.10.9.7)\n",
            "Requirement already satisfied: folium in /usr/local/lib/python3.10/dist-packages (0.14.0)\n",
            "Requirement already satisfied: branca>=0.6.0 in /usr/local/lib/python3.10/dist-packages (from folium) (0.7.0)\n",
            "Requirement already satisfied: jinja2>=2.9 in /usr/local/lib/python3.10/dist-packages (from folium) (3.1.2)\n",
            "Requirement already satisfied: numpy in /usr/local/lib/python3.10/dist-packages (from folium) (1.23.5)\n",
            "Requirement already satisfied: requests in /usr/local/lib/python3.10/dist-packages (from folium) (2.31.0)\n",
            "Requirement already satisfied: MarkupSafe>=2.0 in /usr/local/lib/python3.10/dist-packages (from jinja2>=2.9->folium) (2.1.3)\n",
            "Requirement already satisfied: charset-normalizer<4,>=2 in /usr/local/lib/python3.10/dist-packages (from requests->folium) (3.3.2)\n",
            "Requirement already satisfied: idna<4,>=2.5 in /usr/local/lib/python3.10/dist-packages (from requests->folium) (3.6)\n",
            "Requirement already satisfied: urllib3<3,>=1.21.1 in /usr/local/lib/python3.10/dist-packages (from requests->folium) (2.0.7)\n",
            "Requirement already satisfied: certifi>=2017.4.17 in /usr/local/lib/python3.10/dist-packages (from requests->folium) (2023.11.17)\n",
            "Requirement already satisfied: plotly in /usr/local/lib/python3.10/dist-packages (5.15.0)\n",
            "Requirement already satisfied: tenacity>=6.2.0 in /usr/local/lib/python3.10/dist-packages (from plotly) (8.2.3)\n",
            "Requirement already satisfied: packaging in /usr/local/lib/python3.10/dist-packages (from plotly) (23.2)\n"
          ]
        }
      ],
      "source": [
        "!pip install py4j\n",
        "\n",
        "# For maps\n",
        "!pip install folium\n",
        "!pip install plotly"
      ]
    },
    {
      "cell_type": "markdown",
      "metadata": {
        "id": "O0C9EzZbv4x4"
      },
      "source": [
        "Define the environment"
      ]
    },
    {
      "cell_type": "code",
      "execution_count": null,
      "metadata": {
        "id": "Rf4ibNTdv7fv"
      },
      "outputs": [],
      "source": [
        "import os\n",
        "os.environ[\"JAVA_HOME\"] = \"/usr/lib/jvm/java-8-openjdk-amd64\"\n",
        "os.environ[\"SPARK_HOME\"] = \"/content/spark-3.5.0-bin-hadoop3\"\n",
        "os.environ[\"PYSPARK_SUBMIT_ARGS\"] = \"--master local[*] pyspark-shell\""
      ]
    },
    {
      "cell_type": "markdown",
      "metadata": {
        "id": "K90Ld_NkvlYI"
      },
      "source": [
        "Start Spark Session\n",
        "\n",
        "---"
      ]
    },
    {
      "cell_type": "code",
      "execution_count": null,
      "metadata": {
        "colab": {
          "base_uri": "https://localhost:8080/",
          "height": 35
        },
        "id": "2Fg_PLR_vlYI",
        "outputId": "bcb88ac3-9ae4-4a4d-b1ea-9f9d9daa9c77"
      },
      "outputs": [
        {
          "output_type": "execute_result",
          "data": {
            "text/plain": [
              "'3.5.0'"
            ],
            "application/vnd.google.colaboratory.intrinsic+json": {
              "type": "string"
            }
          },
          "metadata": {},
          "execution_count": 7
        }
      ],
      "source": [
        "import findspark\n",
        "findspark.init(\"spark-3.5.0-bin-hadoop3\")# SPARK_HOME\n",
        "\n",
        "from pyspark.sql import SparkSession\n",
        "\n",
        "# create the session\n",
        "spark = SparkSession \\\n",
        "        .builder \\\n",
        "        .appName(\"Aggregations and Grouping\") \\\n",
        "        .master(\"local[*]\") \\\n",
        "        .getOrCreate()\n",
        "\n",
        "spark.version"
      ]
    },
    {
      "cell_type": "code",
      "execution_count": null,
      "metadata": {
        "colab": {
          "base_uri": "https://localhost:8080/",
          "height": 219
        },
        "id": "RnamkNcgvlYJ",
        "outputId": "f8b1eb35-d796-4920-9375-b254dcae129b"
      },
      "outputs": [
        {
          "output_type": "execute_result",
          "data": {
            "text/plain": [
              "<pyspark.sql.session.SparkSession at 0x7f4054165db0>"
            ],
            "text/html": [
              "\n",
              "            <div>\n",
              "                <p><b>SparkSession - in-memory</b></p>\n",
              "                \n",
              "        <div>\n",
              "            <p><b>SparkContext</b></p>\n",
              "\n",
              "            <p><a href=\"http://17a92ea8fa86:4040\">Spark UI</a></p>\n",
              "\n",
              "            <dl>\n",
              "              <dt>Version</dt>\n",
              "                <dd><code>v3.5.0</code></dd>\n",
              "              <dt>Master</dt>\n",
              "                <dd><code>local[*]</code></dd>\n",
              "              <dt>AppName</dt>\n",
              "                <dd><code>Aggregations and Grouping</code></dd>\n",
              "            </dl>\n",
              "        </div>\n",
              "        \n",
              "            </div>\n",
              "        "
            ]
          },
          "metadata": {},
          "execution_count": 8
        }
      ],
      "source": [
        "spark"
      ]
    },
    {
      "cell_type": "code",
      "execution_count": null,
      "metadata": {
        "id": "9AGniM-7vlYK"
      },
      "outputs": [],
      "source": [
        "# For Pandas conversion optimization\n",
        "spark.conf.set(\"spark.sql.execution.arrow.enabled\", \"true\")"
      ]
    },
    {
      "cell_type": "code",
      "execution_count": null,
      "metadata": {
        "id": "e0DXUK1fvlYK"
      },
      "outputs": [],
      "source": [
        "# Import sql functions\n",
        "from pyspark.sql.functions import *"
      ]
    },
    {
      "cell_type": "markdown",
      "metadata": {
        "id": "1mCPp9fQwEif"
      },
      "source": [
        "Download datasets"
      ]
    },
    {
      "cell_type": "code",
      "execution_count": null,
      "metadata": {
        "id": "5xTARwq9wLgH",
        "colab": {
          "base_uri": "https://localhost:8080/"
        },
        "outputId": "be23340f-f47b-4a46-888a-59530fb93607"
      },
      "outputs": [
        {
          "output_type": "stream",
          "name": "stdout",
          "text": [
            "characters.csv\tmovies.json  vehicles.csv\n"
          ]
        }
      ],
      "source": [
        "!mkdir -p dataset\n",
        "!wget -q https://raw.githubusercontent.com/paponsro/spark_edem_2324/master/dataset/movies.json -P /dataset\n",
        "!wget -q https://github.com/masfworld/datahack_docker/raw/master/zeppelin/data/vehicles.csv -P /dataset\n",
        "!wget -q https://github.com/masfworld/datahack_docker/raw/master/zeppelin/data/characters.csv -P /dataset\n",
        "!ls /dataset"
      ]
    },
    {
      "cell_type": "markdown",
      "metadata": {
        "id": "yD4q57C_vlYK"
      },
      "source": [
        "Read JSON file\n",
        "\n",
        "---"
      ]
    },
    {
      "cell_type": "code",
      "execution_count": null,
      "metadata": {
        "id": "dZWORhHKvlYK"
      },
      "outputs": [],
      "source": [
        "moviesDF = spark.read \\\n",
        "    .option(\"inferSchema\", True) \\\n",
        "    .json(\"/dataset/movies.json\")"
      ]
    },
    {
      "cell_type": "code",
      "execution_count": null,
      "metadata": {
        "colab": {
          "base_uri": "https://localhost:8080/"
        },
        "id": "4h2S0ponvlYK",
        "outputId": "2e104097-3659-4520-f700-ffcd44d4c86b"
      },
      "outputs": [
        {
          "output_type": "stream",
          "name": "stdout",
          "text": [
            "+-------------+--------+-----------+-----------+----------+-----------+-----------+-----------------+------------+----------------------+----------------+------+----------------------+------------+--------+---------------+\n",
            "|Creative_Type|Director|Distributor|IMDB_Rating|IMDB_Votes|MPAA_Rating|Major_Genre|Production_Budget|Release_Date|Rotten_Tomatoes_Rating|Running_Time_min|Source|Title                 |US_DVD_Sales|US_Gross|Worldwide_Gross|\n",
            "+-------------+--------+-----------+-----------+----------+-----------+-----------+-----------------+------------+----------------------+----------------+------+----------------------+------------+--------+---------------+\n",
            "|NULL         |NULL    |Gramercy   |6.1        |1071      |R          |NULL       |8000000          |12-Jun-98   |NULL                  |NULL            |NULL  |The Land Girls        |NULL        |146083  |146083         |\n",
            "|NULL         |NULL    |Strand     |6.9        |207       |R          |Drama      |300000           |7-Aug-98    |NULL                  |NULL            |NULL  |First Love, Last Rites|NULL        |10876   |10876          |\n",
            "+-------------+--------+-----------+-----------+----------+-----------+-----------+-----------------+------------+----------------------+----------------+------+----------------------+------------+--------+---------------+\n",
            "only showing top 2 rows\n",
            "\n",
            "[StructField('Creative_Type', StringType(), True), StructField('Director', StringType(), True), StructField('Distributor', StringType(), True), StructField('IMDB_Rating', DoubleType(), True), StructField('IMDB_Votes', LongType(), True), StructField('MPAA_Rating', StringType(), True), StructField('Major_Genre', StringType(), True), StructField('Production_Budget', LongType(), True), StructField('Release_Date', StringType(), True), StructField('Rotten_Tomatoes_Rating', LongType(), True), StructField('Running_Time_min', LongType(), True), StructField('Source', StringType(), True), StructField('Title', StringType(), True), StructField('US_DVD_Sales', LongType(), True), StructField('US_Gross', LongType(), True), StructField('Worldwide_Gross', LongType(), True)]\n"
          ]
        },
        {
          "output_type": "execute_result",
          "data": {
            "text/plain": [
              "['Creative_Type',\n",
              " 'Director',\n",
              " 'Distributor',\n",
              " 'IMDB_Rating',\n",
              " 'IMDB_Votes',\n",
              " 'MPAA_Rating',\n",
              " 'Major_Genre',\n",
              " 'Production_Budget',\n",
              " 'Release_Date',\n",
              " 'Rotten_Tomatoes_Rating',\n",
              " 'Running_Time_min',\n",
              " 'Source',\n",
              " 'Title',\n",
              " 'US_DVD_Sales',\n",
              " 'US_Gross',\n",
              " 'Worldwide_Gross']"
            ]
          },
          "metadata": {},
          "execution_count": 13
        }
      ],
      "source": [
        "moviesDF.show(2, False)\n",
        "print(moviesDF.schema.fields)\n",
        "moviesDF.columns"
      ]
    },
    {
      "cell_type": "markdown",
      "metadata": {
        "id": "M7Ab75vzvlYK"
      },
      "source": [
        "## Examples"
      ]
    },
    {
      "cell_type": "markdown",
      "metadata": {
        "id": "3L-vJzo5vlYK"
      },
      "source": [
        "Count"
      ]
    },
    {
      "cell_type": "code",
      "execution_count": null,
      "metadata": {
        "colab": {
          "base_uri": "https://localhost:8080/"
        },
        "id": "eWoq50okvlYL",
        "outputId": "575c1908-faa4-467d-81bd-61d997248997"
      },
      "outputs": [
        {
          "output_type": "execute_result",
          "data": {
            "text/plain": [
              "3201"
            ]
          },
          "metadata": {},
          "execution_count": 14
        }
      ],
      "source": [
        "# df rows counting, including NULLS\n",
        "moviesDF.count()"
      ]
    },
    {
      "cell_type": "code",
      "execution_count": null,
      "metadata": {
        "colab": {
          "base_uri": "https://localhost:8080/"
        },
        "id": "JwFlAfygvlYL",
        "outputId": "1882bef9-7232-4b98-c19b-d1628fff3dcb"
      },
      "outputs": [
        {
          "output_type": "stream",
          "name": "stdout",
          "text": [
            "+------------------+\n",
            "|count(Major_Genre)|\n",
            "+------------------+\n",
            "|              2926|\n",
            "+------------------+\n",
            "\n"
          ]
        }
      ],
      "source": [
        "# using sql functions, NOT including NULLS\n",
        "genresCountDF = moviesDF.select(count(col(\"Major_Genre\")))\n",
        "genresCountDF.show()"
      ]
    },
    {
      "cell_type": "code",
      "execution_count": null,
      "metadata": {
        "colab": {
          "base_uri": "https://localhost:8080/"
        },
        "id": "XOnzyw5pvlYL",
        "outputId": "19ed7d1d-bcf3-4f8d-fc7e-07e6631b09ee"
      },
      "outputs": [
        {
          "output_type": "stream",
          "name": "stdout",
          "text": [
            "+---------------+\n",
            "|count(Director)|\n",
            "+---------------+\n",
            "|           1870|\n",
            "+---------------+\n",
            "\n"
          ]
        }
      ],
      "source": [
        "directorsCountDF = moviesDF.select(count(moviesDF.Director))\n",
        "directorsCountDF.show()"
      ]
    },
    {
      "cell_type": "code",
      "execution_count": null,
      "metadata": {
        "colab": {
          "base_uri": "https://localhost:8080/"
        },
        "id": "I6zWJ2x8vlYL",
        "outputId": "85b66d7e-e5fb-49da-cbfc-39dabccf0505"
      },
      "outputs": [
        {
          "output_type": "stream",
          "name": "stdout",
          "text": [
            "+----------+---------------+\n",
            "|countMajor|count(Director)|\n",
            "+----------+---------------+\n",
            "|      2926|           1870|\n",
            "+----------+---------------+\n",
            "\n"
          ]
        }
      ],
      "source": [
        "moviesDF.select(count(moviesDF.Major_Genre).alias(\"countMajor\"), count(moviesDF.Director)).show()"
      ]
    },
    {
      "cell_type": "code",
      "execution_count": null,
      "metadata": {
        "colab": {
          "base_uri": "https://localhost:8080/"
        },
        "id": "nWOO2IBsvlYL",
        "outputId": "424ddab1-6863-44de-fef7-24c37957928d"
      },
      "outputs": [
        {
          "output_type": "stream",
          "name": "stdout",
          "text": [
            "+---------------+\n",
            "|count(Director)|\n",
            "+---------------+\n",
            "|           1870|\n",
            "+---------------+\n",
            "\n",
            "+-----+\n",
            "|count|\n",
            "+-----+\n",
            "| 1870|\n",
            "+-----+\n",
            "\n"
          ]
        }
      ],
      "source": [
        "#using SQL syntax\n",
        "moviesDF.select(expr(\"count(Director)\")).show()\n",
        "moviesDF.selectExpr(\"count(Director) as count\").show()"
      ]
    },
    {
      "cell_type": "code",
      "execution_count": null,
      "metadata": {
        "id": "QOje34ZavlYL"
      },
      "outputs": [],
      "source": [
        "# using SQL\n",
        "moviesDF.createOrReplaceTempView(\"movies\")"
      ]
    },
    {
      "cell_type": "code",
      "execution_count": null,
      "metadata": {
        "colab": {
          "base_uri": "https://localhost:8080/"
        },
        "id": "-UTqpjafvlYM",
        "outputId": "442c5038-800f-4f2e-f160-763bede85025"
      },
      "outputs": [
        {
          "output_type": "stream",
          "name": "stdout",
          "text": [
            "+---------------+\n",
            "|count(Director)|\n",
            "+---------------+\n",
            "|           1870|\n",
            "+---------------+\n",
            "\n"
          ]
        }
      ],
      "source": [
        "spark.sql(\"select count(Director) from movies\").show()"
      ]
    },
    {
      "cell_type": "code",
      "execution_count": null,
      "metadata": {
        "colab": {
          "base_uri": "https://localhost:8080/"
        },
        "id": "-bsgNq42vlYM",
        "outputId": "46687cee-9f76-420f-8274-b0726399c21e"
      },
      "outputs": [
        {
          "output_type": "stream",
          "name": "stdout",
          "text": [
            "+-------------+------------------+\n",
            "|countDirector|count(Major_Genre)|\n",
            "+-------------+------------------+\n",
            "|         1870|              2926|\n",
            "+-------------+------------------+\n",
            "\n"
          ]
        }
      ],
      "source": [
        "spark.sql(\"select count(Director) as countDirector, count(Major_Genre) from movies\").show()"
      ]
    },
    {
      "cell_type": "markdown",
      "metadata": {
        "id": "7tD9smRhvlYM"
      },
      "source": [
        "Count Distinct"
      ]
    },
    {
      "cell_type": "code",
      "execution_count": null,
      "metadata": {
        "colab": {
          "base_uri": "https://localhost:8080/"
        },
        "id": "ngR6WFUovlYM",
        "outputId": "6b0f1e34-3f13-4efd-c7da-43c34c41e2b3"
      },
      "outputs": [
        {
          "output_type": "stream",
          "name": "stdout",
          "text": [
            "+---------------------------+\n",
            "|count(DISTINCT Major_Genre)|\n",
            "+---------------------------+\n",
            "|                         12|\n",
            "+---------------------------+\n",
            "\n"
          ]
        }
      ],
      "source": [
        "moviesDF.select(countDistinct(moviesDF.Major_Genre)).show()"
      ]
    },
    {
      "cell_type": "code",
      "execution_count": null,
      "metadata": {
        "colab": {
          "base_uri": "https://localhost:8080/"
        },
        "id": "65m9Ev4MvlYM",
        "outputId": "5efdba40-b45c-4363-c234-eeda160694a4"
      },
      "outputs": [
        {
          "output_type": "stream",
          "name": "stdout",
          "text": [
            "+---------------------------+\n",
            "|count(DISTINCT Major_Genre)|\n",
            "+---------------------------+\n",
            "|                         12|\n",
            "+---------------------------+\n",
            "\n"
          ]
        }
      ],
      "source": [
        "spark.sql(\"select count(distinct Major_Genre) from movies\").show()"
      ]
    },
    {
      "cell_type": "markdown",
      "metadata": {
        "id": "wpwLzjsovlYM"
      },
      "source": [
        "Min and max"
      ]
    },
    {
      "cell_type": "code",
      "execution_count": null,
      "metadata": {
        "colab": {
          "base_uri": "https://localhost:8080/"
        },
        "id": "FPOzkXPEvlYN",
        "outputId": "0b660185-f901-4441-889a-26852bab7a87"
      },
      "outputs": [
        {
          "output_type": "stream",
          "name": "stdout",
          "text": [
            "+----------------------+----------------------+\n",
            "|min(Production_Budget)|max(Production_Budget)|\n",
            "+----------------------+----------------------+\n",
            "|                   218|             300000000|\n",
            "+----------------------+----------------------+\n",
            "\n"
          ]
        }
      ],
      "source": [
        "moviesDF.select(min(moviesDF.Production_Budget), max(moviesDF.Production_Budget)).show()"
      ]
    },
    {
      "cell_type": "code",
      "execution_count": null,
      "metadata": {
        "colab": {
          "base_uri": "https://localhost:8080/"
        },
        "id": "pY6U_O43vlYN",
        "outputId": "aeb2f398-9d9a-48bf-ae26-ac8af878aedf"
      },
      "outputs": [
        {
          "output_type": "stream",
          "name": "stdout",
          "text": [
            "+----------------------+\n",
            "|min(Production_Budget)|\n",
            "+----------------------+\n",
            "|                   218|\n",
            "+----------------------+\n",
            "\n"
          ]
        }
      ],
      "source": [
        "spark.sql(\"select min(Production_Budget) from movies\").show()"
      ]
    },
    {
      "cell_type": "markdown",
      "metadata": {
        "id": "ID9Q9X7EvlYN"
      },
      "source": [
        "Sum"
      ]
    },
    {
      "cell_type": "code",
      "execution_count": null,
      "metadata": {
        "colab": {
          "base_uri": "https://localhost:8080/"
        },
        "id": "RHKzZO-6vlYN",
        "outputId": "6bf7808b-b86b-46d7-f4b7-c555a7f5a1e1"
      },
      "outputs": [
        {
          "output_type": "stream",
          "name": "stdout",
          "text": [
            "+-----------+\n",
            "|    salesUS|\n",
            "+-----------+\n",
            "|19684472405|\n",
            "+-----------+\n",
            "\n",
            "+-----------+\n",
            "|      sales|\n",
            "+-----------+\n",
            "|19684472405|\n",
            "+-----------+\n",
            "\n"
          ]
        }
      ],
      "source": [
        "moviesDF.select(sum(moviesDF.US_DVD_Sales).alias(\"salesUS\")).show()\n",
        "moviesDF.selectExpr(\"sum(US_DVD_Sales) as sales\").show()"
      ]
    },
    {
      "cell_type": "markdown",
      "metadata": {
        "id": "Yq5pF3mLvlYN"
      },
      "source": [
        "Average"
      ]
    },
    {
      "cell_type": "code",
      "execution_count": null,
      "metadata": {
        "colab": {
          "base_uri": "https://localhost:8080/"
        },
        "id": "fDVmzYTsvlYN",
        "outputId": "b2b522c5-e87c-46d0-dab7-928938794e6c"
      },
      "outputs": [
        {
          "output_type": "stream",
          "name": "stdout",
          "text": [
            "+----------------------+\n",
            "|avg(Production_Budget)|\n",
            "+----------------------+\n",
            "|    3.10691714484375E7|\n",
            "+----------------------+\n",
            "\n",
            "+----------------------+\n",
            "|avg(Production_Budget)|\n",
            "+----------------------+\n",
            "|    3.10691714484375E7|\n",
            "+----------------------+\n",
            "\n"
          ]
        }
      ],
      "source": [
        "moviesDF.select(avg(moviesDF.Production_Budget)).show()\n",
        "spark.sql(\"select avg(Production_Budget) from movies\").show()"
      ]
    },
    {
      "cell_type": "markdown",
      "metadata": {
        "id": "4RLegmspvlYN"
      },
      "source": [
        "Stats"
      ]
    },
    {
      "cell_type": "code",
      "execution_count": null,
      "metadata": {
        "colab": {
          "base_uri": "https://localhost:8080/"
        },
        "id": "WTJQxCazvlYO",
        "outputId": "c3844886-7dd7-432f-8adc-90c6f9b13c43"
      },
      "outputs": [
        {
          "output_type": "stream",
          "name": "stdout",
          "text": [
            "+---------------------------+\n",
            "|avg(Rotten_Tomatoes_Rating)|\n",
            "+---------------------------+\n",
            "|          54.33692373976734|\n",
            "+---------------------------+\n",
            "\n",
            "+------------------------------+\n",
            "|stddev(Rotten_Tomatoes_Rating)|\n",
            "+------------------------------+\n",
            "|             28.07659263787602|\n",
            "+------------------------------+\n",
            "\n"
          ]
        }
      ],
      "source": [
        "moviesDF.select(mean(moviesDF.Rotten_Tomatoes_Rating)).show()\n",
        "moviesDF.select(stddev(moviesDF.Rotten_Tomatoes_Rating)).show()"
      ]
    },
    {
      "cell_type": "markdown",
      "metadata": {
        "id": "BrbK9dgcvlYO"
      },
      "source": [
        "### Grouping\n",
        "\n",
        "---"
      ]
    },
    {
      "cell_type": "code",
      "execution_count": null,
      "metadata": {
        "colab": {
          "base_uri": "https://localhost:8080/"
        },
        "id": "yYrN8U1ZvlYO",
        "outputId": "dbce37cd-a94b-4c5e-a94e-bde90347cf95"
      },
      "outputs": [
        {
          "output_type": "stream",
          "name": "stdout",
          "text": [
            "+-------------------+-----+\n",
            "|        Major_Genre|count|\n",
            "+-------------------+-----+\n",
            "|Concert/Performance|    5|\n",
            "|       Black Comedy|   36|\n",
            "|            Western|   36|\n",
            "|        Documentary|   43|\n",
            "|            Musical|   53|\n",
            "|    Romantic Comedy|  137|\n",
            "|             Horror|  219|\n",
            "|  Thriller/Suspense|  239|\n",
            "|          Adventure|  274|\n",
            "|               NULL|  275|\n",
            "|             Action|  420|\n",
            "|             Comedy|  675|\n",
            "|              Drama|  789|\n",
            "+-------------------+-----+\n",
            "\n"
          ]
        }
      ],
      "source": [
        "countByGenreGF = moviesDF.groupBy(moviesDF.Major_Genre).count().orderBy(\"count\")\n",
        "countByGenreGF.show()"
      ]
    },
    {
      "cell_type": "code",
      "execution_count": null,
      "metadata": {
        "colab": {
          "base_uri": "https://localhost:8080/"
        },
        "id": "ZZO4-ux9vlYO",
        "outputId": "e4b3f0e2-aebc-4420-e73f-96b1bb4ba31d"
      },
      "outputs": [
        {
          "output_type": "stream",
          "name": "stdout",
          "text": [
            "+-------------------+-----+\n",
            "|        Major_Genre|count|\n",
            "+-------------------+-----+\n",
            "|Concert/Performance|    5|\n",
            "|       Black Comedy|   36|\n",
            "|            Western|   36|\n",
            "|        Documentary|   43|\n",
            "|            Musical|   53|\n",
            "|    Romantic Comedy|  137|\n",
            "|             Horror|  219|\n",
            "|  Thriller/Suspense|  239|\n",
            "|          Adventure|  274|\n",
            "|             Action|  420|\n",
            "|             Comedy|  675|\n",
            "|              Drama|  789|\n",
            "+-------------------+-----+\n",
            "\n"
          ]
        }
      ],
      "source": [
        "spark.sql(\"select Major_Genre, count(Major_Genre) as count from movies where Major_Genre is not null group by Major_Genre order by count\").show()"
      ]
    },
    {
      "cell_type": "code",
      "execution_count": null,
      "metadata": {
        "colab": {
          "base_uri": "https://localhost:8080/"
        },
        "id": "eITO9H-gvlYO",
        "outputId": "54a3ee30-9cc8-4079-8ee8-c8e1fef24b2a"
      },
      "outputs": [
        {
          "output_type": "stream",
          "name": "stdout",
          "text": [
            "+-------------------+------------------+\n",
            "|        Major_Genre|  avg(IMDB_Rating)|\n",
            "+-------------------+------------------+\n",
            "|        Documentary| 6.997297297297298|\n",
            "|            Western| 6.842857142857142|\n",
            "|       Black Comedy|6.8187500000000005|\n",
            "|              Drama| 6.773441734417339|\n",
            "|               NULL|  6.50082644628099|\n",
            "|            Musical|             6.448|\n",
            "|  Thriller/Suspense| 6.360944206008582|\n",
            "|          Adventure| 6.345019920318729|\n",
            "|Concert/Performance|             6.325|\n",
            "|             Action| 6.114795918367349|\n",
            "|    Romantic Comedy| 5.873076923076922|\n",
            "|             Comedy| 5.853858267716529|\n",
            "|             Horror|5.6760765550239185|\n",
            "+-------------------+------------------+\n",
            "\n"
          ]
        }
      ],
      "source": [
        "avgRatingByGenreDF = moviesDF.groupBy(col(\"Major_Genre\")).avg(\"IMDB_Rating\").orderBy(col(\"avg(IMDB_Rating)\").desc())\n",
        "avgRatingByGenreDF.show()"
      ]
    },
    {
      "cell_type": "code",
      "execution_count": null,
      "metadata": {
        "colab": {
          "base_uri": "https://localhost:8080/"
        },
        "id": "vnmu7fuovlYO",
        "outputId": "488a5264-ed3a-4562-b320-790d7da33306"
      },
      "outputs": [
        {
          "output_type": "stream",
          "name": "stdout",
          "text": [
            "+-------------------+------------------+\n",
            "|        Major_Genre|               avg|\n",
            "+-------------------+------------------+\n",
            "|        Documentary| 6.997297297297298|\n",
            "|            Western| 6.842857142857142|\n",
            "|       Black Comedy|6.8187500000000005|\n",
            "|              Drama| 6.773441734417339|\n",
            "|               NULL|  6.50082644628099|\n",
            "|            Musical|             6.448|\n",
            "|  Thriller/Suspense| 6.360944206008582|\n",
            "|          Adventure| 6.345019920318729|\n",
            "|Concert/Performance|             6.325|\n",
            "|             Action| 6.114795918367349|\n",
            "|    Romantic Comedy| 5.873076923076922|\n",
            "|             Comedy| 5.853858267716529|\n",
            "|             Horror|5.6760765550239185|\n",
            "+-------------------+------------------+\n",
            "\n"
          ]
        }
      ],
      "source": [
        "moviesDF.groupBy(col(\"Major_Genre\")).agg(avg(\"IMDB_Rating\") \\\n",
        "    .alias(\"avg\")).orderBy(col(\"avg\").desc()).show()"
      ]
    },
    {
      "cell_type": "code",
      "execution_count": null,
      "metadata": {
        "colab": {
          "base_uri": "https://localhost:8080/"
        },
        "id": "2fk-AjXIvlYO",
        "outputId": "0d6af64c-8367-45cb-8fd6-2eecae65d0f7"
      },
      "outputs": [
        {
          "output_type": "stream",
          "name": "stdout",
          "text": [
            "+-------------------+--------+------------------+\n",
            "|        Major_Genre|N_Movies|            rating|\n",
            "+-------------------+--------+------------------+\n",
            "|        Documentary|      43| 6.997297297297298|\n",
            "|            Western|      36| 6.842857142857142|\n",
            "|       Black Comedy|      36|6.8187500000000005|\n",
            "|              Drama|     789| 6.773441734417339|\n",
            "|               NULL|     275|  6.50082644628099|\n",
            "|            Musical|      53|             6.448|\n",
            "|  Thriller/Suspense|     239| 6.360944206008582|\n",
            "|          Adventure|     274| 6.345019920318729|\n",
            "|Concert/Performance|       5|             6.325|\n",
            "|             Action|     420| 6.114795918367349|\n",
            "|    Romantic Comedy|     137| 5.873076923076922|\n",
            "|             Comedy|     675| 5.853858267716529|\n",
            "|             Horror|     219|5.6760765550239185|\n",
            "+-------------------+--------+------------------+\n",
            "\n"
          ]
        }
      ],
      "source": [
        "aggregationsByGenreDF = moviesDF.groupBy(\"Major_Genre\") \\\n",
        "    .agg(\n",
        "        count(\"*\").alias(\"N_Movies\"),\n",
        "        avg(\"IMDB_Rating\").alias(\"rating\")\n",
        "    ) \\\n",
        "    .orderBy(col(\"rating\").desc()).show()"
      ]
    },
    {
      "cell_type": "markdown",
      "metadata": {
        "id": "cQ3xjlDxvlYP"
      },
      "source": [
        "## Exercises\n",
        "   1. Sum up all the worldwide profits of ALL the movies in the DF. Then sum the worldwide profits per director\n",
        "   2. Count how many distinct directors we have\n",
        "   3. Show the mean and standard deviation of US gross revenue for the movies (all the movies)\n",
        "   4. Compute the average IMDB rating and the average US gross revenue PER DIRECTOR\n",
        "   5. Sum up ALL the profits of ALL the movies in the DF. Then sum ALL the profits per director. Can you see null values? Why? How you can solve it?\n"
      ]
    },
    {
      "cell_type": "markdown",
      "metadata": {
        "id": "dzh5hcajvlYP"
      },
      "source": [
        "Exercise 1"
      ]
    },
    {
      "cell_type": "code",
      "source": [
        "ls/dataset"
      ],
      "metadata": {
        "colab": {
          "base_uri": "https://localhost:8080/"
        },
        "id": "6IUQKZqp8rZ9",
        "outputId": "a2ebcf01-e29c-4c42-8112-4716a89b0644"
      },
      "execution_count": null,
      "outputs": [
        {
          "output_type": "stream",
          "name": "stdout",
          "text": [
            "characters.csv  movies.json  vehicles.csv\n"
          ]
        }
      ]
    },
    {
      "cell_type": "code",
      "source": [
        "from pyspark.sql.functions import sum as spark_sum"
      ],
      "metadata": {
        "id": "orTKr0_49dK-"
      },
      "execution_count": null,
      "outputs": []
    },
    {
      "cell_type": "code",
      "source": [
        "moviesDF = spark.read.option(\"inferSchema\", True).json(\"/dataset/movies.json\")"
      ],
      "metadata": {
        "id": "McDE5XLh8svQ"
      },
      "execution_count": null,
      "outputs": []
    },
    {
      "cell_type": "code",
      "source": [
        "moviesDF = spark.read.option(\"header\", \"true\").option(\"delimiter\", \";\").json(\"/dataset/movies.json\")\n",
        "moviesDF.show()"
      ],
      "metadata": {
        "colab": {
          "base_uri": "https://localhost:8080/"
        },
        "id": "ECZDFUCz856L",
        "outputId": "d086621d-3237-45c7-c2f1-240e9a96664d"
      },
      "execution_count": null,
      "outputs": [
        {
          "output_type": "stream",
          "name": "stdout",
          "text": [
            "+--------------------+-----------------+--------------+-----------+----------+-----------+-----------+-----------------+------------+----------------------+----------------+-------------------+--------------------+------------+--------+---------------+\n",
            "|       Creative_Type|         Director|   Distributor|IMDB_Rating|IMDB_Votes|MPAA_Rating|Major_Genre|Production_Budget|Release_Date|Rotten_Tomatoes_Rating|Running_Time_min|             Source|               Title|US_DVD_Sales|US_Gross|Worldwide_Gross|\n",
            "+--------------------+-----------------+--------------+-----------+----------+-----------+-----------+-----------------+------------+----------------------+----------------+-------------------+--------------------+------------+--------+---------------+\n",
            "|                NULL|             NULL|      Gramercy|        6.1|      1071|          R|       NULL|          8000000|   12-Jun-98|                  NULL|            NULL|               NULL|      The Land Girls|        NULL|  146083|         146083|\n",
            "|                NULL|             NULL|        Strand|        6.9|       207|          R|      Drama|           300000|    7-Aug-98|                  NULL|            NULL|               NULL|First Love, Last ...|        NULL|   10876|          10876|\n",
            "|                NULL|             NULL|     Lionsgate|        6.8|       865|       NULL|     Comedy|           250000|   28-Aug-98|                  NULL|            NULL|               NULL|I Married a Stran...|        NULL|  203134|         203134|\n",
            "|                NULL|             NULL|     Fine Line|       NULL|      NULL|       NULL|     Comedy|           300000|   11-Sep-98|                    13|            NULL|               NULL|Let's Talk About Sex|        NULL|  373615|         373615|\n",
            "|Contemporary Fiction|             NULL|       Trimark|        3.4|       165|          R|      Drama|          1000000|    9-Oct-98|                    62|            NULL|Original Screenplay|                Slam|        NULL| 1009819|        1087521|\n",
            "|                NULL|             NULL|           MGM|       NULL|      NULL|       NULL|       NULL|          1600000|   15-Jan-99|                  NULL|            NULL|               NULL| Mississippi Mermaid|        NULL|   24551|        2624551|\n",
            "|                NULL|Christopher Nolan|     Zeitgeist|        7.7|     15133|          R|       NULL|             6000|    4-Apr-99|                  NULL|            NULL|               NULL|           Following|        NULL|   44705|          44705|\n",
            "|Contemporary Fiction|             NULL|       Artisan|        3.8|       353|          R|     Comedy|          1600000|    9-Apr-99|                  NULL|            NULL|Original Screenplay|             Foolish|        NULL| 6026908|        6026908|\n",
            "|                NULL|   Roman Polanski|          NULL|        5.8|      3275|          R|       NULL|         40000000|    1-Jul-86|                    25|            NULL|               NULL|             Pirates|        NULL| 1641825|        6341825|\n",
            "|                NULL|             NULL|          NULL|        7.0|      2906|       NULL|       NULL|          6000000|   31-Dec-46|                    86|            NULL|               NULL|     Duel in the Sun|        NULL|20400000|       20400000|\n",
            "|                NULL|             NULL|          NULL|        7.0|      4035|       NULL|       NULL|          1000000|    7-Oct-63|                    81|            NULL|               NULL|           Tom Jones|        NULL|37600000|       37600000|\n",
            "|                NULL|             NULL| Sony Pictures|        7.5|      9111|       NULL|    Musical|         10000000|   11-Dec-68|                    84|            NULL|               NULL|             Oliver!|        NULL|37402877|       37402877|\n",
            "|                NULL|             NULL|     Universal|        8.4|     82786|       NULL|       NULL|          2000000|   25-Dec-62|                    97|            NULL|               NULL|To Kill A Mocking...|        NULL|13129846|       13129846|\n",
            "|                NULL|Richard Fleischer|          NULL|       NULL|      NULL|       NULL|       NULL|         25000000|   23-Sep-70|                  NULL|            NULL|               NULL|    Tora, Tora, Tora|        NULL|29548291|       29548291|\n",
            "|                NULL|             NULL|          NULL|        6.8|      1532|       NULL|       NULL|           100000|    1-Mar-87|                    87|            NULL|               NULL|   Hollywood Shuffle|        NULL| 5228617|        5228617|\n",
            "|                NULL|             NULL|          NULL|       NULL|      NULL|       NULL|       NULL|           100000|   17-Sep-20|                  NULL|            NULL|               NULL|Over the Hill to ...|        NULL| 3000000|        3000000|\n",
            "|                NULL|             NULL|          NULL|        7.0|       451|       NULL|       NULL|          5200000|    1-Aug-44|                  NULL|            NULL|               NULL|              Wilson|        NULL| 2000000|        2000000|\n",
            "|                NULL|    Blake Edwards|          NULL|        6.1|       858|       NULL|       NULL|         22000000|    1-Jan-70|                  NULL|            NULL|               NULL|        Darling Lili|        NULL| 5000000|        5000000|\n",
            "|                NULL|             NULL|          NULL|        2.5|      1677|       NULL|       NULL|         13500000|    5-Oct-56|                    90|            NULL|               NULL|The Ten Commandments|        NULL|80000000|       80000000|\n",
            "|                NULL|     Sidney Lumet|United Artists|        8.9|    119101|       NULL|      Drama|           340000|   13-Apr-57|                  NULL|            NULL|Original Screenplay|        12 Angry Men|        NULL|       0|              0|\n",
            "+--------------------+-----------------+--------------+-----------+----------+-----------+-----------+-----------------+------------+----------------------+----------------+-------------------+--------------------+------------+--------+---------------+\n",
            "only showing top 20 rows\n",
            "\n"
          ]
        }
      ]
    },
    {
      "cell_type": "code",
      "source": [
        "moviesDF.select(\"Title\", \"Worldwide_Gross\").show()"
      ],
      "metadata": {
        "colab": {
          "base_uri": "https://localhost:8080/"
        },
        "id": "a8v37Z1J_Pix",
        "outputId": "eab09671-1727-4a71-fc77-8ee8483aaf14"
      },
      "execution_count": null,
      "outputs": [
        {
          "output_type": "stream",
          "name": "stdout",
          "text": [
            "+--------------------+---------------+\n",
            "|               Title|Worldwide_Gross|\n",
            "+--------------------+---------------+\n",
            "|      The Land Girls|         146083|\n",
            "|First Love, Last ...|          10876|\n",
            "|I Married a Stran...|         203134|\n",
            "|Let's Talk About Sex|         373615|\n",
            "|                Slam|        1087521|\n",
            "| Mississippi Mermaid|        2624551|\n",
            "|           Following|          44705|\n",
            "|             Foolish|        6026908|\n",
            "|             Pirates|        6341825|\n",
            "|     Duel in the Sun|       20400000|\n",
            "|           Tom Jones|       37600000|\n",
            "|             Oliver!|       37402877|\n",
            "|To Kill A Mocking...|       13129846|\n",
            "|    Tora, Tora, Tora|       29548291|\n",
            "|   Hollywood Shuffle|        5228617|\n",
            "|Over the Hill to ...|        3000000|\n",
            "|              Wilson|        2000000|\n",
            "|        Darling Lili|        5000000|\n",
            "|The Ten Commandments|       80000000|\n",
            "|        12 Angry Men|              0|\n",
            "+--------------------+---------------+\n",
            "only showing top 20 rows\n",
            "\n"
          ]
        }
      ]
    },
    {
      "cell_type": "code",
      "source": [
        "total_worldwide_profit = moviesDF.agg(spark_sum(\"Worldwide_Gross\").alias(\"Total_Worldwide_Profit\")).collect()[0][\"Total_Worldwide_Profit\"]\n"
      ],
      "metadata": {
        "id": "Gi60v2aXAXHQ"
      },
      "execution_count": null,
      "outputs": []
    },
    {
      "cell_type": "code",
      "source": [
        "result_df = spark.createDataFrame([(total_worldwide_profit,)], [\"Total_Worldwide_Profit\"])\n"
      ],
      "metadata": {
        "id": "4y0AzrE7AaYr"
      },
      "execution_count": null,
      "outputs": []
    },
    {
      "cell_type": "code",
      "source": [
        "result_df.show()"
      ],
      "metadata": {
        "colab": {
          "base_uri": "https://localhost:8080/"
        },
        "id": "RLZ6y4X3Ad7j",
        "outputId": "ef25e5ed-9585-46e9-8083-81fc82abf9c3"
      },
      "execution_count": null,
      "outputs": [
        {
          "output_type": "stream",
          "name": "stdout",
          "text": [
            "+----------------------+\n",
            "|Total_Worldwide_Profit|\n",
            "+----------------------+\n",
            "|          272586820052|\n",
            "+----------------------+\n",
            "\n"
          ]
        }
      ]
    },
    {
      "cell_type": "code",
      "source": [
        "director_worldwide_profit = moviesDF.groupBy(\"Director\").agg(spark_sum(\"Worldwide_Gross\").alias(\"Director_Worldwide_Profit\"))"
      ],
      "metadata": {
        "id": "PHuqXeIDA3lC"
      },
      "execution_count": null,
      "outputs": []
    },
    {
      "cell_type": "code",
      "source": [
        "director_worldwide_profit.show(truncate=False)"
      ],
      "metadata": {
        "colab": {
          "base_uri": "https://localhost:8080/"
        },
        "id": "1PgtYwjCA43J",
        "outputId": "c3e8b963-5fce-4f6e-ad85-39e4ad9306c4"
      },
      "execution_count": null,
      "outputs": [
        {
          "output_type": "stream",
          "name": "stdout",
          "text": [
            "+-------------------+-------------------------+\n",
            "|Director           |Director_Worldwide_Profit|\n",
            "+-------------------+-------------------------+\n",
            "|John Milius        |52735525                 |\n",
            "|Jim Jarmusch       |6030230                  |\n",
            "|Sheldon Lettich    |29090445                 |\n",
            "|Chan-wook Park     |23471871                 |\n",
            "|King Vidor         |73702232                 |\n",
            "|Jared Hess         |145338949                |\n",
            "|Michael Curtiz     |25462500                 |\n",
            "|Steven Seagal      |38590458                 |\n",
            "|Bradley Rust Grey  |25572                    |\n",
            "|Jeff Burr          |1355728                  |\n",
            "|Bob Rafelson       |45283350                 |\n",
            "|Paul Michael Glaser|38122000                 |\n",
            "|Griffin Dunne      |68450430                 |\n",
            "|Mark Waters        |563693780                |\n",
            "|Richard Fleischer  |91054152                 |\n",
            "|Akira Kurosawa     |320592                   |\n",
            "|Mira Nair          |79806867                 |\n",
            "|Denzel Washington  |53593730                 |\n",
            "|Billy Bob Thornton |18120267                 |\n",
            "|Emilio Estevez     |20597806                 |\n",
            "+-------------------+-------------------------+\n",
            "only showing top 20 rows\n",
            "\n"
          ]
        }
      ]
    },
    {
      "cell_type": "markdown",
      "metadata": {
        "id": "x_KjX-qxvlYP"
      },
      "source": [
        "Exercise 2"
      ]
    },
    {
      "cell_type": "code",
      "source": [
        "director_count = moviesDF.select(countDistinct(\"Director\").alias(\"DistinctDirectors\")).collect()[0][\"DistinctDirectors\"]"
      ],
      "metadata": {
        "id": "SQMKxj8UDwok"
      },
      "execution_count": null,
      "outputs": []
    },
    {
      "cell_type": "code",
      "source": [
        "result_df = spark.createDataFrame([(director_count,)], [\"TotalDistinctDirectors\"])"
      ],
      "metadata": {
        "id": "i-eB2LcrCzQZ"
      },
      "execution_count": null,
      "outputs": []
    },
    {
      "cell_type": "code",
      "source": [
        "result_df.show(truncate=False)"
      ],
      "metadata": {
        "colab": {
          "base_uri": "https://localhost:8080/"
        },
        "id": "ysRrvcU7EMIQ",
        "outputId": "a4ceaff7-5471-498f-cf52-7780b72765fd"
      },
      "execution_count": null,
      "outputs": [
        {
          "output_type": "stream",
          "name": "stdout",
          "text": [
            "+----------------------+\n",
            "|TotalDistinctDirectors|\n",
            "+----------------------+\n",
            "|550                   |\n",
            "+----------------------+\n",
            "\n"
          ]
        }
      ]
    },
    {
      "cell_type": "markdown",
      "metadata": {
        "id": "x6iJ5GWlvlYQ"
      },
      "source": [
        "Exercise 3"
      ]
    },
    {
      "cell_type": "code",
      "source": [
        "from pyspark.sql.functions import avg, col"
      ],
      "metadata": {
        "id": "xjRJsKXpFLNv"
      },
      "execution_count": null,
      "outputs": []
    },
    {
      "cell_type": "code",
      "source": [
        "worldwide_gross_mean = moviesDF.select(mean(col(\"Worldwide_Gross\")).alias(\"Mean_Worldwide_Gross\"))"
      ],
      "metadata": {
        "id": "Eb4ju6dbF_Li"
      },
      "execution_count": null,
      "outputs": []
    },
    {
      "cell_type": "code",
      "source": [
        "worldwide_gross_mean.show(truncate=False)"
      ],
      "metadata": {
        "colab": {
          "base_uri": "https://localhost:8080/"
        },
        "id": "-exq8tTLFjkS",
        "outputId": "f80abb56-a9ec-4a75-c2e4-7acecad1c8bb"
      },
      "execution_count": null,
      "outputs": [
        {
          "output_type": "stream",
          "name": "stdout",
          "text": [
            "+--------------------+\n",
            "|Mean_Worldwide_Gross|\n",
            "+--------------------+\n",
            "|8.534340014151534E7 |\n",
            "+--------------------+\n",
            "\n"
          ]
        }
      ]
    },
    {
      "cell_type": "code",
      "source": [
        "moviesDF.select(avg(moviesDF.Worldwide_Gross)).show()"
      ],
      "metadata": {
        "colab": {
          "base_uri": "https://localhost:8080/"
        },
        "id": "fMBmyguHG9Gm",
        "outputId": "cdf9659d-68f2-4f66-de1d-31ae6831c4ce"
      },
      "execution_count": null,
      "outputs": [
        {
          "output_type": "stream",
          "name": "stdout",
          "text": [
            "+--------------------+\n",
            "|avg(Worldwide_Gross)|\n",
            "+--------------------+\n",
            "| 8.534340014151534E7|\n",
            "+--------------------+\n",
            "\n"
          ]
        }
      ]
    },
    {
      "cell_type": "code",
      "source": [
        "moviesDF.select(stddev(moviesDF.Worldwide_Gross)).show()"
      ],
      "metadata": {
        "colab": {
          "base_uri": "https://localhost:8080/"
        },
        "id": "5DNyMJK-H7lg",
        "outputId": "e5e61ccf-9988-44a8-fc25-40fd793ea34a"
      },
      "execution_count": null,
      "outputs": [
        {
          "output_type": "stream",
          "name": "stdout",
          "text": [
            "+-----------------------+\n",
            "|stddev(Worldwide_Gross)|\n",
            "+-----------------------+\n",
            "|   1.4994734288536233E8|\n",
            "+-----------------------+\n",
            "\n"
          ]
        }
      ]
    },
    {
      "cell_type": "markdown",
      "metadata": {
        "id": "qTyt8CotvlYQ"
      },
      "source": [
        "Exercise 4"
      ]
    },
    {
      "cell_type": "code",
      "source": [
        "moviesDF.select(avg(moviesDF.IMDB_Rating)).show()"
      ],
      "metadata": {
        "colab": {
          "base_uri": "https://localhost:8080/"
        },
        "id": "U5oLsZZjIInZ",
        "outputId": "24aca37c-863b-494f-9477-03c7adc9481c"
      },
      "execution_count": null,
      "outputs": [
        {
          "output_type": "stream",
          "name": "stdout",
          "text": [
            "+-----------------+\n",
            "| avg(IMDB_Rating)|\n",
            "+-----------------+\n",
            "|6.283467202141896|\n",
            "+-----------------+\n",
            "\n"
          ]
        }
      ]
    },
    {
      "cell_type": "code",
      "source": [
        "moviesDF.select(avg(moviesDF.US_Gross)).show()"
      ],
      "metadata": {
        "colab": {
          "base_uri": "https://localhost:8080/"
        },
        "id": "0tu846eKITO9",
        "outputId": "4a4acc6d-1b19-4a1d-dc95-d82616cc21e0"
      },
      "execution_count": null,
      "outputs": [
        {
          "output_type": "stream",
          "name": "stdout",
          "text": [
            "+--------------------+\n",
            "|       avg(US_Gross)|\n",
            "+--------------------+\n",
            "|4.4002085163744524E7|\n",
            "+--------------------+\n",
            "\n"
          ]
        }
      ]
    },
    {
      "cell_type": "code",
      "source": [
        "director_stats = moviesDF.groupBy(\"Director\").agg(avg(\"IMDB_Rating\").alias(\"Average_IMDB_Rating\"), avg(\"US_Gross\").alias(\"Average_US_Gross\"))"
      ],
      "metadata": {
        "id": "4FnTWndmI0zI"
      },
      "execution_count": null,
      "outputs": []
    },
    {
      "cell_type": "code",
      "source": [
        "director_stats.show(truncate=False)"
      ],
      "metadata": {
        "colab": {
          "base_uri": "https://localhost:8080/"
        },
        "id": "y292VJQdI_rh",
        "outputId": "67b870d0-ac3f-44b7-bcd3-6b369966c650"
      },
      "execution_count": null,
      "outputs": [
        {
          "output_type": "stream",
          "name": "stdout",
          "text": [
            "+-------------------+-------------------+----------------+\n",
            "|Director           |Average_IMDB_Rating|Average_US_Gross|\n",
            "+-------------------+-------------------+----------------+\n",
            "|John Milius        |6.05               |2.63677625E7    |\n",
            "|Jim Jarmusch       |NULL               |3330230.0       |\n",
            "|Sheldon Lettich    |4.7                |2.9090445E7     |\n",
            "|Chan-wook Park     |7.7                |211667.0        |\n",
            "|King Vidor         |7.375              |1.5675558E7     |\n",
            "|Jared Hess         |6.300000000000001  |6.23694745E7    |\n",
            "|Michael Curtiz     |7.5                |8487500.0       |\n",
            "|Steven Seagal      |3.8                |3.8590458E7     |\n",
            "|Bradley Rust Grey  |6.2                |25572.0         |\n",
            "|Jeff Burr          |5.6                |1355728.0       |\n",
            "|Bob Rafelson       |6.25               |6641675.0       |\n",
            "|Paul Michael Glaser|6.4                |3.8122E7        |\n",
            "|Griffin Dunne      |5.5                |2.34819955E7    |\n",
            "|Mark Waters        |6.380000000000001  |6.52360426E7    |\n",
            "|Richard Fleischer  |4.9                |2.2763538E7     |\n",
            "|Akira Kurosawa     |8.100000000000001  |160296.0        |\n",
            "|Mira Nair          |6.5200000000000005 |1.07934975E7    |\n",
            "|Denzel Washington  |7.449999999999999  |2.56521445E7    |\n",
            "|Billy Bob Thornton |5.7                |1.5527125E7     |\n",
            "|Emilio Estevez     |7.1                |1.1242801E7     |\n",
            "+-------------------+-------------------+----------------+\n",
            "only showing top 20 rows\n",
            "\n"
          ]
        }
      ]
    },
    {
      "cell_type": "markdown",
      "source": [
        "Compute the average IMDB rating and the average US gross revenue PER DIRECTOR"
      ],
      "metadata": {
        "id": "Ll4haEijIKry"
      }
    },
    {
      "cell_type": "markdown",
      "metadata": {
        "id": "HOs_Y_y0vlYQ"
      },
      "source": [
        "Exercise 5:Sum up ALL the profits of ALL the movies in the DF. Then sum ALL the profits per director. Can you see null values? Why? How you can solve it?"
      ]
    },
    {
      "cell_type": "markdown",
      "source": [],
      "metadata": {
        "id": "YixkefqpIKAR"
      }
    },
    {
      "cell_type": "code",
      "source": [
        "directorDF = moviesDF.select(countDistinct(\"Director\").alias(\"DistinctDirectorsCount\"))\n",
        "directorDF.show()"
      ],
      "metadata": {
        "colab": {
          "base_uri": "https://localhost:8080/"
        },
        "id": "CJIbWC29W-Ij",
        "outputId": "1c21749d-8ff9-4c90-d5ee-12c5b8928d6b"
      },
      "execution_count": null,
      "outputs": [
        {
          "output_type": "stream",
          "name": "stdout",
          "text": [
            "+----------------------+\n",
            "|DistinctDirectorsCount|\n",
            "+----------------------+\n",
            "|                   550|\n",
            "+----------------------+\n",
            "\n"
          ]
        }
      ]
    },
    {
      "cell_type": "code",
      "source": [
        "spark.sql(\"Select Title, sum(Worldwide_Gross) as sum_wg \\\n",
        "            from movies \\\n",
        "            where Worldwide_Gross IS NOT NULL and Title IS NOT NULL \\\n",
        "            group by Title \\\n",
        "            order by Title\").show()"
      ],
      "metadata": {
        "colab": {
          "base_uri": "https://localhost:8080/"
        },
        "id": "UCfMpJVbXClj",
        "outputId": "fc2a6131-8614-4660-8925-48c5666a5c5c"
      },
      "execution_count": null,
      "outputs": [
        {
          "output_type": "stream",
          "name": "stdout",
          "text": [
            "+--------------------+---------+\n",
            "|               Title|   sum_wg|\n",
            "+--------------------+---------+\n",
            "|         10,000 B.C.|269065678|\n",
            "|      102 Dalmatians| 66941559|\n",
            "|         10th & Wolf|    54702|\n",
            "|               11:14|        0|\n",
            "|        12 Angry Men|        0|\n",
            "|           12 Rounds| 18184083|\n",
            "|      13 Going On 30| 96439723|\n",
            "|                1408|128529299|\n",
            "|          15 Minutes| 56331864|\n",
            "|           16 Blocks| 65595141|\n",
            "|          16 to Life|    10744|\n",
            "|                1776|        0|\n",
            "|                1941| 94875000|\n",
            "|    2 Fast 2 Furious|236220058|\n",
            "|     2 For the Money| 27848418|\n",
            "|            20 Dates|   541636|\n",
            "|20,000 Leagues Un...| 36200000|\n",
            "|      200 Cigarettes|  6852450|\n",
            "|2001: A Space Ody...| 68700000|\n",
            "|                2012|766812167|\n",
            "+--------------------+---------+\n",
            "only showing top 20 rows\n",
            "\n"
          ]
        }
      ]
    },
    {
      "cell_type": "code",
      "source": [
        "spark.sql(\"Select Title, sum(Worldwide_Gross) as Worldwide_Gross \\\n",
        "            from movies \\\n",
        "            where Worldwide_Gross IS NOT NULL and Title IS NOT NULL \\\n",
        "            group by Title \\\n",
        "            order by Title\").show()"
      ],
      "metadata": {
        "colab": {
          "base_uri": "https://localhost:8080/"
        },
        "id": "n0VS7dANXGu5",
        "outputId": "9856cc89-9ad0-4af7-cc26-a03540e9209a"
      },
      "execution_count": null,
      "outputs": [
        {
          "output_type": "stream",
          "name": "stdout",
          "text": [
            "+--------------------+---------------+\n",
            "|               Title|Worldwide_Gross|\n",
            "+--------------------+---------------+\n",
            "|         10,000 B.C.|      269065678|\n",
            "|      102 Dalmatians|       66941559|\n",
            "|         10th & Wolf|          54702|\n",
            "|               11:14|              0|\n",
            "|        12 Angry Men|              0|\n",
            "|           12 Rounds|       18184083|\n",
            "|      13 Going On 30|       96439723|\n",
            "|                1408|      128529299|\n",
            "|          15 Minutes|       56331864|\n",
            "|           16 Blocks|       65595141|\n",
            "|          16 to Life|          10744|\n",
            "|                1776|              0|\n",
            "|                1941|       94875000|\n",
            "|    2 Fast 2 Furious|      236220058|\n",
            "|     2 For the Money|       27848418|\n",
            "|            20 Dates|         541636|\n",
            "|20,000 Leagues Un...|       36200000|\n",
            "|      200 Cigarettes|        6852450|\n",
            "|2001: A Space Ody...|       68700000|\n",
            "|                2012|      766812167|\n",
            "+--------------------+---------------+\n",
            "only showing top 20 rows\n",
            "\n"
          ]
        }
      ]
    }
  ],
  "metadata": {
    "colab": {
      "collapsed_sections": [
        "M7Ab75vzvlYK",
        "BrbK9dgcvlYO",
        "cQ3xjlDxvlYP"
      ],
      "provenance": []
    },
    "kernelspec": {
      "display_name": "Python 3.10.0 64-bit",
      "language": "python",
      "name": "python3"
    },
    "language_info": {
      "codemirror_mode": {
        "name": "ipython",
        "version": 3
      },
      "file_extension": ".py",
      "mimetype": "text/x-python",
      "name": "python",
      "nbconvert_exporter": "python",
      "pygments_lexer": "ipython3",
      "version": "3.10.0"
    },
    "orig_nbformat": 4,
    "vscode": {
      "interpreter": {
        "hash": "ff1af5cda0bea4fe5c4ebc1f94ab9f13d8998f98d08e16d8aba48673b9d00116"
      }
    }
  },
  "nbformat": 4,
  "nbformat_minor": 0
}